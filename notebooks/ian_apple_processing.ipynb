{
 "cells": [
  {
   "cell_type": "code",
   "execution_count": 1,
   "metadata": {},
   "outputs": [],
   "source": [
    "import pandas as pd\n",
    "import numpy as np"
   ]
  },
  {
   "cell_type": "code",
   "execution_count": 148,
   "metadata": {},
   "outputs": [
    {
     "data": {
      "text/html": [
       "<div>\n",
       "<style scoped>\n",
       "    .dataframe tbody tr th:only-of-type {\n",
       "        vertical-align: middle;\n",
       "    }\n",
       "\n",
       "    .dataframe tbody tr th {\n",
       "        vertical-align: top;\n",
       "    }\n",
       "\n",
       "    .dataframe thead th {\n",
       "        text-align: right;\n",
       "    }\n",
       "</style>\n",
       "<table border=\"1\" class=\"dataframe\">\n",
       "  <thead>\n",
       "    <tr style=\"text-align: right;\">\n",
       "      <th></th>\n",
       "      <th>ticker</th>\n",
       "      <th>date</th>\n",
       "      <th>RSI</th>\n",
       "      <th>Stochastic</th>\n",
       "      <th>Stochastic_signal</th>\n",
       "      <th>ADI</th>\n",
       "      <th>OBV</th>\n",
       "      <th>ATR</th>\n",
       "      <th>ADX</th>\n",
       "      <th>ADX_pos</th>\n",
       "      <th>ADX_neg</th>\n",
       "      <th>MACD</th>\n",
       "      <th>MACD_diff</th>\n",
       "      <th>MACD_signal</th>\n",
       "      <th>5TD_return</th>\n",
       "      <th>10TD_return</th>\n",
       "      <th>20TD_return</th>\n",
       "    </tr>\n",
       "  </thead>\n",
       "  <tbody>\n",
       "    <tr>\n",
       "      <th>0</th>\n",
       "      <td>AAPL</td>\n",
       "      <td>1984-10-24</td>\n",
       "      <td>57.978007</td>\n",
       "      <td>76.690103</td>\n",
       "      <td>69.424914</td>\n",
       "      <td>-5.139242e+09</td>\n",
       "      <td>387549732</td>\n",
       "      <td>0.003297</td>\n",
       "      <td>19.036526</td>\n",
       "      <td>35.250645</td>\n",
       "      <td>23.135370</td>\n",
       "      <td>-0.000432</td>\n",
       "      <td>0.001254</td>\n",
       "      <td>-0.001687</td>\n",
       "      <td>-0.052010</td>\n",
       "      <td>-0.018263</td>\n",
       "      <td>-0.119206</td>\n",
       "    </tr>\n",
       "    <tr>\n",
       "      <th>1</th>\n",
       "      <td>AAPL</td>\n",
       "      <td>1984-10-25</td>\n",
       "      <td>49.247645</td>\n",
       "      <td>56.625203</td>\n",
       "      <td>68.325221</td>\n",
       "      <td>-5.322591e+09</td>\n",
       "      <td>204200382</td>\n",
       "      <td>0.003326</td>\n",
       "      <td>18.051296</td>\n",
       "      <td>32.458308</td>\n",
       "      <td>29.224107</td>\n",
       "      <td>-0.000390</td>\n",
       "      <td>0.001037</td>\n",
       "      <td>-0.001427</td>\n",
       "      <td>-0.009378</td>\n",
       "      <td>-0.022156</td>\n",
       "      <td>-0.060181</td>\n",
       "    </tr>\n",
       "    <tr>\n",
       "      <th>2</th>\n",
       "      <td>AAPL</td>\n",
       "      <td>1984-10-26</td>\n",
       "      <td>44.483899</td>\n",
       "      <td>43.374797</td>\n",
       "      <td>58.896701</td>\n",
       "      <td>-5.425815e+09</td>\n",
       "      <td>71070262</td>\n",
       "      <td>0.003286</td>\n",
       "      <td>17.088681</td>\n",
       "      <td>30.521333</td>\n",
       "      <td>33.447714</td>\n",
       "      <td>-0.000548</td>\n",
       "      <td>0.000704</td>\n",
       "      <td>-0.001251</td>\n",
       "      <td>0.009726</td>\n",
       "      <td>-0.055397</td>\n",
       "      <td>-0.026218</td>\n",
       "    </tr>\n",
       "    <tr>\n",
       "      <th>3</th>\n",
       "      <td>AAPL</td>\n",
       "      <td>1984-10-29</td>\n",
       "      <td>45.183124</td>\n",
       "      <td>44.997296</td>\n",
       "      <td>48.332432</td>\n",
       "      <td>-5.484525e+09</td>\n",
       "      <td>129780480</td>\n",
       "      <td>0.003117</td>\n",
       "      <td>16.194824</td>\n",
       "      <td>29.881216</td>\n",
       "      <td>32.746222</td>\n",
       "      <td>-0.000641</td>\n",
       "      <td>0.000488</td>\n",
       "      <td>-0.001129</td>\n",
       "      <td>0.000000</td>\n",
       "      <td>-0.025925</td>\n",
       "      <td>-0.003162</td>\n",
       "    </tr>\n",
       "    <tr>\n",
       "      <th>4</th>\n",
       "      <td>AAPL</td>\n",
       "      <td>1984-10-30</td>\n",
       "      <td>48.093222</td>\n",
       "      <td>51.703624</td>\n",
       "      <td>46.691906</td>\n",
       "      <td>-5.570994e+09</td>\n",
       "      <td>216248865</td>\n",
       "      <td>0.003048</td>\n",
       "      <td>15.133939</td>\n",
       "      <td>31.950924</td>\n",
       "      <td>31.104445</td>\n",
       "      <td>-0.000608</td>\n",
       "      <td>0.000417</td>\n",
       "      <td>-0.001025</td>\n",
       "      <td>0.048060</td>\n",
       "      <td>-0.060959</td>\n",
       "      <td>0.035265</td>\n",
       "    </tr>\n",
       "  </tbody>\n",
       "</table>\n",
       "</div>"
      ],
      "text/plain": [
       "  ticker        date        RSI  Stochastic  Stochastic_signal           ADI  \\\n",
       "0   AAPL  1984-10-24  57.978007   76.690103          69.424914 -5.139242e+09   \n",
       "1   AAPL  1984-10-25  49.247645   56.625203          68.325221 -5.322591e+09   \n",
       "2   AAPL  1984-10-26  44.483899   43.374797          58.896701 -5.425815e+09   \n",
       "3   AAPL  1984-10-29  45.183124   44.997296          48.332432 -5.484525e+09   \n",
       "4   AAPL  1984-10-30  48.093222   51.703624          46.691906 -5.570994e+09   \n",
       "\n",
       "         OBV       ATR        ADX    ADX_pos    ADX_neg      MACD  MACD_diff  \\\n",
       "0  387549732  0.003297  19.036526  35.250645  23.135370 -0.000432   0.001254   \n",
       "1  204200382  0.003326  18.051296  32.458308  29.224107 -0.000390   0.001037   \n",
       "2   71070262  0.003286  17.088681  30.521333  33.447714 -0.000548   0.000704   \n",
       "3  129780480  0.003117  16.194824  29.881216  32.746222 -0.000641   0.000488   \n",
       "4  216248865  0.003048  15.133939  31.950924  31.104445 -0.000608   0.000417   \n",
       "\n",
       "   MACD_signal  5TD_return  10TD_return  20TD_return  \n",
       "0    -0.001687   -0.052010    -0.018263    -0.119206  \n",
       "1    -0.001427   -0.009378    -0.022156    -0.060181  \n",
       "2    -0.001251    0.009726    -0.055397    -0.026218  \n",
       "3    -0.001129    0.000000    -0.025925    -0.003162  \n",
       "4    -0.001025    0.048060    -0.060959     0.035265  "
      ]
     },
     "execution_count": 148,
     "metadata": {},
     "output_type": "execute_result"
    }
   ],
   "source": [
    "input_df = pd.read_csv('../raw_data/processed/AAPL.csv')\n",
    "input_df.head()"
   ]
  },
  {
   "cell_type": "code",
   "execution_count": 149,
   "metadata": {},
   "outputs": [
    {
     "data": {
      "text/plain": [
       "9115"
      ]
     },
     "execution_count": 149,
     "metadata": {},
     "output_type": "execute_result"
    }
   ],
   "source": [
    "len(input_df)"
   ]
  },
  {
   "cell_type": "markdown",
   "metadata": {},
   "source": [
    "## Split into Train/Test\n",
    "Make in generic (i.e. able to change the test size)"
   ]
  },
  {
   "cell_type": "code",
   "execution_count": 150,
   "metadata": {},
   "outputs": [],
   "source": [
    "def train_test_split(df, test_set_size):\n",
    "    \"\"\"\n",
    "    Split the preprocessed stock data file into a train and test dataset\n",
    "    INPUT: the dataframe to be split, and size of the test set in months or years ('3M' or '2Y')\n",
    "    OUTPUT: returns a train_set and test_set dataframe, index is set to the date\n",
    "    \n",
    "    EXAMPLE: train_set, test_set = train_test_split(input_df, '3Y')\n",
    "    \"\"\"\n",
    "    if not np.issubdtype(df['date'].dtype, np.datetime64):\n",
    "        df['date'] = pd.to_datetime(df['date'], format=('%Y-%m-%d'))\n",
    "    test_set = df.sort_values(by=\"date\",ascending=True).set_index(\"date\").last(test_set_size)\n",
    "    train_set = df.drop(df.tail(len(test_set)).index).set_index(\"date\")\n",
    "    test_set.reset_index(inplace=True)\n",
    "    train_set.reset_index(inplace=True)\n",
    "    return train_set, test_set"
   ]
  },
  {
   "cell_type": "code",
   "execution_count": 151,
   "metadata": {},
   "outputs": [
    {
     "name": "stdout",
     "output_type": "stream",
     "text": [
      "len input_df:  9115\n",
      "len test_set:  751\n",
      "len train_set:  8364\n",
      "len train_set + test_set:  9115\n"
     ]
    }
   ],
   "source": [
    "train_set, test_set = train_test_split(input_df, '3Y')\n",
    "\n",
    "print('len input_df: ', len(input_df))\n",
    "print('len test_set: ', len(test_set))\n",
    "print('len train_set: ', len(train_set))\n",
    "print('len train_set + test_set: ', len(train_set) + len(test_set))"
   ]
  },
  {
   "cell_type": "markdown",
   "metadata": {},
   "source": [
    "## Binary Threshold for Returns\n",
    "Able to input any threshold value"
   ]
  },
  {
   "cell_type": "code",
   "execution_count": 77,
   "metadata": {},
   "outputs": [
    {
     "data": {
      "text/html": [
       "<div>\n",
       "<style scoped>\n",
       "    .dataframe tbody tr th:only-of-type {\n",
       "        vertical-align: middle;\n",
       "    }\n",
       "\n",
       "    .dataframe tbody tr th {\n",
       "        vertical-align: top;\n",
       "    }\n",
       "\n",
       "    .dataframe thead th {\n",
       "        text-align: right;\n",
       "    }\n",
       "</style>\n",
       "<table border=\"1\" class=\"dataframe\">\n",
       "  <thead>\n",
       "    <tr style=\"text-align: right;\">\n",
       "      <th></th>\n",
       "      <th>date</th>\n",
       "      <th>ticker</th>\n",
       "      <th>RSI</th>\n",
       "      <th>Stochastic</th>\n",
       "      <th>Stochastic_signal</th>\n",
       "      <th>ADI</th>\n",
       "      <th>OBV</th>\n",
       "      <th>ATR</th>\n",
       "      <th>ADX</th>\n",
       "      <th>ADX_pos</th>\n",
       "      <th>ADX_neg</th>\n",
       "      <th>MACD</th>\n",
       "      <th>MACD_diff</th>\n",
       "      <th>MACD_signal</th>\n",
       "      <th>5TD_return</th>\n",
       "      <th>10TD_return</th>\n",
       "      <th>20TD_return</th>\n",
       "      <th>5TD_return_B</th>\n",
       "      <th>10TD_return_B</th>\n",
       "      <th>20TD_return_B</th>\n",
       "    </tr>\n",
       "  </thead>\n",
       "  <tbody>\n",
       "    <tr>\n",
       "      <th>0</th>\n",
       "      <td>1984-10-24</td>\n",
       "      <td>AAPL</td>\n",
       "      <td>57.978007</td>\n",
       "      <td>76.690103</td>\n",
       "      <td>69.424914</td>\n",
       "      <td>-5.139242e+09</td>\n",
       "      <td>387549732</td>\n",
       "      <td>0.003297</td>\n",
       "      <td>19.036526</td>\n",
       "      <td>35.250645</td>\n",
       "      <td>23.135370</td>\n",
       "      <td>-0.000432</td>\n",
       "      <td>0.001254</td>\n",
       "      <td>-0.001687</td>\n",
       "      <td>-0.052010</td>\n",
       "      <td>-0.018263</td>\n",
       "      <td>-0.119206</td>\n",
       "      <td>0</td>\n",
       "      <td>0</td>\n",
       "      <td>0</td>\n",
       "    </tr>\n",
       "    <tr>\n",
       "      <th>1</th>\n",
       "      <td>1984-10-25</td>\n",
       "      <td>AAPL</td>\n",
       "      <td>49.247645</td>\n",
       "      <td>56.625203</td>\n",
       "      <td>68.325221</td>\n",
       "      <td>-5.322591e+09</td>\n",
       "      <td>204200382</td>\n",
       "      <td>0.003326</td>\n",
       "      <td>18.051296</td>\n",
       "      <td>32.458308</td>\n",
       "      <td>29.224107</td>\n",
       "      <td>-0.000390</td>\n",
       "      <td>0.001037</td>\n",
       "      <td>-0.001427</td>\n",
       "      <td>-0.009378</td>\n",
       "      <td>-0.022156</td>\n",
       "      <td>-0.060181</td>\n",
       "      <td>0</td>\n",
       "      <td>0</td>\n",
       "      <td>0</td>\n",
       "    </tr>\n",
       "    <tr>\n",
       "      <th>2</th>\n",
       "      <td>1984-10-26</td>\n",
       "      <td>AAPL</td>\n",
       "      <td>44.483899</td>\n",
       "      <td>43.374797</td>\n",
       "      <td>58.896701</td>\n",
       "      <td>-5.425815e+09</td>\n",
       "      <td>71070262</td>\n",
       "      <td>0.003286</td>\n",
       "      <td>17.088681</td>\n",
       "      <td>30.521333</td>\n",
       "      <td>33.447714</td>\n",
       "      <td>-0.000548</td>\n",
       "      <td>0.000704</td>\n",
       "      <td>-0.001251</td>\n",
       "      <td>0.009726</td>\n",
       "      <td>-0.055397</td>\n",
       "      <td>-0.026218</td>\n",
       "      <td>1</td>\n",
       "      <td>0</td>\n",
       "      <td>0</td>\n",
       "    </tr>\n",
       "    <tr>\n",
       "      <th>3</th>\n",
       "      <td>1984-10-29</td>\n",
       "      <td>AAPL</td>\n",
       "      <td>45.183124</td>\n",
       "      <td>44.997296</td>\n",
       "      <td>48.332432</td>\n",
       "      <td>-5.484525e+09</td>\n",
       "      <td>129780480</td>\n",
       "      <td>0.003117</td>\n",
       "      <td>16.194824</td>\n",
       "      <td>29.881216</td>\n",
       "      <td>32.746222</td>\n",
       "      <td>-0.000641</td>\n",
       "      <td>0.000488</td>\n",
       "      <td>-0.001129</td>\n",
       "      <td>0.000000</td>\n",
       "      <td>-0.025925</td>\n",
       "      <td>-0.003162</td>\n",
       "      <td>0</td>\n",
       "      <td>0</td>\n",
       "      <td>0</td>\n",
       "    </tr>\n",
       "    <tr>\n",
       "      <th>4</th>\n",
       "      <td>1984-10-30</td>\n",
       "      <td>AAPL</td>\n",
       "      <td>48.093222</td>\n",
       "      <td>51.703624</td>\n",
       "      <td>46.691906</td>\n",
       "      <td>-5.570994e+09</td>\n",
       "      <td>216248865</td>\n",
       "      <td>0.003048</td>\n",
       "      <td>15.133939</td>\n",
       "      <td>31.950924</td>\n",
       "      <td>31.104445</td>\n",
       "      <td>-0.000608</td>\n",
       "      <td>0.000417</td>\n",
       "      <td>-0.001025</td>\n",
       "      <td>0.048060</td>\n",
       "      <td>-0.060959</td>\n",
       "      <td>0.035265</td>\n",
       "      <td>1</td>\n",
       "      <td>0</td>\n",
       "      <td>1</td>\n",
       "    </tr>\n",
       "  </tbody>\n",
       "</table>\n",
       "</div>"
      ],
      "text/plain": [
       "        date ticker        RSI  Stochastic  Stochastic_signal           ADI  \\\n",
       "0 1984-10-24   AAPL  57.978007   76.690103          69.424914 -5.139242e+09   \n",
       "1 1984-10-25   AAPL  49.247645   56.625203          68.325221 -5.322591e+09   \n",
       "2 1984-10-26   AAPL  44.483899   43.374797          58.896701 -5.425815e+09   \n",
       "3 1984-10-29   AAPL  45.183124   44.997296          48.332432 -5.484525e+09   \n",
       "4 1984-10-30   AAPL  48.093222   51.703624          46.691906 -5.570994e+09   \n",
       "\n",
       "         OBV       ATR        ADX    ADX_pos    ADX_neg      MACD  MACD_diff  \\\n",
       "0  387549732  0.003297  19.036526  35.250645  23.135370 -0.000432   0.001254   \n",
       "1  204200382  0.003326  18.051296  32.458308  29.224107 -0.000390   0.001037   \n",
       "2   71070262  0.003286  17.088681  30.521333  33.447714 -0.000548   0.000704   \n",
       "3  129780480  0.003117  16.194824  29.881216  32.746222 -0.000641   0.000488   \n",
       "4  216248865  0.003048  15.133939  31.950924  31.104445 -0.000608   0.000417   \n",
       "\n",
       "   MACD_signal  5TD_return  10TD_return  20TD_return  5TD_return_B  \\\n",
       "0    -0.001687   -0.052010    -0.018263    -0.119206             0   \n",
       "1    -0.001427   -0.009378    -0.022156    -0.060181             0   \n",
       "2    -0.001251    0.009726    -0.055397    -0.026218             1   \n",
       "3    -0.001129    0.000000    -0.025925    -0.003162             0   \n",
       "4    -0.001025    0.048060    -0.060959     0.035265             1   \n",
       "\n",
       "   10TD_return_B  20TD_return_B  \n",
       "0              0              0  \n",
       "1              0              0  \n",
       "2              0              0  \n",
       "3              0              0  \n",
       "4              0              1  "
      ]
     },
     "execution_count": 77,
     "metadata": {},
     "output_type": "execute_result"
    }
   ],
   "source": [
    "def returns_classification(return_column, returns_threshold):\n",
    "    \"\"\"\n",
    "    Classify the returns versus a defined threshold, and returning either a 1 or 0\n",
    "    INPUT: the dataframes column, and return threshold\n",
    "    OUTPUT: returns a column with 1/0 binary classification \n",
    "    \n",
    "    EXAMPLE: train_set['5TD_return_B'] = returns_classification(train_set['5TD_return'], 0.0006)\n",
    "    \"\"\"\n",
    "    return (return_column > returns_threshold).astype(np.int)\n",
    "\n",
    "train_set['5TD_return_B'] = returns_classification(train_set['5TD_return'], 0.0006)\n",
    "train_set['10TD_return_B'] = returns_classification(train_set['10TD_return'], 0.0012)\n",
    "train_set['20TD_return_B'] = returns_classification(train_set['20TD_return'], 0.0024)\n",
    "train_set.head()"
   ]
  },
  {
   "cell_type": "markdown",
   "metadata": {},
   "source": [
    "## Scale Train Dataset"
   ]
  },
  {
   "cell_type": "code",
   "execution_count": null,
   "metadata": {},
   "outputs": [],
   "source": []
  },
  {
   "cell_type": "code",
   "execution_count": null,
   "metadata": {},
   "outputs": [],
   "source": []
  },
  {
   "cell_type": "code",
   "execution_count": null,
   "metadata": {},
   "outputs": [],
   "source": []
  },
  {
   "cell_type": "markdown",
   "metadata": {},
   "source": [
    "## Turn Windows Into Arrays\n",
    "Able to set:\n",
    "\n",
    "- window size\n",
    "- stride size\n",
    "\n",
    "Start from the newest values"
   ]
  },
  {
   "cell_type": "code",
   "execution_count": 78,
   "metadata": {},
   "outputs": [
    {
     "data": {
      "text/html": [
       "<div>\n",
       "<style scoped>\n",
       "    .dataframe tbody tr th:only-of-type {\n",
       "        vertical-align: middle;\n",
       "    }\n",
       "\n",
       "    .dataframe tbody tr th {\n",
       "        vertical-align: top;\n",
       "    }\n",
       "\n",
       "    .dataframe thead th {\n",
       "        text-align: right;\n",
       "    }\n",
       "</style>\n",
       "<table border=\"1\" class=\"dataframe\">\n",
       "  <thead>\n",
       "    <tr style=\"text-align: right;\">\n",
       "      <th></th>\n",
       "      <th>date</th>\n",
       "      <th>ticker</th>\n",
       "      <th>RSI</th>\n",
       "      <th>Stochastic</th>\n",
       "      <th>Stochastic_signal</th>\n",
       "      <th>ADI</th>\n",
       "      <th>OBV</th>\n",
       "      <th>ATR</th>\n",
       "      <th>ADX</th>\n",
       "      <th>ADX_pos</th>\n",
       "      <th>ADX_neg</th>\n",
       "      <th>MACD</th>\n",
       "      <th>MACD_diff</th>\n",
       "      <th>MACD_signal</th>\n",
       "      <th>5TD_return</th>\n",
       "      <th>10TD_return</th>\n",
       "      <th>20TD_return</th>\n",
       "      <th>5TD_return_B</th>\n",
       "      <th>10TD_return_B</th>\n",
       "      <th>20TD_return_B</th>\n",
       "    </tr>\n",
       "  </thead>\n",
       "  <tbody>\n",
       "    <tr>\n",
       "      <th>0</th>\n",
       "      <td>1984-10-24</td>\n",
       "      <td>AAPL</td>\n",
       "      <td>57.978007</td>\n",
       "      <td>76.690103</td>\n",
       "      <td>69.424914</td>\n",
       "      <td>-5.139242e+09</td>\n",
       "      <td>387549732</td>\n",
       "      <td>0.003297</td>\n",
       "      <td>19.036526</td>\n",
       "      <td>35.250645</td>\n",
       "      <td>23.135370</td>\n",
       "      <td>-0.000432</td>\n",
       "      <td>0.001254</td>\n",
       "      <td>-0.001687</td>\n",
       "      <td>-0.052010</td>\n",
       "      <td>-0.018263</td>\n",
       "      <td>-0.119206</td>\n",
       "      <td>0</td>\n",
       "      <td>0</td>\n",
       "      <td>0</td>\n",
       "    </tr>\n",
       "    <tr>\n",
       "      <th>1</th>\n",
       "      <td>1984-10-25</td>\n",
       "      <td>AAPL</td>\n",
       "      <td>49.247645</td>\n",
       "      <td>56.625203</td>\n",
       "      <td>68.325221</td>\n",
       "      <td>-5.322591e+09</td>\n",
       "      <td>204200382</td>\n",
       "      <td>0.003326</td>\n",
       "      <td>18.051296</td>\n",
       "      <td>32.458308</td>\n",
       "      <td>29.224107</td>\n",
       "      <td>-0.000390</td>\n",
       "      <td>0.001037</td>\n",
       "      <td>-0.001427</td>\n",
       "      <td>-0.009378</td>\n",
       "      <td>-0.022156</td>\n",
       "      <td>-0.060181</td>\n",
       "      <td>0</td>\n",
       "      <td>0</td>\n",
       "      <td>0</td>\n",
       "    </tr>\n",
       "    <tr>\n",
       "      <th>2</th>\n",
       "      <td>1984-10-26</td>\n",
       "      <td>AAPL</td>\n",
       "      <td>44.483899</td>\n",
       "      <td>43.374797</td>\n",
       "      <td>58.896701</td>\n",
       "      <td>-5.425815e+09</td>\n",
       "      <td>71070262</td>\n",
       "      <td>0.003286</td>\n",
       "      <td>17.088681</td>\n",
       "      <td>30.521333</td>\n",
       "      <td>33.447714</td>\n",
       "      <td>-0.000548</td>\n",
       "      <td>0.000704</td>\n",
       "      <td>-0.001251</td>\n",
       "      <td>0.009726</td>\n",
       "      <td>-0.055397</td>\n",
       "      <td>-0.026218</td>\n",
       "      <td>1</td>\n",
       "      <td>0</td>\n",
       "      <td>0</td>\n",
       "    </tr>\n",
       "    <tr>\n",
       "      <th>3</th>\n",
       "      <td>1984-10-29</td>\n",
       "      <td>AAPL</td>\n",
       "      <td>45.183124</td>\n",
       "      <td>44.997296</td>\n",
       "      <td>48.332432</td>\n",
       "      <td>-5.484525e+09</td>\n",
       "      <td>129780480</td>\n",
       "      <td>0.003117</td>\n",
       "      <td>16.194824</td>\n",
       "      <td>29.881216</td>\n",
       "      <td>32.746222</td>\n",
       "      <td>-0.000641</td>\n",
       "      <td>0.000488</td>\n",
       "      <td>-0.001129</td>\n",
       "      <td>0.000000</td>\n",
       "      <td>-0.025925</td>\n",
       "      <td>-0.003162</td>\n",
       "      <td>0</td>\n",
       "      <td>0</td>\n",
       "      <td>0</td>\n",
       "    </tr>\n",
       "    <tr>\n",
       "      <th>4</th>\n",
       "      <td>1984-10-30</td>\n",
       "      <td>AAPL</td>\n",
       "      <td>48.093222</td>\n",
       "      <td>51.703624</td>\n",
       "      <td>46.691906</td>\n",
       "      <td>-5.570994e+09</td>\n",
       "      <td>216248865</td>\n",
       "      <td>0.003048</td>\n",
       "      <td>15.133939</td>\n",
       "      <td>31.950924</td>\n",
       "      <td>31.104445</td>\n",
       "      <td>-0.000608</td>\n",
       "      <td>0.000417</td>\n",
       "      <td>-0.001025</td>\n",
       "      <td>0.048060</td>\n",
       "      <td>-0.060959</td>\n",
       "      <td>0.035265</td>\n",
       "      <td>1</td>\n",
       "      <td>0</td>\n",
       "      <td>1</td>\n",
       "    </tr>\n",
       "  </tbody>\n",
       "</table>\n",
       "</div>"
      ],
      "text/plain": [
       "        date ticker        RSI  Stochastic  Stochastic_signal           ADI  \\\n",
       "0 1984-10-24   AAPL  57.978007   76.690103          69.424914 -5.139242e+09   \n",
       "1 1984-10-25   AAPL  49.247645   56.625203          68.325221 -5.322591e+09   \n",
       "2 1984-10-26   AAPL  44.483899   43.374797          58.896701 -5.425815e+09   \n",
       "3 1984-10-29   AAPL  45.183124   44.997296          48.332432 -5.484525e+09   \n",
       "4 1984-10-30   AAPL  48.093222   51.703624          46.691906 -5.570994e+09   \n",
       "\n",
       "         OBV       ATR        ADX    ADX_pos    ADX_neg      MACD  MACD_diff  \\\n",
       "0  387549732  0.003297  19.036526  35.250645  23.135370 -0.000432   0.001254   \n",
       "1  204200382  0.003326  18.051296  32.458308  29.224107 -0.000390   0.001037   \n",
       "2   71070262  0.003286  17.088681  30.521333  33.447714 -0.000548   0.000704   \n",
       "3  129780480  0.003117  16.194824  29.881216  32.746222 -0.000641   0.000488   \n",
       "4  216248865  0.003048  15.133939  31.950924  31.104445 -0.000608   0.000417   \n",
       "\n",
       "   MACD_signal  5TD_return  10TD_return  20TD_return  5TD_return_B  \\\n",
       "0    -0.001687   -0.052010    -0.018263    -0.119206             0   \n",
       "1    -0.001427   -0.009378    -0.022156    -0.060181             0   \n",
       "2    -0.001251    0.009726    -0.055397    -0.026218             1   \n",
       "3    -0.001129    0.000000    -0.025925    -0.003162             0   \n",
       "4    -0.001025    0.048060    -0.060959     0.035265             1   \n",
       "\n",
       "   10TD_return_B  20TD_return_B  \n",
       "0              0              0  \n",
       "1              0              0  \n",
       "2              0              0  \n",
       "3              0              0  \n",
       "4              0              1  "
      ]
     },
     "execution_count": 78,
     "metadata": {},
     "output_type": "execute_result"
    }
   ],
   "source": [
    "train_set.head()"
   ]
  },
  {
   "cell_type": "code",
   "execution_count": 155,
   "metadata": {},
   "outputs": [
    {
     "data": {
      "text/plain": [
       "Index(['date', 'ticker', 'RSI', 'Stochastic', 'Stochastic_signal', 'ADI',\n",
       "       'OBV', 'ATR', 'ADX', 'ADX_pos', 'ADX_neg', 'MACD', 'MACD_diff',\n",
       "       'MACD_signal', '5TD_return', '10TD_return', '20TD_return'],\n",
       "      dtype='object')"
      ]
     },
     "execution_count": 155,
     "metadata": {},
     "output_type": "execute_result"
    }
   ],
   "source": [
    "train_set.keys()"
   ]
  },
  {
   "cell_type": "code",
   "execution_count": 140,
   "metadata": {},
   "outputs": [],
   "source": [
    "def window_column(df_series, window_size=30, stride_size=5):\n",
    "    \"\"\"\n",
    "    Turns data series into array of windowed arrays\n",
    "    INPUT: the input data series, window size, stride size\n",
    "    OUTPUT: array of windowed arrays \n",
    "    \n",
    "    EXAMPLE: y = window_column(train_set['RSI'], 30, 5)\n",
    "    \"\"\"\n",
    "    np_array = df_series.to_numpy()\n",
    "    nrows = ((np_array.size-window_size)//stride_size)+1\n",
    "    n = np_array.strides[0]\n",
    "    return np.lib.stride_tricks.as_strided(\n",
    "        np_array, shape=(nrows, window_size), strides=(stride_size*n, n))\n",
    "\n",
    "y = window_column(train_set['RSI'], 30, 5)"
   ]
  },
  {
   "cell_type": "code",
   "execution_count": 141,
   "metadata": {},
   "outputs": [
    {
     "data": {
      "text/plain": [
       "array([57.97800667, 49.2476453 , 44.48389879, 45.18312437, 48.09322183,\n",
       "       46.75665291, 48.30386636, 46.83808663, 45.35589207, 58.66884091,\n",
       "       54.20341905, 45.97092954, 37.51473793, 43.71371141, 40.66673425,\n",
       "       42.52432268, 42.52432268, 39.65975297, 32.89959579, 38.83490824,\n",
       "       42.51207194, 47.0463878 , 48.65957779, 52.87317557, 59.91596901,\n",
       "       56.46878408, 51.73749434, 49.73746898, 52.69922749, 59.1697874 ])"
      ]
     },
     "execution_count": 141,
     "metadata": {},
     "output_type": "execute_result"
    }
   ],
   "source": [
    "y[0]"
   ]
  },
  {
   "cell_type": "code",
   "execution_count": 142,
   "metadata": {},
   "outputs": [
    {
     "data": {
      "text/plain": [
       "array([46.75665291, 48.30386636, 46.83808663, 45.35589207, 58.66884091,\n",
       "       54.20341905, 45.97092954, 37.51473793, 43.71371141, 40.66673425,\n",
       "       42.52432268, 42.52432268, 39.65975297, 32.89959579, 38.83490824,\n",
       "       42.51207194, 47.0463878 , 48.65957779, 52.87317557, 59.91596901,\n",
       "       56.46878408, 51.73749434, 49.73746898, 52.69922749, 59.1697874 ,\n",
       "       64.71649173, 64.10772421, 60.04022654, 57.77137702, 51.92969841])"
      ]
     },
     "execution_count": 142,
     "metadata": {},
     "output_type": "execute_result"
    }
   ],
   "source": [
    "y[1]"
   ]
  },
  {
   "cell_type": "code",
   "execution_count": 143,
   "metadata": {},
   "outputs": [
    {
     "data": {
      "text/plain": [
       "array([54.20341905, 45.97092954, 37.51473793, 43.71371141, 40.66673425,\n",
       "       42.52432268, 42.52432268, 39.65975297, 32.89959579, 38.83490824,\n",
       "       42.51207194, 47.0463878 , 48.65957779, 52.87317557, 59.91596901,\n",
       "       56.46878408, 51.73749434, 49.73746898, 52.69922749, 59.1697874 ,\n",
       "       64.71649173, 64.10772421, 60.04022654, 57.77137702, 51.92969841,\n",
       "       53.33462402, 56.88592509, 60.13943292, 66.91140131, 59.3288684 ])"
      ]
     },
     "execution_count": 143,
     "metadata": {},
     "output_type": "execute_result"
    }
   ],
   "source": [
    "y[2]"
   ]
  },
  {
   "cell_type": "code",
   "execution_count": 164,
   "metadata": {},
   "outputs": [],
   "source": [
    "def window_dataframe(df, window=30, stride_size=5, target=['5TD_return'], feature_cols=['RSI', 'Stochastic', 'Stochastic_signal', 'ADI',\n",
    "       'OBV', 'ATR', 'ADX', 'ADX_pos', 'ADX_neg', 'MACD', 'MACD_diff', 'MACD_signal']):\n",
    "    \"\"\"\n",
    "    Turns the input dataframe into an array of windowed arrays\n",
    "    INPUT: the input dataframe, window size, stride size, target column, feature columns\n",
    "    OUTPUT: array of windowed arrays \n",
    "    \n",
    "    EXAMPLE: windowed_array = window_dataframe(train_set)\n",
    "    \"\"\"\n",
    "    if not np.issubdtype(df['date'].dtype, np.datetime64):\n",
    "        df['date'] = pd.to_datetime(df['date'], format=('%Y-%m-%d'))\n",
    "    inverse_df = df.sort_values(by=\"date\", ascending=False)\n",
    "    feature_array = []\n",
    "    target_array = []\n",
    "    for column in inverse_df:\n",
    "        if column in feature_cols: \n",
    "            feature_array.append(window_column(inverse_df[column], window, stride_size))\n",
    "            \n",
    "        elif column in target:\n",
    "            target_array.append(window_column(inverse_df[column], window, stride_size))\n",
    "            \n",
    "    \n",
    "    return np.array(feature_array), np.array(target_array)\n",
    "\n",
    "windowed_array, target_array = window_dataframe(train_set)"
   ]
  },
  {
   "cell_type": "code",
   "execution_count": 165,
   "metadata": {},
   "outputs": [
    {
     "data": {
      "text/plain": [
       "(12, 1667, 30)"
      ]
     },
     "execution_count": 165,
     "metadata": {},
     "output_type": "execute_result"
    }
   ],
   "source": [
    "windowed_array.shape"
   ]
  },
  {
   "cell_type": "code",
   "execution_count": 166,
   "metadata": {},
   "outputs": [
    {
     "data": {
      "text/plain": [
       "(1, 1667, 30)"
      ]
     },
     "execution_count": 166,
     "metadata": {},
     "output_type": "execute_result"
    }
   ],
   "source": [
    "target_array.shape"
   ]
  },
  {
   "cell_type": "code",
   "execution_count": 167,
   "metadata": {},
   "outputs": [
    {
     "data": {
      "text/plain": [
       "array([[[ 4.32662483e+01,  4.83092053e+01,  4.67694665e+01, ...,\n",
       "          5.79274676e+01,  5.84282959e+01,  6.10856298e+01],\n",
       "        [ 6.05459106e+01,  5.90130329e+01,  5.95640312e+01, ...,\n",
       "          7.24868750e+01,  7.49659579e+01,  7.70856109e+01],\n",
       "        [ 5.66041720e+01,  5.67865293e+01,  5.53480108e+01, ...,\n",
       "          7.64260181e+01,  7.46666038e+01,  6.94240909e+01],\n",
       "        ...,\n",
       "        [ 5.90013256e+01,  5.86117173e+01,  5.62163194e+01, ...,\n",
       "          4.25243227e+01,  4.25243227e+01,  4.06667342e+01],\n",
       "        [ 6.69114013e+01,  6.01394329e+01,  5.68859251e+01, ...,\n",
       "          4.59709295e+01,  5.42034190e+01,  5.86688409e+01],\n",
       "        [ 5.77713770e+01,  6.00402265e+01,  6.41077242e+01, ...,\n",
       "          4.83038664e+01,  4.67566529e+01,  4.80932218e+01]],\n",
       "\n",
       "       [[ 5.29440871e+00,  2.75111331e+01,  2.15734785e+01, ...,\n",
       "          4.83453785e+01,  4.99809814e+01,  6.39573618e+01],\n",
       "        [ 7.97292070e+01,  7.36943907e+01,  7.52417795e+01, ...,\n",
       "          9.21837709e+01,  9.54455052e+01,  9.82696897e+01],\n",
       "        [ 6.68912416e+01,  6.43282898e+01,  5.79092160e+01, ...,\n",
       "          9.63442657e+01,  9.07475623e+01,  8.77551020e+01],\n",
       "        ...,\n",
       "        [ 6.50162338e+01,  6.25811688e+01,  5.62246279e+01, ...,\n",
       "          2.14064915e+01,  2.14064915e+01,  1.42194745e+01],\n",
       "        [ 9.81960313e+01,  6.59740260e+01,  5.00649351e+01, ...,\n",
       "          7.93237971e+00,  4.29499072e+01,  6.00185529e+01],\n",
       "        [ 6.21555118e+01,  7.08746619e+01,  8.26853707e+01, ...,\n",
       "          3.26037736e+01,  4.83504597e+01,  5.17036236e+01]],\n",
       "\n",
       "       [[ 1.81263401e+01,  2.91661794e+01,  4.65722040e+01, ...,\n",
       "          5.40945739e+01,  5.88296341e+01,  6.81634527e+01],\n",
       "        [ 7.62217924e+01,  8.06447453e+01,  8.59417451e+01, ...,\n",
       "          9.52996553e+01,  9.79050650e+01,  9.88906160e+01],\n",
       "        [ 6.30429158e+01,  6.36558154e+01,  5.30184930e+01, ...,\n",
       "          9.16156434e+01,  8.59849064e+01,  8.77372410e+01],\n",
       "        ...,\n",
       "        [ 6.12740102e+01,  6.24522028e+01,  6.56848178e+01, ...,\n",
       "          1.90108192e+01,  2.17226878e+01,  1.68520848e+01],\n",
       "        [ 7.14116641e+01,  5.20523184e+01,  4.40400340e+01, ...,\n",
       "          3.69669466e+01,  3.62090291e+01,  3.12005694e+01],\n",
       "        [ 7.19051815e+01,  8.35618900e+01,  8.98362189e+01, ...,\n",
       "          4.42192856e+01,  4.83504597e+01,  4.66919055e+01]],\n",
       "\n",
       "       ...,\n",
       "\n",
       "       [[ 1.04345424e-01,  1.79975722e-01,  2.28173291e-01, ...,\n",
       "          7.89929179e-01,  8.63498133e-01,  9.40460715e-01],\n",
       "        [ 3.80580742e-01,  3.69611965e-01,  3.66119280e-01, ...,\n",
       "          1.18710399e+00,  1.19790216e+00,  1.17756233e+00],\n",
       "        [ 2.49815089e-01,  2.47456108e-01,  2.39522193e-01, ...,\n",
       "          9.15936099e-01,  7.81221250e-01,  6.41083806e-01],\n",
       "        ...,\n",
       "        [ 2.84100666e-03,  2.82908864e-03,  2.80327199e-03, ...,\n",
       "         -1.51125089e-03, -1.40469901e-03, -1.24826808e-03],\n",
       "        [ 2.76563416e-03,  2.11783491e-03,  1.88842082e-03, ...,\n",
       "         -1.73009923e-04, -6.79971384e-06, -2.03865233e-04],\n",
       "        [ 2.18911255e-03,  2.11472285e-03,  1.86377858e-03, ...,\n",
       "         -5.81444202e-04, -6.24952986e-04, -6.08268519e-04]],\n",
       "\n",
       "       [[-1.50187022e-01, -1.12103480e-01, -9.19317804e-02, ...,\n",
       "         -1.31258480e-01, -9.05041458e-02, -3.61675996e-02],\n",
       "        [ 3.40245095e-02,  3.15618603e-02,  3.59596402e-02, ...,\n",
       "          2.38512468e-01,  3.08938751e-01,  3.65833613e-01],\n",
       "        [-7.12504671e-02, -9.14220643e-02, -1.22211495e-01, ...,\n",
       "          3.95871969e-01,  3.60125113e-01,  3.10018947e-01],\n",
       "        ...,\n",
       "        [ 3.37236093e-04,  4.09627095e-04,  4.86217214e-04, ...,\n",
       "         -5.16538999e-04, -5.39121873e-04, -5.17471416e-04],\n",
       "        [ 9.71788102e-04,  5.66935882e-04,  4.79255763e-04, ...,\n",
       "          2.88498962e-04,  5.26833912e-04,  4.61476871e-04],\n",
       "        [ 1.23030452e-03,  1.46349095e-03,  1.57841942e-03, ...,\n",
       "          2.90941122e-04,  3.20167618e-04,  4.16893990e-04]],\n",
       "\n",
       "       [[ 2.54532446e-01,  2.92079202e-01,  3.20105072e-01, ...,\n",
       "          9.21187658e-01,  9.54002278e-01,  9.76628315e-01],\n",
       "        [ 3.46556232e-01,  3.38050105e-01,  3.30159640e-01, ...,\n",
       "          9.48591526e-01,  8.88963410e-01,  8.11728722e-01],\n",
       "        [ 3.21065556e-01,  3.38878172e-01,  3.61733688e-01, ...,\n",
       "          5.20064130e-01,  4.21096138e-01,  3.31064859e-01],\n",
       "        ...,\n",
       "        [ 2.50377057e-03,  2.41946155e-03,  2.31705477e-03, ...,\n",
       "         -9.94711887e-04, -8.65577137e-04, -7.30796669e-04],\n",
       "        [ 1.79384606e-03,  1.55089903e-03,  1.40916506e-03, ...,\n",
       "         -4.61508885e-04, -5.33633626e-04, -6.65342104e-04],\n",
       "        [ 9.58808031e-04,  6.51231901e-04,  2.85359163e-04, ...,\n",
       "         -8.72385324e-04, -9.45120605e-04, -1.02516251e-03]]])"
      ]
     },
     "execution_count": 167,
     "metadata": {},
     "output_type": "execute_result"
    }
   ],
   "source": [
    "windowed_array"
   ]
  },
  {
   "cell_type": "code",
   "execution_count": 168,
   "metadata": {},
   "outputs": [
    {
     "data": {
      "text/plain": [
       "array([[43.26624827, 48.30920533, 46.76946646, ..., 57.92746764,\n",
       "        58.4282959 , 61.08562979],\n",
       "       [60.54591065, 59.0130329 , 59.56403124, ..., 72.48687504,\n",
       "        74.96595785, 77.08561095],\n",
       "       [56.604172  , 56.78652927, 55.34801078, ..., 76.42601809,\n",
       "        74.66660376, 69.42409085],\n",
       "       ...,\n",
       "       [59.00132556, 58.61171726, 56.21631942, ..., 42.52432268,\n",
       "        42.52432268, 40.66673425],\n",
       "       [66.91140131, 60.13943292, 56.88592509, ..., 45.97092954,\n",
       "        54.20341905, 58.66884091],\n",
       "       [57.77137702, 60.04022654, 64.10772421, ..., 48.30386636,\n",
       "        46.75665291, 48.09322183]])"
      ]
     },
     "execution_count": 168,
     "metadata": {},
     "output_type": "execute_result"
    }
   ],
   "source": [
    "windowed_array[0]"
   ]
  },
  {
   "cell_type": "code",
   "execution_count": 169,
   "metadata": {},
   "outputs": [
    {
     "data": {
      "text/plain": [
       "array([43.26624827, 48.30920533, 46.76946646, 46.68344079, 60.54591065,\n",
       "       60.54591065, 59.0130329 , 59.56403124, 66.14462232, 61.0121307 ,\n",
       "       56.604172  , 56.78652927, 55.34801078, 58.39056452, 49.78933085,\n",
       "       49.63063378, 48.85705349, 50.43513694, 50.81877937, 53.92782325,\n",
       "       55.89397765, 50.85846633, 60.6915276 , 63.87319345, 66.74313489,\n",
       "       66.72348804, 63.86224513, 57.92746764, 58.4282959 , 61.08562979])"
      ]
     },
     "execution_count": 169,
     "metadata": {},
     "output_type": "execute_result"
    }
   ],
   "source": [
    "windowed_array[0][0]"
   ]
  },
  {
   "cell_type": "code",
   "execution_count": 170,
   "metadata": {},
   "outputs": [
    {
     "data": {
      "text/plain": [
       "array([57.77137702, 60.04022654, 64.10772421, 64.71649173, 59.1697874 ,\n",
       "       52.69922749, 49.73746898, 51.73749434, 56.46878408, 59.91596901,\n",
       "       52.87317557, 48.65957779, 47.0463878 , 42.51207194, 38.83490824,\n",
       "       32.89959579, 39.65975297, 42.52432268, 42.52432268, 40.66673425,\n",
       "       43.71371141, 37.51473793, 45.97092954, 54.20341905, 58.66884091,\n",
       "       45.35589207, 46.83808663, 48.30386636, 46.75665291, 48.09322183])"
      ]
     },
     "execution_count": 170,
     "metadata": {},
     "output_type": "execute_result"
    }
   ],
   "source": [
    "windowed_array[0][len(windowed_array[0])-1]"
   ]
  },
  {
   "cell_type": "code",
   "execution_count": 113,
   "metadata": {},
   "outputs": [
    {
     "data": {
      "text/plain": [
       "1667"
      ]
     },
     "execution_count": 113,
     "metadata": {},
     "output_type": "execute_result"
    }
   ],
   "source": [
    "len(windowed_array[0])"
   ]
  },
  {
   "cell_type": "code",
   "execution_count": 122,
   "metadata": {},
   "outputs": [
    {
     "data": {
      "text/plain": [
       "30"
      ]
     },
     "execution_count": 122,
     "metadata": {},
     "output_type": "execute_result"
    }
   ],
   "source": [
    "len(windowed_array[0][len(windowed_array[0])-1])"
   ]
  },
  {
   "cell_type": "code",
   "execution_count": 112,
   "metadata": {},
   "outputs": [
    {
     "data": {
      "text/plain": [
       "array([['1984-10-24T00:00:00.000000000', '1984-10-25T00:00:00.000000000',\n",
       "        '1984-10-26T00:00:00.000000000', ...,\n",
       "        '1984-12-03T00:00:00.000000000', '1984-12-04T00:00:00.000000000',\n",
       "        '1984-12-05T00:00:00.000000000'],\n",
       "       ['1984-10-31T00:00:00.000000000', '1984-11-01T00:00:00.000000000',\n",
       "        '1984-11-02T00:00:00.000000000', ...,\n",
       "        '1984-12-10T00:00:00.000000000', '1984-12-11T00:00:00.000000000',\n",
       "        '1984-12-12T00:00:00.000000000'],\n",
       "       ['1984-11-07T00:00:00.000000000', '1984-11-08T00:00:00.000000000',\n",
       "        '1984-11-09T00:00:00.000000000', ...,\n",
       "        '1984-12-17T00:00:00.000000000', '1984-12-18T00:00:00.000000000',\n",
       "        '1984-12-19T00:00:00.000000000'],\n",
       "       ...,\n",
       "       ['2017-10-27T00:00:00.000000000', '2017-10-30T00:00:00.000000000',\n",
       "        '2017-10-31T00:00:00.000000000', ...,\n",
       "        '2017-12-06T00:00:00.000000000', '2017-12-07T00:00:00.000000000',\n",
       "        '2017-12-08T00:00:00.000000000'],\n",
       "       ['2017-11-03T00:00:00.000000000', '2017-11-06T00:00:00.000000000',\n",
       "        '2017-11-07T00:00:00.000000000', ...,\n",
       "        '2017-12-13T00:00:00.000000000', '2017-12-14T00:00:00.000000000',\n",
       "        '2017-12-15T00:00:00.000000000'],\n",
       "       ['2017-11-10T00:00:00.000000000', '2017-11-13T00:00:00.000000000',\n",
       "        '2017-11-14T00:00:00.000000000', ...,\n",
       "        '2017-12-20T00:00:00.000000000', '2017-12-21T00:00:00.000000000',\n",
       "        '2017-12-22T00:00:00.000000000']], dtype='datetime64[ns]')"
      ]
     },
     "execution_count": 112,
     "metadata": {},
     "output_type": "execute_result"
    }
   ],
   "source": [
    "windowed_array[0]"
   ]
  },
  {
   "cell_type": "code",
   "execution_count": null,
   "metadata": {},
   "outputs": [],
   "source": []
  },
  {
   "cell_type": "code",
   "execution_count": null,
   "metadata": {},
   "outputs": [],
   "source": []
  },
  {
   "cell_type": "code",
   "execution_count": null,
   "metadata": {},
   "outputs": [],
   "source": []
  },
  {
   "cell_type": "code",
   "execution_count": null,
   "metadata": {},
   "outputs": [],
   "source": []
  },
  {
   "cell_type": "code",
   "execution_count": null,
   "metadata": {},
   "outputs": [],
   "source": []
  }
 ],
 "metadata": {
  "kernelspec": {
   "display_name": "Python 3",
   "language": "python",
   "name": "python3"
  },
  "language_info": {
   "codemirror_mode": {
    "name": "ipython",
    "version": 3
   },
   "file_extension": ".py",
   "mimetype": "text/x-python",
   "name": "python",
   "nbconvert_exporter": "python",
   "pygments_lexer": "ipython3",
   "version": "3.7.7"
  }
 },
 "nbformat": 4,
 "nbformat_minor": 4
}
