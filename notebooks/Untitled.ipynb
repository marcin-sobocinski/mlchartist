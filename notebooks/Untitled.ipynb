{
 "cells": [
  {
   "cell_type": "code",
   "execution_count": 2,
   "metadata": {},
   "outputs": [],
   "source": [
    "import pandas as pd\n",
    "import glob"
   ]
  },
  {
   "cell_type": "code",
   "execution_count": 4,
   "metadata": {},
   "outputs": [
    {
     "name": "stdout",
     "output_type": "stream",
     "text": [
      "daily\n"
     ]
    }
   ],
   "source": [
    "!ls ../raw_data/data"
   ]
  },
  {
   "cell_type": "code",
   "execution_count": 9,
   "metadata": {},
   "outputs": [],
   "source": [
    "list_of_files1 = glob.glob(\"../raw_data/data/daily/us/nasdaq stocks/1/*.txt\")\n",
    "list_of_files2 = glob.glob(\"../raw_data/data/daily/us/nasdaq stocks/2/*.txt\")\n",
    "full_list = list_of_files1 + list_of_files2"
   ]
  },
  {
   "cell_type": "code",
   "execution_count": 10,
   "metadata": {},
   "outputs": [
    {
     "data": {
      "text/plain": [
       "3927"
      ]
     },
     "execution_count": 10,
     "metadata": {},
     "output_type": "execute_result"
    }
   ],
   "source": [
    "len(full_list)"
   ]
  },
  {
   "cell_type": "code",
   "execution_count": 11,
   "metadata": {},
   "outputs": [],
   "source": [
    "# Column names cleaning\n",
    "def to_date(df, date_column):\n",
    "    \"\"\"\n",
    "    Convert int of dated_col to to datetime object, return converted column\n",
    "    \"\"\"\n",
    "    dated_col = pd.to_datetime(df[date_column], format=('%Y%m%d'))                #Use directly the right column as arg?\n",
    "    return dated_col\n",
    "\n",
    "\n",
    "def proper_name(col):\n",
    "    \"\"\"\n",
    "    Transform column name into lowercase with no '<>', return column name\n",
    "    \"\"\"\n",
    "    col = col.replace('>', '')\n",
    "    col = col.replace('<', '')\n",
    "    col = col.lower()\n",
    "    return col\n",
    "\n",
    "# Ticker name cleaning\n",
    "def proper_col(df):\n",
    "    \"\"\"\n",
    "    Remove '.US' from ticker col, returns cleaned df\n",
    "    \"\"\"\n",
    "    clean_df = df.copy()\n",
    "    clean_df['ticker'] = clean_df['ticker'].str.rstrip('.US')\n",
    "    return clean_df\n",
    "\n",
    "# Target variable calculations\n",
    "def calculate_real_returns(df):\n",
    "    \"\"\"\n",
    "       Calculate Real Returns for 5, 10 & 20 Trading Days\n",
    "       INPUT: Assumes the headers have been changed. Example: '<CLOSE>' is 'close'\n",
    "    \"\"\"\n",
    "    returns_df = df.copy()\n",
    "    ## 5 Trading Day Real Returns\n",
    "    returns_df['5TD_return'] = (df['close'].shift(-5)/df['close'])-1\n",
    "    ## 10 Trading Day Real Returns\n",
    "    returns_df['10TD_return'] = (df['close'].shift(-10)/df['close'])-1\n",
    "    ## 20 Trading Day Real\n",
    "    returns_df['20TD_return'] = (df['close'].shift(-20)/df['close'])-1\n",
    "    return returns_df"
   ]
  },
  {
   "cell_type": "code",
   "execution_count": 12,
   "metadata": {},
   "outputs": [
    {
     "data": {
      "text/plain": [
       "'../raw_data/data/daily/us/nasdaq stocks/1\\\\aacg.us.txt'"
      ]
     },
     "execution_count": 12,
     "metadata": {},
     "output_type": "execute_result"
    }
   ],
   "source": [
    "full_list[0]"
   ]
  },
  {
   "cell_type": "code",
   "execution_count": 14,
   "metadata": {},
   "outputs": [
    {
     "data": {
      "text/html": [
       "<div>\n",
       "<style scoped>\n",
       "    .dataframe tbody tr th:only-of-type {\n",
       "        vertical-align: middle;\n",
       "    }\n",
       "\n",
       "    .dataframe tbody tr th {\n",
       "        vertical-align: top;\n",
       "    }\n",
       "\n",
       "    .dataframe thead th {\n",
       "        text-align: right;\n",
       "    }\n",
       "</style>\n",
       "<table border=\"1\" class=\"dataframe\">\n",
       "  <thead>\n",
       "    <tr style=\"text-align: right;\">\n",
       "      <th></th>\n",
       "      <th>&lt;TICKER&gt;</th>\n",
       "      <th>&lt;PER&gt;</th>\n",
       "      <th>&lt;DATE&gt;</th>\n",
       "      <th>&lt;TIME&gt;</th>\n",
       "      <th>&lt;OPEN&gt;</th>\n",
       "      <th>&lt;HIGH&gt;</th>\n",
       "      <th>&lt;LOW&gt;</th>\n",
       "      <th>&lt;CLOSE&gt;</th>\n",
       "      <th>&lt;VOL&gt;</th>\n",
       "      <th>&lt;OPENINT&gt;</th>\n",
       "    </tr>\n",
       "  </thead>\n",
       "  <tbody>\n",
       "    <tr>\n",
       "      <th>0</th>\n",
       "      <td>AACG.US</td>\n",
       "      <td>D</td>\n",
       "      <td>20080128</td>\n",
       "      <td>0</td>\n",
       "      <td>0.7380</td>\n",
       "      <td>0.7380</td>\n",
       "      <td>0.7380</td>\n",
       "      <td>0.7380</td>\n",
       "      <td>0</td>\n",
       "      <td>0</td>\n",
       "    </tr>\n",
       "    <tr>\n",
       "      <th>1</th>\n",
       "      <td>AACG.US</td>\n",
       "      <td>D</td>\n",
       "      <td>20080129</td>\n",
       "      <td>0</td>\n",
       "      <td>0.7380</td>\n",
       "      <td>0.7760</td>\n",
       "      <td>0.6657</td>\n",
       "      <td>0.6797</td>\n",
       "      <td>19169939</td>\n",
       "      <td>0</td>\n",
       "    </tr>\n",
       "    <tr>\n",
       "      <th>2</th>\n",
       "      <td>AACG.US</td>\n",
       "      <td>D</td>\n",
       "      <td>20080130</td>\n",
       "      <td>0</td>\n",
       "      <td>0.6797</td>\n",
       "      <td>0.7108</td>\n",
       "      <td>0.6448</td>\n",
       "      <td>0.6603</td>\n",
       "      <td>2818723</td>\n",
       "      <td>0</td>\n",
       "    </tr>\n",
       "    <tr>\n",
       "      <th>3</th>\n",
       "      <td>AACG.US</td>\n",
       "      <td>D</td>\n",
       "      <td>20080131</td>\n",
       "      <td>0</td>\n",
       "      <td>0.6595</td>\n",
       "      <td>0.8001</td>\n",
       "      <td>0.6595</td>\n",
       "      <td>0.7418</td>\n",
       "      <td>2345961</td>\n",
       "      <td>0</td>\n",
       "    </tr>\n",
       "    <tr>\n",
       "      <th>4</th>\n",
       "      <td>AACG.US</td>\n",
       "      <td>D</td>\n",
       "      <td>20080201</td>\n",
       "      <td>0</td>\n",
       "      <td>0.7714</td>\n",
       "      <td>0.7721</td>\n",
       "      <td>0.7380</td>\n",
       "      <td>0.7387</td>\n",
       "      <td>361853</td>\n",
       "      <td>0</td>\n",
       "    </tr>\n",
       "  </tbody>\n",
       "</table>\n",
       "</div>"
      ],
      "text/plain": [
       "  <TICKER> <PER>    <DATE>  <TIME>  <OPEN>  <HIGH>   <LOW>  <CLOSE>     <VOL>  \\\n",
       "0  AACG.US     D  20080128       0  0.7380  0.7380  0.7380   0.7380         0   \n",
       "1  AACG.US     D  20080129       0  0.7380  0.7760  0.6657   0.6797  19169939   \n",
       "2  AACG.US     D  20080130       0  0.6797  0.7108  0.6448   0.6603   2818723   \n",
       "3  AACG.US     D  20080131       0  0.6595  0.8001  0.6595   0.7418   2345961   \n",
       "4  AACG.US     D  20080201       0  0.7714  0.7721  0.7380   0.7387    361853   \n",
       "\n",
       "   <OPENINT>  \n",
       "0          0  \n",
       "1          0  \n",
       "2          0  \n",
       "3          0  \n",
       "4          0  "
      ]
     },
     "execution_count": 14,
     "metadata": {},
     "output_type": "execute_result"
    }
   ],
   "source": [
    "one_company = pd.read_csv(full_list[0])\n",
    "one_company.head()"
   ]
  },
  {
   "cell_type": "code",
   "execution_count": 18,
   "metadata": {},
   "outputs": [
    {
     "ename": "AttributeError",
     "evalue": "'str' object has no attribute 'name'",
     "output_type": "error",
     "traceback": [
      "\u001b[1;31m---------------------------------------------------------------------------\u001b[0m",
      "\u001b[1;31mAttributeError\u001b[0m                            Traceback (most recent call last)",
      "\u001b[1;32m<ipython-input-18-42dfa6cdadbd>\u001b[0m in \u001b[0;36m<module>\u001b[1;34m\u001b[0m\n\u001b[0;32m      1\u001b[0m \u001b[1;32mfor\u001b[0m \u001b[0mcolumn\u001b[0m \u001b[1;32min\u001b[0m \u001b[0mone_company\u001b[0m\u001b[1;33m.\u001b[0m\u001b[0mcolumns\u001b[0m\u001b[1;33m:\u001b[0m\u001b[1;33m\u001b[0m\u001b[1;33m\u001b[0m\u001b[0m\n\u001b[1;32m----> 2\u001b[1;33m     \u001b[0mone_company\u001b[0m\u001b[1;33m.\u001b[0m\u001b[0mcolumn\u001b[0m\u001b[1;33m.\u001b[0m\u001b[0mname\u001b[0m \u001b[1;33m=\u001b[0m \u001b[0mproper_name\u001b[0m\u001b[1;33m(\u001b[0m\u001b[0mcolumn\u001b[0m\u001b[1;33m)\u001b[0m\u001b[1;33m\u001b[0m\u001b[1;33m\u001b[0m\u001b[0m\n\u001b[0m\u001b[0;32m      3\u001b[0m \u001b[1;33m\u001b[0m\u001b[0m\n\u001b[0;32m      4\u001b[0m \u001b[0mone_company\u001b[0m\u001b[1;33m\u001b[0m\u001b[1;33m\u001b[0m\u001b[0m\n",
      "\u001b[1;31mAttributeError\u001b[0m: 'str' object has no attribute 'name'"
     ]
    }
   ],
   "source": [
    "for column in one_company.columns:\n",
    "    one_company.column.name = proper_name(column)\n",
    "\n",
    "one_company\n"
   ]
  },
  {
   "cell_type": "code",
   "execution_count": null,
   "metadata": {},
   "outputs": [],
   "source": []
  },
  {
   "cell_type": "code",
   "execution_count": null,
   "metadata": {},
   "outputs": [],
   "source": []
  }
 ],
 "metadata": {
  "kernelspec": {
   "display_name": "Python 3",
   "language": "python",
   "name": "python3"
  },
  "language_info": {
   "codemirror_mode": {
    "name": "ipython",
    "version": 3
   },
   "file_extension": ".py",
   "mimetype": "text/x-python",
   "name": "python",
   "nbconvert_exporter": "python",
   "pygments_lexer": "ipython3",
   "version": "3.7.7"
  }
 },
 "nbformat": 4,
 "nbformat_minor": 4
}
