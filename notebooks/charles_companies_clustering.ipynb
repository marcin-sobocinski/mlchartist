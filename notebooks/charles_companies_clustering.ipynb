{
 "cells": [
  {
   "cell_type": "code",
   "execution_count": 168,
   "metadata": {
    "ExecuteTime": {
     "end_time": "2021-02-04T23:22:24.921908Z",
     "start_time": "2021-02-04T23:22:24.917360Z"
    }
   },
   "outputs": [],
   "source": [
    "import pandas as pd\n",
    "import numpy as np\n",
    "import seaborn as sns"
   ]
  },
  {
   "cell_type": "markdown",
   "metadata": {},
   "source": [
    "====================================================================================================\n",
    "\n",
    "**Goal : gather similar companies according to their features and number of trading days**\n",
    "\n",
    "**Use : provide coherent and meaningful data to model**\n",
    "\n",
    "\n",
    "**(_Ideal_ : develop tailored model to each type of groups)**\n",
    "\n",
    "===================================================================================================="
   ]
  },
  {
   "cell_type": "markdown",
   "metadata": {},
   "source": [
    "# Anaysis of Companies Age"
   ]
  },
  {
   "cell_type": "markdown",
   "metadata": {},
   "source": [
    "## Looking at the Metadata from `nasdaq_us_stats.xls`"
   ]
  },
  {
   "cell_type": "code",
   "execution_count": 169,
   "metadata": {
    "ExecuteTime": {
     "end_time": "2021-02-04T23:22:24.941955Z",
     "start_time": "2021-02-04T23:22:24.926245Z"
    }
   },
   "outputs": [],
   "source": [
    "#!!!Path might not be the same!!!\n",
    "\n",
    "meta_df = pd.read_csv('../raw_data/metadata/nasdaq_us_stats.xls')"
   ]
  },
  {
   "cell_type": "code",
   "execution_count": 170,
   "metadata": {
    "ExecuteTime": {
     "end_time": "2021-02-04T23:22:24.967281Z",
     "start_time": "2021-02-04T23:22:24.944475Z"
    }
   },
   "outputs": [
    {
     "data": {
      "text/html": [
       "<div>\n",
       "<style scoped>\n",
       "    .dataframe tbody tr th:only-of-type {\n",
       "        vertical-align: middle;\n",
       "    }\n",
       "\n",
       "    .dataframe tbody tr th {\n",
       "        vertical-align: top;\n",
       "    }\n",
       "\n",
       "    .dataframe thead th {\n",
       "        text-align: right;\n",
       "    }\n",
       "</style>\n",
       "<table border=\"1\" class=\"dataframe\">\n",
       "  <thead>\n",
       "    <tr style=\"text-align: right;\">\n",
       "      <th></th>\n",
       "      <th>Unnamed: 0</th>\n",
       "      <th>stock</th>\n",
       "      <th>days</th>\n",
       "      <th>min_close</th>\n",
       "      <th>max_close</th>\n",
       "      <th>start_date</th>\n",
       "      <th>end_date</th>\n",
       "    </tr>\n",
       "  </thead>\n",
       "  <tbody>\n",
       "    <tr>\n",
       "      <th>0</th>\n",
       "      <td>0</td>\n",
       "      <td>AACG.US</td>\n",
       "      <td>3165</td>\n",
       "      <td>0.21703</td>\n",
       "      <td>3.850</td>\n",
       "      <td>2008-01-28</td>\n",
       "      <td>2021-01-25</td>\n",
       "    </tr>\n",
       "    <tr>\n",
       "      <th>1</th>\n",
       "      <td>1</td>\n",
       "      <td>AACQ.US</td>\n",
       "      <td>96</td>\n",
       "      <td>9.62000</td>\n",
       "      <td>11.070</td>\n",
       "      <td>2020-09-08</td>\n",
       "      <td>2021-01-25</td>\n",
       "    </tr>\n",
       "    <tr>\n",
       "      <th>2</th>\n",
       "      <td>2</td>\n",
       "      <td>AACQU.US</td>\n",
       "      <td>134</td>\n",
       "      <td>10.00000</td>\n",
       "      <td>11.900</td>\n",
       "      <td>2020-07-15</td>\n",
       "      <td>2021-01-25</td>\n",
       "    </tr>\n",
       "    <tr>\n",
       "      <th>3</th>\n",
       "      <td>3</td>\n",
       "      <td>AACQW.US</td>\n",
       "      <td>95</td>\n",
       "      <td>1.07500</td>\n",
       "      <td>2.580</td>\n",
       "      <td>2020-09-09</td>\n",
       "      <td>2021-01-25</td>\n",
       "    </tr>\n",
       "    <tr>\n",
       "      <th>4</th>\n",
       "      <td>4</td>\n",
       "      <td>AAL.US</td>\n",
       "      <td>1793</td>\n",
       "      <td>9.04000</td>\n",
       "      <td>56.989</td>\n",
       "      <td>2013-12-10</td>\n",
       "      <td>2021-01-25</td>\n",
       "    </tr>\n",
       "  </tbody>\n",
       "</table>\n",
       "</div>"
      ],
      "text/plain": [
       "   Unnamed: 0     stock  days  min_close  max_close  start_date    end_date\n",
       "0           0   AACG.US  3165    0.21703      3.850  2008-01-28  2021-01-25\n",
       "1           1   AACQ.US    96    9.62000     11.070  2020-09-08  2021-01-25\n",
       "2           2  AACQU.US   134   10.00000     11.900  2020-07-15  2021-01-25\n",
       "3           3  AACQW.US    95    1.07500      2.580  2020-09-09  2021-01-25\n",
       "4           4    AAL.US  1793    9.04000     56.989  2013-12-10  2021-01-25"
      ]
     },
     "execution_count": 170,
     "metadata": {},
     "output_type": "execute_result"
    }
   ],
   "source": [
    "meta_df.head()"
   ]
  },
  {
   "cell_type": "code",
   "execution_count": 171,
   "metadata": {
    "ExecuteTime": {
     "end_time": "2021-02-04T23:22:25.003960Z",
     "start_time": "2021-02-04T23:22:24.969620Z"
    }
   },
   "outputs": [
    {
     "data": {
      "text/html": [
       "<div>\n",
       "<style scoped>\n",
       "    .dataframe tbody tr th:only-of-type {\n",
       "        vertical-align: middle;\n",
       "    }\n",
       "\n",
       "    .dataframe tbody tr th {\n",
       "        vertical-align: top;\n",
       "    }\n",
       "\n",
       "    .dataframe thead th {\n",
       "        text-align: right;\n",
       "    }\n",
       "</style>\n",
       "<table border=\"1\" class=\"dataframe\">\n",
       "  <thead>\n",
       "    <tr style=\"text-align: right;\">\n",
       "      <th></th>\n",
       "      <th>Unnamed: 0</th>\n",
       "      <th>days</th>\n",
       "      <th>min_close</th>\n",
       "      <th>max_close</th>\n",
       "    </tr>\n",
       "  </thead>\n",
       "  <tbody>\n",
       "    <tr>\n",
       "      <th>count</th>\n",
       "      <td>3921.000000</td>\n",
       "      <td>3921.000000</td>\n",
       "      <td>3921.000000</td>\n",
       "      <td>3.921000e+03</td>\n",
       "    </tr>\n",
       "    <tr>\n",
       "      <th>mean</th>\n",
       "      <td>1960.000000</td>\n",
       "      <td>1876.186942</td>\n",
       "      <td>8.257047</td>\n",
       "      <td>6.181576e+06</td>\n",
       "    </tr>\n",
       "    <tr>\n",
       "      <th>std</th>\n",
       "      <td>1132.039531</td>\n",
       "      <td>1795.084440</td>\n",
       "      <td>16.268917</td>\n",
       "      <td>3.863434e+08</td>\n",
       "    </tr>\n",
       "    <tr>\n",
       "      <th>min</th>\n",
       "      <td>0.000000</td>\n",
       "      <td>1.000000</td>\n",
       "      <td>0.001000</td>\n",
       "      <td>2.400000e-01</td>\n",
       "    </tr>\n",
       "    <tr>\n",
       "      <th>25%</th>\n",
       "      <td>980.000000</td>\n",
       "      <td>312.000000</td>\n",
       "      <td>1.490000</td>\n",
       "      <td>1.438700e+01</td>\n",
       "    </tr>\n",
       "    <tr>\n",
       "      <th>50%</th>\n",
       "      <td>1960.000000</td>\n",
       "      <td>1286.000000</td>\n",
       "      <td>5.010000</td>\n",
       "      <td>2.880000e+01</td>\n",
       "    </tr>\n",
       "    <tr>\n",
       "      <th>75%</th>\n",
       "      <td>2940.000000</td>\n",
       "      <td>3775.000000</td>\n",
       "      <td>10.384000</td>\n",
       "      <td>6.533000e+01</td>\n",
       "    </tr>\n",
       "    <tr>\n",
       "      <th>max</th>\n",
       "      <td>3920.000000</td>\n",
       "      <td>12879.000000</td>\n",
       "      <td>647.290000</td>\n",
       "      <td>2.419200e+10</td>\n",
       "    </tr>\n",
       "  </tbody>\n",
       "</table>\n",
       "</div>"
      ],
      "text/plain": [
       "        Unnamed: 0          days    min_close     max_close\n",
       "count  3921.000000   3921.000000  3921.000000  3.921000e+03\n",
       "mean   1960.000000   1876.186942     8.257047  6.181576e+06\n",
       "std    1132.039531   1795.084440    16.268917  3.863434e+08\n",
       "min       0.000000      1.000000     0.001000  2.400000e-01\n",
       "25%     980.000000    312.000000     1.490000  1.438700e+01\n",
       "50%    1960.000000   1286.000000     5.010000  2.880000e+01\n",
       "75%    2940.000000   3775.000000    10.384000  6.533000e+01\n",
       "max    3920.000000  12879.000000   647.290000  2.419200e+10"
      ]
     },
     "execution_count": 171,
     "metadata": {},
     "output_type": "execute_result"
    }
   ],
   "source": [
    "meta_df.describe()"
   ]
  },
  {
   "cell_type": "code",
   "execution_count": 172,
   "metadata": {
    "ExecuteTime": {
     "end_time": "2021-02-04T23:22:25.014904Z",
     "start_time": "2021-02-04T23:22:25.010123Z"
    }
   },
   "outputs": [],
   "source": [
    "meta_df = meta_df[['stock', 'days', 'min_close', 'max_close']]"
   ]
  },
  {
   "cell_type": "markdown",
   "metadata": {},
   "source": [
    "### Company age classification"
   ]
  },
  {
   "cell_type": "code",
   "execution_count": 173,
   "metadata": {
    "ExecuteTime": {
     "end_time": "2021-02-04T23:22:25.857959Z",
     "start_time": "2021-02-04T23:22:25.017593Z"
    }
   },
   "outputs": [],
   "source": [
    "meta_df['range_price'] = meta_df['max_close'] - meta_df['min_close']\n",
    "meta_df['years'] = meta_df['days']/365"
   ]
  },
  {
   "cell_type": "code",
   "execution_count": 174,
   "metadata": {
    "ExecuteTime": {
     "end_time": "2021-02-04T23:22:25.868852Z",
     "start_time": "2021-02-04T23:22:25.861241Z"
    }
   },
   "outputs": [],
   "source": [
    "clean_meta_df = meta_df[['stock', 'years', 'range_price']]"
   ]
  },
  {
   "cell_type": "code",
   "execution_count": 175,
   "metadata": {
    "ExecuteTime": {
     "end_time": "2021-02-04T23:22:26.188423Z",
     "start_time": "2021-02-04T23:22:25.875263Z"
    }
   },
   "outputs": [
    {
     "data": {
      "text/plain": [
       "<AxesSubplot:xlabel='years', ylabel='Count'>"
      ]
     },
     "execution_count": 175,
     "metadata": {},
     "output_type": "execute_result"
    },
    {
     "data": {
      "image/png": "[encoded data removed]",
      "text/plain": [
       "<Figure size 432x288 with 1 Axes>"
      ]
     },
     "metadata": {
      "needs_background": "light"
     },
     "output_type": "display_data"
    }
   ],
   "source": [
    "sns.histplot(clean_meta_df['years'], binwidth=1)"
   ]
  },
  {
   "cell_type": "markdown",
   "metadata": {},
   "source": [
    "👆👆**Anomaly at less than 1 year and 10 year old companies**👆👆"
   ]
  },
  {
   "cell_type": "code",
   "execution_count": 180,
   "metadata": {
    "ExecuteTime": {
     "end_time": "2021-02-04T23:23:33.547259Z",
     "start_time": "2021-02-04T23:23:32.874576Z"
    }
   },
   "outputs": [
    {
     "name": "stdout",
     "output_type": "stream",
     "text": [
      "0        (5, 10]\n",
      "1         (0, 1]\n",
      "2         (0, 1]\n",
      "3         (0, 1]\n",
      "4         (1, 5]\n",
      "5        (5, 10]\n",
      "6        (5, 10]\n",
      "7       (10, 15]\n",
      "8       (25, 30]\n",
      "9       (10, 15]\n",
      "10      (10, 15]\n",
      "11      (10, 15]\n",
      "12        (0, 1]\n",
      "13        (0, 1]\n",
      "14        (1, 5]\n",
      "15      (10, 15]\n",
      "16      (10, 15]\n",
      "17        (0, 1]\n",
      "18        (0, 1]\n",
      "19        (1, 5]\n",
      "20       (5, 10]\n",
      "21        (0, 1]\n",
      "22        (0, 1]\n",
      "23        (0, 1]\n",
      "24      (10, 15]\n",
      "25        (0, 1]\n",
      "26        (0, 1]\n",
      "27        (0, 1]\n",
      "28        (1, 5]\n",
      "29        (0, 1]\n",
      "          ...   \n",
      "3891     (5, 10]\n",
      "3892     (5, 10]\n",
      "3893      (0, 1]\n",
      "3894      (0, 1]\n",
      "3895      (0, 1]\n",
      "3896      (0, 1]\n",
      "3897      (0, 1]\n",
      "3898      (1, 5]\n",
      "3899    (20, 25]\n",
      "3900      (1, 5]\n",
      "3901      (0, 1]\n",
      "3902      (0, 1]\n",
      "3903      (0, 1]\n",
      "3904    (10, 15]\n",
      "3905    (10, 15]\n",
      "3906      (1, 5]\n",
      "3907      (1, 5]\n",
      "3908      (1, 5]\n",
      "3909     (5, 10]\n",
      "3910      (0, 1]\n",
      "3911      (0, 1]\n",
      "3912      (0, 1]\n",
      "3913      (0, 1]\n",
      "3914      (1, 5]\n",
      "3915      (1, 5]\n",
      "3916    (10, 15]\n",
      "3917     (5, 10]\n",
      "3918      (1, 5]\n",
      "3919      (1, 5]\n",
      "3920      (1, 5]\n",
      "Name: company_vintage, Length: 3921, dtype: category\n",
      "Categories (8, interval[int64]): [(0, 1] < (1, 5] < (5, 10] < (10, 15] < (15, 20] < (20, 25] < (25, 30] < (30, 40]]\n"
     ]
    },
    {
     "name": "stderr",
     "output_type": "stream",
     "text": [
      "/home/bob/.pyenv/versions/3.7.7/envs/lewagon/lib/python3.7/site-packages/ipykernel_launcher.py:4: SettingWithCopyWarning: \n",
      "A value is trying to be set on a copy of a slice from a DataFrame.\n",
      "Try using .loc[row_indexer,col_indexer] = value instead\n",
      "\n",
      "See the caveats in the documentation: http://pandas.pydata.org/pandas-docs/stable/indexing.html#indexing-view-versus-copy\n",
      "  after removing the cwd from sys.path.\n"
     ]
    }
   ],
   "source": [
    "bins = [0, 1, 5, 10, 15, 20, 25, 30, 40]\n",
    "\n",
    "clean_meta_df['company_vintage'] = pd.cut(meta_df['years'].copy(), \n",
    "                                          bins)                            # A company aged of 1Y and one day is\n",
    "                                          #labels=['(0, 1]','(1, 5]',       # part of the '(1, 5]' class\n",
    "                                          #        '(5, 10]', '(10, 15]',\n",
    "                                          #        '(15, 20]', '(20, 25]',\n",
    "                                          #        '(25, 30]', '(30, 40]'])\n",
    "print(clean_meta_df['company_vintage'])"
   ]
  },
  {
   "cell_type": "code",
   "execution_count": 150,
   "metadata": {
    "ExecuteTime": {
     "end_time": "2021-02-04T23:06:07.630559Z",
     "start_time": "2021-02-04T23:06:07.598351Z"
    }
   },
   "outputs": [
    {
     "name": "stdout",
     "output_type": "stream",
     "text": [
      "<class 'pandas.core.frame.DataFrame'>\n",
      "RangeIndex: 3921 entries, 0 to 3920\n",
      "Data columns (total 4 columns):\n",
      "stock              3921 non-null object\n",
      "years              3921 non-null float64\n",
      "range_price        3921 non-null float64\n",
      "company_vintage    3921 non-null category\n",
      "dtypes: category(1), float64(2), object(1)\n",
      "memory usage: 95.9+ KB\n",
      "None\n"
     ]
    },
    {
     "data": {
      "text/html": [
       "<div>\n",
       "<style scoped>\n",
       "    .dataframe tbody tr th:only-of-type {\n",
       "        vertical-align: middle;\n",
       "    }\n",
       "\n",
       "    .dataframe tbody tr th {\n",
       "        vertical-align: top;\n",
       "    }\n",
       "\n",
       "    .dataframe thead th {\n",
       "        text-align: right;\n",
       "    }\n",
       "</style>\n",
       "<table border=\"1\" class=\"dataframe\">\n",
       "  <thead>\n",
       "    <tr style=\"text-align: right;\">\n",
       "      <th></th>\n",
       "      <th>stock</th>\n",
       "      <th>years</th>\n",
       "      <th>range_price</th>\n",
       "      <th>company_vintage</th>\n",
       "    </tr>\n",
       "  </thead>\n",
       "  <tbody>\n",
       "    <tr>\n",
       "      <th>0</th>\n",
       "      <td>AACG.US</td>\n",
       "      <td>8.671233</td>\n",
       "      <td>3.63297</td>\n",
       "      <td>(5, 10]</td>\n",
       "    </tr>\n",
       "    <tr>\n",
       "      <th>1</th>\n",
       "      <td>AACQ.US</td>\n",
       "      <td>0.263014</td>\n",
       "      <td>1.45000</td>\n",
       "      <td>(0, 1]</td>\n",
       "    </tr>\n",
       "    <tr>\n",
       "      <th>2</th>\n",
       "      <td>AACQU.US</td>\n",
       "      <td>0.367123</td>\n",
       "      <td>1.90000</td>\n",
       "      <td>(0, 1]</td>\n",
       "    </tr>\n",
       "    <tr>\n",
       "      <th>3</th>\n",
       "      <td>AACQW.US</td>\n",
       "      <td>0.260274</td>\n",
       "      <td>1.50500</td>\n",
       "      <td>(0, 1]</td>\n",
       "    </tr>\n",
       "    <tr>\n",
       "      <th>4</th>\n",
       "      <td>AAL.US</td>\n",
       "      <td>4.912329</td>\n",
       "      <td>47.94900</td>\n",
       "      <td>(1, 5]</td>\n",
       "    </tr>\n",
       "  </tbody>\n",
       "</table>\n",
       "</div>"
      ],
      "text/plain": [
       "      stock     years  range_price company_vintage\n",
       "0   AACG.US  8.671233      3.63297         (5, 10]\n",
       "1   AACQ.US  0.263014      1.45000          (0, 1]\n",
       "2  AACQU.US  0.367123      1.90000          (0, 1]\n",
       "3  AACQW.US  0.260274      1.50500          (0, 1]\n",
       "4    AAL.US  4.912329     47.94900          (1, 5]"
      ]
     },
     "execution_count": 150,
     "metadata": {},
     "output_type": "execute_result"
    }
   ],
   "source": [
    "clean_meta_df['company_vintage'].apply(str)\n",
    "print(clean_meta_df.info())\n",
    "clean_meta_df.head()"
   ]
  },
  {
   "cell_type": "markdown",
   "metadata": {},
   "source": [
    "### Company age classification [Results]"
   ]
  },
  {
   "cell_type": "code",
   "execution_count": 133,
   "metadata": {
    "ExecuteTime": {
     "end_time": "2021-02-04T22:57:16.738071Z",
     "start_time": "2021-02-04T22:57:15.577291Z"
    }
   },
   "outputs": [
    {
     "data": {
      "text/plain": [
       "<AxesSubplot:xlabel='years', ylabel='Count'>"
      ]
     },
     "execution_count": 133,
     "metadata": {},
     "output_type": "execute_result"
    },
    {
     "data": {
      "image/png": "[encoded data removed]",
      "text/plain": [
       "<Figure size 432x288 with 1 Axes>"
      ]
     },
     "metadata": {
      "needs_background": "light"
     },
     "output_type": "display_data"
    }
   ],
   "source": [
    "sns.histplot(data=clean_meta_df, x='years', binwidth=1, hue='company_vintage')"
   ]
  },
  {
   "cell_type": "code",
   "execution_count": 153,
   "metadata": {
    "ExecuteTime": {
     "end_time": "2021-02-04T23:07:23.779908Z",
     "start_time": "2021-02-04T23:07:23.727533Z"
    }
   },
   "outputs": [
    {
     "ename": "TypeError",
     "evalue": "unsupported operand type(s) for &: 'float' and 'float'",
     "output_type": "error",
     "traceback": [
      "\u001b[0;31m---------------------------------------------------------------------------\u001b[0m",
      "\u001b[0;31mTypeError\u001b[0m                                 Traceback (most recent call last)",
      "\u001b[0;32m<ipython-input-153-e5df41b91379>\u001b[0m in \u001b[0;36m<module>\u001b[0;34m\u001b[0m\n\u001b[1;32m      1\u001b[0m \u001b[0msdfg\u001b[0m \u001b[0;34m=\u001b[0m \u001b[0mclean_meta_df\u001b[0m\u001b[0;34m.\u001b[0m\u001b[0mcopy\u001b[0m\u001b[0;34m(\u001b[0m\u001b[0;34m)\u001b[0m\u001b[0;34m\u001b[0m\u001b[0;34m\u001b[0m\u001b[0m\n\u001b[0;32m----> 2\u001b[0;31m \u001b[0msdfg\u001b[0m\u001b[0;34m[\u001b[0m\u001b[0;34m'company_vintage'\u001b[0m\u001b[0;34m]\u001b[0m \u001b[0;34m=\u001b[0m \u001b[0msdfg\u001b[0m\u001b[0;34m[\u001b[0m\u001b[0;34m'years'\u001b[0m\u001b[0;34m]\u001b[0m\u001b[0;34m.\u001b[0m\u001b[0mapply\u001b[0m\u001b[0;34m(\u001b[0m\u001b[0;32mlambda\u001b[0m \u001b[0mx\u001b[0m\u001b[0;34m:\u001b[0m \u001b[0mbinning_years\u001b[0m\u001b[0;34m(\u001b[0m\u001b[0mx\u001b[0m\u001b[0;34m)\u001b[0m\u001b[0;34m)\u001b[0m\u001b[0;34m\u001b[0m\u001b[0;34m\u001b[0m\u001b[0m\n\u001b[0m",
      "\u001b[0;32m~/.pyenv/versions/3.7.7/envs/lewagon/lib/python3.7/site-packages/pandas/core/series.py\u001b[0m in \u001b[0;36mapply\u001b[0;34m(self, func, convert_dtype, args, **kwds)\u001b[0m\n\u001b[1;32m   3589\u001b[0m             \u001b[0;32melse\u001b[0m\u001b[0;34m:\u001b[0m\u001b[0;34m\u001b[0m\u001b[0;34m\u001b[0m\u001b[0m\n\u001b[1;32m   3590\u001b[0m                 \u001b[0mvalues\u001b[0m \u001b[0;34m=\u001b[0m \u001b[0mself\u001b[0m\u001b[0;34m.\u001b[0m\u001b[0mastype\u001b[0m\u001b[0;34m(\u001b[0m\u001b[0mobject\u001b[0m\u001b[0;34m)\u001b[0m\u001b[0;34m.\u001b[0m\u001b[0mvalues\u001b[0m\u001b[0;34m\u001b[0m\u001b[0;34m\u001b[0m\u001b[0m\n\u001b[0;32m-> 3591\u001b[0;31m                 \u001b[0mmapped\u001b[0m \u001b[0;34m=\u001b[0m \u001b[0mlib\u001b[0m\u001b[0;34m.\u001b[0m\u001b[0mmap_infer\u001b[0m\u001b[0;34m(\u001b[0m\u001b[0mvalues\u001b[0m\u001b[0;34m,\u001b[0m \u001b[0mf\u001b[0m\u001b[0;34m,\u001b[0m \u001b[0mconvert\u001b[0m\u001b[0;34m=\u001b[0m\u001b[0mconvert_dtype\u001b[0m\u001b[0;34m)\u001b[0m\u001b[0;34m\u001b[0m\u001b[0;34m\u001b[0m\u001b[0m\n\u001b[0m\u001b[1;32m   3592\u001b[0m \u001b[0;34m\u001b[0m\u001b[0m\n\u001b[1;32m   3593\u001b[0m         \u001b[0;32mif\u001b[0m \u001b[0mlen\u001b[0m\u001b[0;34m(\u001b[0m\u001b[0mmapped\u001b[0m\u001b[0;34m)\u001b[0m \u001b[0;32mand\u001b[0m \u001b[0misinstance\u001b[0m\u001b[0;34m(\u001b[0m\u001b[0mmapped\u001b[0m\u001b[0;34m[\u001b[0m\u001b[0;36m0\u001b[0m\u001b[0;34m]\u001b[0m\u001b[0;34m,\u001b[0m \u001b[0mSeries\u001b[0m\u001b[0;34m)\u001b[0m\u001b[0;34m:\u001b[0m\u001b[0;34m\u001b[0m\u001b[0;34m\u001b[0m\u001b[0m\n",
      "\u001b[0;32mpandas/_libs/lib.pyx\u001b[0m in \u001b[0;36mpandas._libs.lib.map_infer\u001b[0;34m()\u001b[0m\n",
      "\u001b[0;32m<ipython-input-153-e5df41b91379>\u001b[0m in \u001b[0;36m<lambda>\u001b[0;34m(x)\u001b[0m\n\u001b[1;32m      1\u001b[0m \u001b[0msdfg\u001b[0m \u001b[0;34m=\u001b[0m \u001b[0mclean_meta_df\u001b[0m\u001b[0;34m.\u001b[0m\u001b[0mcopy\u001b[0m\u001b[0;34m(\u001b[0m\u001b[0;34m)\u001b[0m\u001b[0;34m\u001b[0m\u001b[0;34m\u001b[0m\u001b[0m\n\u001b[0;32m----> 2\u001b[0;31m \u001b[0msdfg\u001b[0m\u001b[0;34m[\u001b[0m\u001b[0;34m'company_vintage'\u001b[0m\u001b[0;34m]\u001b[0m \u001b[0;34m=\u001b[0m \u001b[0msdfg\u001b[0m\u001b[0;34m[\u001b[0m\u001b[0;34m'years'\u001b[0m\u001b[0;34m]\u001b[0m\u001b[0;34m.\u001b[0m\u001b[0mapply\u001b[0m\u001b[0;34m(\u001b[0m\u001b[0;32mlambda\u001b[0m \u001b[0mx\u001b[0m\u001b[0;34m:\u001b[0m \u001b[0mbinning_years\u001b[0m\u001b[0;34m(\u001b[0m\u001b[0mx\u001b[0m\u001b[0;34m)\u001b[0m\u001b[0;34m)\u001b[0m\u001b[0;34m\u001b[0m\u001b[0;34m\u001b[0m\u001b[0m\n\u001b[0m",
      "\u001b[0;32m<ipython-input-152-462a4fbcd48f>\u001b[0m in \u001b[0;36mbinning_years\u001b[0;34m(x)\u001b[0m\n\u001b[1;32m      1\u001b[0m \u001b[0;32mdef\u001b[0m \u001b[0mbinning_years\u001b[0m\u001b[0;34m(\u001b[0m\u001b[0mx\u001b[0m\u001b[0;34m)\u001b[0m\u001b[0;34m:\u001b[0m\u001b[0;34m\u001b[0m\u001b[0;34m\u001b[0m\u001b[0m\n\u001b[1;32m      2\u001b[0m     \u001b[0;32mif\u001b[0m \u001b[0mx\u001b[0m \u001b[0;34m<=\u001b[0m \u001b[0;36m1\u001b[0m\u001b[0;34m:\u001b[0m \u001b[0mx\u001b[0m \u001b[0;34m=\u001b[0m \u001b[0;34m'(0, 1]'\u001b[0m\u001b[0;34m\u001b[0m\u001b[0;34m\u001b[0m\u001b[0m\n\u001b[0;32m----> 3\u001b[0;31m     \u001b[0;32melif\u001b[0m \u001b[0mx\u001b[0m \u001b[0;34m>\u001b[0m \u001b[0;36m1.0\u001b[0m \u001b[0;34m&\u001b[0m \u001b[0mx\u001b[0m \u001b[0;34m<=\u001b[0m \u001b[0;36m5.0\u001b[0m\u001b[0;34m:\u001b[0m \u001b[0mx\u001b[0m \u001b[0;34m=\u001b[0m \u001b[0;34m'(1, 5]'\u001b[0m\u001b[0;34m\u001b[0m\u001b[0;34m\u001b[0m\u001b[0m\n\u001b[0m\u001b[1;32m      4\u001b[0m     \u001b[0;32melif\u001b[0m \u001b[0mx\u001b[0m \u001b[0;34m>\u001b[0m \u001b[0;36m5.0\u001b[0m \u001b[0;34m&\u001b[0m \u001b[0mx\u001b[0m \u001b[0;34m<=\u001b[0m \u001b[0;36m10.0\u001b[0m\u001b[0;34m:\u001b[0m \u001b[0mx\u001b[0m \u001b[0;34m=\u001b[0m \u001b[0;34m'(5, 10]'\u001b[0m\u001b[0;34m\u001b[0m\u001b[0;34m\u001b[0m\u001b[0m\n\u001b[1;32m      5\u001b[0m     \u001b[0;32melif\u001b[0m \u001b[0mx\u001b[0m \u001b[0;34m>\u001b[0m \u001b[0;36m10.0\u001b[0m \u001b[0;34m&\u001b[0m \u001b[0mx\u001b[0m \u001b[0;34m<=\u001b[0m \u001b[0;36m15.0\u001b[0m\u001b[0;34m:\u001b[0m \u001b[0mx\u001b[0m \u001b[0;34m=\u001b[0m \u001b[0;34m'(10, 15]'\u001b[0m\u001b[0;34m\u001b[0m\u001b[0;34m\u001b[0m\u001b[0m\n",
      "\u001b[0;31mTypeError\u001b[0m: unsupported operand type(s) for &: 'float' and 'float'"
     ]
    }
   ],
   "source": [
    "sdfg = clean_meta_df.copy()\n",
    "sdfg['company_vintage'] = sdfg['years'].apply(lambda x: binning_years(x))"
   ]
  },
  {
   "cell_type": "code",
   "execution_count": 107,
   "metadata": {
    "ExecuteTime": {
     "end_time": "2021-02-04T22:36:31.872504Z",
     "start_time": "2021-02-04T22:36:31.853571Z"
    }
   },
   "outputs": [
    {
     "data": {
      "text/plain": [
       "company_vintage\n",
       "(0, 1]      1069\n",
       "(1, 5]      1252\n",
       "(5, 10]      564\n",
       "(10, 15]     950\n",
       "(15, 20]      32\n",
       "(20, 25]      37\n",
       "(25, 30]      13\n",
       "(30, 40]       4\n",
       "Name: stock, dtype: int64"
      ]
     },
     "execution_count": 107,
     "metadata": {},
     "output_type": "execute_result"
    }
   ],
   "source": [
    "clean_meta_df.groupby('company_vintage')['stock'].count()"
   ]
  },
  {
   "cell_type": "code",
   "execution_count": 111,
   "metadata": {
    "ExecuteTime": {
     "end_time": "2021-02-04T22:44:10.879699Z",
     "start_time": "2021-02-04T22:44:10.855757Z"
    }
   },
   "outputs": [
    {
     "data": {
      "text/html": [
       "<div>\n",
       "<style scoped>\n",
       "    .dataframe tbody tr th:only-of-type {\n",
       "        vertical-align: middle;\n",
       "    }\n",
       "\n",
       "    .dataframe tbody tr th {\n",
       "        vertical-align: top;\n",
       "    }\n",
       "\n",
       "    .dataframe thead th {\n",
       "        text-align: right;\n",
       "    }\n",
       "</style>\n",
       "<table border=\"1\" class=\"dataframe\">\n",
       "  <thead>\n",
       "    <tr style=\"text-align: right;\">\n",
       "      <th></th>\n",
       "      <th>stock</th>\n",
       "      <th>years</th>\n",
       "      <th>range_price</th>\n",
       "      <th>company_vintage</th>\n",
       "    </tr>\n",
       "  </thead>\n",
       "  <tbody>\n",
       "  </tbody>\n",
       "</table>\n",
       "</div>"
      ],
      "text/plain": [
       "Empty DataFrame\n",
       "Columns: [stock, years, range_price, company_vintage]\n",
       "Index: []"
      ]
     },
     "execution_count": 111,
     "metadata": {},
     "output_type": "execute_result"
    }
   ],
   "source": [
    "clean_meta_df.loc[clean_meta_df['company_vintage'] == '(0, 1]']"
   ]
  },
  {
   "cell_type": "code",
   "execution_count": 118,
   "metadata": {
    "ExecuteTime": {
     "end_time": "2021-02-04T22:48:45.236414Z",
     "start_time": "2021-02-04T22:48:45.195744Z"
    }
   },
   "outputs": [
    {
     "data": {
      "text/html": [
       "<div>\n",
       "<style scoped>\n",
       "    .dataframe tbody tr th:only-of-type {\n",
       "        vertical-align: middle;\n",
       "    }\n",
       "\n",
       "    .dataframe tbody tr th {\n",
       "        vertical-align: top;\n",
       "    }\n",
       "\n",
       "    .dataframe thead th {\n",
       "        text-align: right;\n",
       "    }\n",
       "</style>\n",
       "<table border=\"1\" class=\"dataframe\">\n",
       "  <thead>\n",
       "    <tr style=\"text-align: right;\">\n",
       "      <th></th>\n",
       "      <th>stock</th>\n",
       "      <th>years</th>\n",
       "      <th>range_price</th>\n",
       "      <th>company_vintage</th>\n",
       "    </tr>\n",
       "    <tr>\n",
       "      <th>years</th>\n",
       "      <th></th>\n",
       "      <th></th>\n",
       "      <th></th>\n",
       "      <th></th>\n",
       "    </tr>\n",
       "  </thead>\n",
       "  <tbody>\n",
       "    <tr>\n",
       "      <th>(0, 1]</th>\n",
       "      <td>1069</td>\n",
       "      <td>1069</td>\n",
       "      <td>1069</td>\n",
       "      <td>1069</td>\n",
       "    </tr>\n",
       "    <tr>\n",
       "      <th>(1, 5]</th>\n",
       "      <td>1252</td>\n",
       "      <td>1252</td>\n",
       "      <td>1252</td>\n",
       "      <td>1252</td>\n",
       "    </tr>\n",
       "    <tr>\n",
       "      <th>(5, 10]</th>\n",
       "      <td>564</td>\n",
       "      <td>564</td>\n",
       "      <td>564</td>\n",
       "      <td>564</td>\n",
       "    </tr>\n",
       "    <tr>\n",
       "      <th>(10, 15]</th>\n",
       "      <td>950</td>\n",
       "      <td>950</td>\n",
       "      <td>950</td>\n",
       "      <td>950</td>\n",
       "    </tr>\n",
       "    <tr>\n",
       "      <th>(15, 20]</th>\n",
       "      <td>32</td>\n",
       "      <td>32</td>\n",
       "      <td>32</td>\n",
       "      <td>32</td>\n",
       "    </tr>\n",
       "    <tr>\n",
       "      <th>(20, 25]</th>\n",
       "      <td>37</td>\n",
       "      <td>37</td>\n",
       "      <td>37</td>\n",
       "      <td>37</td>\n",
       "    </tr>\n",
       "    <tr>\n",
       "      <th>(25, 30]</th>\n",
       "      <td>13</td>\n",
       "      <td>13</td>\n",
       "      <td>13</td>\n",
       "      <td>13</td>\n",
       "    </tr>\n",
       "    <tr>\n",
       "      <th>(30, 40]</th>\n",
       "      <td>4</td>\n",
       "      <td>4</td>\n",
       "      <td>4</td>\n",
       "      <td>4</td>\n",
       "    </tr>\n",
       "  </tbody>\n",
       "</table>\n",
       "</div>"
      ],
      "text/plain": [
       "          stock  years  range_price  company_vintage\n",
       "years                                               \n",
       "(0, 1]     1069   1069         1069             1069\n",
       "(1, 5]     1252   1252         1252             1252\n",
       "(5, 10]     564    564          564              564\n",
       "(10, 15]    950    950          950              950\n",
       "(15, 20]     32     32           32               32\n",
       "(20, 25]     37     37           37               37\n",
       "(25, 30]     13     13           13               13\n",
       "(30, 40]      4      4            4                4"
      ]
     },
     "execution_count": 118,
     "metadata": {},
     "output_type": "execute_result"
    }
   ],
   "source": [
    "clean_meta_df.groupby(pd.cut(meta_df['years'], bins)).count()"
   ]
  },
  {
   "cell_type": "code",
   "execution_count": 166,
   "metadata": {
    "ExecuteTime": {
     "end_time": "2021-02-04T23:20:07.280356Z",
     "start_time": "2021-02-04T23:20:07.272654Z"
    }
   },
   "outputs": [
    {
     "ename": "SyntaxError",
     "evalue": "invalid syntax (<ipython-input-166-4820a2a123bc>, line 2)",
     "output_type": "error",
     "traceback": [
      "\u001b[0;36m  File \u001b[0;32m\"<ipython-input-166-4820a2a123bc>\"\u001b[0;36m, line \u001b[0;32m2\u001b[0m\n\u001b[0;31m    if x == '(0, 1]'\u001b[0m\n\u001b[0m                    ^\u001b[0m\n\u001b[0;31mSyntaxError\u001b[0m\u001b[0;31m:\u001b[0m invalid syntax\n"
     ]
    }
   ],
   "source": [
    "def tickers_in_bins(x):\n",
    "    if x == '(0, 1]'\n",
    "    elif x == '(1, 5]'\n",
    "    elif x == '(5, 10]'\n",
    "    elif x == '(10, 15]'        \n",
    "    elif x = '(15, 20]'        \n",
    "    elif x = '(20, 25]'        \n",
    "    elif x = '(25, 30]'        \n",
    "    elif x = '(30, 40]'\n",
    "    return True"
   ]
  },
  {
   "cell_type": "code",
   "execution_count": null,
   "metadata": {},
   "outputs": [],
   "source": [
    "clean_meta_df"
   ]
  },
  {
   "cell_type": "code",
   "execution_count": 186,
   "metadata": {
    "ExecuteTime": {
     "end_time": "2021-02-04T23:32:49.065610Z",
     "start_time": "2021-02-04T23:32:48.636417Z"
    }
   },
   "outputs": [],
   "source": [
    "i = 0\n",
    "\n",
    "stocks_bin_1 = []\n",
    "stocks_bin_2 = []\n",
    "stocks_bin_3 = []\n",
    "stocks_bin_4 = []\n",
    "stocks_bin_5 = []\n",
    "stocks_bin_6 = []\n",
    "stocks_bin_7 = []\n",
    "stocks_bin_8 = []\n",
    "\n",
    "for idx, row in clean_meta_df.iterrows():\n",
    "    x = row['company_vintage']\n",
    "    if x == '(0, 1]': stocks_bin_1.append(row['stock'])\n",
    "    elif x == '(1, 5]': stocks_bin_2.append(row['stock'])\n",
    "    elif x == '(5, 10]': stocks_bin_3.append(row['stock'])\n",
    "    elif x == '(10, 15]': stocks_bin_4.append(row['stock'])        \n",
    "    elif x == '(15, 20]': stocks_bin_5.append(row['stock'])        \n",
    "    elif x == '(20, 25]': stocks_bin_6.append(row['stock'])        \n",
    "    elif x == '(25, 30]': stocks_bin_7.append(row['stock'])        \n",
    "    elif x == '(30, 40]': stocks_bin_8.append(row['stock'])\n"
   ]
  },
  {
   "cell_type": "code",
   "execution_count": 187,
   "metadata": {
    "ExecuteTime": {
     "end_time": "2021-02-04T23:32:59.411139Z",
     "start_time": "2021-02-04T23:32:59.400011Z"
    }
   },
   "outputs": [
    {
     "data": {
      "text/plain": [
       "[]"
      ]
     },
     "execution_count": 187,
     "metadata": {},
     "output_type": "execute_result"
    }
   ],
   "source": [
    "stocks_bin_1"
   ]
  },
  {
   "cell_type": "code",
   "execution_count": null,
   "metadata": {},
   "outputs": [],
   "source": []
  }
 ],
 "metadata": {
  "kernelspec": {
   "display_name": "Python 3",
   "language": "python",
   "name": "python3"
  },
  "language_info": {
   "codemirror_mode": {
    "name": "ipython",
    "version": 3
   },
   "file_extension": ".py",
   "mimetype": "text/x-python",
   "name": "python",
   "nbconvert_exporter": "python",
   "pygments_lexer": "ipython3",
   "version": "3.7.7"
  },
  "toc": {
   "base_numbering": 1,
   "nav_menu": {},
   "number_sections": true,
   "sideBar": true,
   "skip_h1_title": false,
   "title_cell": "Table of Contents",
   "title_sidebar": "Contents",
   "toc_cell": false,
   "toc_position": {},
   "toc_section_display": true,
   "toc_window_display": false
  },
  "varInspector": {
   "cols": {
    "lenName": 16,
    "lenType": 16,
    "lenVar": 40
   },
   "kernels_config": {
    "python": {
     "delete_cmd_postfix": "",
     "delete_cmd_prefix": "del ",
     "library": "var_list.py",
     "varRefreshCmd": "print(var_dic_list())"
    },
    "r": {
     "delete_cmd_postfix": ") ",
     "delete_cmd_prefix": "rm(",
     "library": "var_list.r",
     "varRefreshCmd": "cat(var_dic_list()) "
    }
   },
   "types_to_exclude": [
    "module",
    "function",
    "builtin_function_or_method",
    "instance",
    "_Feature"
   ],
   "window_display": false
  }
 },
 "nbformat": 4,
 "nbformat_minor": 4
}
