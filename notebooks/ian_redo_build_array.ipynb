{
 "cells": [
  {
   "cell_type": "code",
   "execution_count": 2,
   "metadata": {},
   "outputs": [],
   "source": [
    "import pandas as pd\n",
    "import numpy as np"
   ]
  },
  {
   "cell_type": "code",
   "execution_count": 4,
   "metadata": {},
   "outputs": [],
   "source": [
    "def build_arrays(df, time_window=5, stride=3, input_cols=['RSI', 'Stochastic', 'Stochastic_signal', 'ADI',\n",
    "       'OBV', 'ATR', 'ADX', 'ADX_pos', 'ADX_neg', 'MACD', 'MACD_diff',\n",
    "       'MACD_signal', '1D_past_return', '5D_past_return', '10D_past_return'] , target_col='5TD_return'):\n",
    "    \"\"\"\n",
    "    A function to transform dataframe into input and output arrays.\n",
    "\n",
    "    Takes:\n",
    "    df - input dataframe\n",
    "    time_window (default=5) - time series length\n",
    "    stride (default=3) - a step for moving window across dataframe rows\n",
    "    input_cols (default = 'RSI', 'Stochastic', 'Stochastic_signal', 'ADI',\n",
    "       'OBV', 'ATR', 'ADX', 'ADX_pos', 'ADX_neg', 'MACD', 'MACD_diff',\n",
    "       'MACD_signal', '1D_past_return', '5D_past_return', '10D_past_return']) - all input features, that should be included in the input array\n",
    "    target_col (default = '5TD_return') - target variable, first (newest) value for each input array\n",
    "\n",
    "\n",
    "    Return tuple (input_array, target_array).\n",
    "\n",
    "    input_array dim: (number_of_samples x time_window x features_number)\n",
    "    target_array dim: number_of_samples\n",
    "    \"\"\"\n",
    "\n",
    "    input_array = []\n",
    "    target_array = []\n",
    "    df_sorted = df.sort_values('date', ascending=False)\n",
    "    df_sorted.reset_index(drop=True, inplace=True)\n",
    "    for row in range(0, len(df), stride):\n",
    "        df_slice = df_sorted.iloc[row: row + time_window]\n",
    "        if df_slice.shape[0]==time_window:\n",
    "            input_array.append(np.array(df_slice[input_cols].values))\n",
    "            target_array.append(df_slice[target_col].iloc[0])\n",
    "    return np.array(input_array), np.array(target_array)"
   ]
  },
  {
   "cell_type": "code",
   "execution_count": 7,
   "metadata": {},
   "outputs": [
    {
     "data": {
      "text/plain": [
       "Index(['ticker', 'date', 'RSI', 'Stochastic', 'Stochastic_signal', 'ADI',\n",
       "       'OBV', 'ATR', 'ADX', 'ADX_pos', 'ADX_neg', 'MACD', 'MACD_diff',\n",
       "       'MACD_signal', '5TD_return', '10TD_return', '20TD_return'],\n",
       "      dtype='object')"
      ]
     },
     "execution_count": 7,
     "metadata": {},
     "output_type": "execute_result"
    }
   ],
   "source": [
    "test = pd.read_csv('../raw_data/processed/AAPL.csv')\n",
    "test.keys()"
   ]
  },
  {
   "cell_type": "code",
   "execution_count": 9,
   "metadata": {},
   "outputs": [],
   "source": [
    "INPUT_COLS = ['RSI', 'Stochastic', 'Stochastic_signal', 'ADI','OBV', 'ATR', 'ADX', 'ADX_pos', 'ADX_neg', 'MACD', 'MACD_diff','MACD_signal', '5TD_return', '10TD_return', '20TD_return']\n",
    "#INPUT_COLS = ['RSI', 'Stochastic', 'Stochastic_signal']\n",
    "\n",
    "ticker_train_x, ticker_train_y = build_arrays(test,input_cols=INPUT_COLS, target_col='20TD_return', time_window=6, stride=5)"
   ]
  },
  {
   "cell_type": "markdown",
   "metadata": {},
   "source": [
    "## Redo Function"
   ]
  },
  {
   "cell_type": "code",
   "execution_count": 116,
   "metadata": {},
   "outputs": [],
   "source": [
    "test = test.rename(columns={'5TD_return':'1D_past_return', '10TD_return': '5D_past_return', '20TD_return':'10D_past_return'})"
   ]
  },
  {
   "cell_type": "code",
   "execution_count": 141,
   "metadata": {},
   "outputs": [],
   "source": [
    "import random\n",
    "\n",
    "def build_randomised_arrays(df, time_window=5, stride=3, check_outliers=False, input_cols=['RSI', 'Stochastic', 'Stochastic_signal', 'ADI',\n",
    "       'OBV', 'ATR', 'ADX', 'ADX_pos', 'ADX_neg', 'MACD', 'MACD_diff',\n",
    "       'MACD_signal', '1D_past_return', '5D_past_return', '10D_past_return'], target_col=['1D_past_return', '5D_past_return', '10D_past_return'], \n",
    "        outlier_validation={'ATR': [-100, 100], 'Stochastic': [0, 100], 'Stochastic_signal': [-10, 110], '5D_past_return': [-0.5, 0.5]}):\n",
    "    \"\"\"\n",
    "    A function to transform dataframe into input and output arrays.\n",
    "\n",
    "    Takes:\n",
    "    df - input dataframe\n",
    "    time_window (default=5) - time series length\n",
    "    stride (default=3) - controls the number of windows taken (i.e. max_num_windows = len(df)/strides)\n",
    "    check_outliers (default=False) - controls whether it checks each window for outliers or not\n",
    "    input_cols (default = 'RSI', 'Stochastic', 'Stochastic_signal', 'ADI',\n",
    "       'OBV', 'ATR', 'ADX', 'ADX_pos', 'ADX_neg', 'MACD', 'MACD_diff',\n",
    "       'MACD_signal', '1D_past_return', '5D_past_return', '10D_past_return']) - all input features, that should \n",
    "       be included in the input array target_col (default = '5TD_return') - target variable, first (newest) value for each input array\n",
    "    target_col - all columns that should be included in target_col\n",
    "        (default: target_col=['1D_past_return', '5D_past_return', '10D_past_return'])\n",
    "    outlier_validation - a dict that sets the outlier checks to be completed. Enter data in the format:\n",
    "        outlier_validation={'column_name': [lower_threshold, upper_threshold]} \n",
    "        Example: {'Stochastic': [0, 100], 'Stochastic_signal': [-10, 110], '5D_past_return': [-0.5, 0.5]}\n",
    "\n",
    "    Return tuple (input_array, target_array).\n",
    "\n",
    "    input_array dim: (number_of_samples x time_window x features_number)\n",
    "    target_array dim: (number_of_samples x time_window x returns_numbder)\n",
    "    \"\"\"\n",
    "\n",
    "    input_array = []\n",
    "    target_array = []\n",
    "    df_sorted = df.sort_values('date', ascending=False)\n",
    "    df_sorted.reset_index(drop=True, inplace=True)    \n",
    "    max_num_windows = len(df)/stride\n",
    "    random_index = []\n",
    "    for i in range(int(max_num_windows)):\n",
    "        r=random.randint(time_window, len(df)- time_window)\n",
    "        if r not in random_index: random_index.append(r)\n",
    "    \n",
    "    for window_start in random_index:\n",
    "        outlier = False\n",
    "        df_slice = df_sorted.iloc[window_start: window_start + time_window]\n",
    "        if check_outliers == True:\n",
    "            for k, v in outlier_validation.items(): \n",
    "                if ((df_slice[k] < v[0]).any() == True) or ((df_slice[k] > v[1]).any() == True): outlier = True\n",
    "        if df_slice.shape[0]==time_window and outlier==False:\n",
    "            input_array.append(np.array(df_slice[input_cols].values))\n",
    "            target_array.append(np.array(df_slice[target_col].values))\n",
    "    \n",
    "    return np.array(input_array), np.array(target_array)"
   ]
  },
  {
   "cell_type": "code",
   "execution_count": 142,
   "metadata": {},
   "outputs": [],
   "source": [
    "INPUT_COLS = ['RSI', 'Stochastic', 'Stochastic_signal', 'ADI','OBV', 'ATR', 'ADX', 'ADX_pos', 'ADX_neg', 'MACD', 'MACD_diff','MACD_signal', '1D_past_return', '5D_past_return', '10D_past_return']\n",
    "\n",
    "ticker_train_x, ticker_train_y = build_randomised_arrays(test, input_cols=INPUT_COLS, check_outliers=True, target_col=['1D_past_return', '5D_past_return', '10D_past_return'], time_window=6)"
   ]
  },
  {
   "cell_type": "code",
   "execution_count": 136,
   "metadata": {},
   "outputs": [
    {
     "data": {
      "text/plain": [
       "3038.3333333333335"
      ]
     },
     "execution_count": 136,
     "metadata": {},
     "output_type": "execute_result"
    }
   ],
   "source": [
    "len(test)/3"
   ]
  },
  {
   "cell_type": "code",
   "execution_count": 137,
   "metadata": {},
   "outputs": [
    {
     "data": {
      "text/plain": [
       "2546"
      ]
     },
     "execution_count": 137,
     "metadata": {},
     "output_type": "execute_result"
    }
   ],
   "source": [
    "len(ticker_train_x)"
   ]
  },
  {
   "cell_type": "code",
   "execution_count": 138,
   "metadata": {},
   "outputs": [
    {
     "data": {
      "text/plain": [
       "(2546, 6, 15)"
      ]
     },
     "execution_count": 138,
     "metadata": {},
     "output_type": "execute_result"
    }
   ],
   "source": [
    "ticker_train_x.shape"
   ]
  },
  {
   "cell_type": "code",
   "execution_count": 139,
   "metadata": {},
   "outputs": [
    {
     "data": {
      "text/plain": [
       "2546"
      ]
     },
     "execution_count": 139,
     "metadata": {},
     "output_type": "execute_result"
    }
   ],
   "source": [
    "len(ticker_train_y)"
   ]
  },
  {
   "cell_type": "code",
   "execution_count": 132,
   "metadata": {},
   "outputs": [
    {
     "data": {
      "text/plain": [
       "(2561, 6, 3)"
      ]
     },
     "execution_count": 132,
     "metadata": {},
     "output_type": "execute_result"
    }
   ],
   "source": [
    "ticker_train_y.shape"
   ]
  },
  {
   "cell_type": "code",
   "execution_count": 133,
   "metadata": {},
   "outputs": [
    {
     "data": {
      "text/plain": [
       "array([[[ 7.82105005e+01,  8.09254328e+01,  9.32309439e+01, ...,\n",
       "          9.46876763e-02,  5.53930122e-02,  2.59252942e-02],\n",
       "        [ 8.30196656e+01,  9.93976858e+01,  9.83023801e+01, ...,\n",
       "          7.06107866e-02,  7.92040476e-02,  3.79068433e-02],\n",
       "        [ 8.06952878e+01,  9.93697131e+01,  9.70907704e+01, ...,\n",
       "          5.49677010e-02,  6.47300493e-02,  6.67644223e-02],\n",
       "        [ 7.78155759e+01,  9.61397414e+01,  9.71019501e+01, ...,\n",
       "          8.95714228e-03,  8.09623907e-02,  5.82013416e-02],\n",
       "        [ 7.76685691e+01,  9.57628567e+01,  9.53602083e+01, ...,\n",
       "          1.98014496e-02,  1.12418108e-01,  4.83112498e-02],\n",
       "        [ 7.72307412e+01,  9.94032523e+01,  9.47386742e+01, ...,\n",
       "          2.31974332e-02,  1.20081621e-01, -2.44861795e-02]],\n",
       "\n",
       "       [[ 2.68325510e+01,  5.34484643e+00,  1.33786600e+01, ...,\n",
       "          4.73708069e-02,  4.26110607e-03,  1.43608341e-01],\n",
       "        [ 3.46211589e+01,  2.15833068e+01,  1.87370781e+01, ...,\n",
       "         -9.53035510e-02, -1.76365025e-01,  3.43642612e-03],\n",
       "        [ 3.25795489e+01,  1.32078269e+01,  1.44381856e+01, ...,\n",
       "         -9.08808210e-02, -1.47477260e-01, -1.93578481e-02],\n",
       "        [ 3.37479448e+01,  2.14201008e+01,  1.33191587e+01, ...,\n",
       "         -1.17123288e-01, -1.75684932e-01, -1.28044140e-01],\n",
       "        [ 3.01407678e+01,  8.68662911e+00,  7.05810996e+00, ...,\n",
       "         -1.32213524e-01, -1.24857401e-01, -9.85799142e-02],\n",
       "        [ 3.33391664e+01,  9.85074627e+00,  8.45305614e+00, ...,\n",
       "         -1.84503346e-01, -1.45872611e-01, -1.56075561e-01]],\n",
       "\n",
       "       [[ 5.65636658e+01,  7.13987957e+01,  8.63707979e+01, ...,\n",
       "         -2.21668178e-02,  1.13327289e-01,  1.98277425e-01],\n",
       "        [ 6.32584807e+01,  8.98332561e+01,  8.88132560e+01, ...,\n",
       "         -1.02336367e-01,  4.61585579e-02,  1.66170809e-01],\n",
       "        [ 5.72633692e+01,  9.78803419e+01,  8.55441694e+01, ...,\n",
       "         -2.37637363e-02,  1.05906593e-01,  1.84981685e-01],\n",
       "        [ 4.93648529e+01,  7.87261698e+01,  8.08994961e+01, ...,\n",
       "          5.03029720e-02,  1.73415408e-01,  2.50504953e-01],\n",
       "        [ 4.96090333e+01,  8.00259965e+01,  7.04644279e+01, ...,\n",
       "          4.41797925e-02,  1.46705724e-01,  2.29398771e-01],\n",
       "        [ 4.83598337e+01,  8.39463221e+01,  6.20748834e+01, ...,\n",
       "          6.74537888e-02,  4.37917352e-02,  2.38798026e-01]],\n",
       "\n",
       "       ...,\n",
       "\n",
       "       [[ 6.61513642e+01,  8.18133616e+01,  8.77282903e+01, ...,\n",
       "          3.29727940e-02,  6.37106120e-02,  1.55896474e-02],\n",
       "        [ 6.76045619e+01,  8.54365500e+01,  9.29610210e+01, ...,\n",
       "          2.93576975e-02,  4.72466870e-02,  5.17738085e-02],\n",
       "        [ 7.18514345e+01,  9.59349593e+01,  9.33468621e+01, ...,\n",
       "          2.24076024e-03,  3.74719905e-02,  7.77516806e-02],\n",
       "        [ 7.12673604e+01,  9.75115535e+01,  8.79299459e+01, ...,\n",
       "          3.25785959e-02,  3.62436879e-02,  8.06048759e-02],\n",
       "        [ 6.83314396e+01,  8.65940735e+01,  8.82080410e+01, ...,\n",
       "          4.40593783e-02,  7.80456499e-02,  1.09604331e-01],\n",
       "        [ 6.70540565e+01,  7.96842105e+01,  9.24506597e+01, ...,\n",
       "          2.28895600e-02,  5.66170867e-02,  1.52154893e-01]],\n",
       "\n",
       "       [[ 6.37829746e+01,  8.33165829e+01,  8.68117997e+01, ...,\n",
       "         -1.39431982e-02, -7.91829595e-02,  0.00000000e+00],\n",
       "        [ 6.37829746e+01,  9.64327259e+01,  8.50577758e+01, ...,\n",
       "          1.64642931e-02, -2.98929821e-02,  3.03045894e-02],\n",
       "        [ 5.86753563e+01,  8.06860902e+01,  6.48966165e+01, ...,\n",
       "          9.59498554e-02,  1.01253616e-02,  8.28779599e-02],\n",
       "        [ 5.82779970e+01,  7.80545113e+01,  5.28508772e+01, ...,\n",
       "          9.08113917e-02,  2.50940355e-02,  7.11445459e-02],\n",
       "        [ 5.13241871e+01,  3.59492481e+01,  4.03038847e+01, ...,\n",
       "          1.19792255e-01,  7.69447894e-02,  1.09913063e-01],\n",
       "        [ 5.29994677e+01,  4.45488722e+01,  3.83928571e+01, ...,\n",
       "          8.59920657e-02,  7.08498631e-02,  9.85640051e-02]],\n",
       "\n",
       "       [[ 3.84770672e+01,  3.17797765e+01,  4.44081039e+01, ...,\n",
       "         -2.30758341e-02, -6.39422396e-02, -8.28181775e-02],\n",
       "        [ 4.20096745e+01,  5.19760153e+01,  4.44081039e+01, ...,\n",
       "         -4.29965347e-02, -8.27557906e-02, -1.30175087e-01],\n",
       "        [ 4.13892981e+01,  4.94685200e+01,  3.66584901e+01, ...,\n",
       "         -1.23168498e-02, -6.59340659e-02, -1.36675824e-01],\n",
       "        [ 3.69725608e+01,  3.17797765e+01,  2.35759062e+01, ...,\n",
       "          3.06262092e-02, -5.50233590e-02, -1.19154358e-01],\n",
       "        [ 3.62021555e+01,  2.87271736e+01,  2.35759062e+01, ...,\n",
       "          2.33407657e-02, -3.22121543e-02, -7.79448740e-02],\n",
       "        [ 3.14877734e+01,  1.02207686e+01,  3.21097376e+01, ...,\n",
       "          3.87745098e-02,  1.48039216e-02, -9.16666667e-03]]])"
      ]
     },
     "execution_count": 133,
     "metadata": {},
     "output_type": "execute_result"
    }
   ],
   "source": [
    "ticker_train_x"
   ]
  }
 ],
 "metadata": {
  "kernelspec": {
   "display_name": "Python 3",
   "language": "python",
   "name": "python3"
  },
  "language_info": {
   "codemirror_mode": {
    "name": "ipython",
    "version": 3
   },
   "file_extension": ".py",
   "mimetype": "text/x-python",
   "name": "python",
   "nbconvert_exporter": "python",
   "pygments_lexer": "ipython3",
   "version": "3.7.7"
  }
 },
 "nbformat": 4,
 "nbformat_minor": 4
}
