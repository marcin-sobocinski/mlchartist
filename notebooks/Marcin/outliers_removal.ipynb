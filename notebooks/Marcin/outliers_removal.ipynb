{
 "cells": [
  {
   "cell_type": "code",
   "execution_count": 1,
   "metadata": {},
   "outputs": [],
   "source": [
    "import pandas as pd\n",
    "import numpy as np\n",
    "import os\n",
    "import random\n",
    "\n",
    "from mlchartist.array_builder import build_arrays\n",
    "from sklearn.preprocessing import StandardScaler, MinMaxScaler, RobustScaler"
   ]
  },
  {
   "cell_type": "code",
   "execution_count": 2,
   "metadata": {},
   "outputs": [],
   "source": [
    "min_len = 1000\n",
    "\n",
    "filenames = []\n",
    "\n",
    "for file in os.listdir(r'../raw_data/processed'):\n",
    "    if file.endswith('.csv'):\n",
    "        with open('../raw_data/processed/' + file) as f:\n",
    "            rows_num = sum(1 for line in f)\n",
    "            if rows_num >= min_len:\n",
    "                filenames.append(file)\n",
    "                    "
   ]
  },
  {
   "cell_type": "code",
   "execution_count": 3,
   "metadata": {},
   "outputs": [
    {
     "data": {
      "text/plain": [
       "2065"
      ]
     },
     "execution_count": 3,
     "metadata": {},
     "output_type": "execute_result"
    }
   ],
   "source": [
    "len(filenames)"
   ]
  },
  {
   "cell_type": "code",
   "execution_count": 4,
   "metadata": {},
   "outputs": [],
   "source": [
    "all_count = len(filenames)"
   ]
  },
  {
   "cell_type": "code",
   "execution_count": 5,
   "metadata": {},
   "outputs": [],
   "source": [
    "dfs = []\n",
    "\n",
    "for ticker in filenames:\n",
    "    ticker_df = pd.read_csv('../raw_data/processed/'+ticker)\n",
    "    dfs.append(ticker_df)"
   ]
  },
  {
   "cell_type": "code",
   "execution_count": 6,
   "metadata": {},
   "outputs": [],
   "source": [
    "df = pd.concat(dfs)"
   ]
  },
  {
   "cell_type": "code",
   "execution_count": 7,
   "metadata": {},
   "outputs": [],
   "source": [
    "#df = pd.read_csv('../raw_data/processed/aapl.csv')"
   ]
  },
  {
   "cell_type": "code",
   "execution_count": 6,
   "metadata": {},
   "outputs": [
    {
     "data": {
      "text/html": [
       "<div>\n",
       "<style scoped>\n",
       "    .dataframe tbody tr th:only-of-type {\n",
       "        vertical-align: middle;\n",
       "    }\n",
       "\n",
       "    .dataframe tbody tr th {\n",
       "        vertical-align: top;\n",
       "    }\n",
       "\n",
       "    .dataframe thead th {\n",
       "        text-align: right;\n",
       "    }\n",
       "</style>\n",
       "<table border=\"1\" class=\"dataframe\">\n",
       "  <thead>\n",
       "    <tr style=\"text-align: right;\">\n",
       "      <th></th>\n",
       "      <th>ticker</th>\n",
       "      <th>date</th>\n",
       "      <th>RSI</th>\n",
       "      <th>Stochastic</th>\n",
       "      <th>Stochastic_signal</th>\n",
       "      <th>ADI</th>\n",
       "      <th>OBV</th>\n",
       "      <th>ATR</th>\n",
       "      <th>ADX</th>\n",
       "      <th>ADX_pos</th>\n",
       "      <th>ADX_neg</th>\n",
       "      <th>MACD</th>\n",
       "      <th>MACD_diff</th>\n",
       "      <th>MACD_signal</th>\n",
       "      <th>5TD_return</th>\n",
       "      <th>10TD_return</th>\n",
       "      <th>20TD_return</th>\n",
       "      <th>1D_past_return</th>\n",
       "      <th>5D_past_return</th>\n",
       "      <th>10D_past_return</th>\n",
       "    </tr>\n",
       "  </thead>\n",
       "  <tbody>\n",
       "    <tr>\n",
       "      <th>3765</th>\n",
       "      <td>BWEN</td>\n",
       "      <td>2020-12-17</td>\n",
       "      <td>50.088731</td>\n",
       "      <td>30.442653</td>\n",
       "      <td>34.276904</td>\n",
       "      <td>-3.037682e+07</td>\n",
       "      <td>34903559</td>\n",
       "      <td>0.369723</td>\n",
       "      <td>20.190405</td>\n",
       "      <td>20.629933</td>\n",
       "      <td>14.519122</td>\n",
       "      <td>0.024685</td>\n",
       "      <td>-0.040727</td>\n",
       "      <td>0.065412</td>\n",
       "      <td>0.458738</td>\n",
       "      <td>0.917476</td>\n",
       "      <td>1.012136</td>\n",
       "      <td>-0.021378</td>\n",
       "      <td>0.035176</td>\n",
       "      <td>-0.023697</td>\n",
       "    </tr>\n",
       "    <tr>\n",
       "      <th>3766</th>\n",
       "      <td>BWEN</td>\n",
       "      <td>2020-12-18</td>\n",
       "      <td>54.586847</td>\n",
       "      <td>57.745918</td>\n",
       "      <td>40.838976</td>\n",
       "      <td>-3.040492e+07</td>\n",
       "      <td>35266168</td>\n",
       "      <td>0.375000</td>\n",
       "      <td>20.596761</td>\n",
       "      <td>22.574419</td>\n",
       "      <td>13.292327</td>\n",
       "      <td>0.037576</td>\n",
       "      <td>-0.022269</td>\n",
       "      <td>0.059845</td>\n",
       "      <td>1.020785</td>\n",
       "      <td>0.692841</td>\n",
       "      <td>1.394919</td>\n",
       "      <td>0.050971</td>\n",
       "      <td>0.118863</td>\n",
       "      <td>-0.004598</td>\n",
       "    </tr>\n",
       "    <tr>\n",
       "      <th>3767</th>\n",
       "      <td>BWEN</td>\n",
       "      <td>2020-12-21</td>\n",
       "      <td>56.009994</td>\n",
       "      <td>64.715253</td>\n",
       "      <td>50.967941</td>\n",
       "      <td>-3.029497e+07</td>\n",
       "      <td>35449415</td>\n",
       "      <td>0.369643</td>\n",
       "      <td>20.974091</td>\n",
       "      <td>21.265758</td>\n",
       "      <td>12.521758</td>\n",
       "      <td>0.052831</td>\n",
       "      <td>-0.005611</td>\n",
       "      <td>0.058442</td>\n",
       "      <td>0.755682</td>\n",
       "      <td>0.879545</td>\n",
       "      <td>1.384091</td>\n",
       "      <td>0.016166</td>\n",
       "      <td>0.113924</td>\n",
       "      <td>0.075795</td>\n",
       "    </tr>\n",
       "    <tr>\n",
       "      <th>3768</th>\n",
       "      <td>BWEN</td>\n",
       "      <td>2020-12-22</td>\n",
       "      <td>70.319524</td>\n",
       "      <td>89.189189</td>\n",
       "      <td>70.550120</td>\n",
       "      <td>-2.967559e+07</td>\n",
       "      <td>36459929</td>\n",
       "      <td>0.428954</td>\n",
       "      <td>23.508399</td>\n",
       "      <td>35.999441</td>\n",
       "      <td>10.019642</td>\n",
       "      <td>0.143953</td>\n",
       "      <td>0.068409</td>\n",
       "      <td>0.075544</td>\n",
       "      <td>0.498148</td>\n",
       "      <td>0.751852</td>\n",
       "      <td>0.662963</td>\n",
       "      <td>0.227273</td>\n",
       "      <td>0.267606</td>\n",
       "      <td>0.294964</td>\n",
       "    </tr>\n",
       "    <tr>\n",
       "      <th>3769</th>\n",
       "      <td>BWEN</td>\n",
       "      <td>2020-12-23</td>\n",
       "      <td>74.361238</td>\n",
       "      <td>81.712062</td>\n",
       "      <td>78.538835</td>\n",
       "      <td>-2.998906e+07</td>\n",
       "      <td>38251144</td>\n",
       "      <td>0.464029</td>\n",
       "      <td>26.543165</td>\n",
       "      <td>41.984367</td>\n",
       "      <td>8.600693</td>\n",
       "      <td>0.249602</td>\n",
       "      <td>0.139246</td>\n",
       "      <td>0.110356</td>\n",
       "      <td>0.355556</td>\n",
       "      <td>0.516239</td>\n",
       "      <td>0.911111</td>\n",
       "      <td>0.083333</td>\n",
       "      <td>0.389549</td>\n",
       "      <td>0.515544</td>\n",
       "    </tr>\n",
       "  </tbody>\n",
       "</table>\n",
       "</div>"
      ],
      "text/plain": [
       "     ticker        date        RSI  Stochastic  Stochastic_signal  \\\n",
       "3765   BWEN  2020-12-17  50.088731   30.442653          34.276904   \n",
       "3766   BWEN  2020-12-18  54.586847   57.745918          40.838976   \n",
       "3767   BWEN  2020-12-21  56.009994   64.715253          50.967941   \n",
       "3768   BWEN  2020-12-22  70.319524   89.189189          70.550120   \n",
       "3769   BWEN  2020-12-23  74.361238   81.712062          78.538835   \n",
       "\n",
       "               ADI       OBV       ATR        ADX    ADX_pos    ADX_neg  \\\n",
       "3765 -3.037682e+07  34903559  0.369723  20.190405  20.629933  14.519122   \n",
       "3766 -3.040492e+07  35266168  0.375000  20.596761  22.574419  13.292327   \n",
       "3767 -3.029497e+07  35449415  0.369643  20.974091  21.265758  12.521758   \n",
       "3768 -2.967559e+07  36459929  0.428954  23.508399  35.999441  10.019642   \n",
       "3769 -2.998906e+07  38251144  0.464029  26.543165  41.984367   8.600693   \n",
       "\n",
       "          MACD  MACD_diff  MACD_signal  5TD_return  10TD_return  20TD_return  \\\n",
       "3765  0.024685  -0.040727     0.065412    0.458738     0.917476     1.012136   \n",
       "3766  0.037576  -0.022269     0.059845    1.020785     0.692841     1.394919   \n",
       "3767  0.052831  -0.005611     0.058442    0.755682     0.879545     1.384091   \n",
       "3768  0.143953   0.068409     0.075544    0.498148     0.751852     0.662963   \n",
       "3769  0.249602   0.139246     0.110356    0.355556     0.516239     0.911111   \n",
       "\n",
       "      1D_past_return  5D_past_return  10D_past_return  \n",
       "3765       -0.021378        0.035176        -0.023697  \n",
       "3766        0.050971        0.118863        -0.004598  \n",
       "3767        0.016166        0.113924         0.075795  \n",
       "3768        0.227273        0.267606         0.294964  \n",
       "3769        0.083333        0.389549         0.515544  "
      ]
     },
     "execution_count": 6,
     "metadata": {},
     "output_type": "execute_result"
    }
   ],
   "source": [
    "df.tail()"
   ]
  },
  {
   "cell_type": "code",
   "execution_count": 7,
   "metadata": {},
   "outputs": [],
   "source": [
    "df['date'] = pd.to_datetime(df['date'])"
   ]
  },
  {
   "cell_type": "code",
   "execution_count": 8,
   "metadata": {},
   "outputs": [],
   "source": [
    "FIVE_TR = 0.0006\n",
    "TEN_TR = 0.0012\n",
    "TWENTY_TR = 0.0024\n",
    "INPUT_COLS = ['RSI', 'Stochastic', 'Stochastic_signal', 'ADI','OBV', 'ATR', 'ADX', 'ADX_pos', 'ADX_neg', 'MACD', 'MACD_diff','MACD_signal', '1D_past_return', '5D_past_return', '10D_past_return']\n",
    "#INPUT_COLS = ['RSI', 'Stochastic', 'Stochastic_signal']"
   ]
  },
  {
   "cell_type": "code",
   "execution_count": 9,
   "metadata": {},
   "outputs": [],
   "source": [
    "df['5D_return_bin'] = (df['5TD_return'] >= FIVE_TR)\n",
    "df['10D_return_bin'] = (df['10TD_return'] >= TEN_TR)\n",
    "df['20D_return_bin'] = (df['20TD_return'] >= TWENTY_TR)"
   ]
  },
  {
   "cell_type": "code",
   "execution_count": 10,
   "metadata": {},
   "outputs": [],
   "source": [
    "test_df = df[df['date'].dt.year >= 2018]\n",
    "train_df = df[df['date'].dt.year < 2018]"
   ]
  },
  {
   "cell_type": "code",
   "execution_count": 11,
   "metadata": {},
   "outputs": [
    {
     "data": {
      "text/html": [
       "<div>\n",
       "<style scoped>\n",
       "    .dataframe tbody tr th:only-of-type {\n",
       "        vertical-align: middle;\n",
       "    }\n",
       "\n",
       "    .dataframe tbody tr th {\n",
       "        vertical-align: top;\n",
       "    }\n",
       "\n",
       "    .dataframe thead th {\n",
       "        text-align: right;\n",
       "    }\n",
       "</style>\n",
       "<table border=\"1\" class=\"dataframe\">\n",
       "  <thead>\n",
       "    <tr style=\"text-align: right;\">\n",
       "      <th></th>\n",
       "      <th>ticker</th>\n",
       "      <th>date</th>\n",
       "      <th>RSI</th>\n",
       "      <th>Stochastic</th>\n",
       "      <th>Stochastic_signal</th>\n",
       "      <th>ADI</th>\n",
       "      <th>OBV</th>\n",
       "      <th>ATR</th>\n",
       "      <th>ADX</th>\n",
       "      <th>ADX_pos</th>\n",
       "      <th>...</th>\n",
       "      <th>MACD_signal</th>\n",
       "      <th>5TD_return</th>\n",
       "      <th>10TD_return</th>\n",
       "      <th>20TD_return</th>\n",
       "      <th>1D_past_return</th>\n",
       "      <th>5D_past_return</th>\n",
       "      <th>10D_past_return</th>\n",
       "      <th>5D_return_bin</th>\n",
       "      <th>10D_return_bin</th>\n",
       "      <th>20D_return_bin</th>\n",
       "    </tr>\n",
       "  </thead>\n",
       "  <tbody>\n",
       "    <tr>\n",
       "      <th>0</th>\n",
       "      <td>ANTE</td>\n",
       "      <td>2007-12-24</td>\n",
       "      <td>70.787198</td>\n",
       "      <td>93.702290</td>\n",
       "      <td>80.841465</td>\n",
       "      <td>-610651.708553</td>\n",
       "      <td>1667064</td>\n",
       "      <td>8.225922</td>\n",
       "      <td>49.949180</td>\n",
       "      <td>37.585940</td>\n",
       "      <td>...</td>\n",
       "      <td>4.296884</td>\n",
       "      <td>-0.017607</td>\n",
       "      <td>0.050113</td>\n",
       "      <td>0.037020</td>\n",
       "      <td>0.024041</td>\n",
       "      <td>0.189581</td>\n",
       "      <td>0.075243</td>\n",
       "      <td>False</td>\n",
       "      <td>True</td>\n",
       "      <td>True</td>\n",
       "    </tr>\n",
       "    <tr>\n",
       "      <th>1</th>\n",
       "      <td>ANTE</td>\n",
       "      <td>2007-12-26</td>\n",
       "      <td>68.702427</td>\n",
       "      <td>88.755020</td>\n",
       "      <td>88.745312</td>\n",
       "      <td>-612748.925421</td>\n",
       "      <td>1658775</td>\n",
       "      <td>7.934785</td>\n",
       "      <td>50.232094</td>\n",
       "      <td>36.208902</td>\n",
       "      <td>...</td>\n",
       "      <td>4.548141</td>\n",
       "      <td>0.043796</td>\n",
       "      <td>0.088047</td>\n",
       "      <td>0.062500</td>\n",
       "      <td>-0.010384</td>\n",
       "      <td>0.147644</td>\n",
       "      <td>0.076621</td>\n",
       "      <td>True</td>\n",
       "      <td>True</td>\n",
       "      <td>True</td>\n",
       "    </tr>\n",
       "    <tr>\n",
       "      <th>2</th>\n",
       "      <td>ANTE</td>\n",
       "      <td>2007-12-27</td>\n",
       "      <td>67.675861</td>\n",
       "      <td>85.044643</td>\n",
       "      <td>89.167318</td>\n",
       "      <td>-592980.238304</td>\n",
       "      <td>1616927</td>\n",
       "      <td>7.950157</td>\n",
       "      <td>49.486039</td>\n",
       "      <td>33.605032</td>\n",
       "      <td>...</td>\n",
       "      <td>4.780955</td>\n",
       "      <td>0.082072</td>\n",
       "      <td>0.108666</td>\n",
       "      <td>0.064191</td>\n",
       "      <td>-0.005018</td>\n",
       "      <td>0.066504</td>\n",
       "      <td>0.102072</td>\n",
       "      <td>True</td>\n",
       "      <td>True</td>\n",
       "      <td>True</td>\n",
       "    </tr>\n",
       "    <tr>\n",
       "      <th>3</th>\n",
       "      <td>ANTE</td>\n",
       "      <td>2007-12-28</td>\n",
       "      <td>73.837680</td>\n",
       "      <td>75.143678</td>\n",
       "      <td>82.981114</td>\n",
       "      <td>-592034.629853</td>\n",
       "      <td>1654226</td>\n",
       "      <td>8.650146</td>\n",
       "      <td>49.753824</td>\n",
       "      <td>40.585523</td>\n",
       "      <td>...</td>\n",
       "      <td>5.107541</td>\n",
       "      <td>-0.017933</td>\n",
       "      <td>0.069172</td>\n",
       "      <td>-0.045687</td>\n",
       "      <td>0.073819</td>\n",
       "      <td>0.144113</td>\n",
       "      <td>0.213472</td>\n",
       "      <td>False</td>\n",
       "      <td>True</td>\n",
       "      <td>False</td>\n",
       "    </tr>\n",
       "    <tr>\n",
       "      <th>4</th>\n",
       "      <td>ANTE</td>\n",
       "      <td>2007-12-31</td>\n",
       "      <td>65.192540</td>\n",
       "      <td>60.201149</td>\n",
       "      <td>73.463157</td>\n",
       "      <td>-635383.339531</td>\n",
       "      <td>1550856</td>\n",
       "      <td>8.585850</td>\n",
       "      <td>50.002481</td>\n",
       "      <td>38.006337</td>\n",
       "      <td>...</td>\n",
       "      <td>5.381177</td>\n",
       "      <td>0.027703</td>\n",
       "      <td>0.139410</td>\n",
       "      <td>-0.016979</td>\n",
       "      <td>-0.044406</td>\n",
       "      <td>0.034674</td>\n",
       "      <td>0.155992</td>\n",
       "      <td>True</td>\n",
       "      <td>True</td>\n",
       "      <td>False</td>\n",
       "    </tr>\n",
       "  </tbody>\n",
       "</table>\n",
       "<p>5 rows × 23 columns</p>\n",
       "</div>"
      ],
      "text/plain": [
       "  ticker       date        RSI  Stochastic  Stochastic_signal            ADI  \\\n",
       "0   ANTE 2007-12-24  70.787198   93.702290          80.841465 -610651.708553   \n",
       "1   ANTE 2007-12-26  68.702427   88.755020          88.745312 -612748.925421   \n",
       "2   ANTE 2007-12-27  67.675861   85.044643          89.167318 -592980.238304   \n",
       "3   ANTE 2007-12-28  73.837680   75.143678          82.981114 -592034.629853   \n",
       "4   ANTE 2007-12-31  65.192540   60.201149          73.463157 -635383.339531   \n",
       "\n",
       "       OBV       ATR        ADX    ADX_pos  ...  MACD_signal  5TD_return  \\\n",
       "0  1667064  8.225922  49.949180  37.585940  ...     4.296884   -0.017607   \n",
       "1  1658775  7.934785  50.232094  36.208902  ...     4.548141    0.043796   \n",
       "2  1616927  7.950157  49.486039  33.605032  ...     4.780955    0.082072   \n",
       "3  1654226  8.650146  49.753824  40.585523  ...     5.107541   -0.017933   \n",
       "4  1550856  8.585850  50.002481  38.006337  ...     5.381177    0.027703   \n",
       "\n",
       "   10TD_return  20TD_return  1D_past_return  5D_past_return  10D_past_return  \\\n",
       "0     0.050113     0.037020        0.024041        0.189581         0.075243   \n",
       "1     0.088047     0.062500       -0.010384        0.147644         0.076621   \n",
       "2     0.108666     0.064191       -0.005018        0.066504         0.102072   \n",
       "3     0.069172    -0.045687        0.073819        0.144113         0.213472   \n",
       "4     0.139410    -0.016979       -0.044406        0.034674         0.155992   \n",
       "\n",
       "   5D_return_bin  10D_return_bin  20D_return_bin  \n",
       "0          False            True            True  \n",
       "1           True            True            True  \n",
       "2           True            True            True  \n",
       "3          False            True           False  \n",
       "4           True            True           False  \n",
       "\n",
       "[5 rows x 23 columns]"
      ]
     },
     "execution_count": 11,
     "metadata": {},
     "output_type": "execute_result"
    }
   ],
   "source": [
    "train_df.head()"
   ]
  },
  {
   "cell_type": "code",
   "execution_count": 12,
   "metadata": {},
   "outputs": [],
   "source": [
    "import joblib"
   ]
  },
  {
   "cell_type": "code",
   "execution_count": 13,
   "metadata": {},
   "outputs": [
    {
     "data": {
      "text/plain": [
       "['../raw_data/tmp/train_1000']"
      ]
     },
     "execution_count": 13,
     "metadata": {},
     "output_type": "execute_result"
    }
   ],
   "source": [
    "joblib.dump(train_df, '../raw_data/tmp/train_1000')"
   ]
  },
  {
   "cell_type": "code",
   "execution_count": 14,
   "metadata": {},
   "outputs": [],
   "source": [
    "outlier_comp = set()"
   ]
  },
  {
   "cell_type": "code",
   "execution_count": 15,
   "metadata": {},
   "outputs": [],
   "source": [
    "outlier_comp.update(train_df[(train_df['1D_past_return'] > .5) | (train_df['1D_past_return'] < -.5)]['ticker'].unique())"
   ]
  },
  {
   "cell_type": "code",
   "execution_count": 16,
   "metadata": {},
   "outputs": [
    {
     "data": {
      "text/plain": [
       "504"
      ]
     },
     "execution_count": 16,
     "metadata": {},
     "output_type": "execute_result"
    }
   ],
   "source": [
    "len(outlier_comp)"
   ]
  },
  {
   "cell_type": "code",
   "execution_count": 17,
   "metadata": {},
   "outputs": [
    {
     "data": {
      "text/plain": [
       "{'AAPL',\n",
       " 'AB',\n",
       " 'ABEO',\n",
       " 'ABIO',\n",
       " 'ACAD',\n",
       " 'ACER',\n",
       " 'ACHV',\n",
       " 'ACL',\n",
       " 'ACOR',\n",
       " 'ACRX',\n",
       " 'ACST',\n",
       " 'ADM',\n",
       " 'ADMP',\n",
       " 'ADVM',\n",
       " 'AEHL',\n",
       " 'AERI',\n",
       " 'AEZ',\n",
       " 'AGEN',\n",
       " 'AHPI',\n",
       " 'AIKI',\n",
       " 'AKER',\n",
       " 'ALBO',\n",
       " 'ALDX',\n",
       " 'ALIM',\n",
       " 'ALNY',\n",
       " 'ALPN',\n",
       " 'ALSK',\n",
       " 'ALT',\n",
       " 'AMAG',\n",
       " 'AMD',\n",
       " 'AMRN',\n",
       " 'AMTX',\n",
       " 'ANGI',\n",
       " 'ANIP',\n",
       " 'ANIX',\n",
       " 'ANY',\n",
       " 'APDN',\n",
       " 'APEN',\n",
       " 'APEX',\n",
       " 'APOP',\n",
       " 'APTO',\n",
       " 'APVO',\n",
       " 'APYX',\n",
       " 'ARAV',\n",
       " 'ARCT',\n",
       " 'ARNA',\n",
       " 'ARWR',\n",
       " 'ASMB',\n",
       " 'ASP',\n",
       " 'ASRT',\n",
       " 'ASRV',\n",
       " 'ASTC',\n",
       " 'ASUR',\n",
       " 'ATEC',\n",
       " 'ATHE',\n",
       " 'ATHX',\n",
       " 'ATLO',\n",
       " 'ATO',\n",
       " 'ATRC',\n",
       " 'ATSG',\n",
       " 'AUPH',\n",
       " 'AVEO',\n",
       " 'AVGR',\n",
       " 'AWH',\n",
       " 'AWRE',\n",
       " 'AXA',\n",
       " 'AXDX',\n",
       " 'AXGN',\n",
       " 'AYRO',\n",
       " 'BASI',\n",
       " 'BBGI',\n",
       " 'BBI',\n",
       " 'BBSI',\n",
       " 'BCLI',\n",
       " 'BCRX',\n",
       " 'BDSI',\n",
       " 'BEAT',\n",
       " 'BEEM',\n",
       " 'BIMI',\n",
       " 'BIOC',\n",
       " 'BIOL',\n",
       " 'BLDP',\n",
       " 'BLDR',\n",
       " 'BLF',\n",
       " 'BLIN',\n",
       " 'BLPH',\n",
       " 'BLRX',\n",
       " 'BLUE',\n",
       " 'BNSO',\n",
       " 'BNTC',\n",
       " 'BOSC',\n",
       " 'BPOP',\n",
       " 'BPTH',\n",
       " 'BRID',\n",
       " 'BSTC',\n",
       " 'BWEN',\n",
       " 'BYFC',\n",
       " 'CAMT',\n",
       " 'CAPR',\n",
       " 'CAR',\n",
       " 'CARV',\n",
       " 'CASI',\n",
       " 'CATB',\n",
       " 'CATM',\n",
       " 'CBAT',\n",
       " 'CBIO',\n",
       " 'CBLI',\n",
       " 'CBMG',\n",
       " 'CBPO',\n",
       " 'CCOI',\n",
       " 'CCXI',\n",
       " 'CDMO',\n",
       " 'CER',\n",
       " 'CERC',\n",
       " 'CGEN',\n",
       " 'CHCI',\n",
       " 'CHEK',\n",
       " 'CHF',\n",
       " 'CHMA',\n",
       " 'CHNR',\n",
       " 'CIDM',\n",
       " 'CLB',\n",
       " 'CLDX',\n",
       " 'CLRB',\n",
       " 'CLRO',\n",
       " 'CLSN',\n",
       " 'CLV',\n",
       " 'CMRX',\n",
       " 'CNCE',\n",
       " 'CNET',\n",
       " 'CORT',\n",
       " 'CP',\n",
       " 'CPAH',\n",
       " 'CRBP',\n",
       " 'CRDF',\n",
       " 'CREG',\n",
       " 'CRW',\n",
       " 'CSCW',\n",
       " 'CTHR',\n",
       " 'CTIB',\n",
       " 'CTIC',\n",
       " 'CTSO',\n",
       " 'CVCY',\n",
       " 'CVGI',\n",
       " 'CVV',\n",
       " 'CWST',\n",
       " 'CXDC',\n",
       " 'CYCC',\n",
       " 'CYRX',\n",
       " 'CYTK',\n",
       " 'DAIO',\n",
       " 'DARE',\n",
       " 'DGLY',\n",
       " 'DJCO',\n",
       " 'DLHC',\n",
       " 'DORM',\n",
       " 'DRIO',\n",
       " 'DRRX',\n",
       " 'DSKEW',\n",
       " 'DVAX',\n",
       " 'DXCM',\n",
       " 'DXLG',\n",
       " 'DXPE',\n",
       " 'DYNT',\n",
       " 'DZSI',\n",
       " 'EDAP',\n",
       " 'EGLE',\n",
       " 'EHTH',\n",
       " 'ELTK',\n",
       " 'ELY',\n",
       " 'EMKR',\n",
       " 'ENLV',\n",
       " 'ENSG',\n",
       " 'EPZM',\n",
       " 'ERII',\n",
       " 'ESCA',\n",
       " 'ESEA',\n",
       " 'ESPR',\n",
       " 'EVFM',\n",
       " 'EVK',\n",
       " 'EVOK',\n",
       " 'EWBC',\n",
       " 'EXA',\n",
       " 'EXEL',\n",
       " 'EYEG',\n",
       " 'FBIO',\n",
       " 'FBM',\n",
       " 'FFHL',\n",
       " 'FITB',\n",
       " 'FLXN',\n",
       " 'FOLD',\n",
       " 'FONR',\n",
       " 'FORD',\n",
       " 'FPRX',\n",
       " 'FRTA',\n",
       " 'FTFT',\n",
       " 'FVE',\n",
       " 'FWONA',\n",
       " 'FWONK',\n",
       " 'GALT',\n",
       " 'GDEN',\n",
       " 'GENE',\n",
       " 'GERN',\n",
       " 'GEVO',\n",
       " 'GFN',\n",
       " 'GL',\n",
       " 'GLB',\n",
       " 'GLG',\n",
       " 'GLNG',\n",
       " 'GLYC',\n",
       " 'GNCA',\n",
       " 'GRBK',\n",
       " 'GROW',\n",
       " 'GRVY',\n",
       " 'GTIM',\n",
       " 'GWPH',\n",
       " 'GYRO',\n",
       " 'HALO',\n",
       " 'HBAN',\n",
       " 'HDSN',\n",
       " 'HEPA',\n",
       " 'HGEN',\n",
       " 'HGSH',\n",
       " 'HMNF',\n",
       " 'HNRG',\n",
       " 'HRTX',\n",
       " 'HSKA',\n",
       " 'HSTO',\n",
       " 'HTBX',\n",
       " 'HTGM',\n",
       " 'HURN',\n",
       " 'IAC',\n",
       " 'IBCP',\n",
       " 'ICAD',\n",
       " 'ICON',\n",
       " 'ICPT',\n",
       " 'IDEX',\n",
       " 'IDN',\n",
       " 'IDXG',\n",
       " 'IIN',\n",
       " 'IKNX',\n",
       " 'IMBI',\n",
       " 'IMGN',\n",
       " 'IMMP',\n",
       " 'IMUX',\n",
       " 'INFI',\n",
       " 'INO',\n",
       " 'INPX',\n",
       " 'INSM',\n",
       " 'INVE',\n",
       " 'IOVA',\n",
       " 'ISEE',\n",
       " 'ISIG',\n",
       " 'ISN',\n",
       " 'ITCI',\n",
       " 'IZEA',\n",
       " 'JAGX',\n",
       " 'JAN',\n",
       " 'JAZZ',\n",
       " 'JRJC',\n",
       " 'JVA',\n",
       " 'KALV',\n",
       " 'KBSF',\n",
       " 'KO',\n",
       " 'KPTI',\n",
       " 'KTCC',\n",
       " 'KTOVW',\n",
       " 'KURA',\n",
       " 'KVHI',\n",
       " 'KZIA',\n",
       " 'LAKE',\n",
       " 'LECO',\n",
       " 'LED',\n",
       " 'LGND',\n",
       " 'LINC',\n",
       " 'LIVE',\n",
       " 'LJPC',\n",
       " 'LLIT',\n",
       " 'LMFA',\n",
       " 'LNTH',\n",
       " 'LPCN',\n",
       " 'LPTH',\n",
       " 'LRMR',\n",
       " 'LTBR',\n",
       " 'LUMO',\n",
       " 'LUNA',\n",
       " 'LXRX',\n",
       " 'MACK',\n",
       " 'MAG',\n",
       " 'MARA',\n",
       " 'MARK',\n",
       " 'MBOT',\n",
       " 'MBRX',\n",
       " 'MCRB',\n",
       " 'MDCA',\n",
       " 'MDG',\n",
       " 'MDGL',\n",
       " 'MDRX',\n",
       " 'MDVL',\n",
       " 'MEIP',\n",
       " 'MERC',\n",
       " 'MGEN',\n",
       " 'MGIC',\n",
       " 'MICT',\n",
       " 'MITK',\n",
       " 'MLND',\n",
       " 'MNDO',\n",
       " 'MNKD',\n",
       " 'MNOV',\n",
       " 'MOSY',\n",
       " 'MRLN',\n",
       " 'MRN',\n",
       " 'MRTX',\n",
       " 'MTBC',\n",
       " 'MTEM',\n",
       " 'MTEX',\n",
       " 'MTSL',\n",
       " 'MVI',\n",
       " 'MYOK',\n",
       " 'MYT',\n",
       " 'NAKD',\n",
       " 'NATR',\n",
       " 'NBIX',\n",
       " 'NBSE',\n",
       " 'NERV',\n",
       " 'NETE',\n",
       " 'NEWT',\n",
       " 'NLTX',\n",
       " 'NOVN',\n",
       " 'NSEC',\n",
       " 'NSTG',\n",
       " 'NTRP',\n",
       " 'NV',\n",
       " 'NVAX',\n",
       " 'NVCN',\n",
       " 'NVFY',\n",
       " 'NVIV',\n",
       " 'NVMI',\n",
       " 'NXTD',\n",
       " 'OBCI',\n",
       " 'OCUL',\n",
       " 'OCUP',\n",
       " 'ODP',\n",
       " 'OMER',\n",
       " 'OMEX',\n",
       " 'ONCT',\n",
       " 'OPGN',\n",
       " 'OPHC',\n",
       " 'OPTT',\n",
       " 'ORMP',\n",
       " 'OSBC',\n",
       " 'OSN',\n",
       " 'OTIC',\n",
       " 'OTRK',\n",
       " 'OXBRW',\n",
       " 'PACB',\n",
       " 'PATK',\n",
       " 'PBYI',\n",
       " 'PCYG',\n",
       " 'PEIX',\n",
       " 'PFIN',\n",
       " 'PFSW',\n",
       " 'PHIO',\n",
       " 'PIR',\n",
       " 'PKOH',\n",
       " 'PLAB',\n",
       " 'PLUG',\n",
       " 'PLXP',\n",
       " 'PME',\n",
       " 'PNBK',\n",
       " 'POAI',\n",
       " 'PPBT',\n",
       " 'PPC',\n",
       " 'PRDO',\n",
       " 'PRGX',\n",
       " 'PRPH',\n",
       " 'PRSC',\n",
       " 'PRTK',\n",
       " 'PSEC',\n",
       " 'PSHG',\n",
       " 'PSTI',\n",
       " 'PSTV',\n",
       " 'PTCT',\n",
       " 'PTE',\n",
       " 'PULM',\n",
       " 'PXLW',\n",
       " 'QRHC',\n",
       " 'QURE',\n",
       " 'RADA',\n",
       " 'RBCN',\n",
       " 'RCKT',\n",
       " 'RCON',\n",
       " 'RDCM',\n",
       " 'REED',\n",
       " 'RELV',\n",
       " 'RFIL',\n",
       " 'RGL',\n",
       " 'RIGL',\n",
       " 'RIOT',\n",
       " 'RMB',\n",
       " 'RMTI',\n",
       " 'RUTH',\n",
       " 'RWLK',\n",
       " 'SAGE',\n",
       " 'SALM',\n",
       " 'SANM',\n",
       " 'SAVA',\n",
       " 'SEED',\n",
       " 'SEEL',\n",
       " 'SELB',\n",
       " 'SESN',\n",
       " 'SGMA',\n",
       " 'SGMO',\n",
       " 'SGOC',\n",
       " 'SGRP',\n",
       " 'SHIP',\n",
       " 'SHSP',\n",
       " 'SIEB',\n",
       " 'SIEN',\n",
       " 'SIFY',\n",
       " 'SINO',\n",
       " 'SINT',\n",
       " 'SIOX',\n",
       " 'SIRI',\n",
       " 'SL',\n",
       " 'SLNO',\n",
       " 'SMMT',\n",
       " 'SMTX',\n",
       " 'SN',\n",
       " 'SNCA',\n",
       " 'SNOA',\n",
       " 'SONN',\n",
       " 'SPI',\n",
       " 'SRAX',\n",
       " 'SRPT',\n",
       " 'SRRA',\n",
       " 'SSKN',\n",
       " 'STAA',\n",
       " 'STRM',\n",
       " 'STRR',\n",
       " 'SUMR',\n",
       " 'SUNW',\n",
       " 'SUPN',\n",
       " 'SVRA',\n",
       " 'SYNC',\n",
       " 'SYPR',\n",
       " 'TARA',\n",
       " 'TCCO',\n",
       " 'TELL',\n",
       " 'TENX',\n",
       " 'TEUM',\n",
       " 'TGTX',\n",
       " 'THMO',\n",
       " 'TNDM',\n",
       " 'TNXP',\n",
       " 'TOP',\n",
       " 'TPCO',\n",
       " 'TRCH',\n",
       " 'TRIB',\n",
       " 'TRIL',\n",
       " 'TRVN',\n",
       " 'TTNP',\n",
       " 'TTWO',\n",
       " 'TVTX',\n",
       " 'TWNKW',\n",
       " 'TXMD',\n",
       " 'UAL',\n",
       " 'UEP',\n",
       " 'UFPT',\n",
       " 'UONE',\n",
       " 'UONEK',\n",
       " 'USA',\n",
       " 'USEG',\n",
       " 'USIO',\n",
       " 'VBFC',\n",
       " 'VBLT',\n",
       " 'VCEL',\n",
       " 'VG',\n",
       " 'VIRC',\n",
       " 'VISL',\n",
       " 'VIVE',\n",
       " 'VKTX',\n",
       " 'VNDA',\n",
       " 'VRME',\n",
       " 'VSTM',\n",
       " 'VTGN',\n",
       " 'VTNR',\n",
       " 'WATT',\n",
       " 'WLDN',\n",
       " 'WVVI',\n",
       " 'WW',\n",
       " 'WWR',\n",
       " 'XBIT',\n",
       " 'XELB',\n",
       " 'XENE',\n",
       " 'XOMA',\n",
       " 'XSPA',\n",
       " 'XTLB',\n",
       " 'YMTX',\n",
       " 'YTEN',\n",
       " 'YVR',\n",
       " 'ZGNX',\n",
       " 'ZIOP',\n",
       " 'ZYNE'}"
      ]
     },
     "execution_count": 17,
     "metadata": {},
     "output_type": "execute_result"
    }
   ],
   "source": [
    "outlier_comp"
   ]
  },
  {
   "cell_type": "code",
   "execution_count": 14,
   "metadata": {},
   "outputs": [],
   "source": [
    "outlier_comp.update(train_df[train_df['ATR'] > 100]['ticker'].unique())"
   ]
  },
  {
   "cell_type": "code",
   "execution_count": 16,
   "metadata": {},
   "outputs": [],
   "source": [
    "outlier_comp.update(train_df[(train_df['Stochastic'] > 100) | (train_df['Stochastic'] < 0)]['ticker'].unique())"
   ]
  },
  {
   "cell_type": "code",
   "execution_count": 17,
   "metadata": {},
   "outputs": [],
   "source": [
    "outlier_comp.update(train_df[(train_df['Stochastic_signal'] > 110) | (train_df['Stochastic_signal'] < -10)]['ticker'].unique())"
   ]
  },
  {
   "cell_type": "code",
   "execution_count": 18,
   "metadata": {},
   "outputs": [],
   "source": [
    "train_dirty = train_df[train_df['ticker'].isin(outlier_comp)]"
   ]
  },
  {
   "cell_type": "code",
   "execution_count": 19,
   "metadata": {},
   "outputs": [
    {
     "data": {
      "text/plain": [
       "['../raw_data/tmp/train_dirty_1D']"
      ]
     },
     "execution_count": 19,
     "metadata": {},
     "output_type": "execute_result"
    }
   ],
   "source": [
    "joblib.dump(train_dirty, '../raw_data/tmp/train_dirty_1D')"
   ]
  },
  {
   "cell_type": "code",
   "execution_count": 23,
   "metadata": {},
   "outputs": [
    {
     "data": {
      "text/plain": [
       "-0.5184200946487076"
      ]
     },
     "execution_count": 23,
     "metadata": {},
     "output_type": "execute_result"
    }
   ],
   "source": [
    "train_dirty[train_dirty['ticker'] == 'AAPL']['1D_past_return'].min()"
   ]
  },
  {
   "cell_type": "code",
   "execution_count": 21,
   "metadata": {},
   "outputs": [
    {
     "data": {
      "image/png": "[encoded data removed]",
      "text/plain": [
       "<Figure size 432x288 with 1 Axes>"
      ]
     },
     "metadata": {
      "needs_background": "light"
     },
     "output_type": "display_data"
    },
    {
     "data": {
      "image/png": "[encoded data removed]",
      "text/plain": [
       "<Figure size 432x288 with 1 Axes>"
      ]
     },
     "metadata": {
      "needs_background": "light"
     },
     "output_type": "display_data"
    },
    {
     "data": {
      "image/png": "[encoded data removed]",
      "text/plain": [
       "<Figure size 432x288 with 1 Axes>"
      ]
     },
     "metadata": {
      "needs_background": "light"
     },
     "output_type": "display_data"
    },
    {
     "data": {
      "image/png": "[encoded data removed]",
      "text/plain": [
       "<Figure size 432x288 with 1 Axes>"
      ]
     },
     "metadata": {
      "needs_background": "light"
     },
     "output_type": "display_data"
    },
    {
     "data": {
      "image/png": "[encoded data removed]",
      "text/plain": [
       "<Figure size 432x288 with 1 Axes>"
      ]
     },
     "metadata": {
      "needs_background": "light"
     },
     "output_type": "display_data"
    },
    {
     "data": {
      "image/png": "[encoded data removed]",
      "text/plain": [
       "<Figure size 432x288 with 1 Axes>"
      ]
     },
     "metadata": {
      "needs_background": "light"
     },
     "output_type": "display_data"
    },
    {
     "data": {
      "image/png": "[encoded data removed]",
      "text/plain": [
       "<Figure size 432x288 with 1 Axes>"
      ]
     },
     "metadata": {
      "needs_background": "light"
     },
     "output_type": "display_data"
    },
    {
     "data": {
      "image/png": "[encoded data removed]",
      "text/plain": [
       "<Figure size 432x288 with 1 Axes>"
      ]
     },
     "metadata": {
      "needs_background": "light"
     },
     "output_type": "display_data"
    },
    {
     "data": {
      "image/png": "[encoded data removed]",
      "text/plain": [
       "<Figure size 432x288 with 1 Axes>"
      ]
     },
     "metadata": {
      "needs_background": "light"
     },
     "output_type": "display_data"
    },
    {
     "data": {
      "image/png": "[encoded data removed]",
      "text/plain": [
       "<Figure size 432x288 with 1 Axes>"
      ]
     },
     "metadata": {
      "needs_background": "light"
     },
     "output_type": "display_data"
    },
    {
     "data": {
      "image/png": "[encoded data removed]",
      "text/plain": [
       "<Figure size 432x288 with 1 Axes>"
      ]
     },
     "metadata": {
      "needs_background": "light"
     },
     "output_type": "display_data"
    },
    {
     "data": {
      "image/png": "[encoded data removed]",
      "text/plain": [
       "<Figure size 432x288 with 1 Axes>"
      ]
     },
     "metadata": {
      "needs_background": "light"
     },
     "output_type": "display_data"
    },
    {
     "data": {
      "image/png": "[encoded data removed]",
      "text/plain": [
       "<Figure size 432x288 with 1 Axes>"
      ]
     },
     "metadata": {
      "needs_background": "light"
     },
     "output_type": "display_data"
    },
    {
     "data": {
      "image/png": "[encoded data removed]",
      "text/plain": [
       "<Figure size 432x288 with 1 Axes>"
      ]
     },
     "metadata": {
      "needs_background": "light"
     },
     "output_type": "display_data"
    },
    {
     "data": {
      "image/png": "[encoded data removed]",
      "text/plain": [
       "<Figure size 432x288 with 1 Axes>"
      ]
     },
     "metadata": {
      "needs_background": "light"
     },
     "output_type": "display_data"
    }
   ],
   "source": [
    "import matplotlib.pyplot as plt\n",
    "for col in INPUT_COLS:\n",
    "    plt.hist(train_dirty[train_dirty['ticker'] == 'AAPL'][col], bins=20)\n",
    "    plt.title(col)\n",
    "    plt.show()"
   ]
  },
  {
   "cell_type": "code",
   "execution_count": null,
   "metadata": {},
   "outputs": [],
   "source": [
    "train_dirty['1D_past_return']"
   ]
  },
  {
   "cell_type": "code",
   "execution_count": 23,
   "metadata": {},
   "outputs": [
    {
     "data": {
      "text/plain": [
       "array(['BLF', 'UAL', 'LLIT', 'WORX', 'LECO', 'BLDP', 'CRW', 'MYT', 'JVA',\n",
       "       'HSTO', 'AMTX', 'ASTC', 'SHSP', 'WW', 'SMBK', 'ARCT', 'WATT',\n",
       "       'ASP', 'MRN', 'SALM', 'ALT', 'OPTT', 'AVEO', 'SGMO', 'LPTH',\n",
       "       'ITCI', 'NXTD', 'MARK', 'BPOP', 'ISN', 'NVMI', 'MTEM', 'FWONK',\n",
       "       'BLRX', 'PPBT', 'DARE', 'BYFC', 'BNSO', 'IDEX', 'EPZM', 'PULM',\n",
       "       'XSPA', 'CXDC', 'FLXN', 'DAIO', 'SUPN', 'NV', 'YTEN', 'AVGR',\n",
       "       'ASRT', 'VG', 'SAVA', 'XELB', 'ASMB', 'MEIP', 'EVOK', 'RWLK',\n",
       "       'CBLI', 'FTFT', 'VBFC', 'MDWT', 'MED', 'LJPC', 'VIVE', 'ADM', 'CP',\n",
       "       'ASUR', 'BLDR', 'NATR', 'RDCM', 'APDN', 'SINO', 'ZIOP', 'ENSG',\n",
       "       'EYEG', 'VTNR', 'CASI', 'CAPR', 'PPC', 'MDCA', 'LINC', 'WWR',\n",
       "       'RGL', 'CDMO', 'APEN', 'IMMP', 'LIVE', 'PIR', 'CHCI', 'ANAB',\n",
       "       'GYRO', 'CIDM', 'ATSG', 'AEZ', 'ATRC', 'GWPH', 'JAN', 'CYTK',\n",
       "       'RIGL', 'NETE', 'YMTX', 'MICT', 'PSTI', 'NURO', 'ACHV', 'OSN',\n",
       "       'TCCO', 'MDRX', 'CYCC', 'AXGN', 'TXMD', 'RBCN', 'ODP', 'IMBI',\n",
       "       'AERI', 'IKNX', 'HGEN', 'GCBC', 'NHLDW', 'ALNY', 'BIOC', 'BIMI',\n",
       "       'SYPR', 'ALBO', 'KURA', 'CHMA', 'SGOC', 'SONN', 'LTBR', 'MGIC',\n",
       "       'CWST', 'QURE', 'VNDA', 'ARGX', 'HTGM', 'STAA', 'MDG', 'RUTH',\n",
       "       'TTNP', 'NBSE', 'GRVY', 'XBIO', 'SMMT', 'ACER', 'APYX', 'FCEL',\n",
       "       'FBM', 'GENE', 'GRBK', 'BPTH', 'NSEC', 'BBI', 'NVAX', 'DORM',\n",
       "       'ARAV', 'SEED', 'MDGL', 'UEP', 'ORMP', 'PIXY', 'GTIM', 'DRRX',\n",
       "       'MNKD', 'DRIOW', 'HMNF', 'PXLW', 'TARA', 'GLYC', 'NERV', 'CLDX',\n",
       "       'AHPI', 'PHIOW', 'WVVI', 'CYRX', 'ASRV', 'HFFG', 'ANY', 'IBCP',\n",
       "       'LUNA', 'INPX', 'SRRA', 'VSTM', 'AWRE', 'TRIB', 'SUMR', 'PAVMW',\n",
       "       'CATM', 'RFIL', 'LED', 'ALIM', 'GLB', 'WLDN', 'BRID', 'DXCM',\n",
       "       'LUMO', 'SHIPW', 'CLRB', 'ALDX', 'KZIA', 'ONCT', 'STRR', 'TOP',\n",
       "       'AXA', 'POAI', 'KVHI', 'AMAG', 'GERN', 'MYSZ', 'RELV', 'GL', 'KO',\n",
       "       'ALPN', 'CLRBZ', 'NAKD', 'NVIV', 'NVFY', 'VCEL', 'JAZZ', 'PRTK',\n",
       "       'LNTH', 'DXLG', 'SYNC', 'ICPT', 'GLG', 'CVCY', 'EVK', 'AUPH',\n",
       "       'ANIX', 'OCUL', 'PFSW', 'PCYG', 'SMTX', 'OXBRW', 'AXDX', 'LAKE',\n",
       "       'PFIN', 'CAR', 'SL', 'CLB', 'EMKR', 'PSEC', 'AMD', 'XBIT', 'RCON',\n",
       "       'SIEN', 'ERII', 'EXA', 'SESN', 'CHEK', 'NEWT', 'FBIO', 'ENLV',\n",
       "       'RMTI', 'SLNO', 'VTGN', 'APVO', 'IZEA', 'DLHC', 'AWH', 'SN',\n",
       "       'SVRA', 'ACOR', 'CLV', 'CMRX', 'MBRX', 'VISL', 'ACL', 'MNDO',\n",
       "       'FFHL', 'PSHG', 'HRTX', 'FONR', 'THMO', 'HURN', 'USIO', 'CCXI',\n",
       "       'BEEM', 'AYRO', 'SIRI', 'PTCT', 'DSKEW', 'ARWR', 'INO', 'SPI',\n",
       "       'SRAX', 'OMEX', 'CBPO', 'MTEX', 'BASI', 'ATHX', 'MRLN', 'QRHC',\n",
       "       'CNET', 'PHIO', 'EVFM', 'LMFA', 'IMUX', 'FRTA', 'BNTC', 'DFFN',\n",
       "       'SUNW', 'SGRP', 'SEEL', 'BLUE', 'RMB', 'MTBC', 'RCKT', 'NSTG',\n",
       "       'IAC', 'USW', 'GALT', 'CVV', 'FPRX', 'MAG', 'EXEL', 'CBIO', 'MITK',\n",
       "       'CETXW', 'STRM', 'DGLY', 'HDSN', 'CLSN', 'SIEB', 'SIFY', 'USA',\n",
       "       'MACK', 'ALSK', 'ANIP', 'OTLKW', 'UONEK', 'BEAT', 'TNXP', 'KTOVW',\n",
       "       'ELTK', 'FITB', 'PTE', 'TWNKW', 'ARNA', 'TRIL', 'USEG', 'APOP',\n",
       "       'IMGN', 'INVE', 'SRPT', 'EDAP', 'PATK', 'PACB', 'CRBP', 'VIRC',\n",
       "       'HSKA', 'CBAT', 'ATLO', 'CAMT', 'GNCA', 'BSTC', 'ATO', 'MBOT',\n",
       "       'ACAD', 'CPAH', 'CLRO', 'VKTXW', 'ANGI', 'SNCA', 'ABIO', 'CATB',\n",
       "       'EWBC', 'UONE', 'NTRP', 'UFPT', 'ZYNE', 'ONTXW', 'EHTH', 'ESCA',\n",
       "       'BOSC', 'GLNG', 'HALO', 'SINT', 'CORT', 'MTBCP', 'SIOX', 'VBLT',\n",
       "       'ACRX', 'OCUP', 'MVI', 'SAGE', 'FOLD', 'PKOH', 'SNOA', 'PME',\n",
       "       'CCOI', 'APTO', 'IDXG', 'ABEO', 'HNRG', 'ELY', 'PLUG', 'FWONA',\n",
       "       'DXPE', 'CTIC', 'PRSC', 'ICAD', 'LXRX', 'NBIX', 'PLAB', 'OPHC',\n",
       "       'PEIX', 'KPTI', 'MYOK', 'AMRN', 'SANM', 'FVE', 'OTIC', 'HTBX',\n",
       "       'CBMG', 'VRME', 'GEVO', 'CHF', 'CREG', 'FORD', 'OSBC', 'CERC',\n",
       "       'GROW', 'ONTX', 'INSM', 'ICON', 'SGLB', 'IDN', 'AIKI', 'IOVA',\n",
       "       'GDEN', 'CTIB', 'BBSI', 'XTLB', 'BIOL', 'BLPH', 'SELB', 'CVGI',\n",
       "       'ISIG', 'MCRB', 'MDVL', 'BCLI', 'TENX', 'ESPR', 'DRIO', 'ADMP',\n",
       "       'TGTX', 'OTRK', 'ADVM', 'REED', 'MGEN', 'MRTX', 'HEPA', 'CTSO',\n",
       "       'OPGN', 'ISEE', 'AGEN', 'DZSI', 'EGLE', 'CTHR', 'DJCO', 'MARA',\n",
       "       'KBSF', 'HBAN', 'TRCH', 'PBYI', 'MOSY', 'CSCW', 'APOPW', 'XOMA',\n",
       "       'IIN', 'GFN', 'SGMA', 'DVAX', 'ESEA', 'AB', 'DYNT', 'TTWO', 'APEX',\n",
       "       'ATEC', 'JAGX', 'VKTX', 'JRJC', 'SSKN', 'PSTV', 'AAPL', 'OMER',\n",
       "       'ATHE', 'BDSI', 'ACST', 'NLTX', 'MNOV', 'SHIP', 'CGEN', 'KTCC',\n",
       "       'TEUM', 'TPCO', 'BLIN', 'NOVN', 'CARV', 'PRPH', 'LGND', 'PNBK',\n",
       "       'PLXP', 'RIOT', 'LPCN', 'RADA', 'PRGX', 'HGSH', 'AEHL', 'BCRX',\n",
       "       'PRDO', 'TNDM', 'LRMR', 'TRVN', 'CNCE', 'KALV', 'CER', 'XENE',\n",
       "       'QLGN', 'INFI', 'TVTX', 'CRDF', 'MLND', 'ZGNX', 'MERC', 'MTSL',\n",
       "       'BBGI', 'CHNR', 'TELL', 'YVR', 'AKER', 'NVCN', 'OBCI', 'BWEN'],\n",
       "      dtype=object)"
      ]
     },
     "execution_count": 23,
     "metadata": {},
     "output_type": "execute_result"
    }
   ],
   "source": [
    "train_dirty['ticker'].unique()"
   ]
  },
  {
   "cell_type": "code",
   "execution_count": null,
   "metadata": {},
   "outputs": [],
   "source": [
    "len(train_df_clean)"
   ]
  },
  {
   "cell_type": "code",
   "execution_count": null,
   "metadata": {},
   "outputs": [],
   "source": [
    "plt.hist(train_df_clean['10TD_return'], bins=50)"
   ]
  },
  {
   "cell_type": "code",
   "execution_count": null,
   "metadata": {},
   "outputs": [],
   "source": [
    "scaler = RobustScaler()\n",
    "\n",
    "scaler.fit(train_df[INPUT_COLS])\n",
    "\n",
    "train_clean = train_df_clean.copy()\n",
    "train_clean[INPUT_COLS] = scaler.transform(train_df_clean[INPUT_COLS])\n",
    "test_df.loc[:, INPUT_COLS] = scaler.transform(test_df[INPUT_COLS])"
   ]
  },
  {
   "cell_type": "code",
   "execution_count": null,
   "metadata": {},
   "outputs": [],
   "source": [
    "train_clean"
   ]
  },
  {
   "cell_type": "code",
   "execution_count": null,
   "metadata": {},
   "outputs": [],
   "source": [
    "tickers = df['ticker'].unique()"
   ]
  },
  {
   "cell_type": "code",
   "execution_count": null,
   "metadata": {},
   "outputs": [],
   "source": [
    "len(tickers)"
   ]
  },
  {
   "cell_type": "code",
   "execution_count": null,
   "metadata": {},
   "outputs": [],
   "source": [
    "train_x_dfs = []\n",
    "train_y_dfs = []\n",
    "test_x_dfs = []\n",
    "test_y_dfs = []"
   ]
  },
  {
   "cell_type": "code",
   "execution_count": null,
   "metadata": {},
   "outputs": [],
   "source": [
    "ticker_counter = 0\n",
    "empty_tickers = 0\n",
    "for ticker in tickers:\n",
    "    if ticker in list(train_clean['ticker']):\n",
    "        ticker_train_df = train_clean[train_clean['ticker'] == ticker]\n",
    "        ticker_train_x, ticker_train_y = build_arrays(ticker_train_df,input_cols=INPUT_COLS, target_col='20D_return_bin', time_window=30, stride=1)\n",
    "        if len(ticker_train_x) != 0:\n",
    "            train_x_dfs.append(ticker_train_x)\n",
    "            train_y_dfs.append(ticker_train_y)\n",
    "        else:\n",
    "            empty_tickers += 1\n",
    "        ticker_counter += 1\n",
    "        if ticker_counter % 50 == 0:\n",
    "            print(f'{ticker_counter} files processed, {round(ticker_counter/len(tickers)*100)}%, empty tickers: {empty_tickers}')"
   ]
  },
  {
   "cell_type": "code",
   "execution_count": null,
   "metadata": {},
   "outputs": [],
   "source": [
    "import joblib\n",
    "\n",
    "joblib.dump(train_x_dfs, '../raw_data/feature_arrays/train_x_dfs')"
   ]
  },
  {
   "cell_type": "code",
   "execution_count": null,
   "metadata": {},
   "outputs": [],
   "source": [
    "joblib.dump(train_y_dfs, '../raw_data/feature_arrays/train_y_dfs')"
   ]
  },
  {
   "cell_type": "code",
   "execution_count": null,
   "metadata": {},
   "outputs": [],
   "source": [
    "list(test_df['ticker'].unique())"
   ]
  },
  {
   "cell_type": "code",
   "execution_count": null,
   "metadata": {},
   "outputs": [],
   "source": [
    "ticker_counter = 0\n",
    "ticker_processed = 0\n",
    "empty_tickers = 0\n",
    "for ticker in tickers:\n",
    "    ticker_counter += 1\n",
    "    if ticker in list(test_df['ticker'].unique()):\n",
    "        ticker_test_df = test_df[test_df['ticker'] == ticker]\n",
    "        ticker_test_x, ticker_test_y = build_arrays(ticker_test_df, input_cols=INPUT_COLS, target_col='20D_return_bin', time_window=30, stride=1)\n",
    "        if len(ticker_test_x) != 0:\n",
    "            test_x_dfs.append(ticker_test_x)\n",
    "            test_y_dfs.append(ticker_test_y)\n",
    "            ticker_processed += 1\n",
    "        else:\n",
    "            empty_tickers += 1\n",
    "        if ticker_counter % 50 == 0:\n",
    "            print(f'{ticker_counter} tickers processed, {round(ticker_counter/len(tickers)*100)}%, empty tickers: {empty_tickers}, tikers done {ticker_processed}')"
   ]
  },
  {
   "cell_type": "code",
   "execution_count": null,
   "metadata": {},
   "outputs": [],
   "source": [
    "import joblib\n",
    "joblib.dump(test_x_dfs, '../raw_data/feature_arrays/test_x_dfs')\n",
    "joblib.dump(test_y_dfs, '../raw_data/feature_arrays/test_y_dfs')"
   ]
  },
  {
   "cell_type": "code",
   "execution_count": null,
   "metadata": {},
   "outputs": [],
   "source": [
    "len(test_x_dfs)"
   ]
  },
  {
   "cell_type": "code",
   "execution_count": null,
   "metadata": {},
   "outputs": [],
   "source": [
    "test_x_dfs = joblib.load('../raw_data/feature_arrays/test_x')"
   ]
  },
  {
   "cell_type": "code",
   "execution_count": null,
   "metadata": {},
   "outputs": [],
   "source": [
    "test_y_dfs = joblib.load('../raw_data/feature_arrays/test_y')"
   ]
  },
  {
   "cell_type": "code",
   "execution_count": null,
   "metadata": {},
   "outputs": [],
   "source": [
    "len(test_x_dfs)"
   ]
  },
  {
   "cell_type": "code",
   "execution_count": null,
   "metadata": {},
   "outputs": [],
   "source": [
    "import numpy as np"
   ]
  },
  {
   "cell_type": "code",
   "execution_count": null,
   "metadata": {},
   "outputs": [],
   "source": [
    "empty_idxs = []\n",
    "for i in range(len(test_x_dfs)):\n",
    "    if len(test_x_dfs[i]) == 0:\n",
    "        empty_idxs.append(i)"
   ]
  },
  {
   "cell_type": "code",
   "execution_count": null,
   "metadata": {},
   "outputs": [],
   "source": [
    "empty_idxs"
   ]
  },
  {
   "cell_type": "code",
   "execution_count": null,
   "metadata": {},
   "outputs": [],
   "source": [
    "len(test_x_dfs)"
   ]
  },
  {
   "cell_type": "code",
   "execution_count": null,
   "metadata": {},
   "outputs": [],
   "source": [
    "train_x_dfs = np.delete(np.array(train_x_dfs), empty_idxs)"
   ]
  },
  {
   "cell_type": "code",
   "execution_count": null,
   "metadata": {},
   "outputs": [],
   "source": [
    "len(train_y_dfs)"
   ]
  },
  {
   "cell_type": "code",
   "execution_count": null,
   "metadata": {},
   "outputs": [],
   "source": [
    "train_x_dfs = list(train_x_dfs)"
   ]
  },
  {
   "cell_type": "code",
   "execution_count": null,
   "metadata": {},
   "outputs": [],
   "source": [
    "len(train_x_dfs)"
   ]
  },
  {
   "cell_type": "code",
   "execution_count": null,
   "metadata": {},
   "outputs": [],
   "source": [
    "count_empty = 0\n",
    "for i in range(len(train_x_dfs)):\n",
    "    if len(train_x_dfs[i]) == 0:\n",
    "        #el = train_x_dfs[i]\n",
    "        count_empty += 1\n",
    "    \n",
    "print(count_empty)\n",
    "    "
   ]
  },
  {
   "cell_type": "code",
   "execution_count": 1,
   "metadata": {},
   "outputs": [],
   "source": [
    "import joblib"
   ]
  },
  {
   "cell_type": "code",
   "execution_count": 2,
   "metadata": {},
   "outputs": [],
   "source": [
    "train_y_dfs = joblib.load('../raw_data/feature_arrays/train_y_dfs')"
   ]
  },
  {
   "cell_type": "code",
   "execution_count": 4,
   "metadata": {},
   "outputs": [
    {
     "data": {
      "text/plain": [
       "array([ True,  True,  True,  True,  True,  True,  True,  True,  True,\n",
       "        True,  True,  True,  True,  True, False, False,  True,  True,\n",
       "       False, False, False, False, False, False, False, False, False,\n",
       "        True,  True, False, False,  True, False, False,  True,  True,\n",
       "        True, False, False, False, False, False, False, False, False,\n",
       "       False, False, False, False, False, False, False, False, False,\n",
       "       False, False, False,  True, False, False, False,  True,  True,\n",
       "       False,  True,  True,  True,  True,  True, False, False, False,\n",
       "       False, False, False, False, False, False, False, False, False,\n",
       "       False, False, False, False, False, False, False, False, False,\n",
       "       False,  True, False,  True,  True,  True,  True,  True,  True,\n",
       "        True, False, False, False, False, False, False, False, False,\n",
       "       False, False, False, False, False, False, False, False, False,\n",
       "       False, False, False, False, False, False, False, False, False,\n",
       "       False, False, False,  True,  True,  True,  True,  True,  True,\n",
       "        True,  True,  True,  True,  True,  True,  True,  True,  True,\n",
       "        True,  True,  True,  True,  True,  True,  True,  True,  True,\n",
       "        True,  True,  True,  True,  True,  True,  True,  True,  True,\n",
       "        True,  True,  True,  True,  True,  True,  True, False,  True,\n",
       "        True,  True,  True,  True,  True,  True,  True,  True,  True,\n",
       "        True,  True,  True,  True,  True,  True,  True,  True,  True,\n",
       "        True,  True,  True,  True,  True,  True,  True,  True,  True,\n",
       "       False, False, False, False, False, False, False,  True, False,\n",
       "        True,  True,  True,  True,  True,  True,  True,  True,  True,\n",
       "        True,  True,  True,  True,  True,  True,  True,  True,  True,\n",
       "        True,  True,  True,  True,  True,  True,  True,  True,  True,\n",
       "        True,  True,  True,  True,  True,  True,  True,  True,  True,\n",
       "        True, False,  True,  True,  True,  True,  True,  True,  True,\n",
       "        True,  True,  True,  True,  True, False, False,  True,  True,\n",
       "        True,  True,  True,  True,  True, False,  True,  True,  True,\n",
       "        True,  True,  True,  True,  True,  True, False,  True,  True,\n",
       "        True, False,  True,  True,  True,  True,  True,  True,  True,\n",
       "        True,  True,  True,  True,  True,  True,  True,  True,  True,\n",
       "        True,  True,  True,  True,  True,  True,  True,  True,  True,\n",
       "        True,  True,  True,  True, False, False,  True,  True,  True,\n",
       "        True,  True,  True,  True,  True,  True,  True,  True,  True,\n",
       "        True,  True,  True,  True,  True,  True,  True,  True,  True,\n",
       "       False, False, False, False, False, False, False, False, False,\n",
       "       False, False, False, False, False, False, False, False, False,\n",
       "       False, False, False, False,  True,  True, False, False,  True,\n",
       "        True,  True,  True,  True,  True,  True,  True,  True,  True,\n",
       "        True,  True,  True,  True,  True,  True,  True,  True,  True,\n",
       "        True,  True,  True,  True,  True,  True,  True,  True,  True,\n",
       "        True,  True,  True,  True,  True,  True,  True,  True,  True,\n",
       "        True,  True,  True,  True, False, False,  True,  True,  True,\n",
       "        True,  True,  True,  True,  True,  True,  True,  True,  True,\n",
       "        True,  True,  True,  True,  True,  True,  True,  True,  True,\n",
       "        True,  True,  True,  True, False,  True,  True,  True,  True,\n",
       "       False,  True,  True,  True,  True,  True,  True,  True,  True,\n",
       "        True,  True,  True,  True,  True,  True,  True,  True, False,\n",
       "        True,  True,  True,  True, False, False, False, False, False,\n",
       "       False, False, False, False, False, False, False,  True,  True,\n",
       "        True,  True,  True,  True, False,  True,  True,  True,  True,\n",
       "        True,  True,  True, False,  True, False, False, False, False,\n",
       "       False, False, False, False, False, False, False, False, False,\n",
       "       False, False, False, False, False, False, False, False, False,\n",
       "       False, False, False, False, False, False, False, False, False,\n",
       "       False, False, False, False, False, False, False,  True,  True,\n",
       "        True,  True,  True,  True,  True,  True,  True,  True,  True,\n",
       "        True,  True,  True,  True,  True,  True,  True,  True, False,\n",
       "       False,  True,  True,  True,  True,  True,  True,  True,  True,\n",
       "        True,  True,  True,  True,  True,  True,  True,  True,  True,\n",
       "        True,  True,  True, False, False, False, False,  True,  True,\n",
       "        True,  True,  True,  True,  True,  True,  True,  True, False,\n",
       "       False,  True,  True,  True,  True,  True,  True,  True, False,\n",
       "       False, False, False, False, False, False,  True,  True,  True,\n",
       "        True,  True,  True,  True,  True,  True,  True,  True, False,\n",
       "       False,  True,  True,  True, False, False, False, False, False,\n",
       "       False, False, False, False, False, False, False, False, False,\n",
       "       False, False, False, False, False, False, False, False, False,\n",
       "       False, False, False, False, False, False, False, False, False,\n",
       "       False, False, False, False, False, False, False, False, False,\n",
       "       False, False, False, False, False, False, False, False, False,\n",
       "       False, False, False, False, False, False, False, False, False,\n",
       "       False, False, False, False, False, False, False, False, False,\n",
       "       False, False, False, False, False, False, False, False, False,\n",
       "       False, False, False, False, False, False, False, False, False,\n",
       "       False, False, False, False, False, False, False, False, False,\n",
       "       False, False, False, False, False, False, False, False, False,\n",
       "       False, False, False,  True, False, False, False,  True,  True,\n",
       "        True, False, False, False, False, False, False, False, False,\n",
       "       False, False, False, False, False, False,  True,  True,  True,\n",
       "        True, False, False, False,  True,  True,  True,  True, False,\n",
       "       False, False, False, False, False, False, False, False, False,\n",
       "       False, False, False, False, False, False, False, False, False,\n",
       "       False, False, False, False, False, False,  True,  True,  True,\n",
       "        True,  True,  True,  True,  True,  True,  True,  True,  True,\n",
       "        True,  True,  True,  True,  True,  True,  True,  True,  True,\n",
       "        True,  True,  True,  True,  True,  True,  True,  True,  True,\n",
       "       False, False, False, False, False, False, False, False, False,\n",
       "       False, False, False, False, False, False, False, False, False,\n",
       "       False, False,  True,  True,  True,  True,  True,  True,  True,\n",
       "        True, False, False, False,  True,  True, False, False, False,\n",
       "       False, False, False, False, False, False, False, False, False,\n",
       "       False,  True,  True,  True,  True,  True])"
      ]
     },
     "execution_count": 4,
     "metadata": {},
     "output_type": "execute_result"
    }
   ],
   "source": [
    "train_y_dfs[0]"
   ]
  },
  {
   "cell_type": "code",
   "execution_count": 5,
   "metadata": {},
   "outputs": [],
   "source": [
    "import numpy as np\n",
    "#X_train = np.concatenate(train_x_dfs)\n",
    "y_train = np.concatenate(train_y_dfs)\n",
    "#X_test = np.concatenate(test_x_dfs)\n",
    "#y_test = np.concatenate(test_y_dfs)"
   ]
  },
  {
   "cell_type": "code",
   "execution_count": null,
   "metadata": {},
   "outputs": [],
   "source": []
  },
  {
   "cell_type": "code",
   "execution_count": 7,
   "metadata": {},
   "outputs": [
    {
     "data": {
      "text/plain": [
       "(3710271,)"
      ]
     },
     "execution_count": 7,
     "metadata": {},
     "output_type": "execute_result"
    }
   ],
   "source": [
    "y_train.shape"
   ]
  },
  {
   "cell_type": "code",
   "execution_count": null,
   "metadata": {},
   "outputs": [],
   "source": [
    "joblib.dump(y_test, '../raw_data/feature_arrays/y_test_array')"
   ]
  },
  {
   "cell_type": "code",
   "execution_count": null,
   "metadata": {},
   "outputs": [],
   "source": [
    "y_train.shape"
   ]
  },
  {
   "cell_type": "code",
   "execution_count": null,
   "metadata": {},
   "outputs": [],
   "source": [
    "import joblib"
   ]
  },
  {
   "cell_type": "code",
   "execution_count": 6,
   "metadata": {},
   "outputs": [
    {
     "data": {
      "text/plain": [
       "['../raw_data/feature_arrays/y_train_array']"
      ]
     },
     "execution_count": 6,
     "metadata": {},
     "output_type": "execute_result"
    }
   ],
   "source": [
    "joblib.dump(y_train, '../raw_data/feature_arrays/y_train_array')"
   ]
  },
  {
   "cell_type": "code",
   "execution_count": null,
   "metadata": {},
   "outputs": [],
   "source": [
    "joblib.dump(train_x_dfs, '../raw_data/feature_arrays/x_train_array')"
   ]
  },
  {
   "cell_type": "code",
   "execution_count": null,
   "metadata": {},
   "outputs": [],
   "source": [
    "train_x_dfs[0].shape"
   ]
  },
  {
   "cell_type": "code",
   "execution_count": null,
   "metadata": {},
   "outputs": [],
   "source": [
    "X_train = X_train.astype(float)\n",
    "X_test = X_test.astype(float)"
   ]
  },
  {
   "cell_type": "code",
   "execution_count": null,
   "metadata": {},
   "outputs": [],
   "source": [
    "X_train.shape"
   ]
  },
  {
   "cell_type": "code",
   "execution_count": null,
   "metadata": {},
   "outputs": [],
   "source": [
    "y_train = y_train.astype(float)\n",
    "y_test = y_test.astype(float)"
   ]
  },
  {
   "cell_type": "code",
   "execution_count": null,
   "metadata": {},
   "outputs": [],
   "source": [
    "indx = list(range(len(X_train)))"
   ]
  },
  {
   "cell_type": "code",
   "execution_count": null,
   "metadata": {},
   "outputs": [],
   "source": [
    "sample_indx = random.sample(indx, 100000)"
   ]
  },
  {
   "cell_type": "code",
   "execution_count": null,
   "metadata": {},
   "outputs": [],
   "source": [
    "X_train =  X_train[[sample_indx], :][0]"
   ]
  },
  {
   "cell_type": "code",
   "execution_count": null,
   "metadata": {},
   "outputs": [],
   "source": [
    "y_train = y_train[[sample_indx]]"
   ]
  },
  {
   "cell_type": "code",
   "execution_count": null,
   "metadata": {},
   "outputs": [],
   "source": [
    "# from tensorflow.keras.backend import expand_dims\n",
    "# X_train = expand_dims(X_train, axis=-1)\n",
    "# X_test = expand_dims(X_test, axis=-1)"
   ]
  },
  {
   "cell_type": "code",
   "execution_count": null,
   "metadata": {},
   "outputs": [],
   "source": [
    "import matplotlib.pyplot as plt"
   ]
  },
  {
   "cell_type": "code",
   "execution_count": null,
   "metadata": {},
   "outputs": [],
   "source": [
    "plt.imshow(X_train[0])\n",
    "plt.show()\n",
    "plt.imshow(X_train[1])\n",
    "plt.show()\n",
    "plt.imshow(X_train[1000])"
   ]
  },
  {
   "cell_type": "code",
   "execution_count": null,
   "metadata": {},
   "outputs": [],
   "source": [
    "from tensorflow.keras import Sequential\n",
    "from tensorflow.keras import layers, models \n",
    "from tensorflow.keras.optimizers import RMSprop, Adam\n",
    "\n",
    "optim = RMSprop(learning_rate=0.0001)\n",
    "\n",
    "def init_model():\n",
    "    model = Sequential()\n",
    "    model.add(layers.LSTM(20, return_sequences=True, input_shape=(30,15), activation='tanh'))\n",
    "    model.add(layers.LSTM(20, activation='tanh'))\n",
    "    model.add(layers.Dropout(0.3))\n",
    "    model.add(layers.Dense(20, activation='relu'))\n",
    "    model.add(layers.Dropout(0.3))\n",
    "    model.add(layers.Dense(1, activation='sigmoid'))\n",
    "\n",
    "    model.compile(loss='binary_crossentropy', optimizer=optim, metrics=['accuracy'])\n",
    "    \n",
    "    return model"
   ]
  },
  {
   "cell_type": "code",
   "execution_count": null,
   "metadata": {},
   "outputs": [],
   "source": [
    "model = init_model()\n",
    "\n",
    "from tensorflow.keras.callbacks import EarlyStopping\n",
    "\n",
    "es = EarlyStopping(patience=5, restore_best_weights=True)\n",
    "\n",
    "model.fit(X_train, y_train, \n",
    "          epochs=500, \n",
    "          batch_size=8,\n",
    "          validation_split=0.2,\n",
    "          callbacks=[es]\n",
    "         )"
   ]
  },
  {
   "cell_type": "code",
   "execution_count": null,
   "metadata": {},
   "outputs": [],
   "source": [
    "y_pred = model.predict(X_test)"
   ]
  },
  {
   "cell_type": "code",
   "execution_count": null,
   "metadata": {},
   "outputs": [],
   "source": [
    "y_pred.shape"
   ]
  },
  {
   "cell_type": "code",
   "execution_count": null,
   "metadata": {},
   "outputs": [],
   "source": [
    "y_test.sum()/len(y_test)"
   ]
  },
  {
   "cell_type": "code",
   "execution_count": null,
   "metadata": {},
   "outputs": [],
   "source": [
    "model.evaluate(X_test, y_test)"
   ]
  },
  {
   "cell_type": "code",
   "execution_count": null,
   "metadata": {},
   "outputs": [],
   "source": [
    "for i in range(0, len(y_pred), 10):\n",
    "    print(f'Predicted {y_pred[i][0] >= 0.5}, test {y_test[i]}')"
   ]
  },
  {
   "cell_type": "code",
   "execution_count": null,
   "metadata": {},
   "outputs": [],
   "source": [
    "def initialize_model_2():\n",
    "    model = models.Sequential()\n",
    "    model.add(layers.Conv2D(32, (3, 3), padding='same', input_shape=(30, 4, 1), activation='relu'))\n",
    "    model.add(layers.MaxPooling2D(pool_size=(2, 2)))\n",
    "\n",
    "    model.add(layers.Conv2D(64, (2, 2), padding='same', activation='relu'))\n",
    "    model.add(layers.MaxPooling2D(pool_size=(2, 2)))\n",
    "    \n",
    "    model.add(layers.Conv2D(128, (3, 3), padding='same', activation='relu'))\n",
    "    model.add(layers.MaxPooling2D(pool_size=(2, 2)))\n",
    "\n",
    "    model.add(layers.Flatten())\n",
    "    model.add(layers.Dense(120, activation='relu'))\n",
    "    model.add(layers.Dense(60, activation='relu'))\n",
    "    model.add(layers.Dropout(0.5))\n",
    "    model.add(layers.Dense(1, activation='sigmoid'))\n",
    "    \n",
    "    return model"
   ]
  },
  {
   "cell_type": "code",
   "execution_count": null,
   "metadata": {},
   "outputs": [],
   "source": [
    "model_2 = initialize_model_2()\n",
    "\n",
    "model_2.compile(loss='binary_crossentropy',\n",
    "                  optimizer='adam',\n",
    "                  metrics=['accuracy'])\n",
    "\n",
    "es = EarlyStopping(patience=5, restore_best_weights=True)\n",
    "\n",
    "model_2.fit(X_train, y_train, \n",
    "          epochs=200, \n",
    "          batch_size=8,\n",
    "          validation_split=0.2,\n",
    "            callbacks=[es]\n",
    "         )"
   ]
  },
  {
   "cell_type": "code",
   "execution_count": null,
   "metadata": {},
   "outputs": [],
   "source": [
    "y_test.sum()/y_test.shape[0]"
   ]
  },
  {
   "cell_type": "code",
   "execution_count": null,
   "metadata": {},
   "outputs": [],
   "source": [
    "y_pred = model.predict(X_test)"
   ]
  },
  {
   "cell_type": "code",
   "execution_count": null,
   "metadata": {},
   "outputs": [],
   "source": []
  }
 ],
 "metadata": {
  "kernelspec": {
   "display_name": "Python 3",
   "language": "python",
   "name": "python3"
  },
  "language_info": {
   "codemirror_mode": {
    "name": "ipython",
    "version": 3
   },
   "file_extension": ".py",
   "mimetype": "text/x-python",
   "name": "python",
   "nbconvert_exporter": "python",
   "pygments_lexer": "ipython3",
   "version": "3.7.7"
  }
 },
 "nbformat": 4,
 "nbformat_minor": 4
}
