{
 "cells": [
  {
   "cell_type": "code",
   "execution_count": 1,
   "metadata": {},
   "outputs": [],
   "source": [
    "from mlchartist.array_builder import full_dataset_randomised_arrays_\n",
    "from mlchartist.preprocessing import train_test_split\n",
    "\n",
    "import pandas as pd\n",
    "import numpy as np\n",
    "import matplotlib.pyplot as plt"
   ]
  },
  {
   "cell_type": "code",
   "execution_count": 2,
   "metadata": {},
   "outputs": [],
   "source": [
    "nasdaq100 = pd.read_csv('../../raw_data/nasdaq100.csv', header=None)"
   ]
  },
  {
   "cell_type": "code",
   "execution_count": 88,
   "metadata": {},
   "outputs": [],
   "source": [
    "nasdaq100_list = list(nasdaq100.values.flatten())"
   ]
  },
  {
   "cell_type": "code",
   "execution_count": 105,
   "metadata": {},
   "outputs": [],
   "source": [
    "rand_tickers = random.sample(nasdaq100_list, 15)"
   ]
  },
  {
   "cell_type": "code",
   "execution_count": 106,
   "metadata": {},
   "outputs": [],
   "source": [
    "joined_df = pd.DataFrame()\n",
    "\n",
    "nrows = 3000\n",
    "\n",
    "for ticker in rand_tickers:\n",
    "    ticker_path = '../../raw_data/processed/' + ticker.strip().lower() + '.csv'\n",
    "    ticker_df = pd.read_csv(ticker_path, nrows=nrows)\n",
    "    joined_df = joined_df.append(ticker_df)\n",
    "    "
   ]
  },
  {
   "cell_type": "code",
   "execution_count": 107,
   "metadata": {},
   "outputs": [
    {
     "name": "stdout",
     "output_type": "stream",
     "text": [
      "CHKP\n",
      "SBUX\n",
      "VRTX\n",
      "WDC\n",
      "LBTYK\n",
      "JD\n",
      "EXPE\n",
      "TTWO\n",
      "HAS\n",
      "NVDA\n",
      "ROST\n",
      "AAPL\n",
      "LBTYA\n",
      "PAYX\n",
      "EBAY\n"
     ]
    }
   ],
   "source": [
    "for tick in rand_tickers:\n",
    "    print(tick)"
   ]
  },
  {
   "cell_type": "code",
   "execution_count": 108,
   "metadata": {},
   "outputs": [],
   "source": [
    "# apple = pd.read_csv('../raw_data/processed/aapl.csv')\n",
    "# google = pd.read_csv('../raw_data/processed/googl.csv')\n",
    "# amzn = pd.read_csv('../raw_data/processed/amzn.csv')\n",
    "\n",
    "# joined_df = pd.DataFrame()\n",
    "# joined_df = joined_df.append(apple)\n",
    "# joined_df = joined_df.append(google)\n",
    "# joined_df = joined_df.append(amzn)\n",
    "\n",
    "joined_df['date'] = pd.to_datetime(joined_df['date'])\n",
    "\n",
    "FIVE_TR = 0.0006\n",
    "TEN_TR = 0.0012\n",
    "TWENTY_TR = 0.0024\n",
    "# INPUT_COLS = ['RSI', 'Stochastic', 'Stochastic_signal', 'ADI','OBV', 'ATR', 'ADX', 'ADX_pos', 'ADX_neg', 'MACD', 'MACD_diff','MACD_signal', '1D_past_return', '5D_past_return', '10D_past_return']\n",
    "INPUT_COLS = ['RSI', 'Stochastic', 'Stochastic_signal', 'ATR', 'ADX', 'ADX_pos', 'ADX_neg', 'MACD', 'MACD_diff','MACD_signal', '1D_past_return', '5D_past_return', '10D_past_return']\n",
    "\n",
    "\n",
    "joined_df['5D_return_bin'] = (joined_df['5TD_return'] >= FIVE_TR)\n",
    "joined_df['10D_return_bin'] = (joined_df['10TD_return'] >= TEN_TR)\n",
    "joined_df['20D_return_bin'] = (joined_df['20TD_return'] >= TWENTY_TR)\n",
    "\n",
    "# joined_df = joined_df[(joined_df['date'].dt.year >= 2000)]"
   ]
  },
  {
   "cell_type": "code",
   "execution_count": 109,
   "metadata": {},
   "outputs": [
    {
     "data": {
      "text/html": [
       "<div>\n",
       "<style scoped>\n",
       "    .dataframe tbody tr th:only-of-type {\n",
       "        vertical-align: middle;\n",
       "    }\n",
       "\n",
       "    .dataframe tbody tr th {\n",
       "        vertical-align: top;\n",
       "    }\n",
       "\n",
       "    .dataframe thead th {\n",
       "        text-align: right;\n",
       "    }\n",
       "</style>\n",
       "<table border=\"1\" class=\"dataframe\">\n",
       "  <thead>\n",
       "    <tr style=\"text-align: right;\">\n",
       "      <th></th>\n",
       "      <th>ticker</th>\n",
       "      <th>date</th>\n",
       "      <th>RSI</th>\n",
       "      <th>Stochastic</th>\n",
       "      <th>Stochastic_signal</th>\n",
       "      <th>ADI</th>\n",
       "      <th>OBV</th>\n",
       "      <th>ATR</th>\n",
       "      <th>ADX</th>\n",
       "      <th>ADX_pos</th>\n",
       "      <th>...</th>\n",
       "      <th>MACD_signal</th>\n",
       "      <th>5TD_return</th>\n",
       "      <th>10TD_return</th>\n",
       "      <th>20TD_return</th>\n",
       "      <th>1D_past_return</th>\n",
       "      <th>5D_past_return</th>\n",
       "      <th>10D_past_return</th>\n",
       "      <th>5D_return_bin</th>\n",
       "      <th>10D_return_bin</th>\n",
       "      <th>20D_return_bin</th>\n",
       "    </tr>\n",
       "  </thead>\n",
       "  <tbody>\n",
       "    <tr>\n",
       "      <th>0</th>\n",
       "      <td>CHKP</td>\n",
       "      <td>2020-12-23</td>\n",
       "      <td>73.437700</td>\n",
       "      <td>86.461056</td>\n",
       "      <td>93.030748</td>\n",
       "      <td>1.671220e+08</td>\n",
       "      <td>395890089</td>\n",
       "      <td>3.215806</td>\n",
       "      <td>18.483730</td>\n",
       "      <td>43.458712</td>\n",
       "      <td>...</td>\n",
       "      <td>1.115410</td>\n",
       "      <td>-0.014606</td>\n",
       "      <td>-0.021649</td>\n",
       "      <td>-0.035884</td>\n",
       "      <td>0.010943</td>\n",
       "      <td>0.116926</td>\n",
       "      <td>0.116002</td>\n",
       "      <td>False</td>\n",
       "      <td>False</td>\n",
       "      <td>False</td>\n",
       "    </tr>\n",
       "    <tr>\n",
       "      <th>1</th>\n",
       "      <td>CHKP</td>\n",
       "      <td>2020-12-22</td>\n",
       "      <td>71.983265</td>\n",
       "      <td>99.022164</td>\n",
       "      <td>90.010494</td>\n",
       "      <td>1.674684e+08</td>\n",
       "      <td>394866811</td>\n",
       "      <td>3.151638</td>\n",
       "      <td>15.777491</td>\n",
       "      <td>38.235732</td>\n",
       "      <td>...</td>\n",
       "      <td>0.744617</td>\n",
       "      <td>0.005247</td>\n",
       "      <td>-0.047669</td>\n",
       "      <td>-0.030130</td>\n",
       "      <td>0.050799</td>\n",
       "      <td>0.083570</td>\n",
       "      <td>0.083306</td>\n",
       "      <td>True</td>\n",
       "      <td>False</td>\n",
       "      <td>False</td>\n",
       "    </tr>\n",
       "    <tr>\n",
       "      <th>2</th>\n",
       "      <td>CHKP</td>\n",
       "      <td>2020-12-21</td>\n",
       "      <td>63.867031</td>\n",
       "      <td>93.609023</td>\n",
       "      <td>71.163420</td>\n",
       "      <td>1.657310e+08</td>\n",
       "      <td>393048240</td>\n",
       "      <td>2.877163</td>\n",
       "      <td>13.507656</td>\n",
       "      <td>29.277562</td>\n",
       "      <td>...</td>\n",
       "      <td>0.472274</td>\n",
       "      <td>0.063558</td>\n",
       "      <td>-0.004332</td>\n",
       "      <td>0.001181</td>\n",
       "      <td>0.038609</td>\n",
       "      <td>0.036321</td>\n",
       "      <td>0.061888</td>\n",
       "      <td>True</td>\n",
       "      <td>False</td>\n",
       "      <td>False</td>\n",
       "    </tr>\n",
       "    <tr>\n",
       "      <th>3</th>\n",
       "      <td>CHKP</td>\n",
       "      <td>2020-12-18</td>\n",
       "      <td>55.010954</td>\n",
       "      <td>77.400295</td>\n",
       "      <td>59.341332</td>\n",
       "      <td>1.643934e+08</td>\n",
       "      <td>391340164</td>\n",
       "      <td>2.616176</td>\n",
       "      <td>12.503107</td>\n",
       "      <td>19.326759</td>\n",
       "      <td>...</td>\n",
       "      <td>0.345329</td>\n",
       "      <td>0.125481</td>\n",
       "      <td>0.053088</td>\n",
       "      <td>0.043926</td>\n",
       "      <td>0.021901</td>\n",
       "      <td>0.016041</td>\n",
       "      <td>0.016886</td>\n",
       "      <td>True</td>\n",
       "      <td>True</td>\n",
       "      <td>True</td>\n",
       "    </tr>\n",
       "    <tr>\n",
       "      <th>4</th>\n",
       "      <td>CHKP</td>\n",
       "      <td>2020-12-17</td>\n",
       "      <td>48.505575</td>\n",
       "      <td>42.480942</td>\n",
       "      <td>64.168712</td>\n",
       "      <td>1.615969e+08</td>\n",
       "      <td>388130231</td>\n",
       "      <td>2.602036</td>\n",
       "      <td>13.310535</td>\n",
       "      <td>19.300594</td>\n",
       "      <td>...</td>\n",
       "      <td>0.298511</td>\n",
       "      <td>0.126390</td>\n",
       "      <td>0.085681</td>\n",
       "      <td>0.066873</td>\n",
       "      <td>-0.009357</td>\n",
       "      <td>-0.001002</td>\n",
       "      <td>-0.001086</td>\n",
       "      <td>True</td>\n",
       "      <td>True</td>\n",
       "      <td>True</td>\n",
       "    </tr>\n",
       "    <tr>\n",
       "      <th>...</th>\n",
       "      <td>...</td>\n",
       "      <td>...</td>\n",
       "      <td>...</td>\n",
       "      <td>...</td>\n",
       "      <td>...</td>\n",
       "      <td>...</td>\n",
       "      <td>...</td>\n",
       "      <td>...</td>\n",
       "      <td>...</td>\n",
       "      <td>...</td>\n",
       "      <td>...</td>\n",
       "      <td>...</td>\n",
       "      <td>...</td>\n",
       "      <td>...</td>\n",
       "      <td>...</td>\n",
       "      <td>...</td>\n",
       "      <td>...</td>\n",
       "      <td>...</td>\n",
       "      <td>...</td>\n",
       "      <td>...</td>\n",
       "      <td>...</td>\n",
       "    </tr>\n",
       "    <tr>\n",
       "      <th>2995</th>\n",
       "      <td>EBAY</td>\n",
       "      <td>2009-02-02</td>\n",
       "      <td>42.626777</td>\n",
       "      <td>30.606641</td>\n",
       "      <td>26.713684</td>\n",
       "      <td>1.828287e+09</td>\n",
       "      <td>7972640413</td>\n",
       "      <td>0.300832</td>\n",
       "      <td>22.135611</td>\n",
       "      <td>15.201114</td>\n",
       "      <td>...</td>\n",
       "      <td>-0.177219</td>\n",
       "      <td>0.132472</td>\n",
       "      <td>0.007402</td>\n",
       "      <td>-0.147956</td>\n",
       "      <td>0.017443</td>\n",
       "      <td>0.030319</td>\n",
       "      <td>-0.077678</td>\n",
       "      <td>True</td>\n",
       "      <td>True</td>\n",
       "      <td>False</td>\n",
       "    </tr>\n",
       "    <tr>\n",
       "      <th>2996</th>\n",
       "      <td>EBAY</td>\n",
       "      <td>2009-01-30</td>\n",
       "      <td>40.622953</td>\n",
       "      <td>22.483462</td>\n",
       "      <td>29.860786</td>\n",
       "      <td>1.820201e+09</td>\n",
       "      <td>7946002878</td>\n",
       "      <td>0.309504</td>\n",
       "      <td>22.028280</td>\n",
       "      <td>15.911762</td>\n",
       "      <td>...</td>\n",
       "      <td>-0.168773</td>\n",
       "      <td>0.133907</td>\n",
       "      <td>0.097311</td>\n",
       "      <td>-0.126478</td>\n",
       "      <td>-0.018734</td>\n",
       "      <td>0.001651</td>\n",
       "      <td>-0.105636</td>\n",
       "      <td>True</td>\n",
       "      <td>True</td>\n",
       "      <td>False</td>\n",
       "    </tr>\n",
       "    <tr>\n",
       "      <th>2997</th>\n",
       "      <td>EBAY</td>\n",
       "      <td>2009-01-29</td>\n",
       "      <td>42.118002</td>\n",
       "      <td>27.050950</td>\n",
       "      <td>29.663767</td>\n",
       "      <td>1.843273e+09</td>\n",
       "      <td>7975966097</td>\n",
       "      <td>0.319466</td>\n",
       "      <td>21.970159</td>\n",
       "      <td>16.601403</td>\n",
       "      <td>...</td>\n",
       "      <td>-0.157186</td>\n",
       "      <td>0.078392</td>\n",
       "      <td>0.092273</td>\n",
       "      <td>-0.112645</td>\n",
       "      <td>-0.036949</td>\n",
       "      <td>0.049665</td>\n",
       "      <td>-0.051867</td>\n",
       "      <td>True</td>\n",
       "      <td>True</td>\n",
       "      <td>False</td>\n",
       "    </tr>\n",
       "    <tr>\n",
       "      <th>2998</th>\n",
       "      <td>EBAY</td>\n",
       "      <td>2009-01-28</td>\n",
       "      <td>45.287591</td>\n",
       "      <td>40.047945</td>\n",
       "      <td>24.983929</td>\n",
       "      <td>1.870144e+09</td>\n",
       "      <td>8007241104</td>\n",
       "      <td>0.326448</td>\n",
       "      <td>22.253937</td>\n",
       "      <td>17.496054</td>\n",
       "      <td>...</td>\n",
       "      <td>-0.144353</td>\n",
       "      <td>-0.009444</td>\n",
       "      <td>0.049548</td>\n",
       "      <td>-0.099827</td>\n",
       "      <td>0.052110</td>\n",
       "      <td>-0.042189</td>\n",
       "      <td>-0.099787</td>\n",
       "      <td>False</td>\n",
       "      <td>True</td>\n",
       "      <td>False</td>\n",
       "    </tr>\n",
       "    <tr>\n",
       "      <th>2999</th>\n",
       "      <td>EBAY</td>\n",
       "      <td>2009-01-27</td>\n",
       "      <td>39.633018</td>\n",
       "      <td>21.892406</td>\n",
       "      <td>17.019200</td>\n",
       "      <td>1.860063e+09</td>\n",
       "      <td>7973826778</td>\n",
       "      <td>0.324505</td>\n",
       "      <td>22.674373</td>\n",
       "      <td>11.490075</td>\n",
       "      <td>...</td>\n",
       "      <td>-0.128787</td>\n",
       "      <td>0.062046</td>\n",
       "      <td>0.104240</td>\n",
       "      <td>-0.029748</td>\n",
       "      <td>0.018509</td>\n",
       "      <td>-0.036688</td>\n",
       "      <td>-0.137067</td>\n",
       "      <td>True</td>\n",
       "      <td>True</td>\n",
       "      <td>False</td>\n",
       "    </tr>\n",
       "  </tbody>\n",
       "</table>\n",
       "<p>43628 rows × 23 columns</p>\n",
       "</div>"
      ],
      "text/plain": [
       "     ticker       date        RSI  Stochastic  Stochastic_signal  \\\n",
       "0      CHKP 2020-12-23  73.437700   86.461056          93.030748   \n",
       "1      CHKP 2020-12-22  71.983265   99.022164          90.010494   \n",
       "2      CHKP 2020-12-21  63.867031   93.609023          71.163420   \n",
       "3      CHKP 2020-12-18  55.010954   77.400295          59.341332   \n",
       "4      CHKP 2020-12-17  48.505575   42.480942          64.168712   \n",
       "...     ...        ...        ...         ...                ...   \n",
       "2995   EBAY 2009-02-02  42.626777   30.606641          26.713684   \n",
       "2996   EBAY 2009-01-30  40.622953   22.483462          29.860786   \n",
       "2997   EBAY 2009-01-29  42.118002   27.050950          29.663767   \n",
       "2998   EBAY 2009-01-28  45.287591   40.047945          24.983929   \n",
       "2999   EBAY 2009-01-27  39.633018   21.892406          17.019200   \n",
       "\n",
       "               ADI         OBV       ATR        ADX    ADX_pos  ...  \\\n",
       "0     1.671220e+08   395890089  3.215806  18.483730  43.458712  ...   \n",
       "1     1.674684e+08   394866811  3.151638  15.777491  38.235732  ...   \n",
       "2     1.657310e+08   393048240  2.877163  13.507656  29.277562  ...   \n",
       "3     1.643934e+08   391340164  2.616176  12.503107  19.326759  ...   \n",
       "4     1.615969e+08   388130231  2.602036  13.310535  19.300594  ...   \n",
       "...            ...         ...       ...        ...        ...  ...   \n",
       "2995  1.828287e+09  7972640413  0.300832  22.135611  15.201114  ...   \n",
       "2996  1.820201e+09  7946002878  0.309504  22.028280  15.911762  ...   \n",
       "2997  1.843273e+09  7975966097  0.319466  21.970159  16.601403  ...   \n",
       "2998  1.870144e+09  8007241104  0.326448  22.253937  17.496054  ...   \n",
       "2999  1.860063e+09  7973826778  0.324505  22.674373  11.490075  ...   \n",
       "\n",
       "      MACD_signal  5TD_return  10TD_return  20TD_return  1D_past_return  \\\n",
       "0        1.115410   -0.014606    -0.021649    -0.035884        0.010943   \n",
       "1        0.744617    0.005247    -0.047669    -0.030130        0.050799   \n",
       "2        0.472274    0.063558    -0.004332     0.001181        0.038609   \n",
       "3        0.345329    0.125481     0.053088     0.043926        0.021901   \n",
       "4        0.298511    0.126390     0.085681     0.066873       -0.009357   \n",
       "...           ...         ...          ...          ...             ...   \n",
       "2995    -0.177219    0.132472     0.007402    -0.147956        0.017443   \n",
       "2996    -0.168773    0.133907     0.097311    -0.126478       -0.018734   \n",
       "2997    -0.157186    0.078392     0.092273    -0.112645       -0.036949   \n",
       "2998    -0.144353   -0.009444     0.049548    -0.099827        0.052110   \n",
       "2999    -0.128787    0.062046     0.104240    -0.029748        0.018509   \n",
       "\n",
       "      5D_past_return  10D_past_return  5D_return_bin  10D_return_bin  \\\n",
       "0           0.116926         0.116002          False           False   \n",
       "1           0.083570         0.083306           True           False   \n",
       "2           0.036321         0.061888           True           False   \n",
       "3           0.016041         0.016886           True            True   \n",
       "4          -0.001002        -0.001086           True            True   \n",
       "...              ...              ...            ...             ...   \n",
       "2995        0.030319        -0.077678           True            True   \n",
       "2996        0.001651        -0.105636           True            True   \n",
       "2997        0.049665        -0.051867           True            True   \n",
       "2998       -0.042189        -0.099787          False            True   \n",
       "2999       -0.036688        -0.137067           True            True   \n",
       "\n",
       "      20D_return_bin  \n",
       "0              False  \n",
       "1              False  \n",
       "2              False  \n",
       "3               True  \n",
       "4               True  \n",
       "...              ...  \n",
       "2995           False  \n",
       "2996           False  \n",
       "2997           False  \n",
       "2998           False  \n",
       "2999           False  \n",
       "\n",
       "[43628 rows x 23 columns]"
      ]
     },
     "execution_count": 109,
     "metadata": {},
     "output_type": "execute_result"
    }
   ],
   "source": [
    "joined_df"
   ]
  },
  {
   "cell_type": "code",
   "execution_count": 110,
   "metadata": {},
   "outputs": [
    {
     "data": {
      "image/png": "[encoded data removed]",
      "text/plain": [
       "<Figure size 1440x1080 with 16 Axes>"
      ]
     },
     "metadata": {
      "needs_background": "light"
     },
     "output_type": "display_data"
    }
   ],
   "source": [
    "joined_df[INPUT_COLS].hist(figsize=(20, 15))\n",
    "plt.show()"
   ]
  },
  {
   "cell_type": "code",
   "execution_count": 111,
   "metadata": {},
   "outputs": [
    {
     "name": "stdout",
     "output_type": "stream",
     "text": [
      "15 Companies in Dataset\n",
      "Starting CHKP: Company 1 of 15\n",
      "Starting SBUX: Company 2 of 15\n",
      "Starting VRTX: Company 3 of 15\n",
      "Starting WDC: Company 4 of 15\n",
      "Starting LBTYK: Company 5 of 15\n",
      "Starting JD: Company 6 of 15\n",
      "Starting EXPE: Company 7 of 15\n",
      "Starting TTWO: Company 8 of 15\n",
      "Starting HA: Company 9 of 15\n",
      "Starting NVDA: Company 10 of 15\n",
      "Starting ROST: Company 11 of 15\n",
      "Starting AAPL: Company 12 of 15\n",
      "Starting LBTYA: Company 13 of 15\n",
      "Starting PAYX: Company 14 of 15\n",
      "Starting EBAY: Company 15 of 15\n",
      "All Companies Completed\n",
      "\n",
      "Processing Stats: {'CHKP': {'train_possible_windows': 2500.0, 'train_outliers': 29, 'train_windows': 2471, 'test_possible_windows': 500.0, 'test_outliers': 29, 'test_windows': 471}, 'SBUX': {'train_possible_windows': 2500.0, 'train_outliers': 29, 'train_windows': 2471, 'test_possible_windows': 500.0, 'test_outliers': 29, 'test_windows': 471}, 'VRTX': {'train_possible_windows': 2500.0, 'train_outliers': 119, 'train_windows': 2381, 'test_possible_windows': 500.0, 'test_outliers': 29, 'test_windows': 471}, 'WDC': {'train_possible_windows': 2500.0, 'train_outliers': 29, 'train_windows': 2471, 'test_possible_windows': 500.0, 'test_outliers': 29, 'test_windows': 471}, 'LBTYK': {'train_possible_windows': 2500.0, 'train_outliers': 29, 'train_windows': 2471, 'test_possible_windows': 500.0, 'test_outliers': 29, 'test_windows': 471}, 'JD': {'train_possible_windows': 1128.0, 'train_outliers': 29, 'train_windows': 1099, 'test_possible_windows': 500.0, 'test_outliers': 29, 'test_windows': 471}, 'EXPE': {'train_possible_windows': 2500.0, 'train_outliers': 29, 'train_windows': 2471, 'test_possible_windows': 500.0, 'test_outliers': 29, 'test_windows': 471}, 'TTWO': {'train_possible_windows': 2500.0, 'train_outliers': 29, 'train_windows': 2471, 'test_possible_windows': 500.0, 'test_outliers': 29, 'test_windows': 471}, 'HA': {'train_possible_windows': 2500.0, 'train_outliers': 29, 'train_windows': 2471, 'test_possible_windows': 500.0, 'test_outliers': 29, 'test_windows': 471}, 'NVDA': {'train_possible_windows': 2500.0, 'train_outliers': 29, 'train_windows': 2471, 'test_possible_windows': 500.0, 'test_outliers': 29, 'test_windows': 471}, 'ROST': {'train_possible_windows': 2500.0, 'train_outliers': 29, 'train_windows': 2471, 'test_possible_windows': 500.0, 'test_outliers': 29, 'test_windows': 471}, 'AAPL': {'train_possible_windows': 2500.0, 'train_outliers': 29, 'train_windows': 2471, 'test_possible_windows': 500.0, 'test_outliers': 29, 'test_windows': 471}, 'LBTYA': {'train_possible_windows': 2500.0, 'train_outliers': 29, 'train_windows': 2471, 'test_possible_windows': 500.0, 'test_outliers': 29, 'test_windows': 471}, 'PAYX': {'train_possible_windows': 2500.0, 'train_outliers': 29, 'train_windows': 2471, 'test_possible_windows': 500.0, 'test_outliers': 29, 'test_windows': 471}, 'EBAY': {'train_possible_windows': 2500.0, 'train_outliers': 29, 'train_windows': 2471, 'test_possible_windows': 500.0, 'test_outliers': 29, 'test_windows': 471}}\n",
      "\n",
      "\n",
      "### Stats ###\n",
      "train_x (35603, 30, 13)\n",
      "train_y (35603, 1)\n",
      "test_x (7065, 30, 13)\n",
      "test_y (7065, 1)\n",
      "scaler RobustScaler()\n",
      "\n",
      "\n",
      "### Validation ###\n"
     ]
    }
   ],
   "source": [
    "\n",
    "TARGET_COLS=['10D_return_bin']\n",
    "outlier_validation={'1D_past_return': [-0.4, 0.4]}\n",
    "\n",
    "stride = 1\n",
    "\n",
    "\n",
    "train_x, train_y, test_x, test_y, scaler = full_dataset_randomised_arrays_(joined_df, \n",
    "                                                                                stride=stride, \n",
    "                                                                                input_cols=INPUT_COLS, \n",
    "                                                                                outlier_threshold=1, \n",
    "                                                                                outlier_validation=outlier_validation, \n",
    "                                                                                check_train_outliers=True,\n",
    "                                                                                check_test_outliers=True, \n",
    "                                                                                target_col=TARGET_COLS, \n",
    "                                                                                time_window=30,\n",
    "                                                                                test_set_size='2Y')\n",
    "\n",
    "print('')\n",
    "print('')\n",
    "print('### Stats ###')\n",
    "print('train_x', train_x.shape)\n",
    "print('train_y', train_y.shape)\n",
    "print('test_x', test_x.shape)\n",
    "print('test_y', test_y.shape)\n",
    "print('scaler', scaler)\n",
    "\n",
    "print('')\n",
    "print('')\n",
    "print('### Validation ###')\n",
    "# \n",
    "# print('google_train', len(google_train)/stride)\n",
    "# print('google_test', len(google_test)/stride)\n",
    "# print('amazon_train', len(amazon_train)/stride)\n",
    "# print('amazon_test', len(amazon_test)/stride)\n",
    "\n",
    "# print('all trains sets', (len(apple_train) + len(google_train) + len(amazon_train))/stride)\n",
    "# print('all tests sets', (len(apple_test) + len(google_test) + len(amazon_test))/stride)\n",
    "\n"
   ]
  },
  {
   "cell_type": "code",
   "execution_count": 112,
   "metadata": {},
   "outputs": [
    {
     "data": {
      "text/plain": [
       "(35603, 1)"
      ]
     },
     "execution_count": 112,
     "metadata": {},
     "output_type": "execute_result"
    }
   ],
   "source": [
    "train_y.shape"
   ]
  },
  {
   "cell_type": "code",
   "execution_count": 113,
   "metadata": {},
   "outputs": [
    {
     "data": {
      "text/plain": [
       "(35603, 30, 13)"
      ]
     },
     "execution_count": 113,
     "metadata": {},
     "output_type": "execute_result"
    }
   ],
   "source": [
    "train_x.shape"
   ]
  },
  {
   "cell_type": "code",
   "execution_count": 114,
   "metadata": {},
   "outputs": [
    {
     "name": "stderr",
     "output_type": "stream",
     "text": [
      "/home/kensei/.pyenv/versions/3.7.7/envs/lewagon/lib/python3.7/site-packages/ipykernel_launcher.py:6: FutureWarning: Using a non-tuple sequence for multidimensional indexing is deprecated; use `arr[tuple(seq)]` instead of `arr[seq]`. In the future this will be interpreted as an array index, `arr[np.array(seq)]`, which will result either in an error or a different result.\n",
      "  \n"
     ]
    }
   ],
   "source": [
    "import random\n",
    "\n",
    "indx = list(range(len(train_x)))\n",
    "sample_indx = random.sample(indx, 10000)\n",
    "X_train_sample =  train_x[[sample_indx], :][0]\n",
    "y_train_sample = train_y[[sample_indx]]"
   ]
  },
  {
   "cell_type": "code",
   "execution_count": 115,
   "metadata": {},
   "outputs": [
    {
     "data": {
      "text/plain": [
       "(10000, 1)"
      ]
     },
     "execution_count": 115,
     "metadata": {},
     "output_type": "execute_result"
    }
   ],
   "source": [
    "y_train_sample.shape"
   ]
  },
  {
   "cell_type": "code",
   "execution_count": 130,
   "metadata": {},
   "outputs": [],
   "source": [
    "from tensorflow.keras.metrics import Precision\n",
    "from tensorflow.keras import regularizers\n",
    "from tensorflow.keras import Sequential\n",
    "from tensorflow.keras import layers, models \n",
    "from tensorflow.keras.optimizers import RMSprop, Adam, Adamax\n",
    "\n",
    "optim = Adamax(learning_rate=0.0001)\n",
    "precision = Precision()\n",
    "\n",
    "def init_model():\n",
    "    model = Sequential()\n",
    "    reg_l1 = regularizers.l1(0.001)\n",
    "    reg_l2 = regularizers.l2(0.001)\n",
    "    reg_l1_l2 = regularizers.l1_l2(l1=0.001, l2=0.001)\n",
    "    model.add(layers.LSTM(200, return_sequences=True, input_shape=(30,13), activation='tanh'))\n",
    "    model.add(layers.LSTM(200, activation='tanh'))\n",
    "    model.add(layers.Dropout(0.3))\n",
    "    model.add(layers.Dense(200, activation='relu', kernel_regularizer=reg_l1))\n",
    "    model.add(layers.Dropout(0.3))\n",
    "    model.add(layers.Dense(100, activation='relu', bias_regularizer=reg_l2))\n",
    "    model.add(layers.Dropout(0.3))\n",
    "    model.add(layers.Dense(50, activation='relu', activity_regularizer=reg_l1_l2))\n",
    "    model.add(layers.Dense(1, activation='sigmoid'))\n",
    "\n",
    "    model.compile(loss='binary_crossentropy', optimizer=optim, metrics=[precision, 'accuracy'])\n",
    "    \n",
    "    return model"
   ]
  },
  {
   "cell_type": "code",
   "execution_count": null,
   "metadata": {},
   "outputs": [
    {
     "name": "stdout",
     "output_type": "stream",
     "text": [
      "Epoch 1/500\n",
      "7121/7121 [==============================] - 91s 13ms/step - loss: 1.8062 - precision_10: 0.5620 - accuracy: 0.5615 - val_loss: 1.0025 - val_precision_10: 0.5621 - val_accuracy: 0.5621\n",
      "Epoch 2/500\n",
      "7121/7121 [==============================] - 94s 13ms/step - loss: 0.8061 - precision_10: 0.5620 - accuracy: 0.5620 - val_loss: 0.7170 - val_precision_10: 0.5621 - val_accuracy: 0.5621\n",
      "Epoch 3/500\n",
      "7121/7121 [==============================] - 73s 10ms/step - loss: 0.7019 - precision_10: 0.5620 - accuracy: 0.5620 - val_loss: 0.6939 - val_precision_10: 0.5621 - val_accuracy: 0.5621\n",
      "Epoch 4/500\n",
      "7121/7121 [==============================] - 101s 14ms/step - loss: 0.6909 - precision_10: 0.5620 - accuracy: 0.5620 - val_loss: 0.6890 - val_precision_10: 0.5621 - val_accuracy: 0.5621\n",
      "Epoch 5/500\n",
      "7121/7121 [==============================] - 79s 11ms/step - loss: 0.6878 - precision_10: 0.5620 - accuracy: 0.5620 - val_loss: 0.6864 - val_precision_10: 0.5621 - val_accuracy: 0.5621\n",
      "Epoch 6/500\n",
      "7121/7121 [==============================] - 70s 10ms/step - loss: 0.6856 - precision_10: 0.5620 - accuracy: 0.5620 - val_loss: 0.6852 - val_precision_10: 0.5621 - val_accuracy: 0.5621\n",
      "Epoch 7/500\n",
      "7121/7121 [==============================] - 83s 12ms/step - loss: 0.6835 - precision_10: 0.5620 - accuracy: 0.5620 - val_loss: 0.6833 - val_precision_10: 0.5621 - val_accuracy: 0.5621\n",
      "Epoch 8/500\n",
      "7121/7121 [==============================] - 82s 12ms/step - loss: 0.6806 - precision_10: 0.5620 - accuracy: 0.5620 - val_loss: 0.6813 - val_precision_10: 0.5621 - val_accuracy: 0.5621\n",
      "Epoch 9/500\n",
      "7121/7121 [==============================] - 79s 11ms/step - loss: 0.6788 - precision_10: 0.5620 - accuracy: 0.5620 - val_loss: 0.6797 - val_precision_10: 0.5621 - val_accuracy: 0.5621\n",
      "Epoch 10/500\n",
      "7121/7121 [==============================] - 78s 11ms/step - loss: 0.6764 - precision_10: 0.5620 - accuracy: 0.5620 - val_loss: 0.6776 - val_precision_10: 0.5621 - val_accuracy: 0.5621\n",
      "Epoch 11/500\n",
      "7118/7121 [============================>.] - ETA: 0s - loss: 0.6744 - precision_10: 0.5651 - accuracy: 0.5640"
     ]
    }
   ],
   "source": [
    "model = init_model()\n",
    "\n",
    "from tensorflow.keras.callbacks import EarlyStopping\n",
    "\n",
    "es = EarlyStopping(patience=3, restore_best_weights=True)\n",
    "\n",
    "model.fit(train_x, train_y, \n",
    "          epochs=500, \n",
    "          batch_size=4,\n",
    "          validation_split=0.2,\n",
    "          callbacks=[es])"
   ]
  },
  {
   "cell_type": "code",
   "execution_count": 127,
   "metadata": {},
   "outputs": [
    {
     "data": {
      "text/plain": [
       "0.5620593770187906"
      ]
     },
     "execution_count": 127,
     "metadata": {},
     "output_type": "execute_result"
    }
   ],
   "source": [
    "train_y.sum()/len(train_y)"
   ]
  },
  {
   "cell_type": "code",
   "execution_count": 128,
   "metadata": {},
   "outputs": [
    {
     "data": {
      "text/plain": [
       "0.5900920028308564"
      ]
     },
     "execution_count": 128,
     "metadata": {},
     "output_type": "execute_result"
    }
   ],
   "source": [
    "test_y.sum()/len(test_y)"
   ]
  },
  {
   "cell_type": "code",
   "execution_count": 129,
   "metadata": {},
   "outputs": [
    {
     "name": "stdout",
     "output_type": "stream",
     "text": [
      "221/221 [==============================] - 1s 5ms/step - loss: 0.4333 - precision_9: 0.8843 - accuracy: 0.8300\n"
     ]
    },
    {
     "data": {
      "text/plain": [
       "[0.4333150088787079, 0.8842568397521973, 0.8300070762634277]"
      ]
     },
     "execution_count": 129,
     "metadata": {},
     "output_type": "execute_result"
    }
   ],
   "source": [
    "model.evaluate(test_x, test_y)"
   ]
  },
  {
   "cell_type": "code",
   "execution_count": null,
   "metadata": {},
   "outputs": [],
   "source": []
  }
 ],
 "metadata": {
  "kernelspec": {
   "display_name": "Python 3",
   "language": "python",
   "name": "python3"
  },
  "language_info": {
   "codemirror_mode": {
    "name": "ipython",
    "version": 3
   },
   "file_extension": ".py",
   "mimetype": "text/x-python",
   "name": "python",
   "nbconvert_exporter": "python",
   "pygments_lexer": "ipython3",
   "version": "3.7.7"
  }
 },
 "nbformat": 4,
 "nbformat_minor": 4
}
