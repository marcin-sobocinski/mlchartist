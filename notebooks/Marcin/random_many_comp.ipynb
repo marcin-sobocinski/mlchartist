{
 "cells": [
  {
   "cell_type": "code",
   "execution_count": 265,
   "metadata": {},
   "outputs": [],
   "source": [
    "from mlchartist.array_builder import full_dataset_randomised_arrays_\n",
    "from mlchartist.preprocessing import train_test_split\n",
    "\n",
    "import pandas as pd\n",
    "import numpy as np\n",
    "import matplotlib.pyplot as plt"
   ]
  },
  {
   "cell_type": "code",
   "execution_count": 267,
   "metadata": {},
   "outputs": [],
   "source": [
    "# Reads Nasdaq 100 components\n",
    "\n",
    "nasdaq100 = pd.read_csv('../../raw_data/nasdaq100.csv', header=None)"
   ]
  },
  {
   "cell_type": "code",
   "execution_count": 268,
   "metadata": {},
   "outputs": [],
   "source": [
    "nasdaq100_list = list(nasdaq100.values.flatten())"
   ]
  },
  {
   "cell_type": "code",
   "execution_count": 269,
   "metadata": {},
   "outputs": [],
   "source": [
    "# Samples n random companies from Nasdaq 100 list\n",
    "\n",
    "rand_tickers = random.sample(nasdaq100_list, 15)"
   ]
  },
  {
   "cell_type": "code",
   "execution_count": 270,
   "metadata": {},
   "outputs": [],
   "source": [
    "joined_df = pd.DataFrame()\n",
    "\n",
    "# Takes nrows from history from each company from the sample\n",
    "nrows = 3000\n",
    "\n",
    "for ticker in rand_tickers:\n",
    "    ticker_path = '../../raw_data/processed/' + ticker.strip().lower() + '.csv'\n",
    "    ticker_df = pd.read_csv(ticker_path, nrows=nrows)\n",
    "    joined_df = joined_df.append(ticker_df)\n",
    "    "
   ]
  },
  {
   "cell_type": "code",
   "execution_count": 271,
   "metadata": {},
   "outputs": [
    {
     "name": "stdout",
     "output_type": "stream",
     "text": [
      "KHC\n",
      "NXPI\n",
      "AAL\n",
      "EBAY\n",
      "BIDU\n",
      "AMZN\n",
      "CHTR\n",
      "LBTYA\n",
      "CSCO\n",
      "MAR\n",
      "ISRG\n",
      "GOOG\n",
      "ULTA\n",
      "PEP\n",
      "UAL\n"
     ]
    }
   ],
   "source": [
    "# Prints sample tickers list\n",
    "\n",
    "for tick in rand_tickers:\n",
    "    print(tick)"
   ]
  },
  {
   "cell_type": "code",
   "execution_count": 272,
   "metadata": {},
   "outputs": [],
   "source": [
    "joined_df['date'] = pd.to_datetime(joined_df['date'])\n",
    "\n",
    "FIVE_TR = 0.0006\n",
    "TEN_TR = 0.0012\n",
    "TWENTY_TR = 0.0024\n",
    "\n",
    "# Drops 'ADI' and 'OBV' from input columns\n",
    "# INPUT_COLS = ['RSI', 'Stochastic', 'Stochastic_signal', 'ADI','OBV', 'ATR', 'ADX', 'ADX_pos', 'ADX_neg', 'MACD', 'MACD_diff','MACD_signal', '1D_past_return', '5D_past_return', '10D_past_return']\n",
    "INPUT_COLS = ['RSI', 'Stochastic', 'Stochastic_signal', 'ATR', 'ADX', 'ADX_pos', 'ADX_neg', 'MACD', 'MACD_diff','MACD_signal', '1D_past_return', '5D_past_return', '10D_past_return']\n",
    "\n",
    "\n",
    "joined_df['5D_return_bin'] = (joined_df['5TD_return'] >= FIVE_TR)\n",
    "joined_df['10D_return_bin'] = (joined_df['10TD_return'] >= TEN_TR)\n",
    "joined_df['20D_return_bin'] = (joined_df['20TD_return'] >= TWENTY_TR)"
   ]
  },
  {
   "cell_type": "code",
   "execution_count": 273,
   "metadata": {},
   "outputs": [
    {
     "data": {
      "text/html": [
       "<div>\n",
       "<style scoped>\n",
       "    .dataframe tbody tr th:only-of-type {\n",
       "        vertical-align: middle;\n",
       "    }\n",
       "\n",
       "    .dataframe tbody tr th {\n",
       "        vertical-align: top;\n",
       "    }\n",
       "\n",
       "    .dataframe thead th {\n",
       "        text-align: right;\n",
       "    }\n",
       "</style>\n",
       "<table border=\"1\" class=\"dataframe\">\n",
       "  <thead>\n",
       "    <tr style=\"text-align: right;\">\n",
       "      <th></th>\n",
       "      <th>ticker</th>\n",
       "      <th>date</th>\n",
       "      <th>RSI</th>\n",
       "      <th>Stochastic</th>\n",
       "      <th>Stochastic_signal</th>\n",
       "      <th>ADI</th>\n",
       "      <th>OBV</th>\n",
       "      <th>ATR</th>\n",
       "      <th>ADX</th>\n",
       "      <th>ADX_pos</th>\n",
       "      <th>...</th>\n",
       "      <th>MACD_signal</th>\n",
       "      <th>5TD_return</th>\n",
       "      <th>10TD_return</th>\n",
       "      <th>20TD_return</th>\n",
       "      <th>1D_past_return</th>\n",
       "      <th>5D_past_return</th>\n",
       "      <th>10D_past_return</th>\n",
       "      <th>5D_return_bin</th>\n",
       "      <th>10D_return_bin</th>\n",
       "      <th>20D_return_bin</th>\n",
       "    </tr>\n",
       "  </thead>\n",
       "  <tbody>\n",
       "    <tr>\n",
       "      <th>0</th>\n",
       "      <td>KHC</td>\n",
       "      <td>2020-12-23</td>\n",
       "      <td>65.333960</td>\n",
       "      <td>70.323488</td>\n",
       "      <td>67.224006</td>\n",
       "      <td>5.977632e+07</td>\n",
       "      <td>-413872467</td>\n",
       "      <td>0.646765</td>\n",
       "      <td>36.389756</td>\n",
       "      <td>33.286814</td>\n",
       "      <td>...</td>\n",
       "      <td>0.752943</td>\n",
       "      <td>-0.004023</td>\n",
       "      <td>-0.033908</td>\n",
       "      <td>-0.030172</td>\n",
       "      <td>0.011922</td>\n",
       "      <td>0.010746</td>\n",
       "      <td>0.016949</td>\n",
       "      <td>False</td>\n",
       "      <td>False</td>\n",
       "      <td>False</td>\n",
       "    </tr>\n",
       "    <tr>\n",
       "      <th>1</th>\n",
       "      <td>KHC</td>\n",
       "      <td>2020-12-22</td>\n",
       "      <td>61.847562</td>\n",
       "      <td>61.874927</td>\n",
       "      <td>69.485532</td>\n",
       "      <td>5.908194e+07</td>\n",
       "      <td>-417450059</td>\n",
       "      <td>0.646516</td>\n",
       "      <td>35.778920</td>\n",
       "      <td>33.124575</td>\n",
       "      <td>...</td>\n",
       "      <td>0.758641</td>\n",
       "      <td>0.008142</td>\n",
       "      <td>-0.020209</td>\n",
       "      <td>-0.043036</td>\n",
       "      <td>-0.005207</td>\n",
       "      <td>0.001748</td>\n",
       "      <td>0.001456</td>\n",
       "      <td>True</td>\n",
       "      <td>False</td>\n",
       "      <td>False</td>\n",
       "    </tr>\n",
       "    <tr>\n",
       "      <th>2</th>\n",
       "      <td>KHC</td>\n",
       "      <td>2020-12-21</td>\n",
       "      <td>64.491677</td>\n",
       "      <td>69.473604</td>\n",
       "      <td>79.890074</td>\n",
       "      <td>6.200842e+07</td>\n",
       "      <td>-413732634</td>\n",
       "      <td>0.660094</td>\n",
       "      <td>35.370662</td>\n",
       "      <td>33.190830</td>\n",
       "      <td>...</td>\n",
       "      <td>0.763946</td>\n",
       "      <td>0.009546</td>\n",
       "      <td>-0.018224</td>\n",
       "      <td>-0.051779</td>\n",
       "      <td>-0.005752</td>\n",
       "      <td>0.004358</td>\n",
       "      <td>0.028869</td>\n",
       "      <td>True</td>\n",
       "      <td>False</td>\n",
       "      <td>False</td>\n",
       "    </tr>\n",
       "    <tr>\n",
       "      <th>3</th>\n",
       "      <td>KHC</td>\n",
       "      <td>2020-12-18</td>\n",
       "      <td>67.467630</td>\n",
       "      <td>77.108066</td>\n",
       "      <td>86.038694</td>\n",
       "      <td>5.855279e+07</td>\n",
       "      <td>-408549183</td>\n",
       "      <td>0.660871</td>\n",
       "      <td>35.096792</td>\n",
       "      <td>35.701973</td>\n",
       "      <td>...</td>\n",
       "      <td>0.760506</td>\n",
       "      <td>0.012655</td>\n",
       "      <td>-0.034513</td>\n",
       "      <td>-0.054932</td>\n",
       "      <td>0.004333</td>\n",
       "      <td>0.020546</td>\n",
       "      <td>0.019050</td>\n",
       "      <td>True</td>\n",
       "      <td>False</td>\n",
       "      <td>False</td>\n",
       "    </tr>\n",
       "    <tr>\n",
       "      <th>4</th>\n",
       "      <td>KHC</td>\n",
       "      <td>2020-12-17</td>\n",
       "      <td>66.387439</td>\n",
       "      <td>93.088553</td>\n",
       "      <td>88.151069</td>\n",
       "      <td>6.297624e+07</td>\n",
       "      <td>-419743872</td>\n",
       "      <td>0.645576</td>\n",
       "      <td>33.766482</td>\n",
       "      <td>32.332651</td>\n",
       "      <td>...</td>\n",
       "      <td>0.750759</td>\n",
       "      <td>0.010399</td>\n",
       "      <td>-0.011265</td>\n",
       "      <td>-0.065280</td>\n",
       "      <td>0.005518</td>\n",
       "      <td>0.015249</td>\n",
       "      <td>0.034978</td>\n",
       "      <td>True</td>\n",
       "      <td>False</td>\n",
       "      <td>False</td>\n",
       "    </tr>\n",
       "  </tbody>\n",
       "</table>\n",
       "<p>5 rows × 23 columns</p>\n",
       "</div>"
      ],
      "text/plain": [
       "  ticker       date        RSI  Stochastic  Stochastic_signal           ADI  \\\n",
       "0    KHC 2020-12-23  65.333960   70.323488          67.224006  5.977632e+07   \n",
       "1    KHC 2020-12-22  61.847562   61.874927          69.485532  5.908194e+07   \n",
       "2    KHC 2020-12-21  64.491677   69.473604          79.890074  6.200842e+07   \n",
       "3    KHC 2020-12-18  67.467630   77.108066          86.038694  5.855279e+07   \n",
       "4    KHC 2020-12-17  66.387439   93.088553          88.151069  6.297624e+07   \n",
       "\n",
       "         OBV       ATR        ADX    ADX_pos  ...  MACD_signal  5TD_return  \\\n",
       "0 -413872467  0.646765  36.389756  33.286814  ...     0.752943   -0.004023   \n",
       "1 -417450059  0.646516  35.778920  33.124575  ...     0.758641    0.008142   \n",
       "2 -413732634  0.660094  35.370662  33.190830  ...     0.763946    0.009546   \n",
       "3 -408549183  0.660871  35.096792  35.701973  ...     0.760506    0.012655   \n",
       "4 -419743872  0.645576  33.766482  32.332651  ...     0.750759    0.010399   \n",
       "\n",
       "   10TD_return  20TD_return  1D_past_return  5D_past_return  10D_past_return  \\\n",
       "0    -0.033908    -0.030172        0.011922        0.010746         0.016949   \n",
       "1    -0.020209    -0.043036       -0.005207        0.001748         0.001456   \n",
       "2    -0.018224    -0.051779       -0.005752        0.004358         0.028869   \n",
       "3    -0.034513    -0.054932        0.004333        0.020546         0.019050   \n",
       "4    -0.011265    -0.065280        0.005518        0.015249         0.034978   \n",
       "\n",
       "   5D_return_bin  10D_return_bin  20D_return_bin  \n",
       "0          False           False           False  \n",
       "1           True           False           False  \n",
       "2           True           False           False  \n",
       "3           True           False           False  \n",
       "4           True           False           False  \n",
       "\n",
       "[5 rows x 23 columns]"
      ]
     },
     "execution_count": 273,
     "metadata": {},
     "output_type": "execute_result"
    }
   ],
   "source": [
    "joined_df.head()"
   ]
  },
  {
   "cell_type": "code",
   "execution_count": 274,
   "metadata": {},
   "outputs": [
    {
     "data": {
      "image/png": "[encoded data removed]",
      "text/plain": [
       "<Figure size 1440x1080 with 16 Axes>"
      ]
     },
     "metadata": {
      "needs_background": "light"
     },
     "output_type": "display_data"
    }
   ],
   "source": [
    "# Plots distribution of the input df without removing outliers\n",
    "\n",
    "joined_df[INPUT_COLS].hist(figsize=(20, 15), bins=50)\n",
    "plt.show()"
   ]
  },
  {
   "cell_type": "code",
   "execution_count": null,
   "metadata": {},
   "outputs": [
    {
     "name": "stdout",
     "output_type": "stream",
     "text": [
      "15 Companies in Dataset\n",
      "Starting KHC: Company 1 of 15\n",
      "Starting NXPI: Company 2 of 15\n",
      "Starting AAL: Company 3 of 15\n",
      "Starting EBAY: Company 4 of 15\n",
      "Starting BID: Company 5 of 15\n",
      "Starting AMZN: Company 6 of 15\n",
      "Starting CHTR: Company 7 of 15\n",
      "Starting LBTYA: Company 8 of 15\n",
      "Starting CSCO: Company 9 of 15\n",
      "Starting MAR: Company 10 of 15\n"
     ]
    }
   ],
   "source": [
    "\n",
    "TARGET_COLS=['10D_return_bin']\n",
    "outlier_validation={'1D_past_return': [-0.3, 0.3]}\n",
    "\n",
    "stride = 1\n",
    "\n",
    "\n",
    "train_x, train_y, test_x, test_y, scaler = full_dataset_randomised_arrays_(joined_df, \n",
    "                                                                                stride=stride, \n",
    "                                                                                input_cols=INPUT_COLS, \n",
    "                                                                                outlier_threshold=1, \n",
    "                                                                                outlier_validation=outlier_validation, \n",
    "                                                                                check_train_outliers=True,\n",
    "                                                                                check_test_outliers=False, \n",
    "                                                                                target_col=TARGET_COLS, \n",
    "                                                                                time_window=30,\n",
    "                                                                                test_set_size='2Y')\n",
    "\n",
    "print('')\n",
    "print('')\n",
    "print('### Stats ###')\n",
    "print('train_x', train_x.shape)\n",
    "print('train_y', train_y.shape)\n",
    "print('test_x', test_x.shape)\n",
    "print('test_y', test_y.shape)\n",
    "print('scaler', scaler)\n",
    "\n",
    "print('')\n",
    "print('')\n",
    "print('### Validation ###')\n"
   ]
  },
  {
   "cell_type": "code",
   "execution_count": 251,
   "metadata": {},
   "outputs": [
    {
     "data": {
      "text/plain": [
       "(234347, 1)"
      ]
     },
     "execution_count": 251,
     "metadata": {},
     "output_type": "execute_result"
    }
   ],
   "source": [
    "train_y.shape"
   ]
  },
  {
   "cell_type": "code",
   "execution_count": 250,
   "metadata": {},
   "outputs": [
    {
     "data": {
      "text/plain": [
       "(234347, 30, 13)"
      ]
     },
     "execution_count": 250,
     "metadata": {},
     "output_type": "execute_result"
    }
   ],
   "source": [
    "train_x.shape"
   ]
  },
  {
   "cell_type": "code",
   "execution_count": 252,
   "metadata": {},
   "outputs": [
    {
     "name": "stderr",
     "output_type": "stream",
     "text": [
      "/home/kensei/.pyenv/versions/3.7.7/envs/lewagon/lib/python3.7/site-packages/ipykernel_launcher.py:6: FutureWarning: Using a non-tuple sequence for multidimensional indexing is deprecated; use `arr[tuple(seq)]` instead of `arr[seq]`. In the future this will be interpreted as an array index, `arr[np.array(seq)]`, which will result either in an error or a different result.\n",
      "  \n"
     ]
    }
   ],
   "source": [
    "import random\n",
    "\n",
    "# Samples n rows of train_x\n",
    "\n",
    "indx = list(range(len(train_x)))\n",
    "sample_indx = random.sample(indx, 100000)\n",
    "X_train_sample =  train_x[[sample_indx], :][0]\n",
    "y_train_sample = train_y[[sample_indx]]"
   ]
  },
  {
   "cell_type": "code",
   "execution_count": 253,
   "metadata": {},
   "outputs": [
    {
     "data": {
      "text/plain": [
       "(100000, 1)"
      ]
     },
     "execution_count": 253,
     "metadata": {},
     "output_type": "execute_result"
    }
   ],
   "source": [
    "y_train_sample.shape"
   ]
  },
  {
   "cell_type": "code",
   "execution_count": 254,
   "metadata": {},
   "outputs": [
    {
     "data": {
      "text/plain": [
       "(46873, 1)"
      ]
     },
     "execution_count": 254,
     "metadata": {},
     "output_type": "execute_result"
    }
   ],
   "source": [
    "test_y.shape"
   ]
  },
  {
   "cell_type": "code",
   "execution_count": 255,
   "metadata": {},
   "outputs": [],
   "source": [
    "from tensorflow.keras.metrics import Precision\n",
    "from tensorflow.keras import regularizers\n",
    "from tensorflow.keras import Sequential\n",
    "from tensorflow.keras import layers, models \n",
    "from tensorflow.keras.optimizers import RMSprop, Adam, Adamax\n",
    "\n",
    "optim = RMSprop(learning_rate=0.0001)\n",
    "precision = Precision()\n",
    "\n",
    "def init_model():\n",
    "    model = Sequential()\n",
    "    reg_l1 = regularizers.l1(0.001)\n",
    "    reg_l2 = regularizers.l2(0.001)\n",
    "    reg_l1_l2 = regularizers.l1_l2(l1=0.001, l2=0.001)\n",
    "    model.add(layers.LSTM(200, return_sequences=True, input_shape=(30,13), activation='tanh'))\n",
    "    model.add(layers.LSTM(200, activation='tanh'))\n",
    "    model.add(layers.Dropout(0.3))\n",
    "    model.add(layers.BatchNormalization())\n",
    "    model.add(layers.Dense(200, activation='relu', kernel_regularizer=reg_l1))\n",
    "    model.add(layers.Dropout(0.3))\n",
    "    model.add(layers.Dense(100, activation='relu', bias_regularizer=reg_l2))\n",
    "    model.add(layers.Dropout(0.3))\n",
    "    model.add(layers.Dense(50, activation='relu', activity_regularizer=reg_l1_l2))\n",
    "    model.add(layers.Dense(1, activation='sigmoid'))\n",
    "\n",
    "    model.compile(loss='binary_crossentropy', optimizer=optim, metrics=[precision, 'accuracy'])\n",
    "    \n",
    "    return model"
   ]
  },
  {
   "cell_type": "code",
   "execution_count": 256,
   "metadata": {},
   "outputs": [
    {
     "name": "stdout",
     "output_type": "stream",
     "text": [
      "Epoch 1/500\n",
      "11718/11718 [==============================] - 101s 9ms/step - loss: 1.3201 - precision_18: 0.5655 - accuracy: 0.5558 - val_loss: 0.7063 - val_precision_18: 0.5654 - val_accuracy: 0.5654\n",
      "Epoch 2/500\n",
      "11718/11718 [==============================] - 104s 9ms/step - loss: 0.6946 - precision_18: 0.5647 - accuracy: 0.5647 - val_loss: 0.6960 - val_precision_18: 0.5654 - val_accuracy: 0.5654\n",
      "Epoch 3/500\n",
      "11718/11718 [==============================] - 135s 11ms/step - loss: 0.6893 - precision_18: 0.5647 - accuracy: 0.5647 - val_loss: 0.6886 - val_precision_18: 0.5654 - val_accuracy: 0.5654\n",
      "Epoch 4/500\n",
      "11718/11718 [==============================] - 170s 15ms/step - loss: 0.6883 - precision_18: 0.5647 - accuracy: 0.5647 - val_loss: 0.6882 - val_precision_18: 0.5654 - val_accuracy: 0.5654\n",
      "Epoch 5/500\n",
      "11718/11718 [==============================] - 174s 15ms/step - loss: 0.6886 - precision_18: 0.5647 - accuracy: 0.5647 - val_loss: 0.6892 - val_precision_18: 0.5654 - val_accuracy: 0.5654\n",
      "Epoch 6/500\n",
      "11718/11718 [==============================] - 162s 14ms/step - loss: 0.6883 - precision_18: 0.5647 - accuracy: 0.5647 - val_loss: 0.6882 - val_precision_18: 0.5654 - val_accuracy: 0.5654\n",
      "Epoch 7/500\n",
      "11718/11718 [==============================] - 157s 13ms/step - loss: 0.6881 - precision_18: 0.5647 - accuracy: 0.5647 - val_loss: 0.6878 - val_precision_18: 0.5654 - val_accuracy: 0.5654\n",
      "Epoch 8/500\n",
      "11718/11718 [==============================] - 164s 14ms/step - loss: 0.6877 - precision_18: 0.5647 - accuracy: 0.5647 - val_loss: 0.6878 - val_precision_18: 0.5654 - val_accuracy: 0.5654\n",
      "Epoch 9/500\n",
      "11718/11718 [==============================] - 235s 20ms/step - loss: 0.6880 - precision_18: 0.5647 - accuracy: 0.5647 - val_loss: 0.6880 - val_precision_18: 0.5654 - val_accuracy: 0.5654\n",
      "Epoch 10/500\n",
      "11718/11718 [==============================] - 154s 13ms/step - loss: 0.6876 - precision_18: 0.5647 - accuracy: 0.5647 - val_loss: 0.6875 - val_precision_18: 0.5654 - val_accuracy: 0.5654\n",
      "Epoch 11/500\n",
      "11718/11718 [==============================] - 143s 12ms/step - loss: 0.6869 - precision_18: 0.5647 - accuracy: 0.5647 - val_loss: 0.6872 - val_precision_18: 0.5654 - val_accuracy: 0.5654\n",
      "Epoch 12/500\n",
      "11718/11718 [==============================] - 137s 12ms/step - loss: 0.6865 - precision_18: 0.5647 - accuracy: 0.5647 - val_loss: 0.6875 - val_precision_18: 0.5654 - val_accuracy: 0.5654\n",
      "Epoch 13/500\n",
      "11718/11718 [==============================] - 137s 12ms/step - loss: 0.6856 - precision_18: 0.5647 - accuracy: 0.5647 - val_loss: 0.6877 - val_precision_18: 0.5654 - val_accuracy: 0.5654\n",
      "Epoch 14/500\n",
      "11718/11718 [==============================] - 135s 12ms/step - loss: 0.6849 - precision_18: 0.5647 - accuracy: 0.5647 - val_loss: 0.6880 - val_precision_18: 0.5654 - val_accuracy: 0.5654\n",
      "Epoch 15/500\n",
      "11718/11718 [==============================] - 146s 12ms/step - loss: 0.6838 - precision_18: 0.5648 - accuracy: 0.5648 - val_loss: 0.6860 - val_precision_18: 0.5654 - val_accuracy: 0.5654\n",
      "Epoch 16/500\n",
      "11718/11718 [==============================] - 163s 14ms/step - loss: 0.6820 - precision_18: 0.5704 - accuracy: 0.5680 - val_loss: 0.6897 - val_precision_18: 0.6047 - val_accuracy: 0.5786\n",
      "Epoch 17/500\n",
      "11718/11718 [==============================] - 197s 17ms/step - loss: 0.6804 - precision_18: 0.5933 - accuracy: 0.5772 - val_loss: 0.6862 - val_precision_18: 0.6245 - val_accuracy: 0.5789\n",
      "Epoch 18/500\n",
      "11718/11718 [==============================] - 217s 19ms/step - loss: 0.6778 - precision_18: 0.6025 - accuracy: 0.5830 - val_loss: 0.6893 - val_precision_18: 0.6390 - val_accuracy: 0.5778\n",
      "Epoch 19/500\n",
      "11718/11718 [==============================] - 215s 18ms/step - loss: 0.6753 - precision_18: 0.6155 - accuracy: 0.5878 - val_loss: 0.6780 - val_precision_18: 0.6318 - val_accuracy: 0.5877\n",
      "Epoch 20/500\n",
      "11718/11718 [==============================] - 214s 18ms/step - loss: 0.6717 - precision_18: 0.6256 - accuracy: 0.5946 - val_loss: 0.6738 - val_precision_18: 0.6484 - val_accuracy: 0.5900\n",
      "Epoch 21/500\n",
      "11718/11718 [==============================] - 217s 19ms/step - loss: 0.6688 - precision_18: 0.6382 - accuracy: 0.6007 - val_loss: 0.6744 - val_precision_18: 0.6467 - val_accuracy: 0.5925\n",
      "Epoch 22/500\n",
      "11718/11718 [==============================] - 211s 18ms/step - loss: 0.6643 - precision_18: 0.6503 - accuracy: 0.6092 - val_loss: 0.6742 - val_precision_18: 0.6716 - val_accuracy: 0.5896\n",
      "Epoch 23/500\n",
      "11718/11718 [==============================] - 203s 17ms/step - loss: 0.6603 - precision_18: 0.6619 - accuracy: 0.6169 - val_loss: 0.6674 - val_precision_18: 0.6881 - val_accuracy: 0.5971\n",
      "Epoch 24/500\n",
      "11718/11718 [==============================] - 217s 19ms/step - loss: 0.6554 - precision_18: 0.6723 - accuracy: 0.6238 - val_loss: 0.6638 - val_precision_18: 0.6770 - val_accuracy: 0.6128\n",
      "Epoch 25/500\n",
      "11718/11718 [==============================] - 220s 19ms/step - loss: 0.6505 - precision_18: 0.6824 - accuracy: 0.6329 - val_loss: 0.6688 - val_precision_18: 0.7037 - val_accuracy: 0.6056\n",
      "Epoch 26/500\n",
      "11718/11718 [==============================] - 216s 18ms/step - loss: 0.6454 - precision_18: 0.6954 - accuracy: 0.6401 - val_loss: 0.6631 - val_precision_18: 0.7094 - val_accuracy: 0.6125\n",
      "Epoch 27/500\n",
      "11718/11718 [==============================] - 209s 18ms/step - loss: 0.6377 - precision_18: 0.7077 - accuracy: 0.6503 - val_loss: 0.6572 - val_precision_18: 0.6897 - val_accuracy: 0.6271\n",
      "Epoch 28/500\n",
      "11718/11718 [==============================] - 205s 18ms/step - loss: 0.6313 - precision_18: 0.7190 - accuracy: 0.6597 - val_loss: 0.6504 - val_precision_18: 0.7038 - val_accuracy: 0.6322\n",
      "Epoch 29/500\n",
      "11718/11718 [==============================] - 218s 19ms/step - loss: 0.6257 - precision_18: 0.7275 - accuracy: 0.6675 - val_loss: 0.6551 - val_precision_18: 0.7287 - val_accuracy: 0.6313\n",
      "Epoch 30/500\n",
      "11718/11718 [==============================] - 215s 18ms/step - loss: 0.6170 - precision_18: 0.7390 - accuracy: 0.6776 - val_loss: 0.6409 - val_precision_18: 0.7175 - val_accuracy: 0.6414\n",
      "Epoch 31/500\n",
      "11718/11718 [==============================] - 210s 18ms/step - loss: 0.6093 - precision_18: 0.7512 - accuracy: 0.6856 - val_loss: 0.6323 - val_precision_18: 0.7182 - val_accuracy: 0.6543\n",
      "Epoch 32/500\n",
      "11718/11718 [==============================] - 75s 6ms/step - loss: 0.6018 - precision_18: 0.7625 - accuracy: 0.6950 - val_loss: 0.6291 - val_precision_18: 0.7336 - val_accuracy: 0.6593\n",
      "Epoch 33/500\n",
      "11718/11718 [==============================] - 71s 6ms/step - loss: 0.5937 - precision_18: 0.7713 - accuracy: 0.7038 - val_loss: 0.6266 - val_precision_18: 0.7548 - val_accuracy: 0.6595\n",
      "Epoch 34/500\n",
      "11718/11718 [==============================] - 69s 6ms/step - loss: 0.5853 - precision_18: 0.7819 - accuracy: 0.7129 - val_loss: 0.6456 - val_precision_18: 0.7841 - val_accuracy: 0.6510\n",
      "Epoch 35/500\n",
      "11718/11718 [==============================] - 69s 6ms/step - loss: 0.5780 - precision_18: 0.7887 - accuracy: 0.7199 - val_loss: 0.6086 - val_precision_18: 0.7298 - val_accuracy: 0.6829\n",
      "Epoch 36/500\n",
      "11718/11718 [==============================] - 71s 6ms/step - loss: 0.5690 - precision_18: 0.7985 - accuracy: 0.7296 - val_loss: 0.6219 - val_precision_18: 0.8040 - val_accuracy: 0.6704\n",
      "Epoch 37/500\n",
      "11718/11718 [==============================] - 71s 6ms/step - loss: 0.5611 - precision_18: 0.8056 - accuracy: 0.7367 - val_loss: 0.6222 - val_precision_18: 0.7940 - val_accuracy: 0.6820\n",
      "Epoch 38/500\n",
      "11718/11718 [==============================] - 69s 6ms/step - loss: 0.5539 - precision_18: 0.8140 - accuracy: 0.7441 - val_loss: 0.6055 - val_precision_18: 0.7956 - val_accuracy: 0.6899\n",
      "Epoch 39/500\n",
      "11718/11718 [==============================] - 67s 6ms/step - loss: 0.5448 - precision_18: 0.8219 - accuracy: 0.7511 - val_loss: 0.5931 - val_precision_18: 0.7522 - val_accuracy: 0.7027\n",
      "Epoch 40/500\n",
      "11718/11718 [==============================] - 67s 6ms/step - loss: 0.5367 - precision_18: 0.8286 - accuracy: 0.7578 - val_loss: 0.5964 - val_precision_18: 0.7696 - val_accuracy: 0.7027\n",
      "Epoch 41/500\n",
      "11718/11718 [==============================] - 68s 6ms/step - loss: 0.5293 - precision_18: 0.8362 - accuracy: 0.7637 - val_loss: 0.5961 - val_precision_18: 0.7981 - val_accuracy: 0.7053\n",
      "Epoch 42/500\n",
      "11718/11718 [==============================] - 80s 7ms/step - loss: 0.5227 - precision_18: 0.8396 - accuracy: 0.7693 - val_loss: 0.6125 - val_precision_18: 0.8135 - val_accuracy: 0.6955\n",
      "Epoch 43/500\n",
      "11718/11718 [==============================] - 106s 9ms/step - loss: 0.5151 - precision_18: 0.8453 - accuracy: 0.7761 - val_loss: 0.5960 - val_precision_18: 0.8085 - val_accuracy: 0.7125\n",
      "Epoch 44/500\n",
      "11718/11718 [==============================] - 126s 11ms/step - loss: 0.5060 - precision_18: 0.8481 - accuracy: 0.7827 - val_loss: 0.5876 - val_precision_18: 0.7993 - val_accuracy: 0.7178\n",
      "Epoch 45/500\n",
      "11718/11718 [==============================] - 107s 9ms/step - loss: 0.4977 - precision_18: 0.8538 - accuracy: 0.7880 - val_loss: 0.5893 - val_precision_18: 0.8104 - val_accuracy: 0.7253\n",
      "Epoch 46/500\n",
      "11718/11718 [==============================] - 164s 14ms/step - loss: 0.4905 - precision_18: 0.8577 - accuracy: 0.7926 - val_loss: 0.5634 - val_precision_18: 0.7761 - val_accuracy: 0.7312\n",
      "Epoch 47/500\n",
      "11718/11718 [==============================] - 95s 8ms/step - loss: 0.4832 - precision_18: 0.8627 - accuracy: 0.7979 - val_loss: 0.6429 - val_precision_18: 0.8786 - val_accuracy: 0.6702\n",
      "Epoch 48/500\n",
      "11718/11718 [==============================] - 62s 5ms/step - loss: 0.4761 - precision_18: 0.8675 - accuracy: 0.8033 - val_loss: 0.5785 - val_precision_18: 0.8147 - val_accuracy: 0.7349\n",
      "Epoch 49/500\n",
      "11718/11718 [==============================] - 61s 5ms/step - loss: 0.4708 - precision_18: 0.8694 - accuracy: 0.8077 - val_loss: 0.6144 - val_precision_18: 0.8559 - val_accuracy: 0.7100\n",
      "Epoch 50/500\n",
      "11718/11718 [==============================] - 62s 5ms/step - loss: 0.4632 - precision_18: 0.8748 - accuracy: 0.8126 - val_loss: 0.6366 - val_precision_18: 0.8783 - val_accuracy: 0.6904\n",
      "Epoch 51/500\n",
      "11718/11718 [==============================] - 62s 5ms/step - loss: 0.4584 - precision_18: 0.8788 - accuracy: 0.8173 - val_loss: 0.5809 - val_precision_18: 0.8262 - val_accuracy: 0.7363\n"
     ]
    },
    {
     "data": {
      "text/plain": [
       "<tensorflow.python.keras.callbacks.History at 0x7f409e07e2d0>"
      ]
     },
     "execution_count": 256,
     "metadata": {},
     "output_type": "execute_result"
    }
   ],
   "source": [
    "model = init_model()\n",
    "\n",
    "from tensorflow.keras.callbacks import EarlyStopping\n",
    "\n",
    "es = EarlyStopping(patience=5, restore_best_weights=True)\n",
    "\n",
    "model.fit(train_x, train_y, \n",
    "          epochs=500, \n",
    "          batch_size=16,\n",
    "          validation_split=0.2,\n",
    "          callbacks=[es])"
   ]
  },
  {
   "cell_type": "code",
   "execution_count": 257,
   "metadata": {},
   "outputs": [
    {
     "data": {
      "text/plain": [
       "0.5648504141294747"
      ]
     },
     "execution_count": 257,
     "metadata": {},
     "output_type": "execute_result"
    }
   ],
   "source": [
    "train_y.sum()/len(train_y)"
   ]
  },
  {
   "cell_type": "code",
   "execution_count": 260,
   "metadata": {},
   "outputs": [
    {
     "data": {
      "text/plain": [
       "0.5853263072557763"
      ]
     },
     "execution_count": 260,
     "metadata": {},
     "output_type": "execute_result"
    }
   ],
   "source": [
    "test_y.sum()/len(test_y)"
   ]
  },
  {
   "cell_type": "code",
   "execution_count": 262,
   "metadata": {},
   "outputs": [
    {
     "name": "stdout",
     "output_type": "stream",
     "text": [
      "1471/1471 [==============================] - 3s 2ms/step - loss: 0.4656 - precision_18: 0.8596 - accuracy: 0.8159\n"
     ]
    },
    {
     "data": {
      "text/plain": [
       "[0.46557489037513733, 0.8596383929252625, 0.8158671855926514]"
      ]
     },
     "execution_count": 262,
     "metadata": {},
     "output_type": "execute_result"
    }
   ],
   "source": [
    "model.evaluate(test_x, test_y)"
   ]
  },
  {
   "cell_type": "code",
   "execution_count": null,
   "metadata": {},
   "outputs": [],
   "source": []
  }
 ],
 "metadata": {
  "kernelspec": {
   "display_name": "Python 3",
   "language": "python",
   "name": "python3"
  },
  "language_info": {
   "codemirror_mode": {
    "name": "ipython",
    "version": 3
   },
   "file_extension": ".py",
   "mimetype": "text/x-python",
   "name": "python",
   "nbconvert_exporter": "python",
   "pygments_lexer": "ipython3",
   "version": "3.7.7"
  }
 },
 "nbformat": 4,
 "nbformat_minor": 4
}
