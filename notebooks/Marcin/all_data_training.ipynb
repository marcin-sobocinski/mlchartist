{
 "cells": [
  {
   "cell_type": "code",
   "execution_count": 24,
   "metadata": {},
   "outputs": [],
   "source": [
    "import joblib"
   ]
  },
  {
   "cell_type": "code",
   "execution_count": 30,
   "metadata": {},
   "outputs": [],
   "source": [
    "X_train = joblib.load('../raw_data/feature_arrays/x_train_array')"
   ]
  },
  {
   "cell_type": "code",
   "execution_count": 9,
   "metadata": {},
   "outputs": [],
   "source": [
    "y_train = joblib.load('../raw_data/feature_arrays/y_train_array')"
   ]
  },
  {
   "cell_type": "code",
   "execution_count": 10,
   "metadata": {},
   "outputs": [
    {
     "data": {
      "text/plain": [
       "(3710271,)"
      ]
     },
     "execution_count": 10,
     "metadata": {},
     "output_type": "execute_result"
    }
   ],
   "source": [
    "y_train.shape"
   ]
  },
  {
   "cell_type": "code",
   "execution_count": 31,
   "metadata": {},
   "outputs": [],
   "source": [
    "indx = list(range(len(X_train)))"
   ]
  },
  {
   "cell_type": "code",
   "execution_count": 32,
   "metadata": {},
   "outputs": [],
   "source": [
    "import random\n",
    "sample_indx = random.sample(indx, 100000)"
   ]
  },
  {
   "cell_type": "code",
   "execution_count": 33,
   "metadata": {},
   "outputs": [],
   "source": [
    "X_train_sample =  X_train[[sample_indx], :][0]"
   ]
  },
  {
   "cell_type": "code",
   "execution_count": 34,
   "metadata": {},
   "outputs": [
    {
     "data": {
      "text/plain": [
       "(100000, 30, 15)"
      ]
     },
     "execution_count": 34,
     "metadata": {},
     "output_type": "execute_result"
    }
   ],
   "source": [
    "X_train_sample.shape"
   ]
  },
  {
   "cell_type": "code",
   "execution_count": 37,
   "metadata": {},
   "outputs": [],
   "source": [
    "y_train_sample = y_train[sample_indx]"
   ]
  },
  {
   "cell_type": "code",
   "execution_count": 38,
   "metadata": {},
   "outputs": [
    {
     "data": {
      "text/plain": [
       "(3710271,)"
      ]
     },
     "execution_count": 38,
     "metadata": {},
     "output_type": "execute_result"
    }
   ],
   "source": [
    "y_train.shape"
   ]
  },
  {
   "cell_type": "code",
   "execution_count": 41,
   "metadata": {},
   "outputs": [],
   "source": [
    "from tensorflow.keras import Sequential\n",
    "from tensorflow.keras import layers, models \n",
    "from tensorflow.keras.optimizers import RMSprop, Adam\n",
    "\n",
    "optim = RMSprop(learning_rate=0.001)\n",
    "\n",
    "def init_model():\n",
    "    model = Sequential()\n",
    "    model.add(layers.LSTM(20, return_sequences=True, input_shape=(30,15), activation='tanh'))\n",
    "    model.add(layers.LSTM(20, activation='tanh'))\n",
    "    model.add(layers.Dropout(0.3))\n",
    "    model.add(layers.Dense(20, activation='relu'))\n",
    "    model.add(layers.Dropout(0.3))\n",
    "    model.add(layers.Dense(1, activation='sigmoid'))\n",
    "\n",
    "    model.compile(loss='binary_crossentropy', optimizer=optim, metrics=['accuracy'])\n",
    "    \n",
    "    return model"
   ]
  },
  {
   "cell_type": "code",
   "execution_count": 42,
   "metadata": {},
   "outputs": [
    {
     "name": "stdout",
     "output_type": "stream",
     "text": [
      "Epoch 1/500\n",
      "10000/10000 [==============================] - 45s 5ms/step - loss: 0.6922 - accuracy: 0.5245 - val_loss: 0.6910 - val_accuracy: 0.5316\n",
      "Epoch 2/500\n",
      "10000/10000 [==============================] - 46s 5ms/step - loss: 0.6916 - accuracy: 0.5297 - val_loss: 0.6904 - val_accuracy: 0.5367\n",
      "Epoch 3/500\n",
      "10000/10000 [==============================] - 45s 5ms/step - loss: 0.6913 - accuracy: 0.5319 - val_loss: 0.6906 - val_accuracy: 0.5319\n",
      "Epoch 4/500\n",
      "10000/10000 [==============================] - 46s 5ms/step - loss: 0.6913 - accuracy: 0.5329 - val_loss: 0.6899 - val_accuracy: 0.5355\n",
      "Epoch 5/500\n",
      "10000/10000 [==============================] - 44s 4ms/step - loss: 0.6912 - accuracy: 0.5330 - val_loss: 0.6907 - val_accuracy: 0.5360\n",
      "Epoch 6/500\n",
      "10000/10000 [==============================] - 45s 4ms/step - loss: 0.6910 - accuracy: 0.5327 - val_loss: 0.6901 - val_accuracy: 0.5353\n",
      "Epoch 7/500\n",
      "10000/10000 [==============================] - 44s 4ms/step - loss: 0.6909 - accuracy: 0.5343 - val_loss: 0.6900 - val_accuracy: 0.5335\n",
      "Epoch 8/500\n",
      "10000/10000 [==============================] - 45s 5ms/step - loss: 0.6908 - accuracy: 0.5356 - val_loss: 0.6904 - val_accuracy: 0.5340\n",
      "Epoch 9/500\n",
      "10000/10000 [==============================] - 44s 4ms/step - loss: 0.6909 - accuracy: 0.5377 - val_loss: 0.6901 - val_accuracy: 0.5350\n"
     ]
    },
    {
     "data": {
      "text/plain": [
       "<tensorflow.python.keras.callbacks.History at 0x7efb547a3050>"
      ]
     },
     "execution_count": 42,
     "metadata": {},
     "output_type": "execute_result"
    }
   ],
   "source": [
    "model = init_model()\n",
    "\n",
    "from tensorflow.keras.callbacks import EarlyStopping\n",
    "\n",
    "es = EarlyStopping(patience=5, restore_best_weights=True)\n",
    "\n",
    "model.fit(X_train_sample, y_train_sample, \n",
    "          epochs=500, \n",
    "          batch_size=8,\n",
    "          validation_split=0.2,\n",
    "          callbacks=[es])"
   ]
  },
  {
   "cell_type": "code",
   "execution_count": null,
   "metadata": {},
   "outputs": [],
   "source": []
  }
 ],
 "metadata": {
  "kernelspec": {
   "display_name": "Python 3",
   "language": "python",
   "name": "python3"
  },
  "language_info": {
   "codemirror_mode": {
    "name": "ipython",
    "version": 3
   },
   "file_extension": ".py",
   "mimetype": "text/x-python",
   "name": "python",
   "nbconvert_exporter": "python",
   "pygments_lexer": "ipython3",
   "version": "3.7.7"
  }
 },
 "nbformat": 4,
 "nbformat_minor": 4
}
