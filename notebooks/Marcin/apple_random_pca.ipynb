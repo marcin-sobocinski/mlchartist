{
 "cells": [
  {
   "cell_type": "code",
   "execution_count": 1,
   "metadata": {},
   "outputs": [],
   "source": [
    "import pandas as pd\n",
    "import numpy as np\n",
    "import os\n",
    "import random\n",
    "\n",
    "from mlchartist.array_builder import build_arrays, build_randomised_arrays\n",
    "from sklearn.preprocessing import StandardScaler, MinMaxScaler, RobustScaler"
   ]
  },
  {
   "cell_type": "code",
   "execution_count": 4,
   "metadata": {},
   "outputs": [],
   "source": [
    "df = pd.read_csv('../../raw_data/processed/aapl.csv')"
   ]
  },
  {
   "cell_type": "code",
   "execution_count": 5,
   "metadata": {},
   "outputs": [],
   "source": [
    "df['date'] = pd.to_datetime(df['date'])"
   ]
  },
  {
   "cell_type": "code",
   "execution_count": 50,
   "metadata": {},
   "outputs": [],
   "source": [
    "FIVE_TR = 0.0006\n",
    "TEN_TR = 0.0012\n",
    "TWENTY_TR = 0.0024\n",
    "INPUT_COLS = ['RSI', 'Stochastic', 'Stochastic_signal', 'ADI','OBV', 'ATR', 'ADX', 'ADX_pos', 'ADX_neg', 'MACD', 'MACD_diff','MACD_signal', '1D_past_return', '5D_past_return', '10D_past_return']\n",
    "#INPUT_COLS = ['RSI', 'Stochastic', 'Stochastic_signal']"
   ]
  },
  {
   "cell_type": "code",
   "execution_count": 51,
   "metadata": {},
   "outputs": [],
   "source": [
    "df['5D_return_bin'] = (df['5TD_return'] >= FIVE_TR)\n",
    "df['10D_return_bin'] = (df['10TD_return'] >= TEN_TR)\n",
    "df['20D_return_bin'] = (df['20TD_return'] >= TWENTY_TR)"
   ]
  },
  {
   "cell_type": "code",
   "execution_count": 52,
   "metadata": {},
   "outputs": [],
   "source": [
    "test_df = df[(df['date'].dt.year >= 2017) & (df['date'].dt.year <= 2019)]\n",
    "train_df = df[(df['date'].dt.year >= 2000) & (df['date'].dt.year < 2017)]"
   ]
  },
  {
   "cell_type": "code",
   "execution_count": 53,
   "metadata": {},
   "outputs": [],
   "source": [
    "scaler = StandardScaler()"
   ]
  },
  {
   "cell_type": "code",
   "execution_count": 54,
   "metadata": {},
   "outputs": [
    {
     "data": {
      "text/plain": [
       "StandardScaler()"
      ]
     },
     "execution_count": 54,
     "metadata": {},
     "output_type": "execute_result"
    }
   ],
   "source": [
    "scaler.fit(train_df[INPUT_COLS])"
   ]
  },
  {
   "cell_type": "code",
   "execution_count": 55,
   "metadata": {},
   "outputs": [
    {
     "name": "stderr",
     "output_type": "stream",
     "text": [
      "/home/kensei/.pyenv/versions/3.7.7/envs/lewagon/lib/python3.7/site-packages/pandas/core/indexing.py:1736: SettingWithCopyWarning: \n",
      "A value is trying to be set on a copy of a slice from a DataFrame.\n",
      "Try using .loc[row_indexer,col_indexer] = value instead\n",
      "\n",
      "See the caveats in the documentation: https://pandas.pydata.org/pandas-docs/stable/user_guide/indexing.html#returning-a-view-versus-a-copy\n",
      "  isetter(loc, value[:, i].tolist())\n",
      "/home/kensei/.pyenv/versions/3.7.7/envs/lewagon/lib/python3.7/site-packages/pandas/core/indexing.py:1736: SettingWithCopyWarning: \n",
      "A value is trying to be set on a copy of a slice from a DataFrame.\n",
      "Try using .loc[row_indexer,col_indexer] = value instead\n",
      "\n",
      "See the caveats in the documentation: https://pandas.pydata.org/pandas-docs/stable/user_guide/indexing.html#returning-a-view-versus-a-copy\n",
      "  isetter(loc, value[:, i].tolist())\n"
     ]
    }
   ],
   "source": [
    "train_df.loc[:, INPUT_COLS] = scaler.transform(train_df[INPUT_COLS])\n",
    "test_df.loc[:, INPUT_COLS] = scaler.transform(test_df[INPUT_COLS])"
   ]
  },
  {
   "cell_type": "code",
   "execution_count": 56,
   "metadata": {},
   "outputs": [],
   "source": [
    "from sklearn.decomposition import PCA"
   ]
  },
  {
   "cell_type": "code",
   "execution_count": 57,
   "metadata": {},
   "outputs": [
    {
     "data": {
      "text/plain": [
       "PCA(n_components=9)"
      ]
     },
     "execution_count": 57,
     "metadata": {},
     "output_type": "execute_result"
    }
   ],
   "source": [
    "pca = PCA(n_components=9)\n",
    "pca.fit(train_df[INPUT_COLS])"
   ]
  },
  {
   "cell_type": "code",
   "execution_count": 58,
   "metadata": {},
   "outputs": [],
   "source": [
    "train_pca = pca.transform(train_df[INPUT_COLS])"
   ]
  },
  {
   "cell_type": "code",
   "execution_count": 59,
   "metadata": {},
   "outputs": [],
   "source": [
    "test_pca = pca.transform(test_df[INPUT_COLS])"
   ]
  },
  {
   "cell_type": "code",
   "execution_count": 60,
   "metadata": {},
   "outputs": [
    {
     "data": {
      "text/plain": [
       "array([0.43047229, 0.18917887, 0.11682235, 0.06885011, 0.06577291,\n",
       "       0.03995869, 0.0218288 , 0.01895745, 0.01589968])"
      ]
     },
     "execution_count": 60,
     "metadata": {},
     "output_type": "execute_result"
    }
   ],
   "source": [
    "pca.explained_variance_ratio_"
   ]
  },
  {
   "cell_type": "code",
   "execution_count": 61,
   "metadata": {},
   "outputs": [],
   "source": [
    "col_names = ['PCA1', 'PCA2', 'PCA3', 'PCA4', 'PCA5', 'PCA6', 'PCA7', 'PCA8', 'PCA9']"
   ]
  },
  {
   "cell_type": "code",
   "execution_count": 62,
   "metadata": {},
   "outputs": [],
   "source": [
    "INPUT_COLS_PCA = ['PCA1', 'PCA2', 'PCA3']"
   ]
  },
  {
   "cell_type": "code",
   "execution_count": 63,
   "metadata": {},
   "outputs": [
    {
     "name": "stderr",
     "output_type": "stream",
     "text": [
      "/home/kensei/.pyenv/versions/3.7.7/envs/lewagon/lib/python3.7/site-packages/pandas/core/indexing.py:659: SettingWithCopyWarning: \n",
      "A value is trying to be set on a copy of a slice from a DataFrame.\n",
      "Try using .loc[row_indexer,col_indexer] = value instead\n",
      "\n",
      "See the caveats in the documentation: https://pandas.pydata.org/pandas-docs/stable/user_guide/indexing.html#returning-a-view-versus-a-copy\n",
      "  self.obj[k] = np.nan\n",
      "/home/kensei/.pyenv/versions/3.7.7/envs/lewagon/lib/python3.7/site-packages/pandas/core/indexing.py:1736: SettingWithCopyWarning: \n",
      "A value is trying to be set on a copy of a slice from a DataFrame.\n",
      "Try using .loc[row_indexer,col_indexer] = value instead\n",
      "\n",
      "See the caveats in the documentation: https://pandas.pydata.org/pandas-docs/stable/user_guide/indexing.html#returning-a-view-versus-a-copy\n",
      "  isetter(loc, value[:, i].tolist())\n"
     ]
    }
   ],
   "source": [
    "train_df.loc[:, col_names] = train_pca\n",
    "test_df.loc[:, col_names] = test_pca"
   ]
  },
  {
   "cell_type": "code",
   "execution_count": 64,
   "metadata": {},
   "outputs": [],
   "source": [
    "apple_train_x_20, apple_train_y_20 = build_arrays(train_df,input_cols=INPUT_COLS_PCA, target_col='20D_return_bin', time_window=40, stride=1)\n",
    "apple_test_x_20, apple_test_y_20 = build_arrays(test_df,input_cols=INPUT_COLS_PCA, target_col='20D_return_bin', time_window=40, stride=1)"
   ]
  },
  {
   "cell_type": "code",
   "execution_count": 65,
   "metadata": {},
   "outputs": [],
   "source": [
    "indx = list(range(len(apple_train_x_20)))"
   ]
  },
  {
   "cell_type": "code",
   "execution_count": 66,
   "metadata": {},
   "outputs": [
    {
     "data": {
      "text/plain": [
       "4236"
      ]
     },
     "execution_count": 66,
     "metadata": {},
     "output_type": "execute_result"
    }
   ],
   "source": [
    "len(indx)"
   ]
  },
  {
   "cell_type": "code",
   "execution_count": 67,
   "metadata": {},
   "outputs": [
    {
     "data": {
      "text/plain": [
       "(754, 32)"
      ]
     },
     "execution_count": 67,
     "metadata": {},
     "output_type": "execute_result"
    }
   ],
   "source": [
    "test_df.shape"
   ]
  },
  {
   "cell_type": "code",
   "execution_count": 68,
   "metadata": {},
   "outputs": [],
   "source": [
    "sample_indx = random.sample(indx, 4200)"
   ]
  },
  {
   "cell_type": "code",
   "execution_count": 69,
   "metadata": {},
   "outputs": [],
   "source": [
    "X_train_20 =  apple_train_x_20[[sample_indx], :][0]"
   ]
  },
  {
   "cell_type": "code",
   "execution_count": 70,
   "metadata": {},
   "outputs": [
    {
     "name": "stderr",
     "output_type": "stream",
     "text": [
      "/home/kensei/.pyenv/versions/3.7.7/envs/lewagon/lib/python3.7/site-packages/ipykernel_launcher.py:1: FutureWarning: Using a non-tuple sequence for multidimensional indexing is deprecated; use `arr[tuple(seq)]` instead of `arr[seq]`. In the future this will be interpreted as an array index, `arr[np.array(seq)]`, which will result either in an error or a different result.\n",
      "  \"\"\"Entry point for launching an IPython kernel.\n"
     ]
    }
   ],
   "source": [
    "y_train_20 = apple_train_y_20[[sample_indx]]"
   ]
  },
  {
   "cell_type": "code",
   "execution_count": 71,
   "metadata": {},
   "outputs": [],
   "source": [
    "from tensorflow.keras import Sequential\n",
    "from tensorflow.keras import layers, models \n",
    "from tensorflow.keras.optimizers import RMSprop, Adam\n",
    "\n",
    "optim = RMSprop(learning_rate=0.0001)\n",
    "\n",
    "def init_model():\n",
    "    model = Sequential()\n",
    "    model.add(layers.LSTM(100, return_sequences=True, input_shape=(40, 3), activation='tanh'))\n",
    "    model.add(layers.LSTM(100, activation='tanh'))\n",
    "    model.add(layers.Dropout(0.5))\n",
    "    model.add(layers.Dense(50, activation='relu'))\n",
    "    model.add(layers.Dropout(0.5))\n",
    "    model.add(layers.Dense(1, activation='sigmoid'))\n",
    "\n",
    "    model.compile(loss='binary_crossentropy', optimizer=optim, metrics=['accuracy'])\n",
    "    \n",
    "    return model"
   ]
  },
  {
   "cell_type": "markdown",
   "metadata": {},
   "source": [
    "### Model for 20 days future returns"
   ]
  },
  {
   "cell_type": "code",
   "execution_count": 72,
   "metadata": {},
   "outputs": [
    {
     "name": "stdout",
     "output_type": "stream",
     "text": [
      "Epoch 1/500\n",
      "210/210 [==============================] - 2s 9ms/step - loss: 0.6932 - accuracy: 0.5301 - val_loss: 0.6742 - val_accuracy: 0.6083\n",
      "Epoch 2/500\n",
      "210/210 [==============================] - 1s 4ms/step - loss: 0.6834 - accuracy: 0.5735 - val_loss: 0.6699 - val_accuracy: 0.6226\n",
      "Epoch 3/500\n",
      "210/210 [==============================] - 1s 7ms/step - loss: 0.6779 - accuracy: 0.5738 - val_loss: 0.6624 - val_accuracy: 0.6036\n",
      "Epoch 4/500\n",
      "210/210 [==============================] - 1s 7ms/step - loss: 0.6760 - accuracy: 0.5839 - val_loss: 0.6573 - val_accuracy: 0.6083\n",
      "Epoch 5/500\n",
      "210/210 [==============================] - 1s 6ms/step - loss: 0.6772 - accuracy: 0.5732 - val_loss: 0.6569 - val_accuracy: 0.6226\n",
      "Epoch 6/500\n",
      "210/210 [==============================] - 1s 6ms/step - loss: 0.6727 - accuracy: 0.5911 - val_loss: 0.6534 - val_accuracy: 0.6250\n",
      "Epoch 7/500\n",
      "210/210 [==============================] - 1s 7ms/step - loss: 0.6733 - accuracy: 0.5878 - val_loss: 0.6567 - val_accuracy: 0.6167\n",
      "Epoch 8/500\n",
      "210/210 [==============================] - 1s 6ms/step - loss: 0.6713 - accuracy: 0.5911 - val_loss: 0.6542 - val_accuracy: 0.6024\n",
      "Epoch 9/500\n",
      "210/210 [==============================] - 1s 5ms/step - loss: 0.6672 - accuracy: 0.6003 - val_loss: 0.6525 - val_accuracy: 0.6095\n",
      "Epoch 10/500\n",
      "210/210 [==============================] - 1s 6ms/step - loss: 0.6660 - accuracy: 0.5958 - val_loss: 0.6486 - val_accuracy: 0.6238\n",
      "Epoch 11/500\n",
      "210/210 [==============================] - 1s 7ms/step - loss: 0.6637 - accuracy: 0.6134 - val_loss: 0.6410 - val_accuracy: 0.6369\n",
      "Epoch 12/500\n",
      "210/210 [==============================] - 1s 7ms/step - loss: 0.6589 - accuracy: 0.6077 - val_loss: 0.6423 - val_accuracy: 0.6155\n",
      "Epoch 13/500\n",
      "210/210 [==============================] - 1s 6ms/step - loss: 0.6552 - accuracy: 0.6247 - val_loss: 0.6377 - val_accuracy: 0.6250\n",
      "Epoch 14/500\n",
      "210/210 [==============================] - 1s 4ms/step - loss: 0.6524 - accuracy: 0.6128 - val_loss: 0.6415 - val_accuracy: 0.6179\n",
      "Epoch 15/500\n",
      "210/210 [==============================] - 1s 5ms/step - loss: 0.6488 - accuracy: 0.6214 - val_loss: 0.6341 - val_accuracy: 0.6512\n",
      "Epoch 16/500\n",
      "210/210 [==============================] - 1s 7ms/step - loss: 0.6467 - accuracy: 0.6232 - val_loss: 0.6295 - val_accuracy: 0.6381\n",
      "Epoch 17/500\n",
      "210/210 [==============================] - 1s 5ms/step - loss: 0.6400 - accuracy: 0.6280 - val_loss: 0.6192 - val_accuracy: 0.6762\n",
      "Epoch 18/500\n",
      "210/210 [==============================] - 1s 4ms/step - loss: 0.6384 - accuracy: 0.6339 - val_loss: 0.6160 - val_accuracy: 0.6821\n",
      "Epoch 19/500\n",
      "210/210 [==============================] - 1s 4ms/step - loss: 0.6318 - accuracy: 0.6449 - val_loss: 0.6145 - val_accuracy: 0.6655\n",
      "Epoch 20/500\n",
      "210/210 [==============================] - 1s 6ms/step - loss: 0.6337 - accuracy: 0.6482 - val_loss: 0.6095 - val_accuracy: 0.6798\n",
      "Epoch 21/500\n",
      "210/210 [==============================] - 1s 5ms/step - loss: 0.6282 - accuracy: 0.6530 - val_loss: 0.6130 - val_accuracy: 0.6560\n",
      "Epoch 22/500\n",
      "210/210 [==============================] - 1s 6ms/step - loss: 0.6275 - accuracy: 0.6503 - val_loss: 0.6311 - val_accuracy: 0.6619\n",
      "Epoch 23/500\n",
      "210/210 [==============================] - 1s 6ms/step - loss: 0.6185 - accuracy: 0.6545 - val_loss: 0.6061 - val_accuracy: 0.6726\n",
      "Epoch 24/500\n",
      "210/210 [==============================] - 1s 5ms/step - loss: 0.6152 - accuracy: 0.6536 - val_loss: 0.5997 - val_accuracy: 0.6821\n",
      "Epoch 25/500\n",
      "210/210 [==============================] - 1s 5ms/step - loss: 0.6135 - accuracy: 0.6610 - val_loss: 0.5968 - val_accuracy: 0.6857\n",
      "Epoch 26/500\n",
      "210/210 [==============================] - 1s 6ms/step - loss: 0.6088 - accuracy: 0.6571 - val_loss: 0.5881 - val_accuracy: 0.6976\n",
      "Epoch 27/500\n",
      "210/210 [==============================] - 1s 4ms/step - loss: 0.6076 - accuracy: 0.6690 - val_loss: 0.5901 - val_accuracy: 0.6786\n",
      "Epoch 28/500\n",
      "210/210 [==============================] - 1s 6ms/step - loss: 0.6039 - accuracy: 0.6655 - val_loss: 0.5786 - val_accuracy: 0.6976\n",
      "Epoch 29/500\n",
      "210/210 [==============================] - 1s 6ms/step - loss: 0.5950 - accuracy: 0.6673 - val_loss: 0.5755 - val_accuracy: 0.7024\n",
      "Epoch 30/500\n",
      "210/210 [==============================] - 1s 6ms/step - loss: 0.6004 - accuracy: 0.6768 - val_loss: 0.5793 - val_accuracy: 0.6976\n",
      "Epoch 31/500\n",
      "210/210 [==============================] - 1s 4ms/step - loss: 0.5942 - accuracy: 0.6795 - val_loss: 0.5726 - val_accuracy: 0.7071\n",
      "Epoch 32/500\n",
      "210/210 [==============================] - 1s 5ms/step - loss: 0.5870 - accuracy: 0.6884 - val_loss: 0.5773 - val_accuracy: 0.7083\n",
      "Epoch 33/500\n",
      "210/210 [==============================] - 1s 6ms/step - loss: 0.5843 - accuracy: 0.6869 - val_loss: 0.5725 - val_accuracy: 0.7060\n",
      "Epoch 34/500\n",
      "210/210 [==============================] - 1s 5ms/step - loss: 0.5838 - accuracy: 0.6917 - val_loss: 0.5655 - val_accuracy: 0.7131\n",
      "Epoch 35/500\n",
      "210/210 [==============================] - 1s 6ms/step - loss: 0.5777 - accuracy: 0.6943 - val_loss: 0.5709 - val_accuracy: 0.7060\n",
      "Epoch 36/500\n",
      "210/210 [==============================] - 1s 4ms/step - loss: 0.5751 - accuracy: 0.7009 - val_loss: 0.5659 - val_accuracy: 0.7155\n",
      "Epoch 37/500\n",
      "210/210 [==============================] - 1s 5ms/step - loss: 0.5725 - accuracy: 0.6940 - val_loss: 0.5532 - val_accuracy: 0.7179\n",
      "Epoch 38/500\n",
      "210/210 [==============================] - 1s 4ms/step - loss: 0.5616 - accuracy: 0.7080 - val_loss: 0.5625 - val_accuracy: 0.7119\n",
      "Epoch 39/500\n",
      "210/210 [==============================] - 1s 6ms/step - loss: 0.5621 - accuracy: 0.6997 - val_loss: 0.5565 - val_accuracy: 0.7048\n",
      "Epoch 40/500\n",
      "210/210 [==============================] - 1s 4ms/step - loss: 0.5628 - accuracy: 0.7060 - val_loss: 0.5483 - val_accuracy: 0.7274\n",
      "Epoch 41/500\n",
      "210/210 [==============================] - 1s 5ms/step - loss: 0.5578 - accuracy: 0.7003 - val_loss: 0.5579 - val_accuracy: 0.7167\n",
      "Epoch 42/500\n",
      "210/210 [==============================] - 1s 5ms/step - loss: 0.5504 - accuracy: 0.7086 - val_loss: 0.5473 - val_accuracy: 0.7119\n",
      "Epoch 43/500\n",
      "210/210 [==============================] - 1s 5ms/step - loss: 0.5522 - accuracy: 0.7125 - val_loss: 0.6009 - val_accuracy: 0.6952\n",
      "Epoch 44/500\n",
      "210/210 [==============================] - 1s 5ms/step - loss: 0.5418 - accuracy: 0.7131 - val_loss: 0.5295 - val_accuracy: 0.7440\n",
      "Epoch 45/500\n",
      "210/210 [==============================] - 1s 5ms/step - loss: 0.5410 - accuracy: 0.7128 - val_loss: 0.5352 - val_accuracy: 0.7250\n",
      "Epoch 46/500\n",
      "210/210 [==============================] - 1s 4ms/step - loss: 0.5301 - accuracy: 0.7217 - val_loss: 0.5144 - val_accuracy: 0.7619\n",
      "Epoch 47/500\n",
      "210/210 [==============================] - 1s 6ms/step - loss: 0.5244 - accuracy: 0.7262 - val_loss: 0.5147 - val_accuracy: 0.7512\n",
      "Epoch 48/500\n",
      "210/210 [==============================] - 1s 4ms/step - loss: 0.5223 - accuracy: 0.7256 - val_loss: 0.5313 - val_accuracy: 0.7286\n",
      "Epoch 49/500\n",
      "210/210 [==============================] - 1s 5ms/step - loss: 0.5222 - accuracy: 0.7312 - val_loss: 0.5095 - val_accuracy: 0.7476\n",
      "Epoch 50/500\n",
      "210/210 [==============================] - 1s 4ms/step - loss: 0.5185 - accuracy: 0.7351 - val_loss: 0.5072 - val_accuracy: 0.7488\n",
      "Epoch 51/500\n",
      "210/210 [==============================] - 1s 6ms/step - loss: 0.5143 - accuracy: 0.7366 - val_loss: 0.5642 - val_accuracy: 0.7369\n",
      "Epoch 52/500\n",
      "210/210 [==============================] - 1s 4ms/step - loss: 0.5139 - accuracy: 0.7360 - val_loss: 0.5078 - val_accuracy: 0.7560\n",
      "Epoch 53/500\n",
      "210/210 [==============================] - 1s 4ms/step - loss: 0.5099 - accuracy: 0.7402 - val_loss: 0.5237 - val_accuracy: 0.7524\n"
     ]
    },
    {
     "data": {
      "text/plain": [
       "<tensorflow.python.keras.callbacks.History at 0x7fdc62316dd0>"
      ]
     },
     "execution_count": 72,
     "metadata": {},
     "output_type": "execute_result"
    }
   ],
   "source": [
    "model_20 = init_model()\n",
    "\n",
    "from tensorflow.keras.callbacks import EarlyStopping\n",
    "\n",
    "es = EarlyStopping(patience=3, restore_best_weights=True)\n",
    "\n",
    "model_20.fit(X_train_20, y_train_20, \n",
    "          epochs=500, \n",
    "          batch_size=16,\n",
    "          validation_split=0.2,\n",
    "          callbacks=[es])"
   ]
  },
  {
   "cell_type": "code",
   "execution_count": 73,
   "metadata": {},
   "outputs": [
    {
     "data": {
      "text/plain": [
       "0.5880547686496695"
      ]
     },
     "execution_count": 73,
     "metadata": {},
     "output_type": "execute_result"
    }
   ],
   "source": [
    "apple_train_y_20.sum()/len(apple_train_y_20)"
   ]
  },
  {
   "cell_type": "code",
   "execution_count": 74,
   "metadata": {},
   "outputs": [
    {
     "data": {
      "text/plain": [
       "0.6853146853146853"
      ]
     },
     "execution_count": 74,
     "metadata": {},
     "output_type": "execute_result"
    }
   ],
   "source": [
    "apple_test_y_20.sum()/len(apple_test_y_20)"
   ]
  },
  {
   "cell_type": "code",
   "execution_count": 76,
   "metadata": {},
   "outputs": [
    {
     "name": "stdout",
     "output_type": "stream",
     "text": [
      "23/23 [==============================] - 0s 3ms/step - loss: 2.6741 - accuracy: 0.3930\n"
     ]
    },
    {
     "data": {
      "text/plain": [
       "[2.67409086227417, 0.39300698041915894]"
      ]
     },
     "execution_count": 76,
     "metadata": {},
     "output_type": "execute_result"
    }
   ],
   "source": [
    "model_20.evaluate(apple_test_x_20, apple_test_y_20)"
   ]
  },
  {
   "cell_type": "markdown",
   "metadata": {},
   "source": [
    "### Model for 10 days future returns"
   ]
  },
  {
   "cell_type": "code",
   "execution_count": 80,
   "metadata": {},
   "outputs": [],
   "source": [
    "apple_train_x_10, apple_train_y_10 = build_arrays(train_df,input_cols=INPUT_COLS_PCA, target_col='10D_return_bin', time_window=40, stride=1)\n",
    "apple_test_x_10, apple_test_y_10 = build_arrays(test_df,input_cols=INPUT_COLS_PCA, target_col='10D_return_bin', time_window=40, stride=1)"
   ]
  },
  {
   "cell_type": "code",
   "execution_count": 81,
   "metadata": {},
   "outputs": [
    {
     "name": "stderr",
     "output_type": "stream",
     "text": [
      "/home/kensei/.pyenv/versions/3.7.7/envs/lewagon/lib/python3.7/site-packages/ipykernel_launcher.py:2: FutureWarning: Using a non-tuple sequence for multidimensional indexing is deprecated; use `arr[tuple(seq)]` instead of `arr[seq]`. In the future this will be interpreted as an array index, `arr[np.array(seq)]`, which will result either in an error or a different result.\n",
      "  \n"
     ]
    }
   ],
   "source": [
    "X_train_10 =  apple_train_x_10[[sample_indx], :][0]\n",
    "y_train_10 = apple_train_y_10[[sample_indx]]"
   ]
  },
  {
   "cell_type": "code",
   "execution_count": 82,
   "metadata": {},
   "outputs": [
    {
     "name": "stdout",
     "output_type": "stream",
     "text": [
      "Epoch 1/500\n",
      "210/210 [==============================] - 2s 7ms/step - loss: 0.6910 - accuracy: 0.5381 - val_loss: 0.6818 - val_accuracy: 0.5786\n",
      "Epoch 2/500\n",
      "210/210 [==============================] - 1s 5ms/step - loss: 0.6882 - accuracy: 0.5414 - val_loss: 0.6809 - val_accuracy: 0.5821\n",
      "Epoch 3/500\n",
      "210/210 [==============================] - 1s 6ms/step - loss: 0.6884 - accuracy: 0.5491 - val_loss: 0.6821 - val_accuracy: 0.5762\n",
      "Epoch 4/500\n",
      "210/210 [==============================] - 1s 6ms/step - loss: 0.6876 - accuracy: 0.5509 - val_loss: 0.6801 - val_accuracy: 0.5774\n",
      "Epoch 5/500\n",
      "210/210 [==============================] - 1s 6ms/step - loss: 0.6837 - accuracy: 0.5673 - val_loss: 0.6807 - val_accuracy: 0.5869\n",
      "Epoch 6/500\n",
      "210/210 [==============================] - 1s 5ms/step - loss: 0.6849 - accuracy: 0.5568 - val_loss: 0.6813 - val_accuracy: 0.5857\n",
      "Epoch 7/500\n",
      "210/210 [==============================] - 1s 5ms/step - loss: 0.6835 - accuracy: 0.5574 - val_loss: 0.6797 - val_accuracy: 0.5869\n",
      "Epoch 8/500\n",
      "210/210 [==============================] - 1s 5ms/step - loss: 0.6825 - accuracy: 0.5756 - val_loss: 0.6812 - val_accuracy: 0.5619\n",
      "Epoch 9/500\n",
      "210/210 [==============================] - 1s 4ms/step - loss: 0.6826 - accuracy: 0.5676 - val_loss: 0.6794 - val_accuracy: 0.5905\n",
      "Epoch 10/500\n",
      "210/210 [==============================] - 1s 4ms/step - loss: 0.6822 - accuracy: 0.5676 - val_loss: 0.6797 - val_accuracy: 0.5726\n",
      "Epoch 11/500\n",
      "210/210 [==============================] - 1s 5ms/step - loss: 0.6791 - accuracy: 0.5744 - val_loss: 0.6802 - val_accuracy: 0.5762\n",
      "Epoch 12/500\n",
      "210/210 [==============================] - 1s 5ms/step - loss: 0.6795 - accuracy: 0.5690 - val_loss: 0.6767 - val_accuracy: 0.5929\n",
      "Epoch 13/500\n",
      "210/210 [==============================] - 1s 4ms/step - loss: 0.6801 - accuracy: 0.5747 - val_loss: 0.6787 - val_accuracy: 0.5881\n",
      "Epoch 14/500\n",
      "210/210 [==============================] - 1s 5ms/step - loss: 0.6769 - accuracy: 0.5750 - val_loss: 0.6746 - val_accuracy: 0.6024\n",
      "Epoch 15/500\n",
      "210/210 [==============================] - 1s 5ms/step - loss: 0.6781 - accuracy: 0.5792 - val_loss: 0.6786 - val_accuracy: 0.5726\n",
      "Epoch 16/500\n",
      "210/210 [==============================] - 1s 5ms/step - loss: 0.6753 - accuracy: 0.5783 - val_loss: 0.6702 - val_accuracy: 0.6095\n",
      "Epoch 17/500\n",
      "210/210 [==============================] - 1s 6ms/step - loss: 0.6721 - accuracy: 0.6015 - val_loss: 0.6715 - val_accuracy: 0.5976\n",
      "Epoch 18/500\n",
      "210/210 [==============================] - 1s 5ms/step - loss: 0.6707 - accuracy: 0.5839 - val_loss: 0.6677 - val_accuracy: 0.6095\n",
      "Epoch 19/500\n",
      "210/210 [==============================] - 1s 6ms/step - loss: 0.6701 - accuracy: 0.5940 - val_loss: 0.6662 - val_accuracy: 0.6179\n",
      "Epoch 20/500\n",
      "210/210 [==============================] - 1s 5ms/step - loss: 0.6667 - accuracy: 0.6009 - val_loss: 0.6629 - val_accuracy: 0.6202\n",
      "Epoch 21/500\n",
      "210/210 [==============================] - 1s 5ms/step - loss: 0.6643 - accuracy: 0.6006 - val_loss: 0.6630 - val_accuracy: 0.6071\n",
      "Epoch 22/500\n",
      "210/210 [==============================] - 1s 5ms/step - loss: 0.6637 - accuracy: 0.5997 - val_loss: 0.6661 - val_accuracy: 0.6036\n",
      "Epoch 23/500\n",
      "210/210 [==============================] - 1s 6ms/step - loss: 0.6630 - accuracy: 0.6018 - val_loss: 0.6594 - val_accuracy: 0.6179\n",
      "Epoch 24/500\n",
      "210/210 [==============================] - 1s 5ms/step - loss: 0.6604 - accuracy: 0.6164 - val_loss: 0.6594 - val_accuracy: 0.6167\n",
      "Epoch 25/500\n",
      "210/210 [==============================] - 1s 6ms/step - loss: 0.6578 - accuracy: 0.6125 - val_loss: 0.6649 - val_accuracy: 0.6012\n",
      "Epoch 26/500\n",
      "210/210 [==============================] - 1s 5ms/step - loss: 0.6568 - accuracy: 0.6167 - val_loss: 0.6574 - val_accuracy: 0.6262\n",
      "Epoch 27/500\n",
      "210/210 [==============================] - 1s 5ms/step - loss: 0.6539 - accuracy: 0.6146 - val_loss: 0.6562 - val_accuracy: 0.6214\n",
      "Epoch 28/500\n",
      "210/210 [==============================] - 1s 4ms/step - loss: 0.6541 - accuracy: 0.6202 - val_loss: 0.6595 - val_accuracy: 0.6190\n",
      "Epoch 29/500\n",
      "210/210 [==============================] - 1s 4ms/step - loss: 0.6500 - accuracy: 0.6253 - val_loss: 0.6512 - val_accuracy: 0.6298\n",
      "Epoch 30/500\n",
      "210/210 [==============================] - 1s 6ms/step - loss: 0.6503 - accuracy: 0.6244 - val_loss: 0.6500 - val_accuracy: 0.6274\n",
      "Epoch 31/500\n",
      "210/210 [==============================] - 1s 5ms/step - loss: 0.6484 - accuracy: 0.6268 - val_loss: 0.6493 - val_accuracy: 0.6250\n",
      "Epoch 32/500\n",
      "210/210 [==============================] - 1s 4ms/step - loss: 0.6469 - accuracy: 0.6262 - val_loss: 0.6503 - val_accuracy: 0.6179\n",
      "Epoch 33/500\n",
      "210/210 [==============================] - 1s 5ms/step - loss: 0.6425 - accuracy: 0.6256 - val_loss: 0.6501 - val_accuracy: 0.6179\n",
      "Epoch 34/500\n",
      "210/210 [==============================] - 1s 6ms/step - loss: 0.6394 - accuracy: 0.6351 - val_loss: 0.6508 - val_accuracy: 0.6131\n"
     ]
    },
    {
     "data": {
      "text/plain": [
       "<tensorflow.python.keras.callbacks.History at 0x7fdb085aa790>"
      ]
     },
     "execution_count": 82,
     "metadata": {},
     "output_type": "execute_result"
    }
   ],
   "source": [
    "model_10 = init_model()\n",
    "\n",
    "from tensorflow.keras.callbacks import EarlyStopping\n",
    "\n",
    "es = EarlyStopping(patience=3, restore_best_weights=True)\n",
    "\n",
    "model_10.fit(X_train_10, y_train_10, \n",
    "          epochs=500, \n",
    "          batch_size=16,\n",
    "          validation_split=0.2,\n",
    "          callbacks=[es])"
   ]
  },
  {
   "cell_type": "code",
   "execution_count": 83,
   "metadata": {},
   "outputs": [
    {
     "data": {
      "text/plain": [
       "0.641958041958042"
      ]
     },
     "execution_count": 83,
     "metadata": {},
     "output_type": "execute_result"
    }
   ],
   "source": [
    "apple_test_y_10.sum()/len(apple_test_y_10)"
   ]
  },
  {
   "cell_type": "code",
   "execution_count": 84,
   "metadata": {},
   "outputs": [
    {
     "name": "stdout",
     "output_type": "stream",
     "text": [
      "23/23 [==============================] - 0s 2ms/step - loss: 1.1341 - accuracy: 0.5259\n"
     ]
    },
    {
     "data": {
      "text/plain": [
       "[1.1340992450714111, 0.525874137878418]"
      ]
     },
     "execution_count": 84,
     "metadata": {},
     "output_type": "execute_result"
    }
   ],
   "source": [
    "model_10.evaluate(apple_test_x_10, apple_test_y_10)"
   ]
  },
  {
   "cell_type": "markdown",
   "metadata": {},
   "source": [
    "### Model for 5 days future returns"
   ]
  },
  {
   "cell_type": "code",
   "execution_count": 85,
   "metadata": {},
   "outputs": [],
   "source": [
    "apple_train_x_5, apple_train_y_5 = build_arrays(train_df,input_cols=INPUT_COLS_PCA, target_col='5D_return_bin', time_window=40, stride=1)\n",
    "apple_test_x_5, apple_test_y_5 = build_arrays(test_df,input_cols=INPUT_COLS_PCA, target_col='5D_return_bin', time_window=40, stride=1)"
   ]
  },
  {
   "cell_type": "code",
   "execution_count": 86,
   "metadata": {},
   "outputs": [
    {
     "name": "stderr",
     "output_type": "stream",
     "text": [
      "/home/kensei/.pyenv/versions/3.7.7/envs/lewagon/lib/python3.7/site-packages/ipykernel_launcher.py:2: FutureWarning: Using a non-tuple sequence for multidimensional indexing is deprecated; use `arr[tuple(seq)]` instead of `arr[seq]`. In the future this will be interpreted as an array index, `arr[np.array(seq)]`, which will result either in an error or a different result.\n",
      "  \n"
     ]
    }
   ],
   "source": [
    "X_train_5 =  apple_train_x_5[[sample_indx], :][0]\n",
    "y_train_5 = apple_train_y_5[[sample_indx]]"
   ]
  },
  {
   "cell_type": "code",
   "execution_count": 87,
   "metadata": {},
   "outputs": [
    {
     "name": "stdout",
     "output_type": "stream",
     "text": [
      "Epoch 1/500\n",
      "420/420 [==============================] - 2s 6ms/step - loss: 0.6922 - accuracy: 0.5333 - val_loss: 0.6878 - val_accuracy: 0.5488\n",
      "Epoch 2/500\n",
      "420/420 [==============================] - 3s 6ms/step - loss: 0.6922 - accuracy: 0.5360 - val_loss: 0.6856 - val_accuracy: 0.5524\n",
      "Epoch 3/500\n",
      "420/420 [==============================] - 3s 7ms/step - loss: 0.6903 - accuracy: 0.5452 - val_loss: 0.6863 - val_accuracy: 0.5560\n",
      "Epoch 4/500\n",
      "420/420 [==============================] - 3s 7ms/step - loss: 0.6880 - accuracy: 0.5387 - val_loss: 0.6852 - val_accuracy: 0.5583\n",
      "Epoch 5/500\n",
      "420/420 [==============================] - 3s 8ms/step - loss: 0.6902 - accuracy: 0.5354 - val_loss: 0.6862 - val_accuracy: 0.5607\n",
      "Epoch 6/500\n",
      "420/420 [==============================] - 3s 7ms/step - loss: 0.6898 - accuracy: 0.5452 - val_loss: 0.6870 - val_accuracy: 0.5536\n",
      "Epoch 7/500\n",
      "420/420 [==============================] - 3s 7ms/step - loss: 0.6860 - accuracy: 0.5613 - val_loss: 0.6879 - val_accuracy: 0.5381\n"
     ]
    },
    {
     "data": {
      "text/plain": [
       "<tensorflow.python.keras.callbacks.History at 0x7fdc61c58290>"
      ]
     },
     "execution_count": 87,
     "metadata": {},
     "output_type": "execute_result"
    }
   ],
   "source": [
    "model_5 = init_model()\n",
    "\n",
    "from tensorflow.keras.callbacks import EarlyStopping\n",
    "\n",
    "es = EarlyStopping(patience=3, restore_best_weights=True)\n",
    "\n",
    "model_5.fit(X_train_5, y_train_5, \n",
    "          epochs=500, \n",
    "          batch_size=8,\n",
    "          validation_split=0.2,\n",
    "          callbacks=[es])"
   ]
  },
  {
   "cell_type": "code",
   "execution_count": 45,
   "metadata": {},
   "outputs": [
    {
     "data": {
      "text/plain": [
       "0.6111888111888112"
      ]
     },
     "execution_count": 45,
     "metadata": {},
     "output_type": "execute_result"
    }
   ],
   "source": [
    "apple_test_y_5.sum()/len(apple_test_y_5)"
   ]
  },
  {
   "cell_type": "code",
   "execution_count": 88,
   "metadata": {},
   "outputs": [
    {
     "name": "stdout",
     "output_type": "stream",
     "text": [
      "23/23 [==============================] - 0s 3ms/step - loss: 0.6766 - accuracy: 0.5846\n"
     ]
    },
    {
     "data": {
      "text/plain": [
       "[0.6765639185905457, 0.5846154093742371]"
      ]
     },
     "execution_count": 88,
     "metadata": {},
     "output_type": "execute_result"
    }
   ],
   "source": [
    "model_5.evaluate(apple_test_x_5, apple_test_y_5)"
   ]
  },
  {
   "cell_type": "markdown",
   "metadata": {},
   "source": [
    "# CNN test"
   ]
  },
  {
   "cell_type": "markdown",
   "metadata": {},
   "source": [
    "### CNN for 20 days future returns"
   ]
  },
  {
   "cell_type": "code",
   "execution_count": 288,
   "metadata": {},
   "outputs": [],
   "source": [
    "from tensorflow.keras.backend import expand_dims\n",
    "X_train_cnn_20 = expand_dims(X_train_20, axis=-1)\n",
    "X_test_cnn_20 = expand_dims(apple_test_x_20, axis=-1)\n"
   ]
  },
  {
   "cell_type": "code",
   "execution_count": 289,
   "metadata": {},
   "outputs": [],
   "source": [
    "def initialize_model_cnn():\n",
    "    model = models.Sequential()\n",
    "    model.add(layers.Conv2D(32, (3, 3), padding='same', input_shape=(40, 15, 1)))\n",
    "    model.add(layers.Activation('relu'))\n",
    "    model.add(layers.MaxPooling2D(pool_size=(2, 2)))\n",
    "    model.add(layers.Conv2D(64, (3, 3), padding='same'))\n",
    "    model.add(layers.Activation('relu'))\n",
    "    model.add(layers.MaxPooling2D(pool_size=(2, 2)))\n",
    "    model.add(layers.Conv2D(128, (3, 3), padding='same'))\n",
    "    model.add(layers.Activation('relu'))\n",
    "    model.add(layers.MaxPooling2D(pool_size=(2, 2)))\n",
    "    model.add(layers.Flatten())\n",
    "    model.add(layers.Dense(120, activation='relu'))\n",
    "    model.add(layers.Dropout(0.5))\n",
    "    model.add(layers.Dense(60, activation='relu'))\n",
    "    model.add(layers.Dropout(0.5))\n",
    "    model.add(layers.Dense(1, activation='sigmoid'))\n",
    "    return model"
   ]
  },
  {
   "cell_type": "code",
   "execution_count": 290,
   "metadata": {},
   "outputs": [
    {
     "name": "stdout",
     "output_type": "stream",
     "text": [
      "Epoch 1/500\n",
      "250/250 [==============================] - 1s 3ms/step - loss: 0.6852 - accuracy: 0.5670 - val_loss: 0.6656 - val_accuracy: 0.5830\n",
      "Epoch 2/500\n",
      "250/250 [==============================] - 0s 2ms/step - loss: 0.6724 - accuracy: 0.5767 - val_loss: 0.6574 - val_accuracy: 0.5900\n",
      "Epoch 3/500\n",
      "250/250 [==============================] - 1s 3ms/step - loss: 0.6487 - accuracy: 0.6097 - val_loss: 0.6172 - val_accuracy: 0.6400\n",
      "Epoch 4/500\n",
      "250/250 [==============================] - 1s 3ms/step - loss: 0.6152 - accuracy: 0.6495 - val_loss: 0.5857 - val_accuracy: 0.6950\n",
      "Epoch 5/500\n",
      "250/250 [==============================] - 1s 3ms/step - loss: 0.5692 - accuracy: 0.6965 - val_loss: 0.5227 - val_accuracy: 0.7250\n",
      "Epoch 6/500\n",
      "250/250 [==============================] - 1s 2ms/step - loss: 0.4995 - accuracy: 0.7655 - val_loss: 0.5045 - val_accuracy: 0.7340\n",
      "Epoch 7/500\n",
      "250/250 [==============================] - 1s 2ms/step - loss: 0.4520 - accuracy: 0.7950 - val_loss: 0.4304 - val_accuracy: 0.8150\n",
      "Epoch 8/500\n",
      "250/250 [==============================] - 1s 2ms/step - loss: 0.3822 - accuracy: 0.8395 - val_loss: 0.4086 - val_accuracy: 0.8120\n",
      "Epoch 9/500\n",
      "250/250 [==============================] - 1s 2ms/step - loss: 0.3256 - accuracy: 0.8643 - val_loss: 0.4091 - val_accuracy: 0.8280\n",
      "Epoch 10/500\n",
      "250/250 [==============================] - 1s 2ms/step - loss: 0.2812 - accuracy: 0.8903 - val_loss: 0.3639 - val_accuracy: 0.8510\n",
      "Epoch 11/500\n",
      "250/250 [==============================] - 1s 3ms/step - loss: 0.2457 - accuracy: 0.8995 - val_loss: 0.3718 - val_accuracy: 0.8520\n",
      "Epoch 12/500\n",
      "250/250 [==============================] - 1s 3ms/step - loss: 0.2234 - accuracy: 0.9118 - val_loss: 0.2886 - val_accuracy: 0.8900\n",
      "Epoch 13/500\n",
      "250/250 [==============================] - 1s 3ms/step - loss: 0.1832 - accuracy: 0.9255 - val_loss: 0.3018 - val_accuracy: 0.8940\n",
      "Epoch 14/500\n",
      "250/250 [==============================] - 1s 3ms/step - loss: 0.1912 - accuracy: 0.9255 - val_loss: 0.2794 - val_accuracy: 0.8970\n",
      "Epoch 15/500\n",
      "250/250 [==============================] - 1s 3ms/step - loss: 0.1557 - accuracy: 0.9375 - val_loss: 0.2736 - val_accuracy: 0.8970\n",
      "Epoch 16/500\n",
      "250/250 [==============================] - 1s 3ms/step - loss: 0.1440 - accuracy: 0.9425 - val_loss: 0.3069 - val_accuracy: 0.8910\n",
      "Epoch 17/500\n",
      "250/250 [==============================] - 0s 2ms/step - loss: 0.1333 - accuracy: 0.9482 - val_loss: 0.3080 - val_accuracy: 0.8940\n",
      "Epoch 18/500\n",
      "250/250 [==============================] - 1s 2ms/step - loss: 0.1166 - accuracy: 0.9557 - val_loss: 0.3533 - val_accuracy: 0.8850\n",
      "Epoch 19/500\n",
      "250/250 [==============================] - 0s 2ms/step - loss: 0.1139 - accuracy: 0.9548 - val_loss: 0.3121 - val_accuracy: 0.9000\n",
      "Epoch 20/500\n",
      "250/250 [==============================] - 1s 2ms/step - loss: 0.1058 - accuracy: 0.9585 - val_loss: 0.3413 - val_accuracy: 0.8910\n"
     ]
    },
    {
     "data": {
      "text/plain": [
       "<tensorflow.python.keras.callbacks.History at 0x7f540df12c90>"
      ]
     },
     "execution_count": 290,
     "metadata": {},
     "output_type": "execute_result"
    }
   ],
   "source": [
    "model_cnn_20 = initialize_model_cnn()\n",
    "\n",
    "model_cnn_20.compile(loss='binary_crossentropy',\n",
    "                  optimizer='adam',\n",
    "                  metrics=['accuracy'])\n",
    "\n",
    "es = EarlyStopping(patience=5, restore_best_weights=True)\n",
    "\n",
    "model_cnn_20.fit(X_train_cnn_20, y_train_20, \n",
    "          epochs=500, \n",
    "          batch_size=16,\n",
    "          validation_split=0.2,\n",
    "            callbacks=[es])"
   ]
  },
  {
   "cell_type": "code",
   "execution_count": 291,
   "metadata": {},
   "outputs": [
    {
     "name": "stdout",
     "output_type": "stream",
     "text": [
      "23/23 [==============================] - 0s 2ms/step - loss: 5.2828 - accuracy: 0.4364 \n"
     ]
    },
    {
     "data": {
      "text/plain": [
       "[5.282845497131348, 0.4363636374473572]"
      ]
     },
     "execution_count": 291,
     "metadata": {},
     "output_type": "execute_result"
    }
   ],
   "source": [
    "model_cnn_20.evaluate(X_test_cnn_20, apple_test_y_20)"
   ]
  },
  {
   "cell_type": "markdown",
   "metadata": {},
   "source": [
    "### CNN for 10 days future returns"
   ]
  },
  {
   "cell_type": "code",
   "execution_count": 292,
   "metadata": {},
   "outputs": [],
   "source": [
    "X_train_cnn_10 = expand_dims(X_train_10, axis=-1)\n",
    "X_test_cnn_10 = expand_dims(apple_test_x_10, axis=-1)"
   ]
  },
  {
   "cell_type": "code",
   "execution_count": 294,
   "metadata": {},
   "outputs": [
    {
     "name": "stdout",
     "output_type": "stream",
     "text": [
      "Epoch 1/500\n",
      "250/250 [==============================] - 1s 3ms/step - loss: 0.6943 - accuracy: 0.5315 - val_loss: 0.6884 - val_accuracy: 0.5670\n",
      "Epoch 2/500\n",
      "250/250 [==============================] - 1s 3ms/step - loss: 0.6887 - accuracy: 0.5540 - val_loss: 0.6843 - val_accuracy: 0.5640\n",
      "Epoch 3/500\n",
      "250/250 [==============================] - 1s 2ms/step - loss: 0.6840 - accuracy: 0.5497 - val_loss: 0.6807 - val_accuracy: 0.5780\n",
      "Epoch 4/500\n",
      "250/250 [==============================] - 1s 2ms/step - loss: 0.6793 - accuracy: 0.5675 - val_loss: 0.6742 - val_accuracy: 0.5850\n",
      "Epoch 5/500\n",
      "250/250 [==============================] - 1s 3ms/step - loss: 0.6687 - accuracy: 0.5817 - val_loss: 0.6578 - val_accuracy: 0.6150\n",
      "Epoch 6/500\n",
      "250/250 [==============================] - 1s 2ms/step - loss: 0.6559 - accuracy: 0.6202 - val_loss: 0.6360 - val_accuracy: 0.6080\n",
      "Epoch 7/500\n",
      "250/250 [==============================] - 1s 2ms/step - loss: 0.6284 - accuracy: 0.6388 - val_loss: 0.6216 - val_accuracy: 0.6560\n",
      "Epoch 8/500\n",
      "250/250 [==============================] - 1s 2ms/step - loss: 0.6039 - accuracy: 0.6727 - val_loss: 0.5843 - val_accuracy: 0.6850\n",
      "Epoch 9/500\n",
      "250/250 [==============================] - 1s 2ms/step - loss: 0.5544 - accuracy: 0.7207 - val_loss: 0.5567 - val_accuracy: 0.7260\n",
      "Epoch 10/500\n",
      "250/250 [==============================] - 1s 2ms/step - loss: 0.5000 - accuracy: 0.7705 - val_loss: 0.5579 - val_accuracy: 0.7190\n",
      "Epoch 11/500\n",
      "250/250 [==============================] - 1s 2ms/step - loss: 0.4389 - accuracy: 0.8055 - val_loss: 0.5065 - val_accuracy: 0.7570\n",
      "Epoch 12/500\n",
      "250/250 [==============================] - 1s 2ms/step - loss: 0.3780 - accuracy: 0.8357 - val_loss: 0.4284 - val_accuracy: 0.8040\n",
      "Epoch 13/500\n",
      "250/250 [==============================] - 1s 2ms/step - loss: 0.3203 - accuracy: 0.8737 - val_loss: 0.3946 - val_accuracy: 0.8270\n",
      "Epoch 14/500\n",
      "250/250 [==============================] - 1s 3ms/step - loss: 0.2752 - accuracy: 0.8975 - val_loss: 0.4167 - val_accuracy: 0.8340\n",
      "Epoch 15/500\n",
      "250/250 [==============================] - 1s 3ms/step - loss: 0.2487 - accuracy: 0.9003 - val_loss: 0.3817 - val_accuracy: 0.8470\n",
      "Epoch 16/500\n",
      "250/250 [==============================] - 0s 2ms/step - loss: 0.2183 - accuracy: 0.9103 - val_loss: 0.3930 - val_accuracy: 0.8440\n",
      "Epoch 17/500\n",
      "250/250 [==============================] - 0s 2ms/step - loss: 0.1932 - accuracy: 0.9310 - val_loss: 0.4206 - val_accuracy: 0.8470\n",
      "Epoch 18/500\n",
      "250/250 [==============================] - 0s 2ms/step - loss: 0.1679 - accuracy: 0.9340 - val_loss: 0.5541 - val_accuracy: 0.8090\n",
      "Epoch 19/500\n",
      "250/250 [==============================] - 1s 2ms/step - loss: 0.1556 - accuracy: 0.9442 - val_loss: 0.4387 - val_accuracy: 0.8570\n",
      "Epoch 20/500\n",
      "250/250 [==============================] - 1s 3ms/step - loss: 0.1420 - accuracy: 0.9410 - val_loss: 0.4658 - val_accuracy: 0.8480\n"
     ]
    },
    {
     "data": {
      "text/plain": [
       "<tensorflow.python.keras.callbacks.History at 0x7f540dcaf350>"
      ]
     },
     "execution_count": 294,
     "metadata": {},
     "output_type": "execute_result"
    }
   ],
   "source": [
    "model_cnn_10 = initialize_model_cnn()\n",
    "\n",
    "model_cnn_10.compile(loss='binary_crossentropy',\n",
    "                  optimizer='adam',\n",
    "                  metrics=['accuracy'])\n",
    "\n",
    "es = EarlyStopping(patience=5, restore_best_weights=True)\n",
    "\n",
    "model_cnn_10.fit(X_train_cnn_10, y_train_10, \n",
    "          epochs=500, \n",
    "          batch_size=16,\n",
    "          validation_split=0.2,\n",
    "            callbacks=[es])"
   ]
  },
  {
   "cell_type": "code",
   "execution_count": 295,
   "metadata": {},
   "outputs": [
    {
     "name": "stdout",
     "output_type": "stream",
     "text": [
      "23/23 [==============================] - 0s 1ms/step - loss: 2.2595 - accuracy: 0.5832\n"
     ]
    },
    {
     "data": {
      "text/plain": [
       "[2.2594521045684814, 0.5832167863845825]"
      ]
     },
     "execution_count": 295,
     "metadata": {},
     "output_type": "execute_result"
    }
   ],
   "source": [
    "model_cnn_10.evaluate(X_test_cnn_10, apple_test_y_10)"
   ]
  },
  {
   "cell_type": "markdown",
   "metadata": {},
   "source": [
    "### CNN for 5 days future returns"
   ]
  },
  {
   "cell_type": "code",
   "execution_count": 296,
   "metadata": {},
   "outputs": [],
   "source": [
    "X_train_cnn_5 = expand_dims(X_train_5, axis=-1)\n",
    "X_test_cnn_5 = expand_dims(apple_test_x_5, axis=-1)"
   ]
  },
  {
   "cell_type": "code",
   "execution_count": 297,
   "metadata": {},
   "outputs": [
    {
     "name": "stdout",
     "output_type": "stream",
     "text": [
      "Epoch 1/500\n",
      "250/250 [==============================] - 1s 4ms/step - loss: 0.6953 - accuracy: 0.5163 - val_loss: 0.6879 - val_accuracy: 0.5620\n",
      "Epoch 2/500\n",
      "250/250 [==============================] - 1s 2ms/step - loss: 0.6920 - accuracy: 0.5335 - val_loss: 0.6886 - val_accuracy: 0.5620\n",
      "Epoch 3/500\n",
      "250/250 [==============================] - 1s 3ms/step - loss: 0.6915 - accuracy: 0.5415 - val_loss: 0.6869 - val_accuracy: 0.5620\n",
      "Epoch 4/500\n",
      "250/250 [==============================] - 1s 3ms/step - loss: 0.6911 - accuracy: 0.5390 - val_loss: 0.6857 - val_accuracy: 0.5620\n",
      "Epoch 5/500\n",
      "250/250 [==============================] - 1s 3ms/step - loss: 0.6894 - accuracy: 0.5347 - val_loss: 0.6818 - val_accuracy: 0.5660\n",
      "Epoch 6/500\n",
      "250/250 [==============================] - 1s 3ms/step - loss: 0.6887 - accuracy: 0.5378 - val_loss: 0.6818 - val_accuracy: 0.5650\n",
      "Epoch 7/500\n",
      "250/250 [==============================] - 0s 2ms/step - loss: 0.6838 - accuracy: 0.5428 - val_loss: 0.6803 - val_accuracy: 0.5630\n",
      "Epoch 8/500\n",
      "250/250 [==============================] - 1s 3ms/step - loss: 0.6794 - accuracy: 0.5658 - val_loss: 0.6806 - val_accuracy: 0.5690\n",
      "Epoch 9/500\n",
      "250/250 [==============================] - 0s 2ms/step - loss: 0.6721 - accuracy: 0.5857 - val_loss: 0.6742 - val_accuracy: 0.6020\n",
      "Epoch 10/500\n",
      "250/250 [==============================] - 1s 3ms/step - loss: 0.6550 - accuracy: 0.6040 - val_loss: 0.6652 - val_accuracy: 0.5910\n",
      "Epoch 11/500\n",
      "250/250 [==============================] - 1s 2ms/step - loss: 0.6334 - accuracy: 0.6350 - val_loss: 0.6583 - val_accuracy: 0.5930\n",
      "Epoch 12/500\n",
      "250/250 [==============================] - 1s 2ms/step - loss: 0.5974 - accuracy: 0.6725 - val_loss: 0.6454 - val_accuracy: 0.6380\n",
      "Epoch 13/500\n",
      "250/250 [==============================] - 1s 2ms/step - loss: 0.5654 - accuracy: 0.7080 - val_loss: 0.6713 - val_accuracy: 0.6370\n",
      "Epoch 14/500\n",
      "250/250 [==============================] - 1s 2ms/step - loss: 0.5205 - accuracy: 0.7427 - val_loss: 0.6372 - val_accuracy: 0.6760\n",
      "Epoch 15/500\n",
      "250/250 [==============================] - 1s 3ms/step - loss: 0.4783 - accuracy: 0.7742 - val_loss: 0.6353 - val_accuracy: 0.6890\n",
      "Epoch 16/500\n",
      "250/250 [==============================] - 1s 2ms/step - loss: 0.4202 - accuracy: 0.8125 - val_loss: 0.6488 - val_accuracy: 0.6720\n",
      "Epoch 17/500\n",
      "250/250 [==============================] - 0s 2ms/step - loss: 0.3762 - accuracy: 0.8300 - val_loss: 0.6610 - val_accuracy: 0.6760\n",
      "Epoch 18/500\n",
      "250/250 [==============================] - 0s 2ms/step - loss: 0.3538 - accuracy: 0.8505 - val_loss: 0.7588 - val_accuracy: 0.6890\n",
      "Epoch 19/500\n",
      "250/250 [==============================] - 1s 2ms/step - loss: 0.3056 - accuracy: 0.8770 - val_loss: 0.7328 - val_accuracy: 0.7070\n",
      "Epoch 20/500\n",
      "250/250 [==============================] - 0s 2ms/step - loss: 0.2717 - accuracy: 0.8905 - val_loss: 0.8150 - val_accuracy: 0.7110\n"
     ]
    },
    {
     "data": {
      "text/plain": [
       "<tensorflow.python.keras.callbacks.History at 0x7f540dac8d10>"
      ]
     },
     "execution_count": 297,
     "metadata": {},
     "output_type": "execute_result"
    }
   ],
   "source": [
    "model_cnn_5 = initialize_model_cnn()\n",
    "\n",
    "model_cnn_5.compile(loss='binary_crossentropy',\n",
    "                  optimizer='adam',\n",
    "                  metrics=['accuracy'])\n",
    "\n",
    "es = EarlyStopping(patience=5, restore_best_weights=True)\n",
    "\n",
    "model_cnn_5.fit(X_train_cnn_5, y_train_5, \n",
    "          epochs=500, \n",
    "          batch_size=16,\n",
    "          validation_split=0.2,\n",
    "            callbacks=[es])"
   ]
  },
  {
   "cell_type": "code",
   "execution_count": 298,
   "metadata": {},
   "outputs": [
    {
     "name": "stdout",
     "output_type": "stream",
     "text": [
      "23/23 [==============================] - 0s 1ms/step - loss: 0.9555 - accuracy: 0.4965\n"
     ]
    },
    {
     "data": {
      "text/plain": [
       "[0.9554838538169861, 0.4965035021305084]"
      ]
     },
     "execution_count": 298,
     "metadata": {},
     "output_type": "execute_result"
    }
   ],
   "source": [
    "model_cnn_5.evaluate(X_test_cnn_5, apple_test_y_5)"
   ]
  },
  {
   "cell_type": "code",
   "execution_count": null,
   "metadata": {},
   "outputs": [],
   "source": []
  },
  {
   "cell_type": "code",
   "execution_count": null,
   "metadata": {},
   "outputs": [],
   "source": []
  }
 ],
 "metadata": {
  "kernelspec": {
   "display_name": "Python 3",
   "language": "python",
   "name": "python3"
  },
  "language_info": {
   "codemirror_mode": {
    "name": "ipython",
    "version": 3
   },
   "file_extension": ".py",
   "mimetype": "text/x-python",
   "name": "python",
   "nbconvert_exporter": "python",
   "pygments_lexer": "ipython3",
   "version": "3.7.7"
  }
 },
 "nbformat": 4,
 "nbformat_minor": 4
}
