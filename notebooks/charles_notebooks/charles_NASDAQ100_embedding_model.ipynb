{
 "cells": [
  {
   "cell_type": "code",
   "execution_count": 11,
   "metadata": {
    "ExecuteTime": {
     "end_time": "2021-02-16T14:03:13.396821Z",
     "start_time": "2021-02-16T14:03:13.389472Z"
    }
   },
   "outputs": [],
   "source": [
    "from mlchartist.array_builder import full_dataset_randomised_arrays #full_dataset_randomised_arrays\n",
    "from mlchartist.preprocessing import train_test_split, thresholds_encoding\n",
    "\n",
    "import pandas as pd\n",
    "import numpy as np\n",
    "import matplotlib.pyplot as plt\n",
    "import random\n",
    "import joblib\n",
    "import os\n",
    "\n",
    "from tensorflow.keras import models"
   ]
  },
  {
   "cell_type": "markdown",
   "metadata": {},
   "source": [
    "# Preprocessing"
   ]
  },
  {
   "cell_type": "markdown",
   "metadata": {},
   "source": [
    "## Importing NASDAQ_100 Files"
   ]
  },
  {
   "cell_type": "code",
   "execution_count": 2,
   "metadata": {
    "ExecuteTime": {
     "end_time": "2021-02-16T13:50:47.038587Z",
     "start_time": "2021-02-16T13:50:47.028194Z"
    }
   },
   "outputs": [],
   "source": [
    "# Reads Nasdaq 100 components\n",
    "\n",
    "nasdaq100 = pd.read_csv('../../raw_data/metadata/nasdaq100.csv', header=None)"
   ]
  },
  {
   "cell_type": "code",
   "execution_count": 3,
   "metadata": {
    "ExecuteTime": {
     "end_time": "2021-02-16T13:50:47.067246Z",
     "start_time": "2021-02-16T13:50:47.063562Z"
    }
   },
   "outputs": [],
   "source": [
    "nasdaq100_list = list(nasdaq100.values.flatten())"
   ]
  },
  {
   "cell_type": "code",
   "execution_count": 4,
   "metadata": {
    "ExecuteTime": {
     "end_time": "2021-02-16T13:50:47.102557Z",
     "start_time": "2021-02-16T13:50:47.094971Z"
    }
   },
   "outputs": [],
   "source": [
    "# Samples n random companies from Nasdaq 100 list\n",
    "\n",
    "rand_tickers = random.sample(nasdaq100_list, 5)"
   ]
  },
  {
   "cell_type": "code",
   "execution_count": 5,
   "metadata": {
    "ExecuteTime": {
     "end_time": "2021-02-16T13:50:47.381609Z",
     "start_time": "2021-02-16T13:50:47.127750Z"
    }
   },
   "outputs": [],
   "source": [
    "joined_df = pd.DataFrame()\n",
    "\n",
    "# Takes nrows from history from each company from the sample\n",
    "nrows = 3000\n",
    "\n",
    "for ticker in rand_tickers:\n",
    "    ticker_path = '../../raw_data/processed/' + ticker.strip().lower() + '.csv'\n",
    "    ticker_df = pd.read_csv(ticker_path, nrows=nrows)\n",
    "    joined_df = joined_df.append(ticker_df)\n",
    "    "
   ]
  },
  {
   "cell_type": "markdown",
   "metadata": {},
   "source": [
    "## Stocks in DataFrame"
   ]
  },
  {
   "cell_type": "code",
   "execution_count": 6,
   "metadata": {
    "ExecuteTime": {
     "end_time": "2021-02-16T13:50:47.484037Z",
     "start_time": "2021-02-16T13:50:47.479028Z"
    }
   },
   "outputs": [
    {
     "name": "stdout",
     "output_type": "stream",
     "text": [
      "EXPE\n",
      "LRCX\n",
      "NTES\n",
      "CSX\n",
      "ILMN\n"
     ]
    }
   ],
   "source": [
    "# Prints sample tickers list\n",
    "\n",
    "for tick in rand_tickers:\n",
    "    print(tick)"
   ]
  },
  {
   "cell_type": "markdown",
   "metadata": {},
   "source": [
    "## Threshold Encoding"
   ]
  },
  {
   "cell_type": "code",
   "execution_count": 7,
   "metadata": {
    "ExecuteTime": {
     "end_time": "2021-02-16T13:50:49.873327Z",
     "start_time": "2021-02-16T13:50:49.821732Z"
    }
   },
   "outputs": [],
   "source": [
    "joined_df['date'] = pd.to_datetime(joined_df['date'])\n",
    "\n",
    "#FIVE_TR = 0.0006\n",
    "#TEN_TR = 0.0012\n",
    "#TWENTY_TR = 0.0024\n",
    "\n",
    "# Drops 'ADI' and 'OBV' from input columns\n",
    "# INPUT_COLS = ['RSI', 'Stochastic', 'Stochastic_signal', 'ADI','OBV', 'ATR', 'ADX', 'ADX_pos', 'ADX_neg', 'MACD', 'MACD_diff','MACD_signal', '1D_past_return', '5D_past_return', '10D_past_return']\n",
    "INPUT_COLS = ['RSI', 'Stochastic', 'Stochastic_signal', 'ATR', 'ADX', 'ADX_pos', 'ADX_neg', 'MACD', 'MACD_diff','MACD_signal', '1D_past_return', '5D_past_return', '10D_past_return']\n",
    "\n",
    "joined_df = thresholds_encoding(joined_df)\n",
    "\n",
    "#joined_df['5D_return_bin'] = (joined_df['5TD_return'] >= FIVE_TR)\n",
    "#joined_df['10D_return_bin'] = (joined_df['10TD_return'] >= TEN_TR)\n",
    "#joined_df['20D_return_bin'] = (joined_df['20TD_return'] >= TWENTY_TR)"
   ]
  },
  {
   "cell_type": "code",
   "execution_count": 8,
   "metadata": {
    "ExecuteTime": {
     "end_time": "2021-02-16T13:50:50.029716Z",
     "start_time": "2021-02-16T13:50:49.984151Z"
    },
    "scrolled": true
   },
   "outputs": [
    {
     "data": {
      "text/html": [
       "<div>\n",
       "<style scoped>\n",
       "    .dataframe tbody tr th:only-of-type {\n",
       "        vertical-align: middle;\n",
       "    }\n",
       "\n",
       "    .dataframe tbody tr th {\n",
       "        vertical-align: top;\n",
       "    }\n",
       "\n",
       "    .dataframe thead th {\n",
       "        text-align: right;\n",
       "    }\n",
       "</style>\n",
       "<table border=\"1\" class=\"dataframe\">\n",
       "  <thead>\n",
       "    <tr style=\"text-align: right;\">\n",
       "      <th></th>\n",
       "      <th>ticker</th>\n",
       "      <th>date</th>\n",
       "      <th>RSI</th>\n",
       "      <th>Stochastic</th>\n",
       "      <th>Stochastic_signal</th>\n",
       "      <th>ADI</th>\n",
       "      <th>OBV</th>\n",
       "      <th>ATR</th>\n",
       "      <th>ADX</th>\n",
       "      <th>ADX_pos</th>\n",
       "      <th>...</th>\n",
       "      <th>MACD_signal</th>\n",
       "      <th>5TD_return</th>\n",
       "      <th>10TD_return</th>\n",
       "      <th>20TD_return</th>\n",
       "      <th>1D_past_return</th>\n",
       "      <th>5D_past_return</th>\n",
       "      <th>10D_past_return</th>\n",
       "      <th>5D_return_bin</th>\n",
       "      <th>10D_return_bin</th>\n",
       "      <th>20D_return_bin</th>\n",
       "    </tr>\n",
       "  </thead>\n",
       "  <tbody>\n",
       "    <tr>\n",
       "      <th>0</th>\n",
       "      <td>EXPE</td>\n",
       "      <td>2005-09-06</td>\n",
       "      <td>42.734140</td>\n",
       "      <td>63.509545</td>\n",
       "      <td>76.974787</td>\n",
       "      <td>9.709287e+06</td>\n",
       "      <td>-15830231</td>\n",
       "      <td>0.722569</td>\n",
       "      <td>20.690961</td>\n",
       "      <td>14.022898</td>\n",
       "      <td>...</td>\n",
       "      <td>-0.391318</td>\n",
       "      <td>-0.000835</td>\n",
       "      <td>-0.052233</td>\n",
       "      <td>-0.067810</td>\n",
       "      <td>-0.012471</td>\n",
       "      <td>-0.011127</td>\n",
       "      <td>0.022509</td>\n",
       "      <td>0</td>\n",
       "      <td>0</td>\n",
       "      <td>0</td>\n",
       "    </tr>\n",
       "    <tr>\n",
       "      <th>1</th>\n",
       "      <td>EXPE</td>\n",
       "      <td>2005-09-07</td>\n",
       "      <td>46.178586</td>\n",
       "      <td>75.398633</td>\n",
       "      <td>75.161786</td>\n",
       "      <td>9.834478e+06</td>\n",
       "      <td>-14344471</td>\n",
       "      <td>0.715886</td>\n",
       "      <td>20.534173</td>\n",
       "      <td>13.482935</td>\n",
       "      <td>...</td>\n",
       "      <td>-0.363099</td>\n",
       "      <td>-0.020659</td>\n",
       "      <td>-0.073085</td>\n",
       "      <td>-0.098226</td>\n",
       "      <td>0.008501</td>\n",
       "      <td>-0.005379</td>\n",
       "      <td>0.038664</td>\n",
       "      <td>0</td>\n",
       "      <td>0</td>\n",
       "      <td>0</td>\n",
       "    </tr>\n",
       "    <tr>\n",
       "      <th>2</th>\n",
       "      <td>EXPE</td>\n",
       "      <td>2005-09-08</td>\n",
       "      <td>49.184755</td>\n",
       "      <td>70.570202</td>\n",
       "      <td>69.826127</td>\n",
       "      <td>9.697715e+06</td>\n",
       "      <td>-12954570</td>\n",
       "      <td>0.727180</td>\n",
       "      <td>19.480802</td>\n",
       "      <td>15.881389</td>\n",
       "      <td>...</td>\n",
       "      <td>-0.333236</td>\n",
       "      <td>-0.046369</td>\n",
       "      <td>-0.097911</td>\n",
       "      <td>-0.107436</td>\n",
       "      <td>0.007698</td>\n",
       "      <td>0.008681</td>\n",
       "      <td>0.039140</td>\n",
       "      <td>0</td>\n",
       "      <td>0</td>\n",
       "      <td>0</td>\n",
       "    </tr>\n",
       "    <tr>\n",
       "      <th>3</th>\n",
       "      <td>EXPE</td>\n",
       "      <td>2005-09-09</td>\n",
       "      <td>43.299838</td>\n",
       "      <td>48.681790</td>\n",
       "      <td>64.883542</td>\n",
       "      <td>9.915172e+06</td>\n",
       "      <td>-17440639</td>\n",
       "      <td>0.721595</td>\n",
       "      <td>19.025014</td>\n",
       "      <td>14.811879</td>\n",
       "      <td>...</td>\n",
       "      <td>-0.308845</td>\n",
       "      <td>-0.048118</td>\n",
       "      <td>-0.089889</td>\n",
       "      <td>-0.088905</td>\n",
       "      <td>-0.017261</td>\n",
       "      <td>-0.007035</td>\n",
       "      <td>-0.004311</td>\n",
       "      <td>0</td>\n",
       "      <td>0</td>\n",
       "      <td>0</td>\n",
       "    </tr>\n",
       "    <tr>\n",
       "      <th>4</th>\n",
       "      <td>EXPE</td>\n",
       "      <td>2005-09-12</td>\n",
       "      <td>44.007176</td>\n",
       "      <td>50.585336</td>\n",
       "      <td>56.612443</td>\n",
       "      <td>8.500761e+06</td>\n",
       "      <td>-15246452</td>\n",
       "      <td>0.725124</td>\n",
       "      <td>17.675142</td>\n",
       "      <td>17.793435</td>\n",
       "      <td>...</td>\n",
       "      <td>-0.287900</td>\n",
       "      <td>-0.047397</td>\n",
       "      <td>-0.093320</td>\n",
       "      <td>-0.081336</td>\n",
       "      <td>0.001722</td>\n",
       "      <td>-0.012034</td>\n",
       "      <td>-0.000491</td>\n",
       "      <td>0</td>\n",
       "      <td>0</td>\n",
       "      <td>0</td>\n",
       "    </tr>\n",
       "  </tbody>\n",
       "</table>\n",
       "<p>5 rows × 23 columns</p>\n",
       "</div>"
      ],
      "text/plain": [
       "  ticker       date        RSI  Stochastic  Stochastic_signal           ADI  \\\n",
       "0   EXPE 2005-09-06  42.734140   63.509545          76.974787  9.709287e+06   \n",
       "1   EXPE 2005-09-07  46.178586   75.398633          75.161786  9.834478e+06   \n",
       "2   EXPE 2005-09-08  49.184755   70.570202          69.826127  9.697715e+06   \n",
       "3   EXPE 2005-09-09  43.299838   48.681790          64.883542  9.915172e+06   \n",
       "4   EXPE 2005-09-12  44.007176   50.585336          56.612443  8.500761e+06   \n",
       "\n",
       "        OBV       ATR        ADX    ADX_pos  ...  MACD_signal  5TD_return  \\\n",
       "0 -15830231  0.722569  20.690961  14.022898  ...    -0.391318   -0.000835   \n",
       "1 -14344471  0.715886  20.534173  13.482935  ...    -0.363099   -0.020659   \n",
       "2 -12954570  0.727180  19.480802  15.881389  ...    -0.333236   -0.046369   \n",
       "3 -17440639  0.721595  19.025014  14.811879  ...    -0.308845   -0.048118   \n",
       "4 -15246452  0.725124  17.675142  17.793435  ...    -0.287900   -0.047397   \n",
       "\n",
       "   10TD_return  20TD_return  1D_past_return  5D_past_return  10D_past_return  \\\n",
       "0    -0.052233    -0.067810       -0.012471       -0.011127         0.022509   \n",
       "1    -0.073085    -0.098226        0.008501       -0.005379         0.038664   \n",
       "2    -0.097911    -0.107436        0.007698        0.008681         0.039140   \n",
       "3    -0.089889    -0.088905       -0.017261       -0.007035        -0.004311   \n",
       "4    -0.093320    -0.081336        0.001722       -0.012034        -0.000491   \n",
       "\n",
       "   5D_return_bin  10D_return_bin  20D_return_bin  \n",
       "0              0               0               0  \n",
       "1              0               0               0  \n",
       "2              0               0               0  \n",
       "3              0               0               0  \n",
       "4              0               0               0  \n",
       "\n",
       "[5 rows x 23 columns]"
      ]
     },
     "execution_count": 8,
     "metadata": {},
     "output_type": "execute_result"
    }
   ],
   "source": [
    "joined_df.head()"
   ]
  },
  {
   "cell_type": "markdown",
   "metadata": {
    "heading_collapsed": true
   },
   "source": [
    "## Data Visualisation"
   ]
  },
  {
   "cell_type": "code",
   "execution_count": 9,
   "metadata": {
    "ExecuteTime": {
     "end_time": "2021-02-16T13:50:55.106087Z",
     "start_time": "2021-02-16T13:50:52.069530Z"
    },
    "hidden": true
   },
   "outputs": [
    {
     "name": "stderr",
     "output_type": "stream",
     "text": [
      "/home/bob/.pyenv/versions/3.7.7/envs/lewagon/lib/python3.7/site-packages/pandas/plotting/_tools.py:307: MatplotlibDeprecationWarning: \n",
      "The rowNum attribute was deprecated in Matplotlib 3.2 and will be removed two minor releases later. Use ax.get_subplotspec().rowspan.start instead.\n",
      "  layout[ax.rowNum, ax.colNum] = ax.get_visible()\n",
      "/home/bob/.pyenv/versions/3.7.7/envs/lewagon/lib/python3.7/site-packages/pandas/plotting/_tools.py:307: MatplotlibDeprecationWarning: \n",
      "The colNum attribute was deprecated in Matplotlib 3.2 and will be removed two minor releases later. Use ax.get_subplotspec().colspan.start instead.\n",
      "  layout[ax.rowNum, ax.colNum] = ax.get_visible()\n",
      "/home/bob/.pyenv/versions/3.7.7/envs/lewagon/lib/python3.7/site-packages/pandas/plotting/_tools.py:313: MatplotlibDeprecationWarning: \n",
      "The rowNum attribute was deprecated in Matplotlib 3.2 and will be removed two minor releases later. Use ax.get_subplotspec().rowspan.start instead.\n",
      "  if not layout[ax.rowNum + 1, ax.colNum]:\n",
      "/home/bob/.pyenv/versions/3.7.7/envs/lewagon/lib/python3.7/site-packages/pandas/plotting/_tools.py:313: MatplotlibDeprecationWarning: \n",
      "The colNum attribute was deprecated in Matplotlib 3.2 and will be removed two minor releases later. Use ax.get_subplotspec().colspan.start instead.\n",
      "  if not layout[ax.rowNum + 1, ax.colNum]:\n"
     ]
    },
    {
     "data": {
      "image/png": "[encoded data removed]",
      "text/plain": [
       "<Figure size 1440x1080 with 16 Axes>"
      ]
     },
     "metadata": {
      "needs_background": "light"
     },
     "output_type": "display_data"
    }
   ],
   "source": [
    "# Plots distribution of the input df without removing outliers\n",
    "\n",
    "joined_df[INPUT_COLS].hist(figsize=(20, 15), bins=50)\n",
    "plt.show()"
   ]
  },
  {
   "cell_type": "markdown",
   "metadata": {},
   "source": [
    "## Embedding"
   ]
  },
  {
   "cell_type": "markdown",
   "metadata": {},
   "source": [
    "### Embedding Preprocessing"
   ]
  },
  {
   "cell_type": "code",
   "execution_count": null,
   "metadata": {},
   "outputs": [],
   "source": []
  },
  {
   "cell_type": "code",
   "execution_count": 24,
   "metadata": {
    "ExecuteTime": {
     "end_time": "2021-02-16T14:28:03.781383Z",
     "start_time": "2021-02-16T14:28:03.747360Z"
    }
   },
   "outputs": [
    {
     "data": {
      "text/html": [
       "<div>\n",
       "<style scoped>\n",
       "    .dataframe tbody tr th:only-of-type {\n",
       "        vertical-align: middle;\n",
       "    }\n",
       "\n",
       "    .dataframe tbody tr th {\n",
       "        vertical-align: top;\n",
       "    }\n",
       "\n",
       "    .dataframe thead th {\n",
       "        text-align: right;\n",
       "    }\n",
       "</style>\n",
       "<table border=\"1\" class=\"dataframe\">\n",
       "  <thead>\n",
       "    <tr style=\"text-align: right;\">\n",
       "      <th></th>\n",
       "      <th>ticker</th>\n",
       "      <th>RSI</th>\n",
       "      <th>Stochastic</th>\n",
       "      <th>Stochastic_signal</th>\n",
       "      <th>ADI</th>\n",
       "      <th>OBV</th>\n",
       "      <th>ATR</th>\n",
       "      <th>ADX</th>\n",
       "      <th>ADX_pos</th>\n",
       "      <th>ADX_neg</th>\n",
       "      <th>MACD</th>\n",
       "      <th>MACD_diff</th>\n",
       "      <th>MACD_signal</th>\n",
       "      <th>5TD_return</th>\n",
       "      <th>10TD_return</th>\n",
       "      <th>20TD_return</th>\n",
       "      <th>1D_past_return</th>\n",
       "      <th>5D_past_return</th>\n",
       "      <th>10D_past_return</th>\n",
       "    </tr>\n",
       "  </thead>\n",
       "  <tbody>\n",
       "    <tr>\n",
       "      <th>0</th>\n",
       "      <td>EXPE</td>\n",
       "      <td>42.734140</td>\n",
       "      <td>63.509545</td>\n",
       "      <td>76.974787</td>\n",
       "      <td>9.709287e+06</td>\n",
       "      <td>-15830231</td>\n",
       "      <td>0.722569</td>\n",
       "      <td>20.690961</td>\n",
       "      <td>14.022898</td>\n",
       "      <td>20.994964</td>\n",
       "      <td>-0.277004</td>\n",
       "      <td>0.114314</td>\n",
       "      <td>-0.391318</td>\n",
       "      <td>-0.000835</td>\n",
       "      <td>-0.052233</td>\n",
       "      <td>-0.067810</td>\n",
       "      <td>-0.012471</td>\n",
       "      <td>-0.011127</td>\n",
       "      <td>0.022509</td>\n",
       "    </tr>\n",
       "    <tr>\n",
       "      <th>1</th>\n",
       "      <td>EXPE</td>\n",
       "      <td>46.178586</td>\n",
       "      <td>75.398633</td>\n",
       "      <td>75.161786</td>\n",
       "      <td>9.834478e+06</td>\n",
       "      <td>-14344471</td>\n",
       "      <td>0.715886</td>\n",
       "      <td>20.534173</td>\n",
       "      <td>13.482935</td>\n",
       "      <td>19.602367</td>\n",
       "      <td>-0.250224</td>\n",
       "      <td>0.112875</td>\n",
       "      <td>-0.363099</td>\n",
       "      <td>-0.020659</td>\n",
       "      <td>-0.073085</td>\n",
       "      <td>-0.098226</td>\n",
       "      <td>0.008501</td>\n",
       "      <td>-0.005379</td>\n",
       "      <td>0.038664</td>\n",
       "    </tr>\n",
       "    <tr>\n",
       "      <th>2</th>\n",
       "      <td>EXPE</td>\n",
       "      <td>49.184755</td>\n",
       "      <td>70.570202</td>\n",
       "      <td>69.826127</td>\n",
       "      <td>9.697715e+06</td>\n",
       "      <td>-12954570</td>\n",
       "      <td>0.727180</td>\n",
       "      <td>19.480802</td>\n",
       "      <td>15.881389</td>\n",
       "      <td>17.832398</td>\n",
       "      <td>-0.213786</td>\n",
       "      <td>0.119450</td>\n",
       "      <td>-0.333236</td>\n",
       "      <td>-0.046369</td>\n",
       "      <td>-0.097911</td>\n",
       "      <td>-0.107436</td>\n",
       "      <td>0.007698</td>\n",
       "      <td>0.008681</td>\n",
       "      <td>0.039140</td>\n",
       "    </tr>\n",
       "    <tr>\n",
       "      <th>3</th>\n",
       "      <td>EXPE</td>\n",
       "      <td>43.299838</td>\n",
       "      <td>48.681790</td>\n",
       "      <td>64.883542</td>\n",
       "      <td>9.915172e+06</td>\n",
       "      <td>-17440639</td>\n",
       "      <td>0.721595</td>\n",
       "      <td>19.025014</td>\n",
       "      <td>14.811879</td>\n",
       "      <td>19.277514</td>\n",
       "      <td>-0.211281</td>\n",
       "      <td>0.097564</td>\n",
       "      <td>-0.308845</td>\n",
       "      <td>-0.048118</td>\n",
       "      <td>-0.089889</td>\n",
       "      <td>-0.088905</td>\n",
       "      <td>-0.017261</td>\n",
       "      <td>-0.007035</td>\n",
       "      <td>-0.004311</td>\n",
       "    </tr>\n",
       "    <tr>\n",
       "      <th>4</th>\n",
       "      <td>EXPE</td>\n",
       "      <td>44.007176</td>\n",
       "      <td>50.585336</td>\n",
       "      <td>56.612443</td>\n",
       "      <td>8.500761e+06</td>\n",
       "      <td>-15246452</td>\n",
       "      <td>0.725124</td>\n",
       "      <td>17.675142</td>\n",
       "      <td>17.793435</td>\n",
       "      <td>17.748366</td>\n",
       "      <td>-0.204119</td>\n",
       "      <td>0.083781</td>\n",
       "      <td>-0.287900</td>\n",
       "      <td>-0.047397</td>\n",
       "      <td>-0.093320</td>\n",
       "      <td>-0.081336</td>\n",
       "      <td>0.001722</td>\n",
       "      <td>-0.012034</td>\n",
       "      <td>-0.000491</td>\n",
       "    </tr>\n",
       "  </tbody>\n",
       "</table>\n",
       "</div>"
      ],
      "text/plain": [
       "  ticker        RSI  Stochastic  Stochastic_signal           ADI       OBV  \\\n",
       "0   EXPE  42.734140   63.509545          76.974787  9.709287e+06 -15830231   \n",
       "1   EXPE  46.178586   75.398633          75.161786  9.834478e+06 -14344471   \n",
       "2   EXPE  49.184755   70.570202          69.826127  9.697715e+06 -12954570   \n",
       "3   EXPE  43.299838   48.681790          64.883542  9.915172e+06 -17440639   \n",
       "4   EXPE  44.007176   50.585336          56.612443  8.500761e+06 -15246452   \n",
       "\n",
       "        ATR        ADX    ADX_pos    ADX_neg      MACD  MACD_diff  \\\n",
       "0  0.722569  20.690961  14.022898  20.994964 -0.277004   0.114314   \n",
       "1  0.715886  20.534173  13.482935  19.602367 -0.250224   0.112875   \n",
       "2  0.727180  19.480802  15.881389  17.832398 -0.213786   0.119450   \n",
       "3  0.721595  19.025014  14.811879  19.277514 -0.211281   0.097564   \n",
       "4  0.725124  17.675142  17.793435  17.748366 -0.204119   0.083781   \n",
       "\n",
       "   MACD_signal  5TD_return  10TD_return  20TD_return  1D_past_return  \\\n",
       "0    -0.391318   -0.000835    -0.052233    -0.067810       -0.012471   \n",
       "1    -0.363099   -0.020659    -0.073085    -0.098226        0.008501   \n",
       "2    -0.333236   -0.046369    -0.097911    -0.107436        0.007698   \n",
       "3    -0.308845   -0.048118    -0.089889    -0.088905       -0.017261   \n",
       "4    -0.287900   -0.047397    -0.093320    -0.081336        0.001722   \n",
       "\n",
       "   5D_past_return  10D_past_return  \n",
       "0       -0.011127         0.022509  \n",
       "1       -0.005379         0.038664  \n",
       "2        0.008681         0.039140  \n",
       "3       -0.007035        -0.004311  \n",
       "4       -0.012034        -0.000491  "
      ]
     },
     "execution_count": 24,
     "metadata": {},
     "output_type": "execute_result"
    }
   ],
   "source": [
    "joined_df[:5].drop(columns=['date', '5D_return_bin' , '10D_return_bin' , '20D_return_bin'])"
   ]
  },
  {
   "cell_type": "code",
   "execution_count": 22,
   "metadata": {
    "ExecuteTime": {
     "end_time": "2021-02-16T14:26:25.627401Z",
     "start_time": "2021-02-16T14:26:25.510904Z"
    }
   },
   "outputs": [
    {
     "data": {
      "text/html": [
       "<div>\n",
       "<style scoped>\n",
       "    .dataframe tbody tr th:only-of-type {\n",
       "        vertical-align: middle;\n",
       "    }\n",
       "\n",
       "    .dataframe tbody tr th {\n",
       "        vertical-align: top;\n",
       "    }\n",
       "\n",
       "    .dataframe thead th {\n",
       "        text-align: right;\n",
       "    }\n",
       "</style>\n",
       "<table border=\"1\" class=\"dataframe\">\n",
       "  <thead>\n",
       "    <tr style=\"text-align: right;\">\n",
       "      <th></th>\n",
       "      <th>RSI</th>\n",
       "      <th>Stochastic</th>\n",
       "      <th>Stochastic_signal</th>\n",
       "      <th>ADI</th>\n",
       "      <th>OBV</th>\n",
       "      <th>ATR</th>\n",
       "      <th>ADX</th>\n",
       "      <th>ADX_pos</th>\n",
       "      <th>ADX_neg</th>\n",
       "      <th>MACD</th>\n",
       "      <th>...</th>\n",
       "      <th>MACD_signal</th>\n",
       "      <th>5TD_return</th>\n",
       "      <th>10TD_return</th>\n",
       "      <th>20TD_return</th>\n",
       "      <th>1D_past_return</th>\n",
       "      <th>5D_past_return</th>\n",
       "      <th>10D_past_return</th>\n",
       "      <th>5D_return_bin</th>\n",
       "      <th>10D_return_bin</th>\n",
       "      <th>20D_return_bin</th>\n",
       "    </tr>\n",
       "  </thead>\n",
       "  <tbody>\n",
       "    <tr>\n",
       "      <th>count</th>\n",
       "      <td>15000.000000</td>\n",
       "      <td>15000.000000</td>\n",
       "      <td>15000.000000</td>\n",
       "      <td>1.500000e+04</td>\n",
       "      <td>1.500000e+04</td>\n",
       "      <td>15000.000000</td>\n",
       "      <td>15000.000000</td>\n",
       "      <td>15000.000000</td>\n",
       "      <td>15000.000000</td>\n",
       "      <td>15000.000000</td>\n",
       "      <td>...</td>\n",
       "      <td>15000.000000</td>\n",
       "      <td>15000.000000</td>\n",
       "      <td>15000.000000</td>\n",
       "      <td>15000.000000</td>\n",
       "      <td>15000.000000</td>\n",
       "      <td>15000.000000</td>\n",
       "      <td>15000.000000</td>\n",
       "      <td>15000.000000</td>\n",
       "      <td>15000.000000</td>\n",
       "      <td>15000.000000</td>\n",
       "    </tr>\n",
       "    <tr>\n",
       "      <th>mean</th>\n",
       "      <td>53.185938</td>\n",
       "      <td>54.683897</td>\n",
       "      <td>54.696552</td>\n",
       "      <td>5.551265e+07</td>\n",
       "      <td>5.253682e+08</td>\n",
       "      <td>1.007195</td>\n",
       "      <td>25.543726</td>\n",
       "      <td>24.495472</td>\n",
       "      <td>21.809008</td>\n",
       "      <td>0.168581</td>\n",
       "      <td>...</td>\n",
       "      <td>0.166828</td>\n",
       "      <td>0.006790</td>\n",
       "      <td>0.013235</td>\n",
       "      <td>0.026506</td>\n",
       "      <td>0.001383</td>\n",
       "      <td>0.006851</td>\n",
       "      <td>0.013488</td>\n",
       "      <td>0.530333</td>\n",
       "      <td>0.546667</td>\n",
       "      <td>0.577733</td>\n",
       "    </tr>\n",
       "    <tr>\n",
       "      <th>std</th>\n",
       "      <td>12.360950</td>\n",
       "      <td>29.753463</td>\n",
       "      <td>27.675500</td>\n",
       "      <td>2.382615e+08</td>\n",
       "      <td>4.993501e+08</td>\n",
       "      <td>1.394583</td>\n",
       "      <td>9.839694</td>\n",
       "      <td>8.009109</td>\n",
       "      <td>7.943869</td>\n",
       "      <td>1.400980</td>\n",
       "      <td>...</td>\n",
       "      <td>1.317447</td>\n",
       "      <td>0.067996</td>\n",
       "      <td>0.093099</td>\n",
       "      <td>0.132599</td>\n",
       "      <td>0.030679</td>\n",
       "      <td>0.068010</td>\n",
       "      <td>0.093178</td>\n",
       "      <td>0.499096</td>\n",
       "      <td>0.497834</td>\n",
       "      <td>0.493937</td>\n",
       "    </tr>\n",
       "    <tr>\n",
       "      <th>min</th>\n",
       "      <td>12.967990</td>\n",
       "      <td>0.000000</td>\n",
       "      <td>0.000000</td>\n",
       "      <td>-5.208644e+08</td>\n",
       "      <td>-8.665574e+07</td>\n",
       "      <td>0.008254</td>\n",
       "      <td>6.966032</td>\n",
       "      <td>3.855319</td>\n",
       "      <td>3.337453</td>\n",
       "      <td>-14.806819</td>\n",
       "      <td>...</td>\n",
       "      <td>-13.141762</td>\n",
       "      <td>-0.363020</td>\n",
       "      <td>-0.412269</td>\n",
       "      <td>-0.495251</td>\n",
       "      <td>-0.319309</td>\n",
       "      <td>-0.363020</td>\n",
       "      <td>-0.412269</td>\n",
       "      <td>0.000000</td>\n",
       "      <td>0.000000</td>\n",
       "      <td>0.000000</td>\n",
       "    </tr>\n",
       "    <tr>\n",
       "      <th>25%</th>\n",
       "      <td>44.681479</td>\n",
       "      <td>28.238931</td>\n",
       "      <td>29.778688</td>\n",
       "      <td>-2.619868e+07</td>\n",
       "      <td>1.932512e+08</td>\n",
       "      <td>0.106528</td>\n",
       "      <td>17.956708</td>\n",
       "      <td>18.709589</td>\n",
       "      <td>16.032753</td>\n",
       "      <td>-0.066497</td>\n",
       "      <td>...</td>\n",
       "      <td>-0.057162</td>\n",
       "      <td>-0.027941</td>\n",
       "      <td>-0.036733</td>\n",
       "      <td>-0.046580</td>\n",
       "      <td>-0.012281</td>\n",
       "      <td>-0.027873</td>\n",
       "      <td>-0.036590</td>\n",
       "      <td>0.000000</td>\n",
       "      <td>0.000000</td>\n",
       "      <td>0.000000</td>\n",
       "    </tr>\n",
       "    <tr>\n",
       "      <th>50%</th>\n",
       "      <td>53.398430</td>\n",
       "      <td>57.791708</td>\n",
       "      <td>57.623414</td>\n",
       "      <td>8.102705e+07</td>\n",
       "      <td>3.533254e+08</td>\n",
       "      <td>0.553692</td>\n",
       "      <td>23.492767</td>\n",
       "      <td>24.029580</td>\n",
       "      <td>21.048276</td>\n",
       "      <td>0.030283</td>\n",
       "      <td>...</td>\n",
       "      <td>0.031403</td>\n",
       "      <td>0.004977</td>\n",
       "      <td>0.009632</td>\n",
       "      <td>0.022406</td>\n",
       "      <td>0.000000</td>\n",
       "      <td>0.005027</td>\n",
       "      <td>0.009852</td>\n",
       "      <td>1.000000</td>\n",
       "      <td>1.000000</td>\n",
       "      <td>1.000000</td>\n",
       "    </tr>\n",
       "    <tr>\n",
       "      <th>75%</th>\n",
       "      <td>62.292830</td>\n",
       "      <td>81.525470</td>\n",
       "      <td>80.142921</td>\n",
       "      <td>2.358983e+08</td>\n",
       "      <td>7.632566e+08</td>\n",
       "      <td>1.317764</td>\n",
       "      <td>31.528766</td>\n",
       "      <td>29.697733</td>\n",
       "      <td>26.781314</td>\n",
       "      <td>0.396850</td>\n",
       "      <td>...</td>\n",
       "      <td>0.388583</td>\n",
       "      <td>0.038673</td>\n",
       "      <td>0.058610</td>\n",
       "      <td>0.093757</td>\n",
       "      <td>0.014175</td>\n",
       "      <td>0.038766</td>\n",
       "      <td>0.058873</td>\n",
       "      <td>1.000000</td>\n",
       "      <td>1.000000</td>\n",
       "      <td>1.000000</td>\n",
       "    </tr>\n",
       "    <tr>\n",
       "      <th>max</th>\n",
       "      <td>92.723690</td>\n",
       "      <td>100.000000</td>\n",
       "      <td>100.000000</td>\n",
       "      <td>5.232538e+08</td>\n",
       "      <td>2.144365e+09</td>\n",
       "      <td>10.303264</td>\n",
       "      <td>71.639701</td>\n",
       "      <td>60.101104</td>\n",
       "      <td>57.017484</td>\n",
       "      <td>12.361145</td>\n",
       "      <td>...</td>\n",
       "      <td>11.815703</td>\n",
       "      <td>0.577686</td>\n",
       "      <td>0.680174</td>\n",
       "      <td>1.167321</td>\n",
       "      <td>0.463253</td>\n",
       "      <td>0.577686</td>\n",
       "      <td>0.680174</td>\n",
       "      <td>1.000000</td>\n",
       "      <td>1.000000</td>\n",
       "      <td>1.000000</td>\n",
       "    </tr>\n",
       "  </tbody>\n",
       "</table>\n",
       "<p>8 rows × 21 columns</p>\n",
       "</div>"
      ],
      "text/plain": [
       "                RSI    Stochastic  Stochastic_signal           ADI  \\\n",
       "count  15000.000000  15000.000000       15000.000000  1.500000e+04   \n",
       "mean      53.185938     54.683897          54.696552  5.551265e+07   \n",
       "std       12.360950     29.753463          27.675500  2.382615e+08   \n",
       "min       12.967990      0.000000           0.000000 -5.208644e+08   \n",
       "25%       44.681479     28.238931          29.778688 -2.619868e+07   \n",
       "50%       53.398430     57.791708          57.623414  8.102705e+07   \n",
       "75%       62.292830     81.525470          80.142921  2.358983e+08   \n",
       "max       92.723690    100.000000         100.000000  5.232538e+08   \n",
       "\n",
       "                OBV           ATR           ADX       ADX_pos       ADX_neg  \\\n",
       "count  1.500000e+04  15000.000000  15000.000000  15000.000000  15000.000000   \n",
       "mean   5.253682e+08      1.007195     25.543726     24.495472     21.809008   \n",
       "std    4.993501e+08      1.394583      9.839694      8.009109      7.943869   \n",
       "min   -8.665574e+07      0.008254      6.966032      3.855319      3.337453   \n",
       "25%    1.932512e+08      0.106528     17.956708     18.709589     16.032753   \n",
       "50%    3.533254e+08      0.553692     23.492767     24.029580     21.048276   \n",
       "75%    7.632566e+08      1.317764     31.528766     29.697733     26.781314   \n",
       "max    2.144365e+09     10.303264     71.639701     60.101104     57.017484   \n",
       "\n",
       "               MACD  ...   MACD_signal    5TD_return   10TD_return  \\\n",
       "count  15000.000000  ...  15000.000000  15000.000000  15000.000000   \n",
       "mean       0.168581  ...      0.166828      0.006790      0.013235   \n",
       "std        1.400980  ...      1.317447      0.067996      0.093099   \n",
       "min      -14.806819  ...    -13.141762     -0.363020     -0.412269   \n",
       "25%       -0.066497  ...     -0.057162     -0.027941     -0.036733   \n",
       "50%        0.030283  ...      0.031403      0.004977      0.009632   \n",
       "75%        0.396850  ...      0.388583      0.038673      0.058610   \n",
       "max       12.361145  ...     11.815703      0.577686      0.680174   \n",
       "\n",
       "        20TD_return  1D_past_return  5D_past_return  10D_past_return  \\\n",
       "count  15000.000000    15000.000000    15000.000000     15000.000000   \n",
       "mean       0.026506        0.001383        0.006851         0.013488   \n",
       "std        0.132599        0.030679        0.068010         0.093178   \n",
       "min       -0.495251       -0.319309       -0.363020        -0.412269   \n",
       "25%       -0.046580       -0.012281       -0.027873        -0.036590   \n",
       "50%        0.022406        0.000000        0.005027         0.009852   \n",
       "75%        0.093757        0.014175        0.038766         0.058873   \n",
       "max        1.167321        0.463253        0.577686         0.680174   \n",
       "\n",
       "       5D_return_bin  10D_return_bin  20D_return_bin  \n",
       "count   15000.000000    15000.000000    15000.000000  \n",
       "mean        0.530333        0.546667        0.577733  \n",
       "std         0.499096        0.497834        0.493937  \n",
       "min         0.000000        0.000000        0.000000  \n",
       "25%         0.000000        0.000000        0.000000  \n",
       "50%         1.000000        1.000000        1.000000  \n",
       "75%         1.000000        1.000000        1.000000  \n",
       "max         1.000000        1.000000        1.000000  \n",
       "\n",
       "[8 rows x 21 columns]"
      ]
     },
     "execution_count": 22,
     "metadata": {},
     "output_type": "execute_result"
    }
   ],
   "source": [
    "joined_df.describe()"
   ]
  },
  {
   "cell_type": "code",
   "execution_count": 23,
   "metadata": {
    "ExecuteTime": {
     "end_time": "2021-02-16T14:26:52.067319Z",
     "start_time": "2021-02-16T14:26:51.726312Z"
    }
   },
   "outputs": [
    {
     "data": {
      "text/plain": [
       "ticker                   5\n",
       "date                  8473\n",
       "RSI                  14449\n",
       "Stochastic           14012\n",
       "Stochastic_signal    14889\n",
       "ADI                  14969\n",
       "OBV                  15000\n",
       "ATR                  15000\n",
       "ADX                  15000\n",
       "ADX_pos              14998\n",
       "ADX_neg              14997\n",
       "MACD                 15000\n",
       "MACD_diff            15000\n",
       "MACD_signal          15000\n",
       "5TD_return           14334\n",
       "10TD_return          14489\n",
       "20TD_return          14606\n",
       "1D_past_return       13799\n",
       "5D_past_return       14333\n",
       "10D_past_return      14487\n",
       "5D_return_bin            2\n",
       "10D_return_bin           2\n",
       "20D_return_bin           2\n",
       "dtype: int64"
      ]
     },
     "execution_count": 23,
     "metadata": {},
     "output_type": "execute_result"
    }
   ],
   "source": [
    "joined_df.nunique()"
   ]
  },
  {
   "cell_type": "markdown",
   "metadata": {},
   "source": [
    "**Transforming float values to int values by multiplying them by 10^6 in order to keep precision**"
   ]
  },
  {
   "cell_type": "code",
   "execution_count": 41,
   "metadata": {
    "ExecuteTime": {
     "end_time": "2021-02-16T14:43:36.435159Z",
     "start_time": "2021-02-16T14:43:36.396794Z"
    }
   },
   "outputs": [],
   "source": [
    "prepro_df = joined_df[:5].drop(columns=['date', '5D_return_bin' , '10D_return_bin' , '20D_return_bin'])\n",
    "\n",
    "list_df=\n",
    "\n",
    "for col in list(prepro_df.drop(columns='ticker')):\n",
    "    prepro_df[col] = prepro_df[col].apply(lambda x: abs(int(x * 10**6)))\n",
    "    prepro_df[col] = prepro_df[col].astype(str)\n",
    "    np.array(prepro_df[])"
   ]
  },
  {
   "cell_type": "code",
   "execution_count": 42,
   "metadata": {
    "ExecuteTime": {
     "end_time": "2021-02-16T14:43:36.978976Z",
     "start_time": "2021-02-16T14:43:36.957284Z"
    }
   },
   "outputs": [
    {
     "data": {
      "text/html": [
       "<div>\n",
       "<style scoped>\n",
       "    .dataframe tbody tr th:only-of-type {\n",
       "        vertical-align: middle;\n",
       "    }\n",
       "\n",
       "    .dataframe tbody tr th {\n",
       "        vertical-align: top;\n",
       "    }\n",
       "\n",
       "    .dataframe thead th {\n",
       "        text-align: right;\n",
       "    }\n",
       "</style>\n",
       "<table border=\"1\" class=\"dataframe\">\n",
       "  <thead>\n",
       "    <tr style=\"text-align: right;\">\n",
       "      <th></th>\n",
       "      <th>ticker</th>\n",
       "      <th>RSI</th>\n",
       "      <th>Stochastic</th>\n",
       "      <th>Stochastic_signal</th>\n",
       "      <th>ADI</th>\n",
       "      <th>OBV</th>\n",
       "      <th>ATR</th>\n",
       "      <th>ADX</th>\n",
       "      <th>ADX_pos</th>\n",
       "      <th>ADX_neg</th>\n",
       "      <th>MACD</th>\n",
       "      <th>MACD_diff</th>\n",
       "      <th>MACD_signal</th>\n",
       "      <th>5TD_return</th>\n",
       "      <th>10TD_return</th>\n",
       "      <th>20TD_return</th>\n",
       "      <th>1D_past_return</th>\n",
       "      <th>5D_past_return</th>\n",
       "      <th>10D_past_return</th>\n",
       "    </tr>\n",
       "  </thead>\n",
       "  <tbody>\n",
       "    <tr>\n",
       "      <th>0</th>\n",
       "      <td>EXPE</td>\n",
       "      <td>42734140</td>\n",
       "      <td>63509544</td>\n",
       "      <td>76974787</td>\n",
       "      <td>9709287179081</td>\n",
       "      <td>15830231000000</td>\n",
       "      <td>722569</td>\n",
       "      <td>20690961</td>\n",
       "      <td>14022897</td>\n",
       "      <td>20994964</td>\n",
       "      <td>277003</td>\n",
       "      <td>114313</td>\n",
       "      <td>391317</td>\n",
       "      <td>835</td>\n",
       "      <td>52233</td>\n",
       "      <td>67809</td>\n",
       "      <td>12470</td>\n",
       "      <td>11127</td>\n",
       "      <td>22509</td>\n",
       "    </tr>\n",
       "    <tr>\n",
       "      <th>1</th>\n",
       "      <td>EXPE</td>\n",
       "      <td>46178586</td>\n",
       "      <td>75398633</td>\n",
       "      <td>75161786</td>\n",
       "      <td>9834478403247</td>\n",
       "      <td>14344471000000</td>\n",
       "      <td>715885</td>\n",
       "      <td>20534173</td>\n",
       "      <td>13482935</td>\n",
       "      <td>19602367</td>\n",
       "      <td>250223</td>\n",
       "      <td>112875</td>\n",
       "      <td>363098</td>\n",
       "      <td>20658</td>\n",
       "      <td>73085</td>\n",
       "      <td>98226</td>\n",
       "      <td>8500</td>\n",
       "      <td>5379</td>\n",
       "      <td>38663</td>\n",
       "    </tr>\n",
       "    <tr>\n",
       "      <th>2</th>\n",
       "      <td>EXPE</td>\n",
       "      <td>49184754</td>\n",
       "      <td>70570202</td>\n",
       "      <td>69826126</td>\n",
       "      <td>9697714689288</td>\n",
       "      <td>12954570000000</td>\n",
       "      <td>727179</td>\n",
       "      <td>19480801</td>\n",
       "      <td>15881389</td>\n",
       "      <td>17832398</td>\n",
       "      <td>213786</td>\n",
       "      <td>119449</td>\n",
       "      <td>333236</td>\n",
       "      <td>46368</td>\n",
       "      <td>97911</td>\n",
       "      <td>107436</td>\n",
       "      <td>7698</td>\n",
       "      <td>8681</td>\n",
       "      <td>39139</td>\n",
       "    </tr>\n",
       "    <tr>\n",
       "      <th>3</th>\n",
       "      <td>EXPE</td>\n",
       "      <td>43299838</td>\n",
       "      <td>48681790</td>\n",
       "      <td>64883541</td>\n",
       "      <td>9915172253022</td>\n",
       "      <td>17440639000000</td>\n",
       "      <td>721595</td>\n",
       "      <td>19025014</td>\n",
       "      <td>14811878</td>\n",
       "      <td>19277513</td>\n",
       "      <td>211281</td>\n",
       "      <td>97564</td>\n",
       "      <td>308845</td>\n",
       "      <td>48118</td>\n",
       "      <td>89889</td>\n",
       "      <td>88905</td>\n",
       "      <td>17261</td>\n",
       "      <td>7035</td>\n",
       "      <td>4310</td>\n",
       "    </tr>\n",
       "    <tr>\n",
       "      <th>4</th>\n",
       "      <td>EXPE</td>\n",
       "      <td>44007175</td>\n",
       "      <td>50585335</td>\n",
       "      <td>56612442</td>\n",
       "      <td>8500761177795</td>\n",
       "      <td>15246452000000</td>\n",
       "      <td>725124</td>\n",
       "      <td>17675142</td>\n",
       "      <td>17793435</td>\n",
       "      <td>17748365</td>\n",
       "      <td>204118</td>\n",
       "      <td>83781</td>\n",
       "      <td>287899</td>\n",
       "      <td>47396</td>\n",
       "      <td>93320</td>\n",
       "      <td>81335</td>\n",
       "      <td>1722</td>\n",
       "      <td>12034</td>\n",
       "      <td>490</td>\n",
       "    </tr>\n",
       "  </tbody>\n",
       "</table>\n",
       "</div>"
      ],
      "text/plain": [
       "  ticker       RSI Stochastic Stochastic_signal            ADI  \\\n",
       "0   EXPE  42734140   63509544          76974787  9709287179081   \n",
       "1   EXPE  46178586   75398633          75161786  9834478403247   \n",
       "2   EXPE  49184754   70570202          69826126  9697714689288   \n",
       "3   EXPE  43299838   48681790          64883541  9915172253022   \n",
       "4   EXPE  44007175   50585335          56612442  8500761177795   \n",
       "\n",
       "              OBV     ATR       ADX   ADX_pos   ADX_neg    MACD MACD_diff  \\\n",
       "0  15830231000000  722569  20690961  14022897  20994964  277003    114313   \n",
       "1  14344471000000  715885  20534173  13482935  19602367  250223    112875   \n",
       "2  12954570000000  727179  19480801  15881389  17832398  213786    119449   \n",
       "3  17440639000000  721595  19025014  14811878  19277513  211281     97564   \n",
       "4  15246452000000  725124  17675142  17793435  17748365  204118     83781   \n",
       "\n",
       "  MACD_signal 5TD_return 10TD_return 20TD_return 1D_past_return  \\\n",
       "0      391317        835       52233       67809          12470   \n",
       "1      363098      20658       73085       98226           8500   \n",
       "2      333236      46368       97911      107436           7698   \n",
       "3      308845      48118       89889       88905          17261   \n",
       "4      287899      47396       93320       81335           1722   \n",
       "\n",
       "  5D_past_return 10D_past_return  \n",
       "0          11127           22509  \n",
       "1           5379           38663  \n",
       "2           8681           39139  \n",
       "3           7035            4310  \n",
       "4          12034             490  "
      ]
     },
     "execution_count": 42,
     "metadata": {},
     "output_type": "execute_result"
    }
   ],
   "source": [
    "prepro_df"
   ]
  },
  {
   "cell_type": "code",
   "execution_count": 49,
   "metadata": {
    "ExecuteTime": {
     "end_time": "2021-02-16T14:49:46.527174Z",
     "start_time": "2021-02-16T14:49:46.516661Z"
    }
   },
   "outputs": [
    {
     "data": {
      "text/plain": [
       "'EXPE'"
      ]
     },
     "execution_count": 49,
     "metadata": {},
     "output_type": "execute_result"
    }
   ],
   "source": [
    "embed_test_df = prepro_df[:5]\n",
    "\n",
    "\n",
    "#embed_test_df = \n",
    "list(np.array(prepro_df[:5]))[0][0] = '007'\n",
    "list(np.array(prepro_df[:5]))[0][0]"
   ]
  },
  {
   "cell_type": "code",
   "execution_count": null,
   "metadata": {},
   "outputs": [],
   "source": [
    "value_to_id = {}\n",
    "iter_ = 1\n",
    "for sentence in X_clean_train:\n",
    "    for word in sentence:\n",
    "        if word in word_to_id:\n",
    "            continue\n",
    "        word_to_id[word] = iter_\n",
    "        iter_ += 1"
   ]
  },
  {
   "cell_type": "code",
   "execution_count": 39,
   "metadata": {
    "ExecuteTime": {
     "end_time": "2021-02-16T14:40:00.844070Z",
     "start_time": "2021-02-16T14:40:00.489121Z"
    }
   },
   "outputs": [
    {
     "ename": "InvalidArgumentError",
     "evalue": " indices[0,1] = 42734140 is not in [0, 6)\n\t [[node sequential_7/embedding_5/embedding_lookup (defined at <ipython-input-39-c8762814025c>:8) ]] [Op:__inference_predict_function_477]\n\nErrors may have originated from an input operation.\nInput Source operations connected to node sequential_7/embedding_5/embedding_lookup:\n sequential_7/embedding_5/embedding_lookup/469 (defined at /home/bob/.pyenv/versions/3.7.7/lib/python3.7/contextlib.py:112)\n\nFunction call stack:\npredict_function\n",
     "output_type": "error",
     "traceback": [
      "\u001b[0;31m---------------------------------------------------------------------------\u001b[0m",
      "\u001b[0;31mInvalidArgumentError\u001b[0m                      Traceback (most recent call last)",
      "\u001b[0;32m<ipython-input-39-c8762814025c>\u001b[0m in \u001b[0;36m<module>\u001b[0;34m\u001b[0m\n\u001b[1;32m      6\u001b[0m \u001b[0minput_array\u001b[0m \u001b[0;34m=\u001b[0m \u001b[0mnp\u001b[0m\u001b[0;34m.\u001b[0m\u001b[0marray\u001b[0m\u001b[0;34m(\u001b[0m\u001b[0membed_test_df\u001b[0m\u001b[0;34m)\u001b[0m\u001b[0;34m\u001b[0m\u001b[0;34m\u001b[0m\u001b[0m\n\u001b[1;32m      7\u001b[0m \u001b[0mmodel\u001b[0m\u001b[0;34m.\u001b[0m\u001b[0mcompile\u001b[0m\u001b[0;34m(\u001b[0m\u001b[0;34m'rmsprop'\u001b[0m\u001b[0;34m,\u001b[0m \u001b[0;34m'mse'\u001b[0m\u001b[0;34m)\u001b[0m\u001b[0;34m\u001b[0m\u001b[0;34m\u001b[0m\u001b[0m\n\u001b[0;32m----> 8\u001b[0;31m \u001b[0moutput_array\u001b[0m \u001b[0;34m=\u001b[0m \u001b[0mmodel\u001b[0m\u001b[0;34m.\u001b[0m\u001b[0mpredict\u001b[0m\u001b[0;34m(\u001b[0m\u001b[0minput_array\u001b[0m\u001b[0;34m)\u001b[0m\u001b[0;34m\u001b[0m\u001b[0;34m\u001b[0m\u001b[0m\n\u001b[0m",
      "\u001b[0;32m~/.pyenv/versions/3.7.7/envs/lewagon/lib/python3.7/site-packages/tensorflow/python/keras/engine/training.py\u001b[0m in \u001b[0;36m_method_wrapper\u001b[0;34m(self, *args, **kwargs)\u001b[0m\n\u001b[1;32m    128\u001b[0m       raise ValueError('{} is not supported in multi-worker mode.'.format(\n\u001b[1;32m    129\u001b[0m           method.__name__))\n\u001b[0;32m--> 130\u001b[0;31m     \u001b[0;32mreturn\u001b[0m \u001b[0mmethod\u001b[0m\u001b[0;34m(\u001b[0m\u001b[0mself\u001b[0m\u001b[0;34m,\u001b[0m \u001b[0;34m*\u001b[0m\u001b[0margs\u001b[0m\u001b[0;34m,\u001b[0m \u001b[0;34m**\u001b[0m\u001b[0mkwargs\u001b[0m\u001b[0;34m)\u001b[0m\u001b[0;34m\u001b[0m\u001b[0;34m\u001b[0m\u001b[0m\n\u001b[0m\u001b[1;32m    131\u001b[0m \u001b[0;34m\u001b[0m\u001b[0m\n\u001b[1;32m    132\u001b[0m   return tf_decorator.make_decorator(\n",
      "\u001b[0;32m~/.pyenv/versions/3.7.7/envs/lewagon/lib/python3.7/site-packages/tensorflow/python/keras/engine/training.py\u001b[0m in \u001b[0;36mpredict\u001b[0;34m(self, x, batch_size, verbose, steps, callbacks, max_queue_size, workers, use_multiprocessing)\u001b[0m\n\u001b[1;32m   1597\u001b[0m           \u001b[0;32mfor\u001b[0m \u001b[0mstep\u001b[0m \u001b[0;32min\u001b[0m \u001b[0mdata_handler\u001b[0m\u001b[0;34m.\u001b[0m\u001b[0msteps\u001b[0m\u001b[0;34m(\u001b[0m\u001b[0;34m)\u001b[0m\u001b[0;34m:\u001b[0m\u001b[0;34m\u001b[0m\u001b[0;34m\u001b[0m\u001b[0m\n\u001b[1;32m   1598\u001b[0m             \u001b[0mcallbacks\u001b[0m\u001b[0;34m.\u001b[0m\u001b[0mon_predict_batch_begin\u001b[0m\u001b[0;34m(\u001b[0m\u001b[0mstep\u001b[0m\u001b[0;34m)\u001b[0m\u001b[0;34m\u001b[0m\u001b[0;34m\u001b[0m\u001b[0m\n\u001b[0;32m-> 1599\u001b[0;31m             \u001b[0mtmp_batch_outputs\u001b[0m \u001b[0;34m=\u001b[0m \u001b[0mpredict_function\u001b[0m\u001b[0;34m(\u001b[0m\u001b[0miterator\u001b[0m\u001b[0;34m)\u001b[0m\u001b[0;34m\u001b[0m\u001b[0;34m\u001b[0m\u001b[0m\n\u001b[0m\u001b[1;32m   1600\u001b[0m             \u001b[0;32mif\u001b[0m \u001b[0mdata_handler\u001b[0m\u001b[0;34m.\u001b[0m\u001b[0mshould_sync\u001b[0m\u001b[0;34m:\u001b[0m\u001b[0;34m\u001b[0m\u001b[0;34m\u001b[0m\u001b[0m\n\u001b[1;32m   1601\u001b[0m               \u001b[0mcontext\u001b[0m\u001b[0;34m.\u001b[0m\u001b[0masync_wait\u001b[0m\u001b[0;34m(\u001b[0m\u001b[0;34m)\u001b[0m\u001b[0;34m\u001b[0m\u001b[0;34m\u001b[0m\u001b[0m\n",
      "\u001b[0;32m~/.pyenv/versions/3.7.7/envs/lewagon/lib/python3.7/site-packages/tensorflow/python/eager/def_function.py\u001b[0m in \u001b[0;36m__call__\u001b[0;34m(self, *args, **kwds)\u001b[0m\n\u001b[1;32m    778\u001b[0m       \u001b[0;32melse\u001b[0m\u001b[0;34m:\u001b[0m\u001b[0;34m\u001b[0m\u001b[0;34m\u001b[0m\u001b[0m\n\u001b[1;32m    779\u001b[0m         \u001b[0mcompiler\u001b[0m \u001b[0;34m=\u001b[0m \u001b[0;34m\"nonXla\"\u001b[0m\u001b[0;34m\u001b[0m\u001b[0;34m\u001b[0m\u001b[0m\n\u001b[0;32m--> 780\u001b[0;31m         \u001b[0mresult\u001b[0m \u001b[0;34m=\u001b[0m \u001b[0mself\u001b[0m\u001b[0;34m.\u001b[0m\u001b[0m_call\u001b[0m\u001b[0;34m(\u001b[0m\u001b[0;34m*\u001b[0m\u001b[0margs\u001b[0m\u001b[0;34m,\u001b[0m \u001b[0;34m**\u001b[0m\u001b[0mkwds\u001b[0m\u001b[0;34m)\u001b[0m\u001b[0;34m\u001b[0m\u001b[0;34m\u001b[0m\u001b[0m\n\u001b[0m\u001b[1;32m    781\u001b[0m \u001b[0;34m\u001b[0m\u001b[0m\n\u001b[1;32m    782\u001b[0m       \u001b[0mnew_tracing_count\u001b[0m \u001b[0;34m=\u001b[0m \u001b[0mself\u001b[0m\u001b[0;34m.\u001b[0m\u001b[0m_get_tracing_count\u001b[0m\u001b[0;34m(\u001b[0m\u001b[0;34m)\u001b[0m\u001b[0;34m\u001b[0m\u001b[0;34m\u001b[0m\u001b[0m\n",
      "\u001b[0;32m~/.pyenv/versions/3.7.7/envs/lewagon/lib/python3.7/site-packages/tensorflow/python/eager/def_function.py\u001b[0m in \u001b[0;36m_call\u001b[0;34m(self, *args, **kwds)\u001b[0m\n\u001b[1;32m    844\u001b[0m               *args, **kwds)\n\u001b[1;32m    845\u001b[0m       \u001b[0;31m# If we did not create any variables the trace we have is good enough.\u001b[0m\u001b[0;34m\u001b[0m\u001b[0;34m\u001b[0m\u001b[0;34m\u001b[0m\u001b[0m\n\u001b[0;32m--> 846\u001b[0;31m       \u001b[0;32mreturn\u001b[0m \u001b[0mself\u001b[0m\u001b[0;34m.\u001b[0m\u001b[0m_concrete_stateful_fn\u001b[0m\u001b[0;34m.\u001b[0m\u001b[0m_filtered_call\u001b[0m\u001b[0;34m(\u001b[0m\u001b[0mcanon_args\u001b[0m\u001b[0;34m,\u001b[0m \u001b[0mcanon_kwds\u001b[0m\u001b[0;34m)\u001b[0m  \u001b[0;31m# pylint: disable=protected-access\u001b[0m\u001b[0;34m\u001b[0m\u001b[0;34m\u001b[0m\u001b[0m\n\u001b[0m\u001b[1;32m    847\u001b[0m \u001b[0;34m\u001b[0m\u001b[0m\n\u001b[1;32m    848\u001b[0m     \u001b[0;32mdef\u001b[0m \u001b[0mfn_with_cond\u001b[0m\u001b[0;34m(\u001b[0m\u001b[0;34m*\u001b[0m\u001b[0minner_args\u001b[0m\u001b[0;34m,\u001b[0m \u001b[0;34m**\u001b[0m\u001b[0minner_kwds\u001b[0m\u001b[0;34m)\u001b[0m\u001b[0;34m:\u001b[0m\u001b[0;34m\u001b[0m\u001b[0;34m\u001b[0m\u001b[0m\n",
      "\u001b[0;32m~/.pyenv/versions/3.7.7/envs/lewagon/lib/python3.7/site-packages/tensorflow/python/eager/function.py\u001b[0m in \u001b[0;36m_filtered_call\u001b[0;34m(self, args, kwargs, cancellation_manager)\u001b[0m\n\u001b[1;32m   1846\u001b[0m                            resource_variable_ops.BaseResourceVariable))],\n\u001b[1;32m   1847\u001b[0m         \u001b[0mcaptured_inputs\u001b[0m\u001b[0;34m=\u001b[0m\u001b[0mself\u001b[0m\u001b[0;34m.\u001b[0m\u001b[0mcaptured_inputs\u001b[0m\u001b[0;34m,\u001b[0m\u001b[0;34m\u001b[0m\u001b[0;34m\u001b[0m\u001b[0m\n\u001b[0;32m-> 1848\u001b[0;31m         cancellation_manager=cancellation_manager)\n\u001b[0m\u001b[1;32m   1849\u001b[0m \u001b[0;34m\u001b[0m\u001b[0m\n\u001b[1;32m   1850\u001b[0m   \u001b[0;32mdef\u001b[0m \u001b[0m_call_flat\u001b[0m\u001b[0;34m(\u001b[0m\u001b[0mself\u001b[0m\u001b[0;34m,\u001b[0m \u001b[0margs\u001b[0m\u001b[0;34m,\u001b[0m \u001b[0mcaptured_inputs\u001b[0m\u001b[0;34m,\u001b[0m \u001b[0mcancellation_manager\u001b[0m\u001b[0;34m=\u001b[0m\u001b[0;32mNone\u001b[0m\u001b[0;34m)\u001b[0m\u001b[0;34m:\u001b[0m\u001b[0;34m\u001b[0m\u001b[0;34m\u001b[0m\u001b[0m\n",
      "\u001b[0;32m~/.pyenv/versions/3.7.7/envs/lewagon/lib/python3.7/site-packages/tensorflow/python/eager/function.py\u001b[0m in \u001b[0;36m_call_flat\u001b[0;34m(self, args, captured_inputs, cancellation_manager)\u001b[0m\n\u001b[1;32m   1922\u001b[0m       \u001b[0;31m# No tape is watching; skip to running the function.\u001b[0m\u001b[0;34m\u001b[0m\u001b[0;34m\u001b[0m\u001b[0;34m\u001b[0m\u001b[0m\n\u001b[1;32m   1923\u001b[0m       return self._build_call_outputs(self._inference_function.call(\n\u001b[0;32m-> 1924\u001b[0;31m           ctx, args, cancellation_manager=cancellation_manager))\n\u001b[0m\u001b[1;32m   1925\u001b[0m     forward_backward = self._select_forward_and_backward_functions(\n\u001b[1;32m   1926\u001b[0m         \u001b[0margs\u001b[0m\u001b[0;34m,\u001b[0m\u001b[0;34m\u001b[0m\u001b[0;34m\u001b[0m\u001b[0m\n",
      "\u001b[0;32m~/.pyenv/versions/3.7.7/envs/lewagon/lib/python3.7/site-packages/tensorflow/python/eager/function.py\u001b[0m in \u001b[0;36mcall\u001b[0;34m(self, ctx, args, cancellation_manager)\u001b[0m\n\u001b[1;32m    548\u001b[0m               \u001b[0minputs\u001b[0m\u001b[0;34m=\u001b[0m\u001b[0margs\u001b[0m\u001b[0;34m,\u001b[0m\u001b[0;34m\u001b[0m\u001b[0;34m\u001b[0m\u001b[0m\n\u001b[1;32m    549\u001b[0m               \u001b[0mattrs\u001b[0m\u001b[0;34m=\u001b[0m\u001b[0mattrs\u001b[0m\u001b[0;34m,\u001b[0m\u001b[0;34m\u001b[0m\u001b[0;34m\u001b[0m\u001b[0m\n\u001b[0;32m--> 550\u001b[0;31m               ctx=ctx)\n\u001b[0m\u001b[1;32m    551\u001b[0m         \u001b[0;32melse\u001b[0m\u001b[0;34m:\u001b[0m\u001b[0;34m\u001b[0m\u001b[0;34m\u001b[0m\u001b[0m\n\u001b[1;32m    552\u001b[0m           outputs = execute.execute_with_cancellation(\n",
      "\u001b[0;32m~/.pyenv/versions/3.7.7/envs/lewagon/lib/python3.7/site-packages/tensorflow/python/eager/execute.py\u001b[0m in \u001b[0;36mquick_execute\u001b[0;34m(op_name, num_outputs, inputs, attrs, ctx, name)\u001b[0m\n\u001b[1;32m     58\u001b[0m     \u001b[0mctx\u001b[0m\u001b[0;34m.\u001b[0m\u001b[0mensure_initialized\u001b[0m\u001b[0;34m(\u001b[0m\u001b[0;34m)\u001b[0m\u001b[0;34m\u001b[0m\u001b[0;34m\u001b[0m\u001b[0m\n\u001b[1;32m     59\u001b[0m     tensors = pywrap_tfe.TFE_Py_Execute(ctx._handle, device_name, op_name,\n\u001b[0;32m---> 60\u001b[0;31m                                         inputs, attrs, num_outputs)\n\u001b[0m\u001b[1;32m     61\u001b[0m   \u001b[0;32mexcept\u001b[0m \u001b[0mcore\u001b[0m\u001b[0;34m.\u001b[0m\u001b[0m_NotOkStatusException\u001b[0m \u001b[0;32mas\u001b[0m \u001b[0me\u001b[0m\u001b[0;34m:\u001b[0m\u001b[0;34m\u001b[0m\u001b[0;34m\u001b[0m\u001b[0m\n\u001b[1;32m     62\u001b[0m     \u001b[0;32mif\u001b[0m \u001b[0mname\u001b[0m \u001b[0;32mis\u001b[0m \u001b[0;32mnot\u001b[0m \u001b[0;32mNone\u001b[0m\u001b[0;34m:\u001b[0m\u001b[0;34m\u001b[0m\u001b[0;34m\u001b[0m\u001b[0m\n",
      "\u001b[0;31mInvalidArgumentError\u001b[0m:  indices[0,1] = 42734140 is not in [0, 6)\n\t [[node sequential_7/embedding_5/embedding_lookup (defined at <ipython-input-39-c8762814025c>:8) ]] [Op:__inference_predict_function_477]\n\nErrors may have originated from an input operation.\nInput Source operations connected to node sequential_7/embedding_5/embedding_lookup:\n sequential_7/embedding_5/embedding_lookup/469 (defined at /home/bob/.pyenv/versions/3.7.7/lib/python3.7/contextlib.py:112)\n\nFunction call stack:\npredict_function\n"
     ]
    }
   ],
   "source": [
    "embed_test_df = prepro_df[:5]\n",
    "embed_test_df['ticker']=0\n",
    "\n",
    "model = Sequential()\n",
    "model.add(layers.Embedding(joined_df.ticker.nunique()+1, 64, input_length=19))\n",
    "input_array = np.array(embed_test_df)\n",
    "model.compile('rmsprop', 'mse')\n",
    "output_array = model.predict(input_array)"
   ]
  },
  {
   "cell_type": "markdown",
   "metadata": {},
   "source": [
    "### Embedding Model"
   ]
  },
  {
   "cell_type": "code",
   "execution_count": 35,
   "metadata": {
    "ExecuteTime": {
     "end_time": "2021-02-16T14:37:24.237031Z",
     "start_time": "2021-02-16T14:37:24.230235Z"
    }
   },
   "outputs": [],
   "source": [
    "def embedding(df):\n",
    "    \"\"\"\n",
    "    Embed the stocks ticker and returns a DataFrame with \n",
    "        the ticker embedded value\n",
    "    \"\"\"\n",
    "    model = Sequential()\n",
    "    model.add(layers.Embedding(df.ticker.nunique()+1, 64, input_lenght=22))\n",
    "    model.compile('rmsprop', 'mse')\n",
    "    return model    "
   ]
  },
  {
   "cell_type": "code",
   "execution_count": null,
   "metadata": {},
   "outputs": [],
   "source": []
  },
  {
   "cell_type": "code",
   "execution_count": null,
   "metadata": {},
   "outputs": [],
   "source": []
  },
  {
   "cell_type": "code",
   "execution_count": null,
   "metadata": {},
   "outputs": [],
   "source": []
  },
  {
   "cell_type": "markdown",
   "metadata": {},
   "source": [
    "## `train_x`, `train_y`, `test_x`, `test_y` Arrays Building"
   ]
  },
  {
   "cell_type": "code",
   "execution_count": 19,
   "metadata": {
    "ExecuteTime": {
     "end_time": "2021-02-13T13:23:39.999672Z",
     "start_time": "2021-02-13T13:21:54.720356Z"
    }
   },
   "outputs": [
    {
     "name": "stdout",
     "output_type": "stream",
     "text": [
      "5 Companies in Dataset\n",
      "Starting MXIM: Company 1 of 5\n",
      "Starting UAL: Company 2 of 5\n",
      "Starting ISRG: Company 3 of 5\n",
      "Starting ULTA: Company 4 of 5\n",
      "Starting MDLZ: Company 5 of 5\n",
      "All Companies Completed\n",
      "\n",
      "Processing Stats: {'MXIM': {'train_possible_windows': 2687.0, 'train_outliers': 29, 'train_windows': 2658, 'test_possible_windows': 313.0, 'test_outliers': 29, 'test_windows': 284}, 'UAL': {'train_possible_windows': 2721.0, 'train_outliers': 123, 'train_windows': 2598, 'test_possible_windows': 279.0, 'test_outliers': 29, 'test_windows': 250}, 'ISRG': {'train_possible_windows': 2698.0, 'train_outliers': 59, 'train_windows': 2639, 'test_possible_windows': 302.0, 'test_outliers': 29, 'test_windows': 273}, 'ULTA': {'train_possible_windows': 2531.0, 'train_outliers': 29, 'train_windows': 2502, 'test_possible_windows': 469.0, 'test_outliers': 29, 'test_windows': 440}, 'MDLZ': {'train_possible_windows': 2548.0, 'train_outliers': 29, 'train_windows': 2519, 'test_possible_windows': 452.0, 'test_outliers': 29, 'test_windows': 423}}\n",
      "\n",
      "\n",
      "### Stats ###\n",
      "train_x (12916, 30, 13)\n",
      "train_y (12916, 1)\n",
      "test_x (1670, 30, 13)\n",
      "test_y (1670, 1)\n",
      "scaler RobustScaler(copy=True, quantile_range=(25.0, 75.0), with_centering=True,\n",
      "       with_scaling=True)\n",
      "\n",
      "\n",
      "### Validation ###\n"
     ]
    }
   ],
   "source": [
    "\n",
    "TARGET_COLS=['10D_return_bin']\n",
    "outlier_validation={'1D_past_return': [-0.3, 0.3]}\n",
    "\n",
    "stride = 1\n",
    "\n",
    "\n",
    "train_x, train_y, test_x, test_y, scaler = full_dataset_randomised_arrays(joined_df, \n",
    "                                                                                stride=stride, \n",
    "                                                                                input_cols=INPUT_COLS, \n",
    "                                                                                outlier_threshold=1, \n",
    "                                                                                outlier_validation=outlier_validation, \n",
    "                                                                                check_train_outliers=True,\n",
    "                                                                                check_test_outliers=False, \n",
    "                                                                                target_col=TARGET_COLS, \n",
    "                                                                                time_window=30,\n",
    "                                                                                test_set_size='2Y')\n",
    "\n",
    "print('')\n",
    "print('')\n",
    "print('### Stats ###')\n",
    "print('train_x', train_x.shape)\n",
    "print('train_y', train_y.shape)\n",
    "print('test_x', test_x.shape)\n",
    "print('test_y', test_y.shape)\n",
    "print('scaler', scaler)\n",
    "\n",
    "print('')\n",
    "print('')\n",
    "print('### Validation ###')\n"
   ]
  },
  {
   "cell_type": "markdown",
   "metadata": {},
   "source": [
    "## `X_train` & `y_train` Arrays Random Sampling"
   ]
  },
  {
   "cell_type": "code",
   "execution_count": 20,
   "metadata": {
    "ExecuteTime": {
     "end_time": "2021-02-13T13:23:40.145090Z",
     "start_time": "2021-02-13T13:23:40.080412Z"
    }
   },
   "outputs": [
    {
     "name": "stderr",
     "output_type": "stream",
     "text": [
      "/home/bob/.pyenv/versions/3.7.7/envs/lewagon/lib/python3.7/site-packages/ipykernel_launcher.py:6: FutureWarning: Using a non-tuple sequence for multidimensional indexing is deprecated; use `arr[tuple(seq)]` instead of `arr[seq]`. In the future this will be interpreted as an array index, `arr[np.array(seq)]`, which will result either in an error or a different result.\n",
      "  \n"
     ]
    }
   ],
   "source": [
    "# Samples n rows of train_x\n",
    "\n",
    "indx = list(range(len(train_x)))\n",
    "sample_indx = random.sample(indx, 10000)\n",
    "X_train_sample =  train_x[[sample_indx], :][0]\n",
    "y_train_sample = train_y[[sample_indx]]"
   ]
  },
  {
   "cell_type": "code",
   "execution_count": 21,
   "metadata": {
    "ExecuteTime": {
     "end_time": "2021-02-13T13:23:40.258153Z",
     "start_time": "2021-02-13T13:23:40.253772Z"
    }
   },
   "outputs": [
    {
     "data": {
      "text/plain": [
       "(10000, 1)"
      ]
     },
     "execution_count": 21,
     "metadata": {},
     "output_type": "execute_result"
    }
   ],
   "source": [
    "y_train_sample.shape"
   ]
  },
  {
   "cell_type": "code",
   "execution_count": 22,
   "metadata": {
    "ExecuteTime": {
     "end_time": "2021-02-13T13:23:40.364110Z",
     "start_time": "2021-02-13T13:23:40.354589Z"
    }
   },
   "outputs": [
    {
     "data": {
      "text/plain": [
       "(1670, 1)"
      ]
     },
     "execution_count": 22,
     "metadata": {},
     "output_type": "execute_result"
    }
   ],
   "source": [
    "test_y.shape"
   ]
  },
  {
   "cell_type": "markdown",
   "metadata": {},
   "source": [
    "# Modeling"
   ]
  },
  {
   "cell_type": "markdown",
   "metadata": {},
   "source": [
    "## Model (commented)"
   ]
  },
  {
   "cell_type": "markdown",
   "metadata": {
    "ExecuteTime": {
     "end_time": "2021-02-12T17:42:16.300180Z",
     "start_time": "2021-02-12T17:42:16.277492Z"
    }
   },
   "source": [
    "from tensorflow.keras.metrics import Precision\n",
    "from tensorflow.keras import regularizers\n",
    "from tensorflow.keras import Sequential\n",
    "from tensorflow.keras import layers, models \n",
    "from tensorflow.keras.optimizers import RMSprop, Adam, Adamax\n",
    "\n",
    "optim = RMSprop(learning_rate=0.0001)\n",
    "precision = Precision()\n",
    "\n",
    "def init_model():\n",
    "    model = Sequential()\n",
    "    reg_l1 = regularizers.l1(0.001)\n",
    "    reg_l2 = regularizers.l2(0.001)\n",
    "    reg_l1_l2 = regularizers.l1_l2(l1=0.001, l2=0.001)\n",
    "    model.add(layers.LSTM(200, return_sequences=True, input_shape=(30,13), activation='tanh'))\n",
    "    model.add(layers.LSTM(200, activation='tanh'))\n",
    "    model.add(layers.Dropout(0.3))\n",
    "    #model.add(layers.BatchNormalization())\n",
    "    model.add(layers.Dense(200, activation='relu', kernel_regularizer=reg_l1))\n",
    "    model.add(layers.Dropout(0.3))\n",
    "    model.add(layers.Dense(100, activation='relu', bias_regularizer=reg_l2))\n",
    "    model.add(layers.Dropout(0.3))\n",
    "    model.add(layers.Dense(50, activation='relu', activity_regularizer=reg_l1_l2))\n",
    "    model.add(layers.Dense(1, activation='sigmoid'))\n",
    "\n",
    "    model.compile(loss='binary_crossentropy', optimizer=optim, metrics=[precision, 'accuracy'])\n",
    "    \n",
    "    return model"
   ]
  },
  {
   "cell_type": "markdown",
   "metadata": {
    "ExecuteTime": {
     "end_time": "2021-02-12T18:20:04.224298Z",
     "start_time": "2021-02-12T17:42:17.274364Z"
    },
    "scrolled": true
   },
   "source": [
    "model = init_model()\n",
    "\n",
    "from tensorflow.keras.callbacks import EarlyStopping\n",
    "\n",
    "es = EarlyStopping(patience=5, restore_best_weights=True)\n",
    "\n",
    "model.fit(train_x, train_y, \n",
    "          epochs=500, \n",
    "          batch_size=16,\n",
    "          validation_split=0.2,\n",
    "          callbacks=[es])"
   ]
  },
  {
   "cell_type": "markdown",
   "metadata": {},
   "source": [
    "## Balance of `train_y` and `test_y`"
   ]
  },
  {
   "cell_type": "code",
   "execution_count": 23,
   "metadata": {
    "ExecuteTime": {
     "end_time": "2021-02-13T13:23:40.466820Z",
     "start_time": "2021-02-13T13:23:40.460898Z"
    }
   },
   "outputs": [
    {
     "data": {
      "text/plain": [
       "0.5587643233199133"
      ]
     },
     "execution_count": 23,
     "metadata": {},
     "output_type": "execute_result"
    }
   ],
   "source": [
    "train_y.sum()/len(train_y)"
   ]
  },
  {
   "cell_type": "code",
   "execution_count": 24,
   "metadata": {
    "ExecuteTime": {
     "end_time": "2021-02-13T13:23:40.595733Z",
     "start_time": "2021-02-13T13:23:40.582901Z"
    }
   },
   "outputs": [
    {
     "data": {
      "text/plain": [
       "0.5383233532934132"
      ]
     },
     "execution_count": 24,
     "metadata": {},
     "output_type": "execute_result"
    }
   ],
   "source": [
    "test_y.sum()/len(test_y)"
   ]
  },
  {
   "cell_type": "markdown",
   "metadata": {},
   "source": [
    "## Trained Model Loading"
   ]
  },
  {
   "cell_type": "code",
   "execution_count": 25,
   "metadata": {
    "ExecuteTime": {
     "end_time": "2021-02-13T13:23:40.892540Z",
     "start_time": "2021-02-13T13:23:40.713214Z"
    }
   },
   "outputs": [
    {
     "name": "stdout",
     "output_type": "stream",
     "text": [
      "Nasdaq_100_150k  Nasdaq_random_50  scaler\r\n"
     ]
    }
   ],
   "source": [
    "!ls ../../models/"
   ]
  },
  {
   "cell_type": "code",
   "execution_count": 29,
   "metadata": {
    "ExecuteTime": {
     "end_time": "2021-02-13T13:24:29.819259Z",
     "start_time": "2021-02-13T13:24:25.158992Z"
    }
   },
   "outputs": [],
   "source": [
    "model = models.load_model('../../models/Nasdaq_100_150k/')"
   ]
  },
  {
   "cell_type": "code",
   "execution_count": 30,
   "metadata": {
    "ExecuteTime": {
     "end_time": "2021-02-13T13:24:29.930053Z",
     "start_time": "2021-02-13T13:24:29.911810Z"
    }
   },
   "outputs": [
    {
     "name": "stdout",
     "output_type": "stream",
     "text": [
      "Model: \"sequential_23\"\n",
      "_________________________________________________________________\n",
      "Layer (type)                 Output Shape              Param #   \n",
      "=================================================================\n",
      "lstm_46 (LSTM)               (None, 30, 200)           171200    \n",
      "_________________________________________________________________\n",
      "lstm_47 (LSTM)               (None, 200)               320800    \n",
      "_________________________________________________________________\n",
      "dropout_69 (Dropout)         (None, 200)               0         \n",
      "_________________________________________________________________\n",
      "batch_normalization_10 (Batc (None, 200)               800       \n",
      "_________________________________________________________________\n",
      "dense_92 (Dense)             (None, 200)               40200     \n",
      "_________________________________________________________________\n",
      "dropout_70 (Dropout)         (None, 200)               0         \n",
      "_________________________________________________________________\n",
      "dense_93 (Dense)             (None, 100)               20100     \n",
      "_________________________________________________________________\n",
      "dropout_71 (Dropout)         (None, 100)               0         \n",
      "_________________________________________________________________\n",
      "dense_94 (Dense)             (None, 50)                5050      \n",
      "_________________________________________________________________\n",
      "dense_95 (Dense)             (None, 1)                 51        \n",
      "=================================================================\n",
      "Total params: 558,201\n",
      "Trainable params: 557,801\n",
      "Non-trainable params: 400\n",
      "_________________________________________________________________\n"
     ]
    }
   ],
   "source": [
    "model.summary()"
   ]
  },
  {
   "cell_type": "markdown",
   "metadata": {},
   "source": [
    "## Model evaluation"
   ]
  },
  {
   "cell_type": "code",
   "execution_count": 34,
   "metadata": {
    "ExecuteTime": {
     "end_time": "2021-02-13T13:29:25.136921Z",
     "start_time": "2021-02-13T13:29:23.235427Z"
    }
   },
   "outputs": [
    {
     "name": "stdout",
     "output_type": "stream",
     "text": [
      "53/53 [==============================] - 2s 34ms/step - loss: 0.7501 - precision_24: 0.7096 - accuracy: 0.6587\n"
     ]
    },
    {
     "data": {
      "text/plain": [
       "[0.7501091957092285, 0.709554135799408, 0.658682644367218]"
      ]
     },
     "execution_count": 34,
     "metadata": {},
     "output_type": "execute_result"
    }
   ],
   "source": [
    "results = model.evaluate(test_x, test_y)\n",
    "results"
   ]
  },
  {
   "cell_type": "code",
   "execution_count": 36,
   "metadata": {
    "ExecuteTime": {
     "end_time": "2021-02-13T13:30:19.409607Z",
     "start_time": "2021-02-13T13:30:19.404250Z"
    }
   },
   "outputs": [
    {
     "data": {
      "text/plain": [
       "0.7501091957092285"
      ]
     },
     "execution_count": 36,
     "metadata": {},
     "output_type": "execute_result"
    }
   ],
   "source": [
    "results[0]"
   ]
  },
  {
   "cell_type": "markdown",
   "metadata": {},
   "source": [
    "# Results Saving"
   ]
  },
  {
   "cell_type": "markdown",
   "metadata": {},
   "source": [
    "## Current results in `df`"
   ]
  },
  {
   "cell_type": "code",
   "execution_count": 91,
   "metadata": {
    "ExecuteTime": {
     "end_time": "2021-02-13T13:48:04.819003Z",
     "start_time": "2021-02-13T13:48:04.811030Z"
    }
   },
   "outputs": [],
   "source": [
    "df = pd.DataFrame(columns=['n_companies', 'companies_list', 'benchmark', 'loss', 'precision', 'accuracy'])"
   ]
  },
  {
   "cell_type": "code",
   "execution_count": 92,
   "metadata": {
    "ExecuteTime": {
     "end_time": "2021-02-13T13:48:04.998675Z",
     "start_time": "2021-02-13T13:48:04.995124Z"
    }
   },
   "outputs": [],
   "source": [
    "#len(rand_tickers)"
   ]
  },
  {
   "cell_type": "code",
   "execution_count": 93,
   "metadata": {
    "ExecuteTime": {
     "end_time": "2021-02-13T13:48:05.155764Z",
     "start_time": "2021-02-13T13:48:05.144423Z"
    }
   },
   "outputs": [],
   "source": [
    "df['n_companies'] = int(len(rand_tickers))\n",
    "df['companies_list'] = [', '.join(rand_tickers)]\n",
    "df['benchmark'] = test_y.sum()/len(test_y)\n",
    "df['loss'] = results[0]\n",
    "df['precision'] = results[1]\n",
    "df['accuracy'] = results[2]"
   ]
  },
  {
   "cell_type": "code",
   "execution_count": 94,
   "metadata": {
    "ExecuteTime": {
     "end_time": "2021-02-13T13:48:05.651066Z",
     "start_time": "2021-02-13T13:48:05.636768Z"
    }
   },
   "outputs": [
    {
     "data": {
      "text/html": [
       "<div>\n",
       "<style scoped>\n",
       "    .dataframe tbody tr th:only-of-type {\n",
       "        vertical-align: middle;\n",
       "    }\n",
       "\n",
       "    .dataframe tbody tr th {\n",
       "        vertical-align: top;\n",
       "    }\n",
       "\n",
       "    .dataframe thead th {\n",
       "        text-align: right;\n",
       "    }\n",
       "</style>\n",
       "<table border=\"1\" class=\"dataframe\">\n",
       "  <thead>\n",
       "    <tr style=\"text-align: right;\">\n",
       "      <th></th>\n",
       "      <th>n_companies</th>\n",
       "      <th>companies_list</th>\n",
       "      <th>benchmark</th>\n",
       "      <th>loss</th>\n",
       "      <th>precision</th>\n",
       "      <th>accuracy</th>\n",
       "    </tr>\n",
       "  </thead>\n",
       "  <tbody>\n",
       "    <tr>\n",
       "      <th>0</th>\n",
       "      <td>NaN</td>\n",
       "      <td>MXIM, UAL, ISRG, ULTA, MDLZ</td>\n",
       "      <td>0.538323</td>\n",
       "      <td>0.750109</td>\n",
       "      <td>0.709554</td>\n",
       "      <td>0.658683</td>\n",
       "    </tr>\n",
       "  </tbody>\n",
       "</table>\n",
       "</div>"
      ],
      "text/plain": [
       "   n_companies               companies_list  benchmark      loss  precision  \\\n",
       "0          NaN  MXIM, UAL, ISRG, ULTA, MDLZ   0.538323  0.750109   0.709554   \n",
       "\n",
       "   accuracy  \n",
       "0  0.658683  "
      ]
     },
     "execution_count": 94,
     "metadata": {},
     "output_type": "execute_result"
    }
   ],
   "source": [
    "df"
   ]
  },
  {
   "cell_type": "markdown",
   "metadata": {},
   "source": [
    "## Loading Previous Results"
   ]
  },
  {
   "cell_type": "markdown",
   "metadata": {
    "ExecuteTime": {
     "end_time": "2021-02-13T13:42:28.360145Z",
     "start_time": "2021-02-13T13:42:28.349273Z"
    }
   },
   "source": [
    "if 'charles_NASDAQ100_model_results' in os.listdir('stock_model_results/'):\n",
    "    previous_results_df = joblib.load('stock_model_results/charles_NASDAQ100_model_results')\n",
    "else:\n",
    "    previous_results_df = pd.DataFrame(columns=['n_companies', 'companies_list', 'benchmark', 'loss', 'precision', 'accuracy'])"
   ]
  },
  {
   "cell_type": "markdown",
   "metadata": {},
   "source": [
    "## Saving Current Results in New File on the Disk"
   ]
  },
  {
   "cell_type": "markdown",
   "metadata": {
    "ExecuteTime": {
     "end_time": "2021-02-13T13:45:10.174255Z",
     "start_time": "2021-02-13T13:45:10.164766Z"
    }
   },
   "source": [
    "saved_results_df = previous_results_df.append(df)"
   ]
  },
  {
   "cell_type": "markdown",
   "metadata": {
    "ExecuteTime": {
     "end_time": "2021-02-13T13:45:16.977631Z",
     "start_time": "2021-02-13T13:45:16.964424Z"
    }
   },
   "source": [
    "joblib.dump(saved_results_df,'stock_model_results/charles_NASDAQ100_model_results')"
   ]
  },
  {
   "cell_type": "markdown",
   "metadata": {
    "ExecuteTime": {
     "end_time": "2021-02-13T13:46:23.906948Z",
     "start_time": "2021-02-13T13:46:23.883326Z"
    }
   },
   "source": [
    "saving_process_test_df = joblib.load('stock_model_results/charles_NASDAQ100_model_results')\n",
    "saving_process_test_df"
   ]
  },
  {
   "cell_type": "markdown",
   "metadata": {},
   "source": [
    "# Testing Function "
   ]
  },
  {
   "cell_type": "code",
   "execution_count": 117,
   "metadata": {
    "ExecuteTime": {
     "end_time": "2021-02-13T15:36:23.641397Z",
     "start_time": "2021-02-13T15:36:23.598323Z"
    }
   },
   "outputs": [],
   "source": [
    "from mlchartist.array_builder import full_dataset_randomised_arrays_#, full_dataset_randomised_arrays\n",
    "from mlchartist.preprocessing import train_test_split, thresholds_encoding\n",
    "\n",
    "import pandas as pd\n",
    "import numpy as np\n",
    "import random\n",
    "import joblib\n",
    "import os\n",
    "\n",
    "from tensorflow.keras import models\n",
    "from termcolor import colored\n",
    "\n",
    "def model_testing_function(n_companies=5, n_test=25, trained_model_path='', rand=True, stocks_to_train=[],\n",
    "                           nrows = 3000, verbose=0, new_save=False,\n",
    "                           load_save_path='stock_model_results/charles_NASDAQ100_model_results',\n",
    "                           save_path='stock_model_results/charles_NASDAQ100_model_results',\n",
    "                           r5d=0.0006, same_thresholds=True, r10d=0.0012, r20d=0.0024, INPUT_COLS=[],\n",
    "                           TARGET_COLS=['10D_return_bin'], outlier_validation={'1D_past_return': [-0.3, 0.3]},\n",
    "                           stride = 1):\n",
    "    \"\"\"\n",
    "    Test `n_test` times the trained model saved for `n_companies`\n",
    "    \n",
    "    If  `rand` set to False, test on the `stocks_to_train` list\n",
    "    \n",
    "    You have access to some of the function parameters, see doc of the following functions:\n",
    "        -`thresholds_encoding()`\n",
    "        -`full_dataset_randomised_arrays_()`\n",
    "        \n",
    "        (see below to see other default values of `full_dataset_randomised_arrays_()`)\n",
    "    \n",
    "    Other parameters ar\n",
    "    \n",
    "    If you leave INPUT_COLS empty, its default value will be:\n",
    "        ['RSI', 'Stochastic', 'Stochastic_signal', 'ATR', 'ADX',\n",
    "        'ADX_pos', 'ADX_neg', 'MACD', 'MACD_diff','MACD_signal',\n",
    "        '1D_past_return', '5D_past_return', '10D_past_return']\n",
    "    \n",
    "    Other parameters of `full_dataset_randomised_arrays_()`:\n",
    "        -outlier_threshold=1\n",
    "        -check_train_outliers=True\n",
    "        -check_test_outliers=False\n",
    "        -time_window=30\n",
    "        -test_set_size='2Y'\n",
    "    \n",
    "    \"\"\"\n",
    "    \n",
    "    # Importing ticker list\n",
    "    nasdaq100 = pd.read_csv('../../raw_data/metadata/nasdaq100.csv', header=None)\n",
    "    nasdaq100_list = list(nasdaq100.values.flatten())\n",
    "        \n",
    "    \n",
    "    joined_df = pd.DataFrame()\n",
    "\n",
    "    for i in range(n_test):\n",
    "        \n",
    "        # Randomly select the stocks\n",
    "        rand_tickers = random.sample(nasdaq100_list, n_companies)\n",
    "        \n",
    "        \n",
    "        # Takes nrows from history from each company from the sample\n",
    "        joined_df = pd.DataFrame()\n",
    "        for ticker in rand_tickers:\n",
    "            ticker_path = '../../raw_data/processed/' + ticker.strip().lower() + '.csv'\n",
    "            ticker_df = pd.read_csv(ticker_path, nrows=nrows)\n",
    "            joined_df = joined_df.append(ticker_df)\n",
    "\n",
    "        if verbose ==2:\n",
    "            for tick in rand_tickers:\n",
    "                print(tick)\n",
    "\n",
    "        joined_df['date'] = pd.to_datetime(joined_df['date'])\n",
    "\n",
    "        # Drops 'ADI' and 'OBV' from input columns\n",
    "        # INPUT_COLS = ['RSI', 'Stochastic', 'Stochastic_signal', 'ADI','OBV', 'ATR', 'ADX', 'ADX_pos', 'ADX_neg', 'MACD', 'MACD_diff','MACD_signal', '1D_past_return', '5D_past_return', '10D_past_return']\n",
    "        if len(INPUT_COLS) == 0:\n",
    "            INPUT_COLS = ['RSI', 'Stochastic', 'Stochastic_signal', 'ATR', 'ADX', 'ADX_pos', 'ADX_neg', 'MACD', 'MACD_diff','MACD_signal', '1D_past_return', '5D_past_return', '10D_past_return']\n",
    "\n",
    "        joined_df = thresholds_encoding(joined_df, r5d=r5d, same_thresholds=same_thresholds, r10d=r10d, r20d=r20d)\n",
    "        \n",
    "        print('full_dataset_randomised_arrays_ verbose():')\n",
    "        train_x, train_y, test_x, test_y, scaler = full_dataset_randomised_arrays_(joined_df, \n",
    "                                                                                        stride=stride, \n",
    "                                                                                        input_cols=INPUT_COLS, \n",
    "                                                                                        outlier_threshold=1, \n",
    "                                                                                        outlier_validation=outlier_validation, \n",
    "                                                                                        check_train_outliers=True,\n",
    "                                                                                        check_test_outliers=False, \n",
    "                                                                                        target_col=TARGET_COLS, \n",
    "                                                                                        time_window=30,\n",
    "                                                                                        test_set_size='2Y')\n",
    "\n",
    "        if verbose == 2: \n",
    "            print('')\n",
    "            print('')\n",
    "            print('### Stats ###')\n",
    "            print('train_x', train_x.shape)\n",
    "            print('train_y', train_y.shape)\n",
    "            print('test_x', test_x.shape)\n",
    "            print('test_y', test_y.shape)\n",
    "            print('scaler', scaler)\n",
    "\n",
    "            print('')\n",
    "            print('')\n",
    "            print('### Validation ###')\n",
    "            \n",
    "        # Samples n rows of train_x\n",
    "        indx = list(range(len(train_x)))\n",
    "        sample_indx = random.sample(indx, 10000)\n",
    "        X_train_sample =  train_x[[sample_indx], :][0]\n",
    "        y_train_sample = train_y[[sample_indx]]\n",
    "\n",
    "        if verbose >=1:\n",
    "            print(f\"train_y.sum()/len(train_y): {train_y.sum()/len(train_y)}\")\n",
    "\n",
    "        # Model loading\n",
    "        model = models.load_model('../../models/Nasdaq_100_150k/')\n",
    "        results = model.evaluate(test_x, test_y, verbose=0)\n",
    "\n",
    "        if verbose >= 1:\n",
    "            print(results)\n",
    "        if verbose == 2:\n",
    "            print(model.summary())\n",
    "\n",
    "        # Current Results in `df`\n",
    "        df = pd.DataFrame(columns=['n_companies', 'companies_list', 'benchmark', 'loss', 'precision', 'accuracy'])\n",
    "        df['n_companies'] = int(len(rand_tickers))\n",
    "        df['companies_list'] = [', '.join(rand_tickers)]\n",
    "        df['benchmark'] = test_y.sum()/len(test_y)\n",
    "        df['loss'] = results[0]\n",
    "        df['precision'] = results[1]\n",
    "        df['accuracy'] = results[2]\n",
    "\n",
    "        if verbose >=1:\n",
    "            print(df)\n",
    "            print()\n",
    "\n",
    "        # Loading previous results\n",
    "        if 'charles_NASDAQ100_model_results' in os.listdir('stock_model_results/'):\n",
    "            previous_results_df = joblib.load('stock_model_results/charles_NASDAQ100_model_results')\n",
    "        else:\n",
    "            previous_results_df = pd.DataFrame(columns=['n_companies', 'companies_list', 'benchmark', 'loss', 'precision', 'accuracy'])\n",
    "\n",
    "        # Saving Current Results\n",
    "        saved_results_df = previous_results_df.append(df)\n",
    "        saved_results_df.reset_index(inplace=True)\n",
    "        joblib.dump(saved_results_df,'stock_model_results/charles_NASDAQ100_model_results')\n",
    "        \n",
    "        print(colored(f\"{i} iterations done on {len(n_test)}\", 'green'))\n",
    "        print()\n",
    "        print()\n",
    "    \n",
    "    return saved_results_df"
   ]
  },
  {
   "cell_type": "code",
   "execution_count": 112,
   "metadata": {
    "ExecuteTime": {
     "end_time": "2021-02-13T15:30:12.171221Z",
     "start_time": "2021-02-13T15:17:38.973569Z"
    }
   },
   "outputs": [
    {
     "name": "stdout",
     "output_type": "stream",
     "text": [
      "full_dataset_randomised_arrays_ verbose():\n",
      "5 Companies in Dataset\n",
      "Starting AVGO: Company 1 of 5\n",
      "Starting ADBE: Company 2 of 5\n",
      "Starting ASML: Company 3 of 5\n",
      "Starting QCOM: Company 4 of 5\n",
      "Starting GOOG: Company 5 of 5\n",
      "All Companies Completed\n",
      "\n",
      "Processing Stats: {'AVGO': {'train_possible_windows': 2334.0, 'train_outliers': 29, 'train_windows': 2305, 'test_possible_windows': 500.0, 'test_outliers': 29, 'test_windows': 471}, 'ADBE': {'train_possible_windows': 2592.0, 'train_outliers': 89, 'train_windows': 2503, 'test_possible_windows': 408.0, 'test_outliers': 29, 'test_windows': 379}, 'ASML': {'train_possible_windows': 2698.0, 'train_outliers': 59, 'train_windows': 2639, 'test_possible_windows': 302.0, 'test_outliers': 29, 'test_windows': 273}, 'QCOM': {'train_possible_windows': 2499.0, 'train_outliers': 119, 'train_windows': 2380, 'test_possible_windows': 501.0, 'test_outliers': 29, 'test_windows': 472}, 'GOOG': {'train_possible_windows': 1167.0, 'train_outliers': 29, 'train_windows': 1138, 'test_possible_windows': 500.0, 'test_outliers': 29, 'test_windows': 471}}\n"
     ]
    },
    {
     "name": "stderr",
     "output_type": "stream",
     "text": [
      "/home/bob/.pyenv/versions/3.7.7/envs/lewagon/lib/python3.7/site-packages/ipykernel_launcher.py:109: FutureWarning: Using a non-tuple sequence for multidimensional indexing is deprecated; use `arr[tuple(seq)]` instead of `arr[seq]`. In the future this will be interpreted as an array index, `arr[np.array(seq)]`, which will result either in an error or a different result.\n"
     ]
    },
    {
     "name": "stdout",
     "output_type": "stream",
     "text": [
      "65/65 [==============================] - 2s 33ms/step - loss: 1.0171 - precision_24: 0.6184 - accuracy: 0.5479\n",
      "full_dataset_randomised_arrays_ verbose():\n",
      "5 Companies in Dataset\n",
      "Starting WDC: Company 1 of 5\n",
      "Starting REGN: Company 2 of 5\n",
      "Starting LRCX: Company 3 of 5\n",
      "Starting EA: Company 4 of 5\n",
      "Starting MELI: Company 5 of 5\n",
      "All Companies Completed\n",
      "\n",
      "Processing Stats: {'WDC': {'train_possible_windows': 2698.0, 'train_outliers': 29, 'train_windows': 2669, 'test_possible_windows': 302.0, 'test_outliers': 29, 'test_windows': 273}, 'REGN': {'train_possible_windows': 2697.0, 'train_outliers': 29, 'train_windows': 2668, 'test_possible_windows': 303.0, 'test_outliers': 29, 'test_windows': 274}, 'LRCX': {'train_possible_windows': 2682.0, 'train_outliers': 59, 'train_windows': 2623, 'test_possible_windows': 318.0, 'test_outliers': 29, 'test_windows': 289}, 'EA': {'train_possible_windows': 1734.0, 'train_outliers': 29, 'train_windows': 1705, 'test_possible_windows': 500.0, 'test_outliers': 29, 'test_windows': 471}, 'MELI': {'train_possible_windows': 2584.0, 'train_outliers': 89, 'train_windows': 2495, 'test_possible_windows': 416.0, 'test_outliers': 29, 'test_windows': 387}}\n"
     ]
    },
    {
     "name": "stderr",
     "output_type": "stream",
     "text": [
      "/home/bob/.pyenv/versions/3.7.7/envs/lewagon/lib/python3.7/site-packages/ipykernel_launcher.py:109: FutureWarning: Using a non-tuple sequence for multidimensional indexing is deprecated; use `arr[tuple(seq)]` instead of `arr[seq]`. In the future this will be interpreted as an array index, `arr[np.array(seq)]`, which will result either in an error or a different result.\n"
     ]
    },
    {
     "name": "stdout",
     "output_type": "stream",
     "text": [
      "53/53 [==============================] - 2s 38ms/step - loss: 0.7699 - precision_24: 0.7382 - accuracy: 0.6724\n",
      "full_dataset_randomised_arrays_ verbose():\n",
      "5 Companies in Dataset\n",
      "Starting CSCO: Company 1 of 5\n",
      "Starting LRCX: Company 2 of 5\n",
      "Starting FISV: Company 3 of 5\n",
      "Starting AVGO: Company 4 of 5\n",
      "Starting CTSH: Company 5 of 5\n",
      "All Companies Completed\n",
      "\n",
      "Processing Stats: {'CSCO': {'train_possible_windows': 2684.0, 'train_outliers': 29, 'train_windows': 2655, 'test_possible_windows': 316.0, 'test_outliers': 29, 'test_windows': 287}, 'LRCX': {'train_possible_windows': 2682.0, 'train_outliers': 59, 'train_windows': 2623, 'test_possible_windows': 318.0, 'test_outliers': 29, 'test_windows': 289}, 'FISV': {'train_possible_windows': 2688.0, 'train_outliers': 29, 'train_windows': 2659, 'test_possible_windows': 312.0, 'test_outliers': 29, 'test_windows': 283}, 'AVGO': {'train_possible_windows': 2334.0, 'train_outliers': 29, 'train_windows': 2305, 'test_possible_windows': 500.0, 'test_outliers': 29, 'test_windows': 471}, 'CTSH': {'train_possible_windows': 2698.0, 'train_outliers': 29, 'train_windows': 2669, 'test_possible_windows': 302.0, 'test_outliers': 29, 'test_windows': 273}}\n"
     ]
    },
    {
     "name": "stderr",
     "output_type": "stream",
     "text": [
      "/home/bob/.pyenv/versions/3.7.7/envs/lewagon/lib/python3.7/site-packages/ipykernel_launcher.py:109: FutureWarning: Using a non-tuple sequence for multidimensional indexing is deprecated; use `arr[tuple(seq)]` instead of `arr[seq]`. In the future this will be interpreted as an array index, `arr[np.array(seq)]`, which will result either in an error or a different result.\n"
     ]
    },
    {
     "name": "stdout",
     "output_type": "stream",
     "text": [
      "51/51 [==============================] - 2s 33ms/step - loss: 1.0502 - precision_24: 0.5539 - accuracy: 0.5047\n",
      "full_dataset_randomised_arrays_ verbose():\n",
      "5 Companies in Dataset\n",
      "Starting NVDA: Company 1 of 5\n",
      "Starting CTX: Company 2 of 5\n",
      "Starting INTC: Company 3 of 5\n",
      "Starting BID: Company 4 of 5\n",
      "Starting BIIB: Company 5 of 5\n",
      "All Companies Completed\n",
      "\n",
      "Processing Stats: {'NVDA': {'train_possible_windows': 2720.0, 'train_outliers': 209, 'train_windows': 2511, 'test_possible_windows': 280.0, 'test_outliers': 29, 'test_windows': 251}, 'CTX': {'train_possible_windows': 2747.0, 'train_outliers': 119, 'train_windows': 2628, 'test_possible_windows': 253.0, 'test_outliers': 29, 'test_windows': 224}, 'INTC': {'train_possible_windows': 2569.0, 'train_outliers': 249, 'train_windows': 2320, 'test_possible_windows': 431.0, 'test_outliers': 29, 'test_windows': 402}, 'BID': {'train_possible_windows': 2587.0, 'train_outliers': 59, 'train_windows': 2528, 'test_possible_windows': 413.0, 'test_outliers': 29, 'test_windows': 384}, 'BIIB': {'train_possible_windows': 2560.0, 'train_outliers': 29, 'train_windows': 2531, 'test_possible_windows': 440.0, 'test_outliers': 29, 'test_windows': 411}}\n"
     ]
    },
    {
     "name": "stderr",
     "output_type": "stream",
     "text": [
      "/home/bob/.pyenv/versions/3.7.7/envs/lewagon/lib/python3.7/site-packages/ipykernel_launcher.py:109: FutureWarning: Using a non-tuple sequence for multidimensional indexing is deprecated; use `arr[tuple(seq)]` instead of `arr[seq]`. In the future this will be interpreted as an array index, `arr[np.array(seq)]`, which will result either in an error or a different result.\n"
     ]
    },
    {
     "name": "stdout",
     "output_type": "stream",
     "text": [
      "53/53 [==============================] - 2s 32ms/step - loss: 1.0642 - precision_24: 0.5428 - accuracy: 0.5245\n",
      "full_dataset_randomised_arrays_ verbose():\n",
      "5 Companies in Dataset\n",
      "Starting KLAC: Company 1 of 5\n",
      "Starting SWK: Company 2 of 5\n",
      "Starting HA: Company 3 of 5\n",
      "Starting EXPE: Company 4 of 5\n",
      "Starting M: Company 5 of 5\n",
      "All Companies Completed\n",
      "\n",
      "Processing Stats: {'KLAC': {'train_possible_windows': 2688.0, 'train_outliers': 29, 'train_windows': 2659, 'test_possible_windows': 312.0, 'test_outliers': 29, 'test_windows': 283}, 'SWK': {'train_possible_windows': 2698.0, 'train_outliers': 89, 'train_windows': 2609, 'test_possible_windows': 302.0, 'test_outliers': 29, 'test_windows': 273}, 'HA': {'train_possible_windows': 2504.0, 'train_outliers': 29, 'train_windows': 2475, 'test_possible_windows': 496.0, 'test_outliers': 29, 'test_windows': 467}, 'EXPE': {'train_possible_windows': 2598.0, 'train_outliers': 29, 'train_windows': 2569, 'test_possible_windows': 402.0, 'test_outliers': 29, 'test_windows': 373}, 'M': {'train_possible_windows': 2653.0, 'train_outliers': 29, 'train_windows': 2624, 'test_possible_windows': 347.0, 'test_outliers': 29, 'test_windows': 318}}\n"
     ]
    },
    {
     "name": "stderr",
     "output_type": "stream",
     "text": [
      "/home/bob/.pyenv/versions/3.7.7/envs/lewagon/lib/python3.7/site-packages/ipykernel_launcher.py:109: FutureWarning: Using a non-tuple sequence for multidimensional indexing is deprecated; use `arr[tuple(seq)]` instead of `arr[seq]`. In the future this will be interpreted as an array index, `arr[np.array(seq)]`, which will result either in an error or a different result.\n"
     ]
    },
    {
     "name": "stdout",
     "output_type": "stream",
     "text": [
      "54/54 [==============================] - 2s 37ms/step - loss: 0.9786 - precision_24: 0.5915 - accuracy: 0.5478\n",
      "full_dataset_randomised_arrays_ verbose():\n",
      "5 Companies in Dataset\n",
      "Starting EXC: Company 1 of 5\n",
      "Starting VRSN: Company 2 of 5\n",
      "Starting AMD: Company 3 of 5\n",
      "Starting FISV: Company 4 of 5\n",
      "Starting AAL: Company 5 of 5\n",
      "All Companies Completed\n",
      "\n",
      "Processing Stats: {'EXC': {'train_possible_windows': 2495.0, 'train_outliers': 29, 'train_windows': 2466, 'test_possible_windows': 505.0, 'test_outliers': 29, 'test_windows': 476}, 'VRSN': {'train_possible_windows': 2712.0, 'train_outliers': 89, 'train_windows': 2623, 'test_possible_windows': 288.0, 'test_outliers': 29, 'test_windows': 259}, 'AMD': {'train_possible_windows': 2695.0, 'train_outliers': 89, 'train_windows': 2606, 'test_possible_windows': 305.0, 'test_outliers': 29, 'test_windows': 276}, 'FISV': {'train_possible_windows': 2688.0, 'train_outliers': 29, 'train_windows': 2659, 'test_possible_windows': 312.0, 'test_outliers': 29, 'test_windows': 283}, 'AAL': {'train_possible_windows': 1240.0, 'train_outliers': 29, 'train_windows': 1211, 'test_possible_windows': 500.0, 'test_outliers': 29, 'test_windows': 471}}\n"
     ]
    },
    {
     "name": "stderr",
     "output_type": "stream",
     "text": [
      "/home/bob/.pyenv/versions/3.7.7/envs/lewagon/lib/python3.7/site-packages/ipykernel_launcher.py:109: FutureWarning: Using a non-tuple sequence for multidimensional indexing is deprecated; use `arr[tuple(seq)]` instead of `arr[seq]`. In the future this will be interpreted as an array index, `arr[np.array(seq)]`, which will result either in an error or a different result.\n"
     ]
    },
    {
     "name": "stdout",
     "output_type": "stream",
     "text": [
      "56/56 [==============================] - 2s 33ms/step - loss: 1.1389 - precision_24: 0.5466 - accuracy: 0.5184\n",
      "full_dataset_randomised_arrays_ verbose():\n",
      "5 Companies in Dataset\n",
      "Starting KLAC: Company 1 of 5\n",
      "Starting INT: Company 2 of 5\n",
      "Starting AMD: Company 3 of 5\n",
      "Starting KHC: Company 4 of 5\n",
      "Starting PYPL: Company 5 of 5\n",
      "All Companies Completed\n",
      "\n",
      "Processing Stats: {'KLAC': {'train_possible_windows': 2688.0, 'train_outliers': 29, 'train_windows': 2659, 'test_possible_windows': 312.0, 'test_outliers': 29, 'test_windows': 283}, 'INT': {'train_possible_windows': 2684.0, 'train_outliers': 59, 'train_windows': 2625, 'test_possible_windows': 316.0, 'test_outliers': 29, 'test_windows': 287}, 'AMD': {'train_possible_windows': 2695.0, 'train_outliers': 89, 'train_windows': 2606, 'test_possible_windows': 305.0, 'test_outliers': 29, 'test_windows': 276}, 'KHC': {'train_possible_windows': 847.0, 'train_outliers': 29, 'train_windows': 818, 'test_possible_windows': 500.0, 'test_outliers': 29, 'test_windows': 471}, 'PYPL': {'train_possible_windows': 847.0, 'train_outliers': 29, 'train_windows': 818, 'test_possible_windows': 500.0, 'test_outliers': 29, 'test_windows': 471}}\n"
     ]
    },
    {
     "ename": "ValueError",
     "evalue": "Sample larger than population or is negative",
     "output_type": "error",
     "traceback": [
      "\u001b[0;31m---------------------------------------------------------------------------\u001b[0m",
      "\u001b[0;31mValueError\u001b[0m                                Traceback (most recent call last)",
      "\u001b[0;32m<ipython-input-112-9e838e8490c4>\u001b[0m in \u001b[0;36m<module>\u001b[0;34m\u001b[0m\n\u001b[0;32m----> 1\u001b[0;31m \u001b[0mcomprehensive_model_result\u001b[0m \u001b[0;34m=\u001b[0m \u001b[0mmodel_testing_function\u001b[0m\u001b[0;34m(\u001b[0m\u001b[0;34m)\u001b[0m\u001b[0;34m\u001b[0m\u001b[0;34m\u001b[0m\u001b[0m\n\u001b[0m",
      "\u001b[0;32m<ipython-input-111-61d0ec428398>\u001b[0m in \u001b[0;36mmodel_testing_function\u001b[0;34m(n_companies, n_test, trained_model_path, rand, stocks_to_train, nrows, verbose, new_save, load_save_path, save_path, r5d, same_thresholds, r10d, r20d, INPUT_COLS, TARGET_COLS, outlier_validation, stride)\u001b[0m\n\u001b[1;32m    105\u001b[0m         \u001b[0;31m# Samples n rows of train_x\u001b[0m\u001b[0;34m\u001b[0m\u001b[0;34m\u001b[0m\u001b[0;34m\u001b[0m\u001b[0m\n\u001b[1;32m    106\u001b[0m         \u001b[0mindx\u001b[0m \u001b[0;34m=\u001b[0m \u001b[0mlist\u001b[0m\u001b[0;34m(\u001b[0m\u001b[0mrange\u001b[0m\u001b[0;34m(\u001b[0m\u001b[0mlen\u001b[0m\u001b[0;34m(\u001b[0m\u001b[0mtrain_x\u001b[0m\u001b[0;34m)\u001b[0m\u001b[0;34m)\u001b[0m\u001b[0;34m)\u001b[0m\u001b[0;34m\u001b[0m\u001b[0;34m\u001b[0m\u001b[0m\n\u001b[0;32m--> 107\u001b[0;31m         \u001b[0msample_indx\u001b[0m \u001b[0;34m=\u001b[0m \u001b[0mrandom\u001b[0m\u001b[0;34m.\u001b[0m\u001b[0msample\u001b[0m\u001b[0;34m(\u001b[0m\u001b[0mindx\u001b[0m\u001b[0;34m,\u001b[0m \u001b[0;36m10000\u001b[0m\u001b[0;34m)\u001b[0m\u001b[0;34m\u001b[0m\u001b[0;34m\u001b[0m\u001b[0m\n\u001b[0m\u001b[1;32m    108\u001b[0m         \u001b[0mX_train_sample\u001b[0m \u001b[0;34m=\u001b[0m  \u001b[0mtrain_x\u001b[0m\u001b[0;34m[\u001b[0m\u001b[0;34m[\u001b[0m\u001b[0msample_indx\u001b[0m\u001b[0;34m]\u001b[0m\u001b[0;34m,\u001b[0m \u001b[0;34m:\u001b[0m\u001b[0;34m]\u001b[0m\u001b[0;34m[\u001b[0m\u001b[0;36m0\u001b[0m\u001b[0;34m]\u001b[0m\u001b[0;34m\u001b[0m\u001b[0;34m\u001b[0m\u001b[0m\n\u001b[1;32m    109\u001b[0m         \u001b[0my_train_sample\u001b[0m \u001b[0;34m=\u001b[0m \u001b[0mtrain_y\u001b[0m\u001b[0;34m[\u001b[0m\u001b[0;34m[\u001b[0m\u001b[0msample_indx\u001b[0m\u001b[0;34m]\u001b[0m\u001b[0;34m]\u001b[0m\u001b[0;34m\u001b[0m\u001b[0;34m\u001b[0m\u001b[0m\n",
      "\u001b[0;32m~/.pyenv/versions/3.7.7/lib/python3.7/random.py\u001b[0m in \u001b[0;36msample\u001b[0;34m(self, population, k)\u001b[0m\n\u001b[1;32m    319\u001b[0m         \u001b[0mn\u001b[0m \u001b[0;34m=\u001b[0m \u001b[0mlen\u001b[0m\u001b[0;34m(\u001b[0m\u001b[0mpopulation\u001b[0m\u001b[0;34m)\u001b[0m\u001b[0;34m\u001b[0m\u001b[0;34m\u001b[0m\u001b[0m\n\u001b[1;32m    320\u001b[0m         \u001b[0;32mif\u001b[0m \u001b[0;32mnot\u001b[0m \u001b[0;36m0\u001b[0m \u001b[0;34m<=\u001b[0m \u001b[0mk\u001b[0m \u001b[0;34m<=\u001b[0m \u001b[0mn\u001b[0m\u001b[0;34m:\u001b[0m\u001b[0;34m\u001b[0m\u001b[0;34m\u001b[0m\u001b[0m\n\u001b[0;32m--> 321\u001b[0;31m             \u001b[0;32mraise\u001b[0m \u001b[0mValueError\u001b[0m\u001b[0;34m(\u001b[0m\u001b[0;34m\"Sample larger than population or is negative\"\u001b[0m\u001b[0;34m)\u001b[0m\u001b[0;34m\u001b[0m\u001b[0;34m\u001b[0m\u001b[0m\n\u001b[0m\u001b[1;32m    322\u001b[0m         \u001b[0mresult\u001b[0m \u001b[0;34m=\u001b[0m \u001b[0;34m[\u001b[0m\u001b[0;32mNone\u001b[0m\u001b[0;34m]\u001b[0m \u001b[0;34m*\u001b[0m \u001b[0mk\u001b[0m\u001b[0;34m\u001b[0m\u001b[0;34m\u001b[0m\u001b[0m\n\u001b[1;32m    323\u001b[0m         \u001b[0msetsize\u001b[0m \u001b[0;34m=\u001b[0m \u001b[0;36m21\u001b[0m        \u001b[0;31m# size of a small set minus size of an empty list\u001b[0m\u001b[0;34m\u001b[0m\u001b[0;34m\u001b[0m\u001b[0m\n",
      "\u001b[0;31mValueError\u001b[0m: Sample larger than population or is negative"
     ]
    }
   ],
   "source": [
    "comprehensive_model_result = model_testing_function()"
   ]
  },
  {
   "cell_type": "code",
   "execution_count": 115,
   "metadata": {
    "ExecuteTime": {
     "end_time": "2021-02-13T15:32:33.997719Z",
     "start_time": "2021-02-13T15:32:33.971903Z"
    }
   },
   "outputs": [],
   "source": [
    "comprehensive_model_result_broken = joblib.load('stock_model_results/charles_NASDAQ100_model_results')"
   ]
  },
  {
   "cell_type": "code",
   "execution_count": 116,
   "metadata": {
    "ExecuteTime": {
     "end_time": "2021-02-13T15:32:38.012498Z",
     "start_time": "2021-02-13T15:32:37.989010Z"
    }
   },
   "outputs": [
    {
     "data": {
      "text/html": [
       "<div>\n",
       "<style scoped>\n",
       "    .dataframe tbody tr th:only-of-type {\n",
       "        vertical-align: middle;\n",
       "    }\n",
       "\n",
       "    .dataframe tbody tr th {\n",
       "        vertical-align: top;\n",
       "    }\n",
       "\n",
       "    .dataframe thead th {\n",
       "        text-align: right;\n",
       "    }\n",
       "</style>\n",
       "<table border=\"1\" class=\"dataframe\">\n",
       "  <thead>\n",
       "    <tr style=\"text-align: right;\">\n",
       "      <th></th>\n",
       "      <th>n_companies</th>\n",
       "      <th>companies_list</th>\n",
       "      <th>benchmark</th>\n",
       "      <th>loss</th>\n",
       "      <th>precision</th>\n",
       "      <th>accuracy</th>\n",
       "    </tr>\n",
       "  </thead>\n",
       "  <tbody>\n",
       "    <tr>\n",
       "      <th>0</th>\n",
       "      <td>NaN</td>\n",
       "      <td>ALGN, INCY, SNPS, WDAY, XLNX</td>\n",
       "      <td>0.571779</td>\n",
       "      <td>0.949156</td>\n",
       "      <td>0.637421</td>\n",
       "      <td>0.587730</td>\n",
       "    </tr>\n",
       "    <tr>\n",
       "      <th>0</th>\n",
       "      <td>NaN</td>\n",
       "      <td>NXPI, WDAY, AMZN, ROST, ALGN</td>\n",
       "      <td>0.591757</td>\n",
       "      <td>0.990161</td>\n",
       "      <td>0.618377</td>\n",
       "      <td>0.525202</td>\n",
       "    </tr>\n",
       "    <tr>\n",
       "      <th>0</th>\n",
       "      <td>NaN</td>\n",
       "      <td>AVGO, ADBE, ASML, QCOM, GOOG</td>\n",
       "      <td>0.579380</td>\n",
       "      <td>1.017072</td>\n",
       "      <td>0.618362</td>\n",
       "      <td>0.547919</td>\n",
       "    </tr>\n",
       "    <tr>\n",
       "      <th>0</th>\n",
       "      <td>NaN</td>\n",
       "      <td>WDC, REGN, LRCX, EA, MELI</td>\n",
       "      <td>0.560803</td>\n",
       "      <td>0.769861</td>\n",
       "      <td>0.738239</td>\n",
       "      <td>0.672373</td>\n",
       "    </tr>\n",
       "    <tr>\n",
       "      <th>0</th>\n",
       "      <td>NaN</td>\n",
       "      <td>CSCO, LRCX, FISV, AVGO, CTSH</td>\n",
       "      <td>0.541485</td>\n",
       "      <td>1.050175</td>\n",
       "      <td>0.553936</td>\n",
       "      <td>0.504679</td>\n",
       "    </tr>\n",
       "    <tr>\n",
       "      <th>0</th>\n",
       "      <td>NaN</td>\n",
       "      <td>NVDA, CTXS, INTC, BIDU, BIIB</td>\n",
       "      <td>0.514354</td>\n",
       "      <td>1.064222</td>\n",
       "      <td>0.542819</td>\n",
       "      <td>0.524522</td>\n",
       "    </tr>\n",
       "    <tr>\n",
       "      <th>0</th>\n",
       "      <td>NaN</td>\n",
       "      <td>KLAC, SWKS, HAS, EXPE, MU</td>\n",
       "      <td>0.537923</td>\n",
       "      <td>0.978591</td>\n",
       "      <td>0.591532</td>\n",
       "      <td>0.547841</td>\n",
       "    </tr>\n",
       "    <tr>\n",
       "      <th>0</th>\n",
       "      <td>NaN</td>\n",
       "      <td>EXC, VRSN, AMD, FISV, AAL</td>\n",
       "      <td>0.530878</td>\n",
       "      <td>1.138875</td>\n",
       "      <td>0.546624</td>\n",
       "      <td>0.518414</td>\n",
       "    </tr>\n",
       "  </tbody>\n",
       "</table>\n",
       "</div>"
      ],
      "text/plain": [
       "   n_companies                companies_list  benchmark      loss  precision  \\\n",
       "0          NaN  ALGN, INCY, SNPS, WDAY, XLNX   0.571779  0.949156   0.637421   \n",
       "0          NaN  NXPI, WDAY, AMZN, ROST, ALGN   0.591757  0.990161   0.618377   \n",
       "0          NaN  AVGO, ADBE, ASML, QCOM, GOOG   0.579380  1.017072   0.618362   \n",
       "0          NaN     WDC, REGN, LRCX, EA, MELI   0.560803  0.769861   0.738239   \n",
       "0          NaN  CSCO, LRCX, FISV, AVGO, CTSH   0.541485  1.050175   0.553936   \n",
       "0          NaN  NVDA, CTXS, INTC, BIDU, BIIB   0.514354  1.064222   0.542819   \n",
       "0          NaN     KLAC, SWKS, HAS, EXPE, MU   0.537923  0.978591   0.591532   \n",
       "0          NaN     EXC, VRSN, AMD, FISV, AAL   0.530878  1.138875   0.546624   \n",
       "\n",
       "   accuracy  \n",
       "0  0.587730  \n",
       "0  0.525202  \n",
       "0  0.547919  \n",
       "0  0.672373  \n",
       "0  0.504679  \n",
       "0  0.524522  \n",
       "0  0.547841  \n",
       "0  0.518414  "
      ]
     },
     "execution_count": 116,
     "metadata": {},
     "output_type": "execute_result"
    }
   ],
   "source": [
    "comprehensive_model_result_broken"
   ]
  },
  {
   "cell_type": "code",
   "execution_count": null,
   "metadata": {},
   "outputs": [],
   "source": []
  }
 ],
 "metadata": {
  "kernelspec": {
   "display_name": "Python 3",
   "language": "python",
   "name": "python3"
  },
  "language_info": {
   "codemirror_mode": {
    "name": "ipython",
    "version": 3
   },
   "file_extension": ".py",
   "mimetype": "text/x-python",
   "name": "python",
   "nbconvert_exporter": "python",
   "pygments_lexer": "ipython3",
   "version": "3.7.7"
  },
  "toc": {
   "base_numbering": 1,
   "nav_menu": {},
   "number_sections": true,
   "sideBar": true,
   "skip_h1_title": false,
   "title_cell": "Table of Contents",
   "title_sidebar": "Contents",
   "toc_cell": false,
   "toc_position": {
    "height": "calc(100% - 180px)",
    "left": "10px",
    "top": "150px",
    "width": "210.2px"
   },
   "toc_section_display": true,
   "toc_window_display": true
  },
  "varInspector": {
   "cols": {
    "lenName": 16,
    "lenType": 16,
    "lenVar": 40
   },
   "kernels_config": {
    "python": {
     "delete_cmd_postfix": "",
     "delete_cmd_prefix": "del ",
     "library": "var_list.py",
     "varRefreshCmd": "print(var_dic_list())"
    },
    "r": {
     "delete_cmd_postfix": ") ",
     "delete_cmd_prefix": "rm(",
     "library": "var_list.r",
     "varRefreshCmd": "cat(var_dic_list()) "
    }
   },
   "types_to_exclude": [
    "module",
    "function",
    "builtin_function_or_method",
    "instance",
    "_Feature"
   ],
   "window_display": false
  }
 },
 "nbformat": 4,
 "nbformat_minor": 4
}
