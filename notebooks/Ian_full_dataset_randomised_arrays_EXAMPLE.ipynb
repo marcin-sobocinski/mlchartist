{
 "cells": [
  {
   "cell_type": "code",
   "execution_count": 1,
   "metadata": {},
   "outputs": [],
   "source": [
    "from mlchartist.array_builder import full_dataset_randomised_arrays\n",
    "from mlchartist.preprocessing import train_test_split\n",
    "\n",
    "import pandas as pd\n",
    "import numpy as np"
   ]
  },
  {
   "cell_type": "code",
   "execution_count": 2,
   "metadata": {},
   "outputs": [
    {
     "name": "stdout",
     "output_type": "stream",
     "text": [
      "joined_df 19103\n"
     ]
    }
   ],
   "source": [
    "apple = pd.read_csv('../raw_data/processed/aapl.csv')\n",
    "google = pd.read_csv('../raw_data/processed/googl.csv')\n",
    "amzn = pd.read_csv('../raw_data/processed/amzn.csv')\n",
    "\n",
    "joined_df = pd.DataFrame()\n",
    "joined_df = joined_df.append(apple)\n",
    "joined_df = joined_df.append(google)\n",
    "joined_df = joined_df.append(amzn)\n",
    "\n",
    "print('joined_df', len(joined_df))\n",
    "print('')\n",
    "\n",
    "\n",
    "apple_train, apple_test = train_test_split(apple, '3Y')\n",
    "google_train, google_test = train_test_split(google, '3Y')\n",
    "amazon_train, amazon_test = train_test_split(amzn, '3Y')\n",
    "\n",
    "print('trains', len(apple_train) + len(google_train) + len(amazon_train))\n",
    "print('tests', len(apple_test) + len(google_test) + len(amazon_test))"
   ]
  },
  {
   "cell_type": "code",
   "execution_count": 3,
   "metadata": {},
   "outputs": [
    {
     "name": "stderr",
     "output_type": "stream",
     "text": [
      "c:\\users\\owner\\.venvs\\lewagon\\lib\\site-packages\\mlchartist\\preprocessing.py:125: SettingWithCopyWarning: \n",
      "A value is trying to be set on a copy of a slice from a DataFrame.\n",
      "Try using .loc[row_indexer,col_indexer] = value instead\n",
      "\n",
      "See the caveats in the documentation: https://pandas.pydata.org/pandas-docs/stable/user_guide/indexing.html#returning-a-view-versus-a-copy\n",
      "  df['date'] = pd.to_datetime(df['date'], format=('%Y-%m-%d'))\n"
     ]
    },
    {
     "name": "stdout",
     "output_type": "stream",
     "text": [
      "3 Companies in Dataset\n",
      "Starting AAPL: Company 1 of 3\n",
      "Starting GOOGL: Company 2 of 3\n",
      "Starting AMZN: Company 3 of 3\n",
      "All Companies Completed\n",
      "\n",
      "Processing Stats: {'AAPL': {'train_possible_windows': 167.28, 'train_outliers': 0, 'train_windows': 168, 'test_possible_windows': 15.02, 'test_outliers': 1, 'test_windows': 15}, 'GOOGL': {'train_possible_windows': 66.66, 'train_outliers': 0, 'train_windows': 67, 'test_possible_windows': 15.02, 'test_outliers': 1, 'test_windows': 15}, 'AMZN': {'train_possible_windows': 103.06, 'train_outliers': 1, 'train_windows': 103, 'test_possible_windows': 15.02, 'test_outliers': 1, 'test_windows': 15}}\n",
      "\n",
      "\n",
      "### Stats ###\n",
      "train_x (338, 6, 15)\n",
      "train_y (338, 6, 3)\n",
      "test_x (45, 6, 15)\n",
      "test_y (45, 6, 3)\n",
      "scaler RobustScaler()\n",
      "\n",
      "\n",
      "### Validation ###\n"
     ]
    },
    {
     "ename": "NameError",
     "evalue": "name 'apple_train' is not defined",
     "output_type": "error",
     "traceback": [
      "\u001b[1;31m---------------------------------------------------------------------------\u001b[0m",
      "\u001b[1;31mNameError\u001b[0m                                 Traceback (most recent call last)",
      "\u001b[1;32m<ipython-input-3-e1ffb47775d3>\u001b[0m in \u001b[0;36m<module>\u001b[1;34m\u001b[0m\n\u001b[0;32m     28\u001b[0m \u001b[0mprint\u001b[0m\u001b[1;33m(\u001b[0m\u001b[1;34m''\u001b[0m\u001b[1;33m)\u001b[0m\u001b[1;33m\u001b[0m\u001b[1;33m\u001b[0m\u001b[0m\n\u001b[0;32m     29\u001b[0m \u001b[0mprint\u001b[0m\u001b[1;33m(\u001b[0m\u001b[1;34m'### Validation ###'\u001b[0m\u001b[1;33m)\u001b[0m\u001b[1;33m\u001b[0m\u001b[1;33m\u001b[0m\u001b[0m\n\u001b[1;32m---> 30\u001b[1;33m \u001b[0mprint\u001b[0m\u001b[1;33m(\u001b[0m\u001b[1;34m'apple_train'\u001b[0m\u001b[1;33m,\u001b[0m \u001b[0mlen\u001b[0m\u001b[1;33m(\u001b[0m\u001b[0mapple_train\u001b[0m\u001b[1;33m)\u001b[0m\u001b[1;33m/\u001b[0m\u001b[0mstride\u001b[0m\u001b[1;33m)\u001b[0m\u001b[1;33m\u001b[0m\u001b[1;33m\u001b[0m\u001b[0m\n\u001b[0m\u001b[0;32m     31\u001b[0m \u001b[0mprint\u001b[0m\u001b[1;33m(\u001b[0m\u001b[1;34m'apple_test'\u001b[0m\u001b[1;33m,\u001b[0m \u001b[0mlen\u001b[0m\u001b[1;33m(\u001b[0m\u001b[0mapple_test\u001b[0m\u001b[1;33m)\u001b[0m\u001b[1;33m/\u001b[0m\u001b[0mstride\u001b[0m\u001b[1;33m)\u001b[0m\u001b[1;33m\u001b[0m\u001b[1;33m\u001b[0m\u001b[0m\n\u001b[0;32m     32\u001b[0m \u001b[0mprint\u001b[0m\u001b[1;33m(\u001b[0m\u001b[1;34m'google_train'\u001b[0m\u001b[1;33m,\u001b[0m \u001b[0mlen\u001b[0m\u001b[1;33m(\u001b[0m\u001b[0mgoogle_train\u001b[0m\u001b[1;33m)\u001b[0m\u001b[1;33m/\u001b[0m\u001b[0mstride\u001b[0m\u001b[1;33m)\u001b[0m\u001b[1;33m\u001b[0m\u001b[1;33m\u001b[0m\u001b[0m\n",
      "\u001b[1;31mNameError\u001b[0m: name 'apple_train' is not defined"
     ]
    }
   ],
   "source": [
    "INPUT_COLS = ['RSI', 'Stochastic', 'Stochastic_signal', 'ADI','OBV', 'ATR', 'ADX', 'ADX_pos', 'ADX_neg', 'MACD', 'MACD_diff',\n",
    "              'MACD_signal', '5TD_return', '10TD_return', '20TD_return']\n",
    "TARGET_COLS=['5TD_return', '10TD_return', '20TD_return']\n",
    "outlier_validation={'5TD_return': [-0.5, 0.5]}\n",
    "\n",
    "stride = 50\n",
    "\n",
    "train_x, train_y, test_x, test_y, scaler = full_dataset_randomised_arrays(joined_df, \n",
    "                                                                                stride=stride, \n",
    "                                                                                input_cols=INPUT_COLS, \n",
    "                                                                                outlier_threshold=1, \n",
    "                                                                                outlier_validation=outlier_validation, \n",
    "                                                                                check_train_outliers=True,\n",
    "                                                                                check_test_outliers=True, \n",
    "                                                                                target_col=TARGET_COLS, \n",
    "                                                                                time_window=6)\n",
    "\n",
    "print('')\n",
    "print('')\n",
    "print('### Stats ###')\n",
    "print('train_x', train_x.shape)\n",
    "print('train_y', train_y.shape)\n",
    "print('test_x', test_x.shape)\n",
    "print('test_y', test_y.shape)\n",
    "print('scaler', scaler)\n",
    "\n",
    "print('')\n",
    "print('')\n",
    "print('### Validation ###')\n",
    "print('apple_train', len(apple_train)/stride)\n",
    "print('apple_test', len(apple_test)/stride)\n",
    "print('google_train', len(google_train)/stride)\n",
    "print('google_test', len(google_test)/stride)\n",
    "print('amazon_train', len(amazon_train)/stride)\n",
    "print('amazon_test', len(amazon_test)/stride)\n",
    "\n",
    "print('trains', len(apple_train) + len(google_train) + len(amazon_train))\n",
    "print('tests', len(apple_test) + len(google_test) + len(amazon_test))\n",
    "\n"
   ]
  }
 ],
 "metadata": {
  "kernelspec": {
   "display_name": "Python 3",
   "language": "python",
   "name": "python3"
  },
  "language_info": {
   "codemirror_mode": {
    "name": "ipython",
    "version": 3
   },
   "file_extension": ".py",
   "mimetype": "text/x-python",
   "name": "python",
   "nbconvert_exporter": "python",
   "pygments_lexer": "ipython3",
   "version": "3.7.7"
  }
 },
 "nbformat": 4,
 "nbformat_minor": 4
}
