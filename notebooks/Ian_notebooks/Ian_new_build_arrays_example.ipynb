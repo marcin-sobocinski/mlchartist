{
 "cells": [
  {
   "cell_type": "code",
   "execution_count": 1,
   "metadata": {},
   "outputs": [],
   "source": [
    "from mlchartist.preprocessing import fit_train_scaler, train_test_split, train_test_split_multiple_companies\n",
    "from mlchartist.array_builder import full_dataset_randomised_arrays\n",
    "\n",
    "import pandas as pd\n",
    "import numpy as np"
   ]
  },
  {
   "cell_type": "code",
   "execution_count": 2,
   "metadata": {},
   "outputs": [
    {
     "name": "stdout",
     "output_type": "stream",
     "text": [
      "joined_df 19103\n",
      "\n",
      "trains 17603\n",
      "tests 1500\n"
     ]
    }
   ],
   "source": [
    "apple = pd.read_csv('../../raw_data/processed/aapl.csv')\n",
    "google = pd.read_csv('../../raw_data/processed/googl.csv')\n",
    "amzn = pd.read_csv('../../raw_data/processed/amzn.csv')\n",
    "\n",
    "joined_df = pd.DataFrame()\n",
    "joined_df = joined_df.append(apple)\n",
    "joined_df = joined_df.append(google)\n",
    "joined_df = joined_df.append(amzn)\n",
    "\n",
    "print('joined_df', len(joined_df))\n",
    "print('')\n",
    "\n",
    "\n",
    "apple_train, apple_test = train_test_split(apple, 500)\n",
    "google_train, google_test = train_test_split(google, 500)\n",
    "amazon_train, amazon_test = train_test_split(amzn, 500)\n",
    "\n",
    "print('trains', len(apple_train) + len(google_train) + len(amazon_train))\n",
    "print('tests', len(apple_test) + len(google_test) + len(amazon_test))"
   ]
  },
  {
   "cell_type": "markdown",
   "metadata": {},
   "source": [
    "## Train/Test Split Function"
   ]
  },
  {
   "cell_type": "code",
   "execution_count": 3,
   "metadata": {},
   "outputs": [
    {
     "name": "stdout",
     "output_type": "stream",
     "text": [
      "train_set 17603\n",
      "test_set 1500\n"
     ]
    }
   ],
   "source": [
    "train_set, test_set = train_test_split_multiple_companies(joined_df, 500)\n",
    "\n",
    "print('train_set', len(train_set))\n",
    "print('test_set', len(test_set))"
   ]
  },
  {
   "cell_type": "markdown",
   "metadata": {},
   "source": [
    "## Fit Scaler Function\n",
    "Fits scaler on dataframe after the outliers have been removed"
   ]
  },
  {
   "cell_type": "code",
   "execution_count": 4,
   "metadata": {},
   "outputs": [
    {
     "data": {
      "text/plain": [
       "RobustScaler()"
      ]
     },
     "execution_count": 4,
     "metadata": {},
     "output_type": "execute_result"
    }
   ],
   "source": [
    "outlier_validation={'5TD_return': [-0.5, 0.5]}\n",
    "input_cols=['RSI', 'Stochastic', 'Stochastic_signal', 'ADI','OBV', 'ATR', 'ADX', 'ADX_pos', \n",
    "            'ADX_neg', 'MACD', 'MACD_diff', 'MACD_signal', '5TD_return', '10TD_return', '20TD_return']\n",
    "\n",
    "fitted_scaler = fit_train_scaler(train_set, outlier_validation=outlier_validation, input_cols=input_cols)\n",
    "fitted_scaler"
   ]
  },
  {
   "cell_type": "markdown",
   "metadata": {},
   "source": [
    "## New Build Arrays Function"
   ]
  },
  {
   "cell_type": "markdown",
   "metadata": {},
   "source": [
    "#### Old Functionality\n",
    "Input full dataframe where the function then splits the data and fits a scaler"
   ]
  },
  {
   "cell_type": "code",
   "execution_count": 6,
   "metadata": {},
   "outputs": [
    {
     "name": "stdout",
     "output_type": "stream",
     "text": [
      "Train/Test Split: Splitting unsplit dataframe\n",
      "Scaler: Fitting scaler on train set\n",
      "3 Companies in Dataset\n",
      "Starting AAPL: Company 1 of 3\n",
      "Starting GOOGL: Company 2 of 3\n",
      "Starting AMZN: Company 3 of 3\n",
      "All Companies Completed\n",
      "\n",
      "\n",
      "\n",
      "### Stats ###\n",
      "train_x (177, 6, 15)\n",
      "train_y (177, 3)\n",
      "test_x (15, 6, 15)\n",
      "test_y (15, 3)\n",
      "scaler RobustScaler()\n"
     ]
    }
   ],
   "source": [
    "INPUT_COLS = ['RSI', 'Stochastic', 'Stochastic_signal', 'ADI','OBV', 'ATR', 'ADX', 'ADX_pos', 'ADX_neg', 'MACD', 'MACD_diff',\n",
    "              'MACD_signal', '5TD_return', '10TD_return', '20TD_return']\n",
    "TARGET_COLS=['5TD_return', '10TD_return', '20TD_return']\n",
    "outlier_validation={'5TD_return': [-0.5, 0.5]}\n",
    "\n",
    "stride = 100\n",
    "\n",
    "\n",
    "train_x, train_y, test_x, test_y, scaler = full_dataset_randomised_arrays(unsplit_df=joined_df, \n",
    "                                                                          #IMPORTANT: need use unsplit_df=df\n",
    "                                                                            #train_df=train_set, \n",
    "                                                                            #test_df=test_set, \n",
    "                                                                            stride=stride,\n",
    "                                                                            #fitted_scaler=scaler,\n",
    "                                                                            #split_dataframe=True,\n",
    "                                                                            input_cols=INPUT_COLS, \n",
    "                                                                            outlier_threshold=1, \n",
    "                                                                            outlier_validation=outlier_validation, \n",
    "                                                                            check_train_outliers=True,\n",
    "                                                                            check_test_outliers=True, \n",
    "                                                                            target_col=TARGET_COLS, \n",
    "                                                                            time_window=6,\n",
    "                                                                            test_set_size=500)\n",
    "\n",
    "print('')\n",
    "print('')\n",
    "print('### Stats ###')\n",
    "print('train_x', train_x.shape)\n",
    "print('train_y', train_y.shape)\n",
    "print('test_x', test_x.shape)\n",
    "print('test_y', test_y.shape)\n",
    "print('scaler', scaler)"
   ]
  },
  {
   "cell_type": "markdown",
   "metadata": {},
   "source": [
    "#### Pass Fitted Scaler to Function\n",
    "Input full dataframe with a pre-fitted scaler"
   ]
  },
  {
   "cell_type": "code",
   "execution_count": 7,
   "metadata": {},
   "outputs": [
    {
     "name": "stdout",
     "output_type": "stream",
     "text": [
      "Train/Test Split: Splitting unsplit dataframe\n",
      "Scaler: Using provided fitted_scaler\n",
      "3 Companies in Dataset\n",
      "Starting AAPL: Company 1 of 3\n",
      "Starting GOOGL: Company 2 of 3\n",
      "Starting AMZN: Company 3 of 3\n",
      "All Companies Completed\n",
      "\n",
      "\n",
      "\n",
      "### Stats ###\n",
      "train_x (177, 6, 15)\n",
      "train_y (177, 3)\n",
      "test_x (15, 6, 15)\n",
      "test_y (15, 3)\n",
      "scaler RobustScaler()\n"
     ]
    }
   ],
   "source": [
    "INPUT_COLS = ['RSI', 'Stochastic', 'Stochastic_signal', 'ADI','OBV', 'ATR', 'ADX', 'ADX_pos', 'ADX_neg', 'MACD', 'MACD_diff',\n",
    "              'MACD_signal', '5TD_return', '10TD_return', '20TD_return']\n",
    "TARGET_COLS=['5TD_return', '10TD_return', '20TD_return']\n",
    "outlier_validation={'5TD_return': [-0.5, 0.5]}\n",
    "\n",
    "stride = 100\n",
    "\n",
    "\n",
    "train_x, train_y, test_x, test_y, scaler = full_dataset_randomised_arrays(unsplit_df=joined_df, \n",
    "                                                                          #IMPORTANT: need use unsplit_df=df\n",
    "                                                                            stride=stride,\n",
    "                                                                            fitted_scaler=fitted_scaler, ## <-- HERE\n",
    "                                                                            input_cols=INPUT_COLS, \n",
    "                                                                            outlier_threshold=1, \n",
    "                                                                            outlier_validation=outlier_validation, \n",
    "                                                                            check_train_outliers=True,\n",
    "                                                                            check_test_outliers=True, \n",
    "                                                                            target_col=TARGET_COLS, \n",
    "                                                                            time_window=6,\n",
    "                                                                            test_set_size=500)\n",
    "\n",
    "print('')\n",
    "print('')\n",
    "print('### Stats ###')\n",
    "print('train_x', train_x.shape)\n",
    "print('train_y', train_y.shape)\n",
    "print('test_x', test_x.shape)\n",
    "print('test_y', test_y.shape)\n",
    "print('scaler', scaler)"
   ]
  },
  {
   "cell_type": "markdown",
   "metadata": {},
   "source": [
    "#### Pass Pre Split Train & Test Set\n",
    "Instead of inputting a full dataframe, input a train and test set into the function. <br>\n",
    "NOTE: By default the function will use the unsplit_df so make sure unsplit_df=None"
   ]
  },
  {
   "cell_type": "code",
   "execution_count": 8,
   "metadata": {},
   "outputs": [
    {
     "name": "stdout",
     "output_type": "stream",
     "text": [
      "Train/Test Split: Using provided train/test split dataframe\n",
      "Scaler: Fitting scaler on train set\n",
      "3 Companies in Dataset\n",
      "Starting AAPL: Company 1 of 3\n",
      "Starting GOOGL: Company 2 of 3\n",
      "Starting AMZN: Company 3 of 3\n",
      "All Companies Completed\n",
      "\n",
      "\n",
      "\n",
      "### Stats ###\n",
      "train_x (177, 6, 15)\n",
      "train_y (177, 3)\n",
      "test_x (15, 6, 15)\n",
      "test_y (15, 3)\n",
      "scaler RobustScaler()\n"
     ]
    }
   ],
   "source": [
    "INPUT_COLS = ['RSI', 'Stochastic', 'Stochastic_signal', 'ADI','OBV', 'ATR', 'ADX', 'ADX_pos', 'ADX_neg', 'MACD', 'MACD_diff',\n",
    "              'MACD_signal', '5TD_return', '10TD_return', '20TD_return']\n",
    "TARGET_COLS=['5TD_return', '10TD_return', '20TD_return']\n",
    "outlier_validation={'5TD_return': [-0.5, 0.5]}\n",
    "\n",
    "stride = 100\n",
    "\n",
    "\n",
    "train_x, train_y, test_x, test_y, scaler = full_dataset_randomised_arrays(unsplit_df=None, \n",
    "                                                                            train_df=train_set,  ## <-- HERE\n",
    "                                                                            test_df=test_set,     ## <-- HERE\n",
    "                                                                            stride=stride,\n",
    "                                                                            input_cols=INPUT_COLS, \n",
    "                                                                            outlier_threshold=1, \n",
    "                                                                            outlier_validation=outlier_validation, \n",
    "                                                                            check_train_outliers=True,\n",
    "                                                                            check_test_outliers=True, \n",
    "                                                                            target_col=TARGET_COLS, \n",
    "                                                                            time_window=6,\n",
    "                                                                            test_set_size=500)\n",
    "\n",
    "print('')\n",
    "print('')\n",
    "print('### Stats ###')\n",
    "print('train_x', train_x.shape)\n",
    "print('train_y', train_y.shape)\n",
    "print('test_x', test_x.shape)\n",
    "print('test_y', test_y.shape)\n",
    "print('scaler', scaler)"
   ]
  },
  {
   "cell_type": "markdown",
   "metadata": {},
   "source": [
    "#### Don't Split The Data (Holdout Dataset)\n",
    "Uses the unsplit_df dataframe but doesn't split it."
   ]
  },
  {
   "cell_type": "code",
   "execution_count": 9,
   "metadata": {},
   "outputs": [
    {
     "name": "stdout",
     "output_type": "stream",
     "text": [
      "Train/Test Split: Not splitting dataframe. (Holdout Data)\n",
      "Scaler: Fitting scaler on train set\n",
      "3 Companies in Dataset\n",
      "Starting AAPL: Company 1 of 3\n",
      "Starting GOOGL: Company 2 of 3\n",
      "Starting AMZN: Company 3 of 3\n",
      "All Companies Completed\n",
      "\n",
      "\n",
      "\n",
      "### Stats ###\n",
      "holdout_x (192, 6, 15)\n",
      "holdout_y (192, 3)\n",
      "scaler RobustScaler()\n"
     ]
    }
   ],
   "source": [
    "INPUT_COLS = ['RSI', 'Stochastic', 'Stochastic_signal', 'ADI','OBV', 'ATR', 'ADX', 'ADX_pos', 'ADX_neg', 'MACD', 'MACD_diff',\n",
    "              'MACD_signal', '5TD_return', '10TD_return', '20TD_return']\n",
    "TARGET_COLS=['5TD_return', '10TD_return', '20TD_return']\n",
    "outlier_validation={'5TD_return': [-0.5, 0.5]}\n",
    "\n",
    "stride = 100\n",
    "\n",
    "\n",
    "holdout_x, holdout_y, scaler = full_dataset_randomised_arrays(unsplit_df=joined_df, \n",
    "                                                                            stride=stride,\n",
    "                                                                            split_dataframe=False, ## <-- HERE, use for holdout\n",
    "                                                                            input_cols=INPUT_COLS, \n",
    "                                                                            outlier_threshold=1, \n",
    "                                                                            outlier_validation=outlier_validation, \n",
    "                                                                            check_train_outliers=True,\n",
    "                                                                            check_test_outliers=True, \n",
    "                                                                            target_col=TARGET_COLS, \n",
    "                                                                            time_window=6,\n",
    "                                                                            test_set_size=500)\n",
    "\n",
    "print('')\n",
    "print('')\n",
    "print('### Stats ###')\n",
    "print('holdout_x', holdout_x.shape)\n",
    "print('holdout_y', holdout_y.shape)\n",
    "print('scaler', scaler)"
   ]
  },
  {
   "cell_type": "code",
   "execution_count": null,
   "metadata": {},
   "outputs": [],
   "source": []
  }
 ],
 "metadata": {
  "kernelspec": {
   "display_name": "Python 3",
   "language": "python",
   "name": "python3"
  },
  "language_info": {
   "codemirror_mode": {
    "name": "ipython",
    "version": 3
   },
   "file_extension": ".py",
   "mimetype": "text/x-python",
   "name": "python",
   "nbconvert_exporter": "python",
   "pygments_lexer": "ipython3",
   "version": "3.7.7"
  }
 },
 "nbformat": 4,
 "nbformat_minor": 4
}
