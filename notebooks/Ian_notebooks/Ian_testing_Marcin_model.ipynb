{
 "cells": [
  {
   "cell_type": "code",
   "execution_count": 1,
   "metadata": {},
   "outputs": [],
   "source": [
    "from tensorflow.keras import models\n",
    "from pickle import load\n",
    "\n",
    "from mlchartist.preprocessing import train_test_split_multiple_companies\n",
    "from mlchartist.array_builder import full_dataset_randomised_arrays\n",
    "\n",
    "import pandas as pd\n",
    "import numpy as np"
   ]
  },
  {
   "cell_type": "code",
   "execution_count": 2,
   "metadata": {},
   "outputs": [],
   "source": [
    "model_n100 = models.load_model('../../models/Nasdaq_100_150k')"
   ]
  },
  {
   "cell_type": "code",
   "execution_count": 3,
   "metadata": {},
   "outputs": [
    {
     "name": "stdout",
     "output_type": "stream",
     "text": [
      "Model: \"sequential_23\"\n",
      "_________________________________________________________________\n",
      "Layer (type)                 Output Shape              Param #   \n",
      "=================================================================\n",
      "lstm_46 (LSTM)               (None, 30, 200)           171200    \n",
      "_________________________________________________________________\n",
      "lstm_47 (LSTM)               (None, 200)               320800    \n",
      "_________________________________________________________________\n",
      "dropout_69 (Dropout)         (None, 200)               0         \n",
      "_________________________________________________________________\n",
      "batch_normalization_10 (Batc (None, 200)               800       \n",
      "_________________________________________________________________\n",
      "dense_92 (Dense)             (None, 200)               40200     \n",
      "_________________________________________________________________\n",
      "dropout_70 (Dropout)         (None, 200)               0         \n",
      "_________________________________________________________________\n",
      "dense_93 (Dense)             (None, 100)               20100     \n",
      "_________________________________________________________________\n",
      "dropout_71 (Dropout)         (None, 100)               0         \n",
      "_________________________________________________________________\n",
      "dense_94 (Dense)             (None, 50)                5050      \n",
      "_________________________________________________________________\n",
      "dense_95 (Dense)             (None, 1)                 51        \n",
      "=================================================================\n",
      "Total params: 558,201\n",
      "Trainable params: 557,801\n",
      "Non-trainable params: 400\n",
      "_________________________________________________________________\n"
     ]
    }
   ],
   "source": [
    "model_n100.summary()"
   ]
  },
  {
   "cell_type": "code",
   "execution_count": 7,
   "metadata": {},
   "outputs": [
    {
     "data": {
      "text/plain": [
       "RobustScaler()"
      ]
     },
     "execution_count": 7,
     "metadata": {},
     "output_type": "execute_result"
    }
   ],
   "source": [
    "import joblib\n",
    "marcin_scaler = joblib.load('../../models/scaler') \n",
    "#marcin_scaler = load(open('../../models/scaler.pkl', 'rb'))\n",
    "marcin_scaler"
   ]
  },
  {
   "cell_type": "markdown",
   "metadata": {},
   "source": [
    "## Load in Data"
   ]
  },
  {
   "cell_type": "code",
   "execution_count": 14,
   "metadata": {},
   "outputs": [
    {
     "data": {
      "text/plain": [
       "15"
      ]
     },
     "execution_count": 14,
     "metadata": {},
     "output_type": "execute_result"
    }
   ],
   "source": [
    "test_tickers = [\n",
    "    'PAYX','CERN', 'MYL', 'ILMN', 'ADBE', 'DLTR', 'MXIM', 'ALGN', 'ADP', 'KLAC', 'FAST', 'AMAT', 'NTES', 'NFLX', 'MELI'\n",
    "]\n",
    "len(test_tickers)"
   ]
  },
  {
   "cell_type": "code",
   "execution_count": 9,
   "metadata": {},
   "outputs": [],
   "source": [
    "joined_df = pd.DataFrame()\n",
    "\n",
    "# Takes nrows from history from each company from the sample\n",
    "nrows = 3000\n",
    "\n",
    "for ticker in test_tickers:\n",
    "    ticker_path = '../../raw_data/processed/' + ticker.strip().lower() + '.csv'\n",
    "    ticker_df = pd.read_csv(ticker_path, nrows=nrows)\n",
    "    joined_df = joined_df.append(ticker_df)"
   ]
  },
  {
   "cell_type": "code",
   "execution_count": 11,
   "metadata": {},
   "outputs": [
    {
     "data": {
      "text/html": [
       "<div>\n",
       "<style scoped>\n",
       "    .dataframe tbody tr th:only-of-type {\n",
       "        vertical-align: middle;\n",
       "    }\n",
       "\n",
       "    .dataframe tbody tr th {\n",
       "        vertical-align: top;\n",
       "    }\n",
       "\n",
       "    .dataframe thead th {\n",
       "        text-align: right;\n",
       "    }\n",
       "</style>\n",
       "<table border=\"1\" class=\"dataframe\">\n",
       "  <thead>\n",
       "    <tr style=\"text-align: right;\">\n",
       "      <th></th>\n",
       "      <th>ticker</th>\n",
       "      <th>date</th>\n",
       "      <th>RSI</th>\n",
       "      <th>Stochastic</th>\n",
       "      <th>Stochastic_signal</th>\n",
       "      <th>ADI</th>\n",
       "      <th>OBV</th>\n",
       "      <th>ATR</th>\n",
       "      <th>ADX</th>\n",
       "      <th>ADX_pos</th>\n",
       "      <th>ADX_neg</th>\n",
       "      <th>MACD</th>\n",
       "      <th>MACD_diff</th>\n",
       "      <th>MACD_signal</th>\n",
       "      <th>5TD_return</th>\n",
       "      <th>10TD_return</th>\n",
       "      <th>20TD_return</th>\n",
       "      <th>1D_past_return</th>\n",
       "      <th>5D_past_return</th>\n",
       "      <th>10D_past_return</th>\n",
       "    </tr>\n",
       "  </thead>\n",
       "  <tbody>\n",
       "    <tr>\n",
       "      <th>0</th>\n",
       "      <td>PAYX</td>\n",
       "      <td>2020-12-23</td>\n",
       "      <td>56.298581</td>\n",
       "      <td>39.804772</td>\n",
       "      <td>74.043277</td>\n",
       "      <td>1.399423e+09</td>\n",
       "      <td>1512280848</td>\n",
       "      <td>1.970887</td>\n",
       "      <td>32.841726</td>\n",
       "      <td>33.964426</td>\n",
       "      <td>12.138839</td>\n",
       "      <td>1.651348</td>\n",
       "      <td>-0.035694</td>\n",
       "      <td>1.687043</td>\n",
       "      <td>-0.012924</td>\n",
       "      <td>-0.025212</td>\n",
       "      <td>-0.078814</td>\n",
       "      <td>-0.023078</td>\n",
       "      <td>-0.000741</td>\n",
       "      <td>0.012658</td>\n",
       "    </tr>\n",
       "    <tr>\n",
       "      <th>1</th>\n",
       "      <td>PAYX</td>\n",
       "      <td>2020-12-22</td>\n",
       "      <td>67.402102</td>\n",
       "      <td>91.331269</td>\n",
       "      <td>93.014603</td>\n",
       "      <td>1.402695e+09</td>\n",
       "      <td>1515648489</td>\n",
       "      <td>1.689417</td>\n",
       "      <td>31.726424</td>\n",
       "      <td>30.104183</td>\n",
       "      <td>15.250593</td>\n",
       "      <td>1.803493</td>\n",
       "      <td>0.107527</td>\n",
       "      <td>1.695966</td>\n",
       "      <td>-0.046466</td>\n",
       "      <td>-0.052779</td>\n",
       "      <td>-0.101004</td>\n",
       "      <td>0.000414</td>\n",
       "      <td>0.033144</td>\n",
       "      <td>0.035358</td>\n",
       "    </tr>\n",
       "    <tr>\n",
       "      <th>2</th>\n",
       "      <td>PAYX</td>\n",
       "      <td>2020-12-21</td>\n",
       "      <td>67.294665</td>\n",
       "      <td>90.993789</td>\n",
       "      <td>95.240169</td>\n",
       "      <td>1.403445e+09</td>\n",
       "      <td>1513500258</td>\n",
       "      <td>1.755526</td>\n",
       "      <td>31.647704</td>\n",
       "      <td>31.111397</td>\n",
       "      <td>15.805237</td>\n",
       "      <td>1.744399</td>\n",
       "      <td>0.075314</td>\n",
       "      <td>1.669084</td>\n",
       "      <td>-0.035718</td>\n",
       "      <td>-0.056321</td>\n",
       "      <td>-0.093591</td>\n",
       "      <td>-0.003405</td>\n",
       "      <td>0.057593</td>\n",
       "      <td>0.032496</td>\n",
       "    </tr>\n",
       "    <tr>\n",
       "      <th>3</th>\n",
       "      <td>PAYX</td>\n",
       "      <td>2020-12-18</td>\n",
       "      <td>69.037751</td>\n",
       "      <td>96.718750</td>\n",
       "      <td>95.241428</td>\n",
       "      <td>1.402419e+09</td>\n",
       "      <td>1515660051</td>\n",
       "      <td>1.720567</td>\n",
       "      <td>31.572592</td>\n",
       "      <td>34.185348</td>\n",
       "      <td>13.745521</td>\n",
       "      <td>1.647672</td>\n",
       "      <td>-0.002584</td>\n",
       "      <td>1.650256</td>\n",
       "      <td>-0.027033</td>\n",
       "      <td>-0.071193</td>\n",
       "      <td>-0.078415</td>\n",
       "      <td>0.013278</td>\n",
       "      <td>0.055543</td>\n",
       "      <td>0.025934</td>\n",
       "    </tr>\n",
       "    <tr>\n",
       "      <th>4</th>\n",
       "      <td>PAYX</td>\n",
       "      <td>2020-12-17</td>\n",
       "      <td>65.879405</td>\n",
       "      <td>98.007968</td>\n",
       "      <td>87.434655</td>\n",
       "      <td>1.400213e+09</td>\n",
       "      <td>1512467854</td>\n",
       "      <td>1.739072</td>\n",
       "      <td>30.720915</td>\n",
       "      <td>30.319197</td>\n",
       "      <td>14.645354</td>\n",
       "      <td>1.466647</td>\n",
       "      <td>-0.184254</td>\n",
       "      <td>1.650902</td>\n",
       "      <td>-0.009827</td>\n",
       "      <td>-0.055306</td>\n",
       "      <td>-0.076424</td>\n",
       "      <td>0.012491</td>\n",
       "      <td>0.047186</td>\n",
       "      <td>0.025188</td>\n",
       "    </tr>\n",
       "  </tbody>\n",
       "</table>\n",
       "</div>"
      ],
      "text/plain": [
       "  ticker        date        RSI  Stochastic  Stochastic_signal           ADI  \\\n",
       "0   PAYX  2020-12-23  56.298581   39.804772          74.043277  1.399423e+09   \n",
       "1   PAYX  2020-12-22  67.402102   91.331269          93.014603  1.402695e+09   \n",
       "2   PAYX  2020-12-21  67.294665   90.993789          95.240169  1.403445e+09   \n",
       "3   PAYX  2020-12-18  69.037751   96.718750          95.241428  1.402419e+09   \n",
       "4   PAYX  2020-12-17  65.879405   98.007968          87.434655  1.400213e+09   \n",
       "\n",
       "          OBV       ATR        ADX    ADX_pos    ADX_neg      MACD  MACD_diff  \\\n",
       "0  1512280848  1.970887  32.841726  33.964426  12.138839  1.651348  -0.035694   \n",
       "1  1515648489  1.689417  31.726424  30.104183  15.250593  1.803493   0.107527   \n",
       "2  1513500258  1.755526  31.647704  31.111397  15.805237  1.744399   0.075314   \n",
       "3  1515660051  1.720567  31.572592  34.185348  13.745521  1.647672  -0.002584   \n",
       "4  1512467854  1.739072  30.720915  30.319197  14.645354  1.466647  -0.184254   \n",
       "\n",
       "   MACD_signal  5TD_return  10TD_return  20TD_return  1D_past_return  \\\n",
       "0     1.687043   -0.012924    -0.025212    -0.078814       -0.023078   \n",
       "1     1.695966   -0.046466    -0.052779    -0.101004        0.000414   \n",
       "2     1.669084   -0.035718    -0.056321    -0.093591       -0.003405   \n",
       "3     1.650256   -0.027033    -0.071193    -0.078415        0.013278   \n",
       "4     1.650902   -0.009827    -0.055306    -0.076424        0.012491   \n",
       "\n",
       "   5D_past_return  10D_past_return  \n",
       "0       -0.000741         0.012658  \n",
       "1        0.033144         0.035358  \n",
       "2        0.057593         0.032496  \n",
       "3        0.055543         0.025934  \n",
       "4        0.047186         0.025188  "
      ]
     },
     "execution_count": 11,
     "metadata": {},
     "output_type": "execute_result"
    }
   ],
   "source": [
    "joined_df.head()"
   ]
  },
  {
   "cell_type": "code",
   "execution_count": 10,
   "metadata": {},
   "outputs": [
    {
     "data": {
      "text/plain": [
       "Index(['ticker', 'date', 'RSI', 'Stochastic', 'Stochastic_signal', 'ADI',\n",
       "       'OBV', 'ATR', 'ADX', 'ADX_pos', 'ADX_neg', 'MACD', 'MACD_diff',\n",
       "       'MACD_signal', '5TD_return', '10TD_return', '20TD_return',\n",
       "       '1D_past_return', '5D_past_return', '10D_past_return'],\n",
       "      dtype='object')"
      ]
     },
     "execution_count": 10,
     "metadata": {},
     "output_type": "execute_result"
    }
   ],
   "source": [
    "joined_df.keys()"
   ]
  },
  {
   "cell_type": "code",
   "execution_count": 13,
   "metadata": {},
   "outputs": [
    {
     "data": {
      "text/plain": [
       "45000"
      ]
     },
     "execution_count": 13,
     "metadata": {},
     "output_type": "execute_result"
    }
   ],
   "source": [
    "len(joined_df)"
   ]
  },
  {
   "cell_type": "code",
   "execution_count": 15,
   "metadata": {},
   "outputs": [],
   "source": [
    "joined_df['date'] = pd.to_datetime(joined_df['date'])\n",
    "\n",
    "FIVE_TR = 0.0006\n",
    "TEN_TR = 0.0012\n",
    "TWENTY_TR = 0.0024\n",
    "\n",
    "joined_df['5D_return_bin'] = (joined_df['5TD_return'] >= FIVE_TR)\n",
    "joined_df['10D_return_bin'] = (joined_df['10TD_return'] >= TEN_TR)\n",
    "joined_df['20D_return_bin'] = (joined_df['20TD_return'] >= TWENTY_TR)"
   ]
  },
  {
   "cell_type": "markdown",
   "metadata": {},
   "source": [
    "## Split Test Set"
   ]
  },
  {
   "cell_type": "code",
   "execution_count": 16,
   "metadata": {},
   "outputs": [
    {
     "name": "stdout",
     "output_type": "stream",
     "text": [
      "train_set 37546\n",
      "test_set 7454\n"
     ]
    }
   ],
   "source": [
    "train_set, test_set = train_test_split_multiple_companies(joined_df, '2Y')\n",
    "\n",
    "print('train_set', len(train_set))\n",
    "print('test_set', len(test_set))"
   ]
  },
  {
   "cell_type": "markdown",
   "metadata": {},
   "source": [
    "## Generate Test Set"
   ]
  },
  {
   "cell_type": "markdown",
   "metadata": {},
   "source": [
    "#### With outliers"
   ]
  },
  {
   "cell_type": "code",
   "execution_count": 18,
   "metadata": {},
   "outputs": [
    {
     "name": "stdout",
     "output_type": "stream",
     "text": [
      "Train/Test Split: Not splitting dataframe. (Holdout Data)\n",
      "Scaler: Using provided fitted_scaler\n",
      "15 Companies in Dataset\n",
      "Starting PAYX: Company 1 of 15\n",
      "Starting CERN: Company 2 of 15\n",
      "Starting MYL: Company 3 of 15\n",
      "Starting ILMN: Company 4 of 15\n",
      "Starting ADBE: Company 5 of 15\n",
      "Starting DLTR: Company 6 of 15\n",
      "Starting MXIM: Company 7 of 15\n",
      "Starting ALGN: Company 8 of 15\n",
      "Starting ADP: Company 9 of 15\n",
      "Starting KLAC: Company 10 of 15\n",
      "Starting FAST: Company 11 of 15\n",
      "Starting AMAT: Company 12 of 15\n",
      "Starting NTE: Company 13 of 15\n",
      "Starting NFLX: Company 14 of 15\n",
      "Starting MELI: Company 15 of 15\n",
      "All Companies Completed\n",
      "\n",
      "\n",
      "\n",
      "### Stats ###\n",
      "holdout_x (7019, 30, 13)\n",
      "holdout_y (7019, 1)\n",
      "scaler RobustScaler()\n"
     ]
    }
   ],
   "source": [
    "INPUT_COLS = ['RSI', 'Stochastic', 'Stochastic_signal', 'ATR', 'ADX', 'ADX_pos', 'ADX_neg', 'MACD', \n",
    "              'MACD_diff','MACD_signal', '1D_past_return', '5D_past_return', '10D_past_return']\n",
    "\n",
    "TARGET_COLS=['10D_return_bin']\n",
    "outlier_validation={'1D_past_return': [-0.3, 0.3]}\n",
    "\n",
    "stride = 1\n",
    "\n",
    "holdout_x, holdout_y, scaler = full_dataset_randomised_arrays(unsplit_df=test_set, \n",
    "                                                                            stride=stride,\n",
    "                                                                            split_dataframe=False, ## <-- HERE, use for holdout\n",
    "                                                                            input_cols=INPUT_COLS, \n",
    "                                                                            fitted_scaler=marcin_scaler,\n",
    "                                                                            outlier_threshold=1, \n",
    "                                                                            outlier_validation=outlier_validation, \n",
    "                                                                            check_train_outliers=False,\n",
    "                                                                            check_test_outliers=False, \n",
    "                                                                            target_col=TARGET_COLS, \n",
    "                                                                            time_window=30,\n",
    "                                                                            test_set_size='2Y')\n",
    "\n",
    "print('')\n",
    "print('')\n",
    "print('### Stats ###')\n",
    "print('holdout_x', holdout_x.shape)\n",
    "print('holdout_y', holdout_y.shape)\n",
    "print('scaler', scaler)"
   ]
  },
  {
   "cell_type": "code",
   "execution_count": 20,
   "metadata": {},
   "outputs": [
    {
     "name": "stdout",
     "output_type": "stream",
     "text": [
      "220/220 [==============================] - 20s 92ms/step - loss: 0.3310 - precision_24: 0.9294 - accuracy: 0.8819 16s -  - ETA: 14s - loss: 0.3142 - precision_24: - ETA: 13s - loss: 0.3239 - precision_24: 0.9393 - accuracy:  - ETA: 13s - loss: 0.3279 - precision_24: 0.93 - ETA: 3s - loss: 0.3331 \n"
     ]
    },
    {
     "data": {
      "text/plain": [
       "[0.33103007078170776, 0.9293519854545593, 0.8818920254707336]"
      ]
     },
     "execution_count": 20,
     "metadata": {},
     "output_type": "execute_result"
    }
   ],
   "source": [
    "model_n100.evaluate(holdout_x, holdout_y)"
   ]
  },
  {
   "cell_type": "markdown",
   "metadata": {},
   "source": [
    "#### Without Outliers"
   ]
  },
  {
   "cell_type": "code",
   "execution_count": 21,
   "metadata": {},
   "outputs": [
    {
     "name": "stdout",
     "output_type": "stream",
     "text": [
      "Train/Test Split: Not splitting dataframe. (Holdout Data)\n",
      "Scaler: Using provided fitted_scaler\n",
      "15 Companies in Dataset\n",
      "Starting PAYX: Company 1 of 15\n",
      "Starting CERN: Company 2 of 15\n",
      "Starting MYL: Company 3 of 15\n",
      "Starting ILMN: Company 4 of 15\n",
      "Starting ADBE: Company 5 of 15\n",
      "Starting DLTR: Company 6 of 15\n",
      "Starting MXIM: Company 7 of 15\n",
      "Starting ALGN: Company 8 of 15\n",
      "Starting ADP: Company 9 of 15\n",
      "Starting KLAC: Company 10 of 15\n",
      "Starting FAST: Company 11 of 15\n",
      "Starting AMAT: Company 12 of 15\n",
      "Starting NTE: Company 13 of 15\n",
      "Starting NFLX: Company 14 of 15\n",
      "Starting MELI: Company 15 of 15\n",
      "All Companies Completed\n",
      "\n",
      "\n",
      "\n",
      "### Stats ###\n",
      "holdout_x (6989, 30, 13)\n",
      "holdout_y (6989, 1)\n",
      "scaler RobustScaler()\n"
     ]
    }
   ],
   "source": [
    "INPUT_COLS = ['RSI', 'Stochastic', 'Stochastic_signal', 'ATR', 'ADX', 'ADX_pos', 'ADX_neg', 'MACD', \n",
    "              'MACD_diff','MACD_signal', '1D_past_return', '5D_past_return', '10D_past_return']\n",
    "\n",
    "TARGET_COLS=['10D_return_bin']\n",
    "outlier_validation={'1D_past_return': [-0.3, 0.3]}\n",
    "\n",
    "stride = 1\n",
    "\n",
    "holdout_x_without_outliers, holdout_y_without_outliers, scaler = full_dataset_randomised_arrays(unsplit_df=test_set, \n",
    "                                                                            stride=stride,\n",
    "                                                                            split_dataframe=False, ## <-- HERE, use for holdout\n",
    "                                                                            input_cols=INPUT_COLS, \n",
    "                                                                            fitted_scaler=marcin_scaler,\n",
    "                                                                            outlier_threshold=1, \n",
    "                                                                            outlier_validation=outlier_validation, \n",
    "                                                                            check_train_outliers=True,\n",
    "                                                                            check_test_outliers=True, \n",
    "                                                                            target_col=TARGET_COLS, \n",
    "                                                                            time_window=30,\n",
    "                                                                            test_set_size='2Y')\n",
    "\n",
    "print('')\n",
    "print('')\n",
    "print('### Stats ###')\n",
    "print('holdout_x', holdout_x_without_outliers.shape)\n",
    "print('holdout_y', holdout_y_without_outliers.shape)\n",
    "print('scaler', scaler)"
   ]
  },
  {
   "cell_type": "code",
   "execution_count": 22,
   "metadata": {},
   "outputs": [
    {
     "name": "stdout",
     "output_type": "stream",
     "text": [
      "219/219 [==============================] - 21s 96ms/step - loss: 0.3305 - precision_24: 0.9290 - accuracy: 0.8821 12s - loss:  - ETA: 9s - loss:  - ETA: 4s - loss:\n"
     ]
    },
    {
     "data": {
      "text/plain": [
       "[0.3304578363895416, 0.929009199142456, 0.8821004629135132]"
      ]
     },
     "execution_count": 22,
     "metadata": {},
     "output_type": "execute_result"
    }
   ],
   "source": [
    "model_n100.evaluate(holdout_x_without_outliers, holdout_y_without_outliers)"
   ]
  }
 ],
 "metadata": {
  "kernelspec": {
   "display_name": "Python 3",
   "language": "python",
   "name": "python3"
  },
  "language_info": {
   "codemirror_mode": {
    "name": "ipython",
    "version": 3
   },
   "file_extension": ".py",
   "mimetype": "text/x-python",
   "name": "python",
   "nbconvert_exporter": "python",
   "pygments_lexer": "ipython3",
   "version": "3.7.7"
  }
 },
 "nbformat": 4,
 "nbformat_minor": 4
}
