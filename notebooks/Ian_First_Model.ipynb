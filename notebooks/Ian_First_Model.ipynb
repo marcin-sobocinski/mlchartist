{
 "cells": [
  {
   "cell_type": "code",
   "execution_count": 3,
   "metadata": {},
   "outputs": [],
   "source": [
    "import pandas as pd\n",
    "import numpy as np\n",
    "\n",
    "from mlchartist.array_builder import full_dataset_randomised_arrays_"
   ]
  },
  {
   "cell_type": "code",
   "execution_count": 4,
   "metadata": {},
   "outputs": [],
   "source": [
    "apple = pd.read_csv('../raw_data/processed/aapl.csv')\n",
    "google = pd.read_csv('../raw_data/processed/googl.csv')\n",
    "amzn = pd.read_csv('../raw_data/processed/amzn.csv')\n",
    "tsla = pd.read_csv('../raw_data/processed/tsla.csv')\n",
    "amd = pd.read_csv('../raw_data/processed/amd.csv')\n",
    "intc = pd.read_csv('../raw_data/processed/intc.csv')"
   ]
  },
  {
   "cell_type": "code",
   "execution_count": 5,
   "metadata": {},
   "outputs": [],
   "source": [
    "joined_df = pd.DataFrame()\n",
    "joined_df = joined_df.append(apple)\n",
    "joined_df = joined_df.append(google)\n",
    "joined_df = joined_df.append(amzn)\n",
    "joined_df = joined_df.append(tsla)\n",
    "joined_df = joined_df.append(amd)\n",
    "joined_df = joined_df.append(intc)"
   ]
  },
  {
   "cell_type": "code",
   "execution_count": 6,
   "metadata": {},
   "outputs": [
    {
     "name": "stderr",
     "output_type": "stream",
     "text": [
      "c:\\users\\owner\\.venvs\\lewagon\\lib\\site-packages\\mlchartist\\preprocessing.py:125: SettingWithCopyWarning: \n",
      "A value is trying to be set on a copy of a slice from a DataFrame.\n",
      "Try using .loc[row_indexer,col_indexer] = value instead\n",
      "\n",
      "See the caveats in the documentation: https://pandas.pydata.org/pandas-docs/stable/user_guide/indexing.html#returning-a-view-versus-a-copy\n",
      "  df['date'] = pd.to_datetime(df['date'], format=('%Y-%m-%d'))\n"
     ]
    },
    {
     "name": "stdout",
     "output_type": "stream",
     "text": [
      "6 Companies in Dataset\n",
      "Starting AAPL: Company 1 of 6\n",
      "Starting GOOGL: Company 2 of 6\n",
      "Starting AMZN: Company 3 of 6\n",
      "Starting TSLA: Company 4 of 6\n",
      "Starting AMD: Company 5 of 6\n",
      "Starting INTC: Company 6 of 6\n",
      "All Companies Completed\n",
      "\n",
      "Processing Stats: {'AAPL': {'train_possible_windows': 1672.8, 'train_outliers': 19, 'train_windows': 1654, 'test_possible_windows': 150.2, 'test_outliers': 6, 'test_windows': 145}, 'GOOGL': {'train_possible_windows': 666.6, 'train_outliers': 6, 'train_windows': 661, 'test_possible_windows': 150.2, 'test_outliers': 6, 'test_windows': 145}, 'AMZN': {'train_possible_windows': 1030.6, 'train_outliers': 30, 'train_windows': 1001, 'test_possible_windows': 150.2, 'test_outliers': 6, 'test_windows': 145}, 'TSLA': {'train_possible_windows': 371.6, 'train_outliers': 12, 'train_windows': 360, 'test_possible_windows': 150.2, 'test_outliers': 12, 'test_windows': 139}, 'AMD': {'train_possible_windows': 1747.4, 'train_outliers': 17, 'train_windows': 1731, 'test_possible_windows': 150.2, 'test_outliers': 6, 'test_windows': 145}, 'INTC': {'train_possible_windows': 2278.8, 'train_outliers': 12, 'train_windows': 2267, 'test_possible_windows': 150.2, 'test_outliers': 6, 'test_windows': 145}}\n",
      "\n",
      "\n",
      "### Stats ###\n",
      "train_x (7674, 30, 15)\n",
      "train_y (7674, 1)\n",
      "test_x (864, 30, 15)\n",
      "test_y (864, 1)\n",
      "scaler RobustScaler()\n"
     ]
    }
   ],
   "source": [
    "INPUT_COLS = ['RSI', 'Stochastic', 'Stochastic_signal', 'ADI','OBV', 'ATR', 'ADX', 'ADX_pos', 'ADX_neg', 'MACD', 'MACD_diff',\n",
    "              'MACD_signal', '5TD_return', '10TD_return', '20TD_return']\n",
    "TARGET_COLS=['10TD_return']\n",
    "outlier_validation={'5TD_return': [-0.5, 0.5]}\n",
    "\n",
    "stride = 5\n",
    "\n",
    "\n",
    "train_x, train_y, test_x, test_y, scaler = full_dataset_randomised_arrays_(joined_df, \n",
    "                                                                                stride=stride, \n",
    "                                                                                input_cols=INPUT_COLS, \n",
    "                                                                                outlier_threshold=1, \n",
    "                                                                                outlier_validation=outlier_validation, \n",
    "                                                                                check_train_outliers=True,\n",
    "                                                                                check_test_outliers=True, \n",
    "                                                                                target_col=TARGET_COLS, \n",
    "                                                                                time_window=30,\n",
    "                                                                                test_set_size='3Y')\n",
    "\n",
    "print('')\n",
    "print('')\n",
    "print('### Stats ###')\n",
    "print('train_x', train_x.shape)\n",
    "print('train_y', train_y.shape)\n",
    "print('test_x', test_x.shape)\n",
    "print('test_y', test_y.shape)\n",
    "print('scaler', scaler)\n",
    "\n"
   ]
  },
  {
   "cell_type": "code",
   "execution_count": 12,
   "metadata": {},
   "outputs": [
    {
     "data": {
      "text/plain": [
       "(7674, 30, 15)"
      ]
     },
     "execution_count": 12,
     "metadata": {},
     "output_type": "execute_result"
    }
   ],
   "source": [
    "train_x.shape"
   ]
  },
  {
   "cell_type": "code",
   "execution_count": 11,
   "metadata": {},
   "outputs": [
    {
     "data": {
      "text/plain": [
       "(7674, 1)"
      ]
     },
     "execution_count": 11,
     "metadata": {},
     "output_type": "execute_result"
    }
   ],
   "source": [
    "train_y.shape"
   ]
  },
  {
   "cell_type": "code",
   "execution_count": null,
   "metadata": {},
   "outputs": [],
   "source": []
  },
  {
   "cell_type": "code",
   "execution_count": 9,
   "metadata": {},
   "outputs": [],
   "source": [
    "train_y_5D = train_y[:, 0, 0]"
   ]
  },
  {
   "cell_type": "code",
   "execution_count": 13,
   "metadata": {},
   "outputs": [],
   "source": [
    "train_y_bin = (train_y > .0006).astype(int)"
   ]
  },
  {
   "cell_type": "code",
   "execution_count": 15,
   "metadata": {},
   "outputs": [
    {
     "data": {
      "text/plain": [
       "array([[0],\n",
       "       [1],\n",
       "       [1],\n",
       "       ...,\n",
       "       [0],\n",
       "       [0],\n",
       "       [1]])"
      ]
     },
     "execution_count": 15,
     "metadata": {},
     "output_type": "execute_result"
    }
   ],
   "source": [
    "train_y_bin"
   ]
  },
  {
   "cell_type": "markdown",
   "metadata": {},
   "source": [
    "## Build Model"
   ]
  },
  {
   "cell_type": "code",
   "execution_count": 16,
   "metadata": {},
   "outputs": [
    {
     "name": "stdout",
     "output_type": "stream",
     "text": [
      "Epoch 1/10\n",
      "216/216 [==============================] - 18s 83ms/step - loss: 0.4205 - accuracy: 0.5038 - val_loss: 0.4128 - val_accuracy: 0.5156\n",
      "Epoch 2/10\n",
      "216/216 [==============================] - 18s 83ms/step - loss: 0.4179 - accuracy: 0.5030 - val_loss: 0.4110 - val_accuracy: 0.5117\n",
      "Epoch 3/10\n",
      "216/216 [==============================] - 19s 86ms/step - loss: 0.4153 - accuracy: 0.5038 - val_loss: 0.4093 - val_accuracy: 0.5143:  - ETA: 0s - loss: 0.4152 - ac\n",
      "Epoch 4/10\n",
      "216/216 [==============================] - 19s 88ms/step - loss: 0.4127 - accuracy: 0.5042 - val_loss: 0.4075 - val_accuracy: 0.5182\n",
      "Epoch 5/10\n",
      "216/216 [==============================] - 17s 80ms/step - loss: 0.4102 - accuracy: 0.5036 - val_loss: 0.4058 - val_accuracy: 0.5195\n",
      "Epoch 6/10\n",
      "216/216 [==============================] - 17s 79ms/step - loss: 0.4076 - accuracy: 0.5038 - val_loss: 0.4040 - val_accuracy: 0.5221\n",
      "Epoch 7/10\n",
      "216/216 [==============================] - 23s 107ms/step - loss: 0.4051 - accuracy: 0.5061 - val_loss: 0.4023 - val_accuracy: 0.5208\n",
      "Epoch 8/10\n",
      "216/216 [==============================] - 20s 91ms/step - loss: 0.4026 - accuracy: 0.5061 - val_loss: 0.4006 - val_accuracy: 0.5156oss: 0.4034 - accuracy: 0. - ETA: 2s - loss: 0.4035 - ac\n",
      "Epoch 9/10\n",
      "216/216 [==============================] - 24s 110ms/step - loss: 0.4002 - accuracy: 0.5056 - val_loss: 0.3989 - val_accuracy: 0.5091\n",
      "Epoch 10/10\n",
      "216/216 [==============================] - 21s 95ms/step - loss: 0.3978 - accuracy: 0.5061 - val_loss: 0.3973 - val_accuracy: 0.5078\n"
     ]
    }
   ],
   "source": [
    "from tensorflow.keras import Sequential\n",
    "from tensorflow.keras import layers, models \n",
    "from tensorflow.keras.optimizers import RMSprop, Adam\n",
    "\n",
    "optim = RMSprop(learning_rate=0.00001)\n",
    "\n",
    "model = Sequential()\n",
    "\n",
    "model.add(layers.LSTM(units=10,  activation='tanh')) \n",
    "model.add(layers.Dense(1, activation='relu'))\n",
    "\n",
    "model.compile(loss='mean_squared_error', optimizer=optim, metrics=['accuracy'])\n",
    "\n",
    "# –– The following returns an error\n",
    "history = model.fit(train_x, train_y_bin, epochs=10, validation_split=0.1)"
   ]
  },
  {
   "cell_type": "code",
   "execution_count": 22,
   "metadata": {},
   "outputs": [
    {
     "data": {
      "image/png": "[encoded data removed]",
      "text/plain": [
       "<Figure size 720x360 with 1 Axes>"
      ]
     },
     "metadata": {
      "needs_background": "light"
     },
     "output_type": "display_data"
    }
   ],
   "source": [
    "import matplotlib.pyplot as plt\n",
    "\n",
    "plt.figure(figsize = (10,5))\n",
    "plt.plot(history.history['loss'])\n",
    "plt.plot(history.history['accuracy'])\n",
    "plt.title('model loss')\n",
    "plt.ylabel('loss')\n",
    "plt.xlabel('epoch')\n",
    "plt.legend(['train', 'test'], loc='upper left')\n",
    "plt.show()"
   ]
  },
  {
   "cell_type": "code",
   "execution_count": 23,
   "metadata": {},
   "outputs": [
    {
     "data": {
      "text/plain": [
       "{'loss': [0.42077264189720154,\n",
       "  0.4163978099822998,\n",
       "  0.4121972620487213,\n",
       "  0.40825584530830383,\n",
       "  0.40453317761421204,\n",
       "  0.40102046728134155,\n",
       "  0.3976152539253235,\n",
       "  0.39445096254348755,\n",
       "  0.39134159684181213,\n",
       "  0.38845720887184143],\n",
       " 'accuracy': [0.5023168325424194,\n",
       "  0.50217205286026,\n",
       "  0.5030408501625061,\n",
       "  0.5044888257980347,\n",
       "  0.5039096474647522,\n",
       "  0.5046336650848389,\n",
       "  0.5043440461158752,\n",
       "  0.5047784447669983,\n",
       "  0.5044888257980347,\n",
       "  0.5047784447669983],\n",
       " 'val_loss': [0.4137774705886841,\n",
       "  0.4094897210597992,\n",
       "  0.4054657518863678,\n",
       "  0.40166112780570984,\n",
       "  0.39813950657844543,\n",
       "  0.39473772048950195,\n",
       "  0.391538143157959,\n",
       "  0.38852718472480774,\n",
       "  0.38552284240722656,\n",
       "  0.38272666931152344],\n",
       " 'val_accuracy': [0.5091145634651184,\n",
       "  0.5104166865348816,\n",
       "  0.5091145634651184,\n",
       "  0.5078125,\n",
       "  0.5078125,\n",
       "  0.5078125,\n",
       "  0.5078125,\n",
       "  0.5078125,\n",
       "  0.5078125,\n",
       "  0.5065104365348816]}"
      ]
     },
     "execution_count": 23,
     "metadata": {},
     "output_type": "execute_result"
    }
   ],
   "source": [
    "history.history"
   ]
  },
  {
   "cell_type": "code",
   "execution_count": null,
   "metadata": {},
   "outputs": [],
   "source": []
  },
  {
   "cell_type": "code",
   "execution_count": null,
   "metadata": {},
   "outputs": [],
   "source": []
  },
  {
   "cell_type": "code",
   "execution_count": null,
   "metadata": {},
   "outputs": [],
   "source": []
  },
  {
   "cell_type": "code",
   "execution_count": 9,
   "metadata": {},
   "outputs": [
    {
     "ename": "KeyboardInterrupt",
     "evalue": "",
     "output_type": "error",
     "traceback": [
      "\u001b[1;31m---------------------------------------------------------------------------\u001b[0m",
      "\u001b[1;31mKeyboardInterrupt\u001b[0m                         Traceback (most recent call last)",
      "\u001b[1;32m<ipython-input-9-5327e3310826>\u001b[0m in \u001b[0;36m<module>\u001b[1;34m\u001b[0m\n\u001b[1;32m----> 1\u001b[1;33m \u001b[1;32mfrom\u001b[0m \u001b[0mtensorflow\u001b[0m\u001b[1;33m.\u001b[0m\u001b[0mkeras\u001b[0m \u001b[1;32mimport\u001b[0m \u001b[0mSequential\u001b[0m\u001b[1;33m\u001b[0m\u001b[1;33m\u001b[0m\u001b[0m\n\u001b[0m\u001b[0;32m      2\u001b[0m \u001b[1;32mfrom\u001b[0m \u001b[0mtensorflow\u001b[0m\u001b[1;33m.\u001b[0m\u001b[0mkeras\u001b[0m \u001b[1;32mimport\u001b[0m \u001b[0mlayers\u001b[0m\u001b[1;33m,\u001b[0m \u001b[0mmodels\u001b[0m\u001b[1;33m\u001b[0m\u001b[1;33m\u001b[0m\u001b[0m\n\u001b[0;32m      3\u001b[0m \u001b[1;32mfrom\u001b[0m \u001b[0mtensorflow\u001b[0m\u001b[1;33m.\u001b[0m\u001b[0mkeras\u001b[0m\u001b[1;33m.\u001b[0m\u001b[0moptimizers\u001b[0m \u001b[1;32mimport\u001b[0m \u001b[0mRMSprop\u001b[0m\u001b[1;33m,\u001b[0m \u001b[0mAdam\u001b[0m\u001b[1;33m\u001b[0m\u001b[1;33m\u001b[0m\u001b[0m\n\u001b[0;32m      4\u001b[0m \u001b[1;33m\u001b[0m\u001b[0m\n\u001b[0;32m      5\u001b[0m \u001b[0mDROPOUT\u001b[0m \u001b[1;33m=\u001b[0m \u001b[1;36m0.2\u001b[0m\u001b[1;33m\u001b[0m\u001b[1;33m\u001b[0m\u001b[0m\n",
      "\u001b[1;32mc:\\users\\owner\\.venvs\\lewagon\\lib\\site-packages\\tensorflow\\__init__.py\u001b[0m in \u001b[0;36m<module>\u001b[1;34m\u001b[0m\n\u001b[0;32m     56\u001b[0m \u001b[1;32mfrom\u001b[0m \u001b[1;33m.\u001b[0m\u001b[0m_api\u001b[0m\u001b[1;33m.\u001b[0m\u001b[0mv2\u001b[0m \u001b[1;32mimport\u001b[0m \u001b[0mdata\u001b[0m\u001b[1;33m\u001b[0m\u001b[1;33m\u001b[0m\u001b[0m\n\u001b[0;32m     57\u001b[0m \u001b[1;32mfrom\u001b[0m \u001b[1;33m.\u001b[0m\u001b[0m_api\u001b[0m\u001b[1;33m.\u001b[0m\u001b[0mv2\u001b[0m \u001b[1;32mimport\u001b[0m \u001b[0mdebugging\u001b[0m\u001b[1;33m\u001b[0m\u001b[1;33m\u001b[0m\u001b[0m\n\u001b[1;32m---> 58\u001b[1;33m \u001b[1;32mfrom\u001b[0m \u001b[1;33m.\u001b[0m\u001b[0m_api\u001b[0m\u001b[1;33m.\u001b[0m\u001b[0mv2\u001b[0m \u001b[1;32mimport\u001b[0m \u001b[0mdistribute\u001b[0m\u001b[1;33m\u001b[0m\u001b[1;33m\u001b[0m\u001b[0m\n\u001b[0m\u001b[0;32m     59\u001b[0m \u001b[1;32mfrom\u001b[0m \u001b[1;33m.\u001b[0m\u001b[0m_api\u001b[0m\u001b[1;33m.\u001b[0m\u001b[0mv2\u001b[0m \u001b[1;32mimport\u001b[0m \u001b[0mdtypes\u001b[0m\u001b[1;33m\u001b[0m\u001b[1;33m\u001b[0m\u001b[0m\n\u001b[0;32m     60\u001b[0m \u001b[1;32mfrom\u001b[0m \u001b[1;33m.\u001b[0m\u001b[0m_api\u001b[0m\u001b[1;33m.\u001b[0m\u001b[0mv2\u001b[0m \u001b[1;32mimport\u001b[0m \u001b[0merrors\u001b[0m\u001b[1;33m\u001b[0m\u001b[1;33m\u001b[0m\u001b[0m\n",
      "\u001b[1;32m~\\AppData\\Local\\Programs\\Python\\Python37\\lib\\importlib\\_bootstrap.py\u001b[0m in \u001b[0;36m_find_and_load\u001b[1;34m(name, import_)\u001b[0m\n",
      "\u001b[1;32m~\\AppData\\Local\\Programs\\Python\\Python37\\lib\\importlib\\_bootstrap.py\u001b[0m in \u001b[0;36m_find_and_load_unlocked\u001b[1;34m(name, import_)\u001b[0m\n",
      "\u001b[1;32m~\\AppData\\Local\\Programs\\Python\\Python37\\lib\\importlib\\_bootstrap.py\u001b[0m in \u001b[0;36m_find_spec\u001b[1;34m(name, path, target)\u001b[0m\n",
      "\u001b[1;32m~\\AppData\\Local\\Programs\\Python\\Python37\\lib\\importlib\\_bootstrap_external.py\u001b[0m in \u001b[0;36mfind_spec\u001b[1;34m(cls, fullname, path, target)\u001b[0m\n",
      "\u001b[1;32m~\\AppData\\Local\\Programs\\Python\\Python37\\lib\\importlib\\_bootstrap_external.py\u001b[0m in \u001b[0;36m_get_spec\u001b[1;34m(cls, fullname, path, target)\u001b[0m\n",
      "\u001b[1;32m~\\AppData\\Local\\Programs\\Python\\Python37\\lib\\importlib\\_bootstrap_external.py\u001b[0m in \u001b[0;36mfind_spec\u001b[1;34m(self, fullname, target)\u001b[0m\n",
      "\u001b[1;32m~\\AppData\\Local\\Programs\\Python\\Python37\\lib\\importlib\\_bootstrap_external.py\u001b[0m in \u001b[0;36m_path_isfile\u001b[1;34m(path)\u001b[0m\n",
      "\u001b[1;32m~\\AppData\\Local\\Programs\\Python\\Python37\\lib\\importlib\\_bootstrap_external.py\u001b[0m in \u001b[0;36m_path_is_mode_type\u001b[1;34m(path, mode)\u001b[0m\n",
      "\u001b[1;32m~\\AppData\\Local\\Programs\\Python\\Python37\\lib\\importlib\\_bootstrap_external.py\u001b[0m in \u001b[0;36m_path_stat\u001b[1;34m(path)\u001b[0m\n",
      "\u001b[1;31mKeyboardInterrupt\u001b[0m: "
     ]
    }
   ],
   "source": [
    "from tensorflow.keras import Sequential\n",
    "from tensorflow.keras import layers, models \n",
    "from tensorflow.keras.optimizers import RMSprop, Adam\n",
    "\n",
    "DROPOUT = 0.2 \n",
    "# 20% Dropout is used to control over-fitting during training\n",
    "WINDOW_SIZE = 5 - 1\n",
    "\n",
    "\n",
    "model = Sequential()\n",
    "\n",
    "# Input layer\n",
    "model.add(Bidirectional(LSTM(WINDOW_SIZE, return_sequences=True), input_shape=(WINDOW_SIZE, train_x.shape[-1])))\n",
    "\"\"\"Bidirectional RNNs allows to train on the sequence data in forward and backward direction.\"\"\"\n",
    "model.add(Dropout(rate=DROPOUT))\n",
    "\n",
    "# 1st Hidden layer\n",
    "model.add(Bidirectional(LSTM((WINDOW_SIZE * 2), return_sequences = True)))\n",
    "model.add(Dropout(rate=DROPOUT))\n",
    "\n",
    "\n",
    "# 2nd Hidden layer\n",
    "model.add(Bidirectional(LSTM(WINDOW_SIZE, return_sequences=False)))\n",
    "\n",
    "\n",
    "# output layer\n",
    "model.add(Dense(units=1))\n",
    "model.add(Activation('linear'))\n",
    "\n",
    "\"\"\"Output layer has a single neuron (predicted Bitcoin price). We use Linear activation function which activation is proportional to the input.\"\"\"\n",
    "BATCH_SIZE = 64\n",
    "\n",
    "\n",
    "model.compile(loss='mean_squared_error', optimizer='adam')\n",
    "\n",
    "\n",
    "history = model.fit(train_x, train_y, epochs=50, shuffle=False, validation_split=0.1) \n",
    "# shuffle not advisable during training of Time Series"
   ]
  },
  {
   "cell_type": "code",
   "execution_count": null,
   "metadata": {},
   "outputs": [],
   "source": []
  }
 ],
 "metadata": {
  "kernelspec": {
   "display_name": "Python 3",
   "language": "python",
   "name": "python3"
  },
  "language_info": {
   "codemirror_mode": {
    "name": "ipython",
    "version": 3
   },
   "file_extension": ".py",
   "mimetype": "text/x-python",
   "name": "python",
   "nbconvert_exporter": "python",
   "pygments_lexer": "ipython3",
   "version": "3.7.7"
  }
 },
 "nbformat": 4,
 "nbformat_minor": 4
}
