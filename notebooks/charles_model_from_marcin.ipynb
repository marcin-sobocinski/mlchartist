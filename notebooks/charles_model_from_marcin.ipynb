{
 "cells": [
  {
   "cell_type": "code",
   "execution_count": 1,
   "metadata": {
    "ExecuteTime": {
     "end_time": "2021-02-04T15:36:01.660278Z",
     "start_time": "2021-02-04T15:36:00.181894Z"
    }
   },
   "outputs": [],
   "source": [
    "import pandas as pd\n",
    "import numpy as np\n",
    "import os\n",
    "import random\n",
    "\n",
    "from mlchartist.array_builder import build_arrays\n",
    "from mlchartist.preprocessing import thresholds_encoding\n",
    "from sklearn.preprocessing import StandardScaler, MinMaxScaler, RobustScaler"
   ]
  },
  {
   "cell_type": "markdown",
   "metadata": {},
   "source": [
    "# Function implementation from marcin_first_model"
   ]
  },
  {
   "cell_type": "code",
   "execution_count": 2,
   "metadata": {
    "ExecuteTime": {
     "end_time": "2021-02-04T15:36:01.670495Z",
     "start_time": "2021-02-04T15:36:01.663749Z"
    }
   },
   "outputs": [],
   "source": [
    "def stocks_selector_local(min_len = 2000, num_samp = 2, path='../raw_data/processed/'):\n",
    "    \"\"\"\n",
    "    Returns a concatened Pandas DataFrame of the stocks data\n",
    "\n",
    "    Randomly select the number of stocks (`num_samp`) in the `path` directory according their\n",
    "        minimal lenght (`min_len` in days)\n",
    "    \"\"\"\n",
    "\n",
    "    filenames = []\n",
    "\n",
    "    for file in os.listdir(path):\n",
    "        if file.endswith('.csv'):\n",
    "            with open(path + file) as f:\n",
    "                rows_num = sum(1 for line in f)\n",
    "                if rows_num >= min_len:\n",
    "                    filenames.append(file)\n",
    "                    \n",
    "    if len(filenames) < num_samp:\n",
    "        print('Sample size bigger that nuber of companies available')\n",
    "    else:\n",
    "        sample = random.sample(filenames, num_samp)\n",
    "    \n",
    "    dfs = []\n",
    "\n",
    "    for ticker in sample:\n",
    "        ticker_df = pd.read_csv('../raw_data/processed/'+ticker)\n",
    "        dfs.append(ticker_df)\n",
    "    \n",
    "    return pd.concat(dfs)"
   ]
  },
  {
   "cell_type": "code",
   "execution_count": 3,
   "metadata": {
    "ExecuteTime": {
     "end_time": "2021-02-04T15:36:16.437378Z",
     "start_time": "2021-02-04T15:36:01.673476Z"
    }
   },
   "outputs": [],
   "source": [
    "df = stocks_selector_local()"
   ]
  },
  {
   "cell_type": "code",
   "execution_count": 4,
   "metadata": {
    "ExecuteTime": {
     "end_time": "2021-02-04T15:36:16.497427Z",
     "start_time": "2021-02-04T15:36:16.439803Z"
    }
   },
   "outputs": [
    {
     "data": {
      "text/html": [
       "<div>\n",
       "<style scoped>\n",
       "    .dataframe tbody tr th:only-of-type {\n",
       "        vertical-align: middle;\n",
       "    }\n",
       "\n",
       "    .dataframe tbody tr th {\n",
       "        vertical-align: top;\n",
       "    }\n",
       "\n",
       "    .dataframe thead th {\n",
       "        text-align: right;\n",
       "    }\n",
       "</style>\n",
       "<table border=\"1\" class=\"dataframe\">\n",
       "  <thead>\n",
       "    <tr style=\"text-align: right;\">\n",
       "      <th></th>\n",
       "      <th>ticker</th>\n",
       "      <th>date</th>\n",
       "      <th>RSI</th>\n",
       "      <th>Stochastic</th>\n",
       "      <th>Stochastic_signal</th>\n",
       "      <th>ADI</th>\n",
       "      <th>OBV</th>\n",
       "      <th>ATR</th>\n",
       "      <th>ADX</th>\n",
       "      <th>ADX_pos</th>\n",
       "      <th>ADX_neg</th>\n",
       "      <th>MACD</th>\n",
       "      <th>MACD_diff</th>\n",
       "      <th>MACD_signal</th>\n",
       "      <th>5TD_return</th>\n",
       "      <th>10TD_return</th>\n",
       "      <th>20TD_return</th>\n",
       "    </tr>\n",
       "  </thead>\n",
       "  <tbody>\n",
       "    <tr>\n",
       "      <th>0</th>\n",
       "      <td>VLGEA</td>\n",
       "      <td>2005-04-22</td>\n",
       "      <td>63.928477</td>\n",
       "      <td>86.705551</td>\n",
       "      <td>47.296591</td>\n",
       "      <td>-87605.671388</td>\n",
       "      <td>178930</td>\n",
       "      <td>0.251243</td>\n",
       "      <td>18.457228</td>\n",
       "      <td>31.986514</td>\n",
       "      <td>28.459440</td>\n",
       "      <td>0.110486</td>\n",
       "      <td>0.019626</td>\n",
       "      <td>0.090861</td>\n",
       "      <td>-0.030657</td>\n",
       "      <td>-0.028699</td>\n",
       "      <td>-0.033524</td>\n",
       "    </tr>\n",
       "    <tr>\n",
       "      <th>1</th>\n",
       "      <td>VLGEA</td>\n",
       "      <td>2005-04-25</td>\n",
       "      <td>50.468196</td>\n",
       "      <td>34.271923</td>\n",
       "      <td>47.302038</td>\n",
       "      <td>-123304.876703</td>\n",
       "      <td>139179</td>\n",
       "      <td>0.272540</td>\n",
       "      <td>17.388709</td>\n",
       "      <td>27.317210</td>\n",
       "      <td>29.297569</td>\n",
       "      <td>0.094898</td>\n",
       "      <td>0.003230</td>\n",
       "      <td>0.091668</td>\n",
       "      <td>0.043353</td>\n",
       "      <td>0.034041</td>\n",
       "      <td>0.024803</td>\n",
       "    </tr>\n",
       "    <tr>\n",
       "      <th>2</th>\n",
       "      <td>VLGEA</td>\n",
       "      <td>2005-04-26</td>\n",
       "      <td>56.047626</td>\n",
       "      <td>63.626307</td>\n",
       "      <td>61.534594</td>\n",
       "      <td>-118705.876703</td>\n",
       "      <td>143778</td>\n",
       "      <td>0.273923</td>\n",
       "      <td>16.396512</td>\n",
       "      <td>25.211430</td>\n",
       "      <td>27.039132</td>\n",
       "      <td>0.104889</td>\n",
       "      <td>0.010576</td>\n",
       "      <td>0.094312</td>\n",
       "      <td>-0.016811</td>\n",
       "      <td>-0.008925</td>\n",
       "      <td>-0.001950</td>\n",
       "    </tr>\n",
       "    <tr>\n",
       "      <th>3</th>\n",
       "      <td>VLGEA</td>\n",
       "      <td>2005-04-27</td>\n",
       "      <td>55.562718</td>\n",
       "      <td>61.514481</td>\n",
       "      <td>53.137570</td>\n",
       "      <td>-121147.876703</td>\n",
       "      <td>141336</td>\n",
       "      <td>0.255857</td>\n",
       "      <td>15.475186</td>\n",
       "      <td>25.061752</td>\n",
       "      <td>26.878603</td>\n",
       "      <td>0.109846</td>\n",
       "      <td>0.012427</td>\n",
       "      <td>0.097419</td>\n",
       "      <td>0.000000</td>\n",
       "      <td>-0.008866</td>\n",
       "      <td>0.002998</td>\n",
       "    </tr>\n",
       "    <tr>\n",
       "      <th>4</th>\n",
       "      <td>VLGEA</td>\n",
       "      <td>2005-04-28</td>\n",
       "      <td>56.249866</td>\n",
       "      <td>65.074417</td>\n",
       "      <td>63.405068</td>\n",
       "      <td>-119423.876703</td>\n",
       "      <td>143060</td>\n",
       "      <td>0.243089</td>\n",
       "      <td>14.784136</td>\n",
       "      <td>24.486955</td>\n",
       "      <td>27.502602</td>\n",
       "      <td>0.115302</td>\n",
       "      <td>0.014306</td>\n",
       "      <td>0.100996</td>\n",
       "      <td>-0.003992</td>\n",
       "      <td>0.023667</td>\n",
       "      <td>-0.002046</td>\n",
       "    </tr>\n",
       "  </tbody>\n",
       "</table>\n",
       "</div>"
      ],
      "text/plain": [
       "  ticker        date        RSI  Stochastic  Stochastic_signal            ADI  \\\n",
       "0  VLGEA  2005-04-22  63.928477   86.705551          47.296591  -87605.671388   \n",
       "1  VLGEA  2005-04-25  50.468196   34.271923          47.302038 -123304.876703   \n",
       "2  VLGEA  2005-04-26  56.047626   63.626307          61.534594 -118705.876703   \n",
       "3  VLGEA  2005-04-27  55.562718   61.514481          53.137570 -121147.876703   \n",
       "4  VLGEA  2005-04-28  56.249866   65.074417          63.405068 -119423.876703   \n",
       "\n",
       "      OBV       ATR        ADX    ADX_pos    ADX_neg      MACD  MACD_diff  \\\n",
       "0  178930  0.251243  18.457228  31.986514  28.459440  0.110486   0.019626   \n",
       "1  139179  0.272540  17.388709  27.317210  29.297569  0.094898   0.003230   \n",
       "2  143778  0.273923  16.396512  25.211430  27.039132  0.104889   0.010576   \n",
       "3  141336  0.255857  15.475186  25.061752  26.878603  0.109846   0.012427   \n",
       "4  143060  0.243089  14.784136  24.486955  27.502602  0.115302   0.014306   \n",
       "\n",
       "   MACD_signal  5TD_return  10TD_return  20TD_return  \n",
       "0     0.090861   -0.030657    -0.028699    -0.033524  \n",
       "1     0.091668    0.043353     0.034041     0.024803  \n",
       "2     0.094312   -0.016811    -0.008925    -0.001950  \n",
       "3     0.097419    0.000000    -0.008866     0.002998  \n",
       "4     0.100996   -0.003992     0.023667    -0.002046  "
      ]
     },
     "execution_count": 4,
     "metadata": {},
     "output_type": "execute_result"
    }
   ],
   "source": [
    "df.head()"
   ]
  },
  {
   "cell_type": "code",
   "execution_count": 6,
   "metadata": {
    "ExecuteTime": {
     "end_time": "2021-02-04T15:36:23.128203Z",
     "start_time": "2021-02-04T15:36:23.111419Z"
    }
   },
   "outputs": [],
   "source": [
    "df['date'] = pd.to_datetime(df['date'])"
   ]
  },
  {
   "cell_type": "code",
   "execution_count": 8,
   "metadata": {
    "ExecuteTime": {
     "end_time": "2021-02-04T15:37:26.731187Z",
     "start_time": "2021-02-04T15:37:26.703189Z"
    }
   },
   "outputs": [
    {
     "name": "stdout",
     "output_type": "stream",
     "text": [
      "Missing return columns\n"
     ]
    }
   ],
   "source": [
    "df = thresholds_encoding(df)"
   ]
  },
  {
   "cell_type": "code",
   "execution_count": 9,
   "metadata": {
    "ExecuteTime": {
     "end_time": "2021-02-04T15:38:04.309892Z",
     "start_time": "2021-02-04T15:38:04.239404Z"
    }
   },
   "outputs": [
    {
     "data": {
      "text/html": [
       "<div>\n",
       "<style scoped>\n",
       "    .dataframe tbody tr th:only-of-type {\n",
       "        vertical-align: middle;\n",
       "    }\n",
       "\n",
       "    .dataframe tbody tr th {\n",
       "        vertical-align: top;\n",
       "    }\n",
       "\n",
       "    .dataframe thead th {\n",
       "        text-align: right;\n",
       "    }\n",
       "</style>\n",
       "<table border=\"1\" class=\"dataframe\">\n",
       "  <thead>\n",
       "    <tr style=\"text-align: right;\">\n",
       "      <th></th>\n",
       "      <th>ticker</th>\n",
       "      <th>date</th>\n",
       "      <th>RSI</th>\n",
       "      <th>Stochastic</th>\n",
       "      <th>Stochastic_signal</th>\n",
       "      <th>ADI</th>\n",
       "      <th>OBV</th>\n",
       "      <th>ATR</th>\n",
       "      <th>ADX</th>\n",
       "      <th>ADX_pos</th>\n",
       "      <th>ADX_neg</th>\n",
       "      <th>MACD</th>\n",
       "      <th>MACD_diff</th>\n",
       "      <th>MACD_signal</th>\n",
       "      <th>5TD_return</th>\n",
       "      <th>10TD_return</th>\n",
       "      <th>20TD_return</th>\n",
       "    </tr>\n",
       "  </thead>\n",
       "  <tbody>\n",
       "    <tr>\n",
       "      <th>0</th>\n",
       "      <td>VLGEA</td>\n",
       "      <td>2005-04-22</td>\n",
       "      <td>63.928477</td>\n",
       "      <td>86.705551</td>\n",
       "      <td>47.296591</td>\n",
       "      <td>-87605.671388</td>\n",
       "      <td>178930</td>\n",
       "      <td>0.251243</td>\n",
       "      <td>18.457228</td>\n",
       "      <td>31.986514</td>\n",
       "      <td>28.459440</td>\n",
       "      <td>0.110486</td>\n",
       "      <td>0.019626</td>\n",
       "      <td>0.090861</td>\n",
       "      <td>0</td>\n",
       "      <td>0</td>\n",
       "      <td>0</td>\n",
       "    </tr>\n",
       "    <tr>\n",
       "      <th>1</th>\n",
       "      <td>VLGEA</td>\n",
       "      <td>2005-04-25</td>\n",
       "      <td>50.468196</td>\n",
       "      <td>34.271923</td>\n",
       "      <td>47.302038</td>\n",
       "      <td>-123304.876703</td>\n",
       "      <td>139179</td>\n",
       "      <td>0.272540</td>\n",
       "      <td>17.388709</td>\n",
       "      <td>27.317210</td>\n",
       "      <td>29.297569</td>\n",
       "      <td>0.094898</td>\n",
       "      <td>0.003230</td>\n",
       "      <td>0.091668</td>\n",
       "      <td>1</td>\n",
       "      <td>1</td>\n",
       "      <td>1</td>\n",
       "    </tr>\n",
       "    <tr>\n",
       "      <th>2</th>\n",
       "      <td>VLGEA</td>\n",
       "      <td>2005-04-26</td>\n",
       "      <td>56.047626</td>\n",
       "      <td>63.626307</td>\n",
       "      <td>61.534594</td>\n",
       "      <td>-118705.876703</td>\n",
       "      <td>143778</td>\n",
       "      <td>0.273923</td>\n",
       "      <td>16.396512</td>\n",
       "      <td>25.211430</td>\n",
       "      <td>27.039132</td>\n",
       "      <td>0.104889</td>\n",
       "      <td>0.010576</td>\n",
       "      <td>0.094312</td>\n",
       "      <td>0</td>\n",
       "      <td>0</td>\n",
       "      <td>0</td>\n",
       "    </tr>\n",
       "    <tr>\n",
       "      <th>3</th>\n",
       "      <td>VLGEA</td>\n",
       "      <td>2005-04-27</td>\n",
       "      <td>55.562718</td>\n",
       "      <td>61.514481</td>\n",
       "      <td>53.137570</td>\n",
       "      <td>-121147.876703</td>\n",
       "      <td>141336</td>\n",
       "      <td>0.255857</td>\n",
       "      <td>15.475186</td>\n",
       "      <td>25.061752</td>\n",
       "      <td>26.878603</td>\n",
       "      <td>0.109846</td>\n",
       "      <td>0.012427</td>\n",
       "      <td>0.097419</td>\n",
       "      <td>0</td>\n",
       "      <td>0</td>\n",
       "      <td>1</td>\n",
       "    </tr>\n",
       "    <tr>\n",
       "      <th>4</th>\n",
       "      <td>VLGEA</td>\n",
       "      <td>2005-04-28</td>\n",
       "      <td>56.249866</td>\n",
       "      <td>65.074417</td>\n",
       "      <td>63.405068</td>\n",
       "      <td>-119423.876703</td>\n",
       "      <td>143060</td>\n",
       "      <td>0.243089</td>\n",
       "      <td>14.784136</td>\n",
       "      <td>24.486955</td>\n",
       "      <td>27.502602</td>\n",
       "      <td>0.115302</td>\n",
       "      <td>0.014306</td>\n",
       "      <td>0.100996</td>\n",
       "      <td>0</td>\n",
       "      <td>1</td>\n",
       "      <td>0</td>\n",
       "    </tr>\n",
       "  </tbody>\n",
       "</table>\n",
       "</div>"
      ],
      "text/plain": [
       "  ticker       date        RSI  Stochastic  Stochastic_signal            ADI  \\\n",
       "0  VLGEA 2005-04-22  63.928477   86.705551          47.296591  -87605.671388   \n",
       "1  VLGEA 2005-04-25  50.468196   34.271923          47.302038 -123304.876703   \n",
       "2  VLGEA 2005-04-26  56.047626   63.626307          61.534594 -118705.876703   \n",
       "3  VLGEA 2005-04-27  55.562718   61.514481          53.137570 -121147.876703   \n",
       "4  VLGEA 2005-04-28  56.249866   65.074417          63.405068 -119423.876703   \n",
       "\n",
       "      OBV       ATR        ADX    ADX_pos    ADX_neg      MACD  MACD_diff  \\\n",
       "0  178930  0.251243  18.457228  31.986514  28.459440  0.110486   0.019626   \n",
       "1  139179  0.272540  17.388709  27.317210  29.297569  0.094898   0.003230   \n",
       "2  143778  0.273923  16.396512  25.211430  27.039132  0.104889   0.010576   \n",
       "3  141336  0.255857  15.475186  25.061752  26.878603  0.109846   0.012427   \n",
       "4  143060  0.243089  14.784136  24.486955  27.502602  0.115302   0.014306   \n",
       "\n",
       "   MACD_signal  5TD_return  10TD_return  20TD_return  \n",
       "0     0.090861           0            0            0  \n",
       "1     0.091668           1            1            1  \n",
       "2     0.094312           0            0            0  \n",
       "3     0.097419           0            0            1  \n",
       "4     0.100996           0            1            0  "
      ]
     },
     "execution_count": 9,
     "metadata": {},
     "output_type": "execute_result"
    }
   ],
   "source": [
    "df.head()"
   ]
  },
  {
   "cell_type": "code",
   "execution_count": null,
   "metadata": {
    "ExecuteTime": {
     "end_time": "2021-02-04T15:36:16.590474Z",
     "start_time": "2021-02-04T15:36:00.161Z"
    }
   },
   "outputs": [],
   "source": [
    "FIVE_TR = 0.0006\n",
    "TEN_TR = 0.0012\n",
    "TWENTY_TR = 0.0024\n",
    "INPUT_COLS = ['RSI', 'Stochastic', 'Stochastic_signal', 'ADI','OBV', 'ATR', 'ADX', 'ADX_pos', 'ADX_neg', 'MACD', 'MACD_diff','MACD_signal', '1D_past_return', '5D_past_return', '10D_past_return']\n",
    "#INPUT_COLS = ['RSI', 'Stochastic', 'Stochastic_signal']"
   ]
  },
  {
   "cell_type": "code",
   "execution_count": null,
   "metadata": {
    "ExecuteTime": {
     "end_time": "2021-02-04T15:36:16.592498Z",
     "start_time": "2021-02-04T15:36:00.164Z"
    }
   },
   "outputs": [],
   "source": [
    "df['5D_return_bin'] = (df['5TD_return'] >= FIVE_TR)\n",
    "df['10D_return_bin'] = (df['10TD_return'] >= TEN_TR)\n",
    "df['20D_return_bin'] = (df['20TD_return'] >= TWENTY_TR)"
   ]
  },
  {
   "cell_type": "code",
   "execution_count": null,
   "metadata": {
    "ExecuteTime": {
     "end_time": "2021-02-04T15:36:16.594477Z",
     "start_time": "2021-02-04T15:36:00.166Z"
    }
   },
   "outputs": [],
   "source": [
    "test_df = df[df['date'].dt.year >= 2018]\n",
    "train_df = df[df['date'].dt.year < 2018]"
   ]
  },
  {
   "cell_type": "code",
   "execution_count": null,
   "metadata": {
    "ExecuteTime": {
     "end_time": "2021-02-04T15:36:16.596289Z",
     "start_time": "2021-02-04T15:36:00.168Z"
    }
   },
   "outputs": [],
   "source": [
    "scaler = RobustScaler()"
   ]
  },
  {
   "cell_type": "code",
   "execution_count": null,
   "metadata": {
    "ExecuteTime": {
     "end_time": "2021-02-04T15:36:16.598424Z",
     "start_time": "2021-02-04T15:36:00.171Z"
    }
   },
   "outputs": [],
   "source": [
    "scaler.fit(train_df[INPUT_COLS])"
   ]
  },
  {
   "cell_type": "code",
   "execution_count": null,
   "metadata": {
    "ExecuteTime": {
     "end_time": "2021-02-04T15:36:16.600577Z",
     "start_time": "2021-02-04T15:36:00.174Z"
    }
   },
   "outputs": [],
   "source": [
    "train_df.loc[:, INPUT_COLS] = scaler.transform(train_df[INPUT_COLS])\n",
    "test_df.loc[:, INPUT_COLS] = scaler.transform(test_df[INPUT_COLS])"
   ]
  },
  {
   "cell_type": "code",
   "execution_count": null,
   "metadata": {
    "ExecuteTime": {
     "end_time": "2021-02-04T15:36:16.602474Z",
     "start_time": "2021-02-04T15:36:00.181Z"
    }
   },
   "outputs": [],
   "source": [
    "train_df"
   ]
  },
  {
   "cell_type": "code",
   "execution_count": null,
   "metadata": {
    "ExecuteTime": {
     "end_time": "2021-02-04T15:36:16.604496Z",
     "start_time": "2021-02-04T15:36:00.185Z"
    }
   },
   "outputs": [],
   "source": [
    "for col in INPUT_COLS:\n",
    "    plt.hist(train_df[col], bins=20)\n",
    "    plt.title(col)\n",
    "    plt.show()"
   ]
  },
  {
   "cell_type": "code",
   "execution_count": null,
   "metadata": {
    "ExecuteTime": {
     "end_time": "2021-02-04T15:36:16.606219Z",
     "start_time": "2021-02-04T15:36:00.189Z"
    }
   },
   "outputs": [],
   "source": [
    "plt.hist(df['10TD_return'], bins=50, range=(-0.5, 0.5))"
   ]
  },
  {
   "cell_type": "code",
   "execution_count": null,
   "metadata": {
    "ExecuteTime": {
     "end_time": "2021-02-04T15:36:16.608274Z",
     "start_time": "2021-02-04T15:36:00.193Z"
    }
   },
   "outputs": [],
   "source": [
    "(df['10TD_return'] == 0).sum()/len(df)*100"
   ]
  },
  {
   "cell_type": "code",
   "execution_count": null,
   "metadata": {
    "ExecuteTime": {
     "end_time": "2021-02-04T15:36:16.610009Z",
     "start_time": "2021-02-04T15:36:00.196Z"
    }
   },
   "outputs": [],
   "source": [
    "(train_df['10D_past_return'] > 0.8).sum()"
   ]
  },
  {
   "cell_type": "code",
   "execution_count": null,
   "metadata": {
    "ExecuteTime": {
     "end_time": "2021-02-04T15:36:16.611638Z",
     "start_time": "2021-02-04T15:36:00.200Z"
    }
   },
   "outputs": [],
   "source": [
    "tickers = train_df['ticker'].unique()"
   ]
  },
  {
   "cell_type": "code",
   "execution_count": null,
   "metadata": {
    "ExecuteTime": {
     "end_time": "2021-02-04T15:36:16.613418Z",
     "start_time": "2021-02-04T15:36:00.202Z"
    }
   },
   "outputs": [],
   "source": [
    "train_x_dfs = []\n",
    "train_y_dfs = []\n",
    "test_x_dfs = []\n",
    "test_y_dfs = []"
   ]
  },
  {
   "cell_type": "code",
   "execution_count": null,
   "metadata": {
    "ExecuteTime": {
     "end_time": "2021-02-04T15:36:16.615481Z",
     "start_time": "2021-02-04T15:36:00.205Z"
    }
   },
   "outputs": [],
   "source": [
    "for ticker in tickers:\n",
    "    ticker_train_df = train_df[train_df['ticker'] == ticker]\n",
    "    ticker_test_df = test_df[test_df['ticker'] == ticker]\n",
    "    ticker_train_x, ticker_train_y = build_arrays(ticker_train_df,input_cols=INPUT_COLS, target_col='20D_return_bin', time_window=6, stride=5)\n",
    "    ticker_test_x, ticker_test_y = build_arrays(ticker_test_df,input_cols=INPUT_COLS, target_col='20D_return_bin', time_window=6, stride=5)\n",
    "    train_x_dfs.append(ticker_train_x)\n",
    "    train_y_dfs.append(ticker_train_y)\n",
    "    test_x_dfs.append(ticker_test_x)\n",
    "    test_y_dfs.append(ticker_test_y)"
   ]
  },
  {
   "cell_type": "code",
   "execution_count": null,
   "metadata": {
    "ExecuteTime": {
     "end_time": "2021-02-04T15:36:16.617275Z",
     "start_time": "2021-02-04T15:36:00.208Z"
    }
   },
   "outputs": [],
   "source": [
    "X_train = np.concatenate(train_x_dfs)\n",
    "y_train = np.concatenate(train_y_dfs)\n",
    "X_test = np.concatenate(test_x_dfs)\n",
    "y_test = np.concatenate(test_y_dfs)"
   ]
  },
  {
   "cell_type": "code",
   "execution_count": null,
   "metadata": {
    "ExecuteTime": {
     "end_time": "2021-02-04T15:36:16.619111Z",
     "start_time": "2021-02-04T15:36:00.211Z"
    }
   },
   "outputs": [],
   "source": [
    "y_train.shape"
   ]
  },
  {
   "cell_type": "code",
   "execution_count": null,
   "metadata": {
    "ExecuteTime": {
     "end_time": "2021-02-04T15:36:16.621767Z",
     "start_time": "2021-02-04T15:36:00.213Z"
    }
   },
   "outputs": [],
   "source": [
    "X_train = X_train.astype(float)\n",
    "X_test = X_test.astype(float)"
   ]
  },
  {
   "cell_type": "code",
   "execution_count": null,
   "metadata": {
    "ExecuteTime": {
     "end_time": "2021-02-04T15:36:16.624747Z",
     "start_time": "2021-02-04T15:36:00.216Z"
    }
   },
   "outputs": [],
   "source": [
    "X_train.shape"
   ]
  },
  {
   "cell_type": "code",
   "execution_count": null,
   "metadata": {
    "ExecuteTime": {
     "end_time": "2021-02-04T15:36:16.626579Z",
     "start_time": "2021-02-04T15:36:00.218Z"
    }
   },
   "outputs": [],
   "source": [
    "y_train = y_train.astype(float)\n",
    "y_test = y_test.astype(float)"
   ]
  },
  {
   "cell_type": "code",
   "execution_count": null,
   "metadata": {
    "ExecuteTime": {
     "end_time": "2021-02-04T15:36:16.628362Z",
     "start_time": "2021-02-04T15:36:00.221Z"
    }
   },
   "outputs": [],
   "source": [
    "# from tensorflow.keras.backend import expand_dims\n",
    "# X_train = expand_dims(X_train, axis=-1)\n",
    "# X_test = expand_dims(X_test, axis=-1)"
   ]
  },
  {
   "cell_type": "code",
   "execution_count": null,
   "metadata": {
    "ExecuteTime": {
     "end_time": "2021-02-04T15:36:16.630204Z",
     "start_time": "2021-02-04T15:36:00.225Z"
    }
   },
   "outputs": [],
   "source": [
    "import matplotlib.pyplot as plt"
   ]
  },
  {
   "cell_type": "code",
   "execution_count": null,
   "metadata": {
    "ExecuteTime": {
     "end_time": "2021-02-04T15:36:16.633428Z",
     "start_time": "2021-02-04T15:36:00.228Z"
    }
   },
   "outputs": [],
   "source": [
    "plt.imshow(X_train[0])\n",
    "plt.show()\n",
    "plt.imshow(X_train[30000])\n",
    "plt.show()\n",
    "plt.imshow(X_train[100000])"
   ]
  },
  {
   "cell_type": "code",
   "execution_count": null,
   "metadata": {
    "ExecuteTime": {
     "end_time": "2021-02-04T15:36:16.635513Z",
     "start_time": "2021-02-04T15:36:00.232Z"
    }
   },
   "outputs": [],
   "source": [
    "from tensorflow.keras import Sequential\n",
    "from tensorflow.keras import layers, models \n",
    "from tensorflow.keras.optimizers import RMSprop, Adam\n",
    "\n",
    "optim = RMSprop(learning_rate=0.0000001)\n",
    "\n",
    "def init_model():\n",
    "    model = Sequential()\n",
    "    model.add(layers.LSTM(200, return_sequences=True, input_shape=(6,15), activation='tanh'))\n",
    "    model.add(layers.LSTM(200, activation='tanh'))\n",
    "    model.add(layers.Dropout(0.3))\n",
    "    model.add(layers.Dense(200, activation='relu'))\n",
    "    model.add(layers.Dropout(0.3))\n",
    "    model.add(layers.Dense(1, activation='sigmoid'))\n",
    "\n",
    "    model.compile(loss='binary_crossentropy', optimizer=optim, metrics=['accuracy'])\n",
    "    \n",
    "    return model"
   ]
  },
  {
   "cell_type": "code",
   "execution_count": null,
   "metadata": {
    "ExecuteTime": {
     "end_time": "2021-02-04T15:36:16.637757Z",
     "start_time": "2021-02-04T15:36:00.236Z"
    }
   },
   "outputs": [],
   "source": [
    "model = init_model()\n",
    "\n",
    "from tensorflow.keras.callbacks import EarlyStopping\n",
    "\n",
    "es = EarlyStopping(patience=5, restore_best_weights=True)\n",
    "\n",
    "model.fit(X_train, y_train, \n",
    "          epochs=500, \n",
    "          batch_size=8,\n",
    "          validation_split=0.2,\n",
    "          callbacks=[es]\n",
    "         )"
   ]
  },
  {
   "cell_type": "code",
   "execution_count": null,
   "metadata": {
    "ExecuteTime": {
     "end_time": "2021-02-04T15:36:16.640743Z",
     "start_time": "2021-02-04T15:36:00.241Z"
    }
   },
   "outputs": [],
   "source": [
    "y_pred = model.predict(X_test)"
   ]
  },
  {
   "cell_type": "code",
   "execution_count": null,
   "metadata": {
    "ExecuteTime": {
     "end_time": "2021-02-04T15:36:16.644067Z",
     "start_time": "2021-02-04T15:36:00.246Z"
    }
   },
   "outputs": [],
   "source": [
    "y_pred.shape"
   ]
  },
  {
   "cell_type": "code",
   "execution_count": null,
   "metadata": {
    "ExecuteTime": {
     "end_time": "2021-02-04T15:36:16.646131Z",
     "start_time": "2021-02-04T15:36:00.250Z"
    }
   },
   "outputs": [],
   "source": [
    "y_test.sum()/len(y_test)"
   ]
  },
  {
   "cell_type": "code",
   "execution_count": null,
   "metadata": {
    "ExecuteTime": {
     "end_time": "2021-02-04T15:36:16.651581Z",
     "start_time": "2021-02-04T15:36:00.255Z"
    }
   },
   "outputs": [],
   "source": [
    "model.evaluate(X_test, y_test)"
   ]
  },
  {
   "cell_type": "code",
   "execution_count": null,
   "metadata": {
    "ExecuteTime": {
     "end_time": "2021-02-04T15:36:16.654110Z",
     "start_time": "2021-02-04T15:36:00.260Z"
    }
   },
   "outputs": [],
   "source": [
    "for i in range(0, len(y_pred), 500):\n",
    "    print(f'Predicted {y_pred[i][0] >= 0.5}, test {y_test[i]}')"
   ]
  },
  {
   "cell_type": "code",
   "execution_count": null,
   "metadata": {
    "ExecuteTime": {
     "end_time": "2021-02-04T15:36:16.656283Z",
     "start_time": "2021-02-04T15:36:00.266Z"
    }
   },
   "outputs": [],
   "source": [
    "def initialize_model_2():\n",
    "    model = models.Sequential()\n",
    "    model.add(layers.Conv2D(32, (3, 3), padding='same', input_shape=(30, 4, 1), activation='relu'))\n",
    "    model.add(layers.MaxPooling2D(pool_size=(2, 2)))\n",
    "\n",
    "    model.add(layers.Conv2D(64, (2, 2), padding='same', activation='relu'))\n",
    "    model.add(layers.MaxPooling2D(pool_size=(2, 2)))\n",
    "    \n",
    "    model.add(layers.Conv2D(128, (3, 3), padding='same', activation='relu'))\n",
    "    model.add(layers.MaxPooling2D(pool_size=(2, 2)))\n",
    "\n",
    "    model.add(layers.Flatten())\n",
    "    model.add(layers.Dense(120, activation='relu'))\n",
    "    model.add(layers.Dense(60, activation='relu'))\n",
    "    model.add(layers.Dropout(0.5))\n",
    "    model.add(layers.Dense(1, activation='sigmoid'))\n",
    "    \n",
    "    return model"
   ]
  },
  {
   "cell_type": "code",
   "execution_count": null,
   "metadata": {
    "ExecuteTime": {
     "end_time": "2021-02-04T15:36:16.658298Z",
     "start_time": "2021-02-04T15:36:00.272Z"
    }
   },
   "outputs": [],
   "source": [
    "model_2 = initialize_model_2()\n",
    "\n",
    "model_2.compile(loss='binary_crossentropy',\n",
    "                  optimizer='adam',\n",
    "                  metrics=['accuracy'])"
   ]
  },
  {
   "cell_type": "code",
   "execution_count": null,
   "metadata": {
    "ExecuteTime": {
     "end_time": "2021-02-04T15:36:16.660327Z",
     "start_time": "2021-02-04T15:36:00.277Z"
    }
   },
   "outputs": [],
   "source": [
    "es = EarlyStopping(patience=5, restore_best_weights=True)\n",
    "\n",
    "model_2.fit(X_train, y_train, \n",
    "          epochs=200, \n",
    "          batch_size=8,\n",
    "          validation_split=0.2,\n",
    "            callbacks=[es]\n",
    "         )"
   ]
  },
  {
   "cell_type": "code",
   "execution_count": null,
   "metadata": {
    "ExecuteTime": {
     "end_time": "2021-02-04T15:36:16.662246Z",
     "start_time": "2021-02-04T15:36:00.282Z"
    }
   },
   "outputs": [],
   "source": [
    "y_test.sum()/y_test.shape[0]"
   ]
  },
  {
   "cell_type": "code",
   "execution_count": null,
   "metadata": {
    "ExecuteTime": {
     "end_time": "2021-02-04T15:36:16.664473Z",
     "start_time": "2021-02-04T15:36:00.286Z"
    }
   },
   "outputs": [],
   "source": [
    "y_pred = model.predict(X_test)"
   ]
  },
  {
   "cell_type": "code",
   "execution_count": null,
   "metadata": {},
   "outputs": [],
   "source": []
  }
 ],
 "metadata": {
  "kernelspec": {
   "display_name": "Python 3",
   "language": "python",
   "name": "python3"
  },
  "language_info": {
   "codemirror_mode": {
    "name": "ipython",
    "version": 3
   },
   "file_extension": ".py",
   "mimetype": "text/x-python",
   "name": "python",
   "nbconvert_exporter": "python",
   "pygments_lexer": "ipython3",
   "version": "3.7.7"
  },
  "toc": {
   "base_numbering": 1,
   "nav_menu": {},
   "number_sections": true,
   "sideBar": true,
   "skip_h1_title": false,
   "title_cell": "Table of Contents",
   "title_sidebar": "Contents",
   "toc_cell": false,
   "toc_position": {},
   "toc_section_display": true,
   "toc_window_display": false
  },
  "varInspector": {
   "cols": {
    "lenName": 16,
    "lenType": 16,
    "lenVar": 40
   },
   "kernels_config": {
    "python": {
     "delete_cmd_postfix": "",
     "delete_cmd_prefix": "del ",
     "library": "var_list.py",
     "varRefreshCmd": "print(var_dic_list())"
    },
    "r": {
     "delete_cmd_postfix": ") ",
     "delete_cmd_prefix": "rm(",
     "library": "var_list.r",
     "varRefreshCmd": "cat(var_dic_list()) "
    }
   },
   "types_to_exclude": [
    "module",
    "function",
    "builtin_function_or_method",
    "instance",
    "_Feature"
   ],
   "window_display": false
  }
 },
 "nbformat": 4,
 "nbformat_minor": 4
}
