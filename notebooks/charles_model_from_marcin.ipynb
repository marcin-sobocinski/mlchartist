{
 "cells": [
  {
   "cell_type": "code",
   "execution_count": 1,
   "metadata": {
    "ExecuteTime": {
     "end_time": "2021-02-04T15:43:39.424488Z",
     "start_time": "2021-02-04T15:43:38.605008Z"
    }
   },
   "outputs": [],
   "source": [
    "import pandas as pd\n",
    "import numpy as np\n",
    "import os\n",
    "import random\n",
    "\n",
    "from mlchartist.array_builder import build_arrays\n",
    "from mlchartist.preprocessing import thresholds_encoding\n",
    "from sklearn.preprocessing import StandardScaler, MinMaxScaler, RobustScaler"
   ]
  },
  {
   "cell_type": "markdown",
   "metadata": {},
   "source": [
    "# Function implementation from marcin_first_model"
   ]
  },
  {
   "cell_type": "code",
   "execution_count": 2,
   "metadata": {
    "ExecuteTime": {
     "end_time": "2021-02-04T15:43:39.436558Z",
     "start_time": "2021-02-04T15:43:39.427697Z"
    }
   },
   "outputs": [],
   "source": [
    "def stocks_selector_local(min_len = 2000, num_samp = 2, path='../raw_data/processed/'):\n",
    "    \"\"\"\n",
    "    Returns a concatened Pandas DataFrame of the stocks data\n",
    "\n",
    "    Randomly select the number of stocks (`num_samp`) in the `path` directory according their\n",
    "        minimal lenght (`min_len` in days)\n",
    "    \"\"\"\n",
    "\n",
    "    filenames = []\n",
    "\n",
    "    for file in os.listdir(path):\n",
    "        if file.endswith('.csv'):\n",
    "            with open(path + file) as f:\n",
    "                rows_num = sum(1 for line in f)\n",
    "                if rows_num >= min_len:\n",
    "                    filenames.append(file)\n",
    "                    \n",
    "    if len(filenames) < num_samp:\n",
    "        print('Sample size bigger that nuber of companies available')\n",
    "    else:\n",
    "        sample = random.sample(filenames, num_samp)\n",
    "    \n",
    "    dfs = []\n",
    "\n",
    "    for ticker in sample:\n",
    "        ticker_df = pd.read_csv('../raw_data/processed/'+ticker)\n",
    "        dfs.append(ticker_df)\n",
    "    \n",
    "    return pd.concat(dfs)"
   ]
  },
  {
   "cell_type": "code",
   "execution_count": 3,
   "metadata": {
    "ExecuteTime": {
     "end_time": "2021-02-04T15:43:41.884521Z",
     "start_time": "2021-02-04T15:43:39.440603Z"
    }
   },
   "outputs": [],
   "source": [
    "df = stocks_selector_local()"
   ]
  },
  {
   "cell_type": "code",
   "execution_count": 4,
   "metadata": {
    "ExecuteTime": {
     "end_time": "2021-02-04T15:43:41.920576Z",
     "start_time": "2021-02-04T15:43:41.887243Z"
    }
   },
   "outputs": [
    {
     "data": {
      "text/html": [
       "<div>\n",
       "<style scoped>\n",
       "    .dataframe tbody tr th:only-of-type {\n",
       "        vertical-align: middle;\n",
       "    }\n",
       "\n",
       "    .dataframe tbody tr th {\n",
       "        vertical-align: top;\n",
       "    }\n",
       "\n",
       "    .dataframe thead th {\n",
       "        text-align: right;\n",
       "    }\n",
       "</style>\n",
       "<table border=\"1\" class=\"dataframe\">\n",
       "  <thead>\n",
       "    <tr style=\"text-align: right;\">\n",
       "      <th></th>\n",
       "      <th>ticker</th>\n",
       "      <th>date</th>\n",
       "      <th>RSI</th>\n",
       "      <th>Stochastic</th>\n",
       "      <th>Stochastic_signal</th>\n",
       "      <th>ADI</th>\n",
       "      <th>OBV</th>\n",
       "      <th>ATR</th>\n",
       "      <th>ADX</th>\n",
       "      <th>ADX_pos</th>\n",
       "      <th>ADX_neg</th>\n",
       "      <th>MACD</th>\n",
       "      <th>MACD_diff</th>\n",
       "      <th>MACD_signal</th>\n",
       "      <th>5TD_return</th>\n",
       "      <th>10TD_return</th>\n",
       "      <th>20TD_return</th>\n",
       "    </tr>\n",
       "  </thead>\n",
       "  <tbody>\n",
       "    <tr>\n",
       "      <th>0</th>\n",
       "      <td>LBTYK</td>\n",
       "      <td>2005-10-19</td>\n",
       "      <td>36.028966</td>\n",
       "      <td>22.177955</td>\n",
       "      <td>18.249249</td>\n",
       "      <td>-2.884519e+07</td>\n",
       "      <td>-31755379</td>\n",
       "      <td>0.337587</td>\n",
       "      <td>19.719229</td>\n",
       "      <td>11.252750</td>\n",
       "      <td>31.599156</td>\n",
       "      <td>-0.187551</td>\n",
       "      <td>-0.099363</td>\n",
       "      <td>-0.088188</td>\n",
       "      <td>0.027888</td>\n",
       "      <td>0.001286</td>\n",
       "      <td>0.008208</td>\n",
       "    </tr>\n",
       "    <tr>\n",
       "      <th>1</th>\n",
       "      <td>LBTYK</td>\n",
       "      <td>2005-10-20</td>\n",
       "      <td>39.562848</td>\n",
       "      <td>29.415671</td>\n",
       "      <td>21.635957</td>\n",
       "      <td>-2.865864e+07</td>\n",
       "      <td>-30815006</td>\n",
       "      <td>0.331117</td>\n",
       "      <td>20.830450</td>\n",
       "      <td>14.327924</td>\n",
       "      <td>29.946211</td>\n",
       "      <td>-0.191068</td>\n",
       "      <td>-0.082304</td>\n",
       "      <td>-0.108764</td>\n",
       "      <td>-0.008512</td>\n",
       "      <td>0.008023</td>\n",
       "      <td>-0.002152</td>\n",
       "    </tr>\n",
       "    <tr>\n",
       "      <th>2</th>\n",
       "      <td>LBTYK</td>\n",
       "      <td>2005-10-21</td>\n",
       "      <td>45.132813</td>\n",
       "      <td>41.905396</td>\n",
       "      <td>31.166341</td>\n",
       "      <td>-2.748414e+07</td>\n",
       "      <td>-29327307</td>\n",
       "      <td>0.325109</td>\n",
       "      <td>21.330776</td>\n",
       "      <td>16.003589</td>\n",
       "      <td>28.349198</td>\n",
       "      <td>-0.176808</td>\n",
       "      <td>-0.054436</td>\n",
       "      <td>-0.122373</td>\n",
       "      <td>-0.027866</td>\n",
       "      <td>-0.011627</td>\n",
       "      <td>-0.019122</td>\n",
       "    </tr>\n",
       "    <tr>\n",
       "      <th>3</th>\n",
       "      <td>LBTYK</td>\n",
       "      <td>2005-10-24</td>\n",
       "      <td>49.148722</td>\n",
       "      <td>51.765490</td>\n",
       "      <td>41.028852</td>\n",
       "      <td>-2.661992e+07</td>\n",
       "      <td>-28406419</td>\n",
       "      <td>0.320458</td>\n",
       "      <td>21.212772</td>\n",
       "      <td>17.941656</td>\n",
       "      <td>26.733068</td>\n",
       "      <td>-0.151815</td>\n",
       "      <td>-0.023554</td>\n",
       "      <td>-0.128261</td>\n",
       "      <td>-0.026717</td>\n",
       "      <td>-0.018096</td>\n",
       "      <td>-0.034107</td>\n",
       "    </tr>\n",
       "    <tr>\n",
       "      <th>4</th>\n",
       "      <td>LBTYK</td>\n",
       "      <td>2005-10-25</td>\n",
       "      <td>48.810771</td>\n",
       "      <td>52.400549</td>\n",
       "      <td>48.690478</td>\n",
       "      <td>-2.635698e+07</td>\n",
       "      <td>-29128660</td>\n",
       "      <td>0.313068</td>\n",
       "      <td>20.891685</td>\n",
       "      <td>18.145308</td>\n",
       "      <td>25.430040</td>\n",
       "      <td>-0.131541</td>\n",
       "      <td>-0.002624</td>\n",
       "      <td>-0.128917</td>\n",
       "      <td>-0.047809</td>\n",
       "      <td>-0.006166</td>\n",
       "      <td>-0.039082</td>\n",
       "    </tr>\n",
       "  </tbody>\n",
       "</table>\n",
       "</div>"
      ],
      "text/plain": [
       "  ticker        date        RSI  Stochastic  Stochastic_signal           ADI  \\\n",
       "0  LBTYK  2005-10-19  36.028966   22.177955          18.249249 -2.884519e+07   \n",
       "1  LBTYK  2005-10-20  39.562848   29.415671          21.635957 -2.865864e+07   \n",
       "2  LBTYK  2005-10-21  45.132813   41.905396          31.166341 -2.748414e+07   \n",
       "3  LBTYK  2005-10-24  49.148722   51.765490          41.028852 -2.661992e+07   \n",
       "4  LBTYK  2005-10-25  48.810771   52.400549          48.690478 -2.635698e+07   \n",
       "\n",
       "        OBV       ATR        ADX    ADX_pos    ADX_neg      MACD  MACD_diff  \\\n",
       "0 -31755379  0.337587  19.719229  11.252750  31.599156 -0.187551  -0.099363   \n",
       "1 -30815006  0.331117  20.830450  14.327924  29.946211 -0.191068  -0.082304   \n",
       "2 -29327307  0.325109  21.330776  16.003589  28.349198 -0.176808  -0.054436   \n",
       "3 -28406419  0.320458  21.212772  17.941656  26.733068 -0.151815  -0.023554   \n",
       "4 -29128660  0.313068  20.891685  18.145308  25.430040 -0.131541  -0.002624   \n",
       "\n",
       "   MACD_signal  5TD_return  10TD_return  20TD_return  \n",
       "0    -0.088188    0.027888     0.001286     0.008208  \n",
       "1    -0.108764   -0.008512     0.008023    -0.002152  \n",
       "2    -0.122373   -0.027866    -0.011627    -0.019122  \n",
       "3    -0.128261   -0.026717    -0.018096    -0.034107  \n",
       "4    -0.128917   -0.047809    -0.006166    -0.039082  "
      ]
     },
     "execution_count": 4,
     "metadata": {},
     "output_type": "execute_result"
    }
   ],
   "source": [
    "df.head()"
   ]
  },
  {
   "cell_type": "code",
   "execution_count": 5,
   "metadata": {
    "ExecuteTime": {
     "end_time": "2021-02-04T15:43:41.936197Z",
     "start_time": "2021-02-04T15:43:41.923841Z"
    }
   },
   "outputs": [],
   "source": [
    "df['date'] = pd.to_datetime(df['date'])"
   ]
  },
  {
   "cell_type": "code",
   "execution_count": 6,
   "metadata": {
    "ExecuteTime": {
     "end_time": "2021-02-04T15:43:41.967988Z",
     "start_time": "2021-02-04T15:43:41.938626Z"
    }
   },
   "outputs": [
    {
     "name": "stdout",
     "output_type": "stream",
     "text": [
      "Missing return columns\n"
     ]
    }
   ],
   "source": [
    "df = thresholds_encoding(df)"
   ]
  },
  {
   "cell_type": "code",
   "execution_count": 7,
   "metadata": {
    "ExecuteTime": {
     "end_time": "2021-02-04T15:43:41.974506Z",
     "start_time": "2021-02-04T15:43:41.970417Z"
    }
   },
   "outputs": [
    {
     "ename": "SyntaxError",
     "evalue": "invalid syntax (<ipython-input-7-698de17ba897>, line 1)",
     "output_type": "error",
     "traceback": [
      "\u001b[0;36m  File \u001b[0;32m\"<ipython-input-7-698de17ba897>\"\u001b[0;36m, line \u001b[0;32m1\u001b[0m\n\u001b[0;31m    df= #.head()\u001b[0m\n\u001b[0m                ^\u001b[0m\n\u001b[0;31mSyntaxError\u001b[0m\u001b[0;31m:\u001b[0m invalid syntax\n"
     ]
    }
   ],
   "source": [
    "df= #.head()"
   ]
  },
  {
   "cell_type": "code",
   "execution_count": null,
   "metadata": {
    "ExecuteTime": {
     "end_time": "2021-02-04T15:43:42.067479Z",
     "start_time": "2021-02-04T15:43:38.630Z"
    }
   },
   "outputs": [],
   "source": [
    "FIVE_TR = 0.0006\n",
    "TEN_TR = 0.0012\n",
    "TWENTY_TR = 0.0024\n",
    "INPUT_COLS = ['RSI', 'Stochastic', 'Stochastic_signal', 'ADI','OBV', 'ATR', 'ADX', 'ADX_pos', 'ADX_neg', 'MACD', 'MACD_diff','MACD_signal', '1D_past_return', '5D_past_return', '10D_past_return']\n",
    "#INPUT_COLS = ['RSI', 'Stochastic', 'Stochastic_signal']"
   ]
  },
  {
   "cell_type": "code",
   "execution_count": null,
   "metadata": {
    "ExecuteTime": {
     "end_time": "2021-02-04T15:43:42.069821Z",
     "start_time": "2021-02-04T15:43:38.635Z"
    }
   },
   "outputs": [],
   "source": [
    "df['5D_return_bin'] = (df['5TD_return'] >= FIVE_TR)\n",
    "df['10D_return_bin'] = (df['10TD_return'] >= TEN_TR)\n",
    "df['20D_return_bin'] = (df['20TD_return'] >= TWENTY_TR)"
   ]
  },
  {
   "cell_type": "code",
   "execution_count": null,
   "metadata": {
    "ExecuteTime": {
     "end_time": "2021-02-04T15:43:42.071918Z",
     "start_time": "2021-02-04T15:43:38.639Z"
    }
   },
   "outputs": [],
   "source": [
    "test_df = df[df['date'].dt.year >= 2018]\n",
    "train_df = df[df['date'].dt.year < 2018]"
   ]
  },
  {
   "cell_type": "code",
   "execution_count": null,
   "metadata": {
    "ExecuteTime": {
     "end_time": "2021-02-04T15:43:42.074604Z",
     "start_time": "2021-02-04T15:43:38.643Z"
    }
   },
   "outputs": [],
   "source": [
    "scaler = RobustScaler()"
   ]
  },
  {
   "cell_type": "code",
   "execution_count": null,
   "metadata": {
    "ExecuteTime": {
     "end_time": "2021-02-04T15:43:42.078342Z",
     "start_time": "2021-02-04T15:43:38.647Z"
    }
   },
   "outputs": [],
   "source": [
    "scaler.fit(train_df[INPUT_COLS])"
   ]
  },
  {
   "cell_type": "code",
   "execution_count": null,
   "metadata": {
    "ExecuteTime": {
     "end_time": "2021-02-04T15:43:42.080272Z",
     "start_time": "2021-02-04T15:43:38.652Z"
    }
   },
   "outputs": [],
   "source": [
    "train_df.loc[:, INPUT_COLS] = scaler.transform(train_df[INPUT_COLS])\n",
    "test_df.loc[:, INPUT_COLS] = scaler.transform(test_df[INPUT_COLS])"
   ]
  },
  {
   "cell_type": "code",
   "execution_count": null,
   "metadata": {
    "ExecuteTime": {
     "end_time": "2021-02-04T15:43:42.082263Z",
     "start_time": "2021-02-04T15:43:38.656Z"
    }
   },
   "outputs": [],
   "source": [
    "train_df"
   ]
  },
  {
   "cell_type": "code",
   "execution_count": null,
   "metadata": {
    "ExecuteTime": {
     "end_time": "2021-02-04T15:43:42.084634Z",
     "start_time": "2021-02-04T15:43:38.661Z"
    }
   },
   "outputs": [],
   "source": [
    "for col in INPUT_COLS:\n",
    "    plt.hist(train_df[col], bins=20)\n",
    "    plt.title(col)\n",
    "    plt.show()"
   ]
  },
  {
   "cell_type": "code",
   "execution_count": null,
   "metadata": {
    "ExecuteTime": {
     "end_time": "2021-02-04T15:43:42.086602Z",
     "start_time": "2021-02-04T15:43:38.664Z"
    }
   },
   "outputs": [],
   "source": [
    "plt.hist(df['10TD_return'], bins=50, range=(-0.5, 0.5))"
   ]
  },
  {
   "cell_type": "code",
   "execution_count": null,
   "metadata": {
    "ExecuteTime": {
     "end_time": "2021-02-04T15:43:42.089720Z",
     "start_time": "2021-02-04T15:43:38.668Z"
    }
   },
   "outputs": [],
   "source": [
    "(df['10TD_return'] == 0).sum()/len(df)*100"
   ]
  },
  {
   "cell_type": "code",
   "execution_count": null,
   "metadata": {
    "ExecuteTime": {
     "end_time": "2021-02-04T15:43:42.092961Z",
     "start_time": "2021-02-04T15:43:38.672Z"
    }
   },
   "outputs": [],
   "source": [
    "(train_df['10D_past_return'] > 0.8).sum()"
   ]
  },
  {
   "cell_type": "code",
   "execution_count": null,
   "metadata": {
    "ExecuteTime": {
     "end_time": "2021-02-04T15:43:42.095196Z",
     "start_time": "2021-02-04T15:43:38.677Z"
    }
   },
   "outputs": [],
   "source": [
    "tickers = train_df['ticker'].unique()"
   ]
  },
  {
   "cell_type": "code",
   "execution_count": null,
   "metadata": {
    "ExecuteTime": {
     "end_time": "2021-02-04T15:43:42.097849Z",
     "start_time": "2021-02-04T15:43:38.680Z"
    }
   },
   "outputs": [],
   "source": [
    "train_x_dfs = []\n",
    "train_y_dfs = []\n",
    "test_x_dfs = []\n",
    "test_y_dfs = []"
   ]
  },
  {
   "cell_type": "code",
   "execution_count": null,
   "metadata": {
    "ExecuteTime": {
     "end_time": "2021-02-04T15:43:42.101209Z",
     "start_time": "2021-02-04T15:43:38.685Z"
    }
   },
   "outputs": [],
   "source": [
    "for ticker in tickers:\n",
    "    ticker_train_df = train_df[train_df['ticker'] == ticker]\n",
    "    ticker_test_df = test_df[test_df['ticker'] == ticker]\n",
    "    ticker_train_x, ticker_train_y = build_arrays(ticker_train_df,input_cols=INPUT_COLS, target_col='20D_return_bin', time_window=6, stride=5)\n",
    "    ticker_test_x, ticker_test_y = build_arrays(ticker_test_df,input_cols=INPUT_COLS, target_col='20D_return_bin', time_window=6, stride=5)\n",
    "    train_x_dfs.append(ticker_train_x)\n",
    "    train_y_dfs.append(ticker_train_y)\n",
    "    test_x_dfs.append(ticker_test_x)\n",
    "    test_y_dfs.append(ticker_test_y)"
   ]
  },
  {
   "cell_type": "code",
   "execution_count": null,
   "metadata": {
    "ExecuteTime": {
     "end_time": "2021-02-04T15:43:42.103353Z",
     "start_time": "2021-02-04T15:43:38.688Z"
    }
   },
   "outputs": [],
   "source": [
    "X_train = np.concatenate(train_x_dfs)\n",
    "y_train = np.concatenate(train_y_dfs)\n",
    "X_test = np.concatenate(test_x_dfs)\n",
    "y_test = np.concatenate(test_y_dfs)"
   ]
  },
  {
   "cell_type": "code",
   "execution_count": null,
   "metadata": {
    "ExecuteTime": {
     "end_time": "2021-02-04T15:43:42.105490Z",
     "start_time": "2021-02-04T15:43:38.693Z"
    }
   },
   "outputs": [],
   "source": [
    "y_train.shape"
   ]
  },
  {
   "cell_type": "code",
   "execution_count": null,
   "metadata": {
    "ExecuteTime": {
     "end_time": "2021-02-04T15:43:42.107455Z",
     "start_time": "2021-02-04T15:43:38.697Z"
    }
   },
   "outputs": [],
   "source": [
    "X_train = X_train.astype(float)\n",
    "X_test = X_test.astype(float)"
   ]
  },
  {
   "cell_type": "code",
   "execution_count": null,
   "metadata": {
    "ExecuteTime": {
     "end_time": "2021-02-04T15:43:42.109420Z",
     "start_time": "2021-02-04T15:43:38.701Z"
    }
   },
   "outputs": [],
   "source": [
    "X_train.shape"
   ]
  },
  {
   "cell_type": "code",
   "execution_count": null,
   "metadata": {
    "ExecuteTime": {
     "end_time": "2021-02-04T15:43:42.114064Z",
     "start_time": "2021-02-04T15:43:38.705Z"
    }
   },
   "outputs": [],
   "source": [
    "y_train = y_train.astype(float)\n",
    "y_test = y_test.astype(float)"
   ]
  },
  {
   "cell_type": "code",
   "execution_count": null,
   "metadata": {
    "ExecuteTime": {
     "end_time": "2021-02-04T15:43:42.116936Z",
     "start_time": "2021-02-04T15:43:38.710Z"
    }
   },
   "outputs": [],
   "source": [
    "# from tensorflow.keras.backend import expand_dims\n",
    "# X_train = expand_dims(X_train, axis=-1)\n",
    "# X_test = expand_dims(X_test, axis=-1)"
   ]
  },
  {
   "cell_type": "code",
   "execution_count": null,
   "metadata": {
    "ExecuteTime": {
     "end_time": "2021-02-04T15:43:42.120538Z",
     "start_time": "2021-02-04T15:43:38.714Z"
    }
   },
   "outputs": [],
   "source": [
    "import matplotlib.pyplot as plt"
   ]
  },
  {
   "cell_type": "code",
   "execution_count": null,
   "metadata": {
    "ExecuteTime": {
     "end_time": "2021-02-04T15:43:42.122227Z",
     "start_time": "2021-02-04T15:43:38.718Z"
    }
   },
   "outputs": [],
   "source": [
    "plt.imshow(X_train[0])\n",
    "plt.show()\n",
    "plt.imshow(X_train[30000])\n",
    "plt.show()\n",
    "plt.imshow(X_train[100000])"
   ]
  },
  {
   "cell_type": "code",
   "execution_count": null,
   "metadata": {
    "ExecuteTime": {
     "end_time": "2021-02-04T15:43:42.124988Z",
     "start_time": "2021-02-04T15:43:38.722Z"
    }
   },
   "outputs": [],
   "source": [
    "from tensorflow.keras import Sequential\n",
    "from tensorflow.keras import layers, models \n",
    "from tensorflow.keras.optimizers import RMSprop, Adam\n",
    "\n",
    "optim = RMSprop(learning_rate=0.0000001)\n",
    "\n",
    "def init_model():\n",
    "    model = Sequential()\n",
    "    model.add(layers.LSTM(200, return_sequences=True, input_shape=(6,15), activation='tanh'))\n",
    "    model.add(layers.LSTM(200, activation='tanh'))\n",
    "    model.add(layers.Dropout(0.3))\n",
    "    model.add(layers.Dense(200, activation='relu'))\n",
    "    model.add(layers.Dropout(0.3))\n",
    "    model.add(layers.Dense(1, activation='sigmoid'))\n",
    "\n",
    "    model.compile(loss='binary_crossentropy', optimizer=optim, metrics=['accuracy'])\n",
    "    \n",
    "    return model"
   ]
  },
  {
   "cell_type": "code",
   "execution_count": null,
   "metadata": {
    "ExecuteTime": {
     "end_time": "2021-02-04T15:43:42.128546Z",
     "start_time": "2021-02-04T15:43:38.726Z"
    }
   },
   "outputs": [],
   "source": [
    "model = init_model()\n",
    "\n",
    "from tensorflow.keras.callbacks import EarlyStopping\n",
    "\n",
    "es = EarlyStopping(patience=5, restore_best_weights=True)\n",
    "\n",
    "model.fit(X_train, y_train, \n",
    "          epochs=500, \n",
    "          batch_size=8,\n",
    "          validation_split=0.2,\n",
    "          callbacks=[es]\n",
    "         )"
   ]
  },
  {
   "cell_type": "code",
   "execution_count": null,
   "metadata": {
    "ExecuteTime": {
     "end_time": "2021-02-04T15:43:42.131676Z",
     "start_time": "2021-02-04T15:43:38.730Z"
    }
   },
   "outputs": [],
   "source": [
    "y_pred = model.predict(X_test)"
   ]
  },
  {
   "cell_type": "code",
   "execution_count": null,
   "metadata": {
    "ExecuteTime": {
     "end_time": "2021-02-04T15:43:42.133983Z",
     "start_time": "2021-02-04T15:43:38.733Z"
    }
   },
   "outputs": [],
   "source": [
    "y_pred.shape"
   ]
  },
  {
   "cell_type": "code",
   "execution_count": null,
   "metadata": {
    "ExecuteTime": {
     "end_time": "2021-02-04T15:43:42.136149Z",
     "start_time": "2021-02-04T15:43:38.735Z"
    }
   },
   "outputs": [],
   "source": [
    "y_test.sum()/len(y_test)"
   ]
  },
  {
   "cell_type": "code",
   "execution_count": null,
   "metadata": {
    "ExecuteTime": {
     "end_time": "2021-02-04T15:43:42.139398Z",
     "start_time": "2021-02-04T15:43:38.738Z"
    }
   },
   "outputs": [],
   "source": [
    "model.evaluate(X_test, y_test)"
   ]
  },
  {
   "cell_type": "code",
   "execution_count": null,
   "metadata": {
    "ExecuteTime": {
     "end_time": "2021-02-04T15:43:42.142769Z",
     "start_time": "2021-02-04T15:43:38.740Z"
    }
   },
   "outputs": [],
   "source": [
    "for i in range(0, len(y_pred), 500):\n",
    "    print(f'Predicted {y_pred[i][0] >= 0.5}, test {y_test[i]}')"
   ]
  },
  {
   "cell_type": "code",
   "execution_count": null,
   "metadata": {
    "ExecuteTime": {
     "end_time": "2021-02-04T15:43:42.146044Z",
     "start_time": "2021-02-04T15:43:38.743Z"
    }
   },
   "outputs": [],
   "source": [
    "def initialize_model_2():\n",
    "    model = models.Sequential()\n",
    "    model.add(layers.Conv2D(32, (3, 3), padding='same', input_shape=(30, 4, 1), activation='relu'))\n",
    "    model.add(layers.MaxPooling2D(pool_size=(2, 2)))\n",
    "\n",
    "    model.add(layers.Conv2D(64, (2, 2), padding='same', activation='relu'))\n",
    "    model.add(layers.MaxPooling2D(pool_size=(2, 2)))\n",
    "    \n",
    "    model.add(layers.Conv2D(128, (3, 3), padding='same', activation='relu'))\n",
    "    model.add(layers.MaxPooling2D(pool_size=(2, 2)))\n",
    "\n",
    "    model.add(layers.Flatten())\n",
    "    model.add(layers.Dense(120, activation='relu'))\n",
    "    model.add(layers.Dense(60, activation='relu'))\n",
    "    model.add(layers.Dropout(0.5))\n",
    "    model.add(layers.Dense(1, activation='sigmoid'))\n",
    "    \n",
    "    return model"
   ]
  },
  {
   "cell_type": "code",
   "execution_count": null,
   "metadata": {
    "ExecuteTime": {
     "end_time": "2021-02-04T15:43:42.147976Z",
     "start_time": "2021-02-04T15:43:38.746Z"
    }
   },
   "outputs": [],
   "source": [
    "model_2 = initialize_model_2()\n",
    "\n",
    "model_2.compile(loss='binary_crossentropy',\n",
    "                  optimizer='adam',\n",
    "                  metrics=['accuracy'])"
   ]
  },
  {
   "cell_type": "code",
   "execution_count": null,
   "metadata": {
    "ExecuteTime": {
     "end_time": "2021-02-04T15:43:42.150173Z",
     "start_time": "2021-02-04T15:43:38.748Z"
    }
   },
   "outputs": [],
   "source": [
    "es = EarlyStopping(patience=5, restore_best_weights=True)\n",
    "\n",
    "model_2.fit(X_train, y_train, \n",
    "          epochs=200, \n",
    "          batch_size=8,\n",
    "          validation_split=0.2,\n",
    "            callbacks=[es]\n",
    "         )"
   ]
  },
  {
   "cell_type": "code",
   "execution_count": null,
   "metadata": {
    "ExecuteTime": {
     "end_time": "2021-02-04T15:43:42.152615Z",
     "start_time": "2021-02-04T15:43:38.751Z"
    }
   },
   "outputs": [],
   "source": [
    "y_test.sum()/y_test.shape[0]"
   ]
  },
  {
   "cell_type": "code",
   "execution_count": null,
   "metadata": {
    "ExecuteTime": {
     "end_time": "2021-02-04T15:43:42.154747Z",
     "start_time": "2021-02-04T15:43:38.753Z"
    }
   },
   "outputs": [],
   "source": [
    "y_pred = model.predict(X_test)"
   ]
  },
  {
   "cell_type": "code",
   "execution_count": null,
   "metadata": {},
   "outputs": [],
   "source": []
  }
 ],
 "metadata": {
  "kernelspec": {
   "display_name": "Python 3",
   "language": "python",
   "name": "python3"
  },
  "language_info": {
   "codemirror_mode": {
    "name": "ipython",
    "version": 3
   },
   "file_extension": ".py",
   "mimetype": "text/x-python",
   "name": "python",
   "nbconvert_exporter": "python",
   "pygments_lexer": "ipython3",
   "version": "3.7.7"
  },
  "toc": {
   "base_numbering": 1,
   "nav_menu": {},
   "number_sections": true,
   "sideBar": true,
   "skip_h1_title": false,
   "title_cell": "Table of Contents",
   "title_sidebar": "Contents",
   "toc_cell": false,
   "toc_position": {},
   "toc_section_display": true,
   "toc_window_display": false
  },
  "varInspector": {
   "cols": {
    "lenName": 16,
    "lenType": 16,
    "lenVar": 40
   },
   "kernels_config": {
    "python": {
     "delete_cmd_postfix": "",
     "delete_cmd_prefix": "del ",
     "library": "var_list.py",
     "varRefreshCmd": "print(var_dic_list())"
    },
    "r": {
     "delete_cmd_postfix": ") ",
     "delete_cmd_prefix": "rm(",
     "library": "var_list.r",
     "varRefreshCmd": "cat(var_dic_list()) "
    }
   },
   "types_to_exclude": [
    "module",
    "function",
    "builtin_function_or_method",
    "instance",
    "_Feature"
   ],
   "window_display": false
  }
 },
 "nbformat": 4,
 "nbformat_minor": 4
}
