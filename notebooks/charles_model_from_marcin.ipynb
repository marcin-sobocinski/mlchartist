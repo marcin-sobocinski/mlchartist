{
 "cells": [
  {
   "cell_type": "code",
   "execution_count": 1,
   "metadata": {
    "ExecuteTime": {
     "end_time": "2021-02-04T15:49:45.889776Z",
     "start_time": "2021-02-04T15:49:44.942550Z"
    }
   },
   "outputs": [
    {
     "ename": "SyntaxError",
     "evalue": "invalid syntax (preprocessing.py, line 172)",
     "output_type": "error",
     "traceback": [
      "Traceback \u001b[0;36m(most recent call last)\u001b[0m:\n",
      "  File \u001b[1;32m\"/home/bob/.pyenv/versions/3.7.7/envs/lewagon/lib/python3.7/site-packages/IPython/core/interactiveshell.py\"\u001b[0m, line \u001b[1;32m3417\u001b[0m, in \u001b[1;35mrun_code\u001b[0m\n    exec(code_obj, self.user_global_ns, self.user_ns)\n",
      "\u001b[0;36m  File \u001b[0;32m\"<ipython-input-1-bee1cdfc584f>\"\u001b[0;36m, line \u001b[0;32m7\u001b[0;36m, in \u001b[0;35m<module>\u001b[0;36m\u001b[0m\n\u001b[0;31m    from mlchartist.preprocessing import thresholds_encoding\u001b[0m\n",
      "\u001b[0;36m  File \u001b[0;32m\"/home/bob/.pyenv/versions/3.7.7/envs/lewagon/lib/python3.7/site-packages/mlchartist/preprocessing.py\"\u001b[0;36m, line \u001b[0;32m172\u001b[0m\n\u001b[0;31m    elif same_thresholds:\u001b[0m\n\u001b[0m       ^\u001b[0m\n\u001b[0;31mSyntaxError\u001b[0m\u001b[0;31m:\u001b[0m invalid syntax\n"
     ]
    }
   ],
   "source": [
    "import pandas as pd\n",
    "import numpy as np\n",
    "import os\n",
    "import random\n",
    "\n",
    "from mlchartist.array_builder import build_arrays\n",
    "from mlchartist.preprocessing import thresholds_encoding\n",
    "from sklearn.preprocessing import StandardScaler, MinMaxScaler, RobustScaler"
   ]
  },
  {
   "cell_type": "markdown",
   "metadata": {},
   "source": [
    "# Function implementation from marcin_first_model"
   ]
  },
  {
   "cell_type": "code",
   "execution_count": null,
   "metadata": {
    "ExecuteTime": {
     "end_time": "2021-02-04T15:49:45.897834Z",
     "start_time": "2021-02-04T15:49:44.903Z"
    }
   },
   "outputs": [],
   "source": [
    "def stocks_selector_local(min_len = 2000, num_samp = 2, path='../raw_data/processed/'):\n",
    "    \"\"\"\n",
    "    Returns a concatened Pandas DataFrame of the stocks data\n",
    "\n",
    "    Randomly select the number of stocks (`num_samp`) in the `path` directory according their\n",
    "        minimal lenght (`min_len` in days)\n",
    "    \"\"\"\n",
    "\n",
    "    filenames = []\n",
    "\n",
    "    for file in os.listdir(path):\n",
    "        if file.endswith('.csv'):\n",
    "            with open(path + file) as f:\n",
    "                rows_num = sum(1 for line in f)\n",
    "                if rows_num >= min_len:\n",
    "                    filenames.append(file)\n",
    "                    \n",
    "    if len(filenames) < num_samp:\n",
    "        print('Sample size bigger that nuber of companies available')\n",
    "    else:\n",
    "        sample = random.sample(filenames, num_samp)\n",
    "    \n",
    "    dfs = []\n",
    "\n",
    "    for ticker in sample:\n",
    "        ticker_df = pd.read_csv('../raw_data/processed/'+ticker)\n",
    "        dfs.append(ticker_df)\n",
    "    \n",
    "    return pd.concat(dfs)"
   ]
  },
  {
   "cell_type": "code",
   "execution_count": null,
   "metadata": {
    "ExecuteTime": {
     "end_time": "2021-02-04T15:49:45.898828Z",
     "start_time": "2021-02-04T15:49:44.906Z"
    }
   },
   "outputs": [],
   "source": [
    "df = stocks_selector_local()"
   ]
  },
  {
   "cell_type": "code",
   "execution_count": null,
   "metadata": {
    "ExecuteTime": {
     "end_time": "2021-02-04T15:49:45.899763Z",
     "start_time": "2021-02-04T15:49:44.910Z"
    }
   },
   "outputs": [],
   "source": [
    "df.head()"
   ]
  },
  {
   "cell_type": "code",
   "execution_count": null,
   "metadata": {
    "ExecuteTime": {
     "end_time": "2021-02-04T15:49:45.900739Z",
     "start_time": "2021-02-04T15:49:44.912Z"
    }
   },
   "outputs": [],
   "source": [
    "df['date'] = pd.to_datetime(df['date'])"
   ]
  },
  {
   "cell_type": "code",
   "execution_count": null,
   "metadata": {
    "ExecuteTime": {
     "end_time": "2021-02-04T15:49:45.901658Z",
     "start_time": "2021-02-04T15:49:44.916Z"
    }
   },
   "outputs": [],
   "source": [
    "df = thresholds_encoding(df)"
   ]
  },
  {
   "cell_type": "code",
   "execution_count": null,
   "metadata": {
    "ExecuteTime": {
     "end_time": "2021-02-04T15:49:45.902605Z",
     "start_time": "2021-02-04T15:49:44.918Z"
    }
   },
   "outputs": [],
   "source": [
    "df= #.head()"
   ]
  },
  {
   "cell_type": "code",
   "execution_count": null,
   "metadata": {
    "ExecuteTime": {
     "end_time": "2021-02-04T15:49:45.904112Z",
     "start_time": "2021-02-04T15:49:44.922Z"
    }
   },
   "outputs": [],
   "source": [
    "FIVE_TR = 0.0006\n",
    "TEN_TR = 0.0012\n",
    "TWENTY_TR = 0.0024\n",
    "INPUT_COLS = ['RSI', 'Stochastic', 'Stochastic_signal', 'ADI','OBV', 'ATR', 'ADX', 'ADX_pos', 'ADX_neg', 'MACD', 'MACD_diff','MACD_signal', '1D_past_return', '5D_past_return', '10D_past_return']\n",
    "#INPUT_COLS = ['RSI', 'Stochastic', 'Stochastic_signal']"
   ]
  },
  {
   "cell_type": "code",
   "execution_count": null,
   "metadata": {
    "ExecuteTime": {
     "end_time": "2021-02-04T15:49:45.905343Z",
     "start_time": "2021-02-04T15:49:44.924Z"
    }
   },
   "outputs": [],
   "source": [
    "df['5D_return_bin'] = (df['5TD_return'] >= FIVE_TR)\n",
    "df['10D_return_bin'] = (df['10TD_return'] >= TEN_TR)\n",
    "df['20D_return_bin'] = (df['20TD_return'] >= TWENTY_TR)"
   ]
  },
  {
   "cell_type": "code",
   "execution_count": null,
   "metadata": {
    "ExecuteTime": {
     "end_time": "2021-02-04T15:49:45.906446Z",
     "start_time": "2021-02-04T15:49:44.926Z"
    }
   },
   "outputs": [],
   "source": [
    "test_df = df[df['date'].dt.year >= 2018]\n",
    "train_df = df[df['date'].dt.year < 2018]"
   ]
  },
  {
   "cell_type": "code",
   "execution_count": null,
   "metadata": {
    "ExecuteTime": {
     "end_time": "2021-02-04T15:49:45.907492Z",
     "start_time": "2021-02-04T15:49:44.929Z"
    }
   },
   "outputs": [],
   "source": [
    "scaler = RobustScaler()"
   ]
  },
  {
   "cell_type": "code",
   "execution_count": null,
   "metadata": {
    "ExecuteTime": {
     "end_time": "2021-02-04T15:49:45.908714Z",
     "start_time": "2021-02-04T15:49:44.932Z"
    }
   },
   "outputs": [],
   "source": [
    "scaler.fit(train_df[INPUT_COLS])"
   ]
  },
  {
   "cell_type": "code",
   "execution_count": null,
   "metadata": {
    "ExecuteTime": {
     "end_time": "2021-02-04T15:49:45.910154Z",
     "start_time": "2021-02-04T15:49:44.934Z"
    }
   },
   "outputs": [],
   "source": [
    "train_df.loc[:, INPUT_COLS] = scaler.transform(train_df[INPUT_COLS])\n",
    "test_df.loc[:, INPUT_COLS] = scaler.transform(test_df[INPUT_COLS])"
   ]
  },
  {
   "cell_type": "code",
   "execution_count": null,
   "metadata": {
    "ExecuteTime": {
     "end_time": "2021-02-04T15:49:45.911862Z",
     "start_time": "2021-02-04T15:49:44.944Z"
    }
   },
   "outputs": [],
   "source": [
    "train_df"
   ]
  },
  {
   "cell_type": "code",
   "execution_count": null,
   "metadata": {
    "ExecuteTime": {
     "end_time": "2021-02-04T15:49:45.913159Z",
     "start_time": "2021-02-04T15:49:44.947Z"
    }
   },
   "outputs": [],
   "source": [
    "for col in INPUT_COLS:\n",
    "    plt.hist(train_df[col], bins=20)\n",
    "    plt.title(col)\n",
    "    plt.show()"
   ]
  },
  {
   "cell_type": "code",
   "execution_count": null,
   "metadata": {
    "ExecuteTime": {
     "end_time": "2021-02-04T15:49:45.914552Z",
     "start_time": "2021-02-04T15:49:44.951Z"
    }
   },
   "outputs": [],
   "source": [
    "plt.hist(df['10TD_return'], bins=50, range=(-0.5, 0.5))"
   ]
  },
  {
   "cell_type": "code",
   "execution_count": null,
   "metadata": {
    "ExecuteTime": {
     "end_time": "2021-02-04T15:49:45.915825Z",
     "start_time": "2021-02-04T15:49:44.954Z"
    }
   },
   "outputs": [],
   "source": [
    "(df['10TD_return'] == 0).sum()/len(df)*100"
   ]
  },
  {
   "cell_type": "code",
   "execution_count": null,
   "metadata": {
    "ExecuteTime": {
     "end_time": "2021-02-04T15:49:45.917033Z",
     "start_time": "2021-02-04T15:49:44.957Z"
    }
   },
   "outputs": [],
   "source": [
    "(train_df['10D_past_return'] > 0.8).sum()"
   ]
  },
  {
   "cell_type": "code",
   "execution_count": null,
   "metadata": {
    "ExecuteTime": {
     "end_time": "2021-02-04T15:49:45.918455Z",
     "start_time": "2021-02-04T15:49:44.958Z"
    }
   },
   "outputs": [],
   "source": [
    "tickers = train_df['ticker'].unique()"
   ]
  },
  {
   "cell_type": "code",
   "execution_count": null,
   "metadata": {
    "ExecuteTime": {
     "end_time": "2021-02-04T15:49:45.922151Z",
     "start_time": "2021-02-04T15:49:44.961Z"
    }
   },
   "outputs": [],
   "source": [
    "train_x_dfs = []\n",
    "train_y_dfs = []\n",
    "test_x_dfs = []\n",
    "test_y_dfs = []"
   ]
  },
  {
   "cell_type": "code",
   "execution_count": null,
   "metadata": {
    "ExecuteTime": {
     "end_time": "2021-02-04T15:49:45.923438Z",
     "start_time": "2021-02-04T15:49:44.964Z"
    }
   },
   "outputs": [],
   "source": [
    "for ticker in tickers:\n",
    "    ticker_train_df = train_df[train_df['ticker'] == ticker]\n",
    "    ticker_test_df = test_df[test_df['ticker'] == ticker]\n",
    "    ticker_train_x, ticker_train_y = build_arrays(ticker_train_df,input_cols=INPUT_COLS, target_col='20D_return_bin', time_window=6, stride=5)\n",
    "    ticker_test_x, ticker_test_y = build_arrays(ticker_test_df,input_cols=INPUT_COLS, target_col='20D_return_bin', time_window=6, stride=5)\n",
    "    train_x_dfs.append(ticker_train_x)\n",
    "    train_y_dfs.append(ticker_train_y)\n",
    "    test_x_dfs.append(ticker_test_x)\n",
    "    test_y_dfs.append(ticker_test_y)"
   ]
  },
  {
   "cell_type": "code",
   "execution_count": null,
   "metadata": {
    "ExecuteTime": {
     "end_time": "2021-02-04T15:49:45.925688Z",
     "start_time": "2021-02-04T15:49:44.967Z"
    }
   },
   "outputs": [],
   "source": [
    "X_train = np.concatenate(train_x_dfs)\n",
    "y_train = np.concatenate(train_y_dfs)\n",
    "X_test = np.concatenate(test_x_dfs)\n",
    "y_test = np.concatenate(test_y_dfs)"
   ]
  },
  {
   "cell_type": "code",
   "execution_count": null,
   "metadata": {
    "ExecuteTime": {
     "end_time": "2021-02-04T15:49:45.927156Z",
     "start_time": "2021-02-04T15:49:44.969Z"
    }
   },
   "outputs": [],
   "source": [
    "y_train.shape"
   ]
  },
  {
   "cell_type": "code",
   "execution_count": null,
   "metadata": {
    "ExecuteTime": {
     "end_time": "2021-02-04T15:49:45.928273Z",
     "start_time": "2021-02-04T15:49:44.971Z"
    }
   },
   "outputs": [],
   "source": [
    "X_train = X_train.astype(float)\n",
    "X_test = X_test.astype(float)"
   ]
  },
  {
   "cell_type": "code",
   "execution_count": null,
   "metadata": {
    "ExecuteTime": {
     "end_time": "2021-02-04T15:49:45.929413Z",
     "start_time": "2021-02-04T15:49:44.972Z"
    }
   },
   "outputs": [],
   "source": [
    "X_train.shape"
   ]
  },
  {
   "cell_type": "code",
   "execution_count": null,
   "metadata": {
    "ExecuteTime": {
     "end_time": "2021-02-04T15:49:45.930507Z",
     "start_time": "2021-02-04T15:49:44.975Z"
    }
   },
   "outputs": [],
   "source": [
    "y_train = y_train.astype(float)\n",
    "y_test = y_test.astype(float)"
   ]
  },
  {
   "cell_type": "code",
   "execution_count": null,
   "metadata": {
    "ExecuteTime": {
     "end_time": "2021-02-04T15:49:45.931569Z",
     "start_time": "2021-02-04T15:49:44.979Z"
    }
   },
   "outputs": [],
   "source": [
    "# from tensorflow.keras.backend import expand_dims\n",
    "# X_train = expand_dims(X_train, axis=-1)\n",
    "# X_test = expand_dims(X_test, axis=-1)"
   ]
  },
  {
   "cell_type": "code",
   "execution_count": null,
   "metadata": {
    "ExecuteTime": {
     "end_time": "2021-02-04T15:49:45.932979Z",
     "start_time": "2021-02-04T15:49:44.981Z"
    }
   },
   "outputs": [],
   "source": [
    "import matplotlib.pyplot as plt"
   ]
  },
  {
   "cell_type": "code",
   "execution_count": null,
   "metadata": {
    "ExecuteTime": {
     "end_time": "2021-02-04T15:49:45.934917Z",
     "start_time": "2021-02-04T15:49:44.984Z"
    }
   },
   "outputs": [],
   "source": [
    "plt.imshow(X_train[0])\n",
    "plt.show()\n",
    "plt.imshow(X_train[30000])\n",
    "plt.show()\n",
    "plt.imshow(X_train[100000])"
   ]
  },
  {
   "cell_type": "code",
   "execution_count": null,
   "metadata": {
    "ExecuteTime": {
     "end_time": "2021-02-04T15:49:45.936719Z",
     "start_time": "2021-02-04T15:49:44.986Z"
    }
   },
   "outputs": [],
   "source": [
    "from tensorflow.keras import Sequential\n",
    "from tensorflow.keras import layers, models \n",
    "from tensorflow.keras.optimizers import RMSprop, Adam\n",
    "\n",
    "optim = RMSprop(learning_rate=0.0000001)\n",
    "\n",
    "def init_model():\n",
    "    model = Sequential()\n",
    "    model.add(layers.LSTM(200, return_sequences=True, input_shape=(6,15), activation='tanh'))\n",
    "    model.add(layers.LSTM(200, activation='tanh'))\n",
    "    model.add(layers.Dropout(0.3))\n",
    "    model.add(layers.Dense(200, activation='relu'))\n",
    "    model.add(layers.Dropout(0.3))\n",
    "    model.add(layers.Dense(1, activation='sigmoid'))\n",
    "\n",
    "    model.compile(loss='binary_crossentropy', optimizer=optim, metrics=['accuracy'])\n",
    "    \n",
    "    return model"
   ]
  },
  {
   "cell_type": "code",
   "execution_count": null,
   "metadata": {
    "ExecuteTime": {
     "end_time": "2021-02-04T15:49:45.939638Z",
     "start_time": "2021-02-04T15:49:44.989Z"
    }
   },
   "outputs": [],
   "source": [
    "model = init_model()\n",
    "\n",
    "from tensorflow.keras.callbacks import EarlyStopping\n",
    "\n",
    "es = EarlyStopping(patience=5, restore_best_weights=True)\n",
    "\n",
    "model.fit(X_train, y_train, \n",
    "          epochs=500, \n",
    "          batch_size=8,\n",
    "          validation_split=0.2,\n",
    "          callbacks=[es]\n",
    "         )"
   ]
  },
  {
   "cell_type": "code",
   "execution_count": null,
   "metadata": {
    "ExecuteTime": {
     "end_time": "2021-02-04T15:49:45.941640Z",
     "start_time": "2021-02-04T15:49:44.991Z"
    }
   },
   "outputs": [],
   "source": [
    "y_pred = model.predict(X_test)"
   ]
  },
  {
   "cell_type": "code",
   "execution_count": null,
   "metadata": {
    "ExecuteTime": {
     "end_time": "2021-02-04T15:49:45.943968Z",
     "start_time": "2021-02-04T15:49:44.994Z"
    }
   },
   "outputs": [],
   "source": [
    "y_pred.shape"
   ]
  },
  {
   "cell_type": "code",
   "execution_count": null,
   "metadata": {
    "ExecuteTime": {
     "end_time": "2021-02-04T15:49:45.946309Z",
     "start_time": "2021-02-04T15:49:44.996Z"
    }
   },
   "outputs": [],
   "source": [
    "y_test.sum()/len(y_test)"
   ]
  },
  {
   "cell_type": "code",
   "execution_count": null,
   "metadata": {
    "ExecuteTime": {
     "end_time": "2021-02-04T15:49:45.948406Z",
     "start_time": "2021-02-04T15:49:44.999Z"
    }
   },
   "outputs": [],
   "source": [
    "model.evaluate(X_test, y_test)"
   ]
  },
  {
   "cell_type": "code",
   "execution_count": null,
   "metadata": {
    "ExecuteTime": {
     "end_time": "2021-02-04T15:49:45.950479Z",
     "start_time": "2021-02-04T15:49:45.001Z"
    }
   },
   "outputs": [],
   "source": [
    "for i in range(0, len(y_pred), 500):\n",
    "    print(f'Predicted {y_pred[i][0] >= 0.5}, test {y_test[i]}')"
   ]
  },
  {
   "cell_type": "code",
   "execution_count": null,
   "metadata": {
    "ExecuteTime": {
     "end_time": "2021-02-04T15:49:45.952654Z",
     "start_time": "2021-02-04T15:49:45.003Z"
    }
   },
   "outputs": [],
   "source": [
    "def initialize_model_2():\n",
    "    model = models.Sequential()\n",
    "    model.add(layers.Conv2D(32, (3, 3), padding='same', input_shape=(30, 4, 1), activation='relu'))\n",
    "    model.add(layers.MaxPooling2D(pool_size=(2, 2)))\n",
    "\n",
    "    model.add(layers.Conv2D(64, (2, 2), padding='same', activation='relu'))\n",
    "    model.add(layers.MaxPooling2D(pool_size=(2, 2)))\n",
    "    \n",
    "    model.add(layers.Conv2D(128, (3, 3), padding='same', activation='relu'))\n",
    "    model.add(layers.MaxPooling2D(pool_size=(2, 2)))\n",
    "\n",
    "    model.add(layers.Flatten())\n",
    "    model.add(layers.Dense(120, activation='relu'))\n",
    "    model.add(layers.Dense(60, activation='relu'))\n",
    "    model.add(layers.Dropout(0.5))\n",
    "    model.add(layers.Dense(1, activation='sigmoid'))\n",
    "    \n",
    "    return model"
   ]
  },
  {
   "cell_type": "code",
   "execution_count": null,
   "metadata": {
    "ExecuteTime": {
     "end_time": "2021-02-04T15:49:45.954611Z",
     "start_time": "2021-02-04T15:49:45.006Z"
    }
   },
   "outputs": [],
   "source": [
    "model_2 = initialize_model_2()\n",
    "\n",
    "model_2.compile(loss='binary_crossentropy',\n",
    "                  optimizer='adam',\n",
    "                  metrics=['accuracy'])"
   ]
  },
  {
   "cell_type": "code",
   "execution_count": null,
   "metadata": {
    "ExecuteTime": {
     "end_time": "2021-02-04T15:49:45.956643Z",
     "start_time": "2021-02-04T15:49:45.009Z"
    }
   },
   "outputs": [],
   "source": [
    "es = EarlyStopping(patience=5, restore_best_weights=True)\n",
    "\n",
    "model_2.fit(X_train, y_train, \n",
    "          epochs=200, \n",
    "          batch_size=8,\n",
    "          validation_split=0.2,\n",
    "            callbacks=[es]\n",
    "         )"
   ]
  },
  {
   "cell_type": "code",
   "execution_count": null,
   "metadata": {
    "ExecuteTime": {
     "end_time": "2021-02-04T15:49:45.958680Z",
     "start_time": "2021-02-04T15:49:45.012Z"
    }
   },
   "outputs": [],
   "source": [
    "y_test.sum()/y_test.shape[0]"
   ]
  },
  {
   "cell_type": "code",
   "execution_count": null,
   "metadata": {
    "ExecuteTime": {
     "end_time": "2021-02-04T15:49:45.961091Z",
     "start_time": "2021-02-04T15:49:45.014Z"
    }
   },
   "outputs": [],
   "source": [
    "y_pred = model.predict(X_test)"
   ]
  },
  {
   "cell_type": "code",
   "execution_count": null,
   "metadata": {},
   "outputs": [],
   "source": []
  }
 ],
 "metadata": {
  "kernelspec": {
   "display_name": "Python 3",
   "language": "python",
   "name": "python3"
  },
  "language_info": {
   "codemirror_mode": {
    "name": "ipython",
    "version": 3
   },
   "file_extension": ".py",
   "mimetype": "text/x-python",
   "name": "python",
   "nbconvert_exporter": "python",
   "pygments_lexer": "ipython3",
   "version": "3.7.7"
  },
  "toc": {
   "base_numbering": 1,
   "nav_menu": {},
   "number_sections": true,
   "sideBar": true,
   "skip_h1_title": false,
   "title_cell": "Table of Contents",
   "title_sidebar": "Contents",
   "toc_cell": false,
   "toc_position": {},
   "toc_section_display": true,
   "toc_window_display": false
  },
  "varInspector": {
   "cols": {
    "lenName": 16,
    "lenType": 16,
    "lenVar": 40
   },
   "kernels_config": {
    "python": {
     "delete_cmd_postfix": "",
     "delete_cmd_prefix": "del ",
     "library": "var_list.py",
     "varRefreshCmd": "print(var_dic_list())"
    },
    "r": {
     "delete_cmd_postfix": ") ",
     "delete_cmd_prefix": "rm(",
     "library": "var_list.r",
     "varRefreshCmd": "cat(var_dic_list()) "
    }
   },
   "types_to_exclude": [
    "module",
    "function",
    "builtin_function_or_method",
    "instance",
    "_Feature"
   ],
   "window_display": false
  }
 },
 "nbformat": 4,
 "nbformat_minor": 4
}
