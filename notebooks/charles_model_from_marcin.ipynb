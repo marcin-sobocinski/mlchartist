{
 "cells": [
  {
   "cell_type": "code",
   "execution_count": 18,
   "metadata": {
    "ExecuteTime": {
     "end_time": "2021-02-04T15:21:18.549013Z",
     "start_time": "2021-02-04T15:21:18.524083Z"
    }
   },
   "outputs": [
    {
     "ename": "ImportError",
     "evalue": "cannot import name 'thresholds_encoding' from 'mlchartist.preprocessing' (/home/bob/.pyenv/versions/3.7.7/envs/lewagon/lib/python3.7/site-packages/mlchartist/preprocessing.py)",
     "output_type": "error",
     "traceback": [
      "\u001b[0;31m---------------------------------------------------------------------------\u001b[0m",
      "\u001b[0;31mImportError\u001b[0m                               Traceback (most recent call last)",
      "\u001b[0;32m<ipython-input-18-bee1cdfc584f>\u001b[0m in \u001b[0;36m<module>\u001b[0;34m\u001b[0m\n\u001b[1;32m      5\u001b[0m \u001b[0;34m\u001b[0m\u001b[0m\n\u001b[1;32m      6\u001b[0m \u001b[0;32mfrom\u001b[0m \u001b[0mmlchartist\u001b[0m\u001b[0;34m.\u001b[0m\u001b[0marray_builder\u001b[0m \u001b[0;32mimport\u001b[0m \u001b[0mbuild_arrays\u001b[0m\u001b[0;34m\u001b[0m\u001b[0;34m\u001b[0m\u001b[0m\n\u001b[0;32m----> 7\u001b[0;31m \u001b[0;32mfrom\u001b[0m \u001b[0mmlchartist\u001b[0m\u001b[0;34m.\u001b[0m\u001b[0mpreprocessing\u001b[0m \u001b[0;32mimport\u001b[0m \u001b[0mthresholds_encoding\u001b[0m\u001b[0;34m\u001b[0m\u001b[0;34m\u001b[0m\u001b[0m\n\u001b[0m\u001b[1;32m      8\u001b[0m \u001b[0;32mfrom\u001b[0m \u001b[0msklearn\u001b[0m\u001b[0;34m.\u001b[0m\u001b[0mpreprocessing\u001b[0m \u001b[0;32mimport\u001b[0m \u001b[0mStandardScaler\u001b[0m\u001b[0;34m,\u001b[0m \u001b[0mMinMaxScaler\u001b[0m\u001b[0;34m,\u001b[0m \u001b[0mRobustScaler\u001b[0m\u001b[0;34m\u001b[0m\u001b[0;34m\u001b[0m\u001b[0m\n",
      "\u001b[0;31mImportError\u001b[0m: cannot import name 'thresholds_encoding' from 'mlchartist.preprocessing' (/home/bob/.pyenv/versions/3.7.7/envs/lewagon/lib/python3.7/site-packages/mlchartist/preprocessing.py)"
     ]
    }
   ],
   "source": [
    "import pandas as pd\n",
    "import numpy as np\n",
    "import os\n",
    "import random\n",
    "\n",
    "from mlchartist.array_builder import build_arrays\n",
    "from mlchartist.preprocessing import thresholds_encoding\n",
    "from sklearn.preprocessing import StandardScaler, MinMaxScaler, RobustScaler"
   ]
  },
  {
   "cell_type": "markdown",
   "metadata": {},
   "source": [
    "# Function implementation from marcin_first_model"
   ]
  },
  {
   "cell_type": "code",
   "execution_count": 10,
   "metadata": {
    "ExecuteTime": {
     "end_time": "2021-02-04T15:13:01.551951Z",
     "start_time": "2021-02-04T15:13:01.517339Z"
    }
   },
   "outputs": [],
   "source": [
    "def stocks_selector_local(min_len = 2000, num_samp = 2, path='../raw_data/processed/'):\n",
    "    \"\"\"\n",
    "    Returns a concatened Pandas DataFrame of the stocks data\n",
    "\n",
    "    Randomly select the number of stocks (`num_samp`) in the `path` directory according their\n",
    "        minimal lenght (`min_len` in days)\n",
    "    \"\"\"\n",
    "\n",
    "    filenames = []\n",
    "\n",
    "    for file in os.listdir(path):\n",
    "        if file.endswith('.csv'):\n",
    "            with open(path + file) as f:\n",
    "                rows_num = sum(1 for line in f)\n",
    "                if rows_num >= min_len:\n",
    "                    filenames.append(file)\n",
    "                    \n",
    "    if len(filenames) < num_samp:\n",
    "        print('Sample size bigger that nuber of companies available')\n",
    "    else:\n",
    "        sample = random.sample(filenames, num_samp)\n",
    "    \n",
    "    dfs = []\n",
    "\n",
    "    for ticker in sample:\n",
    "        ticker_df = pd.read_csv('../raw_data/processed/'+ticker)\n",
    "        dfs.append(ticker_df)\n",
    "    \n",
    "    return pd.concat(dfs)"
   ]
  },
  {
   "cell_type": "code",
   "execution_count": 15,
   "metadata": {
    "ExecuteTime": {
     "end_time": "2021-02-04T15:14:42.416462Z",
     "start_time": "2021-02-04T15:14:40.186477Z"
    }
   },
   "outputs": [],
   "source": [
    "df = stocks_selector_local()"
   ]
  },
  {
   "cell_type": "code",
   "execution_count": 16,
   "metadata": {
    "ExecuteTime": {
     "end_time": "2021-02-04T15:14:42.488892Z",
     "start_time": "2021-02-04T15:14:42.462296Z"
    }
   },
   "outputs": [
    {
     "data": {
      "text/html": [
       "<div>\n",
       "<style scoped>\n",
       "    .dataframe tbody tr th:only-of-type {\n",
       "        vertical-align: middle;\n",
       "    }\n",
       "\n",
       "    .dataframe tbody tr th {\n",
       "        vertical-align: top;\n",
       "    }\n",
       "\n",
       "    .dataframe thead th {\n",
       "        text-align: right;\n",
       "    }\n",
       "</style>\n",
       "<table border=\"1\" class=\"dataframe\">\n",
       "  <thead>\n",
       "    <tr style=\"text-align: right;\">\n",
       "      <th></th>\n",
       "      <th>ticker</th>\n",
       "      <th>date</th>\n",
       "      <th>RSI</th>\n",
       "      <th>Stochastic</th>\n",
       "      <th>Stochastic_signal</th>\n",
       "      <th>ADI</th>\n",
       "      <th>OBV</th>\n",
       "      <th>ATR</th>\n",
       "      <th>ADX</th>\n",
       "      <th>ADX_pos</th>\n",
       "      <th>ADX_neg</th>\n",
       "      <th>MACD</th>\n",
       "      <th>MACD_diff</th>\n",
       "      <th>MACD_signal</th>\n",
       "      <th>5TD_return</th>\n",
       "      <th>10TD_return</th>\n",
       "      <th>20TD_return</th>\n",
       "    </tr>\n",
       "  </thead>\n",
       "  <tbody>\n",
       "    <tr>\n",
       "      <th>0</th>\n",
       "      <td>PROV</td>\n",
       "      <td>2005-04-14</td>\n",
       "      <td>33.605532</td>\n",
       "      <td>2.311079</td>\n",
       "      <td>11.967919</td>\n",
       "      <td>66430.500762</td>\n",
       "      <td>-110352</td>\n",
       "      <td>0.539872</td>\n",
       "      <td>28.348953</td>\n",
       "      <td>18.060358</td>\n",
       "      <td>32.531068</td>\n",
       "      <td>-0.117027</td>\n",
       "      <td>-0.177892</td>\n",
       "      <td>0.060866</td>\n",
       "      <td>-0.019335</td>\n",
       "      <td>0.000000</td>\n",
       "      <td>-0.003230</td>\n",
       "    </tr>\n",
       "    <tr>\n",
       "      <th>1</th>\n",
       "      <td>PROV</td>\n",
       "      <td>2005-04-15</td>\n",
       "      <td>37.719014</td>\n",
       "      <td>11.078503</td>\n",
       "      <td>9.939929</td>\n",
       "      <td>63232.436443</td>\n",
       "      <td>-95328</td>\n",
       "      <td>0.547953</td>\n",
       "      <td>28.367105</td>\n",
       "      <td>16.524358</td>\n",
       "      <td>29.764361</td>\n",
       "      <td>-0.174816</td>\n",
       "      <td>-0.188545</td>\n",
       "      <td>0.013729</td>\n",
       "      <td>-0.075142</td>\n",
       "      <td>-0.030881</td>\n",
       "      <td>-0.033427</td>\n",
       "    </tr>\n",
       "    <tr>\n",
       "      <th>2</th>\n",
       "      <td>PROV</td>\n",
       "      <td>2005-04-18</td>\n",
       "      <td>35.771689</td>\n",
       "      <td>5.314534</td>\n",
       "      <td>6.234705</td>\n",
       "      <td>60321.114409</td>\n",
       "      <td>-105432</td>\n",
       "      <td>0.538313</td>\n",
       "      <td>28.512013</td>\n",
       "      <td>15.619553</td>\n",
       "      <td>29.261524</td>\n",
       "      <td>-0.233656</td>\n",
       "      <td>-0.197908</td>\n",
       "      <td>-0.035748</td>\n",
       "      <td>-0.025696</td>\n",
       "      <td>-0.003691</td>\n",
       "      <td>-0.032284</td>\n",
       "    </tr>\n",
       "    <tr>\n",
       "      <th>3</th>\n",
       "      <td>PROV</td>\n",
       "      <td>2005-04-19</td>\n",
       "      <td>46.176413</td>\n",
       "      <td>33.427877</td>\n",
       "      <td>16.606971</td>\n",
       "      <td>83613.114409</td>\n",
       "      <td>-82140</td>\n",
       "      <td>0.548291</td>\n",
       "      <td>27.567262</td>\n",
       "      <td>19.604278</td>\n",
       "      <td>26.678892</td>\n",
       "      <td>-0.223007</td>\n",
       "      <td>-0.149807</td>\n",
       "      <td>-0.073200</td>\n",
       "      <td>-0.055294</td>\n",
       "      <td>-0.012363</td>\n",
       "      <td>-0.052713</td>\n",
       "    </tr>\n",
       "    <tr>\n",
       "      <th>4</th>\n",
       "      <td>PROV</td>\n",
       "      <td>2005-04-20</td>\n",
       "      <td>36.428110</td>\n",
       "      <td>0.000000</td>\n",
       "      <td>12.914137</td>\n",
       "      <td>56710.114409</td>\n",
       "      <td>-109043</td>\n",
       "      <td>0.593341</td>\n",
       "      <td>27.563516</td>\n",
       "      <td>16.823586</td>\n",
       "      <td>29.595788</td>\n",
       "      <td>-0.295085</td>\n",
       "      <td>-0.177509</td>\n",
       "      <td>-0.117577</td>\n",
       "      <td>-0.001141</td>\n",
       "      <td>0.030415</td>\n",
       "      <td>0.029845</td>\n",
       "    </tr>\n",
       "  </tbody>\n",
       "</table>\n",
       "</div>"
      ],
      "text/plain": [
       "  ticker        date        RSI  Stochastic  Stochastic_signal           ADI  \\\n",
       "0   PROV  2005-04-14  33.605532    2.311079          11.967919  66430.500762   \n",
       "1   PROV  2005-04-15  37.719014   11.078503           9.939929  63232.436443   \n",
       "2   PROV  2005-04-18  35.771689    5.314534           6.234705  60321.114409   \n",
       "3   PROV  2005-04-19  46.176413   33.427877          16.606971  83613.114409   \n",
       "4   PROV  2005-04-20  36.428110    0.000000          12.914137  56710.114409   \n",
       "\n",
       "      OBV       ATR        ADX    ADX_pos    ADX_neg      MACD  MACD_diff  \\\n",
       "0 -110352  0.539872  28.348953  18.060358  32.531068 -0.117027  -0.177892   \n",
       "1  -95328  0.547953  28.367105  16.524358  29.764361 -0.174816  -0.188545   \n",
       "2 -105432  0.538313  28.512013  15.619553  29.261524 -0.233656  -0.197908   \n",
       "3  -82140  0.548291  27.567262  19.604278  26.678892 -0.223007  -0.149807   \n",
       "4 -109043  0.593341  27.563516  16.823586  29.595788 -0.295085  -0.177509   \n",
       "\n",
       "   MACD_signal  5TD_return  10TD_return  20TD_return  \n",
       "0     0.060866   -0.019335     0.000000    -0.003230  \n",
       "1     0.013729   -0.075142    -0.030881    -0.033427  \n",
       "2    -0.035748   -0.025696    -0.003691    -0.032284  \n",
       "3    -0.073200   -0.055294    -0.012363    -0.052713  \n",
       "4    -0.117577   -0.001141     0.030415     0.029845  "
      ]
     },
     "execution_count": 16,
     "metadata": {},
     "output_type": "execute_result"
    }
   ],
   "source": [
    "df.head()"
   ]
  },
  {
   "cell_type": "code",
   "execution_count": 17,
   "metadata": {
    "ExecuteTime": {
     "end_time": "2021-02-04T15:20:18.516616Z",
     "start_time": "2021-02-04T15:20:18.510788Z"
    }
   },
   "outputs": [],
   "source": [
    "df['date'] = pd.to_datetime(df['date'])"
   ]
  },
  {
   "cell_type": "code",
   "execution_count": null,
   "metadata": {},
   "outputs": [],
   "source": [
    "df = thr"
   ]
  },
  {
   "cell_type": "code",
   "execution_count": 410,
   "metadata": {},
   "outputs": [],
   "source": [
    "FIVE_TR = 0.0006\n",
    "TEN_TR = 0.0012\n",
    "TWENTY_TR = 0.0024\n",
    "INPUT_COLS = ['RSI', 'Stochastic', 'Stochastic_signal', 'ADI','OBV', 'ATR', 'ADX', 'ADX_pos', 'ADX_neg', 'MACD', 'MACD_diff','MACD_signal', '1D_past_return', '5D_past_return', '10D_past_return']\n",
    "#INPUT_COLS = ['RSI', 'Stochastic', 'Stochastic_signal']"
   ]
  },
  {
   "cell_type": "code",
   "execution_count": 411,
   "metadata": {},
   "outputs": [],
   "source": [
    "df['5D_return_bin'] = (df['5TD_return'] >= FIVE_TR)\n",
    "df['10D_return_bin'] = (df['10TD_return'] >= TEN_TR)\n",
    "df['20D_return_bin'] = (df['20TD_return'] >= TWENTY_TR)"
   ]
  },
  {
   "cell_type": "code",
   "execution_count": 412,
   "metadata": {},
   "outputs": [],
   "source": [
    "test_df = df[df['date'].dt.year >= 2018]\n",
    "train_df = df[df['date'].dt.year < 2018]"
   ]
  },
  {
   "cell_type": "code",
   "execution_count": 413,
   "metadata": {},
   "outputs": [],
   "source": [
    "scaler = RobustScaler()"
   ]
  },
  {
   "cell_type": "code",
   "execution_count": 414,
   "metadata": {},
   "outputs": [
    {
     "data": {
      "text/plain": [
       "RobustScaler()"
      ]
     },
     "execution_count": 414,
     "metadata": {},
     "output_type": "execute_result"
    }
   ],
   "source": [
    "scaler.fit(train_df[INPUT_COLS])"
   ]
  },
  {
   "cell_type": "code",
   "execution_count": 415,
   "metadata": {},
   "outputs": [
    {
     "name": "stderr",
     "output_type": "stream",
     "text": [
      "/home/kensei/.pyenv/versions/3.7.7/envs/lewagon/lib/python3.7/site-packages/pandas/core/indexing.py:1736: SettingWithCopyWarning: \n",
      "A value is trying to be set on a copy of a slice from a DataFrame.\n",
      "Try using .loc[row_indexer,col_indexer] = value instead\n",
      "\n",
      "See the caveats in the documentation: https://pandas.pydata.org/pandas-docs/stable/user_guide/indexing.html#returning-a-view-versus-a-copy\n",
      "  isetter(loc, value[:, i].tolist())\n",
      "/home/kensei/.pyenv/versions/3.7.7/envs/lewagon/lib/python3.7/site-packages/pandas/core/indexing.py:1736: SettingWithCopyWarning: \n",
      "A value is trying to be set on a copy of a slice from a DataFrame.\n",
      "Try using .loc[row_indexer,col_indexer] = value instead\n",
      "\n",
      "See the caveats in the documentation: https://pandas.pydata.org/pandas-docs/stable/user_guide/indexing.html#returning-a-view-versus-a-copy\n",
      "  isetter(loc, value[:, i].tolist())\n"
     ]
    }
   ],
   "source": [
    "train_df.loc[:, INPUT_COLS] = scaler.transform(train_df[INPUT_COLS])\n",
    "test_df.loc[:, INPUT_COLS] = scaler.transform(test_df[INPUT_COLS])"
   ]
  },
  {
   "cell_type": "code",
   "execution_count": 416,
   "metadata": {},
   "outputs": [
    {
     "data": {
      "text/html": [
       "<div>\n",
       "<style scoped>\n",
       "    .dataframe tbody tr th:only-of-type {\n",
       "        vertical-align: middle;\n",
       "    }\n",
       "\n",
       "    .dataframe tbody tr th {\n",
       "        vertical-align: top;\n",
       "    }\n",
       "\n",
       "    .dataframe thead th {\n",
       "        text-align: right;\n",
       "    }\n",
       "</style>\n",
       "<table border=\"1\" class=\"dataframe\">\n",
       "  <thead>\n",
       "    <tr style=\"text-align: right;\">\n",
       "      <th></th>\n",
       "      <th>ticker</th>\n",
       "      <th>date</th>\n",
       "      <th>RSI</th>\n",
       "      <th>Stochastic</th>\n",
       "      <th>Stochastic_signal</th>\n",
       "      <th>ADI</th>\n",
       "      <th>OBV</th>\n",
       "      <th>ATR</th>\n",
       "      <th>ADX</th>\n",
       "      <th>ADX_pos</th>\n",
       "      <th>...</th>\n",
       "      <th>MACD_signal</th>\n",
       "      <th>5TD_return</th>\n",
       "      <th>10TD_return</th>\n",
       "      <th>20TD_return</th>\n",
       "      <th>1D_past_return</th>\n",
       "      <th>5D_past_return</th>\n",
       "      <th>10D_past_return</th>\n",
       "      <th>5D_return_bin</th>\n",
       "      <th>10D_return_bin</th>\n",
       "      <th>20D_return_bin</th>\n",
       "    </tr>\n",
       "  </thead>\n",
       "  <tbody>\n",
       "    <tr>\n",
       "      <th>0</th>\n",
       "      <td>FB</td>\n",
       "      <td>2005-05-03</td>\n",
       "      <td>-0.264312</td>\n",
       "      <td>-0.833957</td>\n",
       "      <td>-0.772341</td>\n",
       "      <td>-0.114964</td>\n",
       "      <td>-0.162179</td>\n",
       "      <td>-0.386383</td>\n",
       "      <td>-0.972940</td>\n",
       "      <td>1.203858</td>\n",
       "      <td>...</td>\n",
       "      <td>-0.027996</td>\n",
       "      <td>-0.007849</td>\n",
       "      <td>-0.017159</td>\n",
       "      <td>0.011854</td>\n",
       "      <td>-0.075375</td>\n",
       "      <td>-0.114448</td>\n",
       "      <td>-0.008232</td>\n",
       "      <td>False</td>\n",
       "      <td>False</td>\n",
       "      <td>True</td>\n",
       "    </tr>\n",
       "    <tr>\n",
       "      <th>1</th>\n",
       "      <td>FB</td>\n",
       "      <td>2005-05-09</td>\n",
       "      <td>-0.264312</td>\n",
       "      <td>-0.787174</td>\n",
       "      <td>-0.858332</td>\n",
       "      <td>-0.114964</td>\n",
       "      <td>-0.162125</td>\n",
       "      <td>-0.409600</td>\n",
       "      <td>-1.016853</td>\n",
       "      <td>1.203858</td>\n",
       "      <td>...</td>\n",
       "      <td>-0.045427</td>\n",
       "      <td>-0.002111</td>\n",
       "      <td>-0.009960</td>\n",
       "      <td>0.019812</td>\n",
       "      <td>0.000000</td>\n",
       "      <td>-0.175795</td>\n",
       "      <td>-0.008232</td>\n",
       "      <td>False</td>\n",
       "      <td>False</td>\n",
       "      <td>True</td>\n",
       "    </tr>\n",
       "    <tr>\n",
       "      <th>2</th>\n",
       "      <td>FB</td>\n",
       "      <td>2005-05-10</td>\n",
       "      <td>-0.328529</td>\n",
       "      <td>-0.835950</td>\n",
       "      <td>-0.879595</td>\n",
       "      <td>-0.115051</td>\n",
       "      <td>-0.162174</td>\n",
       "      <td>-0.417644</td>\n",
       "      <td>-1.031726</td>\n",
       "      <td>1.356695</td>\n",
       "      <td>...</td>\n",
       "      <td>-0.063579</td>\n",
       "      <td>-0.007865</td>\n",
       "      <td>0.004014</td>\n",
       "      <td>0.047464</td>\n",
       "      <td>-0.084148</td>\n",
       "      <td>0.046667</td>\n",
       "      <td>0.003729</td>\n",
       "      <td>False</td>\n",
       "      <td>True</td>\n",
       "      <td>True</td>\n",
       "    </tr>\n",
       "    <tr>\n",
       "      <th>3</th>\n",
       "      <td>FB</td>\n",
       "      <td>2005-05-13</td>\n",
       "      <td>-0.221223</td>\n",
       "      <td>-0.182648</td>\n",
       "      <td>-0.646325</td>\n",
       "      <td>-0.114877</td>\n",
       "      <td>-0.162077</td>\n",
       "      <td>-0.391325</td>\n",
       "      <td>-1.006871</td>\n",
       "      <td>0.847356</td>\n",
       "      <td>...</td>\n",
       "      <td>-0.078996</td>\n",
       "      <td>-0.005625</td>\n",
       "      <td>0.008654</td>\n",
       "      <td>0.011034</td>\n",
       "      <td>0.116760</td>\n",
       "      <td>-0.161770</td>\n",
       "      <td>-0.057473</td>\n",
       "      <td>False</td>\n",
       "      <td>True</td>\n",
       "      <td>True</td>\n",
       "    </tr>\n",
       "    <tr>\n",
       "      <th>4</th>\n",
       "      <td>FB</td>\n",
       "      <td>2005-05-16</td>\n",
       "      <td>-0.343628</td>\n",
       "      <td>0.199136</td>\n",
       "      <td>-0.293073</td>\n",
       "      <td>-0.114877</td>\n",
       "      <td>-0.162082</td>\n",
       "      <td>-0.407120</td>\n",
       "      <td>-0.983792</td>\n",
       "      <td>0.779393</td>\n",
       "      <td>...</td>\n",
       "      <td>-0.094606</td>\n",
       "      <td>-0.007111</td>\n",
       "      <td>0.012757</td>\n",
       "      <td>0.052006</td>\n",
       "      <td>-0.146601</td>\n",
       "      <td>-0.095074</td>\n",
       "      <td>-0.149357</td>\n",
       "      <td>False</td>\n",
       "      <td>True</td>\n",
       "      <td>True</td>\n",
       "    </tr>\n",
       "    <tr>\n",
       "      <th>...</th>\n",
       "      <td>...</td>\n",
       "      <td>...</td>\n",
       "      <td>...</td>\n",
       "      <td>...</td>\n",
       "      <td>...</td>\n",
       "      <td>...</td>\n",
       "      <td>...</td>\n",
       "      <td>...</td>\n",
       "      <td>...</td>\n",
       "      <td>...</td>\n",
       "      <td>...</td>\n",
       "      <td>...</td>\n",
       "      <td>...</td>\n",
       "      <td>...</td>\n",
       "      <td>...</td>\n",
       "      <td>...</td>\n",
       "      <td>...</td>\n",
       "      <td>...</td>\n",
       "      <td>...</td>\n",
       "      <td>...</td>\n",
       "      <td>...</td>\n",
       "    </tr>\n",
       "    <tr>\n",
       "      <th>3191</th>\n",
       "      <td>CYRN</td>\n",
       "      <td>2017-12-22</td>\n",
       "      <td>0.556068</td>\n",
       "      <td>0.143385</td>\n",
       "      <td>0.290929</td>\n",
       "      <td>-0.293253</td>\n",
       "      <td>0.834670</td>\n",
       "      <td>-0.586086</td>\n",
       "      <td>0.992907</td>\n",
       "      <td>0.337895</td>\n",
       "      <td>...</td>\n",
       "      <td>0.130407</td>\n",
       "      <td>0.020408</td>\n",
       "      <td>-0.018367</td>\n",
       "      <td>-0.051020</td>\n",
       "      <td>-0.402631</td>\n",
       "      <td>0.351089</td>\n",
       "      <td>0.218846</td>\n",
       "      <td>True</td>\n",
       "      <td>False</td>\n",
       "      <td>False</td>\n",
       "    </tr>\n",
       "    <tr>\n",
       "      <th>3192</th>\n",
       "      <td>CYRN</td>\n",
       "      <td>2017-12-26</td>\n",
       "      <td>0.817091</td>\n",
       "      <td>0.524354</td>\n",
       "      <td>0.359152</td>\n",
       "      <td>-0.293253</td>\n",
       "      <td>0.835774</td>\n",
       "      <td>-0.584642</td>\n",
       "      <td>1.055451</td>\n",
       "      <td>0.523339</td>\n",
       "      <td>...</td>\n",
       "      <td>0.125017</td>\n",
       "      <td>0.000000</td>\n",
       "      <td>-0.044000</td>\n",
       "      <td>-0.080000</td>\n",
       "      <td>0.813478</td>\n",
       "      <td>0.714351</td>\n",
       "      <td>0.604614</td>\n",
       "      <td>False</td>\n",
       "      <td>False</td>\n",
       "      <td>False</td>\n",
       "    </tr>\n",
       "    <tr>\n",
       "      <th>3193</th>\n",
       "      <td>CYRN</td>\n",
       "      <td>2017-12-27</td>\n",
       "      <td>0.241289</td>\n",
       "      <td>-0.047100</td>\n",
       "      <td>0.222706</td>\n",
       "      <td>-0.293253</td>\n",
       "      <td>0.834892</td>\n",
       "      <td>-0.578104</td>\n",
       "      <td>0.960382</td>\n",
       "      <td>0.225814</td>\n",
       "      <td>...</td>\n",
       "      <td>0.117819</td>\n",
       "      <td>0.014433</td>\n",
       "      <td>0.010309</td>\n",
       "      <td>-0.030928</td>\n",
       "      <td>-1.195813</td>\n",
       "      <td>-0.012173</td>\n",
       "      <td>0.353285</td>\n",
       "      <td>True</td>\n",
       "      <td>True</td>\n",
       "      <td>False</td>\n",
       "    </tr>\n",
       "    <tr>\n",
       "      <th>3194</th>\n",
       "      <td>CYRN</td>\n",
       "      <td>2017-12-28</td>\n",
       "      <td>0.380072</td>\n",
       "      <td>0.143385</td>\n",
       "      <td>0.222706</td>\n",
       "      <td>-0.293916</td>\n",
       "      <td>0.835261</td>\n",
       "      <td>-0.579830</td>\n",
       "      <td>0.872104</td>\n",
       "      <td>0.092729</td>\n",
       "      <td>...</td>\n",
       "      <td>0.110502</td>\n",
       "      <td>0.010776</td>\n",
       "      <td>-0.040816</td>\n",
       "      <td>-0.061224</td>\n",
       "      <td>0.410932</td>\n",
       "      <td>-0.188299</td>\n",
       "      <td>-0.033898</td>\n",
       "      <td>True</td>\n",
       "      <td>False</td>\n",
       "      <td>False</td>\n",
       "    </tr>\n",
       "    <tr>\n",
       "      <th>3195</th>\n",
       "      <td>CYRN</td>\n",
       "      <td>2017-12-29</td>\n",
       "      <td>0.637425</td>\n",
       "      <td>0.524354</td>\n",
       "      <td>0.222706</td>\n",
       "      <td>-0.293222</td>\n",
       "      <td>0.835646</td>\n",
       "      <td>-0.578833</td>\n",
       "      <td>0.725380</td>\n",
       "      <td>-0.072949</td>\n",
       "      <td>...</td>\n",
       "      <td>0.105170</td>\n",
       "      <td>-0.030000</td>\n",
       "      <td>-0.050000</td>\n",
       "      <td>-0.100000</td>\n",
       "      <td>0.813478</td>\n",
       "      <td>0.163954</td>\n",
       "      <td>0.471591</td>\n",
       "      <td>False</td>\n",
       "      <td>False</td>\n",
       "      <td>False</td>\n",
       "    </tr>\n",
       "  </tbody>\n",
       "</table>\n",
       "<p>619536 rows × 23 columns</p>\n",
       "</div>"
      ],
      "text/plain": [
       "     ticker       date       RSI  Stochastic  Stochastic_signal       ADI  \\\n",
       "0        FB 2005-05-03 -0.264312   -0.833957          -0.772341 -0.114964   \n",
       "1        FB 2005-05-09 -0.264312   -0.787174          -0.858332 -0.114964   \n",
       "2        FB 2005-05-10 -0.328529   -0.835950          -0.879595 -0.115051   \n",
       "3        FB 2005-05-13 -0.221223   -0.182648          -0.646325 -0.114877   \n",
       "4        FB 2005-05-16 -0.343628    0.199136          -0.293073 -0.114877   \n",
       "...     ...        ...       ...         ...                ...       ...   \n",
       "3191   CYRN 2017-12-22  0.556068    0.143385           0.290929 -0.293253   \n",
       "3192   CYRN 2017-12-26  0.817091    0.524354           0.359152 -0.293253   \n",
       "3193   CYRN 2017-12-27  0.241289   -0.047100           0.222706 -0.293253   \n",
       "3194   CYRN 2017-12-28  0.380072    0.143385           0.222706 -0.293916   \n",
       "3195   CYRN 2017-12-29  0.637425    0.524354           0.222706 -0.293222   \n",
       "\n",
       "           OBV       ATR       ADX   ADX_pos  ...  MACD_signal  5TD_return  \\\n",
       "0    -0.162179 -0.386383 -0.972940  1.203858  ...    -0.027996   -0.007849   \n",
       "1    -0.162125 -0.409600 -1.016853  1.203858  ...    -0.045427   -0.002111   \n",
       "2    -0.162174 -0.417644 -1.031726  1.356695  ...    -0.063579   -0.007865   \n",
       "3    -0.162077 -0.391325 -1.006871  0.847356  ...    -0.078996   -0.005625   \n",
       "4    -0.162082 -0.407120 -0.983792  0.779393  ...    -0.094606   -0.007111   \n",
       "...        ...       ...       ...       ...  ...          ...         ...   \n",
       "3191  0.834670 -0.586086  0.992907  0.337895  ...     0.130407    0.020408   \n",
       "3192  0.835774 -0.584642  1.055451  0.523339  ...     0.125017    0.000000   \n",
       "3193  0.834892 -0.578104  0.960382  0.225814  ...     0.117819    0.014433   \n",
       "3194  0.835261 -0.579830  0.872104  0.092729  ...     0.110502    0.010776   \n",
       "3195  0.835646 -0.578833  0.725380 -0.072949  ...     0.105170   -0.030000   \n",
       "\n",
       "      10TD_return  20TD_return  1D_past_return  5D_past_return  \\\n",
       "0       -0.017159     0.011854       -0.075375       -0.114448   \n",
       "1       -0.009960     0.019812        0.000000       -0.175795   \n",
       "2        0.004014     0.047464       -0.084148        0.046667   \n",
       "3        0.008654     0.011034        0.116760       -0.161770   \n",
       "4        0.012757     0.052006       -0.146601       -0.095074   \n",
       "...           ...          ...             ...             ...   \n",
       "3191    -0.018367    -0.051020       -0.402631        0.351089   \n",
       "3192    -0.044000    -0.080000        0.813478        0.714351   \n",
       "3193     0.010309    -0.030928       -1.195813       -0.012173   \n",
       "3194    -0.040816    -0.061224        0.410932       -0.188299   \n",
       "3195    -0.050000    -0.100000        0.813478        0.163954   \n",
       "\n",
       "      10D_past_return  5D_return_bin  10D_return_bin  20D_return_bin  \n",
       "0           -0.008232          False           False            True  \n",
       "1           -0.008232          False           False            True  \n",
       "2            0.003729          False            True            True  \n",
       "3           -0.057473          False            True            True  \n",
       "4           -0.149357          False            True            True  \n",
       "...               ...            ...             ...             ...  \n",
       "3191         0.218846           True           False           False  \n",
       "3192         0.604614          False           False           False  \n",
       "3193         0.353285           True            True           False  \n",
       "3194        -0.033898           True           False           False  \n",
       "3195         0.471591          False           False           False  \n",
       "\n",
       "[619536 rows x 23 columns]"
      ]
     },
     "execution_count": 416,
     "metadata": {},
     "output_type": "execute_result"
    }
   ],
   "source": [
    "train_df"
   ]
  },
  {
   "cell_type": "code",
   "execution_count": 417,
   "metadata": {},
   "outputs": [
    {
     "data": {
      "image/png": "[encoded data removed]",
      "text/plain": [
       "<Figure size 432x288 with 1 Axes>"
      ]
     },
     "metadata": {
      "needs_background": "light"
     },
     "output_type": "display_data"
    },
    {
     "data": {
      "image/png": "[encoded data removed]",
      "text/plain": [
       "<Figure size 432x288 with 1 Axes>"
      ]
     },
     "metadata": {
      "needs_background": "light"
     },
     "output_type": "display_data"
    },
    {
     "data": {
      "image/png": "[encoded data removed]",
      "text/plain": [
       "<Figure size 432x288 with 1 Axes>"
      ]
     },
     "metadata": {
      "needs_background": "light"
     },
     "output_type": "display_data"
    },
    {
     "data": {
      "image/png": "[encoded data removed]",
      "text/plain": [
       "<Figure size 432x288 with 1 Axes>"
      ]
     },
     "metadata": {
      "needs_background": "light"
     },
     "output_type": "display_data"
    },
    {
     "data": {
      "image/png": "[encoded data removed]",
      "text/plain": [
       "<Figure size 432x288 with 1 Axes>"
      ]
     },
     "metadata": {
      "needs_background": "light"
     },
     "output_type": "display_data"
    },
    {
     "data": {
      "image/png": "[encoded data removed]",
      "text/plain": [
       "<Figure size 432x288 with 1 Axes>"
      ]
     },
     "metadata": {
      "needs_background": "light"
     },
     "output_type": "display_data"
    },
    {
     "data": {
      "image/png": "[encoded data removed]",
      "text/plain": [
       "<Figure size 432x288 with 1 Axes>"
      ]
     },
     "metadata": {
      "needs_background": "light"
     },
     "output_type": "display_data"
    },
    {
     "data": {
      "image/png": "[encoded data removed]",
      "text/plain": [
       "<Figure size 432x288 with 1 Axes>"
      ]
     },
     "metadata": {
      "needs_background": "light"
     },
     "output_type": "display_data"
    },
    {
     "data": {
      "image/png": "[encoded data removed]",
      "text/plain": [
       "<Figure size 432x288 with 1 Axes>"
      ]
     },
     "metadata": {
      "needs_background": "light"
     },
     "output_type": "display_data"
    },
    {
     "data": {
      "image/png": "[encoded data removed]",
      "text/plain": [
       "<Figure size 432x288 with 1 Axes>"
      ]
     },
     "metadata": {
      "needs_background": "light"
     },
     "output_type": "display_data"
    },
    {
     "data": {
      "image/png": "[encoded data removed]",
      "text/plain": [
       "<Figure size 432x288 with 1 Axes>"
      ]
     },
     "metadata": {
      "needs_background": "light"
     },
     "output_type": "display_data"
    },
    {
     "data": {
      "image/png": "[encoded data removed]",
      "text/plain": [
       "<Figure size 432x288 with 1 Axes>"
      ]
     },
     "metadata": {
      "needs_background": "light"
     },
     "output_type": "display_data"
    },
    {
     "data": {
      "image/png": "[encoded data removed]",
      "text/plain": [
       "<Figure size 432x288 with 1 Axes>"
      ]
     },
     "metadata": {
      "needs_background": "light"
     },
     "output_type": "display_data"
    },
    {
     "data": {
      "image/png": "[encoded data removed]",
      "text/plain": [
       "<Figure size 432x288 with 1 Axes>"
      ]
     },
     "metadata": {
      "needs_background": "light"
     },
     "output_type": "display_data"
    },
    {
     "data": {
      "image/png": "[encoded data removed]",
      "text/plain": [
       "<Figure size 432x288 with 1 Axes>"
      ]
     },
     "metadata": {
      "needs_background": "light"
     },
     "output_type": "display_data"
    }
   ],
   "source": [
    "for col in INPUT_COLS:\n",
    "    plt.hist(train_df[col], bins=20)\n",
    "    plt.title(col)\n",
    "    plt.show()"
   ]
  },
  {
   "cell_type": "code",
   "execution_count": 418,
   "metadata": {},
   "outputs": [
    {
     "data": {
      "text/plain": [
       "(array([   159.,    189.,    207.,    281.,    312.,    419.,    466.,\n",
       "           574.,    806.,    996.,   1275.,   1669.,   2105.,   2787.,\n",
       "          3689.,   5011.,   6653.,   9109.,  12737.,  17984.,  25882.,\n",
       "         37593.,  54265.,  76250.,  99172., 113254.,  83860.,  59839.,\n",
       "         41398.,  28332.,  19489.,  13843.,  10131.,   7532.,   5668.,\n",
       "          4314.,   3460.,   2602.,   2009.,   1575.,   1358.,   1109.,\n",
       "           918.,    752.,    675.,    579.,    479.,    390.,    333.,\n",
       "           321.]),\n",
       " array([-0.5 , -0.48, -0.46, -0.44, -0.42, -0.4 , -0.38, -0.36, -0.34,\n",
       "        -0.32, -0.3 , -0.28, -0.26, -0.24, -0.22, -0.2 , -0.18, -0.16,\n",
       "        -0.14, -0.12, -0.1 , -0.08, -0.06, -0.04, -0.02,  0.  ,  0.02,\n",
       "         0.04,  0.06,  0.08,  0.1 ,  0.12,  0.14,  0.16,  0.18,  0.2 ,\n",
       "         0.22,  0.24,  0.26,  0.28,  0.3 ,  0.32,  0.34,  0.36,  0.38,\n",
       "         0.4 ,  0.42,  0.44,  0.46,  0.48,  0.5 ]),\n",
       " <BarContainer object of 50 artists>)"
      ]
     },
     "execution_count": 418,
     "metadata": {},
     "output_type": "execute_result"
    },
    {
     "data": {
      "image/png": "[encoded data removed]",
      "text/plain": [
       "<Figure size 432x288 with 1 Axes>"
      ]
     },
     "metadata": {
      "needs_background": "light"
     },
     "output_type": "display_data"
    }
   ],
   "source": [
    "plt.hist(df['10TD_return'], bins=50, range=(-0.5, 0.5))"
   ]
  },
  {
   "cell_type": "code",
   "execution_count": 419,
   "metadata": {},
   "outputs": [
    {
     "data": {
      "text/plain": [
       "1.146543390265831"
      ]
     },
     "execution_count": 419,
     "metadata": {},
     "output_type": "execute_result"
    }
   ],
   "source": [
    "(df['10TD_return'] == 0).sum()/len(df)*100"
   ]
  },
  {
   "cell_type": "code",
   "execution_count": 420,
   "metadata": {},
   "outputs": [
    {
     "data": {
      "text/plain": [
       "103515"
      ]
     },
     "execution_count": 420,
     "metadata": {},
     "output_type": "execute_result"
    }
   ],
   "source": [
    "(train_df['10D_past_return'] > 0.8).sum()"
   ]
  },
  {
   "cell_type": "code",
   "execution_count": 421,
   "metadata": {},
   "outputs": [],
   "source": [
    "tickers = train_df['ticker'].unique()"
   ]
  },
  {
   "cell_type": "code",
   "execution_count": 422,
   "metadata": {},
   "outputs": [],
   "source": [
    "train_x_dfs = []\n",
    "train_y_dfs = []\n",
    "test_x_dfs = []\n",
    "test_y_dfs = []"
   ]
  },
  {
   "cell_type": "code",
   "execution_count": 423,
   "metadata": {},
   "outputs": [],
   "source": [
    "for ticker in tickers:\n",
    "    ticker_train_df = train_df[train_df['ticker'] == ticker]\n",
    "    ticker_test_df = test_df[test_df['ticker'] == ticker]\n",
    "    ticker_train_x, ticker_train_y = build_arrays(ticker_train_df,input_cols=INPUT_COLS, target_col='20D_return_bin', time_window=6, stride=5)\n",
    "    ticker_test_x, ticker_test_y = build_arrays(ticker_test_df,input_cols=INPUT_COLS, target_col='20D_return_bin', time_window=6, stride=5)\n",
    "    train_x_dfs.append(ticker_train_x)\n",
    "    train_y_dfs.append(ticker_train_y)\n",
    "    test_x_dfs.append(ticker_test_x)\n",
    "    test_y_dfs.append(ticker_test_y)"
   ]
  },
  {
   "cell_type": "code",
   "execution_count": 424,
   "metadata": {},
   "outputs": [],
   "source": [
    "X_train = np.concatenate(train_x_dfs)\n",
    "y_train = np.concatenate(train_y_dfs)\n",
    "X_test = np.concatenate(test_x_dfs)\n",
    "y_test = np.concatenate(test_y_dfs)"
   ]
  },
  {
   "cell_type": "code",
   "execution_count": 425,
   "metadata": {},
   "outputs": [
    {
     "data": {
      "text/plain": [
       "(123817,)"
      ]
     },
     "execution_count": 425,
     "metadata": {},
     "output_type": "execute_result"
    }
   ],
   "source": [
    "y_train.shape"
   ]
  },
  {
   "cell_type": "code",
   "execution_count": 426,
   "metadata": {},
   "outputs": [],
   "source": [
    "X_train = X_train.astype(float)\n",
    "X_test = X_test.astype(float)"
   ]
  },
  {
   "cell_type": "code",
   "execution_count": 427,
   "metadata": {},
   "outputs": [
    {
     "data": {
      "text/plain": [
       "(123817, 6, 15)"
      ]
     },
     "execution_count": 427,
     "metadata": {},
     "output_type": "execute_result"
    }
   ],
   "source": [
    "X_train.shape"
   ]
  },
  {
   "cell_type": "code",
   "execution_count": 428,
   "metadata": {},
   "outputs": [],
   "source": [
    "y_train = y_train.astype(float)\n",
    "y_test = y_test.astype(float)"
   ]
  },
  {
   "cell_type": "code",
   "execution_count": 429,
   "metadata": {},
   "outputs": [],
   "source": [
    "# from tensorflow.keras.backend import expand_dims\n",
    "# X_train = expand_dims(X_train, axis=-1)\n",
    "# X_test = expand_dims(X_test, axis=-1)"
   ]
  },
  {
   "cell_type": "code",
   "execution_count": 430,
   "metadata": {},
   "outputs": [],
   "source": [
    "import matplotlib.pyplot as plt"
   ]
  },
  {
   "cell_type": "code",
   "execution_count": 431,
   "metadata": {},
   "outputs": [
    {
     "data": {
      "image/png": "[encoded data removed]",
      "text/plain": [
       "<Figure size 432x288 with 1 Axes>"
      ]
     },
     "metadata": {
      "needs_background": "light"
     },
     "output_type": "display_data"
    },
    {
     "data": {
      "image/png": "[encoded data removed]",
      "text/plain": [
       "<Figure size 432x288 with 1 Axes>"
      ]
     },
     "metadata": {
      "needs_background": "light"
     },
     "output_type": "display_data"
    },
    {
     "data": {
      "text/plain": [
       "<matplotlib.image.AxesImage at 0x7faacf738ed0>"
      ]
     },
     "execution_count": 431,
     "metadata": {},
     "output_type": "execute_result"
    },
    {
     "data": {
      "image/png": "[encoded data removed]",
      "text/plain": [
       "<Figure size 432x288 with 1 Axes>"
      ]
     },
     "metadata": {
      "needs_background": "light"
     },
     "output_type": "display_data"
    }
   ],
   "source": [
    "plt.imshow(X_train[0])\n",
    "plt.show()\n",
    "plt.imshow(X_train[30000])\n",
    "plt.show()\n",
    "plt.imshow(X_train[100000])"
   ]
  },
  {
   "cell_type": "code",
   "execution_count": 440,
   "metadata": {},
   "outputs": [],
   "source": [
    "from tensorflow.keras import Sequential\n",
    "from tensorflow.keras import layers, models \n",
    "from tensorflow.keras.optimizers import RMSprop, Adam\n",
    "\n",
    "optim = RMSprop(learning_rate=0.0000001)\n",
    "\n",
    "def init_model():\n",
    "    model = Sequential()\n",
    "    model.add(layers.LSTM(200, return_sequences=True, input_shape=(6,15), activation='tanh'))\n",
    "    model.add(layers.LSTM(200, activation='tanh'))\n",
    "    model.add(layers.Dropout(0.3))\n",
    "    model.add(layers.Dense(200, activation='relu'))\n",
    "    model.add(layers.Dropout(0.3))\n",
    "    model.add(layers.Dense(1, activation='sigmoid'))\n",
    "\n",
    "    model.compile(loss='binary_crossentropy', optimizer=optim, metrics=['accuracy'])\n",
    "    \n",
    "    return model"
   ]
  },
  {
   "cell_type": "code",
   "execution_count": null,
   "metadata": {},
   "outputs": [
    {
     "name": "stdout",
     "output_type": "stream",
     "text": [
      "Epoch 1/500\n",
      "12382/12382 [==============================] - 184s 15ms/step - loss: 0.6952 - accuracy: 0.4962 - val_loss: 0.6957 - val_accuracy: 0.4824\n",
      "Epoch 2/500\n",
      "12382/12382 [==============================] - 180s 15ms/step - loss: 0.6946 - accuracy: 0.4984 - val_loss: 0.6947 - val_accuracy: 0.4866\n",
      "Epoch 3/500\n",
      "12382/12382 [==============================] - 201s 16ms/step - loss: 0.6939 - accuracy: 0.5012 - val_loss: 0.6940 - val_accuracy: 0.4932\n",
      "Epoch 4/500\n",
      "12382/12382 [==============================] - 182s 15ms/step - loss: 0.6935 - accuracy: 0.5063 - val_loss: 0.6934 - val_accuracy: 0.5020\n",
      "Epoch 5/500\n",
      "12382/12382 [==============================] - 181s 15ms/step - loss: 0.6933 - accuracy: 0.5068 - val_loss: 0.6930 - val_accuracy: 0.5106\n",
      "Epoch 6/500\n",
      "12382/12382 [==============================] - 179s 14ms/step - loss: 0.6930 - accuracy: 0.5097 - val_loss: 0.6926 - val_accuracy: 0.5159\n",
      "Epoch 7/500\n",
      "12382/12382 [==============================] - 175s 14ms/step - loss: 0.6927 - accuracy: 0.5146 - val_loss: 0.6923 - val_accuracy: 0.5194\n",
      "Epoch 8/500\n",
      "12382/12382 [==============================] - 188s 15ms/step - loss: 0.6927 - accuracy: 0.5162 - val_loss: 0.6920 - val_accuracy: 0.5216\n",
      "Epoch 9/500\n",
      "12382/12382 [==============================] - 189s 15ms/step - loss: 0.6926 - accuracy: 0.5164 - val_loss: 0.6918 - val_accuracy: 0.5233\n",
      "Epoch 10/500\n",
      "12382/12382 [==============================] - 174s 14ms/step - loss: 0.6924 - accuracy: 0.5203 - val_loss: 0.6917 - val_accuracy: 0.5259\n",
      "Epoch 11/500\n",
      "12382/12382 [==============================] - 186s 15ms/step - loss: 0.6922 - accuracy: 0.5217 - val_loss: 0.6915 - val_accuracy: 0.5262\n",
      "Epoch 12/500\n",
      "12382/12382 [==============================] - 186s 15ms/step - loss: 0.6921 - accuracy: 0.5212 - val_loss: 0.6914 - val_accuracy: 0.5261\n",
      "Epoch 13/500\n",
      "12382/12382 [==============================] - 178s 14ms/step - loss: 0.6918 - accuracy: 0.5226 - val_loss: 0.6913 - val_accuracy: 0.5256\n",
      "Epoch 14/500\n",
      "12382/12382 [==============================] - 183s 15ms/step - loss: 0.6918 - accuracy: 0.5237 - val_loss: 0.6912 - val_accuracy: 0.5263\n",
      "Epoch 15/500\n",
      "12382/12382 [==============================] - 194s 16ms/step - loss: 0.6920 - accuracy: 0.5227 - val_loss: 0.6912 - val_accuracy: 0.5273\n",
      "Epoch 16/500\n",
      "12382/12382 [==============================] - 192s 16ms/step - loss: 0.6919 - accuracy: 0.5245 - val_loss: 0.6911 - val_accuracy: 0.5280\n",
      "Epoch 17/500\n",
      "12382/12382 [==============================] - 190s 15ms/step - loss: 0.6919 - accuracy: 0.5242 - val_loss: 0.6911 - val_accuracy: 0.5286\n",
      "Epoch 18/500\n",
      "12382/12382 [==============================] - 188s 15ms/step - loss: 0.6915 - accuracy: 0.5266 - val_loss: 0.6910 - val_accuracy: 0.5291\n",
      "Epoch 19/500\n",
      "12382/12382 [==============================] - 183s 15ms/step - loss: 0.6916 - accuracy: 0.5280 - val_loss: 0.6910 - val_accuracy: 0.5292\n",
      "Epoch 20/500\n",
      "12382/12382 [==============================] - 198s 16ms/step - loss: 0.6915 - accuracy: 0.5268 - val_loss: 0.6910 - val_accuracy: 0.5283\n",
      "Epoch 21/500\n",
      "12382/12382 [==============================] - 191s 15ms/step - loss: 0.6915 - accuracy: 0.5267 - val_loss: 0.6909 - val_accuracy: 0.5285\n",
      "Epoch 22/500\n",
      "12382/12382 [==============================] - 190s 15ms/step - loss: 0.6914 - accuracy: 0.5274 - val_loss: 0.6909 - val_accuracy: 0.5293\n",
      "Epoch 23/500\n",
      "12382/12382 [==============================] - 169s 14ms/step - loss: 0.6914 - accuracy: 0.5286 - val_loss: 0.6909 - val_accuracy: 0.5295\n",
      "Epoch 24/500\n",
      "12382/12382 [==============================] - 193s 16ms/step - loss: 0.6912 - accuracy: 0.5289 - val_loss: 0.6909 - val_accuracy: 0.5298\n",
      "Epoch 25/500\n",
      "12382/12382 [==============================] - 184s 15ms/step - loss: 0.6914 - accuracy: 0.5274 - val_loss: 0.6908 - val_accuracy: 0.5306\n",
      "Epoch 26/500\n",
      "12382/12382 [==============================] - 179s 14ms/step - loss: 0.6915 - accuracy: 0.5264 - val_loss: 0.6908 - val_accuracy: 0.5308\n",
      "Epoch 27/500\n",
      "12382/12382 [==============================] - 189s 15ms/step - loss: 0.6915 - accuracy: 0.5277 - val_loss: 0.6908 - val_accuracy: 0.5304\n",
      "Epoch 28/500\n",
      "12382/12382 [==============================] - 182s 15ms/step - loss: 0.6913 - accuracy: 0.5266 - val_loss: 0.6908 - val_accuracy: 0.5307\n",
      "Epoch 29/500\n",
      "12382/12382 [==============================] - 189s 15ms/step - loss: 0.6912 - accuracy: 0.5293 - val_loss: 0.6908 - val_accuracy: 0.5313\n",
      "Epoch 30/500\n",
      "12382/12382 [==============================] - 186s 15ms/step - loss: 0.6913 - accuracy: 0.5282 - val_loss: 0.6908 - val_accuracy: 0.5312\n",
      "Epoch 31/500\n",
      "12382/12382 [==============================] - 171s 14ms/step - loss: 0.6912 - accuracy: 0.5273 - val_loss: 0.6908 - val_accuracy: 0.5315\n",
      "Epoch 32/500\n",
      "12382/12382 [==============================] - 190s 15ms/step - loss: 0.6912 - accuracy: 0.5307 - val_loss: 0.6907 - val_accuracy: 0.5319\n",
      "Epoch 33/500\n",
      "12382/12382 [==============================] - 179s 14ms/step - loss: 0.6909 - accuracy: 0.5311 - val_loss: 0.6907 - val_accuracy: 0.5324\n",
      "Epoch 34/500\n",
      "12382/12382 [==============================] - 189s 15ms/step - loss: 0.6914 - accuracy: 0.5282 - val_loss: 0.6907 - val_accuracy: 0.5325\n",
      "Epoch 35/500\n",
      "12382/12382 [==============================] - 184s 15ms/step - loss: 0.6911 - accuracy: 0.5302 - val_loss: 0.6907 - val_accuracy: 0.5327\n",
      "Epoch 36/500\n",
      "12382/12382 [==============================] - 170s 14ms/step - loss: 0.6912 - accuracy: 0.5296 - val_loss: 0.6907 - val_accuracy: 0.5329\n",
      "Epoch 37/500\n",
      "12382/12382 [==============================] - 167s 14ms/step - loss: 0.6912 - accuracy: 0.5290 - val_loss: 0.6907 - val_accuracy: 0.5330\n",
      "Epoch 38/500\n",
      "12382/12382 [==============================] - 186s 15ms/step - loss: 0.6911 - accuracy: 0.5296 - val_loss: 0.6907 - val_accuracy: 0.5328\n",
      "Epoch 39/500\n",
      "12382/12382 [==============================] - 201s 16ms/step - loss: 0.6910 - accuracy: 0.5303 - val_loss: 0.6906 - val_accuracy: 0.5331\n",
      "Epoch 40/500\n",
      "12382/12382 [==============================] - 185s 15ms/step - loss: 0.6912 - accuracy: 0.5306 - val_loss: 0.6906 - val_accuracy: 0.5334\n",
      "Epoch 41/500\n",
      "12382/12382 [==============================] - 188s 15ms/step - loss: 0.6911 - accuracy: 0.5306 - val_loss: 0.6906 - val_accuracy: 0.5333\n",
      "Epoch 42/500\n",
      "12382/12382 [==============================] - 189s 15ms/step - loss: 0.6909 - accuracy: 0.5321 - val_loss: 0.6906 - val_accuracy: 0.5333\n",
      "Epoch 43/500\n",
      "12382/12382 [==============================] - 193s 16ms/step - loss: 0.6908 - accuracy: 0.5322 - val_loss: 0.6906 - val_accuracy: 0.5334\n",
      "Epoch 44/500\n",
      "12382/12382 [==============================] - 184s 15ms/step - loss: 0.6910 - accuracy: 0.5301 - val_loss: 0.6906 - val_accuracy: 0.5337\n",
      "Epoch 45/500\n",
      "12382/12382 [==============================] - 179s 14ms/step - loss: 0.6908 - accuracy: 0.5326 - val_loss: 0.6906 - val_accuracy: 0.5338\n",
      "Epoch 46/500\n",
      "12382/12382 [==============================] - 187s 15ms/step - loss: 0.6910 - accuracy: 0.5311 - val_loss: 0.6905 - val_accuracy: 0.5339\n",
      "Epoch 47/500\n",
      "12382/12382 [==============================] - 189s 15ms/step - loss: 0.6909 - accuracy: 0.5309 - val_loss: 0.6905 - val_accuracy: 0.5343\n",
      "Epoch 48/500\n",
      "12382/12382 [==============================] - 185s 15ms/step - loss: 0.6909 - accuracy: 0.5322 - val_loss: 0.6905 - val_accuracy: 0.5345\n",
      "Epoch 49/500\n",
      "12382/12382 [==============================] - 182s 15ms/step - loss: 0.6910 - accuracy: 0.5318 - val_loss: 0.6905 - val_accuracy: 0.5346\n",
      "Epoch 50/500\n",
      "12382/12382 [==============================] - 177s 14ms/step - loss: 0.6907 - accuracy: 0.5331 - val_loss: 0.6905 - val_accuracy: 0.5347\n",
      "Epoch 51/500\n",
      "12382/12382 [==============================] - 184s 15ms/step - loss: 0.6908 - accuracy: 0.5329 - val_loss: 0.6905 - val_accuracy: 0.5349\n",
      "Epoch 52/500\n",
      "12382/12382 [==============================] - 189s 15ms/step - loss: 0.6910 - accuracy: 0.5319 - val_loss: 0.6905 - val_accuracy: 0.5352\n",
      "Epoch 53/500\n",
      "12382/12382 [==============================] - 187s 15ms/step - loss: 0.6908 - accuracy: 0.5325 - val_loss: 0.6904 - val_accuracy: 0.5353\n",
      "Epoch 54/500\n",
      "12382/12382 [==============================] - 183s 15ms/step - loss: 0.6907 - accuracy: 0.5339 - val_loss: 0.6904 - val_accuracy: 0.5354\n",
      "Epoch 55/500\n",
      "12382/12382 [==============================] - 186s 15ms/step - loss: 0.6909 - accuracy: 0.5316 - val_loss: 0.6904 - val_accuracy: 0.5356\n",
      "Epoch 56/500\n",
      "12382/12382 [==============================] - 189s 15ms/step - loss: 0.6907 - accuracy: 0.5335 - val_loss: 0.6904 - val_accuracy: 0.5356\n",
      "Epoch 57/500\n",
      "12382/12382 [==============================] - 186s 15ms/step - loss: 0.6908 - accuracy: 0.5324 - val_loss: 0.6904 - val_accuracy: 0.5356\n",
      "Epoch 58/500\n",
      "12382/12382 [==============================] - 189s 15ms/step - loss: 0.6908 - accuracy: 0.5328 - val_loss: 0.6904 - val_accuracy: 0.5357\n",
      "Epoch 59/500\n",
      "12382/12382 [==============================] - 188s 15ms/step - loss: 0.6907 - accuracy: 0.5342 - val_loss: 0.6904 - val_accuracy: 0.5359\n",
      "Epoch 60/500\n",
      "12382/12382 [==============================] - 189s 15ms/step - loss: 0.6908 - accuracy: 0.5324 - val_loss: 0.6904 - val_accuracy: 0.5361\n",
      "Epoch 61/500\n",
      "12382/12382 [==============================] - 188s 15ms/step - loss: 0.6909 - accuracy: 0.5316 - val_loss: 0.6903 - val_accuracy: 0.5361\n",
      "Epoch 62/500\n",
      "12382/12382 [==============================] - 188s 15ms/step - loss: 0.6907 - accuracy: 0.5328 - val_loss: 0.6903 - val_accuracy: 0.5363\n",
      "Epoch 63/500\n",
      "12382/12382 [==============================] - 169s 14ms/step - loss: 0.6908 - accuracy: 0.5334 - val_loss: 0.6903 - val_accuracy: 0.5363\n",
      "Epoch 64/500\n",
      "12382/12382 [==============================] - 191s 15ms/step - loss: 0.6906 - accuracy: 0.5334 - val_loss: 0.6903 - val_accuracy: 0.5364\n",
      "Epoch 65/500\n",
      " 9474/12382 [=====================>........] - ETA: 42s - loss: 0.6908 - accuracy: 0.5346"
     ]
    }
   ],
   "source": [
    "model = init_model()\n",
    "\n",
    "from tensorflow.keras.callbacks import EarlyStopping\n",
    "\n",
    "es = EarlyStopping(patience=5, restore_best_weights=True)\n",
    "\n",
    "model.fit(X_train, y_train, \n",
    "          epochs=500, \n",
    "          batch_size=8,\n",
    "          validation_split=0.2,\n",
    "          callbacks=[es]\n",
    "         )"
   ]
  },
  {
   "cell_type": "code",
   "execution_count": 434,
   "metadata": {},
   "outputs": [],
   "source": [
    "y_pred = model.predict(X_test)"
   ]
  },
  {
   "cell_type": "code",
   "execution_count": 435,
   "metadata": {},
   "outputs": [
    {
     "data": {
      "text/plain": [
       "(29749, 1)"
      ]
     },
     "execution_count": 435,
     "metadata": {},
     "output_type": "execute_result"
    }
   ],
   "source": [
    "y_pred.shape"
   ]
  },
  {
   "cell_type": "code",
   "execution_count": 436,
   "metadata": {},
   "outputs": [
    {
     "data": {
      "text/plain": [
       "0.5272782278395912"
      ]
     },
     "execution_count": 436,
     "metadata": {},
     "output_type": "execute_result"
    }
   ],
   "source": [
    "y_test.sum()/len(y_test)"
   ]
  },
  {
   "cell_type": "code",
   "execution_count": 439,
   "metadata": {},
   "outputs": [
    {
     "name": "stdout",
     "output_type": "stream",
     "text": [
      "930/930 [==============================] - 1s 1ms/step - loss: 0.6936 - accuracy: 0.5148\n"
     ]
    },
    {
     "data": {
      "text/plain": [
       "[0.6936075091362, 0.5148072242736816]"
      ]
     },
     "execution_count": 439,
     "metadata": {},
     "output_type": "execute_result"
    }
   ],
   "source": [
    "model.evaluate(X_test, y_test)"
   ]
  },
  {
   "cell_type": "code",
   "execution_count": 438,
   "metadata": {},
   "outputs": [
    {
     "name": "stdout",
     "output_type": "stream",
     "text": [
      "Predicted True, test 1.0\n",
      "Predicted False, test 0.0\n",
      "Predicted True, test 1.0\n",
      "Predicted True, test 1.0\n",
      "Predicted True, test 1.0\n",
      "Predicted False, test 1.0\n",
      "Predicted True, test 0.0\n",
      "Predicted True, test 0.0\n",
      "Predicted True, test 0.0\n",
      "Predicted True, test 0.0\n",
      "Predicted True, test 1.0\n",
      "Predicted True, test 0.0\n",
      "Predicted True, test 0.0\n",
      "Predicted True, test 1.0\n",
      "Predicted True, test 0.0\n",
      "Predicted True, test 1.0\n",
      "Predicted False, test 1.0\n",
      "Predicted True, test 0.0\n",
      "Predicted True, test 0.0\n",
      "Predicted True, test 0.0\n",
      "Predicted True, test 0.0\n",
      "Predicted True, test 0.0\n",
      "Predicted False, test 0.0\n",
      "Predicted True, test 0.0\n",
      "Predicted False, test 1.0\n",
      "Predicted True, test 1.0\n",
      "Predicted True, test 1.0\n",
      "Predicted True, test 0.0\n",
      "Predicted True, test 0.0\n",
      "Predicted True, test 0.0\n",
      "Predicted True, test 0.0\n",
      "Predicted True, test 1.0\n",
      "Predicted True, test 0.0\n",
      "Predicted True, test 1.0\n",
      "Predicted False, test 1.0\n",
      "Predicted False, test 0.0\n",
      "Predicted True, test 1.0\n",
      "Predicted True, test 1.0\n",
      "Predicted True, test 0.0\n",
      "Predicted True, test 1.0\n",
      "Predicted True, test 1.0\n",
      "Predicted False, test 1.0\n",
      "Predicted False, test 1.0\n",
      "Predicted True, test 1.0\n",
      "Predicted True, test 0.0\n",
      "Predicted False, test 0.0\n",
      "Predicted False, test 0.0\n",
      "Predicted True, test 1.0\n",
      "Predicted True, test 1.0\n",
      "Predicted True, test 1.0\n",
      "Predicted False, test 1.0\n",
      "Predicted True, test 0.0\n",
      "Predicted True, test 1.0\n",
      "Predicted True, test 0.0\n",
      "Predicted True, test 1.0\n",
      "Predicted False, test 0.0\n",
      "Predicted False, test 0.0\n",
      "Predicted True, test 0.0\n",
      "Predicted True, test 0.0\n",
      "Predicted True, test 1.0\n"
     ]
    }
   ],
   "source": [
    "for i in range(0, len(y_pred), 500):\n",
    "    print(f'Predicted {y_pred[i][0] >= 0.5}, test {y_test[i]}')"
   ]
  },
  {
   "cell_type": "code",
   "execution_count": 331,
   "metadata": {},
   "outputs": [],
   "source": [
    "def initialize_model_2():\n",
    "    model = models.Sequential()\n",
    "    model.add(layers.Conv2D(32, (3, 3), padding='same', input_shape=(30, 4, 1), activation='relu'))\n",
    "    model.add(layers.MaxPooling2D(pool_size=(2, 2)))\n",
    "\n",
    "    model.add(layers.Conv2D(64, (2, 2), padding='same', activation='relu'))\n",
    "    model.add(layers.MaxPooling2D(pool_size=(2, 2)))\n",
    "    \n",
    "    model.add(layers.Conv2D(128, (3, 3), padding='same', activation='relu'))\n",
    "    model.add(layers.MaxPooling2D(pool_size=(2, 2)))\n",
    "\n",
    "    model.add(layers.Flatten())\n",
    "    model.add(layers.Dense(120, activation='relu'))\n",
    "    model.add(layers.Dense(60, activation='relu'))\n",
    "    model.add(layers.Dropout(0.5))\n",
    "    model.add(layers.Dense(1, activation='sigmoid'))\n",
    "    \n",
    "    return model"
   ]
  },
  {
   "cell_type": "code",
   "execution_count": 332,
   "metadata": {},
   "outputs": [
    {
     "ename": "ValueError",
     "evalue": "Negative dimension size caused by subtracting 2 from 1 for '{{node max_pooling2d_38/MaxPool}} = MaxPool[T=DT_FLOAT, data_format=\"NHWC\", ksize=[1, 2, 2, 1], padding=\"VALID\", strides=[1, 2, 2, 1]](conv2d_39/Relu)' with input shapes: [?,7,1,128].",
     "output_type": "error",
     "traceback": [
      "\u001b[0;31m---------------------------------------------------------------------------\u001b[0m",
      "\u001b[0;31mInvalidArgumentError\u001b[0m                      Traceback (most recent call last)",
      "\u001b[0;32m~/.pyenv/versions/3.7.7/envs/lewagon/lib/python3.7/site-packages/tensorflow/python/framework/ops.py\u001b[0m in \u001b[0;36m_create_c_op\u001b[0;34m(graph, node_def, inputs, control_inputs, op_def)\u001b[0m\n\u001b[1;32m   1811\u001b[0m   \u001b[0;32mtry\u001b[0m\u001b[0;34m:\u001b[0m\u001b[0;34m\u001b[0m\u001b[0;34m\u001b[0m\u001b[0m\n\u001b[0;32m-> 1812\u001b[0;31m     \u001b[0mc_op\u001b[0m \u001b[0;34m=\u001b[0m \u001b[0mpywrap_tf_session\u001b[0m\u001b[0;34m.\u001b[0m\u001b[0mTF_FinishOperation\u001b[0m\u001b[0;34m(\u001b[0m\u001b[0mop_desc\u001b[0m\u001b[0;34m)\u001b[0m\u001b[0;34m\u001b[0m\u001b[0;34m\u001b[0m\u001b[0m\n\u001b[0m\u001b[1;32m   1813\u001b[0m   \u001b[0;32mexcept\u001b[0m \u001b[0merrors\u001b[0m\u001b[0;34m.\u001b[0m\u001b[0mInvalidArgumentError\u001b[0m \u001b[0;32mas\u001b[0m \u001b[0me\u001b[0m\u001b[0;34m:\u001b[0m\u001b[0;34m\u001b[0m\u001b[0;34m\u001b[0m\u001b[0m\n",
      "\u001b[0;31mInvalidArgumentError\u001b[0m: Negative dimension size caused by subtracting 2 from 1 for '{{node max_pooling2d_38/MaxPool}} = MaxPool[T=DT_FLOAT, data_format=\"NHWC\", ksize=[1, 2, 2, 1], padding=\"VALID\", strides=[1, 2, 2, 1]](conv2d_39/Relu)' with input shapes: [?,7,1,128].",
      "\nDuring handling of the above exception, another exception occurred:\n",
      "\u001b[0;31mValueError\u001b[0m                                Traceback (most recent call last)",
      "\u001b[0;32m<ipython-input-332-889cc8e26e2f>\u001b[0m in \u001b[0;36m<module>\u001b[0;34m\u001b[0m\n\u001b[0;32m----> 1\u001b[0;31m \u001b[0mmodel_2\u001b[0m \u001b[0;34m=\u001b[0m \u001b[0minitialize_model_2\u001b[0m\u001b[0;34m(\u001b[0m\u001b[0;34m)\u001b[0m\u001b[0;34m\u001b[0m\u001b[0;34m\u001b[0m\u001b[0m\n\u001b[0m\u001b[1;32m      2\u001b[0m \u001b[0;34m\u001b[0m\u001b[0m\n\u001b[1;32m      3\u001b[0m model_2.compile(loss='binary_crossentropy',\n\u001b[1;32m      4\u001b[0m                   \u001b[0moptimizer\u001b[0m\u001b[0;34m=\u001b[0m\u001b[0;34m'adam'\u001b[0m\u001b[0;34m,\u001b[0m\u001b[0;34m\u001b[0m\u001b[0;34m\u001b[0m\u001b[0m\n\u001b[1;32m      5\u001b[0m                   metrics=['accuracy'])\n",
      "\u001b[0;32m<ipython-input-331-856b36cd2579>\u001b[0m in \u001b[0;36minitialize_model_2\u001b[0;34m()\u001b[0m\n\u001b[1;32m      8\u001b[0m \u001b[0;34m\u001b[0m\u001b[0m\n\u001b[1;32m      9\u001b[0m     \u001b[0mmodel\u001b[0m\u001b[0;34m.\u001b[0m\u001b[0madd\u001b[0m\u001b[0;34m(\u001b[0m\u001b[0mlayers\u001b[0m\u001b[0;34m.\u001b[0m\u001b[0mConv2D\u001b[0m\u001b[0;34m(\u001b[0m\u001b[0;36m128\u001b[0m\u001b[0;34m,\u001b[0m \u001b[0;34m(\u001b[0m\u001b[0;36m3\u001b[0m\u001b[0;34m,\u001b[0m \u001b[0;36m3\u001b[0m\u001b[0;34m)\u001b[0m\u001b[0;34m,\u001b[0m \u001b[0mpadding\u001b[0m\u001b[0;34m=\u001b[0m\u001b[0;34m'same'\u001b[0m\u001b[0;34m,\u001b[0m \u001b[0mactivation\u001b[0m\u001b[0;34m=\u001b[0m\u001b[0;34m'relu'\u001b[0m\u001b[0;34m)\u001b[0m\u001b[0;34m)\u001b[0m\u001b[0;34m\u001b[0m\u001b[0;34m\u001b[0m\u001b[0m\n\u001b[0;32m---> 10\u001b[0;31m     \u001b[0mmodel\u001b[0m\u001b[0;34m.\u001b[0m\u001b[0madd\u001b[0m\u001b[0;34m(\u001b[0m\u001b[0mlayers\u001b[0m\u001b[0;34m.\u001b[0m\u001b[0mMaxPooling2D\u001b[0m\u001b[0;34m(\u001b[0m\u001b[0mpool_size\u001b[0m\u001b[0;34m=\u001b[0m\u001b[0;34m(\u001b[0m\u001b[0;36m2\u001b[0m\u001b[0;34m,\u001b[0m \u001b[0;36m2\u001b[0m\u001b[0;34m)\u001b[0m\u001b[0;34m)\u001b[0m\u001b[0;34m)\u001b[0m\u001b[0;34m\u001b[0m\u001b[0;34m\u001b[0m\u001b[0m\n\u001b[0m\u001b[1;32m     11\u001b[0m \u001b[0;34m\u001b[0m\u001b[0m\n\u001b[1;32m     12\u001b[0m     \u001b[0mmodel\u001b[0m\u001b[0;34m.\u001b[0m\u001b[0madd\u001b[0m\u001b[0;34m(\u001b[0m\u001b[0mlayers\u001b[0m\u001b[0;34m.\u001b[0m\u001b[0mFlatten\u001b[0m\u001b[0;34m(\u001b[0m\u001b[0;34m)\u001b[0m\u001b[0;34m)\u001b[0m\u001b[0;34m\u001b[0m\u001b[0;34m\u001b[0m\u001b[0m\n",
      "\u001b[0;32m~/.pyenv/versions/3.7.7/envs/lewagon/lib/python3.7/site-packages/tensorflow/python/training/tracking/base.py\u001b[0m in \u001b[0;36m_method_wrapper\u001b[0;34m(self, *args, **kwargs)\u001b[0m\n\u001b[1;32m    455\u001b[0m     \u001b[0mself\u001b[0m\u001b[0;34m.\u001b[0m\u001b[0m_self_setattr_tracking\u001b[0m \u001b[0;34m=\u001b[0m \u001b[0;32mFalse\u001b[0m  \u001b[0;31m# pylint: disable=protected-access\u001b[0m\u001b[0;34m\u001b[0m\u001b[0;34m\u001b[0m\u001b[0m\n\u001b[1;32m    456\u001b[0m     \u001b[0;32mtry\u001b[0m\u001b[0;34m:\u001b[0m\u001b[0;34m\u001b[0m\u001b[0;34m\u001b[0m\u001b[0m\n\u001b[0;32m--> 457\u001b[0;31m       \u001b[0mresult\u001b[0m \u001b[0;34m=\u001b[0m \u001b[0mmethod\u001b[0m\u001b[0;34m(\u001b[0m\u001b[0mself\u001b[0m\u001b[0;34m,\u001b[0m \u001b[0;34m*\u001b[0m\u001b[0margs\u001b[0m\u001b[0;34m,\u001b[0m \u001b[0;34m**\u001b[0m\u001b[0mkwargs\u001b[0m\u001b[0;34m)\u001b[0m\u001b[0;34m\u001b[0m\u001b[0;34m\u001b[0m\u001b[0m\n\u001b[0m\u001b[1;32m    458\u001b[0m     \u001b[0;32mfinally\u001b[0m\u001b[0;34m:\u001b[0m\u001b[0;34m\u001b[0m\u001b[0;34m\u001b[0m\u001b[0m\n\u001b[1;32m    459\u001b[0m       \u001b[0mself\u001b[0m\u001b[0;34m.\u001b[0m\u001b[0m_self_setattr_tracking\u001b[0m \u001b[0;34m=\u001b[0m \u001b[0mprevious_value\u001b[0m  \u001b[0;31m# pylint: disable=protected-access\u001b[0m\u001b[0;34m\u001b[0m\u001b[0;34m\u001b[0m\u001b[0m\n",
      "\u001b[0;32m~/.pyenv/versions/3.7.7/envs/lewagon/lib/python3.7/site-packages/tensorflow/python/keras/engine/sequential.py\u001b[0m in \u001b[0;36madd\u001b[0;34m(self, layer)\u001b[0m\n\u001b[1;32m    219\u001b[0m       \u001b[0;31m# If the model is being built continuously on top of an input layer:\u001b[0m\u001b[0;34m\u001b[0m\u001b[0;34m\u001b[0m\u001b[0;34m\u001b[0m\u001b[0m\n\u001b[1;32m    220\u001b[0m       \u001b[0;31m# refresh its output.\u001b[0m\u001b[0;34m\u001b[0m\u001b[0;34m\u001b[0m\u001b[0;34m\u001b[0m\u001b[0m\n\u001b[0;32m--> 221\u001b[0;31m       \u001b[0moutput_tensor\u001b[0m \u001b[0;34m=\u001b[0m \u001b[0mlayer\u001b[0m\u001b[0;34m(\u001b[0m\u001b[0mself\u001b[0m\u001b[0;34m.\u001b[0m\u001b[0moutputs\u001b[0m\u001b[0;34m[\u001b[0m\u001b[0;36m0\u001b[0m\u001b[0;34m]\u001b[0m\u001b[0;34m)\u001b[0m\u001b[0;34m\u001b[0m\u001b[0;34m\u001b[0m\u001b[0m\n\u001b[0m\u001b[1;32m    222\u001b[0m       \u001b[0;32mif\u001b[0m \u001b[0mlen\u001b[0m\u001b[0;34m(\u001b[0m\u001b[0mnest\u001b[0m\u001b[0;34m.\u001b[0m\u001b[0mflatten\u001b[0m\u001b[0;34m(\u001b[0m\u001b[0moutput_tensor\u001b[0m\u001b[0;34m)\u001b[0m\u001b[0;34m)\u001b[0m \u001b[0;34m!=\u001b[0m \u001b[0;36m1\u001b[0m\u001b[0;34m:\u001b[0m\u001b[0;34m\u001b[0m\u001b[0;34m\u001b[0m\u001b[0m\n\u001b[1;32m    223\u001b[0m         \u001b[0;32mraise\u001b[0m \u001b[0mValueError\u001b[0m\u001b[0;34m(\u001b[0m\u001b[0mSINGLE_LAYER_OUTPUT_ERROR_MSG\u001b[0m\u001b[0;34m)\u001b[0m\u001b[0;34m\u001b[0m\u001b[0;34m\u001b[0m\u001b[0m\n",
      "\u001b[0;32m~/.pyenv/versions/3.7.7/envs/lewagon/lib/python3.7/site-packages/tensorflow/python/keras/engine/base_layer.py\u001b[0m in \u001b[0;36m__call__\u001b[0;34m(self, *args, **kwargs)\u001b[0m\n\u001b[1;32m    924\u001b[0m     \u001b[0;32mif\u001b[0m \u001b[0m_in_functional_construction_mode\u001b[0m\u001b[0;34m(\u001b[0m\u001b[0mself\u001b[0m\u001b[0;34m,\u001b[0m \u001b[0minputs\u001b[0m\u001b[0;34m,\u001b[0m \u001b[0margs\u001b[0m\u001b[0;34m,\u001b[0m \u001b[0mkwargs\u001b[0m\u001b[0;34m,\u001b[0m \u001b[0minput_list\u001b[0m\u001b[0;34m)\u001b[0m\u001b[0;34m:\u001b[0m\u001b[0;34m\u001b[0m\u001b[0;34m\u001b[0m\u001b[0m\n\u001b[1;32m    925\u001b[0m       return self._functional_construction_call(inputs, args, kwargs,\n\u001b[0;32m--> 926\u001b[0;31m                                                 input_list)\n\u001b[0m\u001b[1;32m    927\u001b[0m \u001b[0;34m\u001b[0m\u001b[0m\n\u001b[1;32m    928\u001b[0m     \u001b[0;31m# Maintains info about the `Layer.call` stack.\u001b[0m\u001b[0;34m\u001b[0m\u001b[0;34m\u001b[0m\u001b[0;34m\u001b[0m\u001b[0m\n",
      "\u001b[0;32m~/.pyenv/versions/3.7.7/envs/lewagon/lib/python3.7/site-packages/tensorflow/python/keras/engine/base_layer.py\u001b[0m in \u001b[0;36m_functional_construction_call\u001b[0;34m(self, inputs, args, kwargs, input_list)\u001b[0m\n\u001b[1;32m   1115\u001b[0m           \u001b[0;32mtry\u001b[0m\u001b[0;34m:\u001b[0m\u001b[0;34m\u001b[0m\u001b[0;34m\u001b[0m\u001b[0m\n\u001b[1;32m   1116\u001b[0m             \u001b[0;32mwith\u001b[0m \u001b[0mops\u001b[0m\u001b[0;34m.\u001b[0m\u001b[0menable_auto_cast_variables\u001b[0m\u001b[0;34m(\u001b[0m\u001b[0mself\u001b[0m\u001b[0;34m.\u001b[0m\u001b[0m_compute_dtype_object\u001b[0m\u001b[0;34m)\u001b[0m\u001b[0;34m:\u001b[0m\u001b[0;34m\u001b[0m\u001b[0;34m\u001b[0m\u001b[0m\n\u001b[0;32m-> 1117\u001b[0;31m               \u001b[0moutputs\u001b[0m \u001b[0;34m=\u001b[0m \u001b[0mcall_fn\u001b[0m\u001b[0;34m(\u001b[0m\u001b[0mcast_inputs\u001b[0m\u001b[0;34m,\u001b[0m \u001b[0;34m*\u001b[0m\u001b[0margs\u001b[0m\u001b[0;34m,\u001b[0m \u001b[0;34m**\u001b[0m\u001b[0mkwargs\u001b[0m\u001b[0;34m)\u001b[0m\u001b[0;34m\u001b[0m\u001b[0;34m\u001b[0m\u001b[0m\n\u001b[0m\u001b[1;32m   1118\u001b[0m \u001b[0;34m\u001b[0m\u001b[0m\n\u001b[1;32m   1119\u001b[0m           \u001b[0;32mexcept\u001b[0m \u001b[0merrors\u001b[0m\u001b[0;34m.\u001b[0m\u001b[0mOperatorNotAllowedInGraphError\u001b[0m \u001b[0;32mas\u001b[0m \u001b[0me\u001b[0m\u001b[0;34m:\u001b[0m\u001b[0;34m\u001b[0m\u001b[0;34m\u001b[0m\u001b[0m\n",
      "\u001b[0;32m~/.pyenv/versions/3.7.7/envs/lewagon/lib/python3.7/site-packages/tensorflow/python/keras/layers/pooling.py\u001b[0m in \u001b[0;36mcall\u001b[0;34m(self, inputs)\u001b[0m\n\u001b[1;32m    294\u001b[0m         \u001b[0mstrides\u001b[0m\u001b[0;34m=\u001b[0m\u001b[0mstrides\u001b[0m\u001b[0;34m,\u001b[0m\u001b[0;34m\u001b[0m\u001b[0;34m\u001b[0m\u001b[0m\n\u001b[1;32m    295\u001b[0m         \u001b[0mpadding\u001b[0m\u001b[0;34m=\u001b[0m\u001b[0mself\u001b[0m\u001b[0;34m.\u001b[0m\u001b[0mpadding\u001b[0m\u001b[0;34m.\u001b[0m\u001b[0mupper\u001b[0m\u001b[0;34m(\u001b[0m\u001b[0;34m)\u001b[0m\u001b[0;34m,\u001b[0m\u001b[0;34m\u001b[0m\u001b[0;34m\u001b[0m\u001b[0m\n\u001b[0;32m--> 296\u001b[0;31m         data_format=conv_utils.convert_data_format(self.data_format, 4))\n\u001b[0m\u001b[1;32m    297\u001b[0m     \u001b[0;32mreturn\u001b[0m \u001b[0moutputs\u001b[0m\u001b[0;34m\u001b[0m\u001b[0;34m\u001b[0m\u001b[0m\n\u001b[1;32m    298\u001b[0m \u001b[0;34m\u001b[0m\u001b[0m\n",
      "\u001b[0;32m~/.pyenv/versions/3.7.7/envs/lewagon/lib/python3.7/site-packages/tensorflow/python/util/dispatch.py\u001b[0m in \u001b[0;36mwrapper\u001b[0;34m(*args, **kwargs)\u001b[0m\n\u001b[1;32m    199\u001b[0m     \u001b[0;34m\"\"\"Call target, and fall back on dispatchers if there is a TypeError.\"\"\"\u001b[0m\u001b[0;34m\u001b[0m\u001b[0;34m\u001b[0m\u001b[0m\n\u001b[1;32m    200\u001b[0m     \u001b[0;32mtry\u001b[0m\u001b[0;34m:\u001b[0m\u001b[0;34m\u001b[0m\u001b[0;34m\u001b[0m\u001b[0m\n\u001b[0;32m--> 201\u001b[0;31m       \u001b[0;32mreturn\u001b[0m \u001b[0mtarget\u001b[0m\u001b[0;34m(\u001b[0m\u001b[0;34m*\u001b[0m\u001b[0margs\u001b[0m\u001b[0;34m,\u001b[0m \u001b[0;34m**\u001b[0m\u001b[0mkwargs\u001b[0m\u001b[0;34m)\u001b[0m\u001b[0;34m\u001b[0m\u001b[0;34m\u001b[0m\u001b[0m\n\u001b[0m\u001b[1;32m    202\u001b[0m     \u001b[0;32mexcept\u001b[0m \u001b[0;34m(\u001b[0m\u001b[0mTypeError\u001b[0m\u001b[0;34m,\u001b[0m \u001b[0mValueError\u001b[0m\u001b[0;34m)\u001b[0m\u001b[0;34m:\u001b[0m\u001b[0;34m\u001b[0m\u001b[0;34m\u001b[0m\u001b[0m\n\u001b[1;32m    203\u001b[0m       \u001b[0;31m# Note: convert_to_eager_tensor currently raises a ValueError, not a\u001b[0m\u001b[0;34m\u001b[0m\u001b[0;34m\u001b[0m\u001b[0;34m\u001b[0m\u001b[0m\n",
      "\u001b[0;32m~/.pyenv/versions/3.7.7/envs/lewagon/lib/python3.7/site-packages/tensorflow/python/ops/nn_ops.py\u001b[0m in \u001b[0;36mmax_pool\u001b[0;34m(value, ksize, strides, padding, data_format, name, input)\u001b[0m\n\u001b[1;32m   4518\u001b[0m         \u001b[0mpadding\u001b[0m\u001b[0;34m=\u001b[0m\u001b[0mpadding\u001b[0m\u001b[0;34m,\u001b[0m\u001b[0;34m\u001b[0m\u001b[0;34m\u001b[0m\u001b[0m\n\u001b[1;32m   4519\u001b[0m         \u001b[0mdata_format\u001b[0m\u001b[0;34m=\u001b[0m\u001b[0mdata_format\u001b[0m\u001b[0;34m,\u001b[0m\u001b[0;34m\u001b[0m\u001b[0;34m\u001b[0m\u001b[0m\n\u001b[0;32m-> 4520\u001b[0;31m         name=name)\n\u001b[0m\u001b[1;32m   4521\u001b[0m \u001b[0;34m\u001b[0m\u001b[0m\n\u001b[1;32m   4522\u001b[0m \u001b[0;34m\u001b[0m\u001b[0m\n",
      "\u001b[0;32m~/.pyenv/versions/3.7.7/envs/lewagon/lib/python3.7/site-packages/tensorflow/python/ops/gen_nn_ops.py\u001b[0m in \u001b[0;36mmax_pool\u001b[0;34m(input, ksize, strides, padding, data_format, name)\u001b[0m\n\u001b[1;32m   5267\u001b[0m   _, _, _op, _outputs = _op_def_library._apply_op_helper(\n\u001b[1;32m   5268\u001b[0m         \u001b[0;34m\"MaxPool\"\u001b[0m\u001b[0;34m,\u001b[0m \u001b[0minput\u001b[0m\u001b[0;34m=\u001b[0m\u001b[0minput\u001b[0m\u001b[0;34m,\u001b[0m \u001b[0mksize\u001b[0m\u001b[0;34m=\u001b[0m\u001b[0mksize\u001b[0m\u001b[0;34m,\u001b[0m \u001b[0mstrides\u001b[0m\u001b[0;34m=\u001b[0m\u001b[0mstrides\u001b[0m\u001b[0;34m,\u001b[0m \u001b[0mpadding\u001b[0m\u001b[0;34m=\u001b[0m\u001b[0mpadding\u001b[0m\u001b[0;34m,\u001b[0m\u001b[0;34m\u001b[0m\u001b[0;34m\u001b[0m\u001b[0m\n\u001b[0;32m-> 5269\u001b[0;31m                    data_format=data_format, name=name)\n\u001b[0m\u001b[1;32m   5270\u001b[0m   \u001b[0m_result\u001b[0m \u001b[0;34m=\u001b[0m \u001b[0m_outputs\u001b[0m\u001b[0;34m[\u001b[0m\u001b[0;34m:\u001b[0m\u001b[0;34m]\u001b[0m\u001b[0;34m\u001b[0m\u001b[0;34m\u001b[0m\u001b[0m\n\u001b[1;32m   5271\u001b[0m   \u001b[0;32mif\u001b[0m \u001b[0m_execute\u001b[0m\u001b[0;34m.\u001b[0m\u001b[0mmust_record_gradient\u001b[0m\u001b[0;34m(\u001b[0m\u001b[0;34m)\u001b[0m\u001b[0;34m:\u001b[0m\u001b[0;34m\u001b[0m\u001b[0;34m\u001b[0m\u001b[0m\n",
      "\u001b[0;32m~/.pyenv/versions/3.7.7/envs/lewagon/lib/python3.7/site-packages/tensorflow/python/framework/op_def_library.py\u001b[0m in \u001b[0;36m_apply_op_helper\u001b[0;34m(op_type_name, name, **keywords)\u001b[0m\n\u001b[1;32m    742\u001b[0m       op = g._create_op_internal(op_type_name, inputs, dtypes=None,\n\u001b[1;32m    743\u001b[0m                                  \u001b[0mname\u001b[0m\u001b[0;34m=\u001b[0m\u001b[0mscope\u001b[0m\u001b[0;34m,\u001b[0m \u001b[0minput_types\u001b[0m\u001b[0;34m=\u001b[0m\u001b[0minput_types\u001b[0m\u001b[0;34m,\u001b[0m\u001b[0;34m\u001b[0m\u001b[0;34m\u001b[0m\u001b[0m\n\u001b[0;32m--> 744\u001b[0;31m                                  attrs=attr_protos, op_def=op_def)\n\u001b[0m\u001b[1;32m    745\u001b[0m \u001b[0;34m\u001b[0m\u001b[0m\n\u001b[1;32m    746\u001b[0m     \u001b[0;31m# `outputs` is returned as a separate return value so that the output\u001b[0m\u001b[0;34m\u001b[0m\u001b[0;34m\u001b[0m\u001b[0;34m\u001b[0m\u001b[0m\n",
      "\u001b[0;32m~/.pyenv/versions/3.7.7/envs/lewagon/lib/python3.7/site-packages/tensorflow/python/framework/func_graph.py\u001b[0m in \u001b[0;36m_create_op_internal\u001b[0;34m(self, op_type, inputs, dtypes, input_types, name, attrs, op_def, compute_device)\u001b[0m\n\u001b[1;32m    591\u001b[0m     return super(FuncGraph, self)._create_op_internal(  # pylint: disable=protected-access\n\u001b[1;32m    592\u001b[0m         \u001b[0mop_type\u001b[0m\u001b[0;34m,\u001b[0m \u001b[0minputs\u001b[0m\u001b[0;34m,\u001b[0m \u001b[0mdtypes\u001b[0m\u001b[0;34m,\u001b[0m \u001b[0minput_types\u001b[0m\u001b[0;34m,\u001b[0m \u001b[0mname\u001b[0m\u001b[0;34m,\u001b[0m \u001b[0mattrs\u001b[0m\u001b[0;34m,\u001b[0m \u001b[0mop_def\u001b[0m\u001b[0;34m,\u001b[0m\u001b[0;34m\u001b[0m\u001b[0;34m\u001b[0m\u001b[0m\n\u001b[0;32m--> 593\u001b[0;31m         compute_device)\n\u001b[0m\u001b[1;32m    594\u001b[0m \u001b[0;34m\u001b[0m\u001b[0m\n\u001b[1;32m    595\u001b[0m   \u001b[0;32mdef\u001b[0m \u001b[0mcapture\u001b[0m\u001b[0;34m(\u001b[0m\u001b[0mself\u001b[0m\u001b[0;34m,\u001b[0m \u001b[0mtensor\u001b[0m\u001b[0;34m,\u001b[0m \u001b[0mname\u001b[0m\u001b[0;34m=\u001b[0m\u001b[0;32mNone\u001b[0m\u001b[0;34m,\u001b[0m \u001b[0mshape\u001b[0m\u001b[0;34m=\u001b[0m\u001b[0;32mNone\u001b[0m\u001b[0;34m)\u001b[0m\u001b[0;34m:\u001b[0m\u001b[0;34m\u001b[0m\u001b[0;34m\u001b[0m\u001b[0m\n",
      "\u001b[0;32m~/.pyenv/versions/3.7.7/envs/lewagon/lib/python3.7/site-packages/tensorflow/python/framework/ops.py\u001b[0m in \u001b[0;36m_create_op_internal\u001b[0;34m(self, op_type, inputs, dtypes, input_types, name, attrs, op_def, compute_device)\u001b[0m\n\u001b[1;32m   3483\u001b[0m           \u001b[0minput_types\u001b[0m\u001b[0;34m=\u001b[0m\u001b[0minput_types\u001b[0m\u001b[0;34m,\u001b[0m\u001b[0;34m\u001b[0m\u001b[0;34m\u001b[0m\u001b[0m\n\u001b[1;32m   3484\u001b[0m           \u001b[0moriginal_op\u001b[0m\u001b[0;34m=\u001b[0m\u001b[0mself\u001b[0m\u001b[0;34m.\u001b[0m\u001b[0m_default_original_op\u001b[0m\u001b[0;34m,\u001b[0m\u001b[0;34m\u001b[0m\u001b[0;34m\u001b[0m\u001b[0m\n\u001b[0;32m-> 3485\u001b[0;31m           op_def=op_def)\n\u001b[0m\u001b[1;32m   3486\u001b[0m       \u001b[0mself\u001b[0m\u001b[0;34m.\u001b[0m\u001b[0m_create_op_helper\u001b[0m\u001b[0;34m(\u001b[0m\u001b[0mret\u001b[0m\u001b[0;34m,\u001b[0m \u001b[0mcompute_device\u001b[0m\u001b[0;34m=\u001b[0m\u001b[0mcompute_device\u001b[0m\u001b[0;34m)\u001b[0m\u001b[0;34m\u001b[0m\u001b[0;34m\u001b[0m\u001b[0m\n\u001b[1;32m   3487\u001b[0m     \u001b[0;32mreturn\u001b[0m \u001b[0mret\u001b[0m\u001b[0;34m\u001b[0m\u001b[0;34m\u001b[0m\u001b[0m\n",
      "\u001b[0;32m~/.pyenv/versions/3.7.7/envs/lewagon/lib/python3.7/site-packages/tensorflow/python/framework/ops.py\u001b[0m in \u001b[0;36m__init__\u001b[0;34m(self, node_def, g, inputs, output_types, control_inputs, input_types, original_op, op_def)\u001b[0m\n\u001b[1;32m   1973\u001b[0m         \u001b[0mop_def\u001b[0m \u001b[0;34m=\u001b[0m \u001b[0mself\u001b[0m\u001b[0;34m.\u001b[0m\u001b[0m_graph\u001b[0m\u001b[0;34m.\u001b[0m\u001b[0m_get_op_def\u001b[0m\u001b[0;34m(\u001b[0m\u001b[0mnode_def\u001b[0m\u001b[0;34m.\u001b[0m\u001b[0mop\u001b[0m\u001b[0;34m)\u001b[0m\u001b[0;34m\u001b[0m\u001b[0;34m\u001b[0m\u001b[0m\n\u001b[1;32m   1974\u001b[0m       self._c_op = _create_c_op(self._graph, node_def, inputs,\n\u001b[0;32m-> 1975\u001b[0;31m                                 control_input_ops, op_def)\n\u001b[0m\u001b[1;32m   1976\u001b[0m       \u001b[0mname\u001b[0m \u001b[0;34m=\u001b[0m \u001b[0mcompat\u001b[0m\u001b[0;34m.\u001b[0m\u001b[0mas_str\u001b[0m\u001b[0;34m(\u001b[0m\u001b[0mnode_def\u001b[0m\u001b[0;34m.\u001b[0m\u001b[0mname\u001b[0m\u001b[0;34m)\u001b[0m\u001b[0;34m\u001b[0m\u001b[0;34m\u001b[0m\u001b[0m\n\u001b[1;32m   1977\u001b[0m     \u001b[0;31m# pylint: enable=protected-access\u001b[0m\u001b[0;34m\u001b[0m\u001b[0;34m\u001b[0m\u001b[0;34m\u001b[0m\u001b[0m\n",
      "\u001b[0;32m~/.pyenv/versions/3.7.7/envs/lewagon/lib/python3.7/site-packages/tensorflow/python/framework/ops.py\u001b[0m in \u001b[0;36m_create_c_op\u001b[0;34m(graph, node_def, inputs, control_inputs, op_def)\u001b[0m\n\u001b[1;32m   1813\u001b[0m   \u001b[0;32mexcept\u001b[0m \u001b[0merrors\u001b[0m\u001b[0;34m.\u001b[0m\u001b[0mInvalidArgumentError\u001b[0m \u001b[0;32mas\u001b[0m \u001b[0me\u001b[0m\u001b[0;34m:\u001b[0m\u001b[0;34m\u001b[0m\u001b[0;34m\u001b[0m\u001b[0m\n\u001b[1;32m   1814\u001b[0m     \u001b[0;31m# Convert to ValueError for backwards compatibility.\u001b[0m\u001b[0;34m\u001b[0m\u001b[0;34m\u001b[0m\u001b[0;34m\u001b[0m\u001b[0m\n\u001b[0;32m-> 1815\u001b[0;31m     \u001b[0;32mraise\u001b[0m \u001b[0mValueError\u001b[0m\u001b[0;34m(\u001b[0m\u001b[0mstr\u001b[0m\u001b[0;34m(\u001b[0m\u001b[0me\u001b[0m\u001b[0;34m)\u001b[0m\u001b[0;34m)\u001b[0m\u001b[0;34m\u001b[0m\u001b[0;34m\u001b[0m\u001b[0m\n\u001b[0m\u001b[1;32m   1816\u001b[0m \u001b[0;34m\u001b[0m\u001b[0m\n\u001b[1;32m   1817\u001b[0m   \u001b[0;32mreturn\u001b[0m \u001b[0mc_op\u001b[0m\u001b[0;34m\u001b[0m\u001b[0;34m\u001b[0m\u001b[0m\n",
      "\u001b[0;31mValueError\u001b[0m: Negative dimension size caused by subtracting 2 from 1 for '{{node max_pooling2d_38/MaxPool}} = MaxPool[T=DT_FLOAT, data_format=\"NHWC\", ksize=[1, 2, 2, 1], padding=\"VALID\", strides=[1, 2, 2, 1]](conv2d_39/Relu)' with input shapes: [?,7,1,128]."
     ]
    }
   ],
   "source": [
    "model_2 = initialize_model_2()\n",
    "\n",
    "model_2.compile(loss='binary_crossentropy',\n",
    "                  optimizer='adam',\n",
    "                  metrics=['accuracy'])"
   ]
  },
  {
   "cell_type": "code",
   "execution_count": 278,
   "metadata": {},
   "outputs": [
    {
     "name": "stdout",
     "output_type": "stream",
     "text": [
      "Epoch 1/200\n",
      "3402/3402 [==============================] - 6s 2ms/step - loss: 0.6933 - accuracy: 0.5006 - val_loss: 0.6925 - val_accuracy: 0.5267\n",
      "Epoch 2/200\n",
      "3402/3402 [==============================] - 6s 2ms/step - loss: 0.6931 - accuracy: 0.5040 - val_loss: 0.6922 - val_accuracy: 0.5267\n",
      "Epoch 3/200\n",
      "3402/3402 [==============================] - 6s 2ms/step - loss: 0.6931 - accuracy: 0.5072 - val_loss: 0.6925 - val_accuracy: 0.5267\n",
      "Epoch 4/200\n",
      "3402/3402 [==============================] - 6s 2ms/step - loss: 0.6931 - accuracy: 0.5043 - val_loss: 0.6927 - val_accuracy: 0.5267\n",
      "Epoch 5/200\n",
      "3402/3402 [==============================] - 6s 2ms/step - loss: 0.6931 - accuracy: 0.5071 - val_loss: 0.6932 - val_accuracy: 0.4733\n",
      "Epoch 6/200\n",
      "3402/3402 [==============================] - 6s 2ms/step - loss: 0.6931 - accuracy: 0.5057 - val_loss: 0.6926 - val_accuracy: 0.5267\n",
      "Epoch 7/200\n",
      "3402/3402 [==============================] - 6s 2ms/step - loss: 0.6931 - accuracy: 0.5072 - val_loss: 0.6926 - val_accuracy: 0.5267\n"
     ]
    },
    {
     "data": {
      "text/plain": [
       "<tensorflow.python.keras.callbacks.History at 0x7f005e524690>"
      ]
     },
     "execution_count": 278,
     "metadata": {},
     "output_type": "execute_result"
    }
   ],
   "source": [
    "es = EarlyStopping(patience=5, restore_best_weights=True)\n",
    "\n",
    "model_2.fit(X_train, y_train, \n",
    "          epochs=200, \n",
    "          batch_size=8,\n",
    "          validation_split=0.2,\n",
    "            callbacks=[es]\n",
    "         )"
   ]
  },
  {
   "cell_type": "code",
   "execution_count": 415,
   "metadata": {},
   "outputs": [
    {
     "data": {
      "text/plain": [
       "0.593103448275862"
      ]
     },
     "execution_count": 415,
     "metadata": {},
     "output_type": "execute_result"
    }
   ],
   "source": [
    "y_test.sum()/y_test.shape[0]"
   ]
  },
  {
   "cell_type": "code",
   "execution_count": 18,
   "metadata": {},
   "outputs": [],
   "source": [
    "y_pred = model.predict(X_test)"
   ]
  },
  {
   "cell_type": "code",
   "execution_count": null,
   "metadata": {},
   "outputs": [],
   "source": []
  }
 ],
 "metadata": {
  "kernelspec": {
   "display_name": "Python 3",
   "language": "python",
   "name": "python3"
  },
  "language_info": {
   "codemirror_mode": {
    "name": "ipython",
    "version": 3
   },
   "file_extension": ".py",
   "mimetype": "text/x-python",
   "name": "python",
   "nbconvert_exporter": "python",
   "pygments_lexer": "ipython3",
   "version": "3.7.7"
  },
  "toc": {
   "base_numbering": 1,
   "nav_menu": {},
   "number_sections": true,
   "sideBar": true,
   "skip_h1_title": false,
   "title_cell": "Table of Contents",
   "title_sidebar": "Contents",
   "toc_cell": false,
   "toc_position": {},
   "toc_section_display": true,
   "toc_window_display": false
  },
  "varInspector": {
   "cols": {
    "lenName": 16,
    "lenType": 16,
    "lenVar": 40
   },
   "kernels_config": {
    "python": {
     "delete_cmd_postfix": "",
     "delete_cmd_prefix": "del ",
     "library": "var_list.py",
     "varRefreshCmd": "print(var_dic_list())"
    },
    "r": {
     "delete_cmd_postfix": ") ",
     "delete_cmd_prefix": "rm(",
     "library": "var_list.r",
     "varRefreshCmd": "cat(var_dic_list()) "
    }
   },
   "types_to_exclude": [
    "module",
    "function",
    "builtin_function_or_method",
    "instance",
    "_Feature"
   ],
   "window_display": false
  }
 },
 "nbformat": 4,
 "nbformat_minor": 4
}
