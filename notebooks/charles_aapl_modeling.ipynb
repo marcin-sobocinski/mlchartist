{
 "cells": [
  {
   "cell_type": "code",
   "execution_count": 1,
   "metadata": {
    "ExecuteTime": {
     "end_time": "2021-01-30T15:47:00.965169Z",
     "start_time": "2021-01-30T15:47:00.130407Z"
    }
   },
   "outputs": [],
   "source": [
    "import pandas as pd"
   ]
  },
  {
   "cell_type": "markdown",
   "metadata": {},
   "source": [
    "# Improper Functions import"
   ]
  },
  {
   "cell_type": "code",
   "execution_count": 2,
   "metadata": {
    "ExecuteTime": {
     "end_time": "2021-01-30T15:47:06.635136Z",
     "start_time": "2021-01-30T15:47:05.308320Z"
    }
   },
   "outputs": [],
   "source": [
    "from sklearn.preprocessing import StandardScaler\n",
    "\n",
    "def std_scaler(df):\n",
    "    \"\"\"\n",
    "    Scale the data with SKlearn StandardScaler\n",
    "    \"\"\"\n",
    "    \n",
    "    scaler = StandardScaler()\n",
    "    \n",
    "    col_to_scale_df = df.drop(columns=['ticker', 'date', '5TD_return', '10TD_return', '20TD_return'])\n",
    "    col_to_scale = list(col_to_scale_df)\n",
    "    \n",
    "    scaled_df = df\n",
    "    \n",
    "    for col in col_to_scale:\n",
    "        scaled_df[col] = scaler.fit_transform(scaled_df[[col]])\n",
    "    \n",
    "    return scaled_df"
   ]
  },
  {
   "cell_type": "code",
   "execution_count": 5,
   "metadata": {
    "ExecuteTime": {
     "end_time": "2021-01-30T15:52:22.320621Z",
     "start_time": "2021-01-30T15:52:22.305004Z"
    }
   },
   "outputs": [],
   "source": [
    "def build_input_arrays(df, time_window=5, stride=3, input_cols=['RSI', 'Stochastic', 'Stochastic_signal', 'ADI',\n",
    "       'OBV', 'ATR', 'ADX', 'ADX_pos', 'ADX_neg', 'MACD', 'MACD_diff',\n",
    "       'MACD_signal'] , target_col='5TD_return'):\n",
    "    output_array = []\n",
    "    target_array = []\n",
    "    df_sorted = df.sort_values('date', ascending=False)\n",
    "    df_sorted.reset_index(drop=True, inplace=True)\n",
    "    for row in range(0, len(df), stride):\n",
    "        df_slice = df_sorted.iloc[row: row + time_window]\n",
    "        if df_slice.shape[0]==time_window:\n",
    "            output_array.append(np.array(df_slice[input_cols].values))\n",
    "            target_array.append(df_slice[target_col].iloc[0])\n",
    "    return np.array(output_array), np.array(target_array)"
   ]
  },
  {
   "cell_type": "code",
   "execution_count": 3,
   "metadata": {
    "ExecuteTime": {
     "end_time": "2021-01-30T15:49:05.831643Z",
     "start_time": "2021-01-30T15:49:05.578461Z"
    }
   },
   "outputs": [],
   "source": [
    "df = pd.read_csv('../raw_data/AAPL.csv')"
   ]
  },
  {
   "cell_type": "code",
   "execution_count": 4,
   "metadata": {
    "ExecuteTime": {
     "end_time": "2021-01-30T15:51:37.508179Z",
     "start_time": "2021-01-30T15:51:37.415996Z"
    }
   },
   "outputs": [
    {
     "name": "stderr",
     "output_type": "stream",
     "text": [
      "/home/bob/.pyenv/versions/3.7.7/envs/lewagon/lib/python3.7/site-packages/sklearn/preprocessing/data.py:645: DataConversionWarning: Data with input dtype int64 were all converted to float64 by StandardScaler.\n",
      "  return self.partial_fit(X, y)\n",
      "/home/bob/.pyenv/versions/3.7.7/envs/lewagon/lib/python3.7/site-packages/sklearn/base.py:464: DataConversionWarning: Data with input dtype int64 were all converted to float64 by StandardScaler.\n",
      "  return self.fit(X, **fit_params).transform(X)\n"
     ]
    }
   ],
   "source": [
    "df_scaled = std_scaler(df)"
   ]
  },
  {
   "cell_type": "code",
   "execution_count": 6,
   "metadata": {
    "ExecuteTime": {
     "end_time": "2021-01-30T15:52:49.412830Z",
     "start_time": "2021-01-30T15:52:49.357452Z"
    }
   },
   "outputs": [
    {
     "data": {
      "text/html": [
       "<div>\n",
       "<style scoped>\n",
       "    .dataframe tbody tr th:only-of-type {\n",
       "        vertical-align: middle;\n",
       "    }\n",
       "\n",
       "    .dataframe tbody tr th {\n",
       "        vertical-align: top;\n",
       "    }\n",
       "\n",
       "    .dataframe thead th {\n",
       "        text-align: right;\n",
       "    }\n",
       "</style>\n",
       "<table border=\"1\" class=\"dataframe\">\n",
       "  <thead>\n",
       "    <tr style=\"text-align: right;\">\n",
       "      <th></th>\n",
       "      <th>ticker</th>\n",
       "      <th>date</th>\n",
       "      <th>RSI</th>\n",
       "      <th>Stochastic</th>\n",
       "      <th>Stochastic_signal</th>\n",
       "      <th>ADI</th>\n",
       "      <th>OBV</th>\n",
       "      <th>ATR</th>\n",
       "      <th>ADX</th>\n",
       "      <th>ADX_pos</th>\n",
       "      <th>ADX_neg</th>\n",
       "      <th>MACD</th>\n",
       "      <th>MACD_diff</th>\n",
       "      <th>MACD_signal</th>\n",
       "      <th>5TD_return</th>\n",
       "      <th>10TD_return</th>\n",
       "      <th>20TD_return</th>\n",
       "    </tr>\n",
       "  </thead>\n",
       "  <tbody>\n",
       "    <tr>\n",
       "      <th>0</th>\n",
       "      <td>AAPL</td>\n",
       "      <td>1984-10-24</td>\n",
       "      <td>0.339732</td>\n",
       "      <td>0.691188</td>\n",
       "      <td>0.486039</td>\n",
       "      <td>-0.187390</td>\n",
       "      <td>-1.599369</td>\n",
       "      <td>-0.430690</td>\n",
       "      <td>-0.734613</td>\n",
       "      <td>1.133141</td>\n",
       "      <td>0.056752</td>\n",
       "      <td>-0.167518</td>\n",
       "      <td>0.000989</td>\n",
       "      <td>-0.176569</td>\n",
       "      <td>-0.052010</td>\n",
       "      <td>-0.018263</td>\n",
       "      <td>-0.119206</td>\n",
       "    </tr>\n",
       "    <tr>\n",
       "      <th>1</th>\n",
       "      <td>AAPL</td>\n",
       "      <td>1984-10-25</td>\n",
       "      <td>-0.328390</td>\n",
       "      <td>0.037753</td>\n",
       "      <td>0.447752</td>\n",
       "      <td>-0.191682</td>\n",
       "      <td>-1.601392</td>\n",
       "      <td>-0.430637</td>\n",
       "      <td>-0.827636</td>\n",
       "      <td>0.816135</td>\n",
       "      <td>0.775435</td>\n",
       "      <td>-0.167443</td>\n",
       "      <td>-0.000470</td>\n",
       "      <td>-0.176080</td>\n",
       "      <td>-0.009378</td>\n",
       "      <td>-0.022156</td>\n",
       "      <td>-0.060181</td>\n",
       "    </tr>\n",
       "    <tr>\n",
       "      <th>2</th>\n",
       "      <td>AAPL</td>\n",
       "      <td>1984-10-26</td>\n",
       "      <td>-0.692953</td>\n",
       "      <td>-0.393761</td>\n",
       "      <td>0.119486</td>\n",
       "      <td>-0.194098</td>\n",
       "      <td>-1.602861</td>\n",
       "      <td>-0.430709</td>\n",
       "      <td>-0.918523</td>\n",
       "      <td>0.596235</td>\n",
       "      <td>1.273968</td>\n",
       "      <td>-0.167725</td>\n",
       "      <td>-0.002715</td>\n",
       "      <td>-0.175749</td>\n",
       "      <td>0.009726</td>\n",
       "      <td>-0.055397</td>\n",
       "      <td>-0.026218</td>\n",
       "    </tr>\n",
       "    <tr>\n",
       "      <th>3</th>\n",
       "      <td>AAPL</td>\n",
       "      <td>1984-10-29</td>\n",
       "      <td>-0.639442</td>\n",
       "      <td>-0.340923</td>\n",
       "      <td>-0.248323</td>\n",
       "      <td>-0.195472</td>\n",
       "      <td>-1.602213</td>\n",
       "      <td>-0.431008</td>\n",
       "      <td>-1.002919</td>\n",
       "      <td>0.523564</td>\n",
       "      <td>1.191167</td>\n",
       "      <td>-0.167893</td>\n",
       "      <td>-0.004164</td>\n",
       "      <td>-0.175518</td>\n",
       "      <td>0.000000</td>\n",
       "      <td>-0.025925</td>\n",
       "      <td>-0.003162</td>\n",
       "    </tr>\n",
       "    <tr>\n",
       "      <th>4</th>\n",
       "      <td>AAPL</td>\n",
       "      <td>1984-10-30</td>\n",
       "      <td>-0.416737</td>\n",
       "      <td>-0.122524</td>\n",
       "      <td>-0.305440</td>\n",
       "      <td>-0.197496</td>\n",
       "      <td>-1.601259</td>\n",
       "      <td>-0.431131</td>\n",
       "      <td>-1.103085</td>\n",
       "      <td>0.758533</td>\n",
       "      <td>0.997380</td>\n",
       "      <td>-0.167834</td>\n",
       "      <td>-0.004643</td>\n",
       "      <td>-0.175322</td>\n",
       "      <td>0.048060</td>\n",
       "      <td>-0.060959</td>\n",
       "      <td>0.035265</td>\n",
       "    </tr>\n",
       "  </tbody>\n",
       "</table>\n",
       "</div>"
      ],
      "text/plain": [
       "  ticker        date       RSI  Stochastic  Stochastic_signal       ADI  \\\n",
       "0   AAPL  1984-10-24  0.339732    0.691188           0.486039 -0.187390   \n",
       "1   AAPL  1984-10-25 -0.328390    0.037753           0.447752 -0.191682   \n",
       "2   AAPL  1984-10-26 -0.692953   -0.393761           0.119486 -0.194098   \n",
       "3   AAPL  1984-10-29 -0.639442   -0.340923          -0.248323 -0.195472   \n",
       "4   AAPL  1984-10-30 -0.416737   -0.122524          -0.305440 -0.197496   \n",
       "\n",
       "        OBV       ATR       ADX   ADX_pos   ADX_neg      MACD  MACD_diff  \\\n",
       "0 -1.599369 -0.430690 -0.734613  1.133141  0.056752 -0.167518   0.000989   \n",
       "1 -1.601392 -0.430637 -0.827636  0.816135  0.775435 -0.167443  -0.000470   \n",
       "2 -1.602861 -0.430709 -0.918523  0.596235  1.273968 -0.167725  -0.002715   \n",
       "3 -1.602213 -0.431008 -1.002919  0.523564  1.191167 -0.167893  -0.004164   \n",
       "4 -1.601259 -0.431131 -1.103085  0.758533  0.997380 -0.167834  -0.004643   \n",
       "\n",
       "   MACD_signal  5TD_return  10TD_return  20TD_return  \n",
       "0    -0.176569   -0.052010    -0.018263    -0.119206  \n",
       "1    -0.176080   -0.009378    -0.022156    -0.060181  \n",
       "2    -0.175749    0.009726    -0.055397    -0.026218  \n",
       "3    -0.175518    0.000000    -0.025925    -0.003162  \n",
       "4    -0.175322    0.048060    -0.060959     0.035265  "
      ]
     },
     "execution_count": 6,
     "metadata": {},
     "output_type": "execute_result"
    }
   ],
   "source": [
    "df_scaled.head()"
   ]
  },
  {
   "cell_type": "code",
   "execution_count": null,
   "metadata": {},
   "outputs": [],
   "source": []
  }
 ],
 "metadata": {
  "kernelspec": {
   "display_name": "Python 3",
   "language": "python",
   "name": "python3"
  },
  "language_info": {
   "codemirror_mode": {
    "name": "ipython",
    "version": 3
   },
   "file_extension": ".py",
   "mimetype": "text/x-python",
   "name": "python",
   "nbconvert_exporter": "python",
   "pygments_lexer": "ipython3",
   "version": "3.7.7"
  },
  "toc": {
   "base_numbering": 1,
   "nav_menu": {},
   "number_sections": true,
   "sideBar": true,
   "skip_h1_title": false,
   "title_cell": "Table of Contents",
   "title_sidebar": "Contents",
   "toc_cell": false,
   "toc_position": {},
   "toc_section_display": true,
   "toc_window_display": false
  },
  "varInspector": {
   "cols": {
    "lenName": 16,
    "lenType": 16,
    "lenVar": 40
   },
   "kernels_config": {
    "python": {
     "delete_cmd_postfix": "",
     "delete_cmd_prefix": "del ",
     "library": "var_list.py",
     "varRefreshCmd": "print(var_dic_list())"
    },
    "r": {
     "delete_cmd_postfix": ") ",
     "delete_cmd_prefix": "rm(",
     "library": "var_list.r",
     "varRefreshCmd": "cat(var_dic_list()) "
    }
   },
   "types_to_exclude": [
    "module",
    "function",
    "builtin_function_or_method",
    "instance",
    "_Feature"
   ],
   "window_display": false
  }
 },
 "nbformat": 4,
 "nbformat_minor": 4
}
