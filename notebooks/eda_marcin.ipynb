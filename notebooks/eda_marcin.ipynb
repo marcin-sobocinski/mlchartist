{
 "cells": [
  {
   "cell_type": "code",
   "execution_count": 1,
   "metadata": {},
   "outputs": [],
   "source": [
    "import pandas as pd\n",
    "import numpy as np\n",
    "\n",
    "import matplotlib.pyplot as plt"
   ]
  },
  {
   "cell_type": "markdown",
   "metadata": {},
   "source": [
    "Test import of AAPL (Apple) stock"
   ]
  },
  {
   "cell_type": "code",
   "execution_count": 2,
   "metadata": {},
   "outputs": [],
   "source": [
    "df = pd.read_csv('../raw_data/data/daily/us/nasdaq stocks/1/aapl.us.txt')"
   ]
  },
  {
   "cell_type": "markdown",
   "metadata": {},
   "source": [
    "Test use of TA lib to calculate RSI"
   ]
  },
  {
   "cell_type": "code",
   "execution_count": 3,
   "metadata": {},
   "outputs": [],
   "source": [
    "from ta.momentum import StochRSIIndicator"
   ]
  },
  {
   "cell_type": "code",
   "execution_count": 4,
   "metadata": {},
   "outputs": [
    {
     "data": {
      "text/plain": [
       "<AxesSubplot:>"
      ]
     },
     "execution_count": 4,
     "metadata": {},
     "output_type": "execute_result"
    },
    {
     "data": {
      "image/png": "[encoded data removed]",
      "text/plain": [
       "<Figure size 432x288 with 1 Axes>"
      ]
     },
     "metadata": {
      "needs_background": "light"
     },
     "output_type": "display_data"
    }
   ],
   "source": [
    "StochRSIIndicator(df['<CLOSE>']).stochrsi().tail(30).plot()"
   ]
  },
  {
   "cell_type": "markdown",
   "metadata": {},
   "source": [
    "Checking how many datapoints (days) there are per each stock. Are there any stocks with no data."
   ]
  },
  {
   "cell_type": "code",
   "execution_count": 7,
   "metadata": {},
   "outputs": [
    {
     "name": "stdout",
     "output_type": "stream",
     "text": [
      "True\n",
      "True\n",
      "False\n",
      "True\n",
      "False\n"
     ]
    }
   ],
   "source": [
    "import os\n",
    "\n",
    "history = {}\n",
    "history_counter = 0\n",
    "dups = []\n",
    "\n",
    "ticker_counter = 0\n",
    "for subdir, dirs, files in os.walk(r'../raw_data/data/daily/us/nasdaq stocks/'):\n",
    "    print(not subdir.endswith('.ipynb_checkpoints'))\n",
    "    for filename in files:\n",
    "        filepath = subdir + os.sep + filename\n",
    "        if filename.endswith('txt'):\n",
    "            name = filename[:-4]\n",
    "            if name in history:\n",
    "                dups.append(name)\n",
    "            ticker_counter += 1\n",
    "            with open(filepath) as f:\n",
    "                rows_num = sum(1 for line in f)\n",
    "                history[name] = rows_num"
   ]
  },
  {
   "cell_type": "code",
   "execution_count": 39,
   "metadata": {},
   "outputs": [
    {
     "name": "stdout",
     "output_type": "stream",
     "text": [
      "There are 3931 tickers in the db and 0 duplicates\n"
     ]
    }
   ],
   "source": [
    "print(f'There are {len(history)} tickers in the db and {len(dups)} duplicates.')"
   ]
  },
  {
   "cell_type": "code",
   "execution_count": 40,
   "metadata": {},
   "outputs": [],
   "source": [
    "history_df = pd.Series(history).sort_values(ascending=False)"
   ]
  },
  {
   "cell_type": "markdown",
   "metadata": {},
   "source": [
    "Top 5 companies in terms of lenght of the history:"
   ]
  },
  {
   "cell_type": "code",
   "execution_count": 41,
   "metadata": {},
   "outputs": [
    {
     "data": {
      "text/plain": [
       "aep.us-checkpoint    12880\n",
       "aep.us               12880\n",
       "gt.us                12878\n",
       "intc.us              12361\n",
       "pep.us               11112\n",
       "dtype: int64"
      ]
     },
     "execution_count": 41,
     "metadata": {},
     "output_type": "execute_result"
    }
   ],
   "source": [
    "history_df.head(5)"
   ]
  },
  {
   "cell_type": "markdown",
   "metadata": {},
   "source": [
    "Number of companies with history shorter than 90 and 1000 days (c.a. 3 years)"
   ]
  },
  {
   "cell_type": "code",
   "execution_count": 49,
   "metadata": {},
   "outputs": [
    {
     "name": "stdout",
     "output_type": "stream",
     "text": [
      "There are 520 tickers with shorter price history than 90 days.\n",
      "There are 1774 companies with shorter price history than 1000 days out of 1774 tickers e.g. 45.0%\n"
     ]
    }
   ],
   "source": [
    "less_90 = len(history_df[history_df <= 90])\n",
    "less_1000  = len(history_df[history_df <=1000])\n",
    "print(f'There are {less_90} tickers with shorter price history than 90 days.\\nThere are {less_1000} companies with shorter price history than 1000 days\\\n",
    " out of {less_1000} tickers e.g. {round((less_1000/len(history))*100, 0)}%')"
   ]
  },
  {
   "cell_type": "code",
   "execution_count": 50,
   "metadata": {},
   "outputs": [],
   "source": [
    "training_tickers = history_df[history_df > 1000]"
   ]
  },
  {
   "cell_type": "code",
   "execution_count": 51,
   "metadata": {},
   "outputs": [
    {
     "name": "stdout",
     "output_type": "stream",
     "text": [
      "We have 2157 tickers for training, that translates to c.a. 6790853 training datapoints\n"
     ]
    }
   ],
   "source": [
    "print(f'We have {len(training_tickers)} tickers for training, that translates to c.a. {training_tickers.sum()} training datapoints')"
   ]
  },
  {
   "cell_type": "code",
   "execution_count": null,
   "metadata": {},
   "outputs": [],
   "source": []
  }
 ],
 "metadata": {
  "kernelspec": {
   "display_name": "Python 3",
   "language": "python",
   "name": "python3"
  },
  "language_info": {
   "codemirror_mode": {
    "name": "ipython",
    "version": 3
   },
   "file_extension": ".py",
   "mimetype": "text/x-python",
   "name": "python",
   "nbconvert_exporter": "python",
   "pygments_lexer": "ipython3",
   "version": "3.7.7"
  }
 },
 "nbformat": 4,
 "nbformat_minor": 4
}
