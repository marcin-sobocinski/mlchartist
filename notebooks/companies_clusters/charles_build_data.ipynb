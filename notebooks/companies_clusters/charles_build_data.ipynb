{
 "cells": [
  {
   "cell_type": "code",
   "execution_count": 2,
   "metadata": {
    "ExecuteTime": {
     "end_time": "2021-02-13T14:22:53.811082Z",
     "start_time": "2021-02-13T14:22:51.592362Z"
    }
   },
   "outputs": [],
   "source": [
    "import pandas as pd\n",
    "import numpy as np\n",
    "from mlchartist.preprocessing import to_date, proper_name, proper_col, calculate_real_returns, get_indicators, calculate_past_returns\n",
    "import os"
   ]
  },
  {
   "cell_type": "code",
   "execution_count": 3,
   "metadata": {
    "ExecuteTime": {
     "end_time": "2021-02-13T14:22:53.827607Z",
     "start_time": "2021-02-13T14:22:53.821515Z"
    }
   },
   "outputs": [],
   "source": [
    "def transform_file(filename):\n",
    "    \"\"\"\n",
    "    Applies all preprocessing steps (preprocessing.py) to a single file,\n",
    "    takes file path, returns dataframe\n",
    "    \"\"\"\n",
    "    df = pd.read_csv(filename)\n",
    "    df.columns = [proper_name(col) for col in df.columns]\n",
    "    df['date'] = to_date(df, 'date')\n",
    "    df = proper_col(df)\n",
    "    df.drop(columns=['per', 'time', 'openint'], inplace=True)\n",
    "    df = get_indicators(df)\n",
    "    df_final = calculate_real_returns(df)\n",
    "    df_final = calculate_past_returns(df_final)\n",
    "    df_final = df_final.dropna().drop(columns = ['open', 'high','low','close', 'vol']).reset_index(drop=True)\n",
    "    return df_final\n",
    "\n",
    "def save_ticker(df, pathname):\n",
    "    \"\"\"\n",
    "    Saves final dataframe to the pathname destination, assumes pathname exists\n",
    "    \"\"\"\n",
    "    df.to_csv(pathname, index=False)\n"
   ]
  },
  {
   "cell_type": "code",
   "execution_count": 4,
   "metadata": {
    "ExecuteTime": {
     "end_time": "2021-02-13T14:22:53.846331Z",
     "start_time": "2021-02-13T14:22:53.839486Z"
    }
   },
   "outputs": [],
   "source": [
    "def build_data(raw_data_folder=r'../raw_data/data/daily/us/nasdaq stocks/', destination_path=r'../raw_data/processed/', len_hist=60):\n",
    "    \"\"\"\n",
    "    Transforms and stores at destination_path all .txt files in raw_data_folder.\n",
    "    The function assumes destination_path is a folder that exists!\n",
    "\n",
    "\n",
    "    len_hist is a min number of rows in a file\n",
    "    \"\"\"\n",
    "    files_changed = 0\n",
    "    for subdir, dirs, files in os.walk(raw_data_folder):\n",
    "        for filename in files:\n",
    "            filepath = subdir + os.sep + filename\n",
    "            if not subdir.endswith('.ipynb_checkpoints'):\n",
    "                if filename.endswith('txt'):\n",
    "                    with open(filepath) as f:\n",
    "                        rows_num = sum(1 for line in f)\n",
    "                        if rows_num >= len_hist:\n",
    "                            df = transform_file(filepath)\n",
    "                            new_name = filename[:-7] + '.csv'\n",
    "                            targetpath = destination_path + os.sep + new_name\n",
    "                            save_ticker(df, targetpath)\n",
    "                            files_changed += 1\n",
    "    print(f'Number of files transformed {files_changed}')"
   ]
  },
  {
   "cell_type": "code",
   "execution_count": 5,
   "metadata": {
    "ExecuteTime": {
     "end_time": "2021-02-13T14:22:54.033663Z",
     "start_time": "2021-02-13T14:22:53.857959Z"
    }
   },
   "outputs": [
    {
     "name": "stdout",
     "output_type": "stream",
     "text": [
      "/home/bob/code/marcin-sobocinski/mlchartist/notebooks/companies_clusters\r\n"
     ]
    }
   ],
   "source": [
    "!pwd"
   ]
  },
  {
   "cell_type": "code",
   "execution_count": 6,
   "metadata": {
    "ExecuteTime": {
     "end_time": "2021-02-13T14:48:43.301945Z",
     "start_time": "2021-02-13T14:22:56.212095Z"
    }
   },
   "outputs": [
    {
     "name": "stderr",
     "output_type": "stream",
     "text": [
      "/home/bob/.pyenv/versions/3.7.7/envs/lewagon/lib/python3.7/site-packages/ta/trend.py:768: RuntimeWarning: invalid value encountered in double_scalars\n",
      "  dip[i] = 100 * (self._dip[i] / self._trs[i])\n",
      "/home/bob/.pyenv/versions/3.7.7/envs/lewagon/lib/python3.7/site-packages/ta/trend.py:772: RuntimeWarning: invalid value encountered in double_scalars\n",
      "  din[i] = 100 * (self._din[i] / self._trs[i])\n",
      "/home/bob/.pyenv/versions/3.7.7/envs/lewagon/lib/python3.7/site-packages/ta/trend.py:768: RuntimeWarning: invalid value encountered in double_scalars\n",
      "  dip[i] = 100 * (self._dip[i] / self._trs[i])\n",
      "/home/bob/.pyenv/versions/3.7.7/envs/lewagon/lib/python3.7/site-packages/ta/trend.py:772: RuntimeWarning: invalid value encountered in double_scalars\n",
      "  din[i] = 100 * (self._din[i] / self._trs[i])\n",
      "/home/bob/.pyenv/versions/3.7.7/envs/lewagon/lib/python3.7/site-packages/ta/trend.py:798: RuntimeWarning: invalid value encountered in double_scalars\n",
      "  dip[i + self._window] = 100 * (self._dip[i] / self._trs[i])\n",
      "/home/bob/.pyenv/versions/3.7.7/envs/lewagon/lib/python3.7/site-packages/ta/trend.py:813: RuntimeWarning: invalid value encountered in double_scalars\n",
      "  din[i + self._window] = 100 * (self._din[i] / self._trs[i])\n"
     ]
    },
    {
     "name": "stdout",
     "output_type": "stream",
     "text": [
      "Number of files transformed 3544\n"
     ]
    }
   ],
   "source": [
    "build_data(raw_data_folder='../../raw_data/nasdaq_stocks/', destination_path='../../raw_data/processed/')"
   ]
  },
  {
   "cell_type": "code",
   "execution_count": null,
   "metadata": {},
   "outputs": [],
   "source": []
  }
 ],
 "metadata": {
  "kernelspec": {
   "display_name": "Python 3",
   "language": "python",
   "name": "python3"
  },
  "language_info": {
   "codemirror_mode": {
    "name": "ipython",
    "version": 3
   },
   "file_extension": ".py",
   "mimetype": "text/x-python",
   "name": "python",
   "nbconvert_exporter": "python",
   "pygments_lexer": "ipython3",
   "version": "3.7.7"
  },
  "toc": {
   "base_numbering": 1,
   "nav_menu": {},
   "number_sections": true,
   "sideBar": true,
   "skip_h1_title": false,
   "title_cell": "Table of Contents",
   "title_sidebar": "Contents",
   "toc_cell": false,
   "toc_position": {},
   "toc_section_display": true,
   "toc_window_display": false
  },
  "varInspector": {
   "cols": {
    "lenName": 16,
    "lenType": 16,
    "lenVar": 40
   },
   "kernels_config": {
    "python": {
     "delete_cmd_postfix": "",
     "delete_cmd_prefix": "del ",
     "library": "var_list.py",
     "varRefreshCmd": "print(var_dic_list())"
    },
    "r": {
     "delete_cmd_postfix": ") ",
     "delete_cmd_prefix": "rm(",
     "library": "var_list.r",
     "varRefreshCmd": "cat(var_dic_list()) "
    }
   },
   "types_to_exclude": [
    "module",
    "function",
    "builtin_function_or_method",
    "instance",
    "_Feature"
   ],
   "window_display": false
  }
 },
 "nbformat": 4,
 "nbformat_minor": 4
}
