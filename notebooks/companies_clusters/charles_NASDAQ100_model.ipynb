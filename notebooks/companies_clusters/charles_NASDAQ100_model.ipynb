{
 "cells": [
  {
   "cell_type": "code",
   "execution_count": 100,
   "metadata": {
    "ExecuteTime": {
     "end_time": "2021-02-13T14:43:11.284223Z",
     "start_time": "2021-02-13T14:43:11.276417Z"
    }
   },
   "outputs": [
    {
     "ename": "SyntaxError",
     "evalue": "trailing comma not allowed without surrounding parentheses (<ipython-input-100-fe5df286b191>, line 1)",
     "output_type": "error",
     "traceback": [
      "\u001b[0;36m  File \u001b[0;32m\"<ipython-input-100-fe5df286b191>\"\u001b[0;36m, line \u001b[0;32m1\u001b[0m\n\u001b[0;31m    from mlchartist.array_builder import full_dataset_randomised_arrays_, #full_dataset_randomised_arrays\u001b[0m\n\u001b[0m                                        ^\u001b[0m\n\u001b[0;31mSyntaxError\u001b[0m\u001b[0;31m:\u001b[0m trailing comma not allowed without surrounding parentheses\n"
     ]
    }
   ],
   "source": [
    "from mlchartist.array_builder import full_dataset_randomised_arrays_, #full_dataset_randomised_arrays\n",
    "from mlchartist.preprocessing import train_test_split, thresholds_encoding\n",
    "\n",
    "import pandas as pd\n",
    "import numpy as np\n",
    "import matplotlib.pyplot as plt\n",
    "import random\n",
    "import joblib\n",
    "import os\n",
    "\n",
    "from tensorflow.keras import models"
   ]
  },
  {
   "cell_type": "markdown",
   "metadata": {},
   "source": [
    "# Preprocessing"
   ]
  },
  {
   "cell_type": "markdown",
   "metadata": {},
   "source": [
    "## Importing NASDAQ_100 Files"
   ]
  },
  {
   "cell_type": "code",
   "execution_count": 2,
   "metadata": {
    "ExecuteTime": {
     "end_time": "2021-02-13T13:21:35.514813Z",
     "start_time": "2021-02-13T13:21:35.503741Z"
    }
   },
   "outputs": [],
   "source": [
    "# Reads Nasdaq 100 components\n",
    "\n",
    "nasdaq100 = pd.read_csv('../../raw_data/metadata/nasdaq100.csv', header=None)"
   ]
  },
  {
   "cell_type": "code",
   "execution_count": 3,
   "metadata": {
    "ExecuteTime": {
     "end_time": "2021-02-13T13:21:35.544363Z",
     "start_time": "2021-02-13T13:21:35.539497Z"
    }
   },
   "outputs": [],
   "source": [
    "nasdaq100_list = list(nasdaq100.values.flatten())"
   ]
  },
  {
   "cell_type": "code",
   "execution_count": 13,
   "metadata": {
    "ExecuteTime": {
     "end_time": "2021-02-13T13:21:48.870372Z",
     "start_time": "2021-02-13T13:21:48.865273Z"
    }
   },
   "outputs": [],
   "source": [
    "# Samples n random companies from Nasdaq 100 list\n",
    "\n",
    "rand_tickers = random.sample(nasdaq100_list, 5)"
   ]
  },
  {
   "cell_type": "code",
   "execution_count": 14,
   "metadata": {
    "ExecuteTime": {
     "end_time": "2021-02-13T13:21:49.423889Z",
     "start_time": "2021-02-13T13:21:49.257656Z"
    }
   },
   "outputs": [],
   "source": [
    "joined_df = pd.DataFrame()\n",
    "\n",
    "# Takes nrows from history from each company from the sample\n",
    "nrows = 3000\n",
    "\n",
    "for ticker in rand_tickers:\n",
    "    ticker_path = '../../raw_data/processed/' + ticker.strip().lower() + '.csv'\n",
    "    ticker_df = pd.read_csv(ticker_path, nrows=nrows)\n",
    "    joined_df = joined_df.append(ticker_df)\n",
    "    "
   ]
  },
  {
   "cell_type": "markdown",
   "metadata": {},
   "source": [
    "## Stocks in DataFrame"
   ]
  },
  {
   "cell_type": "code",
   "execution_count": 15,
   "metadata": {
    "ExecuteTime": {
     "end_time": "2021-02-13T13:21:50.326536Z",
     "start_time": "2021-02-13T13:21:50.319013Z"
    }
   },
   "outputs": [
    {
     "name": "stdout",
     "output_type": "stream",
     "text": [
      "MXIM\n",
      "UAL\n",
      "ISRG\n",
      "ULTA\n",
      "MDLZ\n"
     ]
    }
   ],
   "source": [
    "# Prints sample tickers list\n",
    "\n",
    "for tick in rand_tickers:\n",
    "    print(tick)"
   ]
  },
  {
   "cell_type": "markdown",
   "metadata": {},
   "source": [
    "## Threshold Encoding"
   ]
  },
  {
   "cell_type": "code",
   "execution_count": 16,
   "metadata": {
    "ExecuteTime": {
     "end_time": "2021-02-13T13:21:50.737009Z",
     "start_time": "2021-02-13T13:21:50.696912Z"
    }
   },
   "outputs": [],
   "source": [
    "joined_df['date'] = pd.to_datetime(joined_df['date'])\n",
    "\n",
    "#FIVE_TR = 0.0006\n",
    "#TEN_TR = 0.0012\n",
    "#TWENTY_TR = 0.0024\n",
    "\n",
    "# Drops 'ADI' and 'OBV' from input columns\n",
    "# INPUT_COLS = ['RSI', 'Stochastic', 'Stochastic_signal', 'ADI','OBV', 'ATR', 'ADX', 'ADX_pos', 'ADX_neg', 'MACD', 'MACD_diff','MACD_signal', '1D_past_return', '5D_past_return', '10D_past_return']\n",
    "INPUT_COLS = ['RSI', 'Stochastic', 'Stochastic_signal', 'ATR', 'ADX', 'ADX_pos', 'ADX_neg', 'MACD', 'MACD_diff','MACD_signal', '1D_past_return', '5D_past_return', '10D_past_return']\n",
    "\n",
    "joined_df = thresholds_encoding(joined_df)\n",
    "\n",
    "#joined_df['5D_return_bin'] = (joined_df['5TD_return'] >= FIVE_TR)\n",
    "#joined_df['10D_return_bin'] = (joined_df['10TD_return'] >= TEN_TR)\n",
    "#joined_df['20D_return_bin'] = (joined_df['20TD_return'] >= TWENTY_TR)"
   ]
  },
  {
   "cell_type": "code",
   "execution_count": 17,
   "metadata": {
    "ExecuteTime": {
     "end_time": "2021-02-13T13:21:50.958711Z",
     "start_time": "2021-02-13T13:21:50.925720Z"
    }
   },
   "outputs": [
    {
     "data": {
      "text/html": [
       "<div>\n",
       "<style scoped>\n",
       "    .dataframe tbody tr th:only-of-type {\n",
       "        vertical-align: middle;\n",
       "    }\n",
       "\n",
       "    .dataframe tbody tr th {\n",
       "        vertical-align: top;\n",
       "    }\n",
       "\n",
       "    .dataframe thead th {\n",
       "        text-align: right;\n",
       "    }\n",
       "</style>\n",
       "<table border=\"1\" class=\"dataframe\">\n",
       "  <thead>\n",
       "    <tr style=\"text-align: right;\">\n",
       "      <th></th>\n",
       "      <th>ticker</th>\n",
       "      <th>date</th>\n",
       "      <th>RSI</th>\n",
       "      <th>Stochastic</th>\n",
       "      <th>Stochastic_signal</th>\n",
       "      <th>ADI</th>\n",
       "      <th>OBV</th>\n",
       "      <th>ATR</th>\n",
       "      <th>ADX</th>\n",
       "      <th>ADX_pos</th>\n",
       "      <th>...</th>\n",
       "      <th>MACD_signal</th>\n",
       "      <th>5TD_return</th>\n",
       "      <th>10TD_return</th>\n",
       "      <th>20TD_return</th>\n",
       "      <th>1D_past_return</th>\n",
       "      <th>5D_past_return</th>\n",
       "      <th>10D_past_return</th>\n",
       "      <th>5D_return_bin</th>\n",
       "      <th>10D_return_bin</th>\n",
       "      <th>20D_return_bin</th>\n",
       "    </tr>\n",
       "  </thead>\n",
       "  <tbody>\n",
       "    <tr>\n",
       "      <th>0</th>\n",
       "      <td>MXIM</td>\n",
       "      <td>1990-05-11</td>\n",
       "      <td>55.827296</td>\n",
       "      <td>74.065342</td>\n",
       "      <td>74.447064</td>\n",
       "      <td>8.616392e+06</td>\n",
       "      <td>18118712</td>\n",
       "      <td>0.011748</td>\n",
       "      <td>24.707014</td>\n",
       "      <td>20.046340</td>\n",
       "      <td>...</td>\n",
       "      <td>0.001768</td>\n",
       "      <td>0.058847</td>\n",
       "      <td>0.161880</td>\n",
       "      <td>0.088371</td>\n",
       "      <td>-0.015229</td>\n",
       "      <td>0.015004</td>\n",
       "      <td>0.046206</td>\n",
       "      <td>1</td>\n",
       "      <td>1</td>\n",
       "      <td>1</td>\n",
       "    </tr>\n",
       "    <tr>\n",
       "      <th>1</th>\n",
       "      <td>MXIM</td>\n",
       "      <td>1990-05-14</td>\n",
       "      <td>59.059040</td>\n",
       "      <td>100.000000</td>\n",
       "      <td>91.355114</td>\n",
       "      <td>8.874201e+06</td>\n",
       "      <td>18376521</td>\n",
       "      <td>0.011459</td>\n",
       "      <td>26.813936</td>\n",
       "      <td>19.084843</td>\n",
       "      <td>...</td>\n",
       "      <td>0.002409</td>\n",
       "      <td>0.086432</td>\n",
       "      <td>0.100672</td>\n",
       "      <td>0.100672</td>\n",
       "      <td>0.015465</td>\n",
       "      <td>0.045881</td>\n",
       "      <td>0.045881</td>\n",
       "      <td>1</td>\n",
       "      <td>1</td>\n",
       "      <td>1</td>\n",
       "    </tr>\n",
       "    <tr>\n",
       "      <th>2</th>\n",
       "      <td>MXIM</td>\n",
       "      <td>1990-05-15</td>\n",
       "      <td>59.059040</td>\n",
       "      <td>100.000000</td>\n",
       "      <td>91.355114</td>\n",
       "      <td>8.874201e+06</td>\n",
       "      <td>18710802</td>\n",
       "      <td>0.010640</td>\n",
       "      <td>28.770363</td>\n",
       "      <td>19.084843</td>\n",
       "      <td>...</td>\n",
       "      <td>0.003048</td>\n",
       "      <td>0.158623</td>\n",
       "      <td>0.100672</td>\n",
       "      <td>0.086432</td>\n",
       "      <td>0.000000</td>\n",
       "      <td>0.000000</td>\n",
       "      <td>0.062386</td>\n",
       "      <td>1</td>\n",
       "      <td>1</td>\n",
       "      <td>1</td>\n",
       "    </tr>\n",
       "    <tr>\n",
       "      <th>3</th>\n",
       "      <td>MXIM</td>\n",
       "      <td>1990-05-16</td>\n",
       "      <td>59.059040</td>\n",
       "      <td>80.921232</td>\n",
       "      <td>93.640411</td>\n",
       "      <td>7.539277e+06</td>\n",
       "      <td>20045726</td>\n",
       "      <td>0.010380</td>\n",
       "      <td>31.141968</td>\n",
       "      <td>22.979727</td>\n",
       "      <td>...</td>\n",
       "      <td>0.003646</td>\n",
       "      <td>0.158623</td>\n",
       "      <td>0.086432</td>\n",
       "      <td>0.086432</td>\n",
       "      <td>0.000000</td>\n",
       "      <td>0.030701</td>\n",
       "      <td>0.062386</td>\n",
       "      <td>1</td>\n",
       "      <td>1</td>\n",
       "      <td>1</td>\n",
       "    </tr>\n",
       "    <tr>\n",
       "      <th>4</th>\n",
       "      <td>MXIM</td>\n",
       "      <td>1990-05-17</td>\n",
       "      <td>65.034232</td>\n",
       "      <td>100.000000</td>\n",
       "      <td>93.640411</td>\n",
       "      <td>9.042434e+06</td>\n",
       "      <td>21548883</td>\n",
       "      <td>0.010667</td>\n",
       "      <td>33.783844</td>\n",
       "      <td>25.717304</td>\n",
       "      <td>...</td>\n",
       "      <td>0.004408</td>\n",
       "      <td>0.126538</td>\n",
       "      <td>0.070192</td>\n",
       "      <td>0.056346</td>\n",
       "      <td>0.028481</td>\n",
       "      <td>0.028481</td>\n",
       "      <td>0.075669</td>\n",
       "      <td>1</td>\n",
       "      <td>1</td>\n",
       "      <td>1</td>\n",
       "    </tr>\n",
       "  </tbody>\n",
       "</table>\n",
       "<p>5 rows × 23 columns</p>\n",
       "</div>"
      ],
      "text/plain": [
       "  ticker       date        RSI  Stochastic  Stochastic_signal           ADI  \\\n",
       "0   MXIM 1990-05-11  55.827296   74.065342          74.447064  8.616392e+06   \n",
       "1   MXIM 1990-05-14  59.059040  100.000000          91.355114  8.874201e+06   \n",
       "2   MXIM 1990-05-15  59.059040  100.000000          91.355114  8.874201e+06   \n",
       "3   MXIM 1990-05-16  59.059040   80.921232          93.640411  7.539277e+06   \n",
       "4   MXIM 1990-05-17  65.034232  100.000000          93.640411  9.042434e+06   \n",
       "\n",
       "        OBV       ATR        ADX    ADX_pos  ...  MACD_signal  5TD_return  \\\n",
       "0  18118712  0.011748  24.707014  20.046340  ...     0.001768    0.058847   \n",
       "1  18376521  0.011459  26.813936  19.084843  ...     0.002409    0.086432   \n",
       "2  18710802  0.010640  28.770363  19.084843  ...     0.003048    0.158623   \n",
       "3  20045726  0.010380  31.141968  22.979727  ...     0.003646    0.158623   \n",
       "4  21548883  0.010667  33.783844  25.717304  ...     0.004408    0.126538   \n",
       "\n",
       "   10TD_return  20TD_return  1D_past_return  5D_past_return  10D_past_return  \\\n",
       "0     0.161880     0.088371       -0.015229        0.015004         0.046206   \n",
       "1     0.100672     0.100672        0.015465        0.045881         0.045881   \n",
       "2     0.100672     0.086432        0.000000        0.000000         0.062386   \n",
       "3     0.086432     0.086432        0.000000        0.030701         0.062386   \n",
       "4     0.070192     0.056346        0.028481        0.028481         0.075669   \n",
       "\n",
       "   5D_return_bin  10D_return_bin  20D_return_bin  \n",
       "0              1               1               1  \n",
       "1              1               1               1  \n",
       "2              1               1               1  \n",
       "3              1               1               1  \n",
       "4              1               1               1  \n",
       "\n",
       "[5 rows x 23 columns]"
      ]
     },
     "execution_count": 17,
     "metadata": {},
     "output_type": "execute_result"
    }
   ],
   "source": [
    "joined_df.head()"
   ]
  },
  {
   "cell_type": "markdown",
   "metadata": {},
   "source": [
    "## Data Visualisation"
   ]
  },
  {
   "cell_type": "code",
   "execution_count": 18,
   "metadata": {
    "ExecuteTime": {
     "end_time": "2021-02-13T13:21:54.618721Z",
     "start_time": "2021-02-13T13:21:51.708951Z"
    }
   },
   "outputs": [
    {
     "name": "stderr",
     "output_type": "stream",
     "text": [
      "/home/bob/.pyenv/versions/3.7.7/envs/lewagon/lib/python3.7/site-packages/pandas/plotting/_tools.py:307: MatplotlibDeprecationWarning: \n",
      "The rowNum attribute was deprecated in Matplotlib 3.2 and will be removed two minor releases later. Use ax.get_subplotspec().rowspan.start instead.\n",
      "  layout[ax.rowNum, ax.colNum] = ax.get_visible()\n",
      "/home/bob/.pyenv/versions/3.7.7/envs/lewagon/lib/python3.7/site-packages/pandas/plotting/_tools.py:307: MatplotlibDeprecationWarning: \n",
      "The colNum attribute was deprecated in Matplotlib 3.2 and will be removed two minor releases later. Use ax.get_subplotspec().colspan.start instead.\n",
      "  layout[ax.rowNum, ax.colNum] = ax.get_visible()\n",
      "/home/bob/.pyenv/versions/3.7.7/envs/lewagon/lib/python3.7/site-packages/pandas/plotting/_tools.py:313: MatplotlibDeprecationWarning: \n",
      "The rowNum attribute was deprecated in Matplotlib 3.2 and will be removed two minor releases later. Use ax.get_subplotspec().rowspan.start instead.\n",
      "  if not layout[ax.rowNum + 1, ax.colNum]:\n",
      "/home/bob/.pyenv/versions/3.7.7/envs/lewagon/lib/python3.7/site-packages/pandas/plotting/_tools.py:313: MatplotlibDeprecationWarning: \n",
      "The colNum attribute was deprecated in Matplotlib 3.2 and will be removed two minor releases later. Use ax.get_subplotspec().colspan.start instead.\n",
      "  if not layout[ax.rowNum + 1, ax.colNum]:\n"
     ]
    },
    {
     "data": {
      "image/png": "[encoded data removed]",
      "text/plain": [
       "<Figure size 1440x1080 with 16 Axes>"
      ]
     },
     "metadata": {
      "needs_background": "light"
     },
     "output_type": "display_data"
    }
   ],
   "source": [
    "# Plots distribution of the input df without removing outliers\n",
    "\n",
    "joined_df[INPUT_COLS].hist(figsize=(20, 15), bins=50)\n",
    "plt.show()"
   ]
  },
  {
   "cell_type": "markdown",
   "metadata": {},
   "source": [
    "## `train_x`, `train_y`, `test_x`, `test_y` Arrays Building"
   ]
  },
  {
   "cell_type": "code",
   "execution_count": 19,
   "metadata": {
    "ExecuteTime": {
     "end_time": "2021-02-13T13:23:39.999672Z",
     "start_time": "2021-02-13T13:21:54.720356Z"
    }
   },
   "outputs": [
    {
     "name": "stdout",
     "output_type": "stream",
     "text": [
      "5 Companies in Dataset\n",
      "Starting MXIM: Company 1 of 5\n",
      "Starting UAL: Company 2 of 5\n",
      "Starting ISRG: Company 3 of 5\n",
      "Starting ULTA: Company 4 of 5\n",
      "Starting MDLZ: Company 5 of 5\n",
      "All Companies Completed\n",
      "\n",
      "Processing Stats: {'MXIM': {'train_possible_windows': 2687.0, 'train_outliers': 29, 'train_windows': 2658, 'test_possible_windows': 313.0, 'test_outliers': 29, 'test_windows': 284}, 'UAL': {'train_possible_windows': 2721.0, 'train_outliers': 123, 'train_windows': 2598, 'test_possible_windows': 279.0, 'test_outliers': 29, 'test_windows': 250}, 'ISRG': {'train_possible_windows': 2698.0, 'train_outliers': 59, 'train_windows': 2639, 'test_possible_windows': 302.0, 'test_outliers': 29, 'test_windows': 273}, 'ULTA': {'train_possible_windows': 2531.0, 'train_outliers': 29, 'train_windows': 2502, 'test_possible_windows': 469.0, 'test_outliers': 29, 'test_windows': 440}, 'MDLZ': {'train_possible_windows': 2548.0, 'train_outliers': 29, 'train_windows': 2519, 'test_possible_windows': 452.0, 'test_outliers': 29, 'test_windows': 423}}\n",
      "\n",
      "\n",
      "### Stats ###\n",
      "train_x (12916, 30, 13)\n",
      "train_y (12916, 1)\n",
      "test_x (1670, 30, 13)\n",
      "test_y (1670, 1)\n",
      "scaler RobustScaler(copy=True, quantile_range=(25.0, 75.0), with_centering=True,\n",
      "       with_scaling=True)\n",
      "\n",
      "\n",
      "### Validation ###\n"
     ]
    }
   ],
   "source": [
    "\n",
    "TARGET_COLS=['10D_return_bin']\n",
    "outlier_validation={'1D_past_return': [-0.3, 0.3]}\n",
    "\n",
    "stride = 1\n",
    "\n",
    "\n",
    "train_x, train_y, test_x, test_y, scaler = full_dataset_randomised_arrays_(joined_df, \n",
    "                                                                                stride=stride, \n",
    "                                                                                input_cols=INPUT_COLS, \n",
    "                                                                                outlier_threshold=1, \n",
    "                                                                                outlier_validation=outlier_validation, \n",
    "                                                                                check_train_outliers=True,\n",
    "                                                                                check_test_outliers=False, \n",
    "                                                                                target_col=TARGET_COLS, \n",
    "                                                                                time_window=30,\n",
    "                                                                                test_set_size='2Y')\n",
    "\n",
    "print('')\n",
    "print('')\n",
    "print('### Stats ###')\n",
    "print('train_x', train_x.shape)\n",
    "print('train_y', train_y.shape)\n",
    "print('test_x', test_x.shape)\n",
    "print('test_y', test_y.shape)\n",
    "print('scaler', scaler)\n",
    "\n",
    "print('')\n",
    "print('')\n",
    "print('### Validation ###')\n"
   ]
  },
  {
   "cell_type": "markdown",
   "metadata": {},
   "source": [
    "## `X_train` & `y_train` Arrays Random Sampling"
   ]
  },
  {
   "cell_type": "code",
   "execution_count": 20,
   "metadata": {
    "ExecuteTime": {
     "end_time": "2021-02-13T13:23:40.145090Z",
     "start_time": "2021-02-13T13:23:40.080412Z"
    }
   },
   "outputs": [
    {
     "name": "stderr",
     "output_type": "stream",
     "text": [
      "/home/bob/.pyenv/versions/3.7.7/envs/lewagon/lib/python3.7/site-packages/ipykernel_launcher.py:6: FutureWarning: Using a non-tuple sequence for multidimensional indexing is deprecated; use `arr[tuple(seq)]` instead of `arr[seq]`. In the future this will be interpreted as an array index, `arr[np.array(seq)]`, which will result either in an error or a different result.\n",
      "  \n"
     ]
    }
   ],
   "source": [
    "# Samples n rows of train_x\n",
    "\n",
    "indx = list(range(len(train_x)))\n",
    "sample_indx = random.sample(indx, 10000)\n",
    "X_train_sample =  train_x[[sample_indx], :][0]\n",
    "y_train_sample = train_y[[sample_indx]]"
   ]
  },
  {
   "cell_type": "code",
   "execution_count": 21,
   "metadata": {
    "ExecuteTime": {
     "end_time": "2021-02-13T13:23:40.258153Z",
     "start_time": "2021-02-13T13:23:40.253772Z"
    }
   },
   "outputs": [
    {
     "data": {
      "text/plain": [
       "(10000, 1)"
      ]
     },
     "execution_count": 21,
     "metadata": {},
     "output_type": "execute_result"
    }
   ],
   "source": [
    "y_train_sample.shape"
   ]
  },
  {
   "cell_type": "code",
   "execution_count": 22,
   "metadata": {
    "ExecuteTime": {
     "end_time": "2021-02-13T13:23:40.364110Z",
     "start_time": "2021-02-13T13:23:40.354589Z"
    }
   },
   "outputs": [
    {
     "data": {
      "text/plain": [
       "(1670, 1)"
      ]
     },
     "execution_count": 22,
     "metadata": {},
     "output_type": "execute_result"
    }
   ],
   "source": [
    "test_y.shape"
   ]
  },
  {
   "cell_type": "markdown",
   "metadata": {},
   "source": [
    "# Modeling"
   ]
  },
  {
   "cell_type": "markdown",
   "metadata": {},
   "source": [
    "## Model (commented)"
   ]
  },
  {
   "cell_type": "markdown",
   "metadata": {
    "ExecuteTime": {
     "end_time": "2021-02-12T17:42:16.300180Z",
     "start_time": "2021-02-12T17:42:16.277492Z"
    }
   },
   "source": [
    "from tensorflow.keras.metrics import Precision\n",
    "from tensorflow.keras import regularizers\n",
    "from tensorflow.keras import Sequential\n",
    "from tensorflow.keras import layers, models \n",
    "from tensorflow.keras.optimizers import RMSprop, Adam, Adamax\n",
    "\n",
    "optim = RMSprop(learning_rate=0.0001)\n",
    "precision = Precision()\n",
    "\n",
    "def init_model():\n",
    "    model = Sequential()\n",
    "    reg_l1 = regularizers.l1(0.001)\n",
    "    reg_l2 = regularizers.l2(0.001)\n",
    "    reg_l1_l2 = regularizers.l1_l2(l1=0.001, l2=0.001)\n",
    "    model.add(layers.LSTM(200, return_sequences=True, input_shape=(30,13), activation='tanh'))\n",
    "    model.add(layers.LSTM(200, activation='tanh'))\n",
    "    model.add(layers.Dropout(0.3))\n",
    "    #model.add(layers.BatchNormalization())\n",
    "    model.add(layers.Dense(200, activation='relu', kernel_regularizer=reg_l1))\n",
    "    model.add(layers.Dropout(0.3))\n",
    "    model.add(layers.Dense(100, activation='relu', bias_regularizer=reg_l2))\n",
    "    model.add(layers.Dropout(0.3))\n",
    "    model.add(layers.Dense(50, activation='relu', activity_regularizer=reg_l1_l2))\n",
    "    model.add(layers.Dense(1, activation='sigmoid'))\n",
    "\n",
    "    model.compile(loss='binary_crossentropy', optimizer=optim, metrics=[precision, 'accuracy'])\n",
    "    \n",
    "    return model"
   ]
  },
  {
   "cell_type": "markdown",
   "metadata": {
    "ExecuteTime": {
     "end_time": "2021-02-12T18:20:04.224298Z",
     "start_time": "2021-02-12T17:42:17.274364Z"
    },
    "scrolled": true
   },
   "source": [
    "model = init_model()\n",
    "\n",
    "from tensorflow.keras.callbacks import EarlyStopping\n",
    "\n",
    "es = EarlyStopping(patience=5, restore_best_weights=True)\n",
    "\n",
    "model.fit(train_x, train_y, \n",
    "          epochs=500, \n",
    "          batch_size=16,\n",
    "          validation_split=0.2,\n",
    "          callbacks=[es])"
   ]
  },
  {
   "cell_type": "markdown",
   "metadata": {},
   "source": [
    "## Balance of `train_y` and `test_y`"
   ]
  },
  {
   "cell_type": "code",
   "execution_count": 23,
   "metadata": {
    "ExecuteTime": {
     "end_time": "2021-02-13T13:23:40.466820Z",
     "start_time": "2021-02-13T13:23:40.460898Z"
    }
   },
   "outputs": [
    {
     "data": {
      "text/plain": [
       "0.5587643233199133"
      ]
     },
     "execution_count": 23,
     "metadata": {},
     "output_type": "execute_result"
    }
   ],
   "source": [
    "train_y.sum()/len(train_y)"
   ]
  },
  {
   "cell_type": "code",
   "execution_count": 24,
   "metadata": {
    "ExecuteTime": {
     "end_time": "2021-02-13T13:23:40.595733Z",
     "start_time": "2021-02-13T13:23:40.582901Z"
    }
   },
   "outputs": [
    {
     "data": {
      "text/plain": [
       "0.5383233532934132"
      ]
     },
     "execution_count": 24,
     "metadata": {},
     "output_type": "execute_result"
    }
   ],
   "source": [
    "test_y.sum()/len(test_y)"
   ]
  },
  {
   "cell_type": "markdown",
   "metadata": {},
   "source": [
    "## Trained Model Loading"
   ]
  },
  {
   "cell_type": "code",
   "execution_count": 25,
   "metadata": {
    "ExecuteTime": {
     "end_time": "2021-02-13T13:23:40.892540Z",
     "start_time": "2021-02-13T13:23:40.713214Z"
    }
   },
   "outputs": [
    {
     "name": "stdout",
     "output_type": "stream",
     "text": [
      "Nasdaq_100_150k  Nasdaq_random_50  scaler\r\n"
     ]
    }
   ],
   "source": [
    "!ls ../../models/"
   ]
  },
  {
   "cell_type": "code",
   "execution_count": 29,
   "metadata": {
    "ExecuteTime": {
     "end_time": "2021-02-13T13:24:29.819259Z",
     "start_time": "2021-02-13T13:24:25.158992Z"
    }
   },
   "outputs": [],
   "source": [
    "model = models.load_model('../../models/Nasdaq_100_150k/')"
   ]
  },
  {
   "cell_type": "code",
   "execution_count": 30,
   "metadata": {
    "ExecuteTime": {
     "end_time": "2021-02-13T13:24:29.930053Z",
     "start_time": "2021-02-13T13:24:29.911810Z"
    }
   },
   "outputs": [
    {
     "name": "stdout",
     "output_type": "stream",
     "text": [
      "Model: \"sequential_23\"\n",
      "_________________________________________________________________\n",
      "Layer (type)                 Output Shape              Param #   \n",
      "=================================================================\n",
      "lstm_46 (LSTM)               (None, 30, 200)           171200    \n",
      "_________________________________________________________________\n",
      "lstm_47 (LSTM)               (None, 200)               320800    \n",
      "_________________________________________________________________\n",
      "dropout_69 (Dropout)         (None, 200)               0         \n",
      "_________________________________________________________________\n",
      "batch_normalization_10 (Batc (None, 200)               800       \n",
      "_________________________________________________________________\n",
      "dense_92 (Dense)             (None, 200)               40200     \n",
      "_________________________________________________________________\n",
      "dropout_70 (Dropout)         (None, 200)               0         \n",
      "_________________________________________________________________\n",
      "dense_93 (Dense)             (None, 100)               20100     \n",
      "_________________________________________________________________\n",
      "dropout_71 (Dropout)         (None, 100)               0         \n",
      "_________________________________________________________________\n",
      "dense_94 (Dense)             (None, 50)                5050      \n",
      "_________________________________________________________________\n",
      "dense_95 (Dense)             (None, 1)                 51        \n",
      "=================================================================\n",
      "Total params: 558,201\n",
      "Trainable params: 557,801\n",
      "Non-trainable params: 400\n",
      "_________________________________________________________________\n"
     ]
    }
   ],
   "source": [
    "model.summary()"
   ]
  },
  {
   "cell_type": "markdown",
   "metadata": {},
   "source": [
    "## Model evaluation"
   ]
  },
  {
   "cell_type": "code",
   "execution_count": 34,
   "metadata": {
    "ExecuteTime": {
     "end_time": "2021-02-13T13:29:25.136921Z",
     "start_time": "2021-02-13T13:29:23.235427Z"
    }
   },
   "outputs": [
    {
     "name": "stdout",
     "output_type": "stream",
     "text": [
      "53/53 [==============================] - 2s 34ms/step - loss: 0.7501 - precision_24: 0.7096 - accuracy: 0.6587\n"
     ]
    },
    {
     "data": {
      "text/plain": [
       "[0.7501091957092285, 0.709554135799408, 0.658682644367218]"
      ]
     },
     "execution_count": 34,
     "metadata": {},
     "output_type": "execute_result"
    }
   ],
   "source": [
    "results = model.evaluate(test_x, test_y)\n",
    "results"
   ]
  },
  {
   "cell_type": "code",
   "execution_count": 36,
   "metadata": {
    "ExecuteTime": {
     "end_time": "2021-02-13T13:30:19.409607Z",
     "start_time": "2021-02-13T13:30:19.404250Z"
    }
   },
   "outputs": [
    {
     "data": {
      "text/plain": [
       "0.7501091957092285"
      ]
     },
     "execution_count": 36,
     "metadata": {},
     "output_type": "execute_result"
    }
   ],
   "source": [
    "results[0]"
   ]
  },
  {
   "cell_type": "markdown",
   "metadata": {},
   "source": [
    "# Results Saving"
   ]
  },
  {
   "cell_type": "markdown",
   "metadata": {},
   "source": [
    "## Current results in `df`"
   ]
  },
  {
   "cell_type": "code",
   "execution_count": 91,
   "metadata": {
    "ExecuteTime": {
     "end_time": "2021-02-13T13:48:04.819003Z",
     "start_time": "2021-02-13T13:48:04.811030Z"
    }
   },
   "outputs": [],
   "source": [
    "df = pd.DataFrame(columns=['n_companies', 'companies_list', 'benchmark', 'loss', 'precision', 'accuracy'])"
   ]
  },
  {
   "cell_type": "code",
   "execution_count": 92,
   "metadata": {
    "ExecuteTime": {
     "end_time": "2021-02-13T13:48:04.998675Z",
     "start_time": "2021-02-13T13:48:04.995124Z"
    }
   },
   "outputs": [],
   "source": [
    "#len(rand_tickers)"
   ]
  },
  {
   "cell_type": "code",
   "execution_count": 93,
   "metadata": {
    "ExecuteTime": {
     "end_time": "2021-02-13T13:48:05.155764Z",
     "start_time": "2021-02-13T13:48:05.144423Z"
    }
   },
   "outputs": [],
   "source": [
    "df['n_companies'] = int(len(rand_tickers))\n",
    "df['companies_list'] = [', '.join(rand_tickers)]\n",
    "df['benchmark'] = test_y.sum()/len(test_y)\n",
    "df['loss'] = results[0]\n",
    "df['precision'] = results[1]\n",
    "df['accuracy'] = results[2]"
   ]
  },
  {
   "cell_type": "code",
   "execution_count": 94,
   "metadata": {
    "ExecuteTime": {
     "end_time": "2021-02-13T13:48:05.651066Z",
     "start_time": "2021-02-13T13:48:05.636768Z"
    }
   },
   "outputs": [
    {
     "data": {
      "text/html": [
       "<div>\n",
       "<style scoped>\n",
       "    .dataframe tbody tr th:only-of-type {\n",
       "        vertical-align: middle;\n",
       "    }\n",
       "\n",
       "    .dataframe tbody tr th {\n",
       "        vertical-align: top;\n",
       "    }\n",
       "\n",
       "    .dataframe thead th {\n",
       "        text-align: right;\n",
       "    }\n",
       "</style>\n",
       "<table border=\"1\" class=\"dataframe\">\n",
       "  <thead>\n",
       "    <tr style=\"text-align: right;\">\n",
       "      <th></th>\n",
       "      <th>n_companies</th>\n",
       "      <th>companies_list</th>\n",
       "      <th>benchmark</th>\n",
       "      <th>loss</th>\n",
       "      <th>precision</th>\n",
       "      <th>accuracy</th>\n",
       "    </tr>\n",
       "  </thead>\n",
       "  <tbody>\n",
       "    <tr>\n",
       "      <th>0</th>\n",
       "      <td>NaN</td>\n",
       "      <td>MXIM, UAL, ISRG, ULTA, MDLZ</td>\n",
       "      <td>0.538323</td>\n",
       "      <td>0.750109</td>\n",
       "      <td>0.709554</td>\n",
       "      <td>0.658683</td>\n",
       "    </tr>\n",
       "  </tbody>\n",
       "</table>\n",
       "</div>"
      ],
      "text/plain": [
       "   n_companies               companies_list  benchmark      loss  precision  \\\n",
       "0          NaN  MXIM, UAL, ISRG, ULTA, MDLZ   0.538323  0.750109   0.709554   \n",
       "\n",
       "   accuracy  \n",
       "0  0.658683  "
      ]
     },
     "execution_count": 94,
     "metadata": {},
     "output_type": "execute_result"
    }
   ],
   "source": [
    "df"
   ]
  },
  {
   "cell_type": "markdown",
   "metadata": {},
   "source": [
    "## Loading Previous Results"
   ]
  },
  {
   "cell_type": "markdown",
   "metadata": {
    "ExecuteTime": {
     "end_time": "2021-02-13T13:42:28.360145Z",
     "start_time": "2021-02-13T13:42:28.349273Z"
    }
   },
   "source": [
    "if 'charles_NASDAQ100_model_results' in os.listdir('stock_model_results/'):\n",
    "    previous_results_df = joblib.load('stock_model_results/charles_NASDAQ100_model_results')\n",
    "else:\n",
    "    previous_results_df = pd.DataFrame(columns=['n_companies', 'companies_list', 'benchmark', 'loss', 'precision', 'accuracy'])"
   ]
  },
  {
   "cell_type": "markdown",
   "metadata": {},
   "source": [
    "## Saving Current Results in New File on the Disk"
   ]
  },
  {
   "cell_type": "markdown",
   "metadata": {
    "ExecuteTime": {
     "end_time": "2021-02-13T13:45:10.174255Z",
     "start_time": "2021-02-13T13:45:10.164766Z"
    }
   },
   "source": [
    "saved_results_df = previous_results_df.append(df)"
   ]
  },
  {
   "cell_type": "markdown",
   "metadata": {
    "ExecuteTime": {
     "end_time": "2021-02-13T13:45:16.977631Z",
     "start_time": "2021-02-13T13:45:16.964424Z"
    }
   },
   "source": [
    "joblib.dump(saved_results_df,'stock_model_results/charles_NASDAQ100_model_results')"
   ]
  },
  {
   "cell_type": "markdown",
   "metadata": {
    "ExecuteTime": {
     "end_time": "2021-02-13T13:46:23.906948Z",
     "start_time": "2021-02-13T13:46:23.883326Z"
    }
   },
   "source": [
    "saving_process_test_df = joblib.load('stock_model_results/charles_NASDAQ100_model_results')\n",
    "saving_process_test_df"
   ]
  },
  {
   "cell_type": "markdown",
   "metadata": {},
   "source": [
    "# Testing Function "
   ]
  },
  {
   "cell_type": "code",
   "execution_count": 117,
   "metadata": {
    "ExecuteTime": {
     "end_time": "2021-02-13T15:36:23.641397Z",
     "start_time": "2021-02-13T15:36:23.598323Z"
    }
   },
   "outputs": [],
   "source": [
    "from mlchartist.array_builder import full_dataset_randomised_arrays_#, full_dataset_randomised_arrays\n",
    "from mlchartist.preprocessing import train_test_split, thresholds_encoding\n",
    "\n",
    "import pandas as pd\n",
    "import numpy as np\n",
    "import random\n",
    "import joblib\n",
    "import os\n",
    "\n",
    "from tensorflow.keras import models\n",
    "from termcolor import colored\n",
    "\n",
    "def model_testing_function(n_companies=5, n_test=25, trained_model_path='', rand=True, stocks_to_train=[],\n",
    "                           nrows = 3000, verbose=0, new_save=False,\n",
    "                           load_save_path='stock_model_results/charles_NASDAQ100_model_results',\n",
    "                           save_path='stock_model_results/charles_NASDAQ100_model_results',\n",
    "                           r5d=0.0006, same_thresholds=True, r10d=0.0012, r20d=0.0024, INPUT_COLS=[],\n",
    "                           TARGET_COLS=['10D_return_bin'], outlier_validation={'1D_past_return': [-0.3, 0.3]},\n",
    "                           stride = 1):\n",
    "    \"\"\"\n",
    "    Test `n_test` times the trained model saved for `n_companies`\n",
    "    \n",
    "    If  `rand` set to False, test on the `stocks_to_train` list\n",
    "    \n",
    "    You have access to some of the function parameters, see doc of the following functions:\n",
    "        -`thresholds_encoding()`\n",
    "        -`full_dataset_randomised_arrays_()`\n",
    "        \n",
    "        (see below to see other default values of `full_dataset_randomised_arrays_()`)\n",
    "    \n",
    "    Other parameters ar\n",
    "    \n",
    "    If you leave INPUT_COLS empty, its default value will be:\n",
    "        ['RSI', 'Stochastic', 'Stochastic_signal', 'ATR', 'ADX',\n",
    "        'ADX_pos', 'ADX_neg', 'MACD', 'MACD_diff','MACD_signal',\n",
    "        '1D_past_return', '5D_past_return', '10D_past_return']\n",
    "    \n",
    "    Other parameters of `full_dataset_randomised_arrays_()`:\n",
    "        -outlier_threshold=1\n",
    "        -check_train_outliers=True\n",
    "        -check_test_outliers=False\n",
    "        -time_window=30\n",
    "        -test_set_size='2Y'\n",
    "    \n",
    "    \"\"\"\n",
    "    \n",
    "    # Importing ticker list\n",
    "    nasdaq100 = pd.read_csv('../../raw_data/metadata/nasdaq100.csv', header=None)\n",
    "    nasdaq100_list = list(nasdaq100.values.flatten())\n",
    "        \n",
    "    \n",
    "    joined_df = pd.DataFrame()\n",
    "\n",
    "    for i in range(n_test):\n",
    "        \n",
    "        # Randomly select the stocks\n",
    "        rand_tickers = random.sample(nasdaq100_list, n_companies)\n",
    "        \n",
    "        \n",
    "        # Takes nrows from history from each company from the sample\n",
    "        joined_df = pd.DataFrame()\n",
    "        for ticker in rand_tickers:\n",
    "            ticker_path = '../../raw_data/processed/' + ticker.strip().lower() + '.csv'\n",
    "            ticker_df = pd.read_csv(ticker_path, nrows=nrows)\n",
    "            joined_df = joined_df.append(ticker_df)\n",
    "\n",
    "        if verbose ==2:\n",
    "            for tick in rand_tickers:\n",
    "                print(tick)\n",
    "\n",
    "        joined_df['date'] = pd.to_datetime(joined_df['date'])\n",
    "\n",
    "        # Drops 'ADI' and 'OBV' from input columns\n",
    "        # INPUT_COLS = ['RSI', 'Stochastic', 'Stochastic_signal', 'ADI','OBV', 'ATR', 'ADX', 'ADX_pos', 'ADX_neg', 'MACD', 'MACD_diff','MACD_signal', '1D_past_return', '5D_past_return', '10D_past_return']\n",
    "        if len(INPUT_COLS) == 0:\n",
    "            INPUT_COLS = ['RSI', 'Stochastic', 'Stochastic_signal', 'ATR', 'ADX', 'ADX_pos', 'ADX_neg', 'MACD', 'MACD_diff','MACD_signal', '1D_past_return', '5D_past_return', '10D_past_return']\n",
    "\n",
    "        joined_df = thresholds_encoding(joined_df, r5d=r5d, same_thresholds=same_thresholds, r10d=r10d, r20d=r20d)\n",
    "        \n",
    "        print('full_dataset_randomised_arrays_ verbose():')\n",
    "        train_x, train_y, test_x, test_y, scaler = full_dataset_randomised_arrays_(joined_df, \n",
    "                                                                                        stride=stride, \n",
    "                                                                                        input_cols=INPUT_COLS, \n",
    "                                                                                        outlier_threshold=1, \n",
    "                                                                                        outlier_validation=outlier_validation, \n",
    "                                                                                        check_train_outliers=True,\n",
    "                                                                                        check_test_outliers=False, \n",
    "                                                                                        target_col=TARGET_COLS, \n",
    "                                                                                        time_window=30,\n",
    "                                                                                        test_set_size='2Y')\n",
    "\n",
    "        if verbose == 2: \n",
    "            print('')\n",
    "            print('')\n",
    "            print('### Stats ###')\n",
    "            print('train_x', train_x.shape)\n",
    "            print('train_y', train_y.shape)\n",
    "            print('test_x', test_x.shape)\n",
    "            print('test_y', test_y.shape)\n",
    "            print('scaler', scaler)\n",
    "\n",
    "            print('')\n",
    "            print('')\n",
    "            print('### Validation ###')\n",
    "            \n",
    "        # Samples n rows of train_x\n",
    "        indx = list(range(len(train_x)))\n",
    "        sample_indx = random.sample(indx, 10000)\n",
    "        X_train_sample =  train_x[[sample_indx], :][0]\n",
    "        y_train_sample = train_y[[sample_indx]]\n",
    "\n",
    "        if verbose >=1:\n",
    "            print(f\"train_y.sum()/len(train_y): {train_y.sum()/len(train_y)}\")\n",
    "\n",
    "        # Model loading\n",
    "        model = models.load_model('../../models/Nasdaq_100_150k/')\n",
    "        results = model.evaluate(test_x, test_y, verbose=0)\n",
    "\n",
    "        if verbose >= 1:\n",
    "            print(results)\n",
    "        if verbose == 2:\n",
    "            print(model.summary())\n",
    "\n",
    "        # Current Results in `df`\n",
    "        df = pd.DataFrame(columns=['n_companies', 'companies_list', 'benchmark', 'loss', 'precision', 'accuracy'])\n",
    "        df['n_companies'] = int(len(rand_tickers))\n",
    "        df['companies_list'] = [', '.join(rand_tickers)]\n",
    "        df['benchmark'] = test_y.sum()/len(test_y)\n",
    "        df['loss'] = results[0]\n",
    "        df['precision'] = results[1]\n",
    "        df['accuracy'] = results[2]\n",
    "\n",
    "        if verbose >=1:\n",
    "            print(df)\n",
    "            print()\n",
    "\n",
    "        # Loading previous results\n",
    "        if 'charles_NASDAQ100_model_results' in os.listdir('stock_model_results/'):\n",
    "            previous_results_df = joblib.load('stock_model_results/charles_NASDAQ100_model_results')\n",
    "        else:\n",
    "            previous_results_df = pd.DataFrame(columns=['n_companies', 'companies_list', 'benchmark', 'loss', 'precision', 'accuracy'])\n",
    "\n",
    "        # Saving Current Results\n",
    "        saved_results_df = previous_results_df.append(df)\n",
    "        saved_results_df.reset_index(inplace=True)\n",
    "        joblib.dump(saved_results_df,'stock_model_results/charles_NASDAQ100_model_results')\n",
    "        \n",
    "        print(colored(f\"{i} iterations done on {len(n_test)}\", 'green'))\n",
    "        print()\n",
    "        print()\n",
    "    \n",
    "    return saved_results_df"
   ]
  },
  {
   "cell_type": "code",
   "execution_count": 112,
   "metadata": {
    "ExecuteTime": {
     "end_time": "2021-02-13T15:30:12.171221Z",
     "start_time": "2021-02-13T15:17:38.973569Z"
    }
   },
   "outputs": [
    {
     "name": "stdout",
     "output_type": "stream",
     "text": [
      "full_dataset_randomised_arrays_ verbose():\n",
      "5 Companies in Dataset\n",
      "Starting AVGO: Company 1 of 5\n",
      "Starting ADBE: Company 2 of 5\n",
      "Starting ASML: Company 3 of 5\n",
      "Starting QCOM: Company 4 of 5\n",
      "Starting GOOG: Company 5 of 5\n",
      "All Companies Completed\n",
      "\n",
      "Processing Stats: {'AVGO': {'train_possible_windows': 2334.0, 'train_outliers': 29, 'train_windows': 2305, 'test_possible_windows': 500.0, 'test_outliers': 29, 'test_windows': 471}, 'ADBE': {'train_possible_windows': 2592.0, 'train_outliers': 89, 'train_windows': 2503, 'test_possible_windows': 408.0, 'test_outliers': 29, 'test_windows': 379}, 'ASML': {'train_possible_windows': 2698.0, 'train_outliers': 59, 'train_windows': 2639, 'test_possible_windows': 302.0, 'test_outliers': 29, 'test_windows': 273}, 'QCOM': {'train_possible_windows': 2499.0, 'train_outliers': 119, 'train_windows': 2380, 'test_possible_windows': 501.0, 'test_outliers': 29, 'test_windows': 472}, 'GOOG': {'train_possible_windows': 1167.0, 'train_outliers': 29, 'train_windows': 1138, 'test_possible_windows': 500.0, 'test_outliers': 29, 'test_windows': 471}}\n"
     ]
    },
    {
     "name": "stderr",
     "output_type": "stream",
     "text": [
      "/home/bob/.pyenv/versions/3.7.7/envs/lewagon/lib/python3.7/site-packages/ipykernel_launcher.py:109: FutureWarning: Using a non-tuple sequence for multidimensional indexing is deprecated; use `arr[tuple(seq)]` instead of `arr[seq]`. In the future this will be interpreted as an array index, `arr[np.array(seq)]`, which will result either in an error or a different result.\n"
     ]
    },
    {
     "name": "stdout",
     "output_type": "stream",
     "text": [
      "65/65 [==============================] - 2s 33ms/step - loss: 1.0171 - precision_24: 0.6184 - accuracy: 0.5479\n",
      "full_dataset_randomised_arrays_ verbose():\n",
      "5 Companies in Dataset\n",
      "Starting WDC: Company 1 of 5\n",
      "Starting REGN: Company 2 of 5\n",
      "Starting LRCX: Company 3 of 5\n",
      "Starting EA: Company 4 of 5\n",
      "Starting MELI: Company 5 of 5\n",
      "All Companies Completed\n",
      "\n",
      "Processing Stats: {'WDC': {'train_possible_windows': 2698.0, 'train_outliers': 29, 'train_windows': 2669, 'test_possible_windows': 302.0, 'test_outliers': 29, 'test_windows': 273}, 'REGN': {'train_possible_windows': 2697.0, 'train_outliers': 29, 'train_windows': 2668, 'test_possible_windows': 303.0, 'test_outliers': 29, 'test_windows': 274}, 'LRCX': {'train_possible_windows': 2682.0, 'train_outliers': 59, 'train_windows': 2623, 'test_possible_windows': 318.0, 'test_outliers': 29, 'test_windows': 289}, 'EA': {'train_possible_windows': 1734.0, 'train_outliers': 29, 'train_windows': 1705, 'test_possible_windows': 500.0, 'test_outliers': 29, 'test_windows': 471}, 'MELI': {'train_possible_windows': 2584.0, 'train_outliers': 89, 'train_windows': 2495, 'test_possible_windows': 416.0, 'test_outliers': 29, 'test_windows': 387}}\n"
     ]
    },
    {
     "name": "stderr",
     "output_type": "stream",
     "text": [
      "/home/bob/.pyenv/versions/3.7.7/envs/lewagon/lib/python3.7/site-packages/ipykernel_launcher.py:109: FutureWarning: Using a non-tuple sequence for multidimensional indexing is deprecated; use `arr[tuple(seq)]` instead of `arr[seq]`. In the future this will be interpreted as an array index, `arr[np.array(seq)]`, which will result either in an error or a different result.\n"
     ]
    },
    {
     "name": "stdout",
     "output_type": "stream",
     "text": [
      "53/53 [==============================] - 2s 38ms/step - loss: 0.7699 - precision_24: 0.7382 - accuracy: 0.6724\n",
      "full_dataset_randomised_arrays_ verbose():\n",
      "5 Companies in Dataset\n",
      "Starting CSCO: Company 1 of 5\n",
      "Starting LRCX: Company 2 of 5\n",
      "Starting FISV: Company 3 of 5\n",
      "Starting AVGO: Company 4 of 5\n",
      "Starting CTSH: Company 5 of 5\n",
      "All Companies Completed\n",
      "\n",
      "Processing Stats: {'CSCO': {'train_possible_windows': 2684.0, 'train_outliers': 29, 'train_windows': 2655, 'test_possible_windows': 316.0, 'test_outliers': 29, 'test_windows': 287}, 'LRCX': {'train_possible_windows': 2682.0, 'train_outliers': 59, 'train_windows': 2623, 'test_possible_windows': 318.0, 'test_outliers': 29, 'test_windows': 289}, 'FISV': {'train_possible_windows': 2688.0, 'train_outliers': 29, 'train_windows': 2659, 'test_possible_windows': 312.0, 'test_outliers': 29, 'test_windows': 283}, 'AVGO': {'train_possible_windows': 2334.0, 'train_outliers': 29, 'train_windows': 2305, 'test_possible_windows': 500.0, 'test_outliers': 29, 'test_windows': 471}, 'CTSH': {'train_possible_windows': 2698.0, 'train_outliers': 29, 'train_windows': 2669, 'test_possible_windows': 302.0, 'test_outliers': 29, 'test_windows': 273}}\n"
     ]
    },
    {
     "name": "stderr",
     "output_type": "stream",
     "text": [
      "/home/bob/.pyenv/versions/3.7.7/envs/lewagon/lib/python3.7/site-packages/ipykernel_launcher.py:109: FutureWarning: Using a non-tuple sequence for multidimensional indexing is deprecated; use `arr[tuple(seq)]` instead of `arr[seq]`. In the future this will be interpreted as an array index, `arr[np.array(seq)]`, which will result either in an error or a different result.\n"
     ]
    },
    {
     "name": "stdout",
     "output_type": "stream",
     "text": [
      "51/51 [==============================] - 2s 33ms/step - loss: 1.0502 - precision_24: 0.5539 - accuracy: 0.5047\n",
      "full_dataset_randomised_arrays_ verbose():\n",
      "5 Companies in Dataset\n",
      "Starting NVDA: Company 1 of 5\n",
      "Starting CTX: Company 2 of 5\n",
      "Starting INTC: Company 3 of 5\n",
      "Starting BID: Company 4 of 5\n",
      "Starting BIIB: Company 5 of 5\n",
      "All Companies Completed\n",
      "\n",
      "Processing Stats: {'NVDA': {'train_possible_windows': 2720.0, 'train_outliers': 209, 'train_windows': 2511, 'test_possible_windows': 280.0, 'test_outliers': 29, 'test_windows': 251}, 'CTX': {'train_possible_windows': 2747.0, 'train_outliers': 119, 'train_windows': 2628, 'test_possible_windows': 253.0, 'test_outliers': 29, 'test_windows': 224}, 'INTC': {'train_possible_windows': 2569.0, 'train_outliers': 249, 'train_windows': 2320, 'test_possible_windows': 431.0, 'test_outliers': 29, 'test_windows': 402}, 'BID': {'train_possible_windows': 2587.0, 'train_outliers': 59, 'train_windows': 2528, 'test_possible_windows': 413.0, 'test_outliers': 29, 'test_windows': 384}, 'BIIB': {'train_possible_windows': 2560.0, 'train_outliers': 29, 'train_windows': 2531, 'test_possible_windows': 440.0, 'test_outliers': 29, 'test_windows': 411}}\n"
     ]
    },
    {
     "name": "stderr",
     "output_type": "stream",
     "text": [
      "/home/bob/.pyenv/versions/3.7.7/envs/lewagon/lib/python3.7/site-packages/ipykernel_launcher.py:109: FutureWarning: Using a non-tuple sequence for multidimensional indexing is deprecated; use `arr[tuple(seq)]` instead of `arr[seq]`. In the future this will be interpreted as an array index, `arr[np.array(seq)]`, which will result either in an error or a different result.\n"
     ]
    },
    {
     "name": "stdout",
     "output_type": "stream",
     "text": [
      "53/53 [==============================] - 2s 32ms/step - loss: 1.0642 - precision_24: 0.5428 - accuracy: 0.5245\n",
      "full_dataset_randomised_arrays_ verbose():\n",
      "5 Companies in Dataset\n",
      "Starting KLAC: Company 1 of 5\n",
      "Starting SWK: Company 2 of 5\n",
      "Starting HA: Company 3 of 5\n",
      "Starting EXPE: Company 4 of 5\n",
      "Starting M: Company 5 of 5\n",
      "All Companies Completed\n",
      "\n",
      "Processing Stats: {'KLAC': {'train_possible_windows': 2688.0, 'train_outliers': 29, 'train_windows': 2659, 'test_possible_windows': 312.0, 'test_outliers': 29, 'test_windows': 283}, 'SWK': {'train_possible_windows': 2698.0, 'train_outliers': 89, 'train_windows': 2609, 'test_possible_windows': 302.0, 'test_outliers': 29, 'test_windows': 273}, 'HA': {'train_possible_windows': 2504.0, 'train_outliers': 29, 'train_windows': 2475, 'test_possible_windows': 496.0, 'test_outliers': 29, 'test_windows': 467}, 'EXPE': {'train_possible_windows': 2598.0, 'train_outliers': 29, 'train_windows': 2569, 'test_possible_windows': 402.0, 'test_outliers': 29, 'test_windows': 373}, 'M': {'train_possible_windows': 2653.0, 'train_outliers': 29, 'train_windows': 2624, 'test_possible_windows': 347.0, 'test_outliers': 29, 'test_windows': 318}}\n"
     ]
    },
    {
     "name": "stderr",
     "output_type": "stream",
     "text": [
      "/home/bob/.pyenv/versions/3.7.7/envs/lewagon/lib/python3.7/site-packages/ipykernel_launcher.py:109: FutureWarning: Using a non-tuple sequence for multidimensional indexing is deprecated; use `arr[tuple(seq)]` instead of `arr[seq]`. In the future this will be interpreted as an array index, `arr[np.array(seq)]`, which will result either in an error or a different result.\n"
     ]
    },
    {
     "name": "stdout",
     "output_type": "stream",
     "text": [
      "54/54 [==============================] - 2s 37ms/step - loss: 0.9786 - precision_24: 0.5915 - accuracy: 0.5478\n",
      "full_dataset_randomised_arrays_ verbose():\n",
      "5 Companies in Dataset\n",
      "Starting EXC: Company 1 of 5\n",
      "Starting VRSN: Company 2 of 5\n",
      "Starting AMD: Company 3 of 5\n",
      "Starting FISV: Company 4 of 5\n",
      "Starting AAL: Company 5 of 5\n",
      "All Companies Completed\n",
      "\n",
      "Processing Stats: {'EXC': {'train_possible_windows': 2495.0, 'train_outliers': 29, 'train_windows': 2466, 'test_possible_windows': 505.0, 'test_outliers': 29, 'test_windows': 476}, 'VRSN': {'train_possible_windows': 2712.0, 'train_outliers': 89, 'train_windows': 2623, 'test_possible_windows': 288.0, 'test_outliers': 29, 'test_windows': 259}, 'AMD': {'train_possible_windows': 2695.0, 'train_outliers': 89, 'train_windows': 2606, 'test_possible_windows': 305.0, 'test_outliers': 29, 'test_windows': 276}, 'FISV': {'train_possible_windows': 2688.0, 'train_outliers': 29, 'train_windows': 2659, 'test_possible_windows': 312.0, 'test_outliers': 29, 'test_windows': 283}, 'AAL': {'train_possible_windows': 1240.0, 'train_outliers': 29, 'train_windows': 1211, 'test_possible_windows': 500.0, 'test_outliers': 29, 'test_windows': 471}}\n"
     ]
    },
    {
     "name": "stderr",
     "output_type": "stream",
     "text": [
      "/home/bob/.pyenv/versions/3.7.7/envs/lewagon/lib/python3.7/site-packages/ipykernel_launcher.py:109: FutureWarning: Using a non-tuple sequence for multidimensional indexing is deprecated; use `arr[tuple(seq)]` instead of `arr[seq]`. In the future this will be interpreted as an array index, `arr[np.array(seq)]`, which will result either in an error or a different result.\n"
     ]
    },
    {
     "name": "stdout",
     "output_type": "stream",
     "text": [
      "56/56 [==============================] - 2s 33ms/step - loss: 1.1389 - precision_24: 0.5466 - accuracy: 0.5184\n",
      "full_dataset_randomised_arrays_ verbose():\n",
      "5 Companies in Dataset\n",
      "Starting KLAC: Company 1 of 5\n",
      "Starting INT: Company 2 of 5\n",
      "Starting AMD: Company 3 of 5\n",
      "Starting KHC: Company 4 of 5\n",
      "Starting PYPL: Company 5 of 5\n",
      "All Companies Completed\n",
      "\n",
      "Processing Stats: {'KLAC': {'train_possible_windows': 2688.0, 'train_outliers': 29, 'train_windows': 2659, 'test_possible_windows': 312.0, 'test_outliers': 29, 'test_windows': 283}, 'INT': {'train_possible_windows': 2684.0, 'train_outliers': 59, 'train_windows': 2625, 'test_possible_windows': 316.0, 'test_outliers': 29, 'test_windows': 287}, 'AMD': {'train_possible_windows': 2695.0, 'train_outliers': 89, 'train_windows': 2606, 'test_possible_windows': 305.0, 'test_outliers': 29, 'test_windows': 276}, 'KHC': {'train_possible_windows': 847.0, 'train_outliers': 29, 'train_windows': 818, 'test_possible_windows': 500.0, 'test_outliers': 29, 'test_windows': 471}, 'PYPL': {'train_possible_windows': 847.0, 'train_outliers': 29, 'train_windows': 818, 'test_possible_windows': 500.0, 'test_outliers': 29, 'test_windows': 471}}\n"
     ]
    },
    {
     "ename": "ValueError",
     "evalue": "Sample larger than population or is negative",
     "output_type": "error",
     "traceback": [
      "\u001b[0;31m---------------------------------------------------------------------------\u001b[0m",
      "\u001b[0;31mValueError\u001b[0m                                Traceback (most recent call last)",
      "\u001b[0;32m<ipython-input-112-9e838e8490c4>\u001b[0m in \u001b[0;36m<module>\u001b[0;34m\u001b[0m\n\u001b[0;32m----> 1\u001b[0;31m \u001b[0mcomprehensive_model_result\u001b[0m \u001b[0;34m=\u001b[0m \u001b[0mmodel_testing_function\u001b[0m\u001b[0;34m(\u001b[0m\u001b[0;34m)\u001b[0m\u001b[0;34m\u001b[0m\u001b[0;34m\u001b[0m\u001b[0m\n\u001b[0m",
      "\u001b[0;32m<ipython-input-111-61d0ec428398>\u001b[0m in \u001b[0;36mmodel_testing_function\u001b[0;34m(n_companies, n_test, trained_model_path, rand, stocks_to_train, nrows, verbose, new_save, load_save_path, save_path, r5d, same_thresholds, r10d, r20d, INPUT_COLS, TARGET_COLS, outlier_validation, stride)\u001b[0m\n\u001b[1;32m    105\u001b[0m         \u001b[0;31m# Samples n rows of train_x\u001b[0m\u001b[0;34m\u001b[0m\u001b[0;34m\u001b[0m\u001b[0;34m\u001b[0m\u001b[0m\n\u001b[1;32m    106\u001b[0m         \u001b[0mindx\u001b[0m \u001b[0;34m=\u001b[0m \u001b[0mlist\u001b[0m\u001b[0;34m(\u001b[0m\u001b[0mrange\u001b[0m\u001b[0;34m(\u001b[0m\u001b[0mlen\u001b[0m\u001b[0;34m(\u001b[0m\u001b[0mtrain_x\u001b[0m\u001b[0;34m)\u001b[0m\u001b[0;34m)\u001b[0m\u001b[0;34m)\u001b[0m\u001b[0;34m\u001b[0m\u001b[0;34m\u001b[0m\u001b[0m\n\u001b[0;32m--> 107\u001b[0;31m         \u001b[0msample_indx\u001b[0m \u001b[0;34m=\u001b[0m \u001b[0mrandom\u001b[0m\u001b[0;34m.\u001b[0m\u001b[0msample\u001b[0m\u001b[0;34m(\u001b[0m\u001b[0mindx\u001b[0m\u001b[0;34m,\u001b[0m \u001b[0;36m10000\u001b[0m\u001b[0;34m)\u001b[0m\u001b[0;34m\u001b[0m\u001b[0;34m\u001b[0m\u001b[0m\n\u001b[0m\u001b[1;32m    108\u001b[0m         \u001b[0mX_train_sample\u001b[0m \u001b[0;34m=\u001b[0m  \u001b[0mtrain_x\u001b[0m\u001b[0;34m[\u001b[0m\u001b[0;34m[\u001b[0m\u001b[0msample_indx\u001b[0m\u001b[0;34m]\u001b[0m\u001b[0;34m,\u001b[0m \u001b[0;34m:\u001b[0m\u001b[0;34m]\u001b[0m\u001b[0;34m[\u001b[0m\u001b[0;36m0\u001b[0m\u001b[0;34m]\u001b[0m\u001b[0;34m\u001b[0m\u001b[0;34m\u001b[0m\u001b[0m\n\u001b[1;32m    109\u001b[0m         \u001b[0my_train_sample\u001b[0m \u001b[0;34m=\u001b[0m \u001b[0mtrain_y\u001b[0m\u001b[0;34m[\u001b[0m\u001b[0;34m[\u001b[0m\u001b[0msample_indx\u001b[0m\u001b[0;34m]\u001b[0m\u001b[0;34m]\u001b[0m\u001b[0;34m\u001b[0m\u001b[0;34m\u001b[0m\u001b[0m\n",
      "\u001b[0;32m~/.pyenv/versions/3.7.7/lib/python3.7/random.py\u001b[0m in \u001b[0;36msample\u001b[0;34m(self, population, k)\u001b[0m\n\u001b[1;32m    319\u001b[0m         \u001b[0mn\u001b[0m \u001b[0;34m=\u001b[0m \u001b[0mlen\u001b[0m\u001b[0;34m(\u001b[0m\u001b[0mpopulation\u001b[0m\u001b[0;34m)\u001b[0m\u001b[0;34m\u001b[0m\u001b[0;34m\u001b[0m\u001b[0m\n\u001b[1;32m    320\u001b[0m         \u001b[0;32mif\u001b[0m \u001b[0;32mnot\u001b[0m \u001b[0;36m0\u001b[0m \u001b[0;34m<=\u001b[0m \u001b[0mk\u001b[0m \u001b[0;34m<=\u001b[0m \u001b[0mn\u001b[0m\u001b[0;34m:\u001b[0m\u001b[0;34m\u001b[0m\u001b[0;34m\u001b[0m\u001b[0m\n\u001b[0;32m--> 321\u001b[0;31m             \u001b[0;32mraise\u001b[0m \u001b[0mValueError\u001b[0m\u001b[0;34m(\u001b[0m\u001b[0;34m\"Sample larger than population or is negative\"\u001b[0m\u001b[0;34m)\u001b[0m\u001b[0;34m\u001b[0m\u001b[0;34m\u001b[0m\u001b[0m\n\u001b[0m\u001b[1;32m    322\u001b[0m         \u001b[0mresult\u001b[0m \u001b[0;34m=\u001b[0m \u001b[0;34m[\u001b[0m\u001b[0;32mNone\u001b[0m\u001b[0;34m]\u001b[0m \u001b[0;34m*\u001b[0m \u001b[0mk\u001b[0m\u001b[0;34m\u001b[0m\u001b[0;34m\u001b[0m\u001b[0m\n\u001b[1;32m    323\u001b[0m         \u001b[0msetsize\u001b[0m \u001b[0;34m=\u001b[0m \u001b[0;36m21\u001b[0m        \u001b[0;31m# size of a small set minus size of an empty list\u001b[0m\u001b[0;34m\u001b[0m\u001b[0;34m\u001b[0m\u001b[0m\n",
      "\u001b[0;31mValueError\u001b[0m: Sample larger than population or is negative"
     ]
    }
   ],
   "source": [
    "comprehensive_model_result = model_testing_function()"
   ]
  },
  {
   "cell_type": "code",
   "execution_count": 115,
   "metadata": {
    "ExecuteTime": {
     "end_time": "2021-02-13T15:32:33.997719Z",
     "start_time": "2021-02-13T15:32:33.971903Z"
    }
   },
   "outputs": [],
   "source": [
    "comprehensive_model_result_broken = joblib.load('stock_model_results/charles_NASDAQ100_model_results')"
   ]
  },
  {
   "cell_type": "code",
   "execution_count": 116,
   "metadata": {
    "ExecuteTime": {
     "end_time": "2021-02-13T15:32:38.012498Z",
     "start_time": "2021-02-13T15:32:37.989010Z"
    }
   },
   "outputs": [
    {
     "data": {
      "text/html": [
       "<div>\n",
       "<style scoped>\n",
       "    .dataframe tbody tr th:only-of-type {\n",
       "        vertical-align: middle;\n",
       "    }\n",
       "\n",
       "    .dataframe tbody tr th {\n",
       "        vertical-align: top;\n",
       "    }\n",
       "\n",
       "    .dataframe thead th {\n",
       "        text-align: right;\n",
       "    }\n",
       "</style>\n",
       "<table border=\"1\" class=\"dataframe\">\n",
       "  <thead>\n",
       "    <tr style=\"text-align: right;\">\n",
       "      <th></th>\n",
       "      <th>n_companies</th>\n",
       "      <th>companies_list</th>\n",
       "      <th>benchmark</th>\n",
       "      <th>loss</th>\n",
       "      <th>precision</th>\n",
       "      <th>accuracy</th>\n",
       "    </tr>\n",
       "  </thead>\n",
       "  <tbody>\n",
       "    <tr>\n",
       "      <th>0</th>\n",
       "      <td>NaN</td>\n",
       "      <td>ALGN, INCY, SNPS, WDAY, XLNX</td>\n",
       "      <td>0.571779</td>\n",
       "      <td>0.949156</td>\n",
       "      <td>0.637421</td>\n",
       "      <td>0.587730</td>\n",
       "    </tr>\n",
       "    <tr>\n",
       "      <th>0</th>\n",
       "      <td>NaN</td>\n",
       "      <td>NXPI, WDAY, AMZN, ROST, ALGN</td>\n",
       "      <td>0.591757</td>\n",
       "      <td>0.990161</td>\n",
       "      <td>0.618377</td>\n",
       "      <td>0.525202</td>\n",
       "    </tr>\n",
       "    <tr>\n",
       "      <th>0</th>\n",
       "      <td>NaN</td>\n",
       "      <td>AVGO, ADBE, ASML, QCOM, GOOG</td>\n",
       "      <td>0.579380</td>\n",
       "      <td>1.017072</td>\n",
       "      <td>0.618362</td>\n",
       "      <td>0.547919</td>\n",
       "    </tr>\n",
       "    <tr>\n",
       "      <th>0</th>\n",
       "      <td>NaN</td>\n",
       "      <td>WDC, REGN, LRCX, EA, MELI</td>\n",
       "      <td>0.560803</td>\n",
       "      <td>0.769861</td>\n",
       "      <td>0.738239</td>\n",
       "      <td>0.672373</td>\n",
       "    </tr>\n",
       "    <tr>\n",
       "      <th>0</th>\n",
       "      <td>NaN</td>\n",
       "      <td>CSCO, LRCX, FISV, AVGO, CTSH</td>\n",
       "      <td>0.541485</td>\n",
       "      <td>1.050175</td>\n",
       "      <td>0.553936</td>\n",
       "      <td>0.504679</td>\n",
       "    </tr>\n",
       "    <tr>\n",
       "      <th>0</th>\n",
       "      <td>NaN</td>\n",
       "      <td>NVDA, CTXS, INTC, BIDU, BIIB</td>\n",
       "      <td>0.514354</td>\n",
       "      <td>1.064222</td>\n",
       "      <td>0.542819</td>\n",
       "      <td>0.524522</td>\n",
       "    </tr>\n",
       "    <tr>\n",
       "      <th>0</th>\n",
       "      <td>NaN</td>\n",
       "      <td>KLAC, SWKS, HAS, EXPE, MU</td>\n",
       "      <td>0.537923</td>\n",
       "      <td>0.978591</td>\n",
       "      <td>0.591532</td>\n",
       "      <td>0.547841</td>\n",
       "    </tr>\n",
       "    <tr>\n",
       "      <th>0</th>\n",
       "      <td>NaN</td>\n",
       "      <td>EXC, VRSN, AMD, FISV, AAL</td>\n",
       "      <td>0.530878</td>\n",
       "      <td>1.138875</td>\n",
       "      <td>0.546624</td>\n",
       "      <td>0.518414</td>\n",
       "    </tr>\n",
       "  </tbody>\n",
       "</table>\n",
       "</div>"
      ],
      "text/plain": [
       "   n_companies                companies_list  benchmark      loss  precision  \\\n",
       "0          NaN  ALGN, INCY, SNPS, WDAY, XLNX   0.571779  0.949156   0.637421   \n",
       "0          NaN  NXPI, WDAY, AMZN, ROST, ALGN   0.591757  0.990161   0.618377   \n",
       "0          NaN  AVGO, ADBE, ASML, QCOM, GOOG   0.579380  1.017072   0.618362   \n",
       "0          NaN     WDC, REGN, LRCX, EA, MELI   0.560803  0.769861   0.738239   \n",
       "0          NaN  CSCO, LRCX, FISV, AVGO, CTSH   0.541485  1.050175   0.553936   \n",
       "0          NaN  NVDA, CTXS, INTC, BIDU, BIIB   0.514354  1.064222   0.542819   \n",
       "0          NaN     KLAC, SWKS, HAS, EXPE, MU   0.537923  0.978591   0.591532   \n",
       "0          NaN     EXC, VRSN, AMD, FISV, AAL   0.530878  1.138875   0.546624   \n",
       "\n",
       "   accuracy  \n",
       "0  0.587730  \n",
       "0  0.525202  \n",
       "0  0.547919  \n",
       "0  0.672373  \n",
       "0  0.504679  \n",
       "0  0.524522  \n",
       "0  0.547841  \n",
       "0  0.518414  "
      ]
     },
     "execution_count": 116,
     "metadata": {},
     "output_type": "execute_result"
    }
   ],
   "source": [
    "comprehensive_model_result_broken"
   ]
  },
  {
   "cell_type": "code",
   "execution_count": null,
   "metadata": {},
   "outputs": [],
   "source": []
  }
 ],
 "metadata": {
  "kernelspec": {
   "display_name": "Python 3",
   "language": "python",
   "name": "python3"
  },
  "language_info": {
   "codemirror_mode": {
    "name": "ipython",
    "version": 3
   },
   "file_extension": ".py",
   "mimetype": "text/x-python",
   "name": "python",
   "nbconvert_exporter": "python",
   "pygments_lexer": "ipython3",
   "version": "3.7.7"
  },
  "toc": {
   "base_numbering": 1,
   "nav_menu": {},
   "number_sections": true,
   "sideBar": true,
   "skip_h1_title": false,
   "title_cell": "Table of Contents",
   "title_sidebar": "Contents",
   "toc_cell": false,
   "toc_position": {
    "height": "calc(100% - 180px)",
    "left": "10px",
    "top": "150px",
    "width": "210.2px"
   },
   "toc_section_display": true,
   "toc_window_display": true
  },
  "varInspector": {
   "cols": {
    "lenName": 16,
    "lenType": 16,
    "lenVar": 40
   },
   "kernels_config": {
    "python": {
     "delete_cmd_postfix": "",
     "delete_cmd_prefix": "del ",
     "library": "var_list.py",
     "varRefreshCmd": "print(var_dic_list())"
    },
    "r": {
     "delete_cmd_postfix": ") ",
     "delete_cmd_prefix": "rm(",
     "library": "var_list.r",
     "varRefreshCmd": "cat(var_dic_list()) "
    }
   },
   "types_to_exclude": [
    "module",
    "function",
    "builtin_function_or_method",
    "instance",
    "_Feature"
   ],
   "window_display": false
  }
 },
 "nbformat": 4,
 "nbformat_minor": 4
}
