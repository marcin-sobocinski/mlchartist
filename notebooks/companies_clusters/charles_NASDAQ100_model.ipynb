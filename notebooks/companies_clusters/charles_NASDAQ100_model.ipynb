{
 "cells": [
  {
   "cell_type": "code",
   "execution_count": 1,
   "metadata": {
    "ExecuteTime": {
     "end_time": "2021-02-12T13:06:46.793753Z",
     "start_time": "2021-02-12T13:06:45.347156Z"
    }
   },
   "outputs": [],
   "source": [
    "from mlchartist.array_builder import full_dataset_randomised_arrays_\n",
    "from mlchartist.preprocessing import train_test_split, thresholds_encoding\n",
    "\n",
    "import pandas as pd\n",
    "import numpy as np\n",
    "import matplotlib.pyplot as plt\n",
    "import random"
   ]
  },
  {
   "cell_type": "markdown",
   "metadata": {},
   "source": [
    "# Preprocessing"
   ]
  },
  {
   "cell_type": "markdown",
   "metadata": {},
   "source": [
    "## Importing NASDAQ_100 Files"
   ]
  },
  {
   "cell_type": "code",
   "execution_count": 2,
   "metadata": {
    "ExecuteTime": {
     "end_time": "2021-02-12T13:06:46.805603Z",
     "start_time": "2021-02-12T13:06:46.796900Z"
    }
   },
   "outputs": [],
   "source": [
    "# Reads Nasdaq 100 components\n",
    "\n",
    "nasdaq100 = pd.read_csv('../../raw_data/metadata/nasdaq100.csv', header=None)"
   ]
  },
  {
   "cell_type": "code",
   "execution_count": 3,
   "metadata": {
    "ExecuteTime": {
     "end_time": "2021-02-12T13:06:46.827924Z",
     "start_time": "2021-02-12T13:06:46.808712Z"
    }
   },
   "outputs": [],
   "source": [
    "nasdaq100_list = list(nasdaq100.values.flatten())"
   ]
  },
  {
   "cell_type": "code",
   "execution_count": 26,
   "metadata": {
    "ExecuteTime": {
     "end_time": "2021-02-12T13:07:30.819854Z",
     "start_time": "2021-02-12T13:07:30.809231Z"
    }
   },
   "outputs": [
    {
     "data": {
      "text/plain": [
       "['INTC', 'CTSH', 'ALXN', 'ILMN', 'ALGN']"
      ]
     },
     "execution_count": 26,
     "metadata": {},
     "output_type": "execute_result"
    }
   ],
   "source": [
    "# Samples n random companies from Nasdaq 100 list\n",
    "\n",
    "rand_tickers = random.sample(nasdaq100_list, 5)\n",
    "rand_tickers"
   ]
  },
  {
   "cell_type": "code",
   "execution_count": 27,
   "metadata": {
    "ExecuteTime": {
     "end_time": "2021-02-12T13:07:31.496673Z",
     "start_time": "2021-02-12T13:07:31.347925Z"
    }
   },
   "outputs": [],
   "source": [
    "joined_df = pd.DataFrame()\n",
    "\n",
    "# Takes nrows from history from each company from the sample\n",
    "nrows = 3000\n",
    "\n",
    "for ticker in rand_tickers:\n",
    "    ticker_path = '../../raw_data/processed/' + ticker.strip().lower() + '.csv'\n",
    "    ticker_df = pd.read_csv(ticker_path, nrows=nrows)\n",
    "    joined_df = joined_df.append(ticker_df)\n",
    "    "
   ]
  },
  {
   "cell_type": "code",
   "execution_count": 28,
   "metadata": {
    "ExecuteTime": {
     "end_time": "2021-02-12T13:07:34.018928Z",
     "start_time": "2021-02-12T13:07:34.012019Z"
    }
   },
   "outputs": [
    {
     "name": "stdout",
     "output_type": "stream",
     "text": [
      "INTC\n",
      "CTSH\n",
      "ALXN\n",
      "ILMN\n",
      "ALGN\n"
     ]
    }
   ],
   "source": [
    "# Prints sample tickers list\n",
    "\n",
    "for tick in rand_tickers:\n",
    "    print(tick)"
   ]
  },
  {
   "cell_type": "code",
   "execution_count": 29,
   "metadata": {
    "ExecuteTime": {
     "end_time": "2021-02-12T13:07:37.234368Z",
     "start_time": "2021-02-12T13:07:37.184951Z"
    }
   },
   "outputs": [],
   "source": [
    "joined_df['date'] = pd.to_datetime(joined_df['date'])\n",
    "\n",
    "#FIVE_TR = 0.0006\n",
    "#TEN_TR = 0.0012\n",
    "#TWENTY_TR = 0.0024\n",
    "\n",
    "# Drops 'ADI' and 'OBV' from input columns\n",
    "# INPUT_COLS = ['RSI', 'Stochastic', 'Stochastic_signal', 'ADI','OBV', 'ATR', 'ADX', 'ADX_pos', 'ADX_neg', 'MACD', 'MACD_diff','MACD_signal', '1D_past_return', '5D_past_return', '10D_past_return']\n",
    "INPUT_COLS = ['RSI', 'Stochastic', 'Stochastic_signal', 'ATR', 'ADX', 'ADX_pos', 'ADX_neg', 'MACD', 'MACD_diff','MACD_signal', '1D_past_return', '5D_past_return', '10D_past_return']\n",
    "\n",
    "joined_df = thresholds_encoding(joined_df)\n",
    "\n",
    "#joined_df['5D_return_bin'] = (joined_df['5TD_return'] >= FIVE_TR)\n",
    "#joined_df['10D_return_bin'] = (joined_df['10TD_return'] >= TEN_TR)\n",
    "#joined_df['20D_return_bin'] = (joined_df['20TD_return'] >= TWENTY_TR)"
   ]
  },
  {
   "cell_type": "code",
   "execution_count": 30,
   "metadata": {
    "ExecuteTime": {
     "end_time": "2021-02-12T13:07:38.213158Z",
     "start_time": "2021-02-12T13:07:38.171139Z"
    }
   },
   "outputs": [
    {
     "data": {
      "text/html": [
       "<div>\n",
       "<style scoped>\n",
       "    .dataframe tbody tr th:only-of-type {\n",
       "        vertical-align: middle;\n",
       "    }\n",
       "\n",
       "    .dataframe tbody tr th {\n",
       "        vertical-align: top;\n",
       "    }\n",
       "\n",
       "    .dataframe thead th {\n",
       "        text-align: right;\n",
       "    }\n",
       "</style>\n",
       "<table border=\"1\" class=\"dataframe\">\n",
       "  <thead>\n",
       "    <tr style=\"text-align: right;\">\n",
       "      <th></th>\n",
       "      <th>ticker</th>\n",
       "      <th>date</th>\n",
       "      <th>RSI</th>\n",
       "      <th>Stochastic</th>\n",
       "      <th>Stochastic_signal</th>\n",
       "      <th>ADI</th>\n",
       "      <th>OBV</th>\n",
       "      <th>ATR</th>\n",
       "      <th>ADX</th>\n",
       "      <th>ADX_pos</th>\n",
       "      <th>...</th>\n",
       "      <th>MACD_signal</th>\n",
       "      <th>5TD_return</th>\n",
       "      <th>10TD_return</th>\n",
       "      <th>20TD_return</th>\n",
       "      <th>1D_past_return</th>\n",
       "      <th>5D_past_return</th>\n",
       "      <th>10D_past_return</th>\n",
       "      <th>5D_return_bin</th>\n",
       "      <th>10D_return_bin</th>\n",
       "      <th>20D_return_bin</th>\n",
       "    </tr>\n",
       "  </thead>\n",
       "  <tbody>\n",
       "    <tr>\n",
       "      <th>0</th>\n",
       "      <td>INTC</td>\n",
       "      <td>1972-06-26</td>\n",
       "      <td>99.964229</td>\n",
       "      <td>100.0</td>\n",
       "      <td>100.0</td>\n",
       "      <td>0.0</td>\n",
       "      <td>714414509</td>\n",
       "      <td>0.000461</td>\n",
       "      <td>19.897066</td>\n",
       "      <td>99.906352</td>\n",
       "      <td>...</td>\n",
       "      <td>0.000528</td>\n",
       "      <td>0.0</td>\n",
       "      <td>0.0</td>\n",
       "      <td>0.0</td>\n",
       "      <td>0.0</td>\n",
       "      <td>0.506089</td>\n",
       "      <td>0.506089</td>\n",
       "      <td>0</td>\n",
       "      <td>0</td>\n",
       "      <td>0</td>\n",
       "    </tr>\n",
       "    <tr>\n",
       "      <th>1</th>\n",
       "      <td>INTC</td>\n",
       "      <td>1972-06-27</td>\n",
       "      <td>99.964229</td>\n",
       "      <td>100.0</td>\n",
       "      <td>100.0</td>\n",
       "      <td>0.0</td>\n",
       "      <td>720290438</td>\n",
       "      <td>0.000429</td>\n",
       "      <td>25.605326</td>\n",
       "      <td>99.906352</td>\n",
       "      <td>...</td>\n",
       "      <td>0.000755</td>\n",
       "      <td>0.0</td>\n",
       "      <td>0.0</td>\n",
       "      <td>0.0</td>\n",
       "      <td>0.0</td>\n",
       "      <td>0.506089</td>\n",
       "      <td>0.506089</td>\n",
       "      <td>0</td>\n",
       "      <td>0</td>\n",
       "      <td>0</td>\n",
       "    </tr>\n",
       "    <tr>\n",
       "      <th>2</th>\n",
       "      <td>INTC</td>\n",
       "      <td>1972-06-28</td>\n",
       "      <td>99.964229</td>\n",
       "      <td>100.0</td>\n",
       "      <td>100.0</td>\n",
       "      <td>0.0</td>\n",
       "      <td>747548205</td>\n",
       "      <td>0.000398</td>\n",
       "      <td>30.905853</td>\n",
       "      <td>99.906352</td>\n",
       "      <td>...</td>\n",
       "      <td>0.000974</td>\n",
       "      <td>0.0</td>\n",
       "      <td>0.0</td>\n",
       "      <td>0.0</td>\n",
       "      <td>0.0</td>\n",
       "      <td>0.506089</td>\n",
       "      <td>0.506089</td>\n",
       "      <td>0</td>\n",
       "      <td>0</td>\n",
       "      <td>0</td>\n",
       "    </tr>\n",
       "    <tr>\n",
       "      <th>3</th>\n",
       "      <td>INTC</td>\n",
       "      <td>1972-06-29</td>\n",
       "      <td>99.964229</td>\n",
       "      <td>100.0</td>\n",
       "      <td>100.0</td>\n",
       "      <td>0.0</td>\n",
       "      <td>754729896</td>\n",
       "      <td>0.000369</td>\n",
       "      <td>35.827771</td>\n",
       "      <td>99.906352</td>\n",
       "      <td>...</td>\n",
       "      <td>0.001173</td>\n",
       "      <td>0.0</td>\n",
       "      <td>0.0</td>\n",
       "      <td>0.0</td>\n",
       "      <td>0.0</td>\n",
       "      <td>0.000000</td>\n",
       "      <td>0.506089</td>\n",
       "      <td>0</td>\n",
       "      <td>0</td>\n",
       "      <td>0</td>\n",
       "    </tr>\n",
       "    <tr>\n",
       "      <th>4</th>\n",
       "      <td>INTC</td>\n",
       "      <td>1972-06-30</td>\n",
       "      <td>99.964229</td>\n",
       "      <td>100.0</td>\n",
       "      <td>100.0</td>\n",
       "      <td>0.0</td>\n",
       "      <td>764686322</td>\n",
       "      <td>0.000343</td>\n",
       "      <td>40.398123</td>\n",
       "      <td>99.906352</td>\n",
       "      <td>...</td>\n",
       "      <td>0.001346</td>\n",
       "      <td>0.0</td>\n",
       "      <td>0.0</td>\n",
       "      <td>0.0</td>\n",
       "      <td>0.0</td>\n",
       "      <td>0.000000</td>\n",
       "      <td>0.506089</td>\n",
       "      <td>0</td>\n",
       "      <td>0</td>\n",
       "      <td>0</td>\n",
       "    </tr>\n",
       "  </tbody>\n",
       "</table>\n",
       "<p>5 rows × 23 columns</p>\n",
       "</div>"
      ],
      "text/plain": [
       "  ticker       date        RSI  Stochastic  Stochastic_signal  ADI        OBV  \\\n",
       "0   INTC 1972-06-26  99.964229       100.0              100.0  0.0  714414509   \n",
       "1   INTC 1972-06-27  99.964229       100.0              100.0  0.0  720290438   \n",
       "2   INTC 1972-06-28  99.964229       100.0              100.0  0.0  747548205   \n",
       "3   INTC 1972-06-29  99.964229       100.0              100.0  0.0  754729896   \n",
       "4   INTC 1972-06-30  99.964229       100.0              100.0  0.0  764686322   \n",
       "\n",
       "        ATR        ADX    ADX_pos  ...  MACD_signal  5TD_return  10TD_return  \\\n",
       "0  0.000461  19.897066  99.906352  ...     0.000528         0.0          0.0   \n",
       "1  0.000429  25.605326  99.906352  ...     0.000755         0.0          0.0   \n",
       "2  0.000398  30.905853  99.906352  ...     0.000974         0.0          0.0   \n",
       "3  0.000369  35.827771  99.906352  ...     0.001173         0.0          0.0   \n",
       "4  0.000343  40.398123  99.906352  ...     0.001346         0.0          0.0   \n",
       "\n",
       "   20TD_return  1D_past_return  5D_past_return  10D_past_return  \\\n",
       "0          0.0             0.0        0.506089         0.506089   \n",
       "1          0.0             0.0        0.506089         0.506089   \n",
       "2          0.0             0.0        0.506089         0.506089   \n",
       "3          0.0             0.0        0.000000         0.506089   \n",
       "4          0.0             0.0        0.000000         0.506089   \n",
       "\n",
       "   5D_return_bin  10D_return_bin  20D_return_bin  \n",
       "0              0               0               0  \n",
       "1              0               0               0  \n",
       "2              0               0               0  \n",
       "3              0               0               0  \n",
       "4              0               0               0  \n",
       "\n",
       "[5 rows x 23 columns]"
      ]
     },
     "execution_count": 30,
     "metadata": {},
     "output_type": "execute_result"
    }
   ],
   "source": [
    "joined_df.head()"
   ]
  },
  {
   "cell_type": "code",
   "execution_count": null,
   "metadata": {
    "ExecuteTime": {
     "end_time": "2021-02-12T13:06:47.104799Z",
     "start_time": "2021-02-12T13:06:45.369Z"
    }
   },
   "outputs": [],
   "source": [
    "# Plots distribution of the input df without removing outliers\n",
    "\n",
    "joined_df[INPUT_COLS].hist(figsize=(20, 15), bins=50)\n",
    "plt.show()"
   ]
  },
  {
   "cell_type": "code",
   "execution_count": 31,
   "metadata": {
    "ExecuteTime": {
     "end_time": "2021-02-12T13:09:18.750334Z",
     "start_time": "2021-02-12T13:07:45.686821Z"
    }
   },
   "outputs": [
    {
     "name": "stdout",
     "output_type": "stream",
     "text": [
      "5 Companies in Dataset\n",
      "Starting INTC: Company 1 of 5\n",
      "Starting CTSH: Company 2 of 5\n",
      "Starting ALXN: Company 3 of 5\n",
      "Starting ILMN: Company 4 of 5\n",
      "Starting ALGN: Company 5 of 5\n",
      "All Companies Completed\n",
      "\n",
      "Processing Stats: {'INTC': {'train_possible_windows': 2569.0, 'train_outliers': 249, 'train_windows': 2320, 'test_possible_windows': 431.0, 'test_outliers': 29, 'test_windows': 402}, 'CTSH': {'train_possible_windows': 2698.0, 'train_outliers': 29, 'train_windows': 2669, 'test_possible_windows': 302.0, 'test_outliers': 29, 'test_windows': 273}, 'ALXN': {'train_possible_windows': 2698.0, 'train_outliers': 29, 'train_windows': 2669, 'test_possible_windows': 302.0, 'test_outliers': 29, 'test_windows': 273}, 'ILMN': {'train_possible_windows': 2698.0, 'train_outliers': 89, 'train_windows': 2609, 'test_possible_windows': 302.0, 'test_outliers': 29, 'test_windows': 273}, 'ALGN': {'train_possible_windows': 2698.0, 'train_outliers': 149, 'train_windows': 2549, 'test_possible_windows': 302.0, 'test_outliers': 29, 'test_windows': 273}}\n",
      "\n",
      "\n",
      "### Stats ###\n",
      "train_x (12816, 30, 13)\n",
      "train_y (12816, 1)\n",
      "test_x (1494, 30, 13)\n",
      "test_y (1494, 1)\n",
      "scaler RobustScaler(copy=True, quantile_range=(25.0, 75.0), with_centering=True,\n",
      "       with_scaling=True)\n",
      "\n",
      "\n",
      "### Validation ###\n"
     ]
    }
   ],
   "source": [
    "\n",
    "TARGET_COLS=['10D_return_bin']\n",
    "outlier_validation={'1D_past_return': [-0.3, 0.3]}\n",
    "\n",
    "stride = 1\n",
    "\n",
    "\n",
    "train_x, train_y, test_x, test_y, scaler = full_dataset_randomised_arrays_(joined_df, \n",
    "                                                                                stride=stride, \n",
    "                                                                                input_cols=INPUT_COLS, \n",
    "                                                                                outlier_threshold=1, \n",
    "                                                                                outlier_validation=outlier_validation, \n",
    "                                                                                check_train_outliers=True,\n",
    "                                                                                check_test_outliers=False, \n",
    "                                                                                target_col=TARGET_COLS, \n",
    "                                                                                time_window=30,\n",
    "                                                                                test_set_size='2Y')\n",
    "\n",
    "print('')\n",
    "print('')\n",
    "print('### Stats ###')\n",
    "print('train_x', train_x.shape)\n",
    "print('train_y', train_y.shape)\n",
    "print('test_x', test_x.shape)\n",
    "print('test_y', test_y.shape)\n",
    "print('scaler', scaler)\n",
    "\n",
    "print('')\n",
    "print('')\n",
    "print('### Validation ###')\n"
   ]
  },
  {
   "cell_type": "code",
   "execution_count": 32,
   "metadata": {
    "ExecuteTime": {
     "end_time": "2021-02-12T13:09:37.079069Z",
     "start_time": "2021-02-12T13:09:37.019483Z"
    }
   },
   "outputs": [
    {
     "name": "stderr",
     "output_type": "stream",
     "text": [
      "/home/bob/.pyenv/versions/3.7.7/envs/lewagon/lib/python3.7/site-packages/ipykernel_launcher.py:6: FutureWarning: Using a non-tuple sequence for multidimensional indexing is deprecated; use `arr[tuple(seq)]` instead of `arr[seq]`. In the future this will be interpreted as an array index, `arr[np.array(seq)]`, which will result either in an error or a different result.\n",
      "  \n"
     ]
    }
   ],
   "source": [
    "# Samples n rows of train_x\n",
    "\n",
    "indx = list(range(len(train_x)))\n",
    "sample_indx = random.sample(indx, 10000)\n",
    "X_train_sample =  train_x[[sample_indx], :][0]\n",
    "y_train_sample = train_y[[sample_indx]]"
   ]
  },
  {
   "cell_type": "code",
   "execution_count": 33,
   "metadata": {
    "ExecuteTime": {
     "end_time": "2021-02-12T13:09:40.492563Z",
     "start_time": "2021-02-12T13:09:40.486706Z"
    }
   },
   "outputs": [
    {
     "data": {
      "text/plain": [
       "(10000, 1)"
      ]
     },
     "execution_count": 33,
     "metadata": {},
     "output_type": "execute_result"
    }
   ],
   "source": [
    "y_train_sample.shape"
   ]
  },
  {
   "cell_type": "code",
   "execution_count": 34,
   "metadata": {
    "ExecuteTime": {
     "end_time": "2021-02-12T13:09:41.416520Z",
     "start_time": "2021-02-12T13:09:41.412483Z"
    }
   },
   "outputs": [
    {
     "data": {
      "text/plain": [
       "(1494, 1)"
      ]
     },
     "execution_count": 34,
     "metadata": {},
     "output_type": "execute_result"
    }
   ],
   "source": [
    "test_y.shape"
   ]
  },
  {
   "cell_type": "code",
   "execution_count": 55,
   "metadata": {
    "ExecuteTime": {
     "end_time": "2021-02-12T17:42:16.300180Z",
     "start_time": "2021-02-12T17:42:16.277492Z"
    }
   },
   "outputs": [],
   "source": [
    "from tensorflow.keras.metrics import Precision\n",
    "from tensorflow.keras import regularizers\n",
    "from tensorflow.keras import Sequential\n",
    "from tensorflow.keras import layers, models \n",
    "from tensorflow.keras.optimizers import RMSprop, Adam, Adamax\n",
    "\n",
    "optim = RMSprop(learning_rate=0.0001)\n",
    "precision = Precision()\n",
    "\n",
    "def init_model():\n",
    "    model = Sequential()\n",
    "    reg_l1 = regularizers.l1(0.001)\n",
    "    reg_l2 = regularizers.l2(0.001)\n",
    "    reg_l1_l2 = regularizers.l1_l2(l1=0.001, l2=0.001)\n",
    "    model.add(layers.LSTM(200, return_sequences=True, input_shape=(30,13), activation='tanh'))\n",
    "    model.add(layers.LSTM(200, activation='tanh'))\n",
    "    model.add(layers.Dropout(0.3))\n",
    "    #model.add(layers.BatchNormalization())\n",
    "    model.add(layers.Dense(200, activation='relu', kernel_regularizer=reg_l1))\n",
    "    model.add(layers.Dropout(0.3))\n",
    "    model.add(layers.Dense(100, activation='relu', bias_regularizer=reg_l2))\n",
    "    model.add(layers.Dropout(0.3))\n",
    "    model.add(layers.Dense(50, activation='relu', activity_regularizer=reg_l1_l2))\n",
    "    model.add(layers.Dense(1, activation='sigmoid'))\n",
    "\n",
    "    model.compile(loss='binary_crossentropy', optimizer=optim, metrics=[precision, 'accuracy'])\n",
    "    \n",
    "    return model"
   ]
  },
  {
   "cell_type": "code",
   "execution_count": 56,
   "metadata": {
    "ExecuteTime": {
     "end_time": "2021-02-12T18:20:04.224298Z",
     "start_time": "2021-02-12T17:42:17.274364Z"
    },
    "scrolled": true
   },
   "outputs": [
    {
     "name": "stdout",
     "output_type": "stream",
     "text": [
      "Epoch 1/500\n",
      "641/641 [==============================] - 53s 82ms/step - loss: 2.2794 - precision_4: 0.5486 - accuracy: 0.5510 - val_loss: 1.5872 - val_precision_4: 0.5613 - val_accuracy: 0.5675\n",
      "Epoch 2/500\n",
      "641/641 [==============================] - 54s 84ms/step - loss: 1.1885 - precision_4: 0.5603 - accuracy: 0.5627 - val_loss: 0.8960 - val_precision_4: 0.5735 - val_accuracy: 0.5792\n",
      "Epoch 3/500\n",
      "641/641 [==============================] - 55s 85ms/step - loss: 0.7934 - precision_4: 0.5686 - accuracy: 0.5714 - val_loss: 0.7334 - val_precision_4: 0.5763 - val_accuracy: 0.5815\n",
      "Epoch 4/500\n",
      "641/641 [==============================] - 54s 85ms/step - loss: 0.7179 - precision_4: 0.5754 - accuracy: 0.5808 - val_loss: 0.7049 - val_precision_4: 0.5806 - val_accuracy: 0.5776\n",
      "Epoch 5/500\n",
      "641/641 [==============================] - 55s 85ms/step - loss: 0.6991 - precision_4: 0.5802 - accuracy: 0.5885 - val_loss: 0.6943 - val_precision_4: 0.5832 - val_accuracy: 0.5811\n",
      "Epoch 6/500\n",
      "641/641 [==============================] - 55s 86ms/step - loss: 0.6897 - precision_4: 0.5825 - accuracy: 0.5929 - val_loss: 0.6877 - val_precision_4: 0.5956 - val_accuracy: 0.6006\n",
      "Epoch 7/500\n",
      "641/641 [==============================] - 53s 83ms/step - loss: 0.6840 - precision_4: 0.5872 - accuracy: 0.5992 - val_loss: 0.6848 - val_precision_4: 0.6000 - val_accuracy: 0.6092\n",
      "Epoch 8/500\n",
      "641/641 [==============================] - 52s 81ms/step - loss: 0.6773 - precision_4: 0.5912 - accuracy: 0.6058 - val_loss: 0.6812 - val_precision_4: 0.5922 - val_accuracy: 0.6061\n",
      "Epoch 9/500\n",
      "641/641 [==============================] - 52s 81ms/step - loss: 0.6735 - precision_4: 0.5972 - accuracy: 0.6138 - val_loss: 0.6725 - val_precision_4: 0.5988 - val_accuracy: 0.6174\n",
      "Epoch 10/500\n",
      "641/641 [==============================] - 52s 81ms/step - loss: 0.6656 - precision_4: 0.6064 - accuracy: 0.6239 - val_loss: 0.6764 - val_precision_4: 0.6194 - val_accuracy: 0.6166\n",
      "Epoch 11/500\n",
      "641/641 [==============================] - 52s 81ms/step - loss: 0.6588 - precision_4: 0.6170 - accuracy: 0.6322 - val_loss: 0.6610 - val_precision_4: 0.6145 - val_accuracy: 0.6314\n",
      "Epoch 12/500\n",
      "641/641 [==============================] - 52s 81ms/step - loss: 0.6522 - precision_4: 0.6261 - accuracy: 0.6380 - val_loss: 0.6560 - val_precision_4: 0.6391 - val_accuracy: 0.6416\n",
      "Epoch 13/500\n",
      "641/641 [==============================] - 52s 81ms/step - loss: 0.6450 - precision_4: 0.6401 - accuracy: 0.6496 - val_loss: 0.6593 - val_precision_4: 0.6226 - val_accuracy: 0.6431\n",
      "Epoch 14/500\n",
      "641/641 [==============================] - 52s 81ms/step - loss: 0.6343 - precision_4: 0.6499 - accuracy: 0.6629 - val_loss: 0.6496 - val_precision_4: 0.6327 - val_accuracy: 0.6404\n",
      "Epoch 15/500\n",
      "641/641 [==============================] - 52s 81ms/step - loss: 0.6280 - precision_4: 0.6582 - accuracy: 0.6695 - val_loss: 0.6400 - val_precision_4: 0.6290 - val_accuracy: 0.6416\n",
      "Epoch 16/500\n",
      "641/641 [==============================] - 52s 81ms/step - loss: 0.6176 - precision_4: 0.6659 - accuracy: 0.6782 - val_loss: 0.6345 - val_precision_4: 0.6530 - val_accuracy: 0.6595\n",
      "Epoch 17/500\n",
      "641/641 [==============================] - 52s 81ms/step - loss: 0.6118 - precision_4: 0.6748 - accuracy: 0.6804 - val_loss: 0.6264 - val_precision_4: 0.6851 - val_accuracy: 0.6654\n",
      "Epoch 18/500\n",
      "641/641 [==============================] - 52s 81ms/step - loss: 0.5998 - precision_4: 0.6846 - accuracy: 0.6884 - val_loss: 0.6169 - val_precision_4: 0.6683 - val_accuracy: 0.6743\n",
      "Epoch 19/500\n",
      "641/641 [==============================] - 52s 81ms/step - loss: 0.5907 - precision_4: 0.6928 - accuracy: 0.6992 - val_loss: 0.6162 - val_precision_4: 0.6844 - val_accuracy: 0.6704\n",
      "Epoch 20/500\n",
      "641/641 [==============================] - 52s 81ms/step - loss: 0.5814 - precision_4: 0.7065 - accuracy: 0.7119 - val_loss: 0.6265 - val_precision_4: 0.7081 - val_accuracy: 0.6681\n",
      "Epoch 21/500\n",
      "641/641 [==============================] - 52s 81ms/step - loss: 0.5730 - precision_4: 0.7160 - accuracy: 0.7190 - val_loss: 0.5906 - val_precision_4: 0.6868 - val_accuracy: 0.6985\n",
      "Epoch 22/500\n",
      "641/641 [==============================] - 52s 81ms/step - loss: 0.5623 - precision_4: 0.7210 - accuracy: 0.7247 - val_loss: 0.5916 - val_precision_4: 0.7024 - val_accuracy: 0.7075\n",
      "Epoch 23/500\n",
      "641/641 [==============================] - 52s 81ms/step - loss: 0.5506 - precision_4: 0.7332 - accuracy: 0.7343 - val_loss: 0.5886 - val_precision_4: 0.7279 - val_accuracy: 0.7028\n",
      "Epoch 24/500\n",
      "641/641 [==============================] - 52s 82ms/step - loss: 0.5409 - precision_4: 0.7374 - accuracy: 0.7429 - val_loss: 0.5605 - val_precision_4: 0.7314 - val_accuracy: 0.7313\n",
      "Epoch 25/500\n",
      "641/641 [==============================] - 52s 81ms/step - loss: 0.5284 - precision_4: 0.7456 - accuracy: 0.7520 - val_loss: 0.5612 - val_precision_4: 0.7234 - val_accuracy: 0.7250\n",
      "Epoch 26/500\n",
      "641/641 [==============================] - 52s 82ms/step - loss: 0.5206 - precision_4: 0.7546 - accuracy: 0.7558 - val_loss: 0.5809 - val_precision_4: 0.7375 - val_accuracy: 0.7321\n",
      "Epoch 27/500\n",
      "641/641 [==============================] - 53s 82ms/step - loss: 0.5073 - precision_4: 0.7664 - accuracy: 0.7684 - val_loss: 0.5952 - val_precision_4: 0.7010 - val_accuracy: 0.7254\n",
      "Epoch 28/500\n",
      "641/641 [==============================] - 52s 82ms/step - loss: 0.4946 - precision_4: 0.7719 - accuracy: 0.7756 - val_loss: 0.5418 - val_precision_4: 0.7651 - val_accuracy: 0.7559\n",
      "Epoch 29/500\n",
      "641/641 [==============================] - 53s 82ms/step - loss: 0.4814 - precision_4: 0.7884 - accuracy: 0.7864 - val_loss: 0.5621 - val_precision_4: 0.7524 - val_accuracy: 0.7512\n",
      "Epoch 30/500\n",
      "641/641 [==============================] - 52s 82ms/step - loss: 0.4776 - precision_4: 0.7875 - accuracy: 0.7877 - val_loss: 0.5478 - val_precision_4: 0.7542 - val_accuracy: 0.7570\n",
      "Epoch 31/500\n",
      "641/641 [==============================] - 52s 82ms/step - loss: 0.4649 - precision_4: 0.8000 - accuracy: 0.8002 - val_loss: 0.5629 - val_precision_4: 0.7975 - val_accuracy: 0.7426\n",
      "Epoch 32/500\n",
      "641/641 [==============================] - 52s 82ms/step - loss: 0.4529 - precision_4: 0.8100 - accuracy: 0.8080 - val_loss: 0.5041 - val_precision_4: 0.7895 - val_accuracy: 0.7835\n",
      "Epoch 33/500\n",
      "641/641 [==============================] - 52s 82ms/step - loss: 0.4409 - precision_4: 0.8191 - accuracy: 0.8143 - val_loss: 0.5165 - val_precision_4: 0.7915 - val_accuracy: 0.7726\n",
      "Epoch 34/500\n",
      "641/641 [==============================] - 52s 81ms/step - loss: 0.4313 - precision_4: 0.8291 - accuracy: 0.8211 - val_loss: 0.5040 - val_precision_4: 0.7893 - val_accuracy: 0.7851\n",
      "Epoch 35/500\n",
      "641/641 [==============================] - 52s 82ms/step - loss: 0.4158 - precision_4: 0.8329 - accuracy: 0.8299 - val_loss: 0.4780 - val_precision_4: 0.8188 - val_accuracy: 0.8007\n",
      "Epoch 36/500\n",
      "641/641 [==============================] - 52s 82ms/step - loss: 0.4058 - precision_4: 0.8388 - accuracy: 0.8333 - val_loss: 0.4895 - val_precision_4: 0.8135 - val_accuracy: 0.7976\n",
      "Epoch 37/500\n",
      "641/641 [==============================] - 52s 82ms/step - loss: 0.3960 - precision_4: 0.8482 - accuracy: 0.8402 - val_loss: 0.4943 - val_precision_4: 0.7911 - val_accuracy: 0.7976\n",
      "Epoch 38/500\n",
      "641/641 [==============================] - 53s 82ms/step - loss: 0.3835 - precision_4: 0.8535 - accuracy: 0.8480 - val_loss: 0.4551 - val_precision_4: 0.8304 - val_accuracy: 0.8233\n",
      "Epoch 39/500\n",
      "641/641 [==============================] - 53s 82ms/step - loss: 0.3719 - precision_4: 0.8622 - accuracy: 0.8565 - val_loss: 0.4951 - val_precision_4: 0.8395 - val_accuracy: 0.8050\n",
      "Epoch 40/500\n",
      "641/641 [==============================] - 53s 82ms/step - loss: 0.3654 - precision_4: 0.8668 - accuracy: 0.8622 - val_loss: 0.4849 - val_precision_4: 0.8162 - val_accuracy: 0.8120\n",
      "Epoch 41/500\n",
      "641/641 [==============================] - 52s 82ms/step - loss: 0.3536 - precision_4: 0.8690 - accuracy: 0.8652 - val_loss: 0.4731 - val_precision_4: 0.8331 - val_accuracy: 0.8105\n",
      "Epoch 42/500\n",
      "641/641 [==============================] - 53s 82ms/step - loss: 0.3454 - precision_4: 0.8784 - accuracy: 0.8733 - val_loss: 0.4582 - val_precision_4: 0.8494 - val_accuracy: 0.8311\n",
      "Epoch 43/500\n"
     ]
    },
    {
     "name": "stdout",
     "output_type": "stream",
     "text": [
      "641/641 [==============================] - 52s 81ms/step - loss: 0.3386 - precision_4: 0.8794 - accuracy: 0.8766 - val_loss: 0.4609 - val_precision_4: 0.8449 - val_accuracy: 0.8261\n"
     ]
    },
    {
     "data": {
      "text/plain": [
       "<tensorflow.python.keras.callbacks.History at 0x7fa82c40b290>"
      ]
     },
     "execution_count": 56,
     "metadata": {},
     "output_type": "execute_result"
    }
   ],
   "source": [
    "model = init_model()\n",
    "\n",
    "from tensorflow.keras.callbacks import EarlyStopping\n",
    "\n",
    "es = EarlyStopping(patience=5, restore_best_weights=True)\n",
    "\n",
    "model.fit(train_x, train_y, \n",
    "          epochs=500, \n",
    "          batch_size=16,\n",
    "          validation_split=0.2,\n",
    "          callbacks=[es])"
   ]
  },
  {
   "cell_type": "code",
   "execution_count": 57,
   "metadata": {
    "ExecuteTime": {
     "end_time": "2021-02-12T18:20:05.092522Z",
     "start_time": "2021-02-12T18:20:05.087514Z"
    }
   },
   "outputs": [
    {
     "data": {
      "text/plain": [
       "0.5372191011235955"
      ]
     },
     "execution_count": 57,
     "metadata": {},
     "output_type": "execute_result"
    }
   ],
   "source": [
    "train_y.sum()/len(train_y)"
   ]
  },
  {
   "cell_type": "code",
   "execution_count": 58,
   "metadata": {
    "ExecuteTime": {
     "end_time": "2021-02-12T18:20:05.929251Z",
     "start_time": "2021-02-12T18:20:05.923985Z"
    }
   },
   "outputs": [
    {
     "data": {
      "text/plain": [
       "0.5414993306559571"
      ]
     },
     "execution_count": 58,
     "metadata": {},
     "output_type": "execute_result"
    }
   ],
   "source": [
    "test_y.sum()/len(test_y)"
   ]
  },
  {
   "cell_type": "code",
   "execution_count": 59,
   "metadata": {
    "ExecuteTime": {
     "end_time": "2021-02-12T18:24:30.346436Z",
     "start_time": "2021-02-12T18:24:28.745372Z"
    }
   },
   "outputs": [
    {
     "name": "stdout",
     "output_type": "stream",
     "text": [
      "47/47 [==============================] - 2s 32ms/step - loss: 1.4126 - precision_4: 0.5267 - accuracy: 0.4893\n"
     ]
    },
    {
     "data": {
      "text/plain": [
       "[1.4125611782073975, 0.5266821384429932, 0.4892905056476593]"
      ]
     },
     "execution_count": 59,
     "metadata": {},
     "output_type": "execute_result"
    }
   ],
   "source": [
    "model.evaluate(test_x, test_y)"
   ]
  },
  {
   "cell_type": "code",
   "execution_count": null,
   "metadata": {},
   "outputs": [],
   "source": []
  }
 ],
 "metadata": {
  "kernelspec": {
   "display_name": "Python 3",
   "language": "python",
   "name": "python3"
  },
  "language_info": {
   "codemirror_mode": {
    "name": "ipython",
    "version": 3
   },
   "file_extension": ".py",
   "mimetype": "text/x-python",
   "name": "python",
   "nbconvert_exporter": "python",
   "pygments_lexer": "ipython3",
   "version": "3.7.7"
  },
  "toc": {
   "base_numbering": 1,
   "nav_menu": {},
   "number_sections": true,
   "sideBar": true,
   "skip_h1_title": false,
   "title_cell": "Table of Contents",
   "title_sidebar": "Contents",
   "toc_cell": false,
   "toc_position": {
    "height": "calc(100% - 180px)",
    "left": "10px",
    "top": "150px",
    "width": "210.2px"
   },
   "toc_section_display": true,
   "toc_window_display": false
  },
  "varInspector": {
   "cols": {
    "lenName": 16,
    "lenType": 16,
    "lenVar": 40
   },
   "kernels_config": {
    "python": {
     "delete_cmd_postfix": "",
     "delete_cmd_prefix": "del ",
     "library": "var_list.py",
     "varRefreshCmd": "print(var_dic_list())"
    },
    "r": {
     "delete_cmd_postfix": ") ",
     "delete_cmd_prefix": "rm(",
     "library": "var_list.r",
     "varRefreshCmd": "cat(var_dic_list()) "
    }
   },
   "types_to_exclude": [
    "module",
    "function",
    "builtin_function_or_method",
    "instance",
    "_Feature"
   ],
   "window_display": false
  }
 },
 "nbformat": 4,
 "nbformat_minor": 4
}
